{
 "cells": [
  {
   "cell_type": "markdown",
   "id": "e60ea99f-f3b4-4784-b83f-6ded8c2462cd",
   "metadata": {
    "tags": []
   },
   "source": [
    "![title](images/header.png)\n",
    "\n",
    "# Vb - Supervised Subsampling with CAFI data\n",
    "-------\n",
    "this notebook performs a supervised classification of probability of forest change using the merged eSBAE and CEO data trained on the interpreted data from CAFI DDD phase I (2015-2020).  \n",
    "The change probability is then divided into 3 strata using kmeans\n",
    "The modeled data are exported to csv for the following script to extract samples for validation in CEO.\n",
    "\n",
    "This script requires an m16 or r16 instance to run\n",
    "###### For more information contact aurelie.shapiro@fao.org or remi.dannunzio@fao.org"
   ]
  },
  {
   "cell_type": "code",
   "execution_count": 86,
   "id": "49bef791-a379-47b8-8437-fdb297ccb002",
   "metadata": {
    "tags": []
   },
   "outputs": [
    {
     "data": {
      "text/html": [
       "\n",
       "            <style>\n",
       "                .geemap-dark {\n",
       "                    --jp-widgets-color: white;\n",
       "                    --jp-widgets-label-color: white;\n",
       "                    --jp-ui-font-color1: white;\n",
       "                    --jp-layout-color2: #454545;\n",
       "                    background-color: #383838;\n",
       "                }\n",
       "                    \n",
       "                .geemap-dark .jupyter-button {\n",
       "                    --jp-layout-color3: #383838;\n",
       "                }\n",
       "                \n",
       "                .geemap-colab {\n",
       "                    background-color: var(--colab-primary-surface-color, white);\n",
       "                }\n",
       "                    \n",
       "                .geemap-colab .jupyter-button {\n",
       "                    --jp-layout-color3: var(--colab-primary-surface-color, white);\n",
       "                }\n",
       "            </style>\n",
       "            "
      ],
      "text/plain": [
       "<IPython.core.display.HTML object>"
      ]
     },
     "metadata": {},
     "output_type": "display_data"
    }
   ],
   "source": [
    "from pathlib import Path\n",
    "\n",
    "import numpy as np\n",
    "import pandas as pd\n",
    "import geopandas as gpd\n",
    "import uuid\n",
    "from matplotlib import pyplot as plt\n",
    "\n",
    "from sampling_handler.misc import py_helpers\n",
    "from sampling_handler.ensemble import classification as clf\n",
    "from sampling_handler.ensemble import helpers as h\n",
    "from sampling_handler.sampling import sfc\n",
    "from sampling_handler import KMeansSubSampling\n",
    "\n",
    "\n",
    "import geopandas\n",
    "import rasterio\n",
    "import matplotlib.pyplot as plt\n",
    "from shapely.geometry import Point"
   ]
  },
  {
   "cell_type": "markdown",
   "id": "9035ba9c-a02c-466b-8fb8-842713a0399a",
   "metadata": {},
   "source": [
    "# 1 - CEO data preparation\n",
    "\n",
    "### 1.1 - Import CEO interpreted data\n",
    "Import the CEO validated data from CAFI DDD first phase\n",
    "\n",
    "13,115 points, randomly distributed over CAFI, with interpretation"
   ]
  },
  {
   "cell_type": "code",
   "execution_count": 87,
   "id": "0bc9c0ec-0d54-4dac-a0e8-e81a7fe5cd4b",
   "metadata": {
    "tags": []
   },
   "outputs": [
    {
     "data": {
      "text/html": [
       "\n",
       "            <style>\n",
       "                .geemap-dark {\n",
       "                    --jp-widgets-color: white;\n",
       "                    --jp-widgets-label-color: white;\n",
       "                    --jp-ui-font-color1: white;\n",
       "                    --jp-layout-color2: #454545;\n",
       "                    background-color: #383838;\n",
       "                }\n",
       "                    \n",
       "                .geemap-dark .jupyter-button {\n",
       "                    --jp-layout-color3: #383838;\n",
       "                }\n",
       "                \n",
       "                .geemap-colab {\n",
       "                    background-color: var(--colab-primary-surface-color, white);\n",
       "                }\n",
       "                    \n",
       "                .geemap-colab .jupyter-button {\n",
       "                    --jp-layout-color3: var(--colab-primary-surface-color, white);\n",
       "                }\n",
       "            </style>\n",
       "            "
      ],
      "text/plain": [
       "<IPython.core.display.HTML object>"
      ]
     },
     "metadata": {},
     "output_type": "display_data"
    },
    {
     "data": {
      "text/html": [
       "<div>\n",
       "<style scoped>\n",
       "    .dataframe tbody tr th:only-of-type {\n",
       "        vertical-align: middle;\n",
       "    }\n",
       "\n",
       "    .dataframe tbody tr th {\n",
       "        vertical-align: top;\n",
       "    }\n",
       "\n",
       "    .dataframe thead th {\n",
       "        text-align: right;\n",
       "    }\n",
       "</style>\n",
       "<table border=\"1\" class=\"dataframe\">\n",
       "  <thead>\n",
       "    <tr style=\"text-align: right;\">\n",
       "      <th></th>\n",
       "      <th>OID_</th>\n",
       "      <th>PLOTID</th>\n",
       "      <th>CEO_PLOTID</th>\n",
       "      <th>LON</th>\n",
       "      <th>LAT</th>\n",
       "      <th>ISO</th>\n",
       "      <th>CEO_Ref_Co</th>\n",
       "      <th>Ref_FNF</th>\n",
       "      <th>Ref_LCover</th>\n",
       "      <th>Ref_Change</th>\n",
       "      <th>...</th>\n",
       "      <th>Ref_IndAg</th>\n",
       "      <th>Ref_ArtFor</th>\n",
       "      <th>Ref_IndFor</th>\n",
       "      <th>Ref_ArtMin</th>\n",
       "      <th>Ref_IndMin</th>\n",
       "      <th>Ref_Other</th>\n",
       "      <th>Source</th>\n",
       "      <th>Ref_ChDate</th>\n",
       "      <th>Change_Bin</th>\n",
       "      <th>UniqueID</th>\n",
       "    </tr>\n",
       "  </thead>\n",
       "  <tbody>\n",
       "    <tr>\n",
       "      <th>0</th>\n",
       "      <td>0</td>\n",
       "      <td>311</td>\n",
       "      <td>NaN</td>\n",
       "      <td>25.602120</td>\n",
       "      <td>-11.691888</td>\n",
       "      <td>COD</td>\n",
       "      <td>147</td>\n",
       "      <td>1</td>\n",
       "      <td>11</td>\n",
       "      <td>Deg</td>\n",
       "      <td>...</td>\n",
       "      <td>0</td>\n",
       "      <td>1</td>\n",
       "      <td>0</td>\n",
       "      <td>0</td>\n",
       "      <td>0</td>\n",
       "      <td>0</td>\n",
       "      <td>ceo</td>\n",
       "      <td>Deg_2018</td>\n",
       "      <td>1</td>\n",
       "      <td>1</td>\n",
       "    </tr>\n",
       "    <tr>\n",
       "      <th>1</th>\n",
       "      <td>1</td>\n",
       "      <td>53</td>\n",
       "      <td>NaN</td>\n",
       "      <td>19.012978</td>\n",
       "      <td>6.404943</td>\n",
       "      <td>CAF</td>\n",
       "      <td>149</td>\n",
       "      <td>1</td>\n",
       "      <td>11</td>\n",
       "      <td>Deg</td>\n",
       "      <td>...</td>\n",
       "      <td>0</td>\n",
       "      <td>1</td>\n",
       "      <td>0</td>\n",
       "      <td>0</td>\n",
       "      <td>0</td>\n",
       "      <td>0</td>\n",
       "      <td>ceo</td>\n",
       "      <td>Deg_2020</td>\n",
       "      <td>1</td>\n",
       "      <td>2</td>\n",
       "    </tr>\n",
       "    <tr>\n",
       "      <th>2</th>\n",
       "      <td>2</td>\n",
       "      <td>47</td>\n",
       "      <td>NaN</td>\n",
       "      <td>22.791831</td>\n",
       "      <td>7.078410</td>\n",
       "      <td>CAF</td>\n",
       "      <td>149</td>\n",
       "      <td>1</td>\n",
       "      <td>11</td>\n",
       "      <td>Deg</td>\n",
       "      <td>...</td>\n",
       "      <td>0</td>\n",
       "      <td>1</td>\n",
       "      <td>0</td>\n",
       "      <td>0</td>\n",
       "      <td>0</td>\n",
       "      <td>0</td>\n",
       "      <td>ceo</td>\n",
       "      <td>Deg_2020</td>\n",
       "      <td>1</td>\n",
       "      <td>3</td>\n",
       "    </tr>\n",
       "    <tr>\n",
       "      <th>3</th>\n",
       "      <td>3</td>\n",
       "      <td>279</td>\n",
       "      <td>NaN</td>\n",
       "      <td>27.430102</td>\n",
       "      <td>-6.534839</td>\n",
       "      <td>COD</td>\n",
       "      <td>11</td>\n",
       "      <td>1</td>\n",
       "      <td>11</td>\n",
       "      <td>Stable</td>\n",
       "      <td>...</td>\n",
       "      <td>0</td>\n",
       "      <td>0</td>\n",
       "      <td>0</td>\n",
       "      <td>0</td>\n",
       "      <td>0</td>\n",
       "      <td>0</td>\n",
       "      <td>ceo</td>\n",
       "      <td>Stable</td>\n",
       "      <td>0</td>\n",
       "      <td>4</td>\n",
       "    </tr>\n",
       "    <tr>\n",
       "      <th>4</th>\n",
       "      <td>4</td>\n",
       "      <td>224</td>\n",
       "      <td>NaN</td>\n",
       "      <td>22.212148</td>\n",
       "      <td>-9.940982</td>\n",
       "      <td>COD</td>\n",
       "      <td>11</td>\n",
       "      <td>1</td>\n",
       "      <td>11</td>\n",
       "      <td>Stable</td>\n",
       "      <td>...</td>\n",
       "      <td>0</td>\n",
       "      <td>0</td>\n",
       "      <td>0</td>\n",
       "      <td>0</td>\n",
       "      <td>0</td>\n",
       "      <td>0</td>\n",
       "      <td>ceo</td>\n",
       "      <td>Stable</td>\n",
       "      <td>0</td>\n",
       "      <td>5</td>\n",
       "    </tr>\n",
       "  </tbody>\n",
       "</table>\n",
       "<p>5 rows × 25 columns</p>\n",
       "</div>"
      ],
      "text/plain": [
       "   OID_  PLOTID CEO_PLOTID        LON        LAT  ISO  CEO_Ref_Co  Ref_FNF  \\\n",
       "0     0     311        NaN  25.602120 -11.691888  COD         147        1   \n",
       "1     1      53        NaN  19.012978   6.404943  CAF         149        1   \n",
       "2     2      47        NaN  22.791831   7.078410  CAF         149        1   \n",
       "3     3     279        NaN  27.430102  -6.534839  COD          11        1   \n",
       "4     4     224        NaN  22.212148  -9.940982  COD          11        1   \n",
       "\n",
       "   Ref_LCover Ref_Change  ...  Ref_IndAg  Ref_ArtFor  Ref_IndFor  Ref_ArtMin  \\\n",
       "0          11        Deg  ...          0           1           0           0   \n",
       "1          11        Deg  ...          0           1           0           0   \n",
       "2          11        Deg  ...          0           1           0           0   \n",
       "3          11     Stable  ...          0           0           0           0   \n",
       "4          11     Stable  ...          0           0           0           0   \n",
       "\n",
       "   Ref_IndMin  Ref_Other  Source  Ref_ChDate  Change_Bin  UniqueID  \n",
       "0           0          0     ceo    Deg_2018           1         1  \n",
       "1           0          0     ceo    Deg_2020           1         2  \n",
       "2           0          0     ceo    Deg_2020           1         3  \n",
       "3           0          0     ceo      Stable           0         4  \n",
       "4           0          0     ceo      Stable           0         5  \n",
       "\n",
       "[5 rows x 25 columns]"
      ]
     },
     "execution_count": 87,
     "metadata": {},
     "output_type": "execute_result"
    }
   ],
   "source": [
    "# this file is available here: https://drive.google.com/file/d/1D1tkVVhKv6QNCQhLLfRo7eqz0VO3XZZF/view?usp=sharing\n",
    "# unzip and upload to your SEPAL workspace using Filezilla\n",
    "trn_ceo = pd.read_csv('/home/sepal-user/CAFI_DDD/all_ceo_validation_TMF_2023_uniqueID.csv', delimiter=',')\n",
    "#trn_ceo = pd.read_csv('/home/sepal-user/data/validation/all_ceo_validation.csv', delimiter=',')\n",
    "trn_ceo.head()"
   ]
  },
  {
   "cell_type": "markdown",
   "id": "9b6aca54-c082-461c-8c42-2a5b7d9c7d27",
   "metadata": {},
   "source": [
    "### Load the corresponding augmented data set into a GDF"
   ]
  },
  {
   "cell_type": "code",
   "execution_count": 88,
   "id": "bf822b4a-3936-4862-b613-166b6ddf236e",
   "metadata": {
    "tags": []
   },
   "outputs": [
    {
     "data": {
      "text/html": [
       "\n",
       "            <style>\n",
       "                .geemap-dark {\n",
       "                    --jp-widgets-color: white;\n",
       "                    --jp-widgets-label-color: white;\n",
       "                    --jp-ui-font-color1: white;\n",
       "                    --jp-layout-color2: #454545;\n",
       "                    background-color: #383838;\n",
       "                }\n",
       "                    \n",
       "                .geemap-dark .jupyter-button {\n",
       "                    --jp-layout-color3: #383838;\n",
       "                }\n",
       "                \n",
       "                .geemap-colab {\n",
       "                    background-color: var(--colab-primary-surface-color, white);\n",
       "                }\n",
       "                    \n",
       "                .geemap-colab .jupyter-button {\n",
       "                    --jp-layout-color3: var(--colab-primary-surface-color, white);\n",
       "                }\n",
       "            </style>\n",
       "            "
      ],
      "text/plain": [
       "<IPython.core.display.HTML object>"
      ]
     },
     "metadata": {},
     "output_type": "display_data"
    },
    {
     "data": {
      "text/plain": [
       "Index(['geometry', 'UniqueID', 'dates', 'ts', 'images', 'mon_images',\n",
       "       'bfast_change_date', 'bfast_magnitude', 'bfast_means',\n",
       "       'cusum_change_date', 'cusum_confidence', 'cusum_magnitude', 'red_mean',\n",
       "       'red_sd', 'red_min', 'red_max', 'nir_mean', 'nir_sd', 'nir_min',\n",
       "       'nir_max', 'swir1_mean', 'swir1_sd', 'swir1_min', 'swir1_max',\n",
       "       'swir2_mean', 'swir2_sd', 'swir2_min', 'swir2_max', 'ndfi_mean',\n",
       "       'ndfi_sd', 'ndfi_min', 'ndfi_max', 'brightness_mean', 'brightness_sd',\n",
       "       'brightness_min', 'brightness_max', 'greenness_mean', 'greenness_sd',\n",
       "       'greenness_min', 'greenness_max', 'wetness_mean', 'wetness_sd',\n",
       "       'wetness_min', 'wetness_max', 'bs_slope_mean', 'bs_slope_sd',\n",
       "       'bs_slope_max', 'bs_slope_min', 'ccdc_change_date', 'ccdc_magnitude',\n",
       "       'aspect', 'dw_class_mode', 'dw_tree_prob__max', 'dw_tree_prob__min',\n",
       "       'dw_tree_prob__stdDev', 'dw_tree_prob_mean', 'elevation', 'esa_lc20',\n",
       "       'esa_lc21', 'esri_lc17', 'esri_lc18', 'esri_lc19', 'esri_lc20',\n",
       "       'esri_lc21', 'gfc_gain', 'gfc_loss', 'gfc_lossyear', 'gfc_tc00',\n",
       "       'lang_tree_height', 'potapov_tree_height', 'slope', 'tmf_2016',\n",
       "       'tmf_2017', 'tmf_2018', 'tmf_2019', 'tmf_2020', 'tmf_defyear',\n",
       "       'tmf_degyear', 'tmf_main', 'tmf_sub'],\n",
       "      dtype='object')"
      ]
     },
     "execution_count": 88,
     "metadata": {},
     "output_type": "execute_result"
    }
   ],
   "source": [
    "# this geojson file can be downloaded here: https://drive.google.com/file/d/1fEDJSnHVR8AqmqPKbeOvVtRGvrdieYwm/view?usp=sharing\n",
    "# unzip and upload to your SEPAL workspace using FileZilla\n",
    "trn_gdf = py_helpers.geojson_to_gdf('/home/sepal-user/module_results/esbae/CAFI/CAFI_esbae.geojson')\n",
    "trn_gdf.columns"
   ]
  },
  {
   "cell_type": "code",
   "execution_count": 89,
   "id": "ce522d0c-aef5-4d3e-a6cd-e2af0eca71d8",
   "metadata": {
    "tags": []
   },
   "outputs": [
    {
     "data": {
      "text/html": [
       "\n",
       "            <style>\n",
       "                .geemap-dark {\n",
       "                    --jp-widgets-color: white;\n",
       "                    --jp-widgets-label-color: white;\n",
       "                    --jp-ui-font-color1: white;\n",
       "                    --jp-layout-color2: #454545;\n",
       "                    background-color: #383838;\n",
       "                }\n",
       "                    \n",
       "                .geemap-dark .jupyter-button {\n",
       "                    --jp-layout-color3: #383838;\n",
       "                }\n",
       "                \n",
       "                .geemap-colab {\n",
       "                    background-color: var(--colab-primary-surface-color, white);\n",
       "                }\n",
       "                    \n",
       "                .geemap-colab .jupyter-button {\n",
       "                    --jp-layout-color3: var(--colab-primary-surface-color, white);\n",
       "                }\n",
       "            </style>\n",
       "            "
      ],
      "text/plain": [
       "<IPython.core.display.HTML object>"
      ]
     },
     "metadata": {},
     "output_type": "display_data"
    }
   ],
   "source": [
    "cols_to_export = ['geometry', 'UniqueID',\n",
    "                  #'dates', 'ts',\n",
    "                  'images', 'mon_images',\n",
    "       'bfast_change_date', 'bfast_magnitude', 'bfast_means',\n",
    "       'cusum_change_date', 'cusum_confidence', 'cusum_magnitude', 'red_mean',\n",
    "       'red_sd', 'red_min', 'red_max', 'nir_mean', 'nir_sd', 'nir_min',\n",
    "       'nir_max', 'swir1_mean', 'swir1_sd', 'swir1_min', 'swir1_max',\n",
    "       'swir2_mean', 'swir2_sd', 'swir2_min', 'swir2_max', 'ndfi_mean',\n",
    "       'ndfi_sd', 'ndfi_min', 'ndfi_max', 'brightness_mean', 'brightness_sd',\n",
    "       'brightness_min', 'brightness_max', 'greenness_mean', 'greenness_sd',\n",
    "       'greenness_min', 'greenness_max', 'wetness_mean', 'wetness_sd',\n",
    "       'wetness_min', 'wetness_max', 'bs_slope_mean', 'bs_slope_sd',\n",
    "       'bs_slope_max', 'bs_slope_min', 'ccdc_change_date', 'ccdc_magnitude',\n",
    "       'aspect', 'dw_class_mode', 'dw_tree_prob__max', 'dw_tree_prob__min',\n",
    "       'dw_tree_prob__stdDev', 'dw_tree_prob_mean', 'elevation', 'esa_lc20',\n",
    "       'esa_lc21', 'esri_lc17', 'esri_lc18', 'esri_lc19', 'esri_lc20',\n",
    "       'esri_lc21', 'gfc_gain', 'gfc_loss', 'gfc_lossyear', 'gfc_tc00',\n",
    "       'lang_tree_height', 'potapov_tree_height', 'slope', 'tmf_2016',\n",
    "       'tmf_2017', 'tmf_2018', 'tmf_2019', 'tmf_2020', 'tmf_defyear',\n",
    "       'tmf_degyear', 'tmf_main', 'tmf_sub']"
   ]
  },
  {
   "cell_type": "markdown",
   "id": "5f43fcc1-62e2-48d0-a5be-c8f528dddaaf",
   "metadata": {},
   "source": [
    "Export all ebsae points as CSV (optional)"
   ]
  },
  {
   "cell_type": "code",
   "execution_count": 90,
   "id": "e94cd646-5186-4a17-9c55-5f7ce366715e",
   "metadata": {
    "tags": []
   },
   "outputs": [
    {
     "data": {
      "text/html": [
       "\n",
       "            <style>\n",
       "                .geemap-dark {\n",
       "                    --jp-widgets-color: white;\n",
       "                    --jp-widgets-label-color: white;\n",
       "                    --jp-ui-font-color1: white;\n",
       "                    --jp-layout-color2: #454545;\n",
       "                    background-color: #383838;\n",
       "                }\n",
       "                    \n",
       "                .geemap-dark .jupyter-button {\n",
       "                    --jp-layout-color3: #383838;\n",
       "                }\n",
       "                \n",
       "                .geemap-colab {\n",
       "                    background-color: var(--colab-primary-surface-color, white);\n",
       "                }\n",
       "                    \n",
       "                .geemap-colab .jupyter-button {\n",
       "                    --jp-layout-color3: var(--colab-primary-surface-color, white);\n",
       "                }\n",
       "            </style>\n",
       "            "
      ],
      "text/plain": [
       "<IPython.core.display.HTML object>"
      ]
     },
     "metadata": {},
     "output_type": "display_data"
    }
   ],
   "source": [
    "#csv_out_file =  '/home/sepal-user/module_results/esbae/export_CAFI_esbae.csv'\n",
    "#trn_gdf[cols_to_export].to_csv(csv_out_file)"
   ]
  },
  {
   "cell_type": "code",
   "execution_count": 91,
   "id": "236a1721-e896-4c66-a1e5-6eefbfeb734d",
   "metadata": {
    "tags": []
   },
   "outputs": [
    {
     "data": {
      "text/html": [
       "\n",
       "            <style>\n",
       "                .geemap-dark {\n",
       "                    --jp-widgets-color: white;\n",
       "                    --jp-widgets-label-color: white;\n",
       "                    --jp-ui-font-color1: white;\n",
       "                    --jp-layout-color2: #454545;\n",
       "                    background-color: #383838;\n",
       "                }\n",
       "                    \n",
       "                .geemap-dark .jupyter-button {\n",
       "                    --jp-layout-color3: #383838;\n",
       "                }\n",
       "                \n",
       "                .geemap-colab {\n",
       "                    background-color: var(--colab-primary-surface-color, white);\n",
       "                }\n",
       "                    \n",
       "                .geemap-colab .jupyter-button {\n",
       "                    --jp-layout-color3: var(--colab-primary-surface-color, white);\n",
       "                }\n",
       "            </style>\n",
       "            "
      ],
      "text/plain": [
       "<IPython.core.display.HTML object>"
      ]
     },
     "metadata": {},
     "output_type": "display_data"
    },
    {
     "data": {
      "text/plain": [
       "13115"
      ]
     },
     "execution_count": 91,
     "metadata": {},
     "output_type": "execute_result"
    }
   ],
   "source": [
    "len(trn_gdf.index)"
   ]
  },
  {
   "cell_type": "code",
   "execution_count": 92,
   "id": "afcf4c2b-53c3-44b5-ae18-29cfac03e3e1",
   "metadata": {
    "tags": []
   },
   "outputs": [
    {
     "data": {
      "text/html": [
       "\n",
       "            <style>\n",
       "                .geemap-dark {\n",
       "                    --jp-widgets-color: white;\n",
       "                    --jp-widgets-label-color: white;\n",
       "                    --jp-ui-font-color1: white;\n",
       "                    --jp-layout-color2: #454545;\n",
       "                    background-color: #383838;\n",
       "                }\n",
       "                    \n",
       "                .geemap-dark .jupyter-button {\n",
       "                    --jp-layout-color3: #383838;\n",
       "                }\n",
       "                \n",
       "                .geemap-colab {\n",
       "                    background-color: var(--colab-primary-surface-color, white);\n",
       "                }\n",
       "                    \n",
       "                .geemap-colab .jupyter-button {\n",
       "                    --jp-layout-color3: var(--colab-primary-surface-color, white);\n",
       "                }\n",
       "            </style>\n",
       "            "
      ],
      "text/plain": [
       "<IPython.core.display.HTML object>"
      ]
     },
     "metadata": {},
     "output_type": "display_data"
    },
    {
     "data": {
      "text/plain": [
       "13115"
      ]
     },
     "execution_count": 92,
     "metadata": {},
     "output_type": "execute_result"
    }
   ],
   "source": [
    "len(trn_ceo.index)"
   ]
  },
  {
   "cell_type": "code",
   "execution_count": 93,
   "id": "17be63c1-5652-40d8-8a91-6786962e0939",
   "metadata": {
    "tags": []
   },
   "outputs": [
    {
     "data": {
      "text/html": [
       "\n",
       "            <style>\n",
       "                .geemap-dark {\n",
       "                    --jp-widgets-color: white;\n",
       "                    --jp-widgets-label-color: white;\n",
       "                    --jp-ui-font-color1: white;\n",
       "                    --jp-layout-color2: #454545;\n",
       "                    background-color: #383838;\n",
       "                }\n",
       "                    \n",
       "                .geemap-dark .jupyter-button {\n",
       "                    --jp-layout-color3: #383838;\n",
       "                }\n",
       "                \n",
       "                .geemap-colab {\n",
       "                    background-color: var(--colab-primary-surface-color, white);\n",
       "                }\n",
       "                    \n",
       "                .geemap-colab .jupyter-button {\n",
       "                    --jp-layout-color3: var(--colab-primary-surface-color, white);\n",
       "                }\n",
       "            </style>\n",
       "            "
      ],
      "text/plain": [
       "<IPython.core.display.HTML object>"
      ]
     },
     "metadata": {},
     "output_type": "display_data"
    }
   ],
   "source": [
    "trn_gdf = trn_gdf[cols_to_export]"
   ]
  },
  {
   "cell_type": "markdown",
   "id": "ad9ca399-b27f-44ba-9f6c-fcad3ef4a5a9",
   "metadata": {},
   "source": [
    "### 1.2 - Inspect CEO interpreted data\n",
    "\n",
    "Our ultimate goal is to use the CEO data for getting the probability of forest change via a series of classifications and their probability output. . , i.e. Forest-Non-Forest and a Change-No-Change classifcation.\n",
    "Therefore we need to extract and trnasform the relevant information into a column of 0s and 1s. \n",
    "\n",
    "First let's look at the columns the CEO file contains."
   ]
  },
  {
   "cell_type": "code",
   "execution_count": 94,
   "id": "ef0a8269-b7ec-4a26-ad0f-726927456341",
   "metadata": {
    "tags": []
   },
   "outputs": [
    {
     "data": {
      "text/html": [
       "\n",
       "            <style>\n",
       "                .geemap-dark {\n",
       "                    --jp-widgets-color: white;\n",
       "                    --jp-widgets-label-color: white;\n",
       "                    --jp-ui-font-color1: white;\n",
       "                    --jp-layout-color2: #454545;\n",
       "                    background-color: #383838;\n",
       "                }\n",
       "                    \n",
       "                .geemap-dark .jupyter-button {\n",
       "                    --jp-layout-color3: #383838;\n",
       "                }\n",
       "                \n",
       "                .geemap-colab {\n",
       "                    background-color: var(--colab-primary-surface-color, white);\n",
       "                }\n",
       "                    \n",
       "                .geemap-colab .jupyter-button {\n",
       "                    --jp-layout-color3: var(--colab-primary-surface-color, white);\n",
       "                }\n",
       "            </style>\n",
       "            "
      ],
      "text/plain": [
       "<IPython.core.display.HTML object>"
      ]
     },
     "metadata": {},
     "output_type": "display_data"
    },
    {
     "data": {
      "text/plain": [
       "Index(['OID_', 'PLOTID', 'CEO_PLOTID', 'LON', 'LAT', 'ISO', 'CEO_Ref_Co',\n",
       "       'Ref_FNF', 'Ref_LCover', 'Ref_Change', 'Ref_Chan_1', 'countDrive',\n",
       "       'Ref_InfraR', 'Ref_Urb', 'Ref_ArtAg', 'Ref_IndAg', 'Ref_ArtFor',\n",
       "       'Ref_IndFor', 'Ref_ArtMin', 'Ref_IndMin', 'Ref_Other', 'Source',\n",
       "       'Ref_ChDate', 'Change_Bin', 'UniqueID'],\n",
       "      dtype='object')"
      ]
     },
     "execution_count": 94,
     "metadata": {},
     "output_type": "execute_result"
    }
   ],
   "source": [
    "trn_ceo.columns"
   ]
  },
  {
   "cell_type": "code",
   "execution_count": 95,
   "id": "852a3635-824b-4ae0-9cf7-2206851343fe",
   "metadata": {
    "tags": []
   },
   "outputs": [
    {
     "data": {
      "text/html": [
       "\n",
       "            <style>\n",
       "                .geemap-dark {\n",
       "                    --jp-widgets-color: white;\n",
       "                    --jp-widgets-label-color: white;\n",
       "                    --jp-ui-font-color1: white;\n",
       "                    --jp-layout-color2: #454545;\n",
       "                    background-color: #383838;\n",
       "                }\n",
       "                    \n",
       "                .geemap-dark .jupyter-button {\n",
       "                    --jp-layout-color3: #383838;\n",
       "                }\n",
       "                \n",
       "                .geemap-colab {\n",
       "                    background-color: var(--colab-primary-surface-color, white);\n",
       "                }\n",
       "                    \n",
       "                .geemap-colab .jupyter-button {\n",
       "                    --jp-layout-color3: var(--colab-primary-surface-color, white);\n",
       "                }\n",
       "            </style>\n",
       "            "
      ],
      "text/plain": [
       "<IPython.core.display.HTML object>"
      ]
     },
     "metadata": {},
     "output_type": "display_data"
    }
   ],
   "source": [
    "#print(trn_ceo.duplicated(subset=['UniqueID']).value_counts())"
   ]
  },
  {
   "cell_type": "code",
   "execution_count": 96,
   "id": "29afcd09-94a6-4a32-96ed-853cfa39e4f9",
   "metadata": {
    "tags": []
   },
   "outputs": [
    {
     "data": {
      "text/html": [
       "\n",
       "            <style>\n",
       "                .geemap-dark {\n",
       "                    --jp-widgets-color: white;\n",
       "                    --jp-widgets-label-color: white;\n",
       "                    --jp-ui-font-color1: white;\n",
       "                    --jp-layout-color2: #454545;\n",
       "                    background-color: #383838;\n",
       "                }\n",
       "                    \n",
       "                .geemap-dark .jupyter-button {\n",
       "                    --jp-layout-color3: #383838;\n",
       "                }\n",
       "                \n",
       "                .geemap-colab {\n",
       "                    background-color: var(--colab-primary-surface-color, white);\n",
       "                }\n",
       "                    \n",
       "                .geemap-colab .jupyter-button {\n",
       "                    --jp-layout-color3: var(--colab-primary-surface-color, white);\n",
       "                }\n",
       "            </style>\n",
       "            "
      ],
      "text/plain": [
       "<IPython.core.display.HTML object>"
      ]
     },
     "metadata": {},
     "output_type": "display_data"
    },
    {
     "data": {
      "text/plain": [
       "13115"
      ]
     },
     "execution_count": 96,
     "metadata": {},
     "output_type": "execute_result"
    }
   ],
   "source": [
    "trn_ceo['UniqueID'].nunique(dropna=False)"
   ]
  },
  {
   "cell_type": "code",
   "execution_count": 97,
   "id": "1f18a1c3-4510-44c9-8a47-adb92af35158",
   "metadata": {
    "tags": []
   },
   "outputs": [
    {
     "data": {
      "text/html": [
       "\n",
       "            <style>\n",
       "                .geemap-dark {\n",
       "                    --jp-widgets-color: white;\n",
       "                    --jp-widgets-label-color: white;\n",
       "                    --jp-ui-font-color1: white;\n",
       "                    --jp-layout-color2: #454545;\n",
       "                    background-color: #383838;\n",
       "                }\n",
       "                    \n",
       "                .geemap-dark .jupyter-button {\n",
       "                    --jp-layout-color3: #383838;\n",
       "                }\n",
       "                \n",
       "                .geemap-colab {\n",
       "                    background-color: var(--colab-primary-surface-color, white);\n",
       "                }\n",
       "                    \n",
       "                .geemap-colab .jupyter-button {\n",
       "                    --jp-layout-color3: var(--colab-primary-surface-color, white);\n",
       "                }\n",
       "            </style>\n",
       "            "
      ],
      "text/plain": [
       "<IPython.core.display.HTML object>"
      ]
     },
     "metadata": {},
     "output_type": "display_data"
    }
   ],
   "source": [
    "#trn_gdf.columns"
   ]
  },
  {
   "cell_type": "code",
   "execution_count": 98,
   "id": "44a5cd9f-e706-4d6d-9c80-47d963381c54",
   "metadata": {
    "tags": []
   },
   "outputs": [
    {
     "data": {
      "text/html": [
       "\n",
       "            <style>\n",
       "                .geemap-dark {\n",
       "                    --jp-widgets-color: white;\n",
       "                    --jp-widgets-label-color: white;\n",
       "                    --jp-ui-font-color1: white;\n",
       "                    --jp-layout-color2: #454545;\n",
       "                    background-color: #383838;\n",
       "                }\n",
       "                    \n",
       "                .geemap-dark .jupyter-button {\n",
       "                    --jp-layout-color3: #383838;\n",
       "                }\n",
       "                \n",
       "                .geemap-colab {\n",
       "                    background-color: var(--colab-primary-surface-color, white);\n",
       "                }\n",
       "                    \n",
       "                .geemap-colab .jupyter-button {\n",
       "                    --jp-layout-color3: var(--colab-primary-surface-color, white);\n",
       "                }\n",
       "            </style>\n",
       "            "
      ],
      "text/plain": [
       "<IPython.core.display.HTML object>"
      ]
     },
     "metadata": {},
     "output_type": "display_data"
    },
    {
     "data": {
      "text/plain": [
       "13115"
      ]
     },
     "execution_count": 98,
     "metadata": {},
     "output_type": "execute_result"
    }
   ],
   "source": [
    "trn_gdf['UniqueID'].nunique(dropna=False)"
   ]
  },
  {
   "cell_type": "markdown",
   "id": "5171aae3-f261-4c09-8359-b4ac049ef787",
   "metadata": {},
   "source": [
    "### 1.3 Print unique values for columns of interest generate Change-No Change"
   ]
  },
  {
   "cell_type": "code",
   "execution_count": 99,
   "id": "4e166621-bd38-4336-907c-37a56a4e6bf1",
   "metadata": {
    "tags": []
   },
   "outputs": [
    {
     "data": {
      "text/html": [
       "\n",
       "            <style>\n",
       "                .geemap-dark {\n",
       "                    --jp-widgets-color: white;\n",
       "                    --jp-widgets-label-color: white;\n",
       "                    --jp-ui-font-color1: white;\n",
       "                    --jp-layout-color2: #454545;\n",
       "                    background-color: #383838;\n",
       "                }\n",
       "                    \n",
       "                .geemap-dark .jupyter-button {\n",
       "                    --jp-layout-color3: #383838;\n",
       "                }\n",
       "                \n",
       "                .geemap-colab {\n",
       "                    background-color: var(--colab-primary-surface-color, white);\n",
       "                }\n",
       "                    \n",
       "                .geemap-colab .jupyter-button {\n",
       "                    --jp-layout-color3: var(--colab-primary-surface-color, white);\n",
       "                }\n",
       "            </style>\n",
       "            "
      ],
      "text/plain": [
       "<IPython.core.display.HTML object>"
      ]
     },
     "metadata": {},
     "output_type": "display_data"
    },
    {
     "name": "stdout",
     "output_type": "stream",
     "text": [
      "Change ['Deg' 'Stable' 'NF' 'Def']\n"
     ]
    }
   ],
   "source": [
    "# show unique values for the columns (in red)\n",
    "print('Change', trn_ceo['Ref_Change'].unique())"
   ]
  },
  {
   "cell_type": "code",
   "execution_count": 100,
   "id": "64d62136-ee07-40a3-8b52-3340ac53803b",
   "metadata": {
    "tags": []
   },
   "outputs": [
    {
     "data": {
      "text/html": [
       "\n",
       "            <style>\n",
       "                .geemap-dark {\n",
       "                    --jp-widgets-color: white;\n",
       "                    --jp-widgets-label-color: white;\n",
       "                    --jp-ui-font-color1: white;\n",
       "                    --jp-layout-color2: #454545;\n",
       "                    background-color: #383838;\n",
       "                }\n",
       "                    \n",
       "                .geemap-dark .jupyter-button {\n",
       "                    --jp-layout-color3: #383838;\n",
       "                }\n",
       "                \n",
       "                .geemap-colab {\n",
       "                    background-color: var(--colab-primary-surface-color, white);\n",
       "                }\n",
       "                    \n",
       "                .geemap-colab .jupyter-button {\n",
       "                    --jp-layout-color3: var(--colab-primary-surface-color, white);\n",
       "                }\n",
       "            </style>\n",
       "            "
      ],
      "text/plain": [
       "<IPython.core.display.HTML object>"
      ]
     },
     "metadata": {},
     "output_type": "display_data"
    },
    {
     "data": {
      "text/plain": [
       "(array([0, 1]), array([9275, 3840]))"
      ]
     },
     "execution_count": 100,
     "metadata": {},
     "output_type": "execute_result"
    }
   ],
   "source": [
    "# add CNC column for classification\n",
    "trn_ceo['cnc_1520'] = trn_ceo['Ref_Change'].apply(lambda x: 1 if x == 'Def' or x == 'Deg'  else 0)\n",
    "\n",
    "\n",
    "#trn_join.head(5)\n",
    "np.unique(trn_ceo['cnc_1520'], return_counts=True)"
   ]
  },
  {
   "cell_type": "code",
   "execution_count": 101,
   "id": "44c0cd86-18d4-403f-9208-c8fee1d1dcea",
   "metadata": {
    "tags": []
   },
   "outputs": [
    {
     "data": {
      "text/html": [
       "\n",
       "            <style>\n",
       "                .geemap-dark {\n",
       "                    --jp-widgets-color: white;\n",
       "                    --jp-widgets-label-color: white;\n",
       "                    --jp-ui-font-color1: white;\n",
       "                    --jp-layout-color2: #454545;\n",
       "                    background-color: #383838;\n",
       "                }\n",
       "                    \n",
       "                .geemap-dark .jupyter-button {\n",
       "                    --jp-layout-color3: #383838;\n",
       "                }\n",
       "                \n",
       "                .geemap-colab {\n",
       "                    background-color: var(--colab-primary-surface-color, white);\n",
       "                }\n",
       "                    \n",
       "                .geemap-colab .jupyter-button {\n",
       "                    --jp-layout-color3: var(--colab-primary-surface-color, white);\n",
       "                }\n",
       "            </style>\n",
       "            "
      ],
      "text/plain": [
       "<IPython.core.display.HTML object>"
      ]
     },
     "metadata": {},
     "output_type": "display_data"
    },
    {
     "data": {
      "text/plain": [
       "13115"
      ]
     },
     "execution_count": 101,
     "metadata": {},
     "output_type": "execute_result"
    }
   ],
   "source": [
    "trn_join = pd.merge(trn_ceo,trn_gdf, left_on='UniqueID', right_on='UniqueID',how='outer')\n",
    "len(trn_join.index)"
   ]
  },
  {
   "cell_type": "markdown",
   "id": "f2927f8d-74f0-44db-a0e4-5d0f46afdbb0",
   "metadata": {
    "tags": []
   },
   "source": [
    "# 2 - Join CEO and Time-Series data"
   ]
  },
  {
   "cell_type": "markdown",
   "id": "05c6af54-1589-4694-aadb-4779c3693c6a",
   "metadata": {
    "tags": []
   },
   "source": [
    "### 2.1 - Load data augmented time-series data from script 4\n",
    "your area must intersect with the CAFI region"
   ]
  },
  {
   "cell_type": "code",
   "execution_count": 102,
   "id": "379fa7c1-598e-4e8b-80ae-e887ee3b527d",
   "metadata": {
    "tags": []
   },
   "outputs": [
    {
     "data": {
      "text/html": [
       "\n",
       "            <style>\n",
       "                .geemap-dark {\n",
       "                    --jp-widgets-color: white;\n",
       "                    --jp-widgets-label-color: white;\n",
       "                    --jp-ui-font-color1: white;\n",
       "                    --jp-layout-color2: #454545;\n",
       "                    background-color: #383838;\n",
       "                }\n",
       "                    \n",
       "                .geemap-dark .jupyter-button {\n",
       "                    --jp-layout-color3: #383838;\n",
       "                }\n",
       "                \n",
       "                .geemap-colab {\n",
       "                    background-color: var(--colab-primary-surface-color, white);\n",
       "                }\n",
       "                    \n",
       "                .geemap-colab .jupyter-button {\n",
       "                    --jp-layout-color3: var(--colab-primary-surface-color, white);\n",
       "                }\n",
       "            </style>\n",
       "            "
      ],
      "text/plain": [
       "<IPython.core.display.HTML object>"
      ]
     },
     "metadata": {},
     "output_type": "display_data"
    }
   ],
   "source": [
    "# glob all files in the data augmentation output folder\n",
    "# select path for country of interest\n",
    "files = Path('/home/sepal-user/module_results/esbae/GAB/04_Dataset_Augmentation/Landsat/').glob('*geojson')\n",
    "#files = Path('/home/sepal-user/module_results/esbae/DRC/04_Dataset_Augmentation/Landsat/').glob('*geojson')\n",
    "#files = Path('/home/sepal-user/module_results/esbae/COG/04_Dataset_Augmentation/Landsat/').glob('*geojson')\n",
    "#files = Path('/home/sepal-user/module_results/esbae/EQG/04_Dataset_Augmentation/Landsat/').glob('*geojson')\n",
    "#files = Path('/home/sepal-user/module_results/esbae/CMR/04_Dataset_Augmentation/Landsat/').glob('*geojson')\n",
    "#files = Path('/home/sepal-user/module_results/esbae/CAR/04_Dataset_Augmentation/Landsat/').glob('*geojson')\n",
    "\n",
    "# prepare for parallel execution\n",
    "files = [[str(file), False] for file in files]\n",
    "\n",
    "# read files in parallel nad put the in a list\n",
    "result = py_helpers.run_in_parallel(\n",
    "    py_helpers.geojson_to_gdf,\n",
    "    files,\n",
    "    workers=4,\n",
    "    parallelization='processes'\n",
    ")\n",
    "\n",
    "# concatenate dataframes from result's list\n",
    "cdf = pd.concat(result)"
   ]
  },
  {
   "cell_type": "code",
   "execution_count": 103,
   "id": "5acc3f53-1b15-40de-a749-5e00d6b6295a",
   "metadata": {
    "tags": []
   },
   "outputs": [
    {
     "data": {
      "text/html": [
       "\n",
       "            <style>\n",
       "                .geemap-dark {\n",
       "                    --jp-widgets-color: white;\n",
       "                    --jp-widgets-label-color: white;\n",
       "                    --jp-ui-font-color1: white;\n",
       "                    --jp-layout-color2: #454545;\n",
       "                    background-color: #383838;\n",
       "                }\n",
       "                    \n",
       "                .geemap-dark .jupyter-button {\n",
       "                    --jp-layout-color3: #383838;\n",
       "                }\n",
       "                \n",
       "                .geemap-colab {\n",
       "                    background-color: var(--colab-primary-surface-color, white);\n",
       "                }\n",
       "                    \n",
       "                .geemap-colab .jupyter-button {\n",
       "                    --jp-layout-color3: var(--colab-primary-surface-color, white);\n",
       "                }\n",
       "            </style>\n",
       "            "
      ],
      "text/plain": [
       "<IPython.core.display.HTML object>"
      ]
     },
     "metadata": {},
     "output_type": "display_data"
    },
    {
     "data": {
      "text/plain": [
       "222878"
      ]
     },
     "execution_count": 103,
     "metadata": {},
     "output_type": "execute_result"
    }
   ],
   "source": [
    "len(cdf.index)"
   ]
  },
  {
   "cell_type": "code",
   "execution_count": 104,
   "id": "bae24ce3-4ff8-4ce8-9fd8-9dadfe4eb5a8",
   "metadata": {
    "tags": []
   },
   "outputs": [
    {
     "data": {
      "text/html": [
       "\n",
       "            <style>\n",
       "                .geemap-dark {\n",
       "                    --jp-widgets-color: white;\n",
       "                    --jp-widgets-label-color: white;\n",
       "                    --jp-ui-font-color1: white;\n",
       "                    --jp-layout-color2: #454545;\n",
       "                    background-color: #383838;\n",
       "                }\n",
       "                    \n",
       "                .geemap-dark .jupyter-button {\n",
       "                    --jp-layout-color3: #383838;\n",
       "                }\n",
       "                \n",
       "                .geemap-colab {\n",
       "                    background-color: var(--colab-primary-surface-color, white);\n",
       "                }\n",
       "                    \n",
       "                .geemap-colab .jupyter-button {\n",
       "                    --jp-layout-color3: var(--colab-primary-surface-color, white);\n",
       "                }\n",
       "            </style>\n",
       "            "
      ],
      "text/plain": [
       "<IPython.core.display.HTML object>"
      ]
     },
     "metadata": {},
     "output_type": "display_data"
    },
    {
     "name": "stdout",
     "output_type": "stream",
     "text": [
      "Index(['geometry', 'point_id', 'dates', 'ts', 'images', 'mon_images',\n",
      "       'bfast_change_date', 'bfast_magnitude', 'bfast_means',\n",
      "       'cusum_change_date', 'cusum_confidence', 'cusum_magnitude', 'red_mean',\n",
      "       'red_sd', 'red_min', 'red_max', 'nir_mean', 'nir_sd', 'nir_min',\n",
      "       'nir_max', 'swir1_mean', 'swir1_sd', 'swir1_min', 'swir1_max',\n",
      "       'swir2_mean', 'swir2_sd', 'swir2_min', 'swir2_max', 'ndfi_mean',\n",
      "       'ndfi_sd', 'ndfi_min', 'ndfi_max', 'brightness_mean', 'brightness_sd',\n",
      "       'brightness_min', 'brightness_max', 'greenness_mean', 'greenness_sd',\n",
      "       'greenness_min', 'greenness_max', 'wetness_mean', 'wetness_sd',\n",
      "       'wetness_min', 'wetness_max', 'bs_slope_mean', 'bs_slope_sd',\n",
      "       'bs_slope_max', 'bs_slope_min', 'ewma_jrc_date', 'ewma_jrc_change',\n",
      "       'ewma_jrc_magnitude', 'mosum_jrc_date', 'mosum_jrc_change',\n",
      "       'mosum_jrc_magnitude', 'cusum_jrc_date', 'cusum_jrc_change',\n",
      "       'cusum_jrc_magnitude', 'ccdc_change_date', 'ccdc_magnitude', 'aspect',\n",
      "       'dw_class_mode', 'dw_tree_prob__max', 'dw_tree_prob__min',\n",
      "       'dw_tree_prob__stdDev', 'dw_tree_prob_mean', 'elevation', 'esa_lc20',\n",
      "       'esa_lc21', 'esri_lc17', 'esri_lc18', 'esri_lc19', 'esri_lc20',\n",
      "       'esri_lc21', 'gfc_gain', 'gfc_loss', 'gfc_lossyear', 'gfc_tc00',\n",
      "       'lang_tree_height', 'potapov_tree_height', 'slope', 'tmf_2016',\n",
      "       'tmf_2017', 'tmf_2018', 'tmf_2019', 'tmf_2020', 'tmf_defyear',\n",
      "       'tmf_degyear', 'tmf_main', 'tmf_sub'],\n",
      "      dtype='object')\n"
     ]
    }
   ],
   "source": [
    "print(cdf.columns)"
   ]
  },
  {
   "cell_type": "code",
   "execution_count": 105,
   "id": "3e502b8d-fb63-4005-8bdc-7dd1f5ecf009",
   "metadata": {
    "tags": []
   },
   "outputs": [
    {
     "data": {
      "text/html": [
       "\n",
       "            <style>\n",
       "                .geemap-dark {\n",
       "                    --jp-widgets-color: white;\n",
       "                    --jp-widgets-label-color: white;\n",
       "                    --jp-ui-font-color1: white;\n",
       "                    --jp-layout-color2: #454545;\n",
       "                    background-color: #383838;\n",
       "                }\n",
       "                    \n",
       "                .geemap-dark .jupyter-button {\n",
       "                    --jp-layout-color3: #383838;\n",
       "                }\n",
       "                \n",
       "                .geemap-colab {\n",
       "                    background-color: var(--colab-primary-surface-color, white);\n",
       "                }\n",
       "                    \n",
       "                .geemap-colab .jupyter-button {\n",
       "                    --jp-layout-color3: var(--colab-primary-surface-color, white);\n",
       "                }\n",
       "            </style>\n",
       "            "
      ],
      "text/plain": [
       "<IPython.core.display.HTML object>"
      ]
     },
     "metadata": {},
     "output_type": "display_data"
    },
    {
     "name": "stdout",
     "output_type": "stream",
     "text": [
      "Index(['geometry', 'UniqueID', 'images', 'mon_images', 'bfast_change_date',\n",
      "       'bfast_magnitude', 'bfast_means', 'cusum_change_date',\n",
      "       'cusum_confidence', 'cusum_magnitude', 'red_mean', 'red_sd', 'red_min',\n",
      "       'red_max', 'nir_mean', 'nir_sd', 'nir_min', 'nir_max', 'swir1_mean',\n",
      "       'swir1_sd', 'swir1_min', 'swir1_max', 'swir2_mean', 'swir2_sd',\n",
      "       'swir2_min', 'swir2_max', 'ndfi_mean', 'ndfi_sd', 'ndfi_min',\n",
      "       'ndfi_max', 'brightness_mean', 'brightness_sd', 'brightness_min',\n",
      "       'brightness_max', 'greenness_mean', 'greenness_sd', 'greenness_min',\n",
      "       'greenness_max', 'wetness_mean', 'wetness_sd', 'wetness_min',\n",
      "       'wetness_max', 'bs_slope_mean', 'bs_slope_sd', 'bs_slope_max',\n",
      "       'bs_slope_min', 'ccdc_change_date', 'ccdc_magnitude', 'aspect',\n",
      "       'dw_class_mode', 'dw_tree_prob__max', 'dw_tree_prob__min',\n",
      "       'dw_tree_prob__stdDev', 'dw_tree_prob_mean', 'elevation', 'esa_lc20',\n",
      "       'esa_lc21', 'esri_lc17', 'esri_lc18', 'esri_lc19', 'esri_lc20',\n",
      "       'esri_lc21', 'gfc_gain', 'gfc_loss', 'gfc_lossyear', 'gfc_tc00',\n",
      "       'lang_tree_height', 'potapov_tree_height', 'slope', 'tmf_2016',\n",
      "       'tmf_2017', 'tmf_2018', 'tmf_2019', 'tmf_2020', 'tmf_defyear',\n",
      "       'tmf_degyear', 'tmf_main', 'tmf_sub'],\n",
      "      dtype='object')\n"
     ]
    }
   ],
   "source": [
    "print(trn_gdf.columns)"
   ]
  },
  {
   "cell_type": "code",
   "execution_count": 106,
   "id": "4fd89609-c2a8-4d06-ad30-fc61b540830a",
   "metadata": {
    "tags": []
   },
   "outputs": [
    {
     "data": {
      "text/html": [
       "\n",
       "            <style>\n",
       "                .geemap-dark {\n",
       "                    --jp-widgets-color: white;\n",
       "                    --jp-widgets-label-color: white;\n",
       "                    --jp-ui-font-color1: white;\n",
       "                    --jp-layout-color2: #454545;\n",
       "                    background-color: #383838;\n",
       "                }\n",
       "                    \n",
       "                .geemap-dark .jupyter-button {\n",
       "                    --jp-layout-color3: #383838;\n",
       "                }\n",
       "                \n",
       "                .geemap-colab {\n",
       "                    background-color: var(--colab-primary-surface-color, white);\n",
       "                }\n",
       "                    \n",
       "                .geemap-colab .jupyter-button {\n",
       "                    --jp-layout-color3: var(--colab-primary-surface-color, white);\n",
       "                }\n",
       "            </style>\n",
       "            "
      ],
      "text/plain": [
       "<IPython.core.display.HTML object>"
      ]
     },
     "metadata": {},
     "output_type": "display_data"
    },
    {
     "name": "stdout",
     "output_type": "stream",
     "text": [
      "Index(['OID_', 'PLOTID', 'CEO_PLOTID', 'LON', 'LAT', 'ISO', 'CEO_Ref_Co',\n",
      "       'Ref_FNF', 'Ref_LCover', 'Ref_Change', 'Ref_Chan_1', 'countDrive',\n",
      "       'Ref_InfraR', 'Ref_Urb', 'Ref_ArtAg', 'Ref_IndAg', 'Ref_ArtFor',\n",
      "       'Ref_IndFor', 'Ref_ArtMin', 'Ref_IndMin', 'Ref_Other', 'Source',\n",
      "       'Ref_ChDate', 'Change_Bin', 'UniqueID', 'cnc_1520'],\n",
      "      dtype='object')\n"
     ]
    }
   ],
   "source": [
    "print(trn_ceo.columns)"
   ]
  },
  {
   "cell_type": "markdown",
   "id": "d5d8ab9d-9b8a-4263-885e-b7715ab72698",
   "metadata": {},
   "source": [
    "### 2.2 - Make a union with training data"
   ]
  },
  {
   "cell_type": "code",
   "execution_count": 107,
   "id": "2d0909d8-25cc-4b55-acfe-77c559279a23",
   "metadata": {
    "tags": []
   },
   "outputs": [
    {
     "data": {
      "text/html": [
       "\n",
       "            <style>\n",
       "                .geemap-dark {\n",
       "                    --jp-widgets-color: white;\n",
       "                    --jp-widgets-label-color: white;\n",
       "                    --jp-ui-font-color1: white;\n",
       "                    --jp-layout-color2: #454545;\n",
       "                    background-color: #383838;\n",
       "                }\n",
       "                    \n",
       "                .geemap-dark .jupyter-button {\n",
       "                    --jp-layout-color3: #383838;\n",
       "                }\n",
       "                \n",
       "                .geemap-colab {\n",
       "                    background-color: var(--colab-primary-surface-color, white);\n",
       "                }\n",
       "                    \n",
       "                .geemap-colab .jupyter-button {\n",
       "                    --jp-layout-color3: var(--colab-primary-surface-color, white);\n",
       "                }\n",
       "            </style>\n",
       "            "
      ],
      "text/plain": [
       "<IPython.core.display.HTML object>"
      ]
     },
     "metadata": {},
     "output_type": "display_data"
    }
   ],
   "source": [
    "eSBAE_cols = [\n",
    "    #'geometry', \n",
    "    #'point_id', \n",
    "    #'dates', 'ts', \n",
    "    'images', 'mon_images',\n",
    "       'bfast_change_date', 'bfast_magnitude', 'bfast_means',\n",
    "       'cusum_change_date', 'cusum_confidence', 'cusum_magnitude', 'red_mean',\n",
    "       'red_sd', 'red_min', 'red_max', 'nir_mean', 'nir_sd', 'nir_min',\n",
    "       'nir_max', 'swir1_mean', 'swir1_sd', 'swir1_min', 'swir1_max',\n",
    "       'swir2_mean', 'swir2_sd', 'swir2_min', 'swir2_max', 'ndfi_mean',\n",
    "       'ndfi_sd', 'ndfi_min', 'ndfi_max', 'brightness_mean', 'brightness_sd',\n",
    "       'brightness_min', 'brightness_max', 'greenness_mean', 'greenness_sd',\n",
    "       'greenness_min', 'greenness_max', 'wetness_mean', 'wetness_sd',\n",
    "       'wetness_min', 'wetness_max', 'bs_slope_mean', 'bs_slope_sd',\n",
    "       'bs_slope_max', 'bs_slope_min', 'ccdc_change_date', 'ccdc_magnitude',\n",
    "       'aspect', 'dw_class_mode', 'dw_tree_prob__max', 'dw_tree_prob__min',\n",
    "       'dw_tree_prob__stdDev', 'dw_tree_prob_mean', 'elevation', 'esa_lc20',\n",
    "       'esa_lc21', 'esri_lc17', 'esri_lc18', 'esri_lc19', 'esri_lc20',\n",
    "       'esri_lc21', 'gfc_gain', 'gfc_loss', 'gfc_lossyear', 'gfc_tc00',\n",
    "       'lang_tree_height', 'potapov_tree_height', 'slope', 'tmf_2016',\n",
    "       'tmf_2017', 'tmf_2018', 'tmf_2019', 'tmf_2020', 'tmf_defyear',\n",
    "       'tmf_degyear', 'tmf_main', 'tmf_sub']"
   ]
  },
  {
   "cell_type": "code",
   "execution_count": 108,
   "id": "3cfe6b56-2075-4c59-9414-0956a2b61bd2",
   "metadata": {
    "tags": []
   },
   "outputs": [
    {
     "data": {
      "text/html": [
       "\n",
       "            <style>\n",
       "                .geemap-dark {\n",
       "                    --jp-widgets-color: white;\n",
       "                    --jp-widgets-label-color: white;\n",
       "                    --jp-ui-font-color1: white;\n",
       "                    --jp-layout-color2: #454545;\n",
       "                    background-color: #383838;\n",
       "                }\n",
       "                    \n",
       "                .geemap-dark .jupyter-button {\n",
       "                    --jp-layout-color3: #383838;\n",
       "                }\n",
       "                \n",
       "                .geemap-colab {\n",
       "                    background-color: var(--colab-primary-surface-color, white);\n",
       "                }\n",
       "                    \n",
       "                .geemap-colab .jupyter-button {\n",
       "                    --jp-layout-color3: var(--colab-primary-surface-color, white);\n",
       "                }\n",
       "            </style>\n",
       "            "
      ],
      "text/plain": [
       "<IPython.core.display.HTML object>"
      ]
     },
     "metadata": {},
     "output_type": "display_data"
    }
   ],
   "source": [
    "harm_cols = eSBAE_cols + ['geometry','point_id','cnc_1520']\n",
    "#cols_to_harmonize"
   ]
  },
  {
   "cell_type": "code",
   "execution_count": 109,
   "id": "9e2214d9-8278-4183-9fca-9d72fc6776a7",
   "metadata": {
    "tags": []
   },
   "outputs": [
    {
     "data": {
      "text/html": [
       "\n",
       "            <style>\n",
       "                .geemap-dark {\n",
       "                    --jp-widgets-color: white;\n",
       "                    --jp-widgets-label-color: white;\n",
       "                    --jp-ui-font-color1: white;\n",
       "                    --jp-layout-color2: #454545;\n",
       "                    background-color: #383838;\n",
       "                }\n",
       "                    \n",
       "                .geemap-dark .jupyter-button {\n",
       "                    --jp-layout-color3: #383838;\n",
       "                }\n",
       "                \n",
       "                .geemap-colab {\n",
       "                    background-color: var(--colab-primary-surface-color, white);\n",
       "                }\n",
       "                    \n",
       "                .geemap-colab .jupyter-button {\n",
       "                    --jp-layout-color3: var(--colab-primary-surface-color, white);\n",
       "                }\n",
       "            </style>\n",
       "            "
      ],
      "text/plain": [
       "<IPython.core.display.HTML object>"
      ]
     },
     "metadata": {},
     "output_type": "display_data"
    }
   ],
   "source": [
    "#cdf['UniqueID'] = 0\n",
    "cdf['cnc_1520'] = float('nan')\n",
    "trn_join['point_id']= 0\n",
    "\n",
    "db = pd.concat([cdf[harm_cols],trn_join[harm_cols]])"
   ]
  },
  {
   "cell_type": "code",
   "execution_count": 110,
   "id": "ed68e6bb-36f9-43de-a9ff-255ff2f380ad",
   "metadata": {
    "tags": []
   },
   "outputs": [
    {
     "data": {
      "text/html": [
       "\n",
       "            <style>\n",
       "                .geemap-dark {\n",
       "                    --jp-widgets-color: white;\n",
       "                    --jp-widgets-label-color: white;\n",
       "                    --jp-ui-font-color1: white;\n",
       "                    --jp-layout-color2: #454545;\n",
       "                    background-color: #383838;\n",
       "                }\n",
       "                    \n",
       "                .geemap-dark .jupyter-button {\n",
       "                    --jp-layout-color3: #383838;\n",
       "                }\n",
       "                \n",
       "                .geemap-colab {\n",
       "                    background-color: var(--colab-primary-surface-color, white);\n",
       "                }\n",
       "                    \n",
       "                .geemap-colab .jupyter-button {\n",
       "                    --jp-layout-color3: var(--colab-primary-surface-color, white);\n",
       "                }\n",
       "            </style>\n",
       "            "
      ],
      "text/plain": [
       "<IPython.core.display.HTML object>"
      ]
     },
     "metadata": {},
     "output_type": "display_data"
    },
    {
     "data": {
      "text/plain": [
       "235993"
      ]
     },
     "execution_count": 110,
     "metadata": {},
     "output_type": "execute_result"
    }
   ],
   "source": [
    "len(db.index)"
   ]
  },
  {
   "cell_type": "code",
   "execution_count": 111,
   "id": "1b04b8cb-6677-427e-b194-598724bb5cb8",
   "metadata": {
    "tags": []
   },
   "outputs": [
    {
     "data": {
      "text/html": [
       "\n",
       "            <style>\n",
       "                .geemap-dark {\n",
       "                    --jp-widgets-color: white;\n",
       "                    --jp-widgets-label-color: white;\n",
       "                    --jp-ui-font-color1: white;\n",
       "                    --jp-layout-color2: #454545;\n",
       "                    background-color: #383838;\n",
       "                }\n",
       "                    \n",
       "                .geemap-dark .jupyter-button {\n",
       "                    --jp-layout-color3: #383838;\n",
       "                }\n",
       "                \n",
       "                .geemap-colab {\n",
       "                    background-color: var(--colab-primary-surface-color, white);\n",
       "                }\n",
       "                    \n",
       "                .geemap-colab .jupyter-button {\n",
       "                    --jp-layout-color3: var(--colab-primary-surface-color, white);\n",
       "                }\n",
       "            </style>\n",
       "            "
      ],
      "text/plain": [
       "<IPython.core.display.HTML object>"
      ]
     },
     "metadata": {},
     "output_type": "display_data"
    },
    {
     "data": {
      "text/html": [
       "<div>\n",
       "<style scoped>\n",
       "    .dataframe tbody tr th:only-of-type {\n",
       "        vertical-align: middle;\n",
       "    }\n",
       "\n",
       "    .dataframe tbody tr th {\n",
       "        vertical-align: top;\n",
       "    }\n",
       "\n",
       "    .dataframe thead th {\n",
       "        text-align: right;\n",
       "    }\n",
       "</style>\n",
       "<table border=\"1\" class=\"dataframe\">\n",
       "  <thead>\n",
       "    <tr style=\"text-align: right;\">\n",
       "      <th></th>\n",
       "      <th>OID_</th>\n",
       "      <th>PLOTID</th>\n",
       "      <th>CEO_PLOTID</th>\n",
       "      <th>LON</th>\n",
       "      <th>LAT</th>\n",
       "      <th>ISO</th>\n",
       "      <th>CEO_Ref_Co</th>\n",
       "      <th>Ref_FNF</th>\n",
       "      <th>Ref_LCover</th>\n",
       "      <th>Ref_Change</th>\n",
       "      <th>...</th>\n",
       "      <th>tmf_2016</th>\n",
       "      <th>tmf_2017</th>\n",
       "      <th>tmf_2018</th>\n",
       "      <th>tmf_2019</th>\n",
       "      <th>tmf_2020</th>\n",
       "      <th>tmf_defyear</th>\n",
       "      <th>tmf_degyear</th>\n",
       "      <th>tmf_main</th>\n",
       "      <th>tmf_sub</th>\n",
       "      <th>point_id</th>\n",
       "    </tr>\n",
       "  </thead>\n",
       "  <tbody>\n",
       "    <tr>\n",
       "      <th>0</th>\n",
       "      <td>0</td>\n",
       "      <td>311</td>\n",
       "      <td>NaN</td>\n",
       "      <td>25.602120</td>\n",
       "      <td>-11.691888</td>\n",
       "      <td>COD</td>\n",
       "      <td>147</td>\n",
       "      <td>1</td>\n",
       "      <td>11</td>\n",
       "      <td>Deg</td>\n",
       "      <td>...</td>\n",
       "      <td>6.0</td>\n",
       "      <td>6.0</td>\n",
       "      <td>6.0</td>\n",
       "      <td>6.0</td>\n",
       "      <td>6.0</td>\n",
       "      <td>0.0</td>\n",
       "      <td>0.0</td>\n",
       "      <td>70.0</td>\n",
       "      <td>91.0</td>\n",
       "      <td>0</td>\n",
       "    </tr>\n",
       "    <tr>\n",
       "      <th>1</th>\n",
       "      <td>1</td>\n",
       "      <td>53</td>\n",
       "      <td>NaN</td>\n",
       "      <td>19.012978</td>\n",
       "      <td>6.404943</td>\n",
       "      <td>CAF</td>\n",
       "      <td>149</td>\n",
       "      <td>1</td>\n",
       "      <td>11</td>\n",
       "      <td>Deg</td>\n",
       "      <td>...</td>\n",
       "      <td>6.0</td>\n",
       "      <td>6.0</td>\n",
       "      <td>6.0</td>\n",
       "      <td>6.0</td>\n",
       "      <td>6.0</td>\n",
       "      <td>0.0</td>\n",
       "      <td>0.0</td>\n",
       "      <td>70.0</td>\n",
       "      <td>91.0</td>\n",
       "      <td>0</td>\n",
       "    </tr>\n",
       "  </tbody>\n",
       "</table>\n",
       "<p>2 rows × 104 columns</p>\n",
       "</div>"
      ],
      "text/plain": [
       "   OID_  PLOTID CEO_PLOTID        LON        LAT  ISO  CEO_Ref_Co  Ref_FNF  \\\n",
       "0     0     311        NaN  25.602120 -11.691888  COD         147        1   \n",
       "1     1      53        NaN  19.012978   6.404943  CAF         149        1   \n",
       "\n",
       "   Ref_LCover Ref_Change  ...  tmf_2016  tmf_2017  tmf_2018  tmf_2019  \\\n",
       "0          11        Deg  ...       6.0       6.0       6.0       6.0   \n",
       "1          11        Deg  ...       6.0       6.0       6.0       6.0   \n",
       "\n",
       "   tmf_2020  tmf_defyear  tmf_degyear  tmf_main  tmf_sub  point_id  \n",
       "0       6.0          0.0          0.0      70.0     91.0         0  \n",
       "1       6.0          0.0          0.0      70.0     91.0         0  \n",
       "\n",
       "[2 rows x 104 columns]"
      ]
     },
     "execution_count": 111,
     "metadata": {},
     "output_type": "execute_result"
    }
   ],
   "source": [
    "trn_join.head(2)"
   ]
  },
  {
   "cell_type": "code",
   "execution_count": 112,
   "id": "21f683b4-ca0d-454c-8a71-3e7695ae5bfa",
   "metadata": {
    "tags": []
   },
   "outputs": [
    {
     "data": {
      "text/html": [
       "\n",
       "            <style>\n",
       "                .geemap-dark {\n",
       "                    --jp-widgets-color: white;\n",
       "                    --jp-widgets-label-color: white;\n",
       "                    --jp-ui-font-color1: white;\n",
       "                    --jp-layout-color2: #454545;\n",
       "                    background-color: #383838;\n",
       "                }\n",
       "                    \n",
       "                .geemap-dark .jupyter-button {\n",
       "                    --jp-layout-color3: #383838;\n",
       "                }\n",
       "                \n",
       "                .geemap-colab {\n",
       "                    background-color: var(--colab-primary-surface-color, white);\n",
       "                }\n",
       "                    \n",
       "                .geemap-colab .jupyter-button {\n",
       "                    --jp-layout-color3: var(--colab-primary-surface-color, white);\n",
       "                }\n",
       "            </style>\n",
       "            "
      ],
      "text/plain": [
       "<IPython.core.display.HTML object>"
      ]
     },
     "metadata": {},
     "output_type": "display_data"
    },
    {
     "data": {
      "text/plain": [
       "Index(['images', 'mon_images', 'bfast_change_date', 'bfast_magnitude',\n",
       "       'bfast_means', 'cusum_change_date', 'cusum_confidence',\n",
       "       'cusum_magnitude', 'red_mean', 'red_sd', 'red_min', 'red_max',\n",
       "       'nir_mean', 'nir_sd', 'nir_min', 'nir_max', 'swir1_mean', 'swir1_sd',\n",
       "       'swir1_min', 'swir1_max', 'swir2_mean', 'swir2_sd', 'swir2_min',\n",
       "       'swir2_max', 'ndfi_mean', 'ndfi_sd', 'ndfi_min', 'ndfi_max',\n",
       "       'brightness_mean', 'brightness_sd', 'brightness_min', 'brightness_max',\n",
       "       'greenness_mean', 'greenness_sd', 'greenness_min', 'greenness_max',\n",
       "       'wetness_mean', 'wetness_sd', 'wetness_min', 'wetness_max',\n",
       "       'bs_slope_mean', 'bs_slope_sd', 'bs_slope_max', 'bs_slope_min',\n",
       "       'ccdc_change_date', 'ccdc_magnitude', 'aspect', 'dw_class_mode',\n",
       "       'dw_tree_prob__max', 'dw_tree_prob__min', 'dw_tree_prob__stdDev',\n",
       "       'dw_tree_prob_mean', 'elevation', 'esa_lc20', 'esa_lc21', 'esri_lc17',\n",
       "       'esri_lc18', 'esri_lc19', 'esri_lc20', 'esri_lc21', 'gfc_gain',\n",
       "       'gfc_loss', 'gfc_lossyear', 'gfc_tc00', 'lang_tree_height',\n",
       "       'potapov_tree_height', 'slope', 'tmf_2016', 'tmf_2017', 'tmf_2018',\n",
       "       'tmf_2019', 'tmf_2020', 'tmf_defyear', 'tmf_degyear', 'tmf_main',\n",
       "       'tmf_sub', 'geometry', 'point_id', 'cnc_1520'],\n",
       "      dtype='object')"
      ]
     },
     "execution_count": 112,
     "metadata": {},
     "output_type": "execute_result"
    }
   ],
   "source": [
    "db.columns"
   ]
  },
  {
   "cell_type": "code",
   "execution_count": 113,
   "id": "061aad14-e3ab-48b1-9873-9208d82d3054",
   "metadata": {
    "tags": []
   },
   "outputs": [
    {
     "data": {
      "text/html": [
       "\n",
       "            <style>\n",
       "                .geemap-dark {\n",
       "                    --jp-widgets-color: white;\n",
       "                    --jp-widgets-label-color: white;\n",
       "                    --jp-ui-font-color1: white;\n",
       "                    --jp-layout-color2: #454545;\n",
       "                    background-color: #383838;\n",
       "                }\n",
       "                    \n",
       "                .geemap-dark .jupyter-button {\n",
       "                    --jp-layout-color3: #383838;\n",
       "                }\n",
       "                \n",
       "                .geemap-colab {\n",
       "                    background-color: var(--colab-primary-surface-color, white);\n",
       "                }\n",
       "                    \n",
       "                .geemap-colab .jupyter-button {\n",
       "                    --jp-layout-color3: var(--colab-primary-surface-color, white);\n",
       "                }\n",
       "            </style>\n",
       "            "
      ],
      "text/plain": [
       "<IPython.core.display.HTML object>"
      ]
     },
     "metadata": {},
     "output_type": "display_data"
    },
    {
     "data": {
      "text/plain": [
       "True"
      ]
     },
     "execution_count": 113,
     "metadata": {},
     "output_type": "execute_result"
    }
   ],
   "source": [
    "len(cdf.index)+len(trn_join.index) == len(db.index)"
   ]
  },
  {
   "cell_type": "markdown",
   "id": "87b0fe3f",
   "metadata": {},
   "source": [
    "#### 2.2a - assign 2015 land cover to all points \n",
    "this step is an optional step for stratifying forest types \n",
    "the land cover classification can be downloaded here: https://drive.google.com/file/d/1St-KuG_x-Hw2_89vu-3Q-lHmBOTSisF1/view?usp=sharing\n",
    "caution - the land cover map is very large\n",
    "unzip it and upload to your SEPAL workspace using Filezilla\n",
    "or use your own layer"
   ]
  },
  {
   "cell_type": "code",
   "execution_count": 114,
   "id": "9b0c68ba",
   "metadata": {
    "tags": []
   },
   "outputs": [
    {
     "data": {
      "text/html": [
       "\n",
       "            <style>\n",
       "                .geemap-dark {\n",
       "                    --jp-widgets-color: white;\n",
       "                    --jp-widgets-label-color: white;\n",
       "                    --jp-ui-font-color1: white;\n",
       "                    --jp-layout-color2: #454545;\n",
       "                    background-color: #383838;\n",
       "                }\n",
       "                    \n",
       "                .geemap-dark .jupyter-button {\n",
       "                    --jp-layout-color3: #383838;\n",
       "                }\n",
       "                \n",
       "                .geemap-colab {\n",
       "                    background-color: var(--colab-primary-surface-color, white);\n",
       "                }\n",
       "                    \n",
       "                .geemap-colab .jupyter-button {\n",
       "                    --jp-layout-color3: var(--colab-primary-surface-color, white);\n",
       "                }\n",
       "            </style>\n",
       "            "
      ],
      "text/plain": [
       "<IPython.core.display.HTML object>"
      ]
     },
     "metadata": {},
     "output_type": "display_data"
    }
   ],
   "source": [
    "src = rasterio.open(\"/home/sepal-user/data/lc_map/CAFI_LC_2015_19_wgs84.tif\")"
   ]
  },
  {
   "cell_type": "code",
   "execution_count": 115,
   "id": "4ebb9883",
   "metadata": {
    "tags": []
   },
   "outputs": [
    {
     "data": {
      "text/html": [
       "\n",
       "            <style>\n",
       "                .geemap-dark {\n",
       "                    --jp-widgets-color: white;\n",
       "                    --jp-widgets-label-color: white;\n",
       "                    --jp-ui-font-color1: white;\n",
       "                    --jp-layout-color2: #454545;\n",
       "                    background-color: #383838;\n",
       "                }\n",
       "                    \n",
       "                .geemap-dark .jupyter-button {\n",
       "                    --jp-layout-color3: #383838;\n",
       "                }\n",
       "                \n",
       "                .geemap-colab {\n",
       "                    background-color: var(--colab-primary-surface-color, white);\n",
       "                }\n",
       "                    \n",
       "                .geemap-colab .jupyter-button {\n",
       "                    --jp-layout-color3: var(--colab-primary-surface-color, white);\n",
       "                }\n",
       "            </style>\n",
       "            "
      ],
      "text/plain": [
       "<IPython.core.display.HTML object>"
      ]
     },
     "metadata": {},
     "output_type": "display_data"
    }
   ],
   "source": [
    "coord_list = [(x, y) for x, y in zip(db[\"geometry\"].x, db[\"geometry\"].y)]"
   ]
  },
  {
   "cell_type": "code",
   "execution_count": 116,
   "id": "8537aa33",
   "metadata": {
    "tags": []
   },
   "outputs": [
    {
     "data": {
      "text/html": [
       "\n",
       "            <style>\n",
       "                .geemap-dark {\n",
       "                    --jp-widgets-color: white;\n",
       "                    --jp-widgets-label-color: white;\n",
       "                    --jp-ui-font-color1: white;\n",
       "                    --jp-layout-color2: #454545;\n",
       "                    background-color: #383838;\n",
       "                }\n",
       "                    \n",
       "                .geemap-dark .jupyter-button {\n",
       "                    --jp-layout-color3: #383838;\n",
       "                }\n",
       "                \n",
       "                .geemap-colab {\n",
       "                    background-color: var(--colab-primary-surface-color, white);\n",
       "                }\n",
       "                    \n",
       "                .geemap-colab .jupyter-button {\n",
       "                    --jp-layout-color3: var(--colab-primary-surface-color, white);\n",
       "                }\n",
       "            </style>\n",
       "            "
      ],
      "text/plain": [
       "<IPython.core.display.HTML object>"
      ]
     },
     "metadata": {},
     "output_type": "display_data"
    },
    {
     "data": {
      "text/html": [
       "<div>\n",
       "<style scoped>\n",
       "    .dataframe tbody tr th:only-of-type {\n",
       "        vertical-align: middle;\n",
       "    }\n",
       "\n",
       "    .dataframe tbody tr th {\n",
       "        vertical-align: top;\n",
       "    }\n",
       "\n",
       "    .dataframe thead th {\n",
       "        text-align: right;\n",
       "    }\n",
       "</style>\n",
       "<table border=\"1\" class=\"dataframe\">\n",
       "  <thead>\n",
       "    <tr style=\"text-align: right;\">\n",
       "      <th></th>\n",
       "      <th>images</th>\n",
       "      <th>mon_images</th>\n",
       "      <th>bfast_change_date</th>\n",
       "      <th>bfast_magnitude</th>\n",
       "      <th>bfast_means</th>\n",
       "      <th>cusum_change_date</th>\n",
       "      <th>cusum_confidence</th>\n",
       "      <th>cusum_magnitude</th>\n",
       "      <th>red_mean</th>\n",
       "      <th>red_sd</th>\n",
       "      <th>...</th>\n",
       "      <th>tmf_2019</th>\n",
       "      <th>tmf_2020</th>\n",
       "      <th>tmf_defyear</th>\n",
       "      <th>tmf_degyear</th>\n",
       "      <th>tmf_main</th>\n",
       "      <th>tmf_sub</th>\n",
       "      <th>geometry</th>\n",
       "      <th>point_id</th>\n",
       "      <th>cnc_1520</th>\n",
       "      <th>CAFI_LC_2015</th>\n",
       "    </tr>\n",
       "  </thead>\n",
       "  <tbody>\n",
       "    <tr>\n",
       "      <th>0</th>\n",
       "      <td>67</td>\n",
       "      <td>45</td>\n",
       "      <td>2020.137</td>\n",
       "      <td>1387.517090</td>\n",
       "      <td>1.123945</td>\n",
       "      <td>2017.288</td>\n",
       "      <td>0.010786</td>\n",
       "      <td>7937.461481</td>\n",
       "      <td>9044.740370</td>\n",
       "      <td>1071.310772</td>\n",
       "      <td>...</td>\n",
       "      <td>1.0</td>\n",
       "      <td>1.0</td>\n",
       "      <td>0.0</td>\n",
       "      <td>0.0</td>\n",
       "      <td>10.0</td>\n",
       "      <td>10.0</td>\n",
       "      <td>POINT (10.16951 -2.39305)</td>\n",
       "      <td>76451</td>\n",
       "      <td>NaN</td>\n",
       "      <td>1</td>\n",
       "    </tr>\n",
       "    <tr>\n",
       "      <th>1</th>\n",
       "      <td>70</td>\n",
       "      <td>42</td>\n",
       "      <td>2018.340</td>\n",
       "      <td>948.520996</td>\n",
       "      <td>2.265196</td>\n",
       "      <td>2016.348</td>\n",
       "      <td>0.437613</td>\n",
       "      <td>5604.878571</td>\n",
       "      <td>9484.973810</td>\n",
       "      <td>442.238111</td>\n",
       "      <td>...</td>\n",
       "      <td>1.0</td>\n",
       "      <td>1.0</td>\n",
       "      <td>0.0</td>\n",
       "      <td>0.0</td>\n",
       "      <td>10.0</td>\n",
       "      <td>10.0</td>\n",
       "      <td>POINT (10.17451 -2.38342)</td>\n",
       "      <td>76452</td>\n",
       "      <td>NaN</td>\n",
       "      <td>1</td>\n",
       "    </tr>\n",
       "    <tr>\n",
       "      <th>2</th>\n",
       "      <td>113</td>\n",
       "      <td>73</td>\n",
       "      <td>-1.000</td>\n",
       "      <td>0.000000</td>\n",
       "      <td>0.000000</td>\n",
       "      <td>2016.458</td>\n",
       "      <td>0.401874</td>\n",
       "      <td>8892.777626</td>\n",
       "      <td>9165.134247</td>\n",
       "      <td>560.100610</td>\n",
       "      <td>...</td>\n",
       "      <td>1.0</td>\n",
       "      <td>1.0</td>\n",
       "      <td>0.0</td>\n",
       "      <td>0.0</td>\n",
       "      <td>10.0</td>\n",
       "      <td>10.0</td>\n",
       "      <td>POINT (10.17328 -2.90339)</td>\n",
       "      <td>90643</td>\n",
       "      <td>NaN</td>\n",
       "      <td>13</td>\n",
       "    </tr>\n",
       "    <tr>\n",
       "      <th>3</th>\n",
       "      <td>40</td>\n",
       "      <td>28</td>\n",
       "      <td>2016.984</td>\n",
       "      <td>-183.588394</td>\n",
       "      <td>-1.711946</td>\n",
       "      <td>2019.852</td>\n",
       "      <td>0.283400</td>\n",
       "      <td>6031.452381</td>\n",
       "      <td>9509.446429</td>\n",
       "      <td>754.204253</td>\n",
       "      <td>...</td>\n",
       "      <td>1.0</td>\n",
       "      <td>1.0</td>\n",
       "      <td>0.0</td>\n",
       "      <td>0.0</td>\n",
       "      <td>10.0</td>\n",
       "      <td>10.0</td>\n",
       "      <td>POINT (11.86564 0.91766)</td>\n",
       "      <td>76272</td>\n",
       "      <td>NaN</td>\n",
       "      <td>1</td>\n",
       "    </tr>\n",
       "    <tr>\n",
       "      <th>4</th>\n",
       "      <td>38</td>\n",
       "      <td>28</td>\n",
       "      <td>2016.238</td>\n",
       "      <td>1540.502319</td>\n",
       "      <td>-1.481558</td>\n",
       "      <td>2021.910</td>\n",
       "      <td>0.066938</td>\n",
       "      <td>5365.023810</td>\n",
       "      <td>9445.940476</td>\n",
       "      <td>877.841299</td>\n",
       "      <td>...</td>\n",
       "      <td>1.0</td>\n",
       "      <td>1.0</td>\n",
       "      <td>0.0</td>\n",
       "      <td>0.0</td>\n",
       "      <td>10.0</td>\n",
       "      <td>10.0</td>\n",
       "      <td>POINT (11.87061 0.92731)</td>\n",
       "      <td>76273</td>\n",
       "      <td>NaN</td>\n",
       "      <td>1</td>\n",
       "    </tr>\n",
       "  </tbody>\n",
       "</table>\n",
       "<p>5 rows × 80 columns</p>\n",
       "</div>"
      ],
      "text/plain": [
       "   images  mon_images  bfast_change_date  bfast_magnitude  bfast_means  \\\n",
       "0      67          45           2020.137      1387.517090     1.123945   \n",
       "1      70          42           2018.340       948.520996     2.265196   \n",
       "2     113          73             -1.000         0.000000     0.000000   \n",
       "3      40          28           2016.984      -183.588394    -1.711946   \n",
       "4      38          28           2016.238      1540.502319    -1.481558   \n",
       "\n",
       "   cusum_change_date  cusum_confidence  cusum_magnitude     red_mean  \\\n",
       "0           2017.288          0.010786      7937.461481  9044.740370   \n",
       "1           2016.348          0.437613      5604.878571  9484.973810   \n",
       "2           2016.458          0.401874      8892.777626  9165.134247   \n",
       "3           2019.852          0.283400      6031.452381  9509.446429   \n",
       "4           2021.910          0.066938      5365.023810  9445.940476   \n",
       "\n",
       "        red_sd  ...  tmf_2019  tmf_2020  tmf_defyear  tmf_degyear  tmf_main  \\\n",
       "0  1071.310772  ...       1.0       1.0          0.0          0.0      10.0   \n",
       "1   442.238111  ...       1.0       1.0          0.0          0.0      10.0   \n",
       "2   560.100610  ...       1.0       1.0          0.0          0.0      10.0   \n",
       "3   754.204253  ...       1.0       1.0          0.0          0.0      10.0   \n",
       "4   877.841299  ...       1.0       1.0          0.0          0.0      10.0   \n",
       "\n",
       "   tmf_sub                   geometry  point_id  cnc_1520  CAFI_LC_2015  \n",
       "0     10.0  POINT (10.16951 -2.39305)     76451       NaN             1  \n",
       "1     10.0  POINT (10.17451 -2.38342)     76452       NaN             1  \n",
       "2     10.0  POINT (10.17328 -2.90339)     90643       NaN            13  \n",
       "3     10.0   POINT (11.86564 0.91766)     76272       NaN             1  \n",
       "4     10.0   POINT (11.87061 0.92731)     76273       NaN             1  \n",
       "\n",
       "[5 rows x 80 columns]"
      ]
     },
     "execution_count": 116,
     "metadata": {},
     "output_type": "execute_result"
    }
   ],
   "source": [
    "db[\"CAFI_LC_2015\"] = [x for x in src.sample(coord_list)]\n",
    "db[\"CAFI_LC_2015\"] = db[\"CAFI_LC_2015\"].str[0]\n",
    "db.head()"
   ]
  },
  {
   "cell_type": "code",
   "execution_count": 117,
   "id": "ede161d8",
   "metadata": {
    "tags": []
   },
   "outputs": [
    {
     "data": {
      "text/html": [
       "\n",
       "            <style>\n",
       "                .geemap-dark {\n",
       "                    --jp-widgets-color: white;\n",
       "                    --jp-widgets-label-color: white;\n",
       "                    --jp-ui-font-color1: white;\n",
       "                    --jp-layout-color2: #454545;\n",
       "                    background-color: #383838;\n",
       "                }\n",
       "                    \n",
       "                .geemap-dark .jupyter-button {\n",
       "                    --jp-layout-color3: #383838;\n",
       "                }\n",
       "                \n",
       "                .geemap-colab {\n",
       "                    background-color: var(--colab-primary-surface-color, white);\n",
       "                }\n",
       "                    \n",
       "                .geemap-colab .jupyter-button {\n",
       "                    --jp-layout-color3: var(--colab-primary-surface-color, white);\n",
       "                }\n",
       "            </style>\n",
       "            "
      ],
      "text/plain": [
       "<IPython.core.display.HTML object>"
      ]
     },
     "metadata": {},
     "output_type": "display_data"
    },
    {
     "name": "stdout",
     "output_type": "stream",
     "text": [
      "Index(['images', 'mon_images', 'bfast_change_date', 'bfast_magnitude',\n",
      "       'bfast_means', 'cusum_change_date', 'cusum_confidence',\n",
      "       'cusum_magnitude', 'red_mean', 'red_sd', 'red_min', 'red_max',\n",
      "       'nir_mean', 'nir_sd', 'nir_min', 'nir_max', 'swir1_mean', 'swir1_sd',\n",
      "       'swir1_min', 'swir1_max', 'swir2_mean', 'swir2_sd', 'swir2_min',\n",
      "       'swir2_max', 'ndfi_mean', 'ndfi_sd', 'ndfi_min', 'ndfi_max',\n",
      "       'brightness_mean', 'brightness_sd', 'brightness_min', 'brightness_max',\n",
      "       'greenness_mean', 'greenness_sd', 'greenness_min', 'greenness_max',\n",
      "       'wetness_mean', 'wetness_sd', 'wetness_min', 'wetness_max',\n",
      "       'bs_slope_mean', 'bs_slope_sd', 'bs_slope_max', 'bs_slope_min',\n",
      "       'ccdc_change_date', 'ccdc_magnitude', 'aspect', 'dw_class_mode',\n",
      "       'dw_tree_prob__max', 'dw_tree_prob__min', 'dw_tree_prob__stdDev',\n",
      "       'dw_tree_prob_mean', 'elevation', 'esa_lc20', 'esa_lc21', 'esri_lc17',\n",
      "       'esri_lc18', 'esri_lc19', 'esri_lc20', 'esri_lc21', 'gfc_gain',\n",
      "       'gfc_loss', 'gfc_lossyear', 'gfc_tc00', 'lang_tree_height',\n",
      "       'potapov_tree_height', 'slope', 'tmf_2016', 'tmf_2017', 'tmf_2018',\n",
      "       'tmf_2019', 'tmf_2020', 'tmf_defyear', 'tmf_degyear', 'tmf_main',\n",
      "       'tmf_sub', 'geometry', 'point_id', 'cnc_1520', 'CAFI_LC_2015'],\n",
      "      dtype='object')\n"
     ]
    }
   ],
   "source": [
    "print(db.columns)"
   ]
  },
  {
   "cell_type": "code",
   "execution_count": 118,
   "id": "11954c52",
   "metadata": {
    "tags": []
   },
   "outputs": [
    {
     "data": {
      "text/html": [
       "\n",
       "            <style>\n",
       "                .geemap-dark {\n",
       "                    --jp-widgets-color: white;\n",
       "                    --jp-widgets-label-color: white;\n",
       "                    --jp-ui-font-color1: white;\n",
       "                    --jp-layout-color2: #454545;\n",
       "                    background-color: #383838;\n",
       "                }\n",
       "                    \n",
       "                .geemap-dark .jupyter-button {\n",
       "                    --jp-layout-color3: #383838;\n",
       "                }\n",
       "                \n",
       "                .geemap-colab {\n",
       "                    background-color: var(--colab-primary-surface-color, white);\n",
       "                }\n",
       "                    \n",
       "                .geemap-colab .jupyter-button {\n",
       "                    --jp-layout-color3: var(--colab-primary-surface-color, white);\n",
       "                }\n",
       "            </style>\n",
       "            "
      ],
      "text/plain": [
       "<IPython.core.display.HTML object>"
      ]
     },
     "metadata": {},
     "output_type": "display_data"
    },
    {
     "data": {
      "text/plain": [
       "CAFI_LC_2015\n",
       "1     188629\n",
       "13     18011\n",
       "3       8220\n",
       "8       5620\n",
       "18      3197\n",
       "15      2246\n",
       "7       2106\n",
       "4       1541\n",
       "17      1460\n",
       "12      1179\n",
       "19       624\n",
       "11       598\n",
       "6        572\n",
       "14       510\n",
       "5        488\n",
       "2        446\n",
       "16       275\n",
       "9        262\n",
       "0          9\n",
       "Name: count, dtype: int64"
      ]
     },
     "execution_count": 118,
     "metadata": {},
     "output_type": "execute_result"
    }
   ],
   "source": [
    "db['CAFI_LC_2015'].value_counts(dropna=False)"
   ]
  },
  {
   "cell_type": "markdown",
   "id": "0dfa9839-c6c0-463d-9654-c8d79606720f",
   "metadata": {
    "tags": []
   },
   "source": [
    "### 2.3 Check the amount of ground truth data we have for each class"
   ]
  },
  {
   "cell_type": "code",
   "execution_count": 119,
   "id": "4da44861-3aff-4df6-b308-c1ac37f5b3f8",
   "metadata": {
    "tags": []
   },
   "outputs": [
    {
     "data": {
      "text/html": [
       "\n",
       "            <style>\n",
       "                .geemap-dark {\n",
       "                    --jp-widgets-color: white;\n",
       "                    --jp-widgets-label-color: white;\n",
       "                    --jp-ui-font-color1: white;\n",
       "                    --jp-layout-color2: #454545;\n",
       "                    background-color: #383838;\n",
       "                }\n",
       "                    \n",
       "                .geemap-dark .jupyter-button {\n",
       "                    --jp-layout-color3: #383838;\n",
       "                }\n",
       "                \n",
       "                .geemap-colab {\n",
       "                    background-color: var(--colab-primary-surface-color, white);\n",
       "                }\n",
       "                    \n",
       "                .geemap-colab .jupyter-button {\n",
       "                    --jp-layout-color3: var(--colab-primary-surface-color, white);\n",
       "                }\n",
       "            </style>\n",
       "            "
      ],
      "text/plain": [
       "<IPython.core.display.HTML object>"
      ]
     },
     "metadata": {},
     "output_type": "display_data"
    },
    {
     "data": {
      "text/plain": [
       "(array([ 0.,  1., nan]), array([  9275,   3840, 222878]))"
      ]
     },
     "execution_count": 119,
     "metadata": {},
     "output_type": "execute_result"
    }
   ],
   "source": [
    "np.unique(db['cnc_1520'], return_counts=True)"
   ]
  },
  {
   "cell_type": "markdown",
   "id": "954c83e9-ca02-4a42-9aab-2492e18ba7d4",
   "metadata": {},
   "source": [
    "### Run change/no-change classification"
   ]
  },
  {
   "cell_type": "code",
   "execution_count": 120,
   "id": "1e19ab45-d885-4aa3-816f-7d1f1463901a",
   "metadata": {
    "tags": []
   },
   "outputs": [
    {
     "data": {
      "text/html": [
       "\n",
       "            <style>\n",
       "                .geemap-dark {\n",
       "                    --jp-widgets-color: white;\n",
       "                    --jp-widgets-label-color: white;\n",
       "                    --jp-ui-font-color1: white;\n",
       "                    --jp-layout-color2: #454545;\n",
       "                    background-color: #383838;\n",
       "                }\n",
       "                    \n",
       "                .geemap-dark .jupyter-button {\n",
       "                    --jp-layout-color3: #383838;\n",
       "                }\n",
       "                \n",
       "                .geemap-colab {\n",
       "                    background-color: var(--colab-primary-surface-color, white);\n",
       "                }\n",
       "                    \n",
       "                .geemap-colab .jupyter-button {\n",
       "                    --jp-layout-color3: var(--colab-primary-surface-color, white);\n",
       "                }\n",
       "            </style>\n",
       "            "
      ],
      "text/plain": [
       "<IPython.core.display.HTML object>"
      ]
     },
     "metadata": {},
     "output_type": "display_data"
    },
    {
     "name": "stdout",
     "output_type": "stream",
     "text": [
      "OOB Score is 0.7899351887152116\n"
     ]
    }
   ],
   "source": [
    "# predictors used change/nochange classification\n",
    "db['chg_prob'] = clf.binary_probability_classification(db, 'cnc_1520', eSBAE_cols, outlier=False)"
   ]
  },
  {
   "cell_type": "code",
   "execution_count": 121,
   "id": "1b2c840c-c658-479a-82c7-129187977c12",
   "metadata": {
    "tags": []
   },
   "outputs": [
    {
     "data": {
      "text/html": [
       "\n",
       "            <style>\n",
       "                .geemap-dark {\n",
       "                    --jp-widgets-color: white;\n",
       "                    --jp-widgets-label-color: white;\n",
       "                    --jp-ui-font-color1: white;\n",
       "                    --jp-layout-color2: #454545;\n",
       "                    background-color: #383838;\n",
       "                }\n",
       "                    \n",
       "                .geemap-dark .jupyter-button {\n",
       "                    --jp-layout-color3: #383838;\n",
       "                }\n",
       "                \n",
       "                .geemap-colab {\n",
       "                    background-color: var(--colab-primary-surface-color, white);\n",
       "                }\n",
       "                    \n",
       "                .geemap-colab .jupyter-button {\n",
       "                    --jp-layout-color3: var(--colab-primary-surface-color, white);\n",
       "                }\n",
       "            </style>\n",
       "            "
      ],
      "text/plain": [
       "<IPython.core.display.HTML object>"
      ]
     },
     "metadata": {},
     "output_type": "display_data"
    }
   ],
   "source": [
    "clf_db = db[db[\"point_id\"] > 0]"
   ]
  },
  {
   "cell_type": "markdown",
   "id": "e8d2cdb6-bc5e-49a8-91fe-408f1d1af88d",
   "metadata": {},
   "source": [
    "#### plot the change probability\n",
    "a good model will have many points with low probability of change, and then very few points with higher probabilites"
   ]
  },
  {
   "cell_type": "code",
   "execution_count": 122,
   "id": "77100717-cdb2-4df0-a0ff-9db9883a061f",
   "metadata": {
    "tags": []
   },
   "outputs": [
    {
     "data": {
      "text/html": [
       "\n",
       "            <style>\n",
       "                .geemap-dark {\n",
       "                    --jp-widgets-color: white;\n",
       "                    --jp-widgets-label-color: white;\n",
       "                    --jp-ui-font-color1: white;\n",
       "                    --jp-layout-color2: #454545;\n",
       "                    background-color: #383838;\n",
       "                }\n",
       "                    \n",
       "                .geemap-dark .jupyter-button {\n",
       "                    --jp-layout-color3: #383838;\n",
       "                }\n",
       "                \n",
       "                .geemap-colab {\n",
       "                    background-color: var(--colab-primary-surface-color, white);\n",
       "                }\n",
       "                    \n",
       "                .geemap-colab .jupyter-button {\n",
       "                    --jp-layout-color3: var(--colab-primary-surface-color, white);\n",
       "                }\n",
       "            </style>\n",
       "            "
      ],
      "text/plain": [
       "<IPython.core.display.HTML object>"
      ]
     },
     "metadata": {},
     "output_type": "display_data"
    },
    {
     "data": {
      "text/plain": [
       "array([<Axes: title={'center': 'chg_prob'}>], dtype=object)"
      ]
     },
     "execution_count": 122,
     "metadata": {},
     "output_type": "execute_result"
    },
    {
     "data": {
      "image/png": "[encoded data removed]",
      "text/plain": [
       "<Figure size 1500x700 with 3 Axes>"
      ]
     },
     "metadata": {},
     "output_type": "display_data"
    }
   ],
   "source": [
    "fig, ax = plt.subplots(1,2, figsize=(15,7))\n",
    "\n",
    "clf_db.plot('chg_prob', markersize=0.05, ax=ax[0], legend=True, cmap='magma')\n",
    "clf_db.hist('chg_prob', ax=ax[1])"
   ]
  },
  {
   "cell_type": "code",
   "execution_count": 123,
   "id": "31fdbd4a-0e27-4d1a-b350-89d2ebc69af1",
   "metadata": {
    "tags": []
   },
   "outputs": [
    {
     "data": {
      "text/html": [
       "\n",
       "            <style>\n",
       "                .geemap-dark {\n",
       "                    --jp-widgets-color: white;\n",
       "                    --jp-widgets-label-color: white;\n",
       "                    --jp-ui-font-color1: white;\n",
       "                    --jp-layout-color2: #454545;\n",
       "                    background-color: #383838;\n",
       "                }\n",
       "                    \n",
       "                .geemap-dark .jupyter-button {\n",
       "                    --jp-layout-color3: #383838;\n",
       "                }\n",
       "                \n",
       "                .geemap-colab {\n",
       "                    background-color: var(--colab-primary-surface-color, white);\n",
       "                }\n",
       "                    \n",
       "                .geemap-colab .jupyter-button {\n",
       "                    --jp-layout-color3: var(--colab-primary-surface-color, white);\n",
       "                }\n",
       "            </style>\n",
       "            "
      ],
      "text/plain": [
       "<IPython.core.display.HTML object>"
      ]
     },
     "metadata": {},
     "output_type": "display_data"
    },
    {
     "data": {
      "text/plain": [
       "Index(['images', 'mon_images', 'bfast_change_date', 'bfast_magnitude',\n",
       "       'bfast_means', 'cusum_change_date', 'cusum_confidence',\n",
       "       'cusum_magnitude', 'red_mean', 'red_sd', 'red_min', 'red_max',\n",
       "       'nir_mean', 'nir_sd', 'nir_min', 'nir_max', 'swir1_mean', 'swir1_sd',\n",
       "       'swir1_min', 'swir1_max', 'swir2_mean', 'swir2_sd', 'swir2_min',\n",
       "       'swir2_max', 'ndfi_mean', 'ndfi_sd', 'ndfi_min', 'ndfi_max',\n",
       "       'brightness_mean', 'brightness_sd', 'brightness_min', 'brightness_max',\n",
       "       'greenness_mean', 'greenness_sd', 'greenness_min', 'greenness_max',\n",
       "       'wetness_mean', 'wetness_sd', 'wetness_min', 'wetness_max',\n",
       "       'bs_slope_mean', 'bs_slope_sd', 'bs_slope_max', 'bs_slope_min',\n",
       "       'ccdc_change_date', 'ccdc_magnitude', 'aspect', 'dw_class_mode',\n",
       "       'dw_tree_prob__max', 'dw_tree_prob__min', 'dw_tree_prob__stdDev',\n",
       "       'dw_tree_prob_mean', 'elevation', 'esa_lc20', 'esa_lc21', 'esri_lc17',\n",
       "       'esri_lc18', 'esri_lc19', 'esri_lc20', 'esri_lc21', 'gfc_gain',\n",
       "       'gfc_loss', 'gfc_lossyear', 'gfc_tc00', 'lang_tree_height',\n",
       "       'potapov_tree_height', 'slope', 'tmf_2016', 'tmf_2017', 'tmf_2018',\n",
       "       'tmf_2019', 'tmf_2020', 'tmf_defyear', 'tmf_degyear', 'tmf_main',\n",
       "       'tmf_sub', 'geometry', 'point_id', 'cnc_1520', 'CAFI_LC_2015',\n",
       "       'chg_prob'],\n",
       "      dtype='object')"
      ]
     },
     "execution_count": 123,
     "metadata": {},
     "output_type": "execute_result"
    }
   ],
   "source": [
    "clf_db.columns"
   ]
  },
  {
   "cell_type": "code",
   "execution_count": 124,
   "id": "21437484-4434-4b94-80cb-7c52128b82a9",
   "metadata": {
    "tags": []
   },
   "outputs": [
    {
     "data": {
      "text/html": [
       "\n",
       "            <style>\n",
       "                .geemap-dark {\n",
       "                    --jp-widgets-color: white;\n",
       "                    --jp-widgets-label-color: white;\n",
       "                    --jp-ui-font-color1: white;\n",
       "                    --jp-layout-color2: #454545;\n",
       "                    background-color: #383838;\n",
       "                }\n",
       "                    \n",
       "                .geemap-dark .jupyter-button {\n",
       "                    --jp-layout-color3: #383838;\n",
       "                }\n",
       "                \n",
       "                .geemap-colab {\n",
       "                    background-color: var(--colab-primary-surface-color, white);\n",
       "                }\n",
       "                    \n",
       "                .geemap-colab .jupyter-button {\n",
       "                    --jp-layout-color3: var(--colab-primary-surface-color, white);\n",
       "                }\n",
       "            </style>\n",
       "            "
      ],
      "text/plain": [
       "<IPython.core.display.HTML object>"
      ]
     },
     "metadata": {},
     "output_type": "display_data"
    }
   ],
   "source": [
    "joined_df = clf_db"
   ]
  },
  {
   "cell_type": "code",
   "execution_count": 125,
   "id": "e66ade81-73cb-4334-93f9-92973ad9760f",
   "metadata": {
    "tags": []
   },
   "outputs": [
    {
     "data": {
      "text/html": [
       "\n",
       "            <style>\n",
       "                .geemap-dark {\n",
       "                    --jp-widgets-color: white;\n",
       "                    --jp-widgets-label-color: white;\n",
       "                    --jp-ui-font-color1: white;\n",
       "                    --jp-layout-color2: #454545;\n",
       "                    background-color: #383838;\n",
       "                }\n",
       "                    \n",
       "                .geemap-dark .jupyter-button {\n",
       "                    --jp-layout-color3: #383838;\n",
       "                }\n",
       "                \n",
       "                .geemap-colab {\n",
       "                    background-color: var(--colab-primary-surface-color, white);\n",
       "                }\n",
       "                    \n",
       "                .geemap-colab .jupyter-button {\n",
       "                    --jp-layout-color3: var(--colab-primary-surface-color, white);\n",
       "                }\n",
       "            </style>\n",
       "            "
      ],
      "text/plain": [
       "<IPython.core.display.HTML object>"
      ]
     },
     "metadata": {},
     "output_type": "display_data"
    }
   ],
   "source": [
    "joined_df['simple_combined'] = joined_df['chg_prob']"
   ]
  },
  {
   "cell_type": "code",
   "execution_count": 126,
   "id": "bb4d44c7-db13-43fc-8ec7-7c8679d8ce0c",
   "metadata": {
    "tags": []
   },
   "outputs": [
    {
     "data": {
      "text/html": [
       "\n",
       "            <style>\n",
       "                .geemap-dark {\n",
       "                    --jp-widgets-color: white;\n",
       "                    --jp-widgets-label-color: white;\n",
       "                    --jp-ui-font-color1: white;\n",
       "                    --jp-layout-color2: #454545;\n",
       "                    background-color: #383838;\n",
       "                }\n",
       "                    \n",
       "                .geemap-dark .jupyter-button {\n",
       "                    --jp-layout-color3: #383838;\n",
       "                }\n",
       "                \n",
       "                .geemap-colab {\n",
       "                    background-color: var(--colab-primary-surface-color, white);\n",
       "                }\n",
       "                    \n",
       "                .geemap-colab .jupyter-button {\n",
       "                    --jp-layout-color3: var(--colab-primary-surface-color, white);\n",
       "                }\n",
       "            </style>\n",
       "            "
      ],
      "text/plain": [
       "<IPython.core.display.HTML object>"
      ]
     },
     "metadata": {},
     "output_type": "display_data"
    },
    {
     "data": {
      "text/plain": [
       "222878"
      ]
     },
     "execution_count": 126,
     "metadata": {},
     "output_type": "execute_result"
    }
   ],
   "source": [
    "len(joined_df)"
   ]
  },
  {
   "cell_type": "code",
   "execution_count": 127,
   "id": "85ae8843-62c7-49d6-b924-e74003313582",
   "metadata": {
    "tags": []
   },
   "outputs": [
    {
     "data": {
      "text/html": [
       "\n",
       "            <style>\n",
       "                .geemap-dark {\n",
       "                    --jp-widgets-color: white;\n",
       "                    --jp-widgets-label-color: white;\n",
       "                    --jp-ui-font-color1: white;\n",
       "                    --jp-layout-color2: #454545;\n",
       "                    background-color: #383838;\n",
       "                }\n",
       "                    \n",
       "                .geemap-dark .jupyter-button {\n",
       "                    --jp-layout-color3: #383838;\n",
       "                }\n",
       "                \n",
       "                .geemap-colab {\n",
       "                    background-color: var(--colab-primary-surface-color, white);\n",
       "                }\n",
       "                    \n",
       "                .geemap-colab .jupyter-button {\n",
       "                    --jp-layout-color3: var(--colab-primary-surface-color, white);\n",
       "                }\n",
       "            </style>\n",
       "            "
      ],
      "text/plain": [
       "<IPython.core.display.HTML object>"
      ]
     },
     "metadata": {},
     "output_type": "display_data"
    },
    {
     "data": {
      "text/html": [
       "<div>\n",
       "<style scoped>\n",
       "    .dataframe tbody tr th:only-of-type {\n",
       "        vertical-align: middle;\n",
       "    }\n",
       "\n",
       "    .dataframe tbody tr th {\n",
       "        vertical-align: top;\n",
       "    }\n",
       "\n",
       "    .dataframe thead th {\n",
       "        text-align: right;\n",
       "    }\n",
       "</style>\n",
       "<table border=\"1\" class=\"dataframe\">\n",
       "  <thead>\n",
       "    <tr style=\"text-align: right;\">\n",
       "      <th></th>\n",
       "      <th>images</th>\n",
       "      <th>mon_images</th>\n",
       "      <th>bfast_change_date</th>\n",
       "      <th>bfast_magnitude</th>\n",
       "      <th>bfast_means</th>\n",
       "      <th>cusum_change_date</th>\n",
       "      <th>cusum_confidence</th>\n",
       "      <th>cusum_magnitude</th>\n",
       "      <th>red_mean</th>\n",
       "      <th>red_sd</th>\n",
       "      <th>...</th>\n",
       "      <th>tmf_defyear</th>\n",
       "      <th>tmf_degyear</th>\n",
       "      <th>tmf_main</th>\n",
       "      <th>tmf_sub</th>\n",
       "      <th>geometry</th>\n",
       "      <th>point_id</th>\n",
       "      <th>cnc_1520</th>\n",
       "      <th>CAFI_LC_2015</th>\n",
       "      <th>chg_prob</th>\n",
       "      <th>simple_combined</th>\n",
       "    </tr>\n",
       "  </thead>\n",
       "  <tbody>\n",
       "    <tr>\n",
       "      <th>0</th>\n",
       "      <td>67</td>\n",
       "      <td>45</td>\n",
       "      <td>2020.137</td>\n",
       "      <td>1387.517090</td>\n",
       "      <td>1.123945</td>\n",
       "      <td>2017.288</td>\n",
       "      <td>0.010786</td>\n",
       "      <td>7937.461481</td>\n",
       "      <td>9044.740370</td>\n",
       "      <td>1071.310772</td>\n",
       "      <td>...</td>\n",
       "      <td>0.0</td>\n",
       "      <td>0.00</td>\n",
       "      <td>10.0</td>\n",
       "      <td>10.0</td>\n",
       "      <td>POINT (10.16951 -2.39305)</td>\n",
       "      <td>76451</td>\n",
       "      <td>NaN</td>\n",
       "      <td>1</td>\n",
       "      <td>0.060000</td>\n",
       "      <td>0.060000</td>\n",
       "    </tr>\n",
       "    <tr>\n",
       "      <th>1</th>\n",
       "      <td>70</td>\n",
       "      <td>42</td>\n",
       "      <td>2018.340</td>\n",
       "      <td>948.520996</td>\n",
       "      <td>2.265196</td>\n",
       "      <td>2016.348</td>\n",
       "      <td>0.437613</td>\n",
       "      <td>5604.878571</td>\n",
       "      <td>9484.973810</td>\n",
       "      <td>442.238111</td>\n",
       "      <td>...</td>\n",
       "      <td>0.0</td>\n",
       "      <td>0.00</td>\n",
       "      <td>10.0</td>\n",
       "      <td>10.0</td>\n",
       "      <td>POINT (10.17451 -2.38342)</td>\n",
       "      <td>76452</td>\n",
       "      <td>NaN</td>\n",
       "      <td>1</td>\n",
       "      <td>0.019333</td>\n",
       "      <td>0.019333</td>\n",
       "    </tr>\n",
       "    <tr>\n",
       "      <th>2</th>\n",
       "      <td>113</td>\n",
       "      <td>73</td>\n",
       "      <td>-1.000</td>\n",
       "      <td>0.000000</td>\n",
       "      <td>0.000000</td>\n",
       "      <td>2016.458</td>\n",
       "      <td>0.401874</td>\n",
       "      <td>8892.777626</td>\n",
       "      <td>9165.134247</td>\n",
       "      <td>560.100610</td>\n",
       "      <td>...</td>\n",
       "      <td>0.0</td>\n",
       "      <td>0.00</td>\n",
       "      <td>10.0</td>\n",
       "      <td>10.0</td>\n",
       "      <td>POINT (10.17328 -2.90339)</td>\n",
       "      <td>90643</td>\n",
       "      <td>NaN</td>\n",
       "      <td>13</td>\n",
       "      <td>0.215333</td>\n",
       "      <td>0.215333</td>\n",
       "    </tr>\n",
       "    <tr>\n",
       "      <th>3</th>\n",
       "      <td>40</td>\n",
       "      <td>28</td>\n",
       "      <td>2016.984</td>\n",
       "      <td>-183.588394</td>\n",
       "      <td>-1.711946</td>\n",
       "      <td>2019.852</td>\n",
       "      <td>0.283400</td>\n",
       "      <td>6031.452381</td>\n",
       "      <td>9509.446429</td>\n",
       "      <td>754.204253</td>\n",
       "      <td>...</td>\n",
       "      <td>0.0</td>\n",
       "      <td>0.00</td>\n",
       "      <td>10.0</td>\n",
       "      <td>10.0</td>\n",
       "      <td>POINT (11.86564 0.91766)</td>\n",
       "      <td>76272</td>\n",
       "      <td>NaN</td>\n",
       "      <td>1</td>\n",
       "      <td>0.082000</td>\n",
       "      <td>0.082000</td>\n",
       "    </tr>\n",
       "    <tr>\n",
       "      <th>4</th>\n",
       "      <td>38</td>\n",
       "      <td>28</td>\n",
       "      <td>2016.238</td>\n",
       "      <td>1540.502319</td>\n",
       "      <td>-1.481558</td>\n",
       "      <td>2021.910</td>\n",
       "      <td>0.066938</td>\n",
       "      <td>5365.023810</td>\n",
       "      <td>9445.940476</td>\n",
       "      <td>877.841299</td>\n",
       "      <td>...</td>\n",
       "      <td>0.0</td>\n",
       "      <td>0.00</td>\n",
       "      <td>10.0</td>\n",
       "      <td>10.0</td>\n",
       "      <td>POINT (11.87061 0.92731)</td>\n",
       "      <td>76273</td>\n",
       "      <td>NaN</td>\n",
       "      <td>1</td>\n",
       "      <td>0.016000</td>\n",
       "      <td>0.016000</td>\n",
       "    </tr>\n",
       "    <tr>\n",
       "      <th>...</th>\n",
       "      <td>...</td>\n",
       "      <td>...</td>\n",
       "      <td>...</td>\n",
       "      <td>...</td>\n",
       "      <td>...</td>\n",
       "      <td>...</td>\n",
       "      <td>...</td>\n",
       "      <td>...</td>\n",
       "      <td>...</td>\n",
       "      <td>...</td>\n",
       "      <td>...</td>\n",
       "      <td>...</td>\n",
       "      <td>...</td>\n",
       "      <td>...</td>\n",
       "      <td>...</td>\n",
       "      <td>...</td>\n",
       "      <td>...</td>\n",
       "      <td>...</td>\n",
       "      <td>...</td>\n",
       "      <td>...</td>\n",
       "      <td>...</td>\n",
       "    </tr>\n",
       "    <tr>\n",
       "      <th>24995</th>\n",
       "      <td>106</td>\n",
       "      <td>74</td>\n",
       "      <td>2018.912</td>\n",
       "      <td>393.011658</td>\n",
       "      <td>1.238991</td>\n",
       "      <td>2021.605</td>\n",
       "      <td>0.425233</td>\n",
       "      <td>6974.863514</td>\n",
       "      <td>9688.700450</td>\n",
       "      <td>407.463393</td>\n",
       "      <td>...</td>\n",
       "      <td>0.0</td>\n",
       "      <td>0.00</td>\n",
       "      <td>10.0</td>\n",
       "      <td>10.0</td>\n",
       "      <td>POINT (12.47191 -1.18798)</td>\n",
       "      <td>165522</td>\n",
       "      <td>NaN</td>\n",
       "      <td>1</td>\n",
       "      <td>0.054000</td>\n",
       "      <td>0.054000</td>\n",
       "    </tr>\n",
       "    <tr>\n",
       "      <th>24996</th>\n",
       "      <td>100</td>\n",
       "      <td>69</td>\n",
       "      <td>2016.219</td>\n",
       "      <td>847.138611</td>\n",
       "      <td>1.112792</td>\n",
       "      <td>2022.942</td>\n",
       "      <td>0.619586</td>\n",
       "      <td>20070.175362</td>\n",
       "      <td>9315.191063</td>\n",
       "      <td>804.380510</td>\n",
       "      <td>...</td>\n",
       "      <td>0.0</td>\n",
       "      <td>1511.75</td>\n",
       "      <td>18.0</td>\n",
       "      <td>20.0</td>\n",
       "      <td>POINT (12.47686 -1.17833)</td>\n",
       "      <td>165523</td>\n",
       "      <td>NaN</td>\n",
       "      <td>3</td>\n",
       "      <td>0.594000</td>\n",
       "      <td>0.594000</td>\n",
       "    </tr>\n",
       "    <tr>\n",
       "      <th>24997</th>\n",
       "      <td>106</td>\n",
       "      <td>72</td>\n",
       "      <td>2018.079</td>\n",
       "      <td>1813.713013</td>\n",
       "      <td>2.455433</td>\n",
       "      <td>2022.942</td>\n",
       "      <td>0.467994</td>\n",
       "      <td>21685.220833</td>\n",
       "      <td>8229.902083</td>\n",
       "      <td>1199.488886</td>\n",
       "      <td>...</td>\n",
       "      <td>1006.0</td>\n",
       "      <td>1505.75</td>\n",
       "      <td>29.0</td>\n",
       "      <td>30.0</td>\n",
       "      <td>POINT (12.48180 -1.16868)</td>\n",
       "      <td>165524</td>\n",
       "      <td>NaN</td>\n",
       "      <td>3</td>\n",
       "      <td>0.586000</td>\n",
       "      <td>0.586000</td>\n",
       "    </tr>\n",
       "    <tr>\n",
       "      <th>24998</th>\n",
       "      <td>99</td>\n",
       "      <td>66</td>\n",
       "      <td>2017.005</td>\n",
       "      <td>572.256165</td>\n",
       "      <td>1.451072</td>\n",
       "      <td>2019.460</td>\n",
       "      <td>0.037431</td>\n",
       "      <td>5696.243687</td>\n",
       "      <td>9583.824495</td>\n",
       "      <td>608.090037</td>\n",
       "      <td>...</td>\n",
       "      <td>0.0</td>\n",
       "      <td>0.00</td>\n",
       "      <td>10.0</td>\n",
       "      <td>10.0</td>\n",
       "      <td>POINT (12.47690 -1.19763)</td>\n",
       "      <td>166032</td>\n",
       "      <td>NaN</td>\n",
       "      <td>1</td>\n",
       "      <td>0.072667</td>\n",
       "      <td>0.072667</td>\n",
       "    </tr>\n",
       "    <tr>\n",
       "      <th>24999</th>\n",
       "      <td>103</td>\n",
       "      <td>66</td>\n",
       "      <td>2016.964</td>\n",
       "      <td>3010.464600</td>\n",
       "      <td>3.383305</td>\n",
       "      <td>2020.600</td>\n",
       "      <td>0.373367</td>\n",
       "      <td>12187.833333</td>\n",
       "      <td>9486.376263</td>\n",
       "      <td>830.186295</td>\n",
       "      <td>...</td>\n",
       "      <td>0.0</td>\n",
       "      <td>1007.00</td>\n",
       "      <td>15.0</td>\n",
       "      <td>16.0</td>\n",
       "      <td>POINT (12.48185 -1.18798)</td>\n",
       "      <td>166033</td>\n",
       "      <td>NaN</td>\n",
       "      <td>3</td>\n",
       "      <td>0.498667</td>\n",
       "      <td>0.498667</td>\n",
       "    </tr>\n",
       "  </tbody>\n",
       "</table>\n",
       "<p>222878 rows × 82 columns</p>\n",
       "</div>"
      ],
      "text/plain": [
       "       images  mon_images  bfast_change_date  bfast_magnitude  bfast_means  \\\n",
       "0          67          45           2020.137      1387.517090     1.123945   \n",
       "1          70          42           2018.340       948.520996     2.265196   \n",
       "2         113          73             -1.000         0.000000     0.000000   \n",
       "3          40          28           2016.984      -183.588394    -1.711946   \n",
       "4          38          28           2016.238      1540.502319    -1.481558   \n",
       "...       ...         ...                ...              ...          ...   \n",
       "24995     106          74           2018.912       393.011658     1.238991   \n",
       "24996     100          69           2016.219       847.138611     1.112792   \n",
       "24997     106          72           2018.079      1813.713013     2.455433   \n",
       "24998      99          66           2017.005       572.256165     1.451072   \n",
       "24999     103          66           2016.964      3010.464600     3.383305   \n",
       "\n",
       "       cusum_change_date  cusum_confidence  cusum_magnitude     red_mean  \\\n",
       "0               2017.288          0.010786      7937.461481  9044.740370   \n",
       "1               2016.348          0.437613      5604.878571  9484.973810   \n",
       "2               2016.458          0.401874      8892.777626  9165.134247   \n",
       "3               2019.852          0.283400      6031.452381  9509.446429   \n",
       "4               2021.910          0.066938      5365.023810  9445.940476   \n",
       "...                  ...               ...              ...          ...   \n",
       "24995           2021.605          0.425233      6974.863514  9688.700450   \n",
       "24996           2022.942          0.619586     20070.175362  9315.191063   \n",
       "24997           2022.942          0.467994     21685.220833  8229.902083   \n",
       "24998           2019.460          0.037431      5696.243687  9583.824495   \n",
       "24999           2020.600          0.373367     12187.833333  9486.376263   \n",
       "\n",
       "            red_sd  ...  tmf_defyear  tmf_degyear  tmf_main  tmf_sub  \\\n",
       "0      1071.310772  ...          0.0         0.00      10.0     10.0   \n",
       "1       442.238111  ...          0.0         0.00      10.0     10.0   \n",
       "2       560.100610  ...          0.0         0.00      10.0     10.0   \n",
       "3       754.204253  ...          0.0         0.00      10.0     10.0   \n",
       "4       877.841299  ...          0.0         0.00      10.0     10.0   \n",
       "...            ...  ...          ...          ...       ...      ...   \n",
       "24995   407.463393  ...          0.0         0.00      10.0     10.0   \n",
       "24996   804.380510  ...          0.0      1511.75      18.0     20.0   \n",
       "24997  1199.488886  ...       1006.0      1505.75      29.0     30.0   \n",
       "24998   608.090037  ...          0.0         0.00      10.0     10.0   \n",
       "24999   830.186295  ...          0.0      1007.00      15.0     16.0   \n",
       "\n",
       "                        geometry  point_id  cnc_1520  CAFI_LC_2015  chg_prob  \\\n",
       "0      POINT (10.16951 -2.39305)     76451       NaN             1  0.060000   \n",
       "1      POINT (10.17451 -2.38342)     76452       NaN             1  0.019333   \n",
       "2      POINT (10.17328 -2.90339)     90643       NaN            13  0.215333   \n",
       "3       POINT (11.86564 0.91766)     76272       NaN             1  0.082000   \n",
       "4       POINT (11.87061 0.92731)     76273       NaN             1  0.016000   \n",
       "...                          ...       ...       ...           ...       ...   \n",
       "24995  POINT (12.47191 -1.18798)    165522       NaN             1  0.054000   \n",
       "24996  POINT (12.47686 -1.17833)    165523       NaN             3  0.594000   \n",
       "24997  POINT (12.48180 -1.16868)    165524       NaN             3  0.586000   \n",
       "24998  POINT (12.47690 -1.19763)    166032       NaN             1  0.072667   \n",
       "24999  POINT (12.48185 -1.18798)    166033       NaN             3  0.498667   \n",
       "\n",
       "       simple_combined  \n",
       "0             0.060000  \n",
       "1             0.019333  \n",
       "2             0.215333  \n",
       "3             0.082000  \n",
       "4             0.016000  \n",
       "...                ...  \n",
       "24995         0.054000  \n",
       "24996         0.594000  \n",
       "24997         0.586000  \n",
       "24998         0.072667  \n",
       "24999         0.498667  \n",
       "\n",
       "[222878 rows x 82 columns]"
      ]
     },
     "execution_count": 127,
     "metadata": {},
     "output_type": "execute_result"
    }
   ],
   "source": [
    "joined_df"
   ]
  },
  {
   "cell_type": "markdown",
   "id": "faef6bd2-3898-4a1c-b126-3fbe491d9a50",
   "metadata": {},
   "source": [
    "### Stratify with Kmeans"
   ]
  },
  {
   "cell_type": "code",
   "execution_count": 128,
   "id": "3f77d611-76fb-4435-bc7d-6db9306c0f65",
   "metadata": {
    "tags": []
   },
   "outputs": [
    {
     "data": {
      "text/html": [
       "\n",
       "            <style>\n",
       "                .geemap-dark {\n",
       "                    --jp-widgets-color: white;\n",
       "                    --jp-widgets-label-color: white;\n",
       "                    --jp-ui-font-color1: white;\n",
       "                    --jp-layout-color2: #454545;\n",
       "                    background-color: #383838;\n",
       "                }\n",
       "                    \n",
       "                .geemap-dark .jupyter-button {\n",
       "                    --jp-layout-color3: #383838;\n",
       "                }\n",
       "                \n",
       "                .geemap-colab {\n",
       "                    background-color: var(--colab-primary-surface-color, white);\n",
       "                }\n",
       "                    \n",
       "                .geemap-colab .jupyter-button {\n",
       "                    --jp-layout-color3: var(--colab-primary-surface-color, white);\n",
       "                }\n",
       "            </style>\n",
       "            "
      ],
      "text/plain": [
       "<IPython.core.display.HTML object>"
      ]
     },
     "metadata": {},
     "output_type": "display_data"
    }
   ],
   "source": [
    "sample_size_no = 10000"
   ]
  },
  {
   "cell_type": "code",
   "execution_count": null,
   "id": "78ead54d-a174-46ba-896e-01d43f5fce07",
   "metadata": {
    "tags": []
   },
   "outputs": [
    {
     "data": {
      "text/html": [
       "\n",
       "            <style>\n",
       "                .geemap-dark {\n",
       "                    --jp-widgets-color: white;\n",
       "                    --jp-widgets-label-color: white;\n",
       "                    --jp-ui-font-color1: white;\n",
       "                    --jp-layout-color2: #454545;\n",
       "                    background-color: #383838;\n",
       "                }\n",
       "                    \n",
       "                .geemap-dark .jupyter-button {\n",
       "                    --jp-layout-color3: #383838;\n",
       "                }\n",
       "                \n",
       "                .geemap-colab {\n",
       "                    background-color: var(--colab-primary-surface-color, white);\n",
       "                }\n",
       "                    \n",
       "                .geemap-colab .jupyter-button {\n",
       "                    --jp-layout-color3: var(--colab-primary-surface-color, white);\n",
       "                }\n",
       "            </style>\n",
       "            "
      ],
      "text/plain": [
       "<IPython.core.display.HTML object>"
      ]
     },
     "metadata": {},
     "output_type": "display_data"
    }
   ],
   "source": [
    "joined_df, samples = h.kmeans_stratifier(joined_df, 'chg_prob', strata=3, sample_size=sample_size_no)"
   ]
  },
  {
   "cell_type": "code",
   "execution_count": null,
   "id": "3aade68f-29e6-411f-86d6-d6d3efd8ecd1",
   "metadata": {
    "tags": []
   },
   "outputs": [],
   "source": [
    "joined_df['kmeans'] = joined_df['stratum']"
   ]
  },
  {
   "cell_type": "code",
   "execution_count": null,
   "id": "a0d06b33-967f-4130-bcc7-cdd7406fcf29",
   "metadata": {
    "tags": []
   },
   "outputs": [],
   "source": [
    "h.plot_cluster(joined_df, prob_column='chg_prob', strata_column='kmeans')\n",
    "\n",
    "fig, ax = plt.subplots(1,2, figsize=(15,7))\n",
    "\n",
    "joined_df.plot('kmeans', markersize=0.15, ax=ax[0], legend=True, cmap='magma')\n",
    "joined_df.hist('kmeans', ax=ax[1], bins=50)\n",
    "samples"
   ]
  },
  {
   "cell_type": "markdown",
   "id": "92d26c94-4d28-4ff3-87b9-16f933aba450",
   "metadata": {},
   "source": [
    "### align column names, get coordinates\n"
   ]
  },
  {
   "cell_type": "code",
   "execution_count": null,
   "id": "e022ffb6-5f1d-4467-b52d-f64ff4114ed9",
   "metadata": {
    "tags": []
   },
   "outputs": [],
   "source": [
    "joined_df['PLOTID'] = joined_df['point_id']"
   ]
  },
  {
   "cell_type": "code",
   "execution_count": null,
   "id": "cdd78de0-b8f5-415b-9773-c38381284add",
   "metadata": {
    "tags": []
   },
   "outputs": [],
   "source": [
    "joined_df.columns"
   ]
  },
  {
   "cell_type": "code",
   "execution_count": null,
   "id": "717c2e3e-3d86-4d9f-8e1a-88a3f3a43ad0",
   "metadata": {
    "tags": []
   },
   "outputs": [],
   "source": [
    "joined_df['LON'] = joined_df.geometry.apply(lambda p: p.x)\n",
    "joined_df['LAT'] = joined_df.geometry.apply(lambda p: p.y)"
   ]
  },
  {
   "cell_type": "markdown",
   "id": "7efd117d-4d05-4d2b-813e-d9ef7626d92c",
   "metadata": {},
   "source": [
    "#### export the points for your area with the change probability model"
   ]
  },
  {
   "cell_type": "code",
   "execution_count": null,
   "id": "fc818a1a-9645-4940-8dc0-75042bab79be",
   "metadata": {
    "tags": []
   },
   "outputs": [],
   "source": [
    "all_points_out_file =  '/home/sepal-user/module_results/esbae/GAB/GAB_esbae_2015_2020_model.csv'\n",
    "#all_points_out_file =  '/home/sepal-user/module_results/esbae/DRC/GAB_esbae_2015_2020_model.csv'\n",
    "#all_points_out_file =  '/home/sepal-user/module_results/esbae/COG/GAB_esbae_2015_2020_model.csv'\n",
    "#all_points_out_file =  '/home/sepal-user/module_results/esbae/EQG/GAB_esbae_2015_2020_model.csv'\n",
    "#all_points_out_file =  '/home/sepal-user/module_results/esbae/CMR/GAB_esbae_2015_2020_model.csv'\n",
    "#all_points_out_file =  '/home/sepal-user/module_results/esbae/CAR/GAB_esbae_2015_2020_model.csv'\n",
    "joined_df.to_csv(all_points_out_file,index=False)"
   ]
  },
  {
   "cell_type": "markdown",
   "id": "355e31c0-0e88-4222-af91-805c852c098b",
   "metadata": {},
   "source": [
    "### now you may proceed to script 5b if you want to extract sample points for CEO"
   ]
  }
 ],
 "metadata": {
  "kernelspec": {
   "display_name": " (venv) Sample Based Area Estimation",
   "language": "python",
   "name": "venv-esbae_notebooks"
  },
  "language_info": {
   "codemirror_mode": {
    "name": "ipython",
    "version": 3
   },
   "file_extension": ".py",
   "mimetype": "text/x-python",
   "name": "python",
   "nbconvert_exporter": "python",
   "pygments_lexer": "ipython3",
   "version": "3.8.10"
  }
 },
 "nbformat": 4,
 "nbformat_minor": 5
}
