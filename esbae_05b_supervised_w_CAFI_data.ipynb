{
 "cells": [
  {
   "cell_type": "markdown",
   "id": "e60ea99f-f3b4-4784-b83f-6ded8c2462cd",
   "metadata": {
    "tags": []
   },
   "source": [
    "![title](images/header.png)\n",
    "\n",
    "# Vb - Supervised Classification with CAFI data\n",
    "-------\n",
    "this notebook performs a supervised classification of probability of forest change for one country using the merged eSBAE and CEO data trained on the interpreted data from CAFI DDD phase I (2015-2020).  \n",
    "The change probability is then divided into 3 strata using kmeans\n",
    "The modeled data are exported to csv for the following script to extract samples for validation in CEO.\n",
    "\n",
    "This script requires an m16 or r16 instance to run\n",
    "###### For more information contact aurelie.shapiro@fao.org or remi.dannunzio@fao.org"
   ]
  },
  {
   "cell_type": "code",
   "execution_count": 1,
   "id": "49bef791-a379-47b8-8437-fdb297ccb002",
   "metadata": {
    "tags": []
   },
   "outputs": [
    {
     "name": "stderr",
     "output_type": "stream",
     "text": [
      "/usr/local/share/jupyter/kernels/venv-eSBAE_notebooks/venv/lib/python3.10/site-packages/bfast/__init__.py:10: UserWarning: cupy is not available in this environment, GPU fonctionnalities won't be available\n",
      "  warn(\"cupy is not available in this environment, GPU fonctionnalities won't be available\")\n"
     ]
    }
   ],
   "source": [
    "from pathlib import Path\n",
    "\n",
    "import numpy as np\n",
    "import pandas as pd\n",
    "import geopandas as gpd\n",
    "import uuid\n",
    "from matplotlib import pyplot as plt\n",
    "\n",
    "from sampling_handler.misc import py_helpers\n",
    "from sampling_handler.ensemble import classification as clf\n",
    "from sampling_handler.ensemble import helpers as h\n",
    "from sampling_handler.sampling import sfc\n",
    "from sampling_handler import KMeansSubSampling\n",
    "\n",
    "\n",
    "import geopandas\n",
    "import rasterio\n",
    "import matplotlib.pyplot as plt\n",
    "from shapely.geometry import Point"
   ]
  },
  {
   "cell_type": "markdown",
   "id": "69d2c922-153b-429d-aba1-c804ff6c4792",
   "metadata": {},
   "source": [
    "### Parameters"
   ]
  },
  {
   "cell_type": "code",
   "execution_count": 2,
   "id": "a998e414-e72b-4107-8fa5-231ebd7dc688",
   "metadata": {},
   "outputs": [
    {
     "data": {
      "text/html": [
       "\n",
       "            <style>\n",
       "                .geemap-dark {\n",
       "                    --jp-widgets-color: white;\n",
       "                    --jp-widgets-label-color: white;\n",
       "                    --jp-ui-font-color1: white;\n",
       "                    --jp-layout-color2: #454545;\n",
       "                    background-color: #383838;\n",
       "                }\n",
       "                    \n",
       "                .geemap-dark .jupyter-button {\n",
       "                    --jp-layout-color3: #383838;\n",
       "                }\n",
       "                \n",
       "                .geemap-colab {\n",
       "                    background-color: var(--colab-primary-surface-color, white);\n",
       "                }\n",
       "                    \n",
       "                .geemap-colab .jupyter-button {\n",
       "                    --jp-layout-color3: var(--colab-primary-surface-color, white);\n",
       "                }\n",
       "            </style>\n",
       "            "
      ],
      "text/plain": [
       "<IPython.core.display.HTML object>"
      ]
     },
     "metadata": {},
     "output_type": "display_data"
    }
   ],
   "source": [
    "ISO = 'CMR'"
   ]
  },
  {
   "cell_type": "markdown",
   "id": "16477e41-3673-4d1d-be2a-50cb4f1fc237",
   "metadata": {},
   "source": [
    "#### Import the CEO validated data from CAFI DDD first phase - output from script 5a\n",
    "##### this file includes 13,115 points, randomly distributed over CAFI, with interpretation\n",
    "##### additional attributes from CAFI rasters have been added (fragmentation, tree cover)\n",
    "##### this file is downloaded when you pull the GitHub repository: https://github.com/aurelgrooves/CAFI_DDD"
   ]
  },
  {
   "cell_type": "code",
   "execution_count": 3,
   "id": "0bc9c0ec-0d54-4dac-a0e8-e81a7fe5cd4b",
   "metadata": {
    "tags": []
   },
   "outputs": [
    {
     "data": {
      "text/html": [
       "\n",
       "            <style>\n",
       "                .geemap-dark {\n",
       "                    --jp-widgets-color: white;\n",
       "                    --jp-widgets-label-color: white;\n",
       "                    --jp-ui-font-color1: white;\n",
       "                    --jp-layout-color2: #454545;\n",
       "                    background-color: #383838;\n",
       "                }\n",
       "                    \n",
       "                .geemap-dark .jupyter-button {\n",
       "                    --jp-layout-color3: #383838;\n",
       "                }\n",
       "                \n",
       "                .geemap-colab {\n",
       "                    background-color: var(--colab-primary-surface-color, white);\n",
       "                }\n",
       "                    \n",
       "                .geemap-colab .jupyter-button {\n",
       "                    --jp-layout-color3: var(--colab-primary-surface-color, white);\n",
       "                }\n",
       "            </style>\n",
       "            "
      ],
      "text/plain": [
       "<IPython.core.display.HTML object>"
      ]
     },
     "metadata": {},
     "output_type": "display_data"
    },
    {
     "data": {
      "text/html": [
       "<div>\n",
       "<style scoped>\n",
       "    .dataframe tbody tr th:only-of-type {\n",
       "        vertical-align: middle;\n",
       "    }\n",
       "\n",
       "    .dataframe tbody tr th {\n",
       "        vertical-align: top;\n",
       "    }\n",
       "\n",
       "    .dataframe thead th {\n",
       "        text-align: right;\n",
       "    }\n",
       "</style>\n",
       "<table border=\"1\" class=\"dataframe\">\n",
       "  <thead>\n",
       "    <tr style=\"text-align: right;\">\n",
       "      <th></th>\n",
       "      <th>geometry</th>\n",
       "      <th>UniqueID</th>\n",
       "      <th>dates</th>\n",
       "      <th>ts</th>\n",
       "      <th>images</th>\n",
       "      <th>mon_images</th>\n",
       "      <th>bfast_change_date</th>\n",
       "      <th>bfast_magnitude</th>\n",
       "      <th>bfast_means</th>\n",
       "      <th>cusum_change_date</th>\n",
       "      <th>...</th>\n",
       "      <th>sampling</th>\n",
       "      <th>ECO_CODE</th>\n",
       "      <th>ECO_NAME</th>\n",
       "      <th>ECO_NUM</th>\n",
       "      <th>ECODE_NAME</th>\n",
       "      <th>TropBiome</th>\n",
       "      <th>CAFI_LC_2015</th>\n",
       "      <th>Frag_2015</th>\n",
       "      <th>Treecov_2015</th>\n",
       "      <th>Biomass_2010</th>\n",
       "    </tr>\n",
       "  </thead>\n",
       "  <tbody>\n",
       "    <tr>\n",
       "      <th>0</th>\n",
       "      <td>POINT (25.60212035 -11.69188784)</td>\n",
       "      <td>1</td>\n",
       "      <td>['20100314', '20100501', '20100509', '20100517...</td>\n",
       "      <td>{'green': [438.0061079394925, 444.750798915826...</td>\n",
       "      <td>181</td>\n",
       "      <td>97</td>\n",
       "      <td>2018.589</td>\n",
       "      <td>-738.678406</td>\n",
       "      <td>-1.354781</td>\n",
       "      <td>2016.597</td>\n",
       "      <td>...</td>\n",
       "      <td>str_random</td>\n",
       "      <td>AT0704</td>\n",
       "      <td>Central Zambezian Miombo Woodlands</td>\n",
       "      <td>4.0</td>\n",
       "      <td>AT0704. Central Zambezian Miombo woodlands</td>\n",
       "      <td>2.0</td>\n",
       "      <td>2</td>\n",
       "      <td>5</td>\n",
       "      <td>52</td>\n",
       "      <td>94</td>\n",
       "    </tr>\n",
       "    <tr>\n",
       "      <th>1</th>\n",
       "      <td>POINT (19.01297774 6.404943059)</td>\n",
       "      <td>2</td>\n",
       "      <td>['20100211', '20100331', '20101110', '20110318...</td>\n",
       "      <td>{'green': [605.875099198608, 568.6520036652914...</td>\n",
       "      <td>153</td>\n",
       "      <td>90</td>\n",
       "      <td>2016.381</td>\n",
       "      <td>-1332.806396</td>\n",
       "      <td>-1.765601</td>\n",
       "      <td>2020.038</td>\n",
       "      <td>...</td>\n",
       "      <td>str_random</td>\n",
       "      <td>AT0712</td>\n",
       "      <td>Northern Congolian Forest-Savanna Mosaic</td>\n",
       "      <td>12.0</td>\n",
       "      <td>AT0712. Northern Congolian forest-savanna mosaic</td>\n",
       "      <td>2.0</td>\n",
       "      <td>9</td>\n",
       "      <td>3</td>\n",
       "      <td>54</td>\n",
       "      <td>194</td>\n",
       "    </tr>\n",
       "    <tr>\n",
       "      <th>2</th>\n",
       "      <td>POINT (22.79183081 7.078410027)</td>\n",
       "      <td>3</td>\n",
       "      <td>['20100105', '20100129', '20101020', '20101129...</td>\n",
       "      <td>{'green': [497.9944621895307, 644.717567057849...</td>\n",
       "      <td>158</td>\n",
       "      <td>93</td>\n",
       "      <td>2016.915</td>\n",
       "      <td>-2419.585449</td>\n",
       "      <td>-2.557598</td>\n",
       "      <td>2020.003</td>\n",
       "      <td>...</td>\n",
       "      <td>str_random</td>\n",
       "      <td>AT0705</td>\n",
       "      <td>East Sudanian Savanna</td>\n",
       "      <td>5.0</td>\n",
       "      <td>AT0705. East Sudanian savanna</td>\n",
       "      <td>2.0</td>\n",
       "      <td>11</td>\n",
       "      <td>2</td>\n",
       "      <td>33</td>\n",
       "      <td>9</td>\n",
       "    </tr>\n",
       "    <tr>\n",
       "      <th>3</th>\n",
       "      <td>POINT (27.43010212 -6.534839454)</td>\n",
       "      <td>4</td>\n",
       "      <td>['20100211', '20100510', '20100518', '20101001...</td>\n",
       "      <td>{'green': [463.976386765175, 447.3358682219745...</td>\n",
       "      <td>129</td>\n",
       "      <td>60</td>\n",
       "      <td>-1.000</td>\n",
       "      <td>0.000000</td>\n",
       "      <td>0.000000</td>\n",
       "      <td>2017.430</td>\n",
       "      <td>...</td>\n",
       "      <td>str_random</td>\n",
       "      <td>AT0704</td>\n",
       "      <td>Central Zambezian Miombo Woodlands</td>\n",
       "      <td>4.0</td>\n",
       "      <td>AT0704. Central Zambezian Miombo woodlands</td>\n",
       "      <td>2.0</td>\n",
       "      <td>11</td>\n",
       "      <td>2</td>\n",
       "      <td>28</td>\n",
       "      <td>52</td>\n",
       "    </tr>\n",
       "    <tr>\n",
       "      <th>4</th>\n",
       "      <td>POINT (22.21214796 -9.940981517)</td>\n",
       "      <td>5</td>\n",
       "      <td>['20100429', '20100515', '20101006', '20101115...</td>\n",
       "      <td>{'green': [370.4567016055455, 385.308451001878...</td>\n",
       "      <td>140</td>\n",
       "      <td>79</td>\n",
       "      <td>2018.342</td>\n",
       "      <td>13.038783</td>\n",
       "      <td>-0.582325</td>\n",
       "      <td>2018.518</td>\n",
       "      <td>...</td>\n",
       "      <td>str_random</td>\n",
       "      <td>AT0704</td>\n",
       "      <td>Central Zambezian Miombo Woodlands</td>\n",
       "      <td>4.0</td>\n",
       "      <td>AT0704. Central Zambezian Miombo woodlands</td>\n",
       "      <td>2.0</td>\n",
       "      <td>2</td>\n",
       "      <td>3</td>\n",
       "      <td>51</td>\n",
       "      <td>87</td>\n",
       "    </tr>\n",
       "    <tr>\n",
       "      <th>...</th>\n",
       "      <td>...</td>\n",
       "      <td>...</td>\n",
       "      <td>...</td>\n",
       "      <td>...</td>\n",
       "      <td>...</td>\n",
       "      <td>...</td>\n",
       "      <td>...</td>\n",
       "      <td>...</td>\n",
       "      <td>...</td>\n",
       "      <td>...</td>\n",
       "      <td>...</td>\n",
       "      <td>...</td>\n",
       "      <td>...</td>\n",
       "      <td>...</td>\n",
       "      <td>...</td>\n",
       "      <td>...</td>\n",
       "      <td>...</td>\n",
       "      <td>...</td>\n",
       "      <td>...</td>\n",
       "      <td>...</td>\n",
       "      <td>...</td>\n",
       "    </tr>\n",
       "    <tr>\n",
       "      <th>13110</th>\n",
       "      <td>POINT (18.90329319 4.178378347)</td>\n",
       "      <td>13112</td>\n",
       "      <td>['20100211', '20100331', '20100518', '20110318...</td>\n",
       "      <td>{'green': [674.2453004364089, 653.694492020193...</td>\n",
       "      <td>123</td>\n",
       "      <td>80</td>\n",
       "      <td>-1.000</td>\n",
       "      <td>0.000000</td>\n",
       "      <td>0.000000</td>\n",
       "      <td>2016.468</td>\n",
       "      <td>...</td>\n",
       "      <td>str_random</td>\n",
       "      <td>AT0124</td>\n",
       "      <td>Northeastern Congolian Lowland Forests</td>\n",
       "      <td>24.0</td>\n",
       "      <td>AT0124. Northeastern Congolian lowland forests</td>\n",
       "      <td>1.0</td>\n",
       "      <td>1</td>\n",
       "      <td>2</td>\n",
       "      <td>41</td>\n",
       "      <td>38</td>\n",
       "    </tr>\n",
       "    <tr>\n",
       "      <th>13111</th>\n",
       "      <td>POINT (17.17745164 -5.075794729)</td>\n",
       "      <td>13113</td>\n",
       "      <td>['20100119', '20100401', '20101002', '20101119...</td>\n",
       "      <td>{'green': [344.4054229887222, 539.972540387191...</td>\n",
       "      <td>113</td>\n",
       "      <td>63</td>\n",
       "      <td>2017.433</td>\n",
       "      <td>-750.342834</td>\n",
       "      <td>-1.426068</td>\n",
       "      <td>2018.485</td>\n",
       "      <td>...</td>\n",
       "      <td>str_random</td>\n",
       "      <td>AT0718</td>\n",
       "      <td>Southern Congolian Forest-Savanna Mosaic</td>\n",
       "      <td>18.0</td>\n",
       "      <td>AT0718. Southern Congolian forest-savanna mosaic</td>\n",
       "      <td>2.0</td>\n",
       "      <td>1</td>\n",
       "      <td>2</td>\n",
       "      <td>59</td>\n",
       "      <td>39</td>\n",
       "    </tr>\n",
       "    <tr>\n",
       "      <th>13112</th>\n",
       "      <td>POINT (21.96690965 3.213589406)</td>\n",
       "      <td>13114</td>\n",
       "      <td>['20100129', '20100529', '20100809', '20100817...</td>\n",
       "      <td>{'green': [733.2082639924525, 385.167344664216...</td>\n",
       "      <td>116</td>\n",
       "      <td>67</td>\n",
       "      <td>2017.219</td>\n",
       "      <td>-84.756882</td>\n",
       "      <td>-0.863496</td>\n",
       "      <td>2018.118</td>\n",
       "      <td>...</td>\n",
       "      <td>str_random</td>\n",
       "      <td>AT0124</td>\n",
       "      <td>Northeastern Congolian Lowland Forests</td>\n",
       "      <td>24.0</td>\n",
       "      <td>AT0124. Northeastern Congolian lowland forests</td>\n",
       "      <td>1.0</td>\n",
       "      <td>1</td>\n",
       "      <td>2</td>\n",
       "      <td>70</td>\n",
       "      <td>392</td>\n",
       "    </tr>\n",
       "    <tr>\n",
       "      <th>13113</th>\n",
       "      <td>POINT (27.81844527 -3.425142538)</td>\n",
       "      <td>13115</td>\n",
       "      <td>['20100117', '20100202', '20100330', '20100509...</td>\n",
       "      <td>{'green': [327.6101261002253, 342.841394483886...</td>\n",
       "      <td>134</td>\n",
       "      <td>71</td>\n",
       "      <td>2016.816</td>\n",
       "      <td>362.227112</td>\n",
       "      <td>0.848210</td>\n",
       "      <td>2020.036</td>\n",
       "      <td>...</td>\n",
       "      <td>str_random</td>\n",
       "      <td>AT0124</td>\n",
       "      <td>Northeastern Congolian Lowland Forests</td>\n",
       "      <td>24.0</td>\n",
       "      <td>AT0124. Northeastern Congolian lowland forests</td>\n",
       "      <td>1.0</td>\n",
       "      <td>1</td>\n",
       "      <td>2</td>\n",
       "      <td>75</td>\n",
       "      <td>180</td>\n",
       "    </tr>\n",
       "    <tr>\n",
       "      <th>13114</th>\n",
       "      <td>POINT (15.5796175 -4.811151541)</td>\n",
       "      <td>13116</td>\n",
       "      <td>['20100110', '20100331', '20110214', '20110505...</td>\n",
       "      <td>{'green': [1299.6052613997224, 876.63318389909...</td>\n",
       "      <td>68</td>\n",
       "      <td>39</td>\n",
       "      <td>-1.000</td>\n",
       "      <td>0.000000</td>\n",
       "      <td>0.000000</td>\n",
       "      <td>2016.447</td>\n",
       "      <td>...</td>\n",
       "      <td>str_random</td>\n",
       "      <td>AT0723</td>\n",
       "      <td>Western Congolian Forest-Savanna Mosaic</td>\n",
       "      <td>23.0</td>\n",
       "      <td>AT0723. Western Congolian forest-savanna mosaic</td>\n",
       "      <td>2.0</td>\n",
       "      <td>11</td>\n",
       "      <td>2</td>\n",
       "      <td>52</td>\n",
       "      <td>64</td>\n",
       "    </tr>\n",
       "  </tbody>\n",
       "</table>\n",
       "<p>13115 rows × 139 columns</p>\n",
       "</div>"
      ],
      "text/plain": [
       "                               geometry  UniqueID  \\\n",
       "0      POINT (25.60212035 -11.69188784)         1   \n",
       "1       POINT (19.01297774 6.404943059)         2   \n",
       "2       POINT (22.79183081 7.078410027)         3   \n",
       "3      POINT (27.43010212 -6.534839454)         4   \n",
       "4      POINT (22.21214796 -9.940981517)         5   \n",
       "...                                 ...       ...   \n",
       "13110   POINT (18.90329319 4.178378347)     13112   \n",
       "13111  POINT (17.17745164 -5.075794729)     13113   \n",
       "13112   POINT (21.96690965 3.213589406)     13114   \n",
       "13113  POINT (27.81844527 -3.425142538)     13115   \n",
       "13114   POINT (15.5796175 -4.811151541)     13116   \n",
       "\n",
       "                                                   dates  \\\n",
       "0      ['20100314', '20100501', '20100509', '20100517...   \n",
       "1      ['20100211', '20100331', '20101110', '20110318...   \n",
       "2      ['20100105', '20100129', '20101020', '20101129...   \n",
       "3      ['20100211', '20100510', '20100518', '20101001...   \n",
       "4      ['20100429', '20100515', '20101006', '20101115...   \n",
       "...                                                  ...   \n",
       "13110  ['20100211', '20100331', '20100518', '20110318...   \n",
       "13111  ['20100119', '20100401', '20101002', '20101119...   \n",
       "13112  ['20100129', '20100529', '20100809', '20100817...   \n",
       "13113  ['20100117', '20100202', '20100330', '20100509...   \n",
       "13114  ['20100110', '20100331', '20110214', '20110505...   \n",
       "\n",
       "                                                      ts  images  mon_images  \\\n",
       "0      {'green': [438.0061079394925, 444.750798915826...     181          97   \n",
       "1      {'green': [605.875099198608, 568.6520036652914...     153          90   \n",
       "2      {'green': [497.9944621895307, 644.717567057849...     158          93   \n",
       "3      {'green': [463.976386765175, 447.3358682219745...     129          60   \n",
       "4      {'green': [370.4567016055455, 385.308451001878...     140          79   \n",
       "...                                                  ...     ...         ...   \n",
       "13110  {'green': [674.2453004364089, 653.694492020193...     123          80   \n",
       "13111  {'green': [344.4054229887222, 539.972540387191...     113          63   \n",
       "13112  {'green': [733.2082639924525, 385.167344664216...     116          67   \n",
       "13113  {'green': [327.6101261002253, 342.841394483886...     134          71   \n",
       "13114  {'green': [1299.6052613997224, 876.63318389909...      68          39   \n",
       "\n",
       "       bfast_change_date  bfast_magnitude  bfast_means  cusum_change_date  \\\n",
       "0               2018.589      -738.678406    -1.354781           2016.597   \n",
       "1               2016.381     -1332.806396    -1.765601           2020.038   \n",
       "2               2016.915     -2419.585449    -2.557598           2020.003   \n",
       "3                 -1.000         0.000000     0.000000           2017.430   \n",
       "4               2018.342        13.038783    -0.582325           2018.518   \n",
       "...                  ...              ...          ...                ...   \n",
       "13110             -1.000         0.000000     0.000000           2016.468   \n",
       "13111           2017.433      -750.342834    -1.426068           2018.485   \n",
       "13112           2017.219       -84.756882    -0.863496           2018.118   \n",
       "13113           2016.816       362.227112     0.848210           2020.036   \n",
       "13114             -1.000         0.000000     0.000000           2016.447   \n",
       "\n",
       "       ...    sampling  ECO_CODE                                  ECO_NAME  \\\n",
       "0      ...  str_random    AT0704        Central Zambezian Miombo Woodlands   \n",
       "1      ...  str_random    AT0712  Northern Congolian Forest-Savanna Mosaic   \n",
       "2      ...  str_random    AT0705                     East Sudanian Savanna   \n",
       "3      ...  str_random    AT0704        Central Zambezian Miombo Woodlands   \n",
       "4      ...  str_random    AT0704        Central Zambezian Miombo Woodlands   \n",
       "...    ...         ...       ...                                       ...   \n",
       "13110  ...  str_random    AT0124    Northeastern Congolian Lowland Forests   \n",
       "13111  ...  str_random    AT0718  Southern Congolian Forest-Savanna Mosaic   \n",
       "13112  ...  str_random    AT0124    Northeastern Congolian Lowland Forests   \n",
       "13113  ...  str_random    AT0124    Northeastern Congolian Lowland Forests   \n",
       "13114  ...  str_random    AT0723   Western Congolian Forest-Savanna Mosaic   \n",
       "\n",
       "       ECO_NUM                                        ECODE_NAME  TropBiome  \\\n",
       "0          4.0        AT0704. Central Zambezian Miombo woodlands        2.0   \n",
       "1         12.0  AT0712. Northern Congolian forest-savanna mosaic        2.0   \n",
       "2          5.0                     AT0705. East Sudanian savanna        2.0   \n",
       "3          4.0        AT0704. Central Zambezian Miombo woodlands        2.0   \n",
       "4          4.0        AT0704. Central Zambezian Miombo woodlands        2.0   \n",
       "...        ...                                               ...        ...   \n",
       "13110     24.0    AT0124. Northeastern Congolian lowland forests        1.0   \n",
       "13111     18.0  AT0718. Southern Congolian forest-savanna mosaic        2.0   \n",
       "13112     24.0    AT0124. Northeastern Congolian lowland forests        1.0   \n",
       "13113     24.0    AT0124. Northeastern Congolian lowland forests        1.0   \n",
       "13114     23.0   AT0723. Western Congolian forest-savanna mosaic        2.0   \n",
       "\n",
       "       CAFI_LC_2015  Frag_2015  Treecov_2015  Biomass_2010  \n",
       "0                 2          5            52            94  \n",
       "1                 9          3            54           194  \n",
       "2                11          2            33             9  \n",
       "3                11          2            28            52  \n",
       "4                 2          3            51            87  \n",
       "...             ...        ...           ...           ...  \n",
       "13110             1          2            41            38  \n",
       "13111             1          2            59            39  \n",
       "13112             1          2            70           392  \n",
       "13113             1          2            75           180  \n",
       "13114            11          2            52            64  \n",
       "\n",
       "[13115 rows x 139 columns]"
      ]
     },
     "execution_count": 3,
     "metadata": {},
     "output_type": "execute_result"
    }
   ],
   "source": [
    "trn_ceo = pd.read_csv('/home/sepal-user/CAFI_DDD/CAFI_esbae_ceo_phaseI_att.csv', delimiter=',')\n",
    "trn_ceo"
   ]
  },
  {
   "cell_type": "code",
   "execution_count": 4,
   "id": "95ac4032-8fd4-42e6-ba71-e605d712703b",
   "metadata": {},
   "outputs": [
    {
     "data": {
      "text/html": [
       "\n",
       "            <style>\n",
       "                .geemap-dark {\n",
       "                    --jp-widgets-color: white;\n",
       "                    --jp-widgets-label-color: white;\n",
       "                    --jp-ui-font-color1: white;\n",
       "                    --jp-layout-color2: #454545;\n",
       "                    background-color: #383838;\n",
       "                }\n",
       "                    \n",
       "                .geemap-dark .jupyter-button {\n",
       "                    --jp-layout-color3: #383838;\n",
       "                }\n",
       "                \n",
       "                .geemap-colab {\n",
       "                    background-color: var(--colab-primary-surface-color, white);\n",
       "                }\n",
       "                    \n",
       "                .geemap-colab .jupyter-button {\n",
       "                    --jp-layout-color3: var(--colab-primary-surface-color, white);\n",
       "                }\n",
       "            </style>\n",
       "            "
      ],
      "text/plain": [
       "<IPython.core.display.HTML object>"
      ]
     },
     "metadata": {},
     "output_type": "display_data"
    },
    {
     "name": "stdout",
     "output_type": "stream",
     "text": [
      "['geometry' 'UniqueID' 'dates' 'ts' 'images' 'mon_images'\n",
      " 'bfast_change_date' 'bfast_magnitude' 'bfast_means' 'cusum_change_date'\n",
      " 'cusum_confidence' 'cusum_magnitude' 'red_mean' 'red_sd' 'red_min'\n",
      " 'red_max' 'nir_mean' 'nir_sd' 'nir_min' 'nir_max' 'swir1_mean' 'swir1_sd'\n",
      " 'swir1_min' 'swir1_max' 'swir2_mean' 'swir2_sd' 'swir2_min' 'swir2_max'\n",
      " 'ndfi_mean' 'ndfi_sd' 'ndfi_min' 'ndfi_max' 'brightness_mean'\n",
      " 'brightness_sd' 'brightness_min' 'brightness_max' 'greenness_mean'\n",
      " 'greenness_sd' 'greenness_min' 'greenness_max' 'wetness_mean'\n",
      " 'wetness_sd' 'wetness_min' 'wetness_max' 'bs_slope_mean' 'bs_slope_sd'\n",
      " 'bs_slope_max' 'bs_slope_min' 'ewma_jrc_date' 'ewma_jrc_change'\n",
      " 'ewma_jrc_magnitude' 'mosum_jrc_date' 'mosum_jrc_change'\n",
      " 'mosum_jrc_magnitude' 'cusum_jrc_date' 'cusum_jrc_change'\n",
      " 'cusum_jrc_magnitude' 'ccdc_change_date' 'ccdc_magnitude' 'aspect'\n",
      " 'dw_class_mode' 'dw_tree_prob__max' 'dw_tree_prob__min'\n",
      " 'dw_tree_prob__stdDev' 'dw_tree_prob_mean' 'elevation' 'esa_lc20'\n",
      " 'esa_lc21' 'esri_lc17' 'esri_lc18' 'esri_lc19' 'esri_lc20' 'esri_lc21'\n",
      " 'gfc_gain' 'gfc_loss' 'gfc_lossyear' 'gfc_tc00' 'lang_tree_height'\n",
      " 'potapov_tree_height' 'slope' 'tmf_2016' 'tmf_2017' 'tmf_2018' 'tmf_2019'\n",
      " 'tmf_2020' 'tmf_defyear' 'tmf_degyear' 'tmf_main' 'tmf_sub' 'OID'\n",
      " 'PLOTID' 'CEO_PLOTID' 'LON' 'LAT' 'ISO' 'CEO_Ref_Code' 'Ref_FNF_2015'\n",
      " 'Ref_LCover' 'Ref_Change_Type_1520' 'Ref_Year' 'countDrivers'\n",
      " 'Ref_InfraR' 'Ref_Urb' 'Ref_ArtAg' 'Ref_IndAg' 'Ref_ArtFor' 'Ref_IndFor'\n",
      " 'Ref_ArtMin' 'Ref_IndMin' 'Ref_Other' 'Source' 'Ref_Change_Year_1520'\n",
      " 'Ref_Change_1520' 'collection' 'interpreted' 'Def2016' 'Def2017'\n",
      " 'Def2018' 'Def2019' 'Def2020' 'Deg2016' 'Deg2017' 'Deg2018' 'Deg2019'\n",
      " 'Deg2020' 'Defall' 'Degall' 'Stable' 'NF' 'sampling' 'ECO_CODE'\n",
      " 'ECO_NAME' 'ECO_NUM' 'ECODE_NAME' 'TropBiome' 'CAFI_LC_2015' 'Frag_2015'\n",
      " 'Treecov_2015' 'Biomass_2010']\n"
     ]
    }
   ],
   "source": [
    "print(trn_ceo.columns.values)"
   ]
  },
  {
   "cell_type": "code",
   "execution_count": null,
   "id": "b0f08cec-aab3-4260-a2d4-14f9e3bca1da",
   "metadata": {},
   "outputs": [],
   "source": [
    "# filter by biome (optional)\n",
    "biome = 2\n",
    "trn_ceo = trn_ceo[trn_ceo['TropBiome'] == biome]"
   ]
  },
  {
   "cell_type": "code",
   "execution_count": 5,
   "id": "abb70ac9-2b5e-47cb-9256-890094453a53",
   "metadata": {},
   "outputs": [
    {
     "data": {
      "text/html": [
       "\n",
       "            <style>\n",
       "                .geemap-dark {\n",
       "                    --jp-widgets-color: white;\n",
       "                    --jp-widgets-label-color: white;\n",
       "                    --jp-ui-font-color1: white;\n",
       "                    --jp-layout-color2: #454545;\n",
       "                    background-color: #383838;\n",
       "                }\n",
       "                    \n",
       "                .geemap-dark .jupyter-button {\n",
       "                    --jp-layout-color3: #383838;\n",
       "                }\n",
       "                \n",
       "                .geemap-colab {\n",
       "                    background-color: var(--colab-primary-surface-color, white);\n",
       "                }\n",
       "                    \n",
       "                .geemap-colab .jupyter-button {\n",
       "                    --jp-layout-color3: var(--colab-primary-surface-color, white);\n",
       "                }\n",
       "            </style>\n",
       "            "
      ],
      "text/plain": [
       "<IPython.core.display.HTML object>"
      ]
     },
     "metadata": {},
     "output_type": "display_data"
    }
   ],
   "source": [
    "trn_gdf = gpd.GeoDataFrame(trn_ceo, geometry=gpd.points_from_xy(trn_ceo.LON, trn_ceo.LAT))"
   ]
  },
  {
   "cell_type": "markdown",
   "id": "dbcfed33-55aa-4bf0-8c8b-604ae6dc7145",
   "metadata": {},
   "source": [
    "### Augmented dataset for country of interest (2015-2022)\n",
    "#### this is the output folder from eSBAE script 4"
   ]
  },
  {
   "cell_type": "code",
   "execution_count": 6,
   "id": "65784c73-07dd-48dd-a3b2-8e8a00e87bd7",
   "metadata": {},
   "outputs": [
    {
     "data": {
      "text/html": [
       "\n",
       "            <style>\n",
       "                .geemap-dark {\n",
       "                    --jp-widgets-color: white;\n",
       "                    --jp-widgets-label-color: white;\n",
       "                    --jp-ui-font-color1: white;\n",
       "                    --jp-layout-color2: #454545;\n",
       "                    background-color: #383838;\n",
       "                }\n",
       "                    \n",
       "                .geemap-dark .jupyter-button {\n",
       "                    --jp-layout-color3: #383838;\n",
       "                }\n",
       "                \n",
       "                .geemap-colab {\n",
       "                    background-color: var(--colab-primary-surface-color, white);\n",
       "                }\n",
       "                    \n",
       "                .geemap-colab .jupyter-button {\n",
       "                    --jp-layout-color3: var(--colab-primary-surface-color, white);\n",
       "                }\n",
       "            </style>\n",
       "            "
      ],
      "text/plain": [
       "<IPython.core.display.HTML object>"
      ]
     },
     "metadata": {},
     "output_type": "display_data"
    }
   ],
   "source": [
    "# glob all files in the data augmentation output folder\n",
    "#files = Path('/home/sepal-user/module_results/esbae/GAB/04_Dataset_Augmentation/Landsat/').glob('*geojson')\n",
    "#files = Path('/home/sepal-user/module_results/esbae/DRC/04_Dataset_Augmentation/Landsat/').glob('*geojson')\n",
    "#files = Path('/home/sepal-user/module_results/esbae/COG/04_Dataset_Augmentation/Landsat/').glob('*geojson')\n",
    "#files = Path('/home/sepal-user/module_results/esbae/EQG/04_Dataset_Augmentation/Landsat/').glob('*geojson')\n",
    "files = Path('/home/sepal-user/module_results/esbae/CMR/04_Dataset_Augmentation/Landsat/').glob('*geojson')\n",
    "#files = Path('/home/sepal-user/module_results/esbae/CAR/04_Dataset_Augmentation/Landsat/').glob('*geojson')"
   ]
  },
  {
   "cell_type": "code",
   "execution_count": 7,
   "id": "0c3ef87d-c6cc-431b-b2fa-959dbdd2e45e",
   "metadata": {},
   "outputs": [
    {
     "data": {
      "text/html": [
       "\n",
       "            <style>\n",
       "                .geemap-dark {\n",
       "                    --jp-widgets-color: white;\n",
       "                    --jp-widgets-label-color: white;\n",
       "                    --jp-ui-font-color1: white;\n",
       "                    --jp-layout-color2: #454545;\n",
       "                    background-color: #383838;\n",
       "                }\n",
       "                    \n",
       "                .geemap-dark .jupyter-button {\n",
       "                    --jp-layout-color3: #383838;\n",
       "                }\n",
       "                \n",
       "                .geemap-colab {\n",
       "                    background-color: var(--colab-primary-surface-color, white);\n",
       "                }\n",
       "                    \n",
       "                .geemap-colab .jupyter-button {\n",
       "                    --jp-layout-color3: var(--colab-primary-surface-color, white);\n",
       "                }\n",
       "            </style>\n",
       "            "
      ],
      "text/plain": [
       "<IPython.core.display.HTML object>"
      ]
     },
     "metadata": {},
     "output_type": "display_data"
    }
   ],
   "source": [
    "# output file eSBAE data for your country with a modeled change probability using CAFI phase I data\n",
    "all_points_out_file = '/home/sepal-user/module_results/esbae/CMR/CMR_esbae_1520_model.csv'"
   ]
  },
  {
   "cell_type": "code",
   "execution_count": null,
   "id": "49035b10-90bc-4587-ac0e-afa5447c4415",
   "metadata": {},
   "outputs": [],
   "source": [
    "# saves combined eSBAE data in parquet format\n",
    "parquet_out = '/home/sepal-user/module_results/esbae/DRC/DRC_esbae_biome2.parquet'"
   ]
  },
  {
   "cell_type": "code",
   "execution_count": null,
   "id": "c08d3de1-5fa0-4587-bb63-a0f957105803",
   "metadata": {},
   "outputs": [],
   "source": [
    "# esbae data with additional attributes from raster data\n",
    "esbae_att_out = '/home/sepal-user/module_results/esbae/DRC/DRC_esbae_1522_att_biome2.csv'"
   ]
  },
  {
   "cell_type": "code",
   "execution_count": null,
   "id": "ce522d0c-aef5-4d3e-a6cd-e2af0eca71d8",
   "metadata": {
    "tags": []
   },
   "outputs": [],
   "source": [
    "#eSBAE columns to include in data export\n",
    "cols_to_export = ['geometry', 'UniqueID',\n",
    "                  #'dates', 'ts',\n",
    "                  'images', 'mon_images',\n",
    "       'bfast_change_date', 'bfast_magnitude', 'bfast_means',\n",
    "       'cusum_change_date', 'cusum_confidence', 'cusum_magnitude', 'red_mean',\n",
    "       'red_sd', 'red_min', 'red_max', 'nir_mean', 'nir_sd', 'nir_min',\n",
    "       'nir_max', 'swir1_mean', 'swir1_sd', 'swir1_min', 'swir1_max',\n",
    "       'swir2_mean', 'swir2_sd', 'swir2_min', 'swir2_max', 'ndfi_mean',\n",
    "       'ndfi_sd', 'ndfi_min', 'ndfi_max', 'brightness_mean', 'brightness_sd',\n",
    "       'brightness_min', 'brightness_max', 'greenness_mean', 'greenness_sd',\n",
    "       'greenness_min', 'greenness_max', 'wetness_mean', 'wetness_sd',\n",
    "       'wetness_min', 'wetness_max', 'bs_slope_mean', 'bs_slope_sd',\n",
    "       'bs_slope_max', 'bs_slope_min', 'ewma_jrc_date', 'ewma_jrc_change',\n",
    "       'ewma_jrc_magnitude', 'mosum_jrc_date', 'mosum_jrc_change',\n",
    "       'mosum_jrc_magnitude', 'cusum_jrc_date', 'cusum_jrc_change',\n",
    "       'cusum_jrc_magnitude', 'ccdc_change_date', 'ccdc_magnitude', 'aspect',\n",
    "       'dw_class_mode', 'dw_tree_prob__max', 'dw_tree_prob__min',\n",
    "       'dw_tree_prob__stdDev', 'dw_tree_prob_mean', 'elevation', 'esa_lc20',\n",
    "       'esa_lc21', 'esri_lc17', 'esri_lc18', 'esri_lc19', 'esri_lc20',\n",
    "       'esri_lc21', 'gfc_gain', 'gfc_loss', 'gfc_lossyear', 'gfc_tc00',\n",
    "       'lang_tree_height', 'potapov_tree_height', 'slope',\n",
    "       'tmf_2016', 'tmf_2017', 'tmf_2018', 'tmf_2019', 'tmf_2020',\n",
    "       'tmf_defyear', 'tmf_degyear', 'tmf_main', 'tmf_sub','CAFI_LC_2015','Frag_2015', 'Treecov_2015', 'Biomass_2010']"
   ]
  },
  {
   "cell_type": "markdown",
   "id": "7dd0528f-618b-40db-a392-4cc33817b6f5",
   "metadata": {},
   "source": [
    "#### auxilliary data to further augment data"
   ]
  },
  {
   "cell_type": "code",
   "execution_count": null,
   "id": "3597d001-dc54-450d-80fa-4c685db91df2",
   "metadata": {},
   "outputs": [],
   "source": [
    "LC_map = \"/home/sepal-user/data/lc_map/CAFI_LC_2015_19_wgs84.tif\""
   ]
  },
  {
   "cell_type": "code",
   "execution_count": null,
   "id": "b7088355-d894-41ba-9bfd-b1292349bf31",
   "metadata": {},
   "outputs": [],
   "source": [
    "frag_map = \"/home/sepal-user/data/other_data/cafi_frag_wgs84.tif\""
   ]
  },
  {
   "cell_type": "code",
   "execution_count": null,
   "id": "d793d7d2-bcbf-4061-a033-42526e2990e6",
   "metadata": {},
   "outputs": [],
   "source": [
    "treecov = \"/home/sepal-user/data/other_data/treecover_2015_1ha_wgs84.tif\""
   ]
  },
  {
   "cell_type": "code",
   "execution_count": null,
   "id": "ca1f747f-e409-4c7a-860f-830b6a8d2763",
   "metadata": {},
   "outputs": [],
   "source": [
    "biomass = \"/home/sepal-user/data/other_data/ESA_Biomass_2010.tif\""
   ]
  },
  {
   "cell_type": "code",
   "execution_count": null,
   "id": "324fa3d5-f04c-4b95-b1d6-4fe715c434ae",
   "metadata": {},
   "outputs": [],
   "source": [
    "biomes = \"/home/sepal-user/data/other_data/CAFI_tnc_ecoregions.shp\""
   ]
  },
  {
   "cell_type": "markdown",
   "id": "1800c464-5c35-4a4b-9461-b27e26b1cf9e",
   "metadata": {},
   "source": [
    "#### end of parameters"
   ]
  },
  {
   "cell_type": "markdown",
   "id": "9035ba9c-a02c-466b-8fb8-842713a0399a",
   "metadata": {},
   "source": [
    "# 1 - CEO data preparation\n",
    "### 1.1 - Import CEO interpreted data"
   ]
  },
  {
   "cell_type": "code",
   "execution_count": null,
   "id": "236a1721-e896-4c66-a1e5-6eefbfeb734d",
   "metadata": {
    "tags": []
   },
   "outputs": [],
   "source": [
    "len(trn_gdf.index)"
   ]
  },
  {
   "cell_type": "markdown",
   "id": "ad9ca399-b27f-44ba-9f6c-fcad3ef4a5a9",
   "metadata": {},
   "source": [
    "### 1.2 - Inspect CEO interpreted data\n",
    "\n",
    "Our ultimate goal is to use the CEO data for getting the probability of forest change via a series of classifications and their probability output. . , i.e. Forest-Non-Forest and a Change-No-Change classifcation.\n",
    "Therefore we need to extract and trnasform the relevant information into a column of 0s and 1s. \n",
    "\n",
    "First let's look at the columns the CEO file contains."
   ]
  },
  {
   "cell_type": "code",
   "execution_count": null,
   "id": "ef0a8269-b7ec-4a26-ad0f-726927456341",
   "metadata": {
    "tags": []
   },
   "outputs": [],
   "source": [
    "trn_gdf.columns.tolist()"
   ]
  },
  {
   "cell_type": "code",
   "execution_count": null,
   "id": "44a5cd9f-e706-4d6d-9c80-47d963381c54",
   "metadata": {
    "tags": []
   },
   "outputs": [],
   "source": [
    "trn_gdf['UniqueID'].nunique(dropna=False)"
   ]
  },
  {
   "cell_type": "markdown",
   "id": "5171aae3-f261-4c09-8359-b4ac049ef787",
   "metadata": {},
   "source": [
    "### 1.3 Print unique values for columns of interest generate Change-No Change"
   ]
  },
  {
   "cell_type": "code",
   "execution_count": null,
   "id": "4e166621-bd38-4336-907c-37a56a4e6bf1",
   "metadata": {
    "tags": []
   },
   "outputs": [],
   "source": [
    "# show unique values for the columns (in red)\n",
    "print('Change', trn_gdf['Ref_Change_Type_1520'].unique())"
   ]
  },
  {
   "cell_type": "code",
   "execution_count": null,
   "id": "b8e5e99b-0684-4bef-88a2-29657cd2a20e",
   "metadata": {},
   "outputs": [],
   "source": [
    "# add stable forest column for classification\n",
    "trn_gdf['Change_Bin'] = trn_gdf['Ref_Change_Type_1520'].apply(lambda x: 1 if x == 'Def' or  x == 'Deg' else 0)\n",
    "np.unique(trn_gdf['Change_Bin'], return_counts=True)"
   ]
  },
  {
   "cell_type": "code",
   "execution_count": null,
   "id": "08b54ebd-107b-48eb-b677-a99e795963fd",
   "metadata": {},
   "outputs": [],
   "source": [
    "# add stable forest column for classification\n",
    "trn_gdf['Stable_Bin'] = trn_gdf['Ref_Change_Type_1520'].apply(lambda x: 1 if x == 'Stable' else 0)\n",
    "np.unique(trn_gdf['Stable_Bin'], return_counts=True)"
   ]
  },
  {
   "cell_type": "code",
   "execution_count": null,
   "id": "5b45036b-8028-4127-aa3b-f84f64abf826",
   "metadata": {},
   "outputs": [],
   "source": [
    "# add def column for classification\n",
    "trn_gdf['Def_Bin'] = trn_gdf['Ref_Change_Type_1520'].apply(lambda x: 1 if x == 'Def' else 0)\n",
    "np.unique(trn_gdf['Def_Bin'], return_counts=True)"
   ]
  },
  {
   "cell_type": "code",
   "execution_count": null,
   "id": "eec8e3e0-25fe-4c16-ab1a-d06366073ec1",
   "metadata": {},
   "outputs": [],
   "source": [
    "# add def column for classification\n",
    "trn_gdf['Deg_Bin'] = trn_gdf['Ref_Change_Type_1520'].apply(lambda x: 1 if x == 'Deg' else 0)\n",
    "np.unique(trn_gdf['Deg_Bin'], return_counts=True)"
   ]
  },
  {
   "cell_type": "code",
   "execution_count": null,
   "id": "998598db-3da2-4d4d-bc07-d0baf1a4b308",
   "metadata": {},
   "outputs": [],
   "source": [
    "# add NF column for classification\n",
    "trn_gdf['NF_Bin'] = trn_gdf['Ref_Change_Type_1520'].apply(lambda x: 1 if x == 'NF' else 0)\n",
    "np.unique(trn_gdf['NF_Bin'], return_counts=True)"
   ]
  },
  {
   "cell_type": "code",
   "execution_count": null,
   "id": "bb2358d8-b29b-46f6-b317-b97cc68b7334",
   "metadata": {},
   "outputs": [],
   "source": [
    "trn_gdf.head()"
   ]
  },
  {
   "cell_type": "code",
   "execution_count": null,
   "id": "8d1328b6-4684-4ad0-916f-1a718e0d8ea0",
   "metadata": {},
   "outputs": [],
   "source": [
    "# Initialize a dictionary to store the counts by column\n",
    "merged_columns = trn_gdf.columns.tolist()\n",
    "missing_counts = {}\n",
    "\n",
    "# Count missing values and sum the counts by column\n",
    "for column in merged_columns:\n",
    "    missing_counts[column] =trn_gdf[column].isna().sum()\n",
    "\n",
    "# Print the counts\n",
    "print(missing_counts)"
   ]
  },
  {
   "cell_type": "markdown",
   "id": "f2927f8d-74f0-44db-a0e4-5d0f46afdbb0",
   "metadata": {
    "tags": []
   },
   "source": [
    "# 2 - Join CEO and Time-Series data"
   ]
  },
  {
   "cell_type": "markdown",
   "id": "05c6af54-1589-4694-aadb-4779c3693c6a",
   "metadata": {
    "tags": []
   },
   "source": [
    "### 2.1 - Load data augmented time-series data from script 4\n",
    "area must intersect with the CAFI region"
   ]
  },
  {
   "cell_type": "code",
   "execution_count": null,
   "id": "379fa7c1-598e-4e8b-80ae-e887ee3b527d",
   "metadata": {
    "tags": []
   },
   "outputs": [],
   "source": [
    "# prepare for parallel execution\n",
    "files = [[str(file), False] for file in files]\n",
    "\n",
    "# read files in parallel nad put the in a list\n",
    "result = py_helpers.run_in_parallel(\n",
    "    py_helpers.geojson_to_gdf,\n",
    "    files,\n",
    "    workers=4,\n",
    "    parallelization='processes'\n",
    ")\n",
    "\n",
    "# concatenate dataframes from result's list\n",
    "cdf = pd.concat(result)"
   ]
  },
  {
   "cell_type": "code",
   "execution_count": null,
   "id": "2f9653a4-c578-4ea9-86e5-80b578d1035a",
   "metadata": {},
   "outputs": [],
   "source": [
    "#save file\n",
    "cdf.to_parquet(parquet_out)"
   ]
  },
  {
   "cell_type": "code",
   "execution_count": null,
   "id": "a0982340-dd14-4d44-ad4d-e0c7e9d2aaa6",
   "metadata": {},
   "outputs": [],
   "source": [
    "#if you already ran this step you can read the parquet file\n",
    "cdf = gpd.read_parquet(parquet_out)"
   ]
  },
  {
   "cell_type": "code",
   "execution_count": null,
   "id": "e1eb6f3f-814e-4174-87c3-f87a0ed75f81",
   "metadata": {},
   "outputs": [],
   "source": [
    "all_columns = cdf.columns.tolist()\n",
    "\n",
    "# Print the list of columns\n",
    "print(all_columns)"
   ]
  },
  {
   "cell_type": "code",
   "execution_count": null,
   "id": "5acc3f53-1b15-40de-a749-5e00d6b6295a",
   "metadata": {
    "tags": []
   },
   "outputs": [],
   "source": [
    "len(cdf.index)"
   ]
  },
  {
   "cell_type": "code",
   "execution_count": null,
   "id": "db51892e-8883-42be-8023-77622387eef1",
   "metadata": {
    "tags": []
   },
   "outputs": [],
   "source": [
    "print(trn_gdf.columns)"
   ]
  },
  {
   "cell_type": "code",
   "execution_count": null,
   "id": "4e658dd8-7989-4e75-837f-f859156a5e9d",
   "metadata": {},
   "outputs": [],
   "source": [
    "merged_columns = cdf.columns.tolist()\n",
    "# Initialize a dictionary to store the counts by column\n",
    "merged_columns = cdf.columns.tolist()\n",
    "missing_counts = {}\n",
    "\n",
    "# Count missing values and sum the counts by column\n",
    "for column in merged_columns:\n",
    "    missing_counts[column] =cdf[column].isna().sum()\n",
    "\n",
    "# Print the counts\n",
    "print(missing_counts)"
   ]
  },
  {
   "cell_type": "markdown",
   "id": "87321cc6-6bc1-4cf2-a764-7d50f110b934",
   "metadata": {},
   "source": [
    "### 2.2 - add raster and polygon attributes"
   ]
  },
  {
   "cell_type": "code",
   "execution_count": null,
   "id": "ec4e290b-4b39-42cc-aecb-00a4b7cd4780",
   "metadata": {},
   "outputs": [],
   "source": [
    "# Read file using gpd.read_file()\n",
    "poly_shp = gpd.read_file(biomes)\n",
    "poly_shp.head()"
   ]
  },
  {
   "cell_type": "code",
   "execution_count": null,
   "id": "77e81541-b807-4f24-8653-31eb6edd9f95",
   "metadata": {},
   "outputs": [],
   "source": [
    "poly_crs = poly_shp.crs\n",
    "print(\"Current CRS:\", poly_crs)"
   ]
  },
  {
   "cell_type": "code",
   "execution_count": null,
   "id": "6c7fa36b-22f9-47cb-940a-d0ad2d06955b",
   "metadata": {},
   "outputs": [],
   "source": [
    "poly_shp = poly_shp.to_crs(cdf.crs)"
   ]
  },
  {
   "cell_type": "code",
   "execution_count": null,
   "id": "aa4f31d8-8206-4896-be50-27b1e5d312bf",
   "metadata": {},
   "outputs": [],
   "source": [
    "# Perform the spatial join\n",
    "joined_data = gpd.sjoin(cdf, poly_shp, how=\"left\", op=\"within\",lsuffix='left', rsuffix='right')"
   ]
  },
  {
   "cell_type": "code",
   "execution_count": null,
   "id": "f225fed8-88a0-4103-990b-2e8ea4c83302",
   "metadata": {},
   "outputs": [],
   "source": [
    "joined_data['TropBiome'].value_counts(dropna=False)"
   ]
  },
  {
   "cell_type": "code",
   "execution_count": null,
   "id": "331c4113-cd17-4496-baed-41f225c94395",
   "metadata": {},
   "outputs": [],
   "source": [
    "joined_data['TropBiome'] = joined_data['TropBiome'].fillna(2)"
   ]
  },
  {
   "cell_type": "code",
   "execution_count": null,
   "id": "69c6f00c-62ac-45fb-a2c3-0c8acf57902e",
   "metadata": {},
   "outputs": [],
   "source": [
    "#drop any columns if needed\n",
    "columns_to_drop = ['index_right', 'ECO_ID_U','CLS_CODE', 'ECO_NOTES', 'WWF_REALM', 'WWF_REALM2', 'WWF_MHTNUM', 'WWF_MHTNAM', 'RealmMHT', 'ER_UPDATE', 'ER_DATE_U', 'ER_RATION', 'SOURCEDATA', 'Shape__Are', 'Shape__Len', 'GlobalID']\n",
    "cdf = joined_data.drop(columns_to_drop, axis=1)"
   ]
  },
  {
   "cell_type": "code",
   "execution_count": null,
   "id": "0435a34b-43a0-4274-9095-a7e38d01e749",
   "metadata": {},
   "outputs": [],
   "source": [
    "LC_src = rasterio.open(LC_map)"
   ]
  },
  {
   "cell_type": "code",
   "execution_count": null,
   "id": "186b8ba2-d5be-40d9-bb18-0b9852b32ea4",
   "metadata": {},
   "outputs": [],
   "source": [
    "frag_src = rasterio.open(frag_map)"
   ]
  },
  {
   "cell_type": "code",
   "execution_count": null,
   "id": "54b574d1-728c-44de-a386-3cb390c893ca",
   "metadata": {},
   "outputs": [],
   "source": [
    "tree_src = rasterio.open(treecov)"
   ]
  },
  {
   "cell_type": "code",
   "execution_count": null,
   "id": "fd03fddd-7188-43c5-8e88-b1c2b4f689c1",
   "metadata": {},
   "outputs": [],
   "source": [
    "biomass_src =  rasterio.open(biomass)"
   ]
  },
  {
   "cell_type": "code",
   "execution_count": null,
   "id": "573ea3f6-acc0-4b2d-889a-6a19297ca0aa",
   "metadata": {},
   "outputs": [],
   "source": [
    "coord_list = [(x, y) for x, y in zip(cdf[\"geometry\"].x, cdf[\"geometry\"].y)]"
   ]
  },
  {
   "cell_type": "code",
   "execution_count": null,
   "id": "fb5132cc-da78-4988-8ec8-bb7b3b3c6a69",
   "metadata": {},
   "outputs": [],
   "source": [
    "cdf[\"CAFI_LC_2015\"] = [x for x in LC_src.sample(coord_list)]\n",
    "cdf[\"CAFI_LC_2015\"] = cdf[\"CAFI_LC_2015\"].str[0]\n",
    "cdf.head()"
   ]
  },
  {
   "cell_type": "code",
   "execution_count": null,
   "id": "3c1d96a9-e316-4109-a1e8-0cc075f72a5e",
   "metadata": {},
   "outputs": [],
   "source": [
    "cdf[\"Frag_2015\"] = [x for x in frag_src.sample(coord_list)]\n",
    "cdf[\"Frag_2015\"] = cdf[\"Frag_2015\"].str[0]\n",
    "cdf.head()"
   ]
  },
  {
   "cell_type": "code",
   "execution_count": null,
   "id": "1158f224-464a-467a-893e-1326bb925ab9",
   "metadata": {},
   "outputs": [],
   "source": [
    "cdf[\"Treecov_2015\"] = [x for x in tree_src.sample(coord_list)]\n",
    "cdf[\"Treecov_2015\"] = cdf[\"Treecov_2015\"].str[0]\n",
    "cdf.head()"
   ]
  },
  {
   "cell_type": "code",
   "execution_count": null,
   "id": "67a6a03a-b4f0-4631-a8f9-050e030c0488",
   "metadata": {},
   "outputs": [],
   "source": [
    "cdf[\"Biomass_2010\"] = [x for x in biomass_src.sample(coord_list)]\n",
    "cdf[\"Biomass_2010\"] = cdf[\"Biomass_2010\"].str[0]\n",
    "cdf.head()"
   ]
  },
  {
   "cell_type": "code",
   "execution_count": null,
   "id": "cf403538-515b-4127-8ab1-360d9a7dd658",
   "metadata": {},
   "outputs": [],
   "source": [
    "print(cdf.columns)"
   ]
  },
  {
   "cell_type": "code",
   "execution_count": null,
   "id": "736117ae-9b4d-4725-bdda-4a52f502606a",
   "metadata": {},
   "outputs": [],
   "source": [
    "# export cdf file to avoid having to resample all the time\n",
    "cdf.to_csv(esbae_att_out, index=False)"
   ]
  },
  {
   "cell_type": "markdown",
   "id": "d5d8ab9d-9b8a-4263-885e-b7715ab72698",
   "metadata": {},
   "source": [
    "### 2.3 - Make a union with training data"
   ]
  },
  {
   "cell_type": "code",
   "execution_count": null,
   "id": "0496278b-1d75-4caf-9dd8-b693f498dd3d",
   "metadata": {},
   "outputs": [],
   "source": [
    "# if raster attributes were already calculated\n",
    "#cdf_file = gpd.read_file('/home/sepal-user/module_results/esbae/COG/COG_esbae_1522_att.csv',delimiter=',')"
   ]
  },
  {
   "cell_type": "code",
   "execution_count": null,
   "id": "c2532592-6e76-41be-a41d-6cdd22f8ae27",
   "metadata": {},
   "outputs": [],
   "source": [
    "# filter by biome (optional)\n",
    "cdf = cdf[cdf['TropBiome'] == biome]"
   ]
  },
  {
   "cell_type": "code",
   "execution_count": null,
   "id": "9e2214d9-8278-4183-9fca-9d72fc6776a7",
   "metadata": {
    "tags": []
   },
   "outputs": [],
   "source": [
    "db = pd.concat([cdf, trn_gdf], ignore_index=True)"
   ]
  },
  {
   "cell_type": "code",
   "execution_count": null,
   "id": "ed68e6bb-36f9-43de-a9ff-255ff2f380ad",
   "metadata": {
    "tags": []
   },
   "outputs": [],
   "source": [
    "len(db.index)"
   ]
  },
  {
   "cell_type": "code",
   "execution_count": null,
   "id": "1b04b8cb-6677-427e-b194-598724bb5cb8",
   "metadata": {
    "tags": []
   },
   "outputs": [],
   "source": [
    "db.head()"
   ]
  },
  {
   "cell_type": "code",
   "execution_count": null,
   "id": "21f683b4-ca0d-454c-8a71-3e7695ae5bfa",
   "metadata": {
    "tags": []
   },
   "outputs": [],
   "source": [
    "print(db.columns.values)"
   ]
  },
  {
   "cell_type": "code",
   "execution_count": null,
   "id": "061aad14-e3ab-48b1-9873-9208d82d3054",
   "metadata": {
    "tags": []
   },
   "outputs": [],
   "source": [
    "len(cdf.index)+len(trn_gdf.index) == len(db.index)"
   ]
  },
  {
   "cell_type": "markdown",
   "id": "3aaf8064-8a17-4ba1-89c2-f4e582fadf87",
   "metadata": {},
   "source": [
    "#### check for NAs"
   ]
  },
  {
   "cell_type": "code",
   "execution_count": null,
   "id": "a3610236-a651-41e8-8475-f65055edda80",
   "metadata": {},
   "outputs": [],
   "source": [
    "# Initialize a dictionary to store the counts by column\n",
    "missing_counts = {}\n",
    "\n",
    "# Count missing values and sum the counts by column\n",
    "for column in cols_to_export:\n",
    "    missing_counts[column] = db[column].isna().sum()\n",
    "\n",
    "# Print the counts\n",
    "print(missing_counts)"
   ]
  },
  {
   "cell_type": "code",
   "execution_count": null,
   "id": "0400f6e7-2688-476f-9d77-ba3bf7772993",
   "metadata": {},
   "outputs": [],
   "source": [
    "# Specify the columns to replace NaN with 0 (categorical data)\n",
    "columns_to_fill = ['gfc_lossyear', 'gfc_gain','gfc_loss', 'lang_tree_height', 'esa_lc20', 'esa_lc21', 'esri_lc20',  'esri_lc21' , 'esri_lc19', 'esri_lc18', 'esri_lc17', \n",
    "                   'potapov_tree_height','elevation','slope', 'tmf_2016', 'tmf_2017', 'tmf_2018', 'tmf_2019', 'tmf_2020', 'tmf_defyear', 'tmf_degyear', 'tmf_main', 'tmf_sub', 'aspect']\n",
    "\n",
    "# Set NaN values in the selected columns to 0\n",
    "db[columns_to_fill] = db[columns_to_fill].fillna(0)"
   ]
  },
  {
   "cell_type": "code",
   "execution_count": null,
   "id": "90e548cb-9d08-4539-acdc-f255fc4f50c4",
   "metadata": {},
   "outputs": [],
   "source": [
    "# Specify the columns you want to impute with the mean value - continuous data\n",
    "columns_to_impute = ['dw_class_mode', 'dw_tree_prob__max', 'dw_tree_prob__stdDev','dw_tree_prob_mean', 'dw_tree_prob__min']\n",
    "\n",
    "# Impute NaN values in the selected columns with the mean\n",
    "for column in columns_to_impute:\n",
    "    mean_value = db[column].mean()\n",
    "    db[column].fillna(mean_value, inplace=True)"
   ]
  },
  {
   "cell_type": "markdown",
   "id": "0dfa9839-c6c0-463d-9654-c8d79606720f",
   "metadata": {
    "tags": []
   },
   "source": [
    "### 2.4 Check the amount of ground truth data we have for each class"
   ]
  },
  {
   "cell_type": "code",
   "execution_count": null,
   "id": "4da44861-3aff-4df6-b308-c1ac37f5b3f8",
   "metadata": {
    "tags": []
   },
   "outputs": [],
   "source": [
    "db['Change_Bin'].value_counts(dropna=False)"
   ]
  },
  {
   "cell_type": "code",
   "execution_count": null,
   "id": "3e8125ac-c12f-42d5-86fc-0423a38315a9",
   "metadata": {},
   "outputs": [],
   "source": [
    "db['Def_Bin'].value_counts(dropna=False)"
   ]
  },
  {
   "cell_type": "code",
   "execution_count": null,
   "id": "c26fe59b-98fd-415d-af96-0958d08425c4",
   "metadata": {},
   "outputs": [],
   "source": [
    "db['Deg_Bin'].value_counts(dropna=False)"
   ]
  },
  {
   "cell_type": "markdown",
   "id": "954c83e9-ca02-4a42-9aab-2492e18ba7d4",
   "metadata": {},
   "source": [
    "## 3. Run change/no-change classification"
   ]
  },
  {
   "cell_type": "code",
   "execution_count": null,
   "id": "49d59cb8-39e0-4622-bbd2-34ca78b0f947",
   "metadata": {},
   "outputs": [],
   "source": [
    "# eSBAE columns for analysis\n",
    "eSBAE_analysis = [\n",
    "    #'geometry', \n",
    "    #'point_id', \n",
    "    #'dates', 'ts', \n",
    "    'images', 'mon_images', \n",
    "       'bfast_change_date','bfast_magnitude', 'bfast_means', \n",
    "       'cusum_change_date','cusum_confidence', 'cusum_magnitude', \n",
    "       'red_mean', 'red_sd', 'red_min',\n",
    "       'red_max', 'nir_mean', 'nir_sd', 'nir_min', 'nir_max', 'swir1_mean',\n",
    "       'swir1_sd', 'swir1_min', 'swir1_max', 'swir2_mean', 'swir2_sd',\n",
    "       'swir2_min', 'swir2_max', 'ndfi_mean', 'ndfi_sd', 'ndfi_min',\n",
    "       'ndfi_max', 'brightness_mean', 'brightness_sd', 'brightness_min',\n",
    "       'brightness_max', 'greenness_mean', 'greenness_sd', 'greenness_min',\n",
    "       'greenness_max', 'wetness_mean', 'wetness_sd', 'wetness_min',\n",
    "       'wetness_max', 'bs_slope_mean', 'bs_slope_sd', 'bs_slope_max',\n",
    "       'bs_slope_min', 'ewma_jrc_date', 'ewma_jrc_change',\n",
    "       'ewma_jrc_magnitude', 'mosum_jrc_date', 'mosum_jrc_change',\n",
    "       'mosum_jrc_magnitude', 'cusum_jrc_date', 'cusum_jrc_change',\n",
    "       'cusum_jrc_magnitude', 'ccdc_change_date', 'ccdc_magnitude', 'aspect',\n",
    "       'dw_class_mode', 'dw_tree_prob__max', 'dw_tree_prob__min',\n",
    "       'dw_tree_prob__stdDev', 'dw_tree_prob_mean', 'elevation', 'esa_lc20',\n",
    "       'esa_lc21', 'esri_lc17', 'esri_lc18', 'esri_lc19', 'esri_lc20',\n",
    "       'esri_lc21', 'gfc_gain', 'gfc_loss', 'gfc_lossyear', 'gfc_tc00',\n",
    "       'lang_tree_height', 'potapov_tree_height', 'slope',\n",
    "       'tmf_2016', 'tmf_2017', 'tmf_2018', 'tmf_2019', 'tmf_2020',\n",
    "       'tmf_defyear', 'tmf_degyear', 'tmf_main', 'tmf_sub', \n",
    "        'CAFI_LC_2015','Frag_2015', 'Treecov_2015', 'Biomass_2010'\n",
    "        ]"
   ]
  },
  {
   "cell_type": "code",
   "execution_count": null,
   "id": "1e19ab45-d885-4aa3-816f-7d1f1463901a",
   "metadata": {
    "tags": []
   },
   "outputs": [],
   "source": [
    "# predictors used change/nochange classification\n",
    "db['chg_prob_cafi1520'] = clf.binary_probability_classification(db, 'Change_Bin', eSBAE_analysis, outlier=False)"
   ]
  },
  {
   "cell_type": "code",
   "execution_count": null,
   "id": "8898c1a5-e62a-4e71-aef0-7c2a5649caab",
   "metadata": {},
   "outputs": [],
   "source": [
    "# predictors used change/nochange classification\n",
    "db['def_prob_cafi1520'] = clf.binary_probability_classification(db, 'Def_Bin', eSBAE_analysis, outlier=False)"
   ]
  },
  {
   "cell_type": "code",
   "execution_count": null,
   "id": "f74f9e2b-adda-4b35-a6c3-1ea9844ac91f",
   "metadata": {},
   "outputs": [],
   "source": [
    "# predictors used change/nochange classification\n",
    "db['deg_prob_cafi1520'] = clf.binary_probability_classification(db, 'Deg_Bin', eSBAE_analysis, outlier=False)"
   ]
  },
  {
   "cell_type": "code",
   "execution_count": null,
   "id": "8a7323f6-37c7-4d83-9bb6-dc46531d0726",
   "metadata": {},
   "outputs": [],
   "source": [
    "# predictors used change/nochange classification\n",
    "db['stable_prob_cafi1520'] = clf.binary_probability_classification(db, 'Stable_Bin', eSBAE_analysis, outlier=False)"
   ]
  },
  {
   "cell_type": "code",
   "execution_count": null,
   "id": "cd70eca0-513c-46a9-9d59-a13af0318c2a",
   "metadata": {},
   "outputs": [],
   "source": [
    "clf_db = db[db[\"point_id\"] > 0]"
   ]
  },
  {
   "cell_type": "code",
   "execution_count": null,
   "id": "adeb003e-b355-4418-81b9-026c84ae4ce8",
   "metadata": {},
   "outputs": [],
   "source": [
    "fig, ax = plt.subplots(1,2, figsize=(15,7))\n",
    "\n",
    "clf_db.plot('chg_prob_cafi1520', markersize=0.05, ax=ax[0], legend=True, cmap='magma')\n",
    "clf_db.hist('chg_prob_cafi1520', ax=ax[1])"
   ]
  },
  {
   "cell_type": "code",
   "execution_count": null,
   "id": "904db35a-051b-48c4-9f7c-03517d035afe",
   "metadata": {},
   "outputs": [],
   "source": [
    "fig, ax = plt.subplots(1,2, figsize=(15,7))\n",
    "\n",
    "clf_db.plot('def_prob_cafi1520', markersize=0.05, ax=ax[0], legend=True, cmap='magma')\n",
    "clf_db.hist('def_prob_cafi1520', ax=ax[1])"
   ]
  },
  {
   "cell_type": "code",
   "execution_count": null,
   "id": "a78214a4-bf36-40dd-89e9-77ecd6b38d67",
   "metadata": {},
   "outputs": [],
   "source": [
    "fig, ax = plt.subplots(1,2, figsize=(15,7))\n",
    "\n",
    "clf_db.plot('deg_prob_cafi1520', markersize=0.05, ax=ax[0], legend=True, cmap='magma')\n",
    "clf_db.hist('deg_prob_cafi1520', ax=ax[1])"
   ]
  },
  {
   "cell_type": "code",
   "execution_count": null,
   "id": "f84d720b-502e-4445-bd90-d91c55e5d467",
   "metadata": {},
   "outputs": [],
   "source": [
    "fig, ax = plt.subplots(1,2, figsize=(15,7))\n",
    "\n",
    "clf_db.plot('stable_prob_cafi1520', markersize=0.05, ax=ax[0], legend=True, cmap='magma')\n",
    "clf_db.hist('stable_prob_cafi1520', ax=ax[1])"
   ]
  },
  {
   "cell_type": "code",
   "execution_count": null,
   "id": "31fdbd4a-0e27-4d1a-b350-89d2ebc69af1",
   "metadata": {
    "tags": []
   },
   "outputs": [],
   "source": [
    "clf_db.columns"
   ]
  },
  {
   "cell_type": "code",
   "execution_count": null,
   "id": "21437484-4434-4b94-80cb-7c52128b82a9",
   "metadata": {
    "tags": []
   },
   "outputs": [],
   "source": [
    "joined_df = clf_db"
   ]
  },
  {
   "cell_type": "code",
   "execution_count": null,
   "id": "bb4d44c7-db13-43fc-8ec7-7c8679d8ce0c",
   "metadata": {
    "tags": []
   },
   "outputs": [],
   "source": [
    "len(joined_df)"
   ]
  },
  {
   "cell_type": "markdown",
   "id": "faef6bd2-3898-4a1c-b126-3fbe491d9a50",
   "metadata": {},
   "source": [
    "### 3.2 Stratify with Kmeans"
   ]
  },
  {
   "cell_type": "code",
   "execution_count": null,
   "id": "3f77d611-76fb-4435-bc7d-6db9306c0f65",
   "metadata": {
    "tags": []
   },
   "outputs": [],
   "source": [
    "sample_size_no = 10000"
   ]
  },
  {
   "cell_type": "code",
   "execution_count": null,
   "id": "78ead54d-a174-46ba-896e-01d43f5fce07",
   "metadata": {
    "tags": []
   },
   "outputs": [],
   "source": [
    "joined_df, samples = h.kmeans_stratifier(joined_df, 'chg_prob_cafi1520', strata=3, sample_size=sample_size_no)"
   ]
  },
  {
   "cell_type": "code",
   "execution_count": null,
   "id": "3aade68f-29e6-411f-86d6-d6d3efd8ecd1",
   "metadata": {
    "tags": []
   },
   "outputs": [],
   "source": [
    "joined_df['kmeans_chg'] = joined_df['stratum']"
   ]
  },
  {
   "cell_type": "code",
   "execution_count": null,
   "id": "a0d06b33-967f-4130-bcc7-cdd7406fcf29",
   "metadata": {
    "tags": []
   },
   "outputs": [],
   "source": [
    "h.plot_cluster(joined_df, prob_column='chg_prob_cafi1520', strata_column='kmeans_chg')\n",
    "\n",
    "fig, ax = plt.subplots(1,2, figsize=(15,7))\n",
    "\n",
    "joined_df.plot('kmeans_chg', markersize=0.15, ax=ax[0], legend=True, cmap='magma')\n",
    "joined_df.hist('kmeans_chg', ax=ax[1], bins=50)\n",
    "samples"
   ]
  },
  {
   "cell_type": "code",
   "execution_count": null,
   "id": "219a3c7e-800d-4d61-892b-61653c86a6bf",
   "metadata": {
    "tags": []
   },
   "outputs": [],
   "source": [
    "joined_df, samples = h.kmeans_stratifier(joined_df, 'def_prob_cafi1520', strata=3, sample_size=sample_size_no)"
   ]
  },
  {
   "cell_type": "code",
   "execution_count": null,
   "id": "53ec8a57-e1ce-4098-896f-403ec020e2a0",
   "metadata": {
    "tags": []
   },
   "outputs": [],
   "source": [
    "joined_df['kmeans_def'] = joined_df['stratum']"
   ]
  },
  {
   "cell_type": "code",
   "execution_count": null,
   "id": "f3471dd1-bb99-4939-858b-dd8dcd2124f3",
   "metadata": {
    "tags": []
   },
   "outputs": [],
   "source": [
    "h.plot_cluster(joined_df, prob_column='def_prob_cafi1520', strata_column='kmeans_def')\n",
    "\n",
    "fig, ax = plt.subplots(1,2, figsize=(15,7))\n",
    "\n",
    "joined_df.plot('kmeans_def', markersize=0.15, ax=ax[0], legend=True, cmap='magma')\n",
    "joined_df.hist('kmeans_def', ax=ax[1], bins=50)\n",
    "samples"
   ]
  },
  {
   "cell_type": "code",
   "execution_count": null,
   "id": "63e098b8-a452-4edc-9e21-71182c40f580",
   "metadata": {
    "tags": []
   },
   "outputs": [],
   "source": [
    "joined_df, samples = h.kmeans_stratifier(joined_df, 'deg_prob_cafi1520', strata=3, sample_size=sample_size_no)"
   ]
  },
  {
   "cell_type": "code",
   "execution_count": null,
   "id": "c73dccd3-cf14-430f-814f-c4e9f331acd6",
   "metadata": {
    "tags": []
   },
   "outputs": [],
   "source": [
    "joined_df['kmeans_deg'] = joined_df['stratum']"
   ]
  },
  {
   "cell_type": "code",
   "execution_count": null,
   "id": "c2684425-8906-48b9-aead-1e45cfe08adf",
   "metadata": {
    "tags": []
   },
   "outputs": [],
   "source": [
    "h.plot_cluster(joined_df, prob_column='deg_prob_cafi1520', strata_column='kmeans_deg')\n",
    "\n",
    "fig, ax = plt.subplots(1,2, figsize=(15,7))\n",
    "\n",
    "joined_df.plot('kmeans_deg', markersize=0.15, ax=ax[0], legend=True, cmap='magma')\n",
    "joined_df.hist('kmeans_deg', ax=ax[1], bins=50)\n",
    "samples"
   ]
  },
  {
   "cell_type": "code",
   "execution_count": null,
   "id": "d477d6c1-a21d-4ad6-b0e2-446de83fe079",
   "metadata": {},
   "outputs": [],
   "source": [
    "cross_tab = pd.crosstab(index= joined_df['kmeans_def'], columns=joined_df['kmeans_deg'], margins=True, margins_name=\"Total\")\n",
    "cross_tab"
   ]
  },
  {
   "cell_type": "code",
   "execution_count": null,
   "id": "a1cf74a7-5954-4915-8301-b9f0504af330",
   "metadata": {},
   "outputs": [],
   "source": [
    "pd.pivot_table(joined_df,values='point_id',index=['kmeans_chg'],aggfunc=\"count\", margins=True)"
   ]
  },
  {
   "cell_type": "markdown",
   "id": "92d26c94-4d28-4ff3-87b9-16f933aba450",
   "metadata": {},
   "source": [
    "### 4. align column names, get coordinates\n"
   ]
  },
  {
   "cell_type": "code",
   "execution_count": null,
   "id": "e022ffb6-5f1d-4467-b52d-f64ff4114ed9",
   "metadata": {
    "tags": []
   },
   "outputs": [],
   "source": [
    "joined_df['PLOTID'] = joined_df['point_id']"
   ]
  },
  {
   "cell_type": "code",
   "execution_count": null,
   "id": "cdd78de0-b8f5-415b-9773-c38381284add",
   "metadata": {
    "tags": []
   },
   "outputs": [],
   "source": [
    "joined_df.columns.tolist()"
   ]
  },
  {
   "cell_type": "code",
   "execution_count": null,
   "id": "59c96b1a-1eb3-43c2-906a-b8cc170123f1",
   "metadata": {},
   "outputs": [],
   "source": [
    "joined_df.drop(columns=(['dates','ts','stratum','UniqueID',\n",
    " 'OID', 'PLOTID', 'CEO_PLOTID','CEO_Ref_Code','LON','LAT', 'Ref_FNF_2015',\n",
    " 'Ref_LCover', 'Ref_Change_Type_1520', 'Ref_Year', 'countDrivers',\n",
    " 'Ref_InfraR', 'Ref_Urb', 'Ref_ArtAg', 'Ref_IndAg',\n",
    " 'Ref_ArtFor', 'Ref_IndFor', 'Ref_ArtMin', 'Ref_IndMin',\n",
    " 'Ref_Other', 'Source', 'Ref_Change_Year_1520',\n",
    " 'Ref_Change_1520', 'collection', 'interpreted',\n",
    " 'Def2016', 'Def2017','Def2018', 'Def2019',\n",
    " 'Def2020', 'Deg2016', 'Deg2017', 'Deg2018',\n",
    " 'Deg2019', 'Deg2020', 'Defall', 'Degall',\n",
    " 'Stable', 'NF',]), inplace=True)"
   ]
  },
  {
   "cell_type": "code",
   "execution_count": null,
   "id": "717c2e3e-3d86-4d9f-8e1a-88a3f3a43ad0",
   "metadata": {
    "tags": []
   },
   "outputs": [],
   "source": [
    "joined_df['LON'] = joined_df.geometry.apply(lambda p: p.x)\n",
    "joined_df['LAT'] = joined_df.geometry.apply(lambda p: p.y)"
   ]
  },
  {
   "cell_type": "markdown",
   "id": "7efd117d-4d05-4d2b-813e-d9ef7626d92c",
   "metadata": {},
   "source": [
    "### 5. export the points for your area with the change probability model"
   ]
  },
  {
   "cell_type": "code",
   "execution_count": null,
   "id": "fc818a1a-9645-4940-8dc0-75042bab79be",
   "metadata": {
    "tags": []
   },
   "outputs": [],
   "source": [
    "joined_df.to_csv(all_points_out_file,index=False)"
   ]
  },
  {
   "cell_type": "markdown",
   "id": "355e31c0-0e88-4222-af91-805c852c098b",
   "metadata": {},
   "source": [
    "### now you may proceed to script 5c if you want to extract sample points for CEO"
   ]
  }
 ],
 "metadata": {
  "kernelspec": {
   "display_name": " (venv) Sample Based Area Estimation",
   "language": "python",
   "name": "venv-esbae_notebooks"
  },
  "language_info": {
   "codemirror_mode": {
    "name": "ipython",
    "version": 3
   },
   "file_extension": ".py",
   "mimetype": "text/x-python",
   "name": "python",
   "nbconvert_exporter": "python",
   "pygments_lexer": "ipython3",
   "version": "3.10.12"
  }
 },
 "nbformat": 4,
 "nbformat_minor": 5
}
