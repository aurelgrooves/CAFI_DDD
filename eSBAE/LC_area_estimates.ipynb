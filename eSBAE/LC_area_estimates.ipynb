{
 "cells": [
  {
   "cell_type": "code",
   "execution_count": 1,
   "id": "c030d73b-ea82-4442-b44b-8c49def824f2",
   "metadata": {},
   "outputs": [],
   "source": [
    "import ee\n",
    "ee.Initialize()\n",
    "\n",
    "import geemap\n",
    "import pandas as pd\n",
    "import geopandas as gpd\n",
    "import numpy as np \n",
    "\n",
    "import seaborn as sns\n",
    "from matplotlib import pyplot as plt\n",
    "from sklearn.metrics import confusion_matrix\n",
    "\n",
    "pd.options.display.float_format = '{:.3f}'.format"
   ]
  },
  {
   "cell_type": "markdown",
   "id": "86cd5499-ef71-4025-936b-9604d5349930",
   "metadata": {},
   "source": [
    "## 1 - input parameters"
   ]
  },
  {
   "cell_type": "code",
   "execution_count": 2,
   "id": "143a9652-4451-46ed-a616-43d5a211245a",
   "metadata": {},
   "outputs": [
    {
     "data": {
      "text/html": [
       "\n",
       "            <style>\n",
       "                .geemap-dark {\n",
       "                    --jp-widgets-color: white;\n",
       "                    --jp-widgets-label-color: white;\n",
       "                    --jp-ui-font-color1: white;\n",
       "                    --jp-layout-color2: #454545;\n",
       "                    background-color: #383838;\n",
       "                }\n",
       "\n",
       "                .geemap-dark .jupyter-button {\n",
       "                    --jp-layout-color3: #383838;\n",
       "                }\n",
       "\n",
       "                .geemap-colab {\n",
       "                    background-color: var(--colab-primary-surface-color, white);\n",
       "                }\n",
       "\n",
       "                .geemap-colab .jupyter-button {\n",
       "                    --jp-layout-color3: var(--colab-primary-surface-color, white);\n",
       "                }\n",
       "            </style>\n",
       "            "
      ],
      "text/plain": [
       "<IPython.core.display.HTML object>"
      ]
     },
     "metadata": {},
     "output_type": "display_data"
    }
   ],
   "source": [
    "ISO = 'GAB'"
   ]
  },
  {
   "cell_type": "code",
   "execution_count": 3,
   "id": "eb85366f-4556-4b32-b97a-b3989cf394eb",
   "metadata": {},
   "outputs": [
    {
     "data": {
      "text/html": [
       "\n",
       "            <style>\n",
       "                .geemap-dark {\n",
       "                    --jp-widgets-color: white;\n",
       "                    --jp-widgets-label-color: white;\n",
       "                    --jp-ui-font-color1: white;\n",
       "                    --jp-layout-color2: #454545;\n",
       "                    background-color: #383838;\n",
       "                }\n",
       "\n",
       "                .geemap-dark .jupyter-button {\n",
       "                    --jp-layout-color3: #383838;\n",
       "                }\n",
       "\n",
       "                .geemap-colab {\n",
       "                    background-color: var(--colab-primary-surface-color, white);\n",
       "                }\n",
       "\n",
       "                .geemap-colab .jupyter-button {\n",
       "                    --jp-layout-color3: var(--colab-primary-surface-color, white);\n",
       "                }\n",
       "            </style>\n",
       "            "
      ],
      "text/plain": [
       "<IPython.core.display.HTML object>"
      ]
     },
     "metadata": {},
     "output_type": "display_data"
    }
   ],
   "source": [
    "classified_image = ee.Image('projects/ee-obameconanvassily/assets/Classification_GAB_OS2023')"
   ]
  },
  {
   "cell_type": "code",
   "execution_count": 4,
   "id": "0588805d-e4fb-482d-9104-dc73e61374c7",
   "metadata": {},
   "outputs": [
    {
     "data": {
      "text/html": [
       "\n",
       "            <style>\n",
       "                .geemap-dark {\n",
       "                    --jp-widgets-color: white;\n",
       "                    --jp-widgets-label-color: white;\n",
       "                    --jp-ui-font-color1: white;\n",
       "                    --jp-layout-color2: #454545;\n",
       "                    background-color: #383838;\n",
       "                }\n",
       "\n",
       "                .geemap-dark .jupyter-button {\n",
       "                    --jp-layout-color3: #383838;\n",
       "                }\n",
       "\n",
       "                .geemap-colab {\n",
       "                    background-color: var(--colab-primary-surface-color, white);\n",
       "                }\n",
       "\n",
       "                .geemap-colab .jupyter-button {\n",
       "                    --jp-layout-color3: var(--colab-primary-surface-color, white);\n",
       "                }\n",
       "            </style>\n",
       "            "
      ],
      "text/plain": [
       "<IPython.core.display.HTML object>"
      ]
     },
     "metadata": {},
     "output_type": "display_data"
    }
   ],
   "source": [
    "# resolution of the map\n",
    "scale = 30"
   ]
  },
  {
   "cell_type": "code",
   "execution_count": 5,
   "id": "0b4b01ae-99dd-47d6-988a-b4a640d460d5",
   "metadata": {},
   "outputs": [
    {
     "data": {
      "text/html": [
       "\n",
       "            <style>\n",
       "                .geemap-dark {\n",
       "                    --jp-widgets-color: white;\n",
       "                    --jp-widgets-label-color: white;\n",
       "                    --jp-ui-font-color1: white;\n",
       "                    --jp-layout-color2: #454545;\n",
       "                    background-color: #383838;\n",
       "                }\n",
       "\n",
       "                .geemap-dark .jupyter-button {\n",
       "                    --jp-layout-color3: #383838;\n",
       "                }\n",
       "\n",
       "                .geemap-colab {\n",
       "                    background-color: var(--colab-primary-surface-color, white);\n",
       "                }\n",
       "\n",
       "                .geemap-colab .jupyter-button {\n",
       "                    --jp-layout-color3: var(--colab-primary-surface-color, white);\n",
       "                }\n",
       "            </style>\n",
       "            "
      ],
      "text/plain": [
       "<IPython.core.display.HTML object>"
      ]
     },
     "metadata": {},
     "output_type": "display_data"
    }
   ],
   "source": [
    "# band name for classification\n",
    "map_band = 'class'"
   ]
  },
  {
   "cell_type": "code",
   "execution_count": 6,
   "id": "be7e954c-c1b0-4ac5-9c4e-ecd273040f6d",
   "metadata": {},
   "outputs": [
    {
     "data": {
      "text/html": [
       "\n",
       "            <style>\n",
       "                .geemap-dark {\n",
       "                    --jp-widgets-color: white;\n",
       "                    --jp-widgets-label-color: white;\n",
       "                    --jp-ui-font-color1: white;\n",
       "                    --jp-layout-color2: #454545;\n",
       "                    background-color: #383838;\n",
       "                }\n",
       "\n",
       "                .geemap-dark .jupyter-button {\n",
       "                    --jp-layout-color3: #383838;\n",
       "                }\n",
       "\n",
       "                .geemap-colab {\n",
       "                    background-color: var(--colab-primary-surface-color, white);\n",
       "                }\n",
       "\n",
       "                .geemap-colab .jupyter-button {\n",
       "                    --jp-layout-color3: var(--colab-primary-surface-color, white);\n",
       "                }\n",
       "            </style>\n",
       "            "
      ],
      "text/plain": [
       "<IPython.core.display.HTML object>"
      ]
     },
     "metadata": {},
     "output_type": "display_data"
    },
    {
     "data": {
      "text/plain": [
       "Index(['ID', 'plotid_orig', 'CEO_PLOTID', 'lon', 'lat', 'ISO', 'CEO_Ref_Code',\n",
       "       'Ref_FNF_2015', 'Ref_LCover', 'Ref_Change_Type_1520', 'Ref_Year_1520',\n",
       "       'countDrivers', 'InfraR', 'Urb', 'ArtAg', 'IndAg', 'ArtFor', 'IndFor',\n",
       "       'ArtMine', 'IndMine', 'Other', 'Source', 'Ref_Change_Year_1520',\n",
       "       'Change_Bin_1520', 'UniqueID', 'interpreted', 'sampling', 'ID.1',\n",
       "       'plotid', 'sampleid', 'sample_geom', 'point_id', 'Ref_Regeneration',\n",
       "       'Ref_Change_1522', 'Ref_Change_Type_1522', 'Other_Desc',\n",
       "       'Ref_Year_1522', 'collection', 'Ref_Change_Year_1522', 'Stable_Forest',\n",
       "       'Ref_Change_Type', 'Ref_Year', 'Ref_Change_Year', 'Ref_Change_Bin',\n",
       "       'Ref_FNFW', 'split'],\n",
       "      dtype='object')"
      ]
     },
     "execution_count": 6,
     "metadata": {},
     "output_type": "execute_result"
    }
   ],
   "source": [
    "# CEO data\n",
    "interpretedData = pd.read_csv('/home/sepal-user/module_results/esbae/GAB/GAB_all_ceo_1522_phaseI_II_stable_val.csv', low_memory=False)\n",
    "interpretedData.columns"
   ]
  },
  {
   "cell_type": "code",
   "execution_count": 7,
   "id": "9b022b74-9fc7-4158-8fd4-ee84c7fddecb",
   "metadata": {},
   "outputs": [
    {
     "data": {
      "text/html": [
       "\n",
       "            <style>\n",
       "                .geemap-dark {\n",
       "                    --jp-widgets-color: white;\n",
       "                    --jp-widgets-label-color: white;\n",
       "                    --jp-ui-font-color1: white;\n",
       "                    --jp-layout-color2: #454545;\n",
       "                    background-color: #383838;\n",
       "                }\n",
       "\n",
       "                .geemap-dark .jupyter-button {\n",
       "                    --jp-layout-color3: #383838;\n",
       "                }\n",
       "\n",
       "                .geemap-colab {\n",
       "                    background-color: var(--colab-primary-surface-color, white);\n",
       "                }\n",
       "\n",
       "                .geemap-colab .jupyter-button {\n",
       "                    --jp-layout-color3: var(--colab-primary-surface-color, white);\n",
       "                }\n",
       "            </style>\n",
       "            "
      ],
      "text/plain": [
       "<IPython.core.display.HTML object>"
      ]
     },
     "metadata": {},
     "output_type": "display_data"
    }
   ],
   "source": [
    "# column with LC code\n",
    "ref_column = 'Ref_LCover'"
   ]
  },
  {
   "cell_type": "code",
   "execution_count": 8,
   "id": "03a962d9-ef53-4fac-8a77-0ff7940764fa",
   "metadata": {},
   "outputs": [
    {
     "data": {
      "text/html": [
       "\n",
       "            <style>\n",
       "                .geemap-dark {\n",
       "                    --jp-widgets-color: white;\n",
       "                    --jp-widgets-label-color: white;\n",
       "                    --jp-ui-font-color1: white;\n",
       "                    --jp-layout-color2: #454545;\n",
       "                    background-color: #383838;\n",
       "                }\n",
       "\n",
       "                .geemap-dark .jupyter-button {\n",
       "                    --jp-layout-color3: #383838;\n",
       "                }\n",
       "\n",
       "                .geemap-colab {\n",
       "                    background-color: var(--colab-primary-surface-color, white);\n",
       "                }\n",
       "\n",
       "                .geemap-colab .jupyter-button {\n",
       "                    --jp-layout-color3: var(--colab-primary-surface-color, white);\n",
       "                }\n",
       "            </style>\n",
       "            "
      ],
      "text/plain": [
       "<IPython.core.display.HTML object>"
      ]
     },
     "metadata": {},
     "output_type": "display_data"
    }
   ],
   "source": [
    "# name out class area outputs file\n",
    "area_out = '/home/sepal-user/module_results/esbae/GAB/GAB_LCmap2023_areas.csv'"
   ]
  },
  {
   "cell_type": "code",
   "execution_count": 9,
   "id": "bc3aad05-db54-46a0-9c85-3b857913afcd",
   "metadata": {},
   "outputs": [
    {
     "data": {
      "text/html": [
       "\n",
       "            <style>\n",
       "                .geemap-dark {\n",
       "                    --jp-widgets-color: white;\n",
       "                    --jp-widgets-label-color: white;\n",
       "                    --jp-ui-font-color1: white;\n",
       "                    --jp-layout-color2: #454545;\n",
       "                    background-color: #383838;\n",
       "                }\n",
       "\n",
       "                .geemap-dark .jupyter-button {\n",
       "                    --jp-layout-color3: #383838;\n",
       "                }\n",
       "\n",
       "                .geemap-colab {\n",
       "                    background-color: var(--colab-primary-surface-color, white);\n",
       "                }\n",
       "\n",
       "                .geemap-colab .jupyter-button {\n",
       "                    --jp-layout-color3: var(--colab-primary-surface-color, white);\n",
       "                }\n",
       "            </style>\n",
       "            "
      ],
      "text/plain": [
       "<IPython.core.display.HTML object>"
      ]
     },
     "metadata": {},
     "output_type": "display_data"
    }
   ],
   "source": [
    "#name of output file with reference and map data\n",
    "table_out = '/home/sepal-user/module_results/esbae/GAB/GAB_LCmap2023_ceo_ref_val.csv'"
   ]
  },
  {
   "cell_type": "code",
   "execution_count": 10,
   "id": "b9030ab7-4118-4f04-b2fb-f1ce0999243b",
   "metadata": {},
   "outputs": [
    {
     "data": {
      "text/html": [
       "\n",
       "            <style>\n",
       "                .geemap-dark {\n",
       "                    --jp-widgets-color: white;\n",
       "                    --jp-widgets-label-color: white;\n",
       "                    --jp-ui-font-color1: white;\n",
       "                    --jp-layout-color2: #454545;\n",
       "                    background-color: #383838;\n",
       "                }\n",
       "\n",
       "                .geemap-dark .jupyter-button {\n",
       "                    --jp-layout-color3: #383838;\n",
       "                }\n",
       "\n",
       "                .geemap-colab {\n",
       "                    background-color: var(--colab-primary-surface-color, white);\n",
       "                }\n",
       "\n",
       "                .geemap-colab .jupyter-button {\n",
       "                    --jp-layout-color3: var(--colab-primary-surface-color, white);\n",
       "                }\n",
       "            </style>\n",
       "            "
      ],
      "text/plain": [
       "<IPython.core.display.HTML object>"
      ]
     },
     "metadata": {},
     "output_type": "display_data"
    }
   ],
   "source": [
    "#name of output error matrix\n",
    "matrix_out = '/home/sepal-user/module_results/esbae/GAB/GAB_LCmap2023_ceo_ref_val_matrix.csv'"
   ]
  },
  {
   "cell_type": "markdown",
   "id": "33812e55-3f0f-4e68-a6ec-7d11dcc8b7aa",
   "metadata": {},
   "source": [
    "### 2 - Get map areas"
   ]
  },
  {
   "cell_type": "code",
   "execution_count": 11,
   "id": "d4398d59-eee1-4dc3-85a8-f88857dacf60",
   "metadata": {},
   "outputs": [
    {
     "data": {
      "text/html": [
       "\n",
       "            <style>\n",
       "                .geemap-dark {\n",
       "                    --jp-widgets-color: white;\n",
       "                    --jp-widgets-label-color: white;\n",
       "                    --jp-ui-font-color1: white;\n",
       "                    --jp-layout-color2: #454545;\n",
       "                    background-color: #383838;\n",
       "                }\n",
       "\n",
       "                .geemap-dark .jupyter-button {\n",
       "                    --jp-layout-color3: #383838;\n",
       "                }\n",
       "\n",
       "                .geemap-colab {\n",
       "                    background-color: var(--colab-primary-surface-color, white);\n",
       "                }\n",
       "\n",
       "                .geemap-colab .jupyter-button {\n",
       "                    --jp-layout-color3: var(--colab-primary-surface-color, white);\n",
       "                }\n",
       "            </style>\n",
       "            "
      ],
      "text/plain": [
       "<IPython.core.display.HTML object>"
      ]
     },
     "metadata": {},
     "output_type": "display_data"
    }
   ],
   "source": [
    "# Add the area for each pixel\n",
    "pixelArea = ee.Image.pixelArea()\n",
    "# Multiply pixel area by the class to get the area per class\n",
    "area_image = pixelArea.addBands(classified_image)"
   ]
  },
  {
   "cell_type": "code",
   "execution_count": 12,
   "id": "1c57fb7e-6614-492c-b465-73c1aa3e33db",
   "metadata": {},
   "outputs": [
    {
     "data": {
      "text/html": [
       "\n",
       "            <style>\n",
       "                .geemap-dark {\n",
       "                    --jp-widgets-color: white;\n",
       "                    --jp-widgets-label-color: white;\n",
       "                    --jp-ui-font-color1: white;\n",
       "                    --jp-layout-color2: #454545;\n",
       "                    background-color: #383838;\n",
       "                }\n",
       "\n",
       "                .geemap-dark .jupyter-button {\n",
       "                    --jp-layout-color3: #383838;\n",
       "                }\n",
       "\n",
       "                .geemap-colab {\n",
       "                    background-color: var(--colab-primary-surface-color, white);\n",
       "                }\n",
       "\n",
       "                .geemap-colab .jupyter-button {\n",
       "                    --jp-layout-color3: var(--colab-primary-surface-color, white);\n",
       "                }\n",
       "            </style>\n",
       "            "
      ],
      "text/plain": [
       "<IPython.core.display.HTML object>"
      ]
     },
     "metadata": {},
     "output_type": "display_data"
    }
   ],
   "source": [
    "# Reduce the region by summing up the areas per class\n",
    "class_areas = area_image.reduceRegion(\n",
    "    reducer=ee.Reducer.sum().group(groupField=1, groupName='class'),\n",
    "    geometry=classified_image.geometry(),\n",
    "    scale=30,  # Adjust scale according to your image resolution\n",
    "    maxPixels=1e12\n",
    ")"
   ]
  },
  {
   "cell_type": "code",
   "execution_count": 13,
   "id": "d1b9987a-8d72-455e-8389-5db9e8896e9b",
   "metadata": {},
   "outputs": [
    {
     "data": {
      "text/html": [
       "\n",
       "            <style>\n",
       "                .geemap-dark {\n",
       "                    --jp-widgets-color: white;\n",
       "                    --jp-widgets-label-color: white;\n",
       "                    --jp-ui-font-color1: white;\n",
       "                    --jp-layout-color2: #454545;\n",
       "                    background-color: #383838;\n",
       "                }\n",
       "\n",
       "                .geemap-dark .jupyter-button {\n",
       "                    --jp-layout-color3: #383838;\n",
       "                }\n",
       "\n",
       "                .geemap-colab {\n",
       "                    background-color: var(--colab-primary-surface-color, white);\n",
       "                }\n",
       "\n",
       "                .geemap-colab .jupyter-button {\n",
       "                    --jp-layout-color3: var(--colab-primary-surface-color, white);\n",
       "                }\n",
       "            </style>\n",
       "            "
      ],
      "text/plain": [
       "<IPython.core.display.HTML object>"
      ]
     },
     "metadata": {},
     "output_type": "display_data"
    },
    {
     "name": "stdout",
     "output_type": "stream",
     "text": [
      "Class 1: 23783673.486965053 hectares\n",
      "Class 3: 13.94291495361328 hectares\n",
      "Class 7: 112201.29230247192 hectares\n",
      "Class 8: 758.642247076416 hectares\n",
      "Class 13: 2089545.719115277 hectares\n",
      "Class 14: 20.915537774658205 hectares\n",
      "Class 15: 101.97584118652344 hectares\n",
      "Class 17: 177.24896954345704 hectares\n",
      "Class 18: 309529.3252661865 hectares\n"
     ]
    }
   ],
   "source": [
    "# Extract the result\n",
    "class_areas_dict = class_areas.getInfo()\n",
    "\n",
    "# Optional: Convert the result to hectares\n",
    "for item in class_areas_dict['groups']:\n",
    "    area_ha = item['sum'] / 10000  # 1 hectare = 10,000 square meters\n",
    "    print(f\"Class {item['class']}: {area_ha} hectares\")"
   ]
  },
  {
   "cell_type": "code",
   "execution_count": 14,
   "id": "d477b244-986b-4d54-acdf-8d9264ece8d2",
   "metadata": {},
   "outputs": [
    {
     "data": {
      "text/html": [
       "\n",
       "            <style>\n",
       "                .geemap-dark {\n",
       "                    --jp-widgets-color: white;\n",
       "                    --jp-widgets-label-color: white;\n",
       "                    --jp-ui-font-color1: white;\n",
       "                    --jp-layout-color2: #454545;\n",
       "                    background-color: #383838;\n",
       "                }\n",
       "\n",
       "                .geemap-dark .jupyter-button {\n",
       "                    --jp-layout-color3: #383838;\n",
       "                }\n",
       "\n",
       "                .geemap-colab {\n",
       "                    background-color: var(--colab-primary-surface-color, white);\n",
       "                }\n",
       "\n",
       "                .geemap-colab .jupyter-button {\n",
       "                    --jp-layout-color3: var(--colab-primary-surface-color, white);\n",
       "                }\n",
       "            </style>\n",
       "            "
      ],
      "text/plain": [
       "<IPython.core.display.HTML object>"
      ]
     },
     "metadata": {},
     "output_type": "display_data"
    }
   ],
   "source": [
    "#export "
   ]
  },
  {
   "cell_type": "markdown",
   "id": "63508a96-50fe-4be5-a572-da44b70c6f63",
   "metadata": {},
   "source": [
    "### 3 sample map with validation points "
   ]
  },
  {
   "cell_type": "code",
   "execution_count": 15,
   "id": "1ed9a3a7-d703-42bc-8ed6-cc2d92065239",
   "metadata": {},
   "outputs": [
    {
     "data": {
      "text/html": [
       "\n",
       "            <style>\n",
       "                .geemap-dark {\n",
       "                    --jp-widgets-color: white;\n",
       "                    --jp-widgets-label-color: white;\n",
       "                    --jp-ui-font-color1: white;\n",
       "                    --jp-layout-color2: #454545;\n",
       "                    background-color: #383838;\n",
       "                }\n",
       "\n",
       "                .geemap-dark .jupyter-button {\n",
       "                    --jp-layout-color3: #383838;\n",
       "                }\n",
       "\n",
       "                .geemap-colab {\n",
       "                    background-color: var(--colab-primary-surface-color, white);\n",
       "                }\n",
       "\n",
       "                .geemap-colab .jupyter-button {\n",
       "                    --jp-layout-color3: var(--colab-primary-surface-color, white);\n",
       "                }\n",
       "            </style>\n",
       "            "
      ],
      "text/plain": [
       "<IPython.core.display.HTML object>"
      ]
     },
     "metadata": {},
     "output_type": "display_data"
    },
    {
     "data": {
      "text/html": [
       "<div>\n",
       "<style scoped>\n",
       "    .dataframe tbody tr th:only-of-type {\n",
       "        vertical-align: middle;\n",
       "    }\n",
       "\n",
       "    .dataframe tbody tr th {\n",
       "        vertical-align: top;\n",
       "    }\n",
       "\n",
       "    .dataframe thead th {\n",
       "        text-align: right;\n",
       "    }\n",
       "</style>\n",
       "<table border=\"1\" class=\"dataframe\">\n",
       "  <thead>\n",
       "    <tr style=\"text-align: right;\">\n",
       "      <th></th>\n",
       "      <th>ID</th>\n",
       "      <th>Ref_LCover</th>\n",
       "      <th>lon</th>\n",
       "      <th>lat</th>\n",
       "      <th>geometry</th>\n",
       "    </tr>\n",
       "  </thead>\n",
       "  <tbody>\n",
       "    <tr>\n",
       "      <th>0</th>\n",
       "      <td>4417</td>\n",
       "      <td>1</td>\n",
       "      <td>13.146</td>\n",
       "      <td>-2.182</td>\n",
       "      <td>POINT (13.14608 -2.18156)</td>\n",
       "    </tr>\n",
       "    <tr>\n",
       "      <th>1</th>\n",
       "      <td>4418</td>\n",
       "      <td>1</td>\n",
       "      <td>11.683</td>\n",
       "      <td>2.027</td>\n",
       "      <td>POINT (11.68287 2.02676)</td>\n",
       "    </tr>\n",
       "    <tr>\n",
       "      <th>2</th>\n",
       "      <td>4419</td>\n",
       "      <td>1</td>\n",
       "      <td>12.281</td>\n",
       "      <td>-0.185</td>\n",
       "      <td>POINT (12.28127 -0.18474)</td>\n",
       "    </tr>\n",
       "    <tr>\n",
       "      <th>3</th>\n",
       "      <td>4420</td>\n",
       "      <td>1</td>\n",
       "      <td>13.812</td>\n",
       "      <td>-2.009</td>\n",
       "      <td>POINT (13.81178 -2.00856)</td>\n",
       "    </tr>\n",
       "    <tr>\n",
       "      <th>4</th>\n",
       "      <td>4421</td>\n",
       "      <td>1</td>\n",
       "      <td>10.862</td>\n",
       "      <td>-1.497</td>\n",
       "      <td>POINT (10.86232 -1.49653)</td>\n",
       "    </tr>\n",
       "    <tr>\n",
       "      <th>...</th>\n",
       "      <td>...</td>\n",
       "      <td>...</td>\n",
       "      <td>...</td>\n",
       "      <td>...</td>\n",
       "      <td>...</td>\n",
       "    </tr>\n",
       "    <tr>\n",
       "      <th>2746</th>\n",
       "      <td>9139</td>\n",
       "      <td>12</td>\n",
       "      <td>11.285</td>\n",
       "      <td>-2.528</td>\n",
       "      <td>POINT (11.28487 -2.52763)</td>\n",
       "    </tr>\n",
       "    <tr>\n",
       "      <th>2747</th>\n",
       "      <td>9140</td>\n",
       "      <td>12</td>\n",
       "      <td>14.128</td>\n",
       "      <td>-1.681</td>\n",
       "      <td>POINT (14.12810 -1.68087)</td>\n",
       "    </tr>\n",
       "    <tr>\n",
       "      <th>2748</th>\n",
       "      <td>9141</td>\n",
       "      <td>12</td>\n",
       "      <td>9.356</td>\n",
       "      <td>-0.106</td>\n",
       "      <td>POINT (9.35624 -0.10635)</td>\n",
       "    </tr>\n",
       "    <tr>\n",
       "      <th>2749</th>\n",
       "      <td>9142</td>\n",
       "      <td>12</td>\n",
       "      <td>11.399</td>\n",
       "      <td>-2.499</td>\n",
       "      <td>POINT (11.39942 -2.49875)</td>\n",
       "    </tr>\n",
       "    <tr>\n",
       "      <th>2750</th>\n",
       "      <td>9145</td>\n",
       "      <td>4</td>\n",
       "      <td>10.119</td>\n",
       "      <td>-2.489</td>\n",
       "      <td>POINT (10.11949 -2.48939)</td>\n",
       "    </tr>\n",
       "  </tbody>\n",
       "</table>\n",
       "<p>2751 rows × 5 columns</p>\n",
       "</div>"
      ],
      "text/plain": [
       "        ID  Ref_LCover    lon    lat                   geometry\n",
       "0     4417           1 13.146 -2.182  POINT (13.14608 -2.18156)\n",
       "1     4418           1 11.683  2.027   POINT (11.68287 2.02676)\n",
       "2     4419           1 12.281 -0.185  POINT (12.28127 -0.18474)\n",
       "3     4420           1 13.812 -2.009  POINT (13.81178 -2.00856)\n",
       "4     4421           1 10.862 -1.497  POINT (10.86232 -1.49653)\n",
       "...    ...         ...    ...    ...                        ...\n",
       "2746  9139          12 11.285 -2.528  POINT (11.28487 -2.52763)\n",
       "2747  9140          12 14.128 -1.681  POINT (14.12810 -1.68087)\n",
       "2748  9141          12  9.356 -0.106   POINT (9.35624 -0.10635)\n",
       "2749  9142          12 11.399 -2.499  POINT (11.39942 -2.49875)\n",
       "2750  9145           4 10.119 -2.489  POINT (10.11949 -2.48939)\n",
       "\n",
       "[2751 rows x 5 columns]"
      ]
     },
     "execution_count": 15,
     "metadata": {},
     "output_type": "execute_result"
    }
   ],
   "source": [
    "gdf = gpd.GeoDataFrame(interpretedData[['ID', ref_column, 'lon', 'lat']], geometry=gpd.points_from_xy(interpretedData.lon, interpretedData.lat), crs='epsg:4326')\n",
    "gdf"
   ]
  },
  {
   "cell_type": "markdown",
   "id": "6a52b711-a766-4278-89f8-43edcbdd6d74",
   "metadata": {},
   "source": [
    "### be patient this can take a while with a large number of points"
   ]
  },
  {
   "cell_type": "code",
   "execution_count": 16,
   "id": "75bfbec5-7852-4b2a-a3a1-03221a4c7c3d",
   "metadata": {},
   "outputs": [
    {
     "data": {
      "text/html": [
       "\n",
       "            <style>\n",
       "                .geemap-dark {\n",
       "                    --jp-widgets-color: white;\n",
       "                    --jp-widgets-label-color: white;\n",
       "                    --jp-ui-font-color1: white;\n",
       "                    --jp-layout-color2: #454545;\n",
       "                    background-color: #383838;\n",
       "                }\n",
       "\n",
       "                .geemap-dark .jupyter-button {\n",
       "                    --jp-layout-color3: #383838;\n",
       "                }\n",
       "\n",
       "                .geemap-colab {\n",
       "                    background-color: var(--colab-primary-surface-color, white);\n",
       "                }\n",
       "\n",
       "                .geemap-colab .jupyter-button {\n",
       "                    --jp-layout-color3: var(--colab-primary-surface-color, white);\n",
       "                }\n",
       "            </style>\n",
       "            "
      ],
      "text/plain": [
       "<IPython.core.display.HTML object>"
      ]
     },
     "metadata": {},
     "output_type": "display_data"
    },
    {
     "ename": "NameError",
     "evalue": "name 'output_csv' is not defined",
     "output_type": "error",
     "traceback": [
      "\u001b[0;31m---------------------------------------------------------------------------\u001b[0m",
      "\u001b[0;31mNameError\u001b[0m                                 Traceback (most recent call last)",
      "Cell \u001b[0;32mIn[16], line 15\u001b[0m\n\u001b[1;32m     12\u001b[0m     dfs\u001b[38;5;241m.\u001b[39mappend(tmp_res)\n\u001b[1;32m     14\u001b[0m result_df \u001b[38;5;241m=\u001b[39m pd\u001b[38;5;241m.\u001b[39mconcat(dfs)\n\u001b[0;32m---> 15\u001b[0m result_df\u001b[38;5;241m.\u001b[39mto_csv(\u001b[43moutput_csv\u001b[49m, index\u001b[38;5;241m=\u001b[39m\u001b[38;5;28;01mFalse\u001b[39;00m)\n",
      "\u001b[0;31mNameError\u001b[0m: name 'output_csv' is not defined"
     ]
    }
   ],
   "source": [
    "dfs = []\n",
    "for i in range(0, len(interpretedData), 5000):\n",
    "    tmp_df = gdf.loc[i:i+4999]\n",
    "    tmp_fc = geemap.gdf_to_ee(tmp_df[['ID', ref_column, 'geometry']])\n",
    "    tmp_smp = classified_image.select(map_band).reduceRegions(**{\n",
    "        'collection': tmp_fc,\n",
    "        'scale': scale,\n",
    "        'reducer': ee.Reducer.first()   \n",
    "    })\n",
    "\n",
    "    tmp_res = geemap.ee_to_gdf(tmp_smp)\n",
    "    dfs.append(tmp_res)\n",
    "    \n",
    "results_df = pd.concat(dfs)\n",
    "results_df.to_csv(output_csv, index=False)"
   ]
  },
  {
   "cell_type": "code",
   "execution_count": null,
   "id": "3eebdd06-5a18-4b0c-895b-c466ca08baa9",
   "metadata": {},
   "outputs": [],
   "source": [
    "results_df = result_df.rename(columns={'first':'Map_LCover'})\n",
    "results_df"
   ]
  },
  {
   "cell_type": "code",
   "execution_count": null,
   "id": "cd127e33-f710-4378-be16-807dae211a7a",
   "metadata": {},
   "outputs": [],
   "source": [
    "#export\n",
    "results_df.to_csv(table_out,index=False)"
   ]
  },
  {
   "cell_type": "code",
   "execution_count": null,
   "id": "e5ca88e7-a155-4aa5-bdca-b94e9252409a",
   "metadata": {},
   "outputs": [],
   "source": [
    "labels = [1,2,3,4,7,8,9,10,11,12,13,14,15,16,17,18]"
   ]
  },
  {
   "cell_type": "code",
   "execution_count": null,
   "id": "54b205e4-bc0e-449e-9118-f5772e4a6e18",
   "metadata": {},
   "outputs": [],
   "source": [
    "conf_matrix = confusion_matrix(results_df['Ref_LCover'], results_df['Map_LCover'], labels=labels)"
   ]
  },
  {
   "cell_type": "code",
   "execution_count": null,
   "id": "4c768b4b-49c5-420f-a695-97b14831992e",
   "metadata": {},
   "outputs": [],
   "source": [
    "cm_df = pd.DataFrame(conf_matrix, index=labels, columns=labels)\n",
    "#print(cm_df)"
   ]
  },
  {
   "cell_type": "code",
   "execution_count": null,
   "id": "98e9faac-a9c6-4a4a-bb11-2ab5a96174d5",
   "metadata": {},
   "outputs": [],
   "source": [
    "#export\n",
    "cm_df.to_csv(matrix_out,index=True)"
   ]
  },
  {
   "cell_type": "code",
   "execution_count": null,
   "id": "d9599bbf-e269-44fa-90d1-54859a83c42b",
   "metadata": {},
   "outputs": [],
   "source": [
    "# Plot confusion matrix as a heatmap\n",
    "plt.figure(figsize=(8, 6))\n",
    "sns.heatmap(cm_df, annot=True, fmt='d', cmap='Blues')\n",
    "plt.ylabel('Ref LCover')\n",
    "plt.xlabel('Map LCover')\n",
    "plt.title('Confusion Matrix')\n",
    "plt.show()"
   ]
  },
  {
   "cell_type": "markdown",
   "id": "9a082be3-1ce1-4c72-8837-feb0a84b64e7",
   "metadata": {},
   "source": [
    "### 4 - Calculate the areas and uncertainties"
   ]
  },
  {
   "cell_type": "code",
   "execution_count": null,
   "id": "e8e7855f-b44d-4025-9851-0a1eabd2baf0",
   "metadata": {},
   "outputs": [],
   "source": [
    "def srs_estimator(samples, nh, Nh):\n",
    "\n",
    "    area = (samples.sum() / nh)  * Nh            # proportion\n",
    "    se = np.sqrt(np.var(samples) / nh) * Nh   # standard error\n",
    "    return area, se\n",
    "\n",
    "def stsrs(samples, strata_column, strata_areas):\n",
    "\n",
    "    total_area, total_se, info_dict = 0, 0, {}\n",
    "    for stratum in samples[strata_column].unique():\n",
    "\n",
    "        stratum_samples = samples[samples[strata_column] == stratum]\n",
    "        stratum_samples = stratum_samples.drop(strata_column, axis=1).iloc[:, 0].values\n",
    "        area, se = srs_estimator(stratum_samples, len(stratum_samples), strata_areas.loc[stratum].area)\n",
    "        total_area += area\n",
    "        total_se += se**2\n",
    "\n",
    "        # generate info\n",
    "        info_dict[f'area_{stratum}'] = area\n",
    "        info_dict[f'se_{stratum}']= se\n",
    "        info_dict[f'nh_{stratum}'] = len(stratum_samples)\n",
    "        info_dict[f'ocurences_{stratum}'] = stratum_samples.sum()\n",
    "\n",
    "    info_dict['total_area'] = total_area\n",
    "    info_dict['total_se'] = np.sqrt(total_se)\n",
    "    info_dict['total_samples'] = len(samples)\n",
    "    return info_dict\n",
    "\n",
    "\n",
    "def get_areas(samples, strata_areas, target_column, strata_column, categories=None, z_score=1.645):\n",
    "\n",
    "    # get categories\n",
    "    if not categories:\n",
    "        categories = samples[target_column].unique()\n",
    "\n",
    "    # create stats for each entry\n",
    "    estimates = {}\n",
    "    for category in categories:\n",
    "        if isinstance(category, float) and np.isnan(category):\n",
    "            continue \n",
    "        \n",
    "        samples[category] = samples[target_column].apply(\n",
    "                    lambda x: 1 if category == x else 0\n",
    "        )\n",
    "        \n",
    "        estimates[category] = stsrs(samples[[strata_column, category]], strata_column, strata_areas)\n",
    "        \n",
    "    return pd.DataFrame.from_dict(estimates, orient='index')\n",
    "\n",
    "area_estimation_df = get_areas(new_df, areas_df, 'Ref_LCover', 'first')\n",
    "area_estimation_df = area_estimation_df['total_samples','total_area','total_se']\n",
    "area_estimation_df"
   ]
  },
  {
   "cell_type": "code",
   "execution_count": null,
   "id": "ae10800f-049e-4488-8444-5a4b4c31cb0a",
   "metadata": {},
   "outputs": [],
   "source": [
    "area_estimation_df.total_area.sum()"
   ]
  },
  {
   "cell_type": "code",
   "execution_count": null,
   "id": "e86d81e8-6248-4196-a447-79597152212d",
   "metadata": {},
   "outputs": [],
   "source": [
    "np.unique(new_df['first'], return_counts=True)"
   ]
  },
  {
   "cell_type": "code",
   "execution_count": null,
   "id": "4915d778-9bcd-404f-bbb9-2a4a0676c571",
   "metadata": {},
   "outputs": [],
   "source": [
    "def plot_estimates(df, title=None, x_label=None, y_label=None, color='orange'):\n",
    "    \n",
    "    df['category'] = df.index\n",
    "    df['samples'] = df['total_samples']\n",
    "    df['ci_total'] = df['total_se'] * 1.645\n",
    "    df['rel CI'] = 100 * df['ci_total'] / df['total_area']\n",
    "    pd.options.display.float_format = '{:.3f}'.format\n",
    "    sub = df[['samples', 'total_area', 'ci_total', 'rel CI', 'category']]\n",
    "    sub.columns =['Nr. of Samples', 'Area (ha)', 'MoE (ha)', 'rel MoE (%)', 'category']\n",
    "    sub = sub.dropna()\n",
    "    sub['Area (ha)'] = sub['Area (ha)'] \n",
    "    sub['MoE (ha)'] = sub['MoE (ha)'] \n",
    "    sub.sort_index(inplace=True)\n",
    "    display(sub)\n",
    "    \n",
    "    ax = sns.barplot(\n",
    "        sub, \n",
    "        x='category',\n",
    "        y='Area (ha)',\n",
    "        color=color\n",
    "    )\n",
    "    # errorbars\n",
    "    x_coords = [p.get_x() + 0.5*p.get_width() for p in ax.patches]\n",
    "    y_coords = [p.get_height() for p in ax.patches]\n",
    "    plt.errorbar(x=x_coords, y=y_coords, yerr=sub[\"MoE (ha)\"], fmt=\"none\", c= \"k\")\n",
    "    \n",
    "    sns.despine(ax=ax, trim=True, offset=10)\n",
    "    labels = ax.get_xticklabels()\n",
    "    ax.set_xticklabels(labels, rotation=45)\n",
    "    if title:\n",
    "        ax.set_title(title)\n",
    "    if x_label:\n",
    "        ax.set_xlabel(x_label)\n",
    "    if y_label:\n",
    "        ax.set_ylabel(y_label)\n",
    "    plt.show()\n",
    "    plt.close()\n",
    "\n",
    "plot_estimates(area_estimation_df.iloc[2:], 'Area estimation', 'Categories', 'Area (ha)')\n",
    "plot_estimates(area_estimation_df.iloc[:2], 'Area estimation', 'Categories', 'Area (ha)')"
   ]
  },
  {
   "cell_type": "code",
   "execution_count": null,
   "id": "30f289a9-9fc1-43cd-b5a3-f439da011a87",
   "metadata": {},
   "outputs": [],
   "source": []
  }
 ],
 "metadata": {
  "kernelspec": {
   "display_name": "Python 3",
   "language": "python",
   "name": "python3"
  },
  "language_info": {
   "codemirror_mode": {
    "name": "ipython",
    "version": 3
   },
   "file_extension": ".py",
   "mimetype": "text/x-python",
   "name": "python",
   "nbconvert_exporter": "python",
   "pygments_lexer": "ipython3",
   "version": "3.10.12"
  }
 },
 "nbformat": 4,
 "nbformat_minor": 5
}
