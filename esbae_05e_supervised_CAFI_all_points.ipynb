{
 "cells": [
  {
   "cell_type": "markdown",
   "id": "e60ea99f-f3b4-4784-b83f-6ded8c2462cd",
   "metadata": {
    "tags": []
   },
   "source": [
    "![title](images/header.png)\n",
    "\n",
    "# Ve - Supervised Classification of eSBAE with CAFI data - multiple models\n",
    "-------\n",
    "This notebook performs a supervised classification of eSBAE points based on the validated data from systematic points (2015-2022) for training\n",
    "This script estimates several models of forest change (deforestation, degradation, stable, NF) based on the visually interpreted data and eSBAE variables. \n",
    "The models are then combined to assign categories of change to all systematic points\n",
    "This script requires an m16 or r16 instance to run\n",
    "###### For more information contact aurelie.shapiro@fao.org or remi.dannunzio@fao.org"
   ]
  },
  {
   "cell_type": "code",
   "execution_count": null,
   "id": "e08d2073-72e3-42bc-80cc-8c94d90c22d6",
   "metadata": {
    "tags": []
   },
   "outputs": [],
   "source": [
    "#pip install --user git+https://github.com/BuddyVolly/sampling-handler\n",
    "#!pip install xgboost"
   ]
  },
  {
   "cell_type": "code",
   "execution_count": 1,
   "id": "49bef791-a379-47b8-8437-fdb297ccb002",
   "metadata": {
    "tags": []
   },
   "outputs": [
    {
     "name": "stderr",
     "output_type": "stream",
     "text": [
      "/usr/local/share/jupyter/kernels/venv-eSBAE_notebooks/venv/lib/python3.10/site-packages/bfast/__init__.py:10: UserWarning: cupy is not available in this environment, GPU fonctionnalities won't be available\n",
      "  warn(\"cupy is not available in this environment, GPU fonctionnalities won't be available\")\n"
     ]
    }
   ],
   "source": [
    "from pathlib import Path\n",
    "\n",
    "import numpy as np\n",
    "import pandas as pd\n",
    "import geopandas as gpd\n",
    "import uuid\n",
    "from matplotlib import pyplot as plt\n",
    "import seaborn as sns\n",
    "\n",
    "from sampling_handler.misc import py_helpers\n",
    "from sampling_handler.ensemble import classification as clf\n",
    "from sampling_handler.ensemble import helpers as h\n",
    "from sampling_handler.sampling import sfc\n",
    "from sampling_handler import KMeansSubSampling\n",
    "\n",
    "from imblearn import FunctionSampler\n",
    "from imblearn.ensemble import BalancedRandomForestClassifier\n",
    "from imblearn.over_sampling import RandomOverSampler\n",
    "\n",
    "import folium\n",
    "import geopandas\n",
    "import rasterio\n",
    "import matplotlib.pyplot as plt\n",
    "from shapely.geometry import Point\n",
    "\n",
    "from sklearn.model_selection import train_test_split\n",
    "from sklearn.linear_model import LogisticRegression\n",
    "from sklearn.ensemble import RandomForestClassifier\n",
    "from sklearn.ensemble import HistGradientBoostingClassifier\n",
    "from sklearn.tree import DecisionTreeClassifier\n",
    "from sklearn.utils import class_weight\n",
    "from sklearn.impute import SimpleImputer\n",
    "from sklearn.utils.class_weight import compute_class_weight\n",
    "from sklearn.metrics import accuracy_score\n",
    "from sklearn.metrics import classification_report\n",
    "\n",
    "pd.set_option('display.max_columns', None)\n",
    "pd.set_option('display.expand_frame_repr', False)  # Prevent line wrapping"
   ]
  },
  {
   "cell_type": "code",
   "execution_count": 2,
   "id": "31c87c54-44bb-4e9e-9de8-c8cb7eaa254f",
   "metadata": {},
   "outputs": [
    {
     "data": {
      "text/html": [
       "\n",
       "            <style>\n",
       "                .geemap-dark {\n",
       "                    --jp-widgets-color: white;\n",
       "                    --jp-widgets-label-color: white;\n",
       "                    --jp-ui-font-color1: white;\n",
       "                    --jp-layout-color2: #454545;\n",
       "                    background-color: #383838;\n",
       "                }\n",
       "                    \n",
       "                .geemap-dark .jupyter-button {\n",
       "                    --jp-layout-color3: #383838;\n",
       "                }\n",
       "                \n",
       "                .geemap-colab {\n",
       "                    background-color: var(--colab-primary-surface-color, white);\n",
       "                }\n",
       "                    \n",
       "                .geemap-colab .jupyter-button {\n",
       "                    --jp-layout-color3: var(--colab-primary-surface-color, white);\n",
       "                }\n",
       "            </style>\n",
       "            "
      ],
      "text/plain": [
       "<IPython.core.display.HTML object>"
      ]
     },
     "metadata": {},
     "output_type": "display_data"
    }
   ],
   "source": [
    "# country area (ha)\n",
    "#GAB\n",
    "#study_area = 26287600\n",
    "#DRC\n",
    "#study_area = 232798200\n",
    "#COG\n",
    "#study_area = 34402400\n",
    "#CMR\n",
    "#study_area = 46497000\n",
    "#EQG\n",
    "study_area = 2685800\n",
    "#CAR\n",
    "#study_area = 62009300"
   ]
  },
  {
   "cell_type": "markdown",
   "id": "9035ba9c-a02c-466b-8fb8-842713a0399a",
   "metadata": {},
   "source": [
    "# 1 - data preparation\n",
    "\n",
    "## 1.1 - Import merged esbae and CEO interpreted data\n",
    "Import the merged dataset from script 5e - with all the eSBAE columns"
   ]
  },
  {
   "cell_type": "code",
   "execution_count": 3,
   "id": "0bc9c0ec-0d54-4dac-a0e8-e81a7fe5cd4b",
   "metadata": {
    "tags": []
   },
   "outputs": [
    {
     "data": {
      "text/html": [
       "\n",
       "            <style>\n",
       "                .geemap-dark {\n",
       "                    --jp-widgets-color: white;\n",
       "                    --jp-widgets-label-color: white;\n",
       "                    --jp-ui-font-color1: white;\n",
       "                    --jp-layout-color2: #454545;\n",
       "                    background-color: #383838;\n",
       "                }\n",
       "                    \n",
       "                .geemap-dark .jupyter-button {\n",
       "                    --jp-layout-color3: #383838;\n",
       "                }\n",
       "                \n",
       "                .geemap-colab {\n",
       "                    background-color: var(--colab-primary-surface-color, white);\n",
       "                }\n",
       "                    \n",
       "                .geemap-colab .jupyter-button {\n",
       "                    --jp-layout-color3: var(--colab-primary-surface-color, white);\n",
       "                }\n",
       "            </style>\n",
       "            "
      ],
      "text/plain": [
       "<IPython.core.display.HTML object>"
      ]
     },
     "metadata": {},
     "output_type": "display_data"
    },
    {
     "data": {
      "text/html": [
       "<div>\n",
       "<style scoped>\n",
       "    .dataframe tbody tr th:only-of-type {\n",
       "        vertical-align: middle;\n",
       "    }\n",
       "\n",
       "    .dataframe tbody tr th {\n",
       "        vertical-align: top;\n",
       "    }\n",
       "\n",
       "    .dataframe thead th {\n",
       "        text-align: right;\n",
       "    }\n",
       "</style>\n",
       "<table border=\"1\" class=\"dataframe\">\n",
       "  <thead>\n",
       "    <tr style=\"text-align: right;\">\n",
       "      <th></th>\n",
       "      <th>images</th>\n",
       "      <th>mon_images</th>\n",
       "      <th>bfast_change_date</th>\n",
       "      <th>bfast_magnitude</th>\n",
       "      <th>bfast_means</th>\n",
       "      <th>cusum_change_date</th>\n",
       "      <th>cusum_confidence</th>\n",
       "      <th>cusum_magnitude</th>\n",
       "      <th>red_mean</th>\n",
       "      <th>red_sd</th>\n",
       "      <th>red_min</th>\n",
       "      <th>red_max</th>\n",
       "      <th>nir_mean</th>\n",
       "      <th>nir_sd</th>\n",
       "      <th>nir_min</th>\n",
       "      <th>nir_max</th>\n",
       "      <th>swir1_mean</th>\n",
       "      <th>swir1_sd</th>\n",
       "      <th>swir1_min</th>\n",
       "      <th>swir1_max</th>\n",
       "      <th>swir2_mean</th>\n",
       "      <th>swir2_sd</th>\n",
       "      <th>swir2_min</th>\n",
       "      <th>swir2_max</th>\n",
       "      <th>ndfi_mean</th>\n",
       "      <th>ndfi_sd</th>\n",
       "      <th>ndfi_min</th>\n",
       "      <th>ndfi_max</th>\n",
       "      <th>brightness_mean</th>\n",
       "      <th>brightness_sd</th>\n",
       "      <th>brightness_min</th>\n",
       "      <th>brightness_max</th>\n",
       "      <th>greenness_mean</th>\n",
       "      <th>greenness_sd</th>\n",
       "      <th>greenness_min</th>\n",
       "      <th>greenness_max</th>\n",
       "      <th>wetness_mean</th>\n",
       "      <th>wetness_sd</th>\n",
       "      <th>wetness_min</th>\n",
       "      <th>wetness_max</th>\n",
       "      <th>bs_slope_mean</th>\n",
       "      <th>bs_slope_sd</th>\n",
       "      <th>bs_slope_max</th>\n",
       "      <th>bs_slope_min</th>\n",
       "      <th>ewma_jrc_date</th>\n",
       "      <th>ewma_jrc_change</th>\n",
       "      <th>ewma_jrc_magnitude</th>\n",
       "      <th>mosum_jrc_date</th>\n",
       "      <th>mosum_jrc_change</th>\n",
       "      <th>mosum_jrc_magnitude</th>\n",
       "      <th>cusum_jrc_date</th>\n",
       "      <th>cusum_jrc_change</th>\n",
       "      <th>cusum_jrc_magnitude</th>\n",
       "      <th>ccdc_change_date</th>\n",
       "      <th>ccdc_magnitude</th>\n",
       "      <th>aspect</th>\n",
       "      <th>dw_class_mode</th>\n",
       "      <th>dw_tree_prob__max</th>\n",
       "      <th>dw_tree_prob__min</th>\n",
       "      <th>dw_tree_prob__stdDev</th>\n",
       "      <th>dw_tree_prob_mean</th>\n",
       "      <th>elevation</th>\n",
       "      <th>esa_lc20</th>\n",
       "      <th>esa_lc21</th>\n",
       "      <th>esri_lc17</th>\n",
       "      <th>esri_lc18</th>\n",
       "      <th>esri_lc19</th>\n",
       "      <th>esri_lc20</th>\n",
       "      <th>esri_lc21</th>\n",
       "      <th>gfc_gain</th>\n",
       "      <th>gfc_loss</th>\n",
       "      <th>gfc_lossyear</th>\n",
       "      <th>gfc_tc00</th>\n",
       "      <th>lang_tree_height</th>\n",
       "      <th>potapov_tree_height</th>\n",
       "      <th>slope</th>\n",
       "      <th>tmf_2016</th>\n",
       "      <th>tmf_2017</th>\n",
       "      <th>tmf_2018</th>\n",
       "      <th>tmf_2019</th>\n",
       "      <th>tmf_2020</th>\n",
       "      <th>tmf_defyear</th>\n",
       "      <th>tmf_degyear</th>\n",
       "      <th>tmf_main</th>\n",
       "      <th>tmf_sub</th>\n",
       "      <th>geometry</th>\n",
       "      <th>point_id</th>\n",
       "      <th>Change_Bin</th>\n",
       "      <th>Def_Bin</th>\n",
       "      <th>Deg_Bin</th>\n",
       "      <th>CAFI_LC_2015</th>\n",
       "      <th>chg_prob_cafi1520</th>\n",
       "      <th>def_prob_cafi1520</th>\n",
       "      <th>deg_prob_cafi1520</th>\n",
       "      <th>simple_combined</th>\n",
       "      <th>stratum</th>\n",
       "      <th>kmeans_chg</th>\n",
       "      <th>kmeans_def</th>\n",
       "      <th>kmeans_deg</th>\n",
       "      <th>plotid</th>\n",
       "      <th>lon</th>\n",
       "      <th>lat</th>\n",
       "      <th>sampleid</th>\n",
       "      <th>email</th>\n",
       "      <th>flagged</th>\n",
       "      <th>collection_time</th>\n",
       "      <th>analysis_duration</th>\n",
       "      <th>sample_geom</th>\n",
       "      <th>chg_prob</th>\n",
       "      <th>Ref_FNF_2015</th>\n",
       "      <th>Ref_Regeneration</th>\n",
       "      <th>Ref_Change_1522</th>\n",
       "      <th>Ref_Change_Type_1522</th>\n",
       "      <th>ArtFor</th>\n",
       "      <th>ArtMine</th>\n",
       "      <th>InfraR</th>\n",
       "      <th>Urb</th>\n",
       "      <th>IndFor</th>\n",
       "      <th>Other</th>\n",
       "      <th>Other_Desc</th>\n",
       "      <th>IndMine</th>\n",
       "      <th>IndAg</th>\n",
       "      <th>ArtAg</th>\n",
       "      <th>Ref_Year</th>\n",
       "      <th>Ref_NFtype</th>\n",
       "      <th>Ref_Ftype</th>\n",
       "      <th>Commentaires</th>\n",
       "      <th>collection</th>\n",
       "      <th>interpreted</th>\n",
       "      <th>Ref_LCtype</th>\n",
       "      <th>Ref_Change_Year_1522</th>\n",
       "      <th>Def2016</th>\n",
       "      <th>Def2017</th>\n",
       "      <th>Def2018</th>\n",
       "      <th>Def2019</th>\n",
       "      <th>Def2020</th>\n",
       "      <th>Def2021</th>\n",
       "      <th>Def2022</th>\n",
       "      <th>Deg2016</th>\n",
       "      <th>Deg2017</th>\n",
       "      <th>Deg2018</th>\n",
       "      <th>Deg2019</th>\n",
       "      <th>Deg2020</th>\n",
       "      <th>Deg2021</th>\n",
       "      <th>Deg2022</th>\n",
       "      <th>Defall</th>\n",
       "      <th>Degall</th>\n",
       "      <th>Stable</th>\n",
       "      <th>NF</th>\n",
       "      <th>sampling</th>\n",
       "    </tr>\n",
       "  </thead>\n",
       "  <tbody>\n",
       "    <tr>\n",
       "      <th>0</th>\n",
       "      <td>39</td>\n",
       "      <td>31</td>\n",
       "      <td>-1.000</td>\n",
       "      <td>0.000000</td>\n",
       "      <td>0.000000</td>\n",
       "      <td>2016.186</td>\n",
       "      <td>0.214082</td>\n",
       "      <td>11562.182796</td>\n",
       "      <td>8855.811828</td>\n",
       "      <td>1478.122786</td>\n",
       "      <td>4529.000000</td>\n",
       "      <td>10000.0</td>\n",
       "      <td>8855.811828</td>\n",
       "      <td>1478.122786</td>\n",
       "      <td>4529.000000</td>\n",
       "      <td>10000.0</td>\n",
       "      <td>8855.811828</td>\n",
       "      <td>1478.122786</td>\n",
       "      <td>4529.000000</td>\n",
       "      <td>10000.0</td>\n",
       "      <td>8855.811828</td>\n",
       "      <td>1478.122786</td>\n",
       "      <td>4529.000000</td>\n",
       "      <td>10000.0</td>\n",
       "      <td>8855.811828</td>\n",
       "      <td>1478.122786</td>\n",
       "      <td>4529.000000</td>\n",
       "      <td>10000.0</td>\n",
       "      <td>8855.811828</td>\n",
       "      <td>1478.122786</td>\n",
       "      <td>4529.000000</td>\n",
       "      <td>10000.0</td>\n",
       "      <td>8855.811828</td>\n",
       "      <td>1478.122786</td>\n",
       "      <td>4529.000000</td>\n",
       "      <td>10000.0</td>\n",
       "      <td>8855.811828</td>\n",
       "      <td>1478.122786</td>\n",
       "      <td>4529.000000</td>\n",
       "      <td>10000.0</td>\n",
       "      <td>280.535017</td>\n",
       "      <td>76.487084</td>\n",
       "      <td>535.447318</td>\n",
       "      <td>-2.501049</td>\n",
       "      <td>17444</td>\n",
       "      <td>1</td>\n",
       "      <td>1519.872966</td>\n",
       "      <td>17508</td>\n",
       "      <td>1</td>\n",
       "      <td>3.062234</td>\n",
       "      <td>17524</td>\n",
       "      <td>1</td>\n",
       "      <td>6.340281</td>\n",
       "      <td>2023.962</td>\n",
       "      <td>976.045397</td>\n",
       "      <td>NaN</td>\n",
       "      <td>1.0</td>\n",
       "      <td>73.0</td>\n",
       "      <td>12.0</td>\n",
       "      <td>23.0</td>\n",
       "      <td>52.0</td>\n",
       "      <td>NaN</td>\n",
       "      <td>NaN</td>\n",
       "      <td>NaN</td>\n",
       "      <td>NaN</td>\n",
       "      <td>NaN</td>\n",
       "      <td>NaN</td>\n",
       "      <td>NaN</td>\n",
       "      <td>NaN</td>\n",
       "      <td>0</td>\n",
       "      <td>0</td>\n",
       "      <td>NaN</td>\n",
       "      <td>0</td>\n",
       "      <td>NaN</td>\n",
       "      <td>0</td>\n",
       "      <td>NaN</td>\n",
       "      <td>0</td>\n",
       "      <td>0</td>\n",
       "      <td>0</td>\n",
       "      <td>0</td>\n",
       "      <td>0</td>\n",
       "      <td>NaN</td>\n",
       "      <td>NaN</td>\n",
       "      <td>NaN</td>\n",
       "      <td>NaN</td>\n",
       "      <td>POINT (5.624505597429619 -1.452023427740736)</td>\n",
       "      <td>7</td>\n",
       "      <td>NaN</td>\n",
       "      <td>NaN</td>\n",
       "      <td>NaN</td>\n",
       "      <td>1</td>\n",
       "      <td>0.289333</td>\n",
       "      <td>0.172667</td>\n",
       "      <td>0.239333</td>\n",
       "      <td>0.289333</td>\n",
       "      <td>2</td>\n",
       "      <td>2</td>\n",
       "      <td>2</td>\n",
       "      <td>2</td>\n",
       "      <td>7</td>\n",
       "      <td>5.624506</td>\n",
       "      <td>-1.452023</td>\n",
       "      <td>42616.0</td>\n",
       "      <td>jaoe@hotmail.es</td>\n",
       "      <td>False</td>\n",
       "      <td>2023-11-17 11:19</td>\n",
       "      <td>-42816.2 secs</td>\n",
       "      <td>POINT(5.624506 -1.452023)</td>\n",
       "      <td>0.166000</td>\n",
       "      <td>1.0</td>\n",
       "      <td>NaN</td>\n",
       "      <td>0.0</td>\n",
       "      <td>Stable</td>\n",
       "      <td>0.0</td>\n",
       "      <td>0.0</td>\n",
       "      <td>0.0</td>\n",
       "      <td>0.0</td>\n",
       "      <td>0.0</td>\n",
       "      <td>0.0</td>\n",
       "      <td>NaN</td>\n",
       "      <td>0.0</td>\n",
       "      <td>0.0</td>\n",
       "      <td>NaN</td>\n",
       "      <td>NaN</td>\n",
       "      <td>NaN</td>\n",
       "      <td>1.0</td>\n",
       "      <td>la Isla de Annobon</td>\n",
       "      <td>2.0</td>\n",
       "      <td>1</td>\n",
       "      <td>1.0</td>\n",
       "      <td>Stable</td>\n",
       "      <td>0</td>\n",
       "      <td>0</td>\n",
       "      <td>0</td>\n",
       "      <td>0</td>\n",
       "      <td>0</td>\n",
       "      <td>0</td>\n",
       "      <td>0</td>\n",
       "      <td>0</td>\n",
       "      <td>0</td>\n",
       "      <td>0</td>\n",
       "      <td>0</td>\n",
       "      <td>0</td>\n",
       "      <td>0</td>\n",
       "      <td>0</td>\n",
       "      <td>0.0</td>\n",
       "      <td>0.0</td>\n",
       "      <td>1.0</td>\n",
       "      <td>0</td>\n",
       "      <td>systematic</td>\n",
       "    </tr>\n",
       "    <tr>\n",
       "      <th>1</th>\n",
       "      <td>52</td>\n",
       "      <td>36</td>\n",
       "      <td>2019.742</td>\n",
       "      <td>-4293.849121</td>\n",
       "      <td>-1.521113</td>\n",
       "      <td>2019.742</td>\n",
       "      <td>0.118909</td>\n",
       "      <td>13324.527778</td>\n",
       "      <td>6834.611111</td>\n",
       "      <td>1732.128578</td>\n",
       "      <td>2548.000000</td>\n",
       "      <td>10000.0</td>\n",
       "      <td>6834.611111</td>\n",
       "      <td>1732.128578</td>\n",
       "      <td>2548.000000</td>\n",
       "      <td>10000.0</td>\n",
       "      <td>6834.611111</td>\n",
       "      <td>1732.128578</td>\n",
       "      <td>2548.000000</td>\n",
       "      <td>10000.0</td>\n",
       "      <td>6834.611111</td>\n",
       "      <td>1732.128578</td>\n",
       "      <td>2548.000000</td>\n",
       "      <td>10000.0</td>\n",
       "      <td>6834.611111</td>\n",
       "      <td>1732.128578</td>\n",
       "      <td>2548.000000</td>\n",
       "      <td>10000.0</td>\n",
       "      <td>6834.611111</td>\n",
       "      <td>1732.128578</td>\n",
       "      <td>2548.000000</td>\n",
       "      <td>10000.0</td>\n",
       "      <td>6834.611111</td>\n",
       "      <td>1732.128578</td>\n",
       "      <td>2548.000000</td>\n",
       "      <td>10000.0</td>\n",
       "      <td>6834.611111</td>\n",
       "      <td>1732.128578</td>\n",
       "      <td>2548.000000</td>\n",
       "      <td>10000.0</td>\n",
       "      <td>-142.145715</td>\n",
       "      <td>99.234786</td>\n",
       "      <td>143.875325</td>\n",
       "      <td>-480.451413</td>\n",
       "      <td>17471</td>\n",
       "      <td>1</td>\n",
       "      <td>-2331.318337</td>\n",
       "      <td>0</td>\n",
       "      <td>0</td>\n",
       "      <td>-0.273884</td>\n",
       "      <td>0</td>\n",
       "      <td>0</td>\n",
       "      <td>-2.415279</td>\n",
       "      <td>0.000</td>\n",
       "      <td>0.000000</td>\n",
       "      <td>273.0</td>\n",
       "      <td>1.0</td>\n",
       "      <td>70.0</td>\n",
       "      <td>55.0</td>\n",
       "      <td>6.0</td>\n",
       "      <td>64.0</td>\n",
       "      <td>574.101685</td>\n",
       "      <td>10.0</td>\n",
       "      <td>10.0</td>\n",
       "      <td>2.0</td>\n",
       "      <td>2.0</td>\n",
       "      <td>2.0</td>\n",
       "      <td>2.0</td>\n",
       "      <td>2.0</td>\n",
       "      <td>0</td>\n",
       "      <td>0</td>\n",
       "      <td>14.0</td>\n",
       "      <td>56</td>\n",
       "      <td>15.0</td>\n",
       "      <td>6</td>\n",
       "      <td>5.0</td>\n",
       "      <td>2</td>\n",
       "      <td>2</td>\n",
       "      <td>2</td>\n",
       "      <td>2</td>\n",
       "      <td>2</td>\n",
       "      <td>0.0</td>\n",
       "      <td>2001.0</td>\n",
       "      <td>20.0</td>\n",
       "      <td>25.0</td>\n",
       "      <td>POINT (11.324654609564226 2.161619960358233)</td>\n",
       "      <td>19561</td>\n",
       "      <td>NaN</td>\n",
       "      <td>NaN</td>\n",
       "      <td>NaN</td>\n",
       "      <td>16</td>\n",
       "      <td>0.571333</td>\n",
       "      <td>0.533333</td>\n",
       "      <td>0.542667</td>\n",
       "      <td>0.571333</td>\n",
       "      <td>3</td>\n",
       "      <td>3</td>\n",
       "      <td>3</td>\n",
       "      <td>3</td>\n",
       "      <td>19561</td>\n",
       "      <td>11.324655</td>\n",
       "      <td>2.161620</td>\n",
       "      <td>26354.0</td>\n",
       "      <td>clmna1999@gmail.com</td>\n",
       "      <td>False</td>\n",
       "      <td>2023-10-06 14:42</td>\n",
       "      <td>-74.7 secs</td>\n",
       "      <td>POINT(11.324655 2.16162)</td>\n",
       "      <td>0.583333</td>\n",
       "      <td>0.0</td>\n",
       "      <td>oui</td>\n",
       "      <td>0.0</td>\n",
       "      <td>NF</td>\n",
       "      <td>0.0</td>\n",
       "      <td>0.0</td>\n",
       "      <td>0.0</td>\n",
       "      <td>0.0</td>\n",
       "      <td>0.0</td>\n",
       "      <td>0.0</td>\n",
       "      <td>NaN</td>\n",
       "      <td>0.0</td>\n",
       "      <td>0.0</td>\n",
       "      <td>NaN</td>\n",
       "      <td>NaN</td>\n",
       "      <td>15.0</td>\n",
       "      <td>NaN</td>\n",
       "      <td>rentrez vos commentaires</td>\n",
       "      <td>2.0</td>\n",
       "      <td>1</td>\n",
       "      <td>15.0</td>\n",
       "      <td>NF</td>\n",
       "      <td>0</td>\n",
       "      <td>0</td>\n",
       "      <td>0</td>\n",
       "      <td>0</td>\n",
       "      <td>0</td>\n",
       "      <td>0</td>\n",
       "      <td>0</td>\n",
       "      <td>0</td>\n",
       "      <td>0</td>\n",
       "      <td>0</td>\n",
       "      <td>0</td>\n",
       "      <td>0</td>\n",
       "      <td>0</td>\n",
       "      <td>0</td>\n",
       "      <td>0.0</td>\n",
       "      <td>0.0</td>\n",
       "      <td>0.0</td>\n",
       "      <td>1</td>\n",
       "      <td>systematic</td>\n",
       "    </tr>\n",
       "    <tr>\n",
       "      <th>2</th>\n",
       "      <td>52</td>\n",
       "      <td>35</td>\n",
       "      <td>2018.099</td>\n",
       "      <td>2495.490234</td>\n",
       "      <td>1.571385</td>\n",
       "      <td>2019.742</td>\n",
       "      <td>0.489542</td>\n",
       "      <td>36797.690476</td>\n",
       "      <td>5236.007143</td>\n",
       "      <td>2926.809685</td>\n",
       "      <td>-641.333333</td>\n",
       "      <td>9012.0</td>\n",
       "      <td>5236.007143</td>\n",
       "      <td>2926.809685</td>\n",
       "      <td>-641.333333</td>\n",
       "      <td>9012.0</td>\n",
       "      <td>5236.007143</td>\n",
       "      <td>2926.809685</td>\n",
       "      <td>-641.333333</td>\n",
       "      <td>9012.0</td>\n",
       "      <td>5236.007143</td>\n",
       "      <td>2926.809685</td>\n",
       "      <td>-641.333333</td>\n",
       "      <td>9012.0</td>\n",
       "      <td>5236.007143</td>\n",
       "      <td>2926.809685</td>\n",
       "      <td>-641.333333</td>\n",
       "      <td>9012.0</td>\n",
       "      <td>5236.007143</td>\n",
       "      <td>2926.809685</td>\n",
       "      <td>-641.333333</td>\n",
       "      <td>9012.0</td>\n",
       "      <td>5236.007143</td>\n",
       "      <td>2926.809685</td>\n",
       "      <td>-641.333333</td>\n",
       "      <td>9012.0</td>\n",
       "      <td>5236.007143</td>\n",
       "      <td>2926.809685</td>\n",
       "      <td>-641.333333</td>\n",
       "      <td>9012.0</td>\n",
       "      <td>-746.283955</td>\n",
       "      <td>155.523233</td>\n",
       "      <td>-202.214120</td>\n",
       "      <td>-1476.612101</td>\n",
       "      <td>17471</td>\n",
       "      <td>1</td>\n",
       "      <td>-1714.609709</td>\n",
       "      <td>18255</td>\n",
       "      <td>1</td>\n",
       "      <td>-2.108676</td>\n",
       "      <td>18271</td>\n",
       "      <td>1</td>\n",
       "      <td>-4.520519</td>\n",
       "      <td>2020.071</td>\n",
       "      <td>-4408.294047</td>\n",
       "      <td>40.0</td>\n",
       "      <td>1.0</td>\n",
       "      <td>75.0</td>\n",
       "      <td>12.0</td>\n",
       "      <td>31.0</td>\n",
       "      <td>44.0</td>\n",
       "      <td>599.378174</td>\n",
       "      <td>10.0</td>\n",
       "      <td>10.0</td>\n",
       "      <td>2.0</td>\n",
       "      <td>2.0</td>\n",
       "      <td>5.0</td>\n",
       "      <td>10.0</td>\n",
       "      <td>2.0</td>\n",
       "      <td>0</td>\n",
       "      <td>1</td>\n",
       "      <td>19.0</td>\n",
       "      <td>71</td>\n",
       "      <td>14.0</td>\n",
       "      <td>5</td>\n",
       "      <td>3.0</td>\n",
       "      <td>2</td>\n",
       "      <td>2</td>\n",
       "      <td>2</td>\n",
       "      <td>2</td>\n",
       "      <td>2</td>\n",
       "      <td>505.0</td>\n",
       "      <td>2001.0</td>\n",
       "      <td>26.0</td>\n",
       "      <td>30.0</td>\n",
       "      <td>POINT (11.329633192695216 2.171254532098836)</td>\n",
       "      <td>19562</td>\n",
       "      <td>NaN</td>\n",
       "      <td>NaN</td>\n",
       "      <td>NaN</td>\n",
       "      <td>3</td>\n",
       "      <td>0.580000</td>\n",
       "      <td>0.524000</td>\n",
       "      <td>0.256667</td>\n",
       "      <td>0.580000</td>\n",
       "      <td>2</td>\n",
       "      <td>3</td>\n",
       "      <td>3</td>\n",
       "      <td>2</td>\n",
       "      <td>19562</td>\n",
       "      <td>11.329633</td>\n",
       "      <td>2.171255</td>\n",
       "      <td>33056.0</td>\n",
       "      <td>rncogom@gmail.com</td>\n",
       "      <td>False</td>\n",
       "      <td>2023-10-23 21:09</td>\n",
       "      <td>8.6 secs</td>\n",
       "      <td>POINT(11.329633 2.171255)</td>\n",
       "      <td>0.753333</td>\n",
       "      <td>1.0</td>\n",
       "      <td>NaN</td>\n",
       "      <td>1.0</td>\n",
       "      <td>Def</td>\n",
       "      <td>0.0</td>\n",
       "      <td>0.0</td>\n",
       "      <td>1.0</td>\n",
       "      <td>0.0</td>\n",
       "      <td>0.0</td>\n",
       "      <td>0.0</td>\n",
       "      <td>NaN</td>\n",
       "      <td>0.0</td>\n",
       "      <td>0.0</td>\n",
       "      <td>1.0</td>\n",
       "      <td>2019.0</td>\n",
       "      <td>NaN</td>\n",
       "      <td>3.0</td>\n",
       "      <td>rentrez vos commentaires</td>\n",
       "      <td>2.0</td>\n",
       "      <td>1</td>\n",
       "      <td>3.0</td>\n",
       "      <td>Def2019</td>\n",
       "      <td>0</td>\n",
       "      <td>0</td>\n",
       "      <td>0</td>\n",
       "      <td>1</td>\n",
       "      <td>0</td>\n",
       "      <td>0</td>\n",
       "      <td>0</td>\n",
       "      <td>0</td>\n",
       "      <td>0</td>\n",
       "      <td>0</td>\n",
       "      <td>0</td>\n",
       "      <td>0</td>\n",
       "      <td>0</td>\n",
       "      <td>0</td>\n",
       "      <td>1.0</td>\n",
       "      <td>0.0</td>\n",
       "      <td>0.0</td>\n",
       "      <td>0</td>\n",
       "      <td>systematic</td>\n",
       "    </tr>\n",
       "    <tr>\n",
       "      <th>3</th>\n",
       "      <td>65</td>\n",
       "      <td>44</td>\n",
       "      <td>-1.000</td>\n",
       "      <td>0.000000</td>\n",
       "      <td>0.000000</td>\n",
       "      <td>2017.288</td>\n",
       "      <td>-0.016264</td>\n",
       "      <td>18205.298485</td>\n",
       "      <td>3246.775758</td>\n",
       "      <td>2555.647824</td>\n",
       "      <td>-694.000000</td>\n",
       "      <td>9617.0</td>\n",
       "      <td>3246.775758</td>\n",
       "      <td>2555.647824</td>\n",
       "      <td>-694.000000</td>\n",
       "      <td>9617.0</td>\n",
       "      <td>3246.775758</td>\n",
       "      <td>2555.647824</td>\n",
       "      <td>-694.000000</td>\n",
       "      <td>9617.0</td>\n",
       "      <td>3246.775758</td>\n",
       "      <td>2555.647824</td>\n",
       "      <td>-694.000000</td>\n",
       "      <td>9617.0</td>\n",
       "      <td>3246.775758</td>\n",
       "      <td>2555.647824</td>\n",
       "      <td>-694.000000</td>\n",
       "      <td>9617.0</td>\n",
       "      <td>3246.775758</td>\n",
       "      <td>2555.647824</td>\n",
       "      <td>-694.000000</td>\n",
       "      <td>9617.0</td>\n",
       "      <td>3246.775758</td>\n",
       "      <td>2555.647824</td>\n",
       "      <td>-694.000000</td>\n",
       "      <td>9617.0</td>\n",
       "      <td>3246.775758</td>\n",
       "      <td>2555.647824</td>\n",
       "      <td>-694.000000</td>\n",
       "      <td>9617.0</td>\n",
       "      <td>140.763238</td>\n",
       "      <td>129.303934</td>\n",
       "      <td>535.890205</td>\n",
       "      <td>-243.746115</td>\n",
       "      <td>0</td>\n",
       "      <td>0</td>\n",
       "      <td>641.690492</td>\n",
       "      <td>0</td>\n",
       "      <td>0</td>\n",
       "      <td>0.303892</td>\n",
       "      <td>0</td>\n",
       "      <td>0</td>\n",
       "      <td>-0.214312</td>\n",
       "      <td>0.000</td>\n",
       "      <td>0.000000</td>\n",
       "      <td>322.0</td>\n",
       "      <td>6.0</td>\n",
       "      <td>11.0</td>\n",
       "      <td>4.0</td>\n",
       "      <td>2.0</td>\n",
       "      <td>7.0</td>\n",
       "      <td>566.470398</td>\n",
       "      <td>50.0</td>\n",
       "      <td>50.0</td>\n",
       "      <td>7.0</td>\n",
       "      <td>7.0</td>\n",
       "      <td>7.0</td>\n",
       "      <td>7.0</td>\n",
       "      <td>7.0</td>\n",
       "      <td>0</td>\n",
       "      <td>0</td>\n",
       "      <td>NaN</td>\n",
       "      <td>17</td>\n",
       "      <td>13.0</td>\n",
       "      <td>5</td>\n",
       "      <td>4.0</td>\n",
       "      <td>4</td>\n",
       "      <td>4</td>\n",
       "      <td>4</td>\n",
       "      <td>4</td>\n",
       "      <td>4</td>\n",
       "      <td>0.0</td>\n",
       "      <td>1006.0</td>\n",
       "      <td>45.0</td>\n",
       "      <td>59.0</td>\n",
       "      <td>POINT (11.329629971919246 2.151985538306313)</td>\n",
       "      <td>19683</td>\n",
       "      <td>NaN</td>\n",
       "      <td>NaN</td>\n",
       "      <td>NaN</td>\n",
       "      <td>15</td>\n",
       "      <td>0.152000</td>\n",
       "      <td>0.142000</td>\n",
       "      <td>0.110667</td>\n",
       "      <td>0.152000</td>\n",
       "      <td>1</td>\n",
       "      <td>2</td>\n",
       "      <td>2</td>\n",
       "      <td>1</td>\n",
       "      <td>19683</td>\n",
       "      <td>11.329630</td>\n",
       "      <td>2.151986</td>\n",
       "      <td>NaN</td>\n",
       "      <td>NaN</td>\n",
       "      <td>NaN</td>\n",
       "      <td>NaN</td>\n",
       "      <td>NaN</td>\n",
       "      <td>NaN</td>\n",
       "      <td>NaN</td>\n",
       "      <td>NaN</td>\n",
       "      <td>NaN</td>\n",
       "      <td>NaN</td>\n",
       "      <td>NaN</td>\n",
       "      <td>NaN</td>\n",
       "      <td>NaN</td>\n",
       "      <td>NaN</td>\n",
       "      <td>NaN</td>\n",
       "      <td>NaN</td>\n",
       "      <td>NaN</td>\n",
       "      <td>NaN</td>\n",
       "      <td>NaN</td>\n",
       "      <td>NaN</td>\n",
       "      <td>NaN</td>\n",
       "      <td>NaN</td>\n",
       "      <td>NaN</td>\n",
       "      <td>NaN</td>\n",
       "      <td>NaN</td>\n",
       "      <td>NaN</td>\n",
       "      <td>0</td>\n",
       "      <td>NaN</td>\n",
       "      <td>NaN</td>\n",
       "      <td>0</td>\n",
       "      <td>0</td>\n",
       "      <td>0</td>\n",
       "      <td>0</td>\n",
       "      <td>0</td>\n",
       "      <td>0</td>\n",
       "      <td>0</td>\n",
       "      <td>0</td>\n",
       "      <td>0</td>\n",
       "      <td>0</td>\n",
       "      <td>0</td>\n",
       "      <td>0</td>\n",
       "      <td>0</td>\n",
       "      <td>0</td>\n",
       "      <td>NaN</td>\n",
       "      <td>NaN</td>\n",
       "      <td>NaN</td>\n",
       "      <td>0</td>\n",
       "      <td>systematic</td>\n",
       "    </tr>\n",
       "    <tr>\n",
       "      <th>4</th>\n",
       "      <td>85</td>\n",
       "      <td>61</td>\n",
       "      <td>2016.323</td>\n",
       "      <td>-1213.659668</td>\n",
       "      <td>-2.321031</td>\n",
       "      <td>2020.375</td>\n",
       "      <td>0.360177</td>\n",
       "      <td>5298.179235</td>\n",
       "      <td>9234.588837</td>\n",
       "      <td>388.968825</td>\n",
       "      <td>8003.500000</td>\n",
       "      <td>10000.0</td>\n",
       "      <td>9234.588837</td>\n",
       "      <td>388.968825</td>\n",
       "      <td>8003.500000</td>\n",
       "      <td>10000.0</td>\n",
       "      <td>9234.588837</td>\n",
       "      <td>388.968825</td>\n",
       "      <td>8003.500000</td>\n",
       "      <td>10000.0</td>\n",
       "      <td>9234.588837</td>\n",
       "      <td>388.968825</td>\n",
       "      <td>8003.500000</td>\n",
       "      <td>10000.0</td>\n",
       "      <td>9234.588837</td>\n",
       "      <td>388.968825</td>\n",
       "      <td>8003.500000</td>\n",
       "      <td>10000.0</td>\n",
       "      <td>9234.588837</td>\n",
       "      <td>388.968825</td>\n",
       "      <td>8003.500000</td>\n",
       "      <td>10000.0</td>\n",
       "      <td>9234.588837</td>\n",
       "      <td>388.968825</td>\n",
       "      <td>8003.500000</td>\n",
       "      <td>10000.0</td>\n",
       "      <td>9234.588837</td>\n",
       "      <td>388.968825</td>\n",
       "      <td>8003.500000</td>\n",
       "      <td>10000.0</td>\n",
       "      <td>-22.984066</td>\n",
       "      <td>14.775430</td>\n",
       "      <td>21.319361</td>\n",
       "      <td>-67.575218</td>\n",
       "      <td>16862</td>\n",
       "      <td>1</td>\n",
       "      <td>-497.753171</td>\n",
       "      <td>0</td>\n",
       "      <td>0</td>\n",
       "      <td>-0.504318</td>\n",
       "      <td>0</td>\n",
       "      <td>0</td>\n",
       "      <td>-4.984166</td>\n",
       "      <td>2018.468</td>\n",
       "      <td>470.595760</td>\n",
       "      <td>148.0</td>\n",
       "      <td>1.0</td>\n",
       "      <td>74.0</td>\n",
       "      <td>8.0</td>\n",
       "      <td>15.0</td>\n",
       "      <td>64.0</td>\n",
       "      <td>11.164840</td>\n",
       "      <td>95.0</td>\n",
       "      <td>10.0</td>\n",
       "      <td>2.0</td>\n",
       "      <td>2.0</td>\n",
       "      <td>2.0</td>\n",
       "      <td>2.0</td>\n",
       "      <td>2.0</td>\n",
       "      <td>0</td>\n",
       "      <td>0</td>\n",
       "      <td>NaN</td>\n",
       "      <td>80</td>\n",
       "      <td>14.0</td>\n",
       "      <td>6</td>\n",
       "      <td>5.0</td>\n",
       "      <td>1</td>\n",
       "      <td>1</td>\n",
       "      <td>1</td>\n",
       "      <td>1</td>\n",
       "      <td>1</td>\n",
       "      <td>0.0</td>\n",
       "      <td>0.0</td>\n",
       "      <td>10.0</td>\n",
       "      <td>11.0</td>\n",
       "      <td>POINT (9.914446864445276 0.946719632894394)</td>\n",
       "      <td>9671</td>\n",
       "      <td>NaN</td>\n",
       "      <td>NaN</td>\n",
       "      <td>NaN</td>\n",
       "      <td>2</td>\n",
       "      <td>0.126667</td>\n",
       "      <td>0.080000</td>\n",
       "      <td>0.203333</td>\n",
       "      <td>0.126667</td>\n",
       "      <td>2</td>\n",
       "      <td>2</td>\n",
       "      <td>1</td>\n",
       "      <td>2</td>\n",
       "      <td>9671</td>\n",
       "      <td>9.914447</td>\n",
       "      <td>0.946720</td>\n",
       "      <td>NaN</td>\n",
       "      <td>NaN</td>\n",
       "      <td>NaN</td>\n",
       "      <td>NaN</td>\n",
       "      <td>NaN</td>\n",
       "      <td>NaN</td>\n",
       "      <td>NaN</td>\n",
       "      <td>NaN</td>\n",
       "      <td>NaN</td>\n",
       "      <td>NaN</td>\n",
       "      <td>NaN</td>\n",
       "      <td>NaN</td>\n",
       "      <td>NaN</td>\n",
       "      <td>NaN</td>\n",
       "      <td>NaN</td>\n",
       "      <td>NaN</td>\n",
       "      <td>NaN</td>\n",
       "      <td>NaN</td>\n",
       "      <td>NaN</td>\n",
       "      <td>NaN</td>\n",
       "      <td>NaN</td>\n",
       "      <td>NaN</td>\n",
       "      <td>NaN</td>\n",
       "      <td>NaN</td>\n",
       "      <td>NaN</td>\n",
       "      <td>NaN</td>\n",
       "      <td>0</td>\n",
       "      <td>NaN</td>\n",
       "      <td>NaN</td>\n",
       "      <td>0</td>\n",
       "      <td>0</td>\n",
       "      <td>0</td>\n",
       "      <td>0</td>\n",
       "      <td>0</td>\n",
       "      <td>0</td>\n",
       "      <td>0</td>\n",
       "      <td>0</td>\n",
       "      <td>0</td>\n",
       "      <td>0</td>\n",
       "      <td>0</td>\n",
       "      <td>0</td>\n",
       "      <td>0</td>\n",
       "      <td>0</td>\n",
       "      <td>NaN</td>\n",
       "      <td>NaN</td>\n",
       "      <td>NaN</td>\n",
       "      <td>0</td>\n",
       "      <td>systematic</td>\n",
       "    </tr>\n",
       "  </tbody>\n",
       "</table>\n",
       "</div>"
      ],
      "text/plain": [
       "   images  mon_images  bfast_change_date  bfast_magnitude  bfast_means  cusum_change_date  cusum_confidence  cusum_magnitude     red_mean       red_sd      red_min  red_max     nir_mean       nir_sd      nir_min  nir_max   swir1_mean     swir1_sd    swir1_min  swir1_max   swir2_mean     swir2_sd    swir2_min  swir2_max    ndfi_mean      ndfi_sd     ndfi_min  ndfi_max  brightness_mean  brightness_sd  brightness_min  brightness_max  greenness_mean  greenness_sd  greenness_min  greenness_max  wetness_mean   wetness_sd  wetness_min  wetness_max  bs_slope_mean  bs_slope_sd  bs_slope_max  bs_slope_min  ewma_jrc_date  ewma_jrc_change  ewma_jrc_magnitude  mosum_jrc_date  mosum_jrc_change  mosum_jrc_magnitude  cusum_jrc_date  cusum_jrc_change  cusum_jrc_magnitude  ccdc_change_date  ccdc_magnitude  aspect  dw_class_mode  dw_tree_prob__max  dw_tree_prob__min  dw_tree_prob__stdDev  dw_tree_prob_mean   elevation  esa_lc20  esa_lc21  esri_lc17  esri_lc18  esri_lc19  esri_lc20  esri_lc21  gfc_gain  gfc_loss  gfc_lossyear  gfc_tc00  lang_tree_height  potapov_tree_height  slope  tmf_2016  tmf_2017  tmf_2018  tmf_2019  tmf_2020  tmf_defyear  tmf_degyear  tmf_main  tmf_sub                                      geometry  point_id  Change_Bin  Def_Bin  Deg_Bin  CAFI_LC_2015  chg_prob_cafi1520  def_prob_cafi1520  deg_prob_cafi1520  simple_combined  stratum  kmeans_chg  kmeans_def  kmeans_deg  plotid        lon       lat  sampleid                email flagged   collection_time analysis_duration                sample_geom  chg_prob  Ref_FNF_2015 Ref_Regeneration  Ref_Change_1522 Ref_Change_Type_1522  ArtFor  ArtMine  InfraR  Urb  IndFor  Other Other_Desc  IndMine  IndAg  ArtAg  Ref_Year  Ref_NFtype  Ref_Ftype              Commentaires  collection  interpreted  Ref_LCtype Ref_Change_Year_1522  Def2016  Def2017  Def2018  Def2019  Def2020  Def2021  Def2022  Deg2016  Deg2017  Deg2018  Deg2019  Deg2020  Deg2021  Deg2022  Defall  Degall  Stable  NF    sampling\n",
       "0      39          31             -1.000         0.000000     0.000000           2016.186          0.214082     11562.182796  8855.811828  1478.122786  4529.000000  10000.0  8855.811828  1478.122786  4529.000000  10000.0  8855.811828  1478.122786  4529.000000    10000.0  8855.811828  1478.122786  4529.000000    10000.0  8855.811828  1478.122786  4529.000000   10000.0      8855.811828    1478.122786     4529.000000         10000.0     8855.811828   1478.122786    4529.000000        10000.0   8855.811828  1478.122786  4529.000000      10000.0     280.535017    76.487084    535.447318     -2.501049          17444                1         1519.872966           17508                 1             3.062234           17524                 1             6.340281          2023.962      976.045397     NaN            1.0               73.0               12.0                  23.0               52.0         NaN       NaN       NaN        NaN        NaN        NaN        NaN        NaN         0         0           NaN         0               NaN                    0    NaN         0         0         0         0         0          NaN          NaN       NaN      NaN  POINT (5.624505597429619 -1.452023427740736)         7         NaN      NaN      NaN             1           0.289333           0.172667           0.239333         0.289333        2           2           2           2       7   5.624506 -1.452023   42616.0      jaoe@hotmail.es   False  2023-11-17 11:19     -42816.2 secs  POINT(5.624506 -1.452023)  0.166000           1.0              NaN              0.0               Stable     0.0      0.0     0.0  0.0     0.0    0.0        NaN      0.0    0.0    NaN       NaN         NaN        1.0        la Isla de Annobon         2.0            1         1.0               Stable        0        0        0        0        0        0        0        0        0        0        0        0        0        0     0.0     0.0     1.0   0  systematic\n",
       "1      52          36           2019.742     -4293.849121    -1.521113           2019.742          0.118909     13324.527778  6834.611111  1732.128578  2548.000000  10000.0  6834.611111  1732.128578  2548.000000  10000.0  6834.611111  1732.128578  2548.000000    10000.0  6834.611111  1732.128578  2548.000000    10000.0  6834.611111  1732.128578  2548.000000   10000.0      6834.611111    1732.128578     2548.000000         10000.0     6834.611111   1732.128578    2548.000000        10000.0   6834.611111  1732.128578  2548.000000      10000.0    -142.145715    99.234786    143.875325   -480.451413          17471                1        -2331.318337               0                 0            -0.273884               0                 0            -2.415279             0.000        0.000000   273.0            1.0               70.0               55.0                   6.0               64.0  574.101685      10.0      10.0        2.0        2.0        2.0        2.0        2.0         0         0          14.0        56              15.0                    6    5.0         2         2         2         2         2          0.0       2001.0      20.0     25.0  POINT (11.324654609564226 2.161619960358233)     19561         NaN      NaN      NaN            16           0.571333           0.533333           0.542667         0.571333        3           3           3           3   19561  11.324655  2.161620   26354.0  clmna1999@gmail.com   False  2023-10-06 14:42        -74.7 secs   POINT(11.324655 2.16162)  0.583333           0.0              oui              0.0                   NF     0.0      0.0     0.0  0.0     0.0    0.0        NaN      0.0    0.0    NaN       NaN        15.0        NaN  rentrez vos commentaires         2.0            1        15.0                   NF        0        0        0        0        0        0        0        0        0        0        0        0        0        0     0.0     0.0     0.0   1  systematic\n",
       "2      52          35           2018.099      2495.490234     1.571385           2019.742          0.489542     36797.690476  5236.007143  2926.809685  -641.333333   9012.0  5236.007143  2926.809685  -641.333333   9012.0  5236.007143  2926.809685  -641.333333     9012.0  5236.007143  2926.809685  -641.333333     9012.0  5236.007143  2926.809685  -641.333333    9012.0      5236.007143    2926.809685     -641.333333          9012.0     5236.007143   2926.809685    -641.333333         9012.0   5236.007143  2926.809685  -641.333333       9012.0    -746.283955   155.523233   -202.214120  -1476.612101          17471                1        -1714.609709           18255                 1            -2.108676           18271                 1            -4.520519          2020.071    -4408.294047    40.0            1.0               75.0               12.0                  31.0               44.0  599.378174      10.0      10.0        2.0        2.0        5.0       10.0        2.0         0         1          19.0        71              14.0                    5    3.0         2         2         2         2         2        505.0       2001.0      26.0     30.0  POINT (11.329633192695216 2.171254532098836)     19562         NaN      NaN      NaN             3           0.580000           0.524000           0.256667         0.580000        2           3           3           2   19562  11.329633  2.171255   33056.0    rncogom@gmail.com   False  2023-10-23 21:09          8.6 secs  POINT(11.329633 2.171255)  0.753333           1.0              NaN              1.0                  Def     0.0      0.0     1.0  0.0     0.0    0.0        NaN      0.0    0.0    1.0    2019.0         NaN        3.0  rentrez vos commentaires         2.0            1         3.0              Def2019        0        0        0        1        0        0        0        0        0        0        0        0        0        0     1.0     0.0     0.0   0  systematic\n",
       "3      65          44             -1.000         0.000000     0.000000           2017.288         -0.016264     18205.298485  3246.775758  2555.647824  -694.000000   9617.0  3246.775758  2555.647824  -694.000000   9617.0  3246.775758  2555.647824  -694.000000     9617.0  3246.775758  2555.647824  -694.000000     9617.0  3246.775758  2555.647824  -694.000000    9617.0      3246.775758    2555.647824     -694.000000          9617.0     3246.775758   2555.647824    -694.000000         9617.0   3246.775758  2555.647824  -694.000000       9617.0     140.763238   129.303934    535.890205   -243.746115              0                0          641.690492               0                 0             0.303892               0                 0            -0.214312             0.000        0.000000   322.0            6.0               11.0                4.0                   2.0                7.0  566.470398      50.0      50.0        7.0        7.0        7.0        7.0        7.0         0         0           NaN        17              13.0                    5    4.0         4         4         4         4         4          0.0       1006.0      45.0     59.0  POINT (11.329629971919246 2.151985538306313)     19683         NaN      NaN      NaN            15           0.152000           0.142000           0.110667         0.152000        1           2           2           1   19683  11.329630  2.151986       NaN                  NaN     NaN               NaN               NaN                        NaN       NaN           NaN              NaN              NaN                  NaN     NaN      NaN     NaN  NaN     NaN    NaN        NaN      NaN    NaN    NaN       NaN         NaN        NaN                       NaN         NaN            0         NaN                  NaN        0        0        0        0        0        0        0        0        0        0        0        0        0        0     NaN     NaN     NaN   0  systematic\n",
       "4      85          61           2016.323     -1213.659668    -2.321031           2020.375          0.360177      5298.179235  9234.588837   388.968825  8003.500000  10000.0  9234.588837   388.968825  8003.500000  10000.0  9234.588837   388.968825  8003.500000    10000.0  9234.588837   388.968825  8003.500000    10000.0  9234.588837   388.968825  8003.500000   10000.0      9234.588837     388.968825     8003.500000         10000.0     9234.588837    388.968825    8003.500000        10000.0   9234.588837   388.968825  8003.500000      10000.0     -22.984066    14.775430     21.319361    -67.575218          16862                1         -497.753171               0                 0            -0.504318               0                 0            -4.984166          2018.468      470.595760   148.0            1.0               74.0                8.0                  15.0               64.0   11.164840      95.0      10.0        2.0        2.0        2.0        2.0        2.0         0         0           NaN        80              14.0                    6    5.0         1         1         1         1         1          0.0          0.0      10.0     11.0   POINT (9.914446864445276 0.946719632894394)      9671         NaN      NaN      NaN             2           0.126667           0.080000           0.203333         0.126667        2           2           1           2    9671   9.914447  0.946720       NaN                  NaN     NaN               NaN               NaN                        NaN       NaN           NaN              NaN              NaN                  NaN     NaN      NaN     NaN  NaN     NaN    NaN        NaN      NaN    NaN    NaN       NaN         NaN        NaN                       NaN         NaN            0         NaN                  NaN        0        0        0        0        0        0        0        0        0        0        0        0        0        0     NaN     NaN     NaN   0  systematic"
      ]
     },
     "execution_count": 3,
     "metadata": {},
     "output_type": "execute_result"
    }
   ],
   "source": [
    "ceo_esbae_1522 = pd.read_csv('/home/sepal-user/module_results/esbae/EQG/EQG_esbae_ceo_1522_merge.csv', delimiter=',')\n",
    "#ceo_esbae_1522 = pd.read_csv('/home/sepal-user/module_results/esbae/GAB/GAB_esbae_ceo_1522_merge.csv', delimiter=',')\n",
    "#ceo_esbae_1522 = pd.read_csv('/home/sepal-user/module_results/esbae/DRC/DRC_esbae_ceo_1522_merge.csv', delimiter=',')\n",
    "ceo_esbae_1522.head()"
   ]
  },
  {
   "cell_type": "code",
   "execution_count": 4,
   "id": "46170bc9-21e1-4871-b55d-d43b9a543abd",
   "metadata": {
    "tags": []
   },
   "outputs": [
    {
     "data": {
      "text/html": [
       "\n",
       "            <style>\n",
       "                .geemap-dark {\n",
       "                    --jp-widgets-color: white;\n",
       "                    --jp-widgets-label-color: white;\n",
       "                    --jp-ui-font-color1: white;\n",
       "                    --jp-layout-color2: #454545;\n",
       "                    background-color: #383838;\n",
       "                }\n",
       "                    \n",
       "                .geemap-dark .jupyter-button {\n",
       "                    --jp-layout-color3: #383838;\n",
       "                }\n",
       "                \n",
       "                .geemap-colab {\n",
       "                    background-color: var(--colab-primary-surface-color, white);\n",
       "                }\n",
       "                    \n",
       "                .geemap-colab .jupyter-button {\n",
       "                    --jp-layout-color3: var(--colab-primary-surface-color, white);\n",
       "                }\n",
       "            </style>\n",
       "            "
      ],
      "text/plain": [
       "<IPython.core.display.HTML object>"
      ]
     },
     "metadata": {},
     "output_type": "display_data"
    },
    {
     "data": {
      "text/plain": [
       "22809"
      ]
     },
     "execution_count": 4,
     "metadata": {},
     "output_type": "execute_result"
    }
   ],
   "source": [
    "len(ceo_esbae_1522)"
   ]
  },
  {
   "cell_type": "code",
   "execution_count": 5,
   "id": "56ec76c3-8227-499a-b613-199532faf0c0",
   "metadata": {},
   "outputs": [
    {
     "data": {
      "text/html": [
       "\n",
       "            <style>\n",
       "                .geemap-dark {\n",
       "                    --jp-widgets-color: white;\n",
       "                    --jp-widgets-label-color: white;\n",
       "                    --jp-ui-font-color1: white;\n",
       "                    --jp-layout-color2: #454545;\n",
       "                    background-color: #383838;\n",
       "                }\n",
       "                    \n",
       "                .geemap-dark .jupyter-button {\n",
       "                    --jp-layout-color3: #383838;\n",
       "                }\n",
       "                \n",
       "                .geemap-colab {\n",
       "                    background-color: var(--colab-primary-surface-color, white);\n",
       "                }\n",
       "                    \n",
       "                .geemap-colab .jupyter-button {\n",
       "                    --jp-layout-color3: var(--colab-primary-surface-color, white);\n",
       "                }\n",
       "            </style>\n",
       "            "
      ],
      "text/plain": [
       "<IPython.core.display.HTML object>"
      ]
     },
     "metadata": {},
     "output_type": "display_data"
    },
    {
     "data": {
      "text/plain": [
       "stratum\n",
       "1    12908\n",
       "2     7655\n",
       "3     2246\n",
       "Name: count, dtype: int64"
      ]
     },
     "execution_count": 5,
     "metadata": {},
     "output_type": "execute_result"
    }
   ],
   "source": [
    "ceo_esbae_1522['stratum'].value_counts(dropna=False)"
   ]
  },
  {
   "cell_type": "code",
   "execution_count": 6,
   "id": "f2276123-ed55-4c10-89c4-9128af6280ee",
   "metadata": {
    "tags": []
   },
   "outputs": [
    {
     "data": {
      "text/html": [
       "\n",
       "            <style>\n",
       "                .geemap-dark {\n",
       "                    --jp-widgets-color: white;\n",
       "                    --jp-widgets-label-color: white;\n",
       "                    --jp-ui-font-color1: white;\n",
       "                    --jp-layout-color2: #454545;\n",
       "                    background-color: #383838;\n",
       "                }\n",
       "                    \n",
       "                .geemap-dark .jupyter-button {\n",
       "                    --jp-layout-color3: #383838;\n",
       "                }\n",
       "                \n",
       "                .geemap-colab {\n",
       "                    background-color: var(--colab-primary-surface-color, white);\n",
       "                }\n",
       "                    \n",
       "                .geemap-colab .jupyter-button {\n",
       "                    --jp-layout-color3: var(--colab-primary-surface-color, white);\n",
       "                }\n",
       "            </style>\n",
       "            "
      ],
      "text/plain": [
       "<IPython.core.display.HTML object>"
      ]
     },
     "metadata": {},
     "output_type": "display_data"
    },
    {
     "data": {
      "text/html": [
       "<div>\n",
       "<style scoped>\n",
       "    .dataframe tbody tr th:only-of-type {\n",
       "        vertical-align: middle;\n",
       "    }\n",
       "\n",
       "    .dataframe tbody tr th {\n",
       "        vertical-align: top;\n",
       "    }\n",
       "\n",
       "    .dataframe thead th {\n",
       "        text-align: right;\n",
       "    }\n",
       "</style>\n",
       "<table border=\"1\" class=\"dataframe\">\n",
       "  <thead>\n",
       "    <tr style=\"text-align: right;\">\n",
       "      <th>stratum</th>\n",
       "      <th>1</th>\n",
       "      <th>2</th>\n",
       "      <th>3</th>\n",
       "      <th>Total</th>\n",
       "    </tr>\n",
       "    <tr>\n",
       "      <th>Ref_Change_Type_1522</th>\n",
       "      <th></th>\n",
       "      <th></th>\n",
       "      <th></th>\n",
       "      <th></th>\n",
       "    </tr>\n",
       "  </thead>\n",
       "  <tbody>\n",
       "    <tr>\n",
       "      <th>Def</th>\n",
       "      <td>10</td>\n",
       "      <td>53</td>\n",
       "      <td>130</td>\n",
       "      <td>193</td>\n",
       "    </tr>\n",
       "    <tr>\n",
       "      <th>Deg</th>\n",
       "      <td>5</td>\n",
       "      <td>43</td>\n",
       "      <td>85</td>\n",
       "      <td>133</td>\n",
       "    </tr>\n",
       "    <tr>\n",
       "      <th>NF</th>\n",
       "      <td>125</td>\n",
       "      <td>333</td>\n",
       "      <td>420</td>\n",
       "      <td>878</td>\n",
       "    </tr>\n",
       "    <tr>\n",
       "      <th>Stable</th>\n",
       "      <td>841</td>\n",
       "      <td>1446</td>\n",
       "      <td>991</td>\n",
       "      <td>3278</td>\n",
       "    </tr>\n",
       "    <tr>\n",
       "      <th>Total</th>\n",
       "      <td>981</td>\n",
       "      <td>1875</td>\n",
       "      <td>1626</td>\n",
       "      <td>4482</td>\n",
       "    </tr>\n",
       "  </tbody>\n",
       "</table>\n",
       "</div>"
      ],
      "text/plain": [
       "stratum                 1     2     3  Total\n",
       "Ref_Change_Type_1522                        \n",
       "Def                    10    53   130    193\n",
       "Deg                     5    43    85    133\n",
       "NF                    125   333   420    878\n",
       "Stable                841  1446   991   3278\n",
       "Total                 981  1875  1626   4482"
      ]
     },
     "execution_count": 6,
     "metadata": {},
     "output_type": "execute_result"
    }
   ],
   "source": [
    "pd.pivot_table(ceo_esbae_1522,values='point_id',index=['Ref_Change_Type_1522'],columns=['stratum'],aggfunc=\"count\",margins=True,\n",
    "                             margins_name='Total')"
   ]
  },
  {
   "cell_type": "code",
   "execution_count": 7,
   "id": "ea3319ac-4e01-439f-885f-0b61e61221bc",
   "metadata": {},
   "outputs": [
    {
     "data": {
      "text/html": [
       "\n",
       "            <style>\n",
       "                .geemap-dark {\n",
       "                    --jp-widgets-color: white;\n",
       "                    --jp-widgets-label-color: white;\n",
       "                    --jp-ui-font-color1: white;\n",
       "                    --jp-layout-color2: #454545;\n",
       "                    background-color: #383838;\n",
       "                }\n",
       "                    \n",
       "                .geemap-dark .jupyter-button {\n",
       "                    --jp-layout-color3: #383838;\n",
       "                }\n",
       "                \n",
       "                .geemap-colab {\n",
       "                    background-color: var(--colab-primary-surface-color, white);\n",
       "                }\n",
       "                    \n",
       "                .geemap-colab .jupyter-button {\n",
       "                    --jp-layout-color3: var(--colab-primary-surface-color, white);\n",
       "                }\n",
       "            </style>\n",
       "            "
      ],
      "text/plain": [
       "<IPython.core.display.HTML object>"
      ]
     },
     "metadata": {},
     "output_type": "display_data"
    },
    {
     "data": {
      "text/html": [
       "<div>\n",
       "<style scoped>\n",
       "    .dataframe tbody tr th:only-of-type {\n",
       "        vertical-align: middle;\n",
       "    }\n",
       "\n",
       "    .dataframe tbody tr th {\n",
       "        vertical-align: top;\n",
       "    }\n",
       "\n",
       "    .dataframe thead th {\n",
       "        text-align: right;\n",
       "    }\n",
       "</style>\n",
       "<table border=\"1\" class=\"dataframe\">\n",
       "  <thead>\n",
       "    <tr style=\"text-align: right;\">\n",
       "      <th>stratum</th>\n",
       "      <th>1</th>\n",
       "      <th>2</th>\n",
       "      <th>3</th>\n",
       "      <th>Total</th>\n",
       "    </tr>\n",
       "    <tr>\n",
       "      <th>Ref_Change_Year_1522</th>\n",
       "      <th></th>\n",
       "      <th></th>\n",
       "      <th></th>\n",
       "      <th></th>\n",
       "    </tr>\n",
       "  </thead>\n",
       "  <tbody>\n",
       "    <tr>\n",
       "      <th>Def2016</th>\n",
       "      <td>3.0</td>\n",
       "      <td>10.0</td>\n",
       "      <td>25.0</td>\n",
       "      <td>38</td>\n",
       "    </tr>\n",
       "    <tr>\n",
       "      <th>Def2017</th>\n",
       "      <td>4.0</td>\n",
       "      <td>9.0</td>\n",
       "      <td>29.0</td>\n",
       "      <td>42</td>\n",
       "    </tr>\n",
       "    <tr>\n",
       "      <th>Def2018</th>\n",
       "      <td>NaN</td>\n",
       "      <td>7.0</td>\n",
       "      <td>25.0</td>\n",
       "      <td>32</td>\n",
       "    </tr>\n",
       "    <tr>\n",
       "      <th>Def2019</th>\n",
       "      <td>1.0</td>\n",
       "      <td>8.0</td>\n",
       "      <td>16.0</td>\n",
       "      <td>25</td>\n",
       "    </tr>\n",
       "    <tr>\n",
       "      <th>Def2020</th>\n",
       "      <td>NaN</td>\n",
       "      <td>8.0</td>\n",
       "      <td>17.0</td>\n",
       "      <td>25</td>\n",
       "    </tr>\n",
       "    <tr>\n",
       "      <th>Def2021</th>\n",
       "      <td>2.0</td>\n",
       "      <td>5.0</td>\n",
       "      <td>12.0</td>\n",
       "      <td>19</td>\n",
       "    </tr>\n",
       "    <tr>\n",
       "      <th>Def2022</th>\n",
       "      <td>NaN</td>\n",
       "      <td>6.0</td>\n",
       "      <td>6.0</td>\n",
       "      <td>12</td>\n",
       "    </tr>\n",
       "    <tr>\n",
       "      <th>Deg2016</th>\n",
       "      <td>NaN</td>\n",
       "      <td>3.0</td>\n",
       "      <td>6.0</td>\n",
       "      <td>9</td>\n",
       "    </tr>\n",
       "    <tr>\n",
       "      <th>Deg2017</th>\n",
       "      <td>1.0</td>\n",
       "      <td>11.0</td>\n",
       "      <td>19.0</td>\n",
       "      <td>31</td>\n",
       "    </tr>\n",
       "    <tr>\n",
       "      <th>Deg2018</th>\n",
       "      <td>1.0</td>\n",
       "      <td>9.0</td>\n",
       "      <td>28.0</td>\n",
       "      <td>38</td>\n",
       "    </tr>\n",
       "    <tr>\n",
       "      <th>Deg2019</th>\n",
       "      <td>1.0</td>\n",
       "      <td>2.0</td>\n",
       "      <td>12.0</td>\n",
       "      <td>15</td>\n",
       "    </tr>\n",
       "    <tr>\n",
       "      <th>Deg2020</th>\n",
       "      <td>NaN</td>\n",
       "      <td>NaN</td>\n",
       "      <td>6.0</td>\n",
       "      <td>6</td>\n",
       "    </tr>\n",
       "    <tr>\n",
       "      <th>Deg2021</th>\n",
       "      <td>1.0</td>\n",
       "      <td>7.0</td>\n",
       "      <td>9.0</td>\n",
       "      <td>17</td>\n",
       "    </tr>\n",
       "    <tr>\n",
       "      <th>Deg2022</th>\n",
       "      <td>1.0</td>\n",
       "      <td>11.0</td>\n",
       "      <td>5.0</td>\n",
       "      <td>17</td>\n",
       "    </tr>\n",
       "    <tr>\n",
       "      <th>NF</th>\n",
       "      <td>125.0</td>\n",
       "      <td>333.0</td>\n",
       "      <td>420.0</td>\n",
       "      <td>878</td>\n",
       "    </tr>\n",
       "    <tr>\n",
       "      <th>Stable</th>\n",
       "      <td>841.0</td>\n",
       "      <td>1446.0</td>\n",
       "      <td>991.0</td>\n",
       "      <td>3278</td>\n",
       "    </tr>\n",
       "    <tr>\n",
       "      <th>Total</th>\n",
       "      <td>981.0</td>\n",
       "      <td>1875.0</td>\n",
       "      <td>1626.0</td>\n",
       "      <td>4482</td>\n",
       "    </tr>\n",
       "  </tbody>\n",
       "</table>\n",
       "</div>"
      ],
      "text/plain": [
       "stratum                   1       2       3  Total\n",
       "Ref_Change_Year_1522                              \n",
       "Def2016                 3.0    10.0    25.0     38\n",
       "Def2017                 4.0     9.0    29.0     42\n",
       "Def2018                 NaN     7.0    25.0     32\n",
       "Def2019                 1.0     8.0    16.0     25\n",
       "Def2020                 NaN     8.0    17.0     25\n",
       "Def2021                 2.0     5.0    12.0     19\n",
       "Def2022                 NaN     6.0     6.0     12\n",
       "Deg2016                 NaN     3.0     6.0      9\n",
       "Deg2017                 1.0    11.0    19.0     31\n",
       "Deg2018                 1.0     9.0    28.0     38\n",
       "Deg2019                 1.0     2.0    12.0     15\n",
       "Deg2020                 NaN     NaN     6.0      6\n",
       "Deg2021                 1.0     7.0     9.0     17\n",
       "Deg2022                 1.0    11.0     5.0     17\n",
       "NF                    125.0   333.0   420.0    878\n",
       "Stable                841.0  1446.0   991.0   3278\n",
       "Total                 981.0  1875.0  1626.0   4482"
      ]
     },
     "execution_count": 7,
     "metadata": {},
     "output_type": "execute_result"
    }
   ],
   "source": [
    "pd.pivot_table(ceo_esbae_1522,values='point_id',index=['Ref_Change_Year_1522'],columns=['stratum'],aggfunc=\"count\",margins=True,\n",
    "                             margins_name='Total')"
   ]
  },
  {
   "cell_type": "code",
   "execution_count": 8,
   "id": "4fbc0c1c-e02e-444c-b43c-5ae52c8b57f5",
   "metadata": {
    "tags": []
   },
   "outputs": [
    {
     "data": {
      "text/html": [
       "\n",
       "            <style>\n",
       "                .geemap-dark {\n",
       "                    --jp-widgets-color: white;\n",
       "                    --jp-widgets-label-color: white;\n",
       "                    --jp-ui-font-color1: white;\n",
       "                    --jp-layout-color2: #454545;\n",
       "                    background-color: #383838;\n",
       "                }\n",
       "                    \n",
       "                .geemap-dark .jupyter-button {\n",
       "                    --jp-layout-color3: #383838;\n",
       "                }\n",
       "                \n",
       "                .geemap-colab {\n",
       "                    background-color: var(--colab-primary-surface-color, white);\n",
       "                }\n",
       "                    \n",
       "                .geemap-colab .jupyter-button {\n",
       "                    --jp-layout-color3: var(--colab-primary-surface-color, white);\n",
       "                }\n",
       "            </style>\n",
       "            "
      ],
      "text/plain": [
       "<IPython.core.display.HTML object>"
      ]
     },
     "metadata": {},
     "output_type": "display_data"
    },
    {
     "name": "stdout",
     "output_type": "stream",
     "text": [
      "['images', 'mon_images', 'bfast_change_date', 'bfast_magnitude', 'bfast_means', 'cusum_change_date', 'cusum_confidence', 'cusum_magnitude', 'red_mean', 'red_sd', 'red_min', 'red_max', 'nir_mean', 'nir_sd', 'nir_min', 'nir_max', 'swir1_mean', 'swir1_sd', 'swir1_min', 'swir1_max', 'swir2_mean', 'swir2_sd', 'swir2_min', 'swir2_max', 'ndfi_mean', 'ndfi_sd', 'ndfi_min', 'ndfi_max', 'brightness_mean', 'brightness_sd', 'brightness_min', 'brightness_max', 'greenness_mean', 'greenness_sd', 'greenness_min', 'greenness_max', 'wetness_mean', 'wetness_sd', 'wetness_min', 'wetness_max', 'bs_slope_mean', 'bs_slope_sd', 'bs_slope_max', 'bs_slope_min', 'ewma_jrc_date', 'ewma_jrc_change', 'ewma_jrc_magnitude', 'mosum_jrc_date', 'mosum_jrc_change', 'mosum_jrc_magnitude', 'cusum_jrc_date', 'cusum_jrc_change', 'cusum_jrc_magnitude', 'ccdc_change_date', 'ccdc_magnitude', 'aspect', 'dw_class_mode', 'dw_tree_prob__max', 'dw_tree_prob__min', 'dw_tree_prob__stdDev', 'dw_tree_prob_mean', 'elevation', 'esa_lc20', 'esa_lc21', 'esri_lc17', 'esri_lc18', 'esri_lc19', 'esri_lc20', 'esri_lc21', 'gfc_gain', 'gfc_loss', 'gfc_lossyear', 'gfc_tc00', 'lang_tree_height', 'potapov_tree_height', 'slope', 'tmf_2016', 'tmf_2017', 'tmf_2018', 'tmf_2019', 'tmf_2020', 'tmf_defyear', 'tmf_degyear', 'tmf_main', 'tmf_sub', 'geometry', 'point_id', 'Change_Bin', 'Def_Bin', 'Deg_Bin', 'CAFI_LC_2015', 'chg_prob_cafi1520', 'def_prob_cafi1520', 'deg_prob_cafi1520', 'simple_combined', 'stratum', 'kmeans_chg', 'kmeans_def', 'kmeans_deg', 'plotid', 'lon', 'lat', 'sampleid', 'email', 'flagged', 'collection_time', 'analysis_duration', 'sample_geom', 'chg_prob', 'Ref_FNF_2015', 'Ref_Regeneration', 'Ref_Change_1522', 'Ref_Change_Type_1522', 'ArtFor', 'ArtMine', 'InfraR', 'Urb', 'IndFor', 'Other', 'Other_Desc', 'IndMine', 'IndAg', 'ArtAg', 'Ref_Year', 'Ref_NFtype', 'Ref_Ftype', 'Commentaires', 'collection', 'interpreted', 'Ref_LCtype', 'Ref_Change_Year_1522', 'Def2016', 'Def2017', 'Def2018', 'Def2019', 'Def2020', 'Def2021', 'Def2022', 'Deg2016', 'Deg2017', 'Deg2018', 'Deg2019', 'Deg2020', 'Deg2021', 'Deg2022', 'Defall', 'Degall', 'Stable', 'NF', 'sampling']\n"
     ]
    }
   ],
   "source": [
    "all_ceo_cols = ceo_esbae_1522.columns.tolist()\n",
    "\n",
    "# Display the list of column names\n",
    "print(all_ceo_cols)"
   ]
  },
  {
   "cell_type": "code",
   "execution_count": 9,
   "id": "3b37ac22-b61f-4997-a924-f8b33127ef67",
   "metadata": {
    "tags": []
   },
   "outputs": [
    {
     "data": {
      "text/html": [
       "\n",
       "            <style>\n",
       "                .geemap-dark {\n",
       "                    --jp-widgets-color: white;\n",
       "                    --jp-widgets-label-color: white;\n",
       "                    --jp-ui-font-color1: white;\n",
       "                    --jp-layout-color2: #454545;\n",
       "                    background-color: #383838;\n",
       "                }\n",
       "                    \n",
       "                .geemap-dark .jupyter-button {\n",
       "                    --jp-layout-color3: #383838;\n",
       "                }\n",
       "                \n",
       "                .geemap-colab {\n",
       "                    background-color: var(--colab-primary-surface-color, white);\n",
       "                }\n",
       "                    \n",
       "                .geemap-colab .jupyter-button {\n",
       "                    --jp-layout-color3: var(--colab-primary-surface-color, white);\n",
       "                }\n",
       "            </style>\n",
       "            "
      ],
      "text/plain": [
       "<IPython.core.display.HTML object>"
      ]
     },
     "metadata": {},
     "output_type": "display_data"
    }
   ],
   "source": [
    "#training columns\n",
    "eSBAE_cols = [\n",
    "    #'geometry', \n",
    "    #'point_id', \n",
    "    #'dates', 'ts', \n",
    "    #'images', 'mon_images',\n",
    "'bfast_change_date', 'bfast_magnitude', 'bfast_means', \n",
    "    'cusum_change_date', 'cusum_confidence', 'cusum_magnitude', \n",
    "    'red_mean', 'red_sd', 'red_min', 'red_max', 'nir_mean', 'nir_sd', 'nir_min', 'nir_max', 'swir1_mean', 'swir1_sd', 'swir1_min', 'swir1_max', 'swir2_mean', 'swir2_sd', 'swir2_min', 'swir2_max', \n",
    "    'ndfi_mean', 'ndfi_sd', 'ndfi_min', 'ndfi_max', \n",
    "    'brightness_mean', 'brightness_sd', 'brightness_min', 'brightness_max', \n",
    "    'greenness_mean', 'greenness_sd', 'greenness_min', 'greenness_max',\n",
    "    'wetness_mean', 'wetness_sd', 'wetness_min', 'wetness_max', \n",
    "    'bs_slope_mean', 'bs_slope_sd', 'bs_slope_max', 'bs_slope_min', \n",
    "    'ewma_jrc_date', 'ewma_jrc_change', 'ewma_jrc_magnitude', \n",
    "    'mosum_jrc_date', 'mosum_jrc_change', 'mosum_jrc_magnitude', \n",
    "    'cusum_jrc_date', 'cusum_jrc_change', 'cusum_jrc_magnitude', \n",
    "    'ccdc_change_date', 'ccdc_magnitude', 'aspect', \n",
    "    'dw_class_mode', 'dw_tree_prob__max', 'dw_tree_prob__min', 'dw_tree_prob__stdDev', 'dw_tree_prob_mean', \n",
    "    'elevation', 'esa_lc20', 'esa_lc21', 'esri_lc17', 'esri_lc18', 'esri_lc19', 'esri_lc20', 'esri_lc21', \n",
    "    'gfc_gain', 'gfc_loss', 'gfc_lossyear', 'gfc_tc00', 'lang_tree_height', 'potapov_tree_height', 'slope', \n",
    "    'tmf_2016', 'tmf_2017', 'tmf_2018', 'tmf_2019', 'tmf_2020', 'tmf_defyear', 'tmf_degyear', 'tmf_main', 'tmf_sub',]"
   ]
  },
  {
   "cell_type": "code",
   "execution_count": 10,
   "id": "f06456d4-749e-410a-9a6c-04eae736c1f6",
   "metadata": {
    "tags": []
   },
   "outputs": [
    {
     "data": {
      "text/html": [
       "\n",
       "            <style>\n",
       "                .geemap-dark {\n",
       "                    --jp-widgets-color: white;\n",
       "                    --jp-widgets-label-color: white;\n",
       "                    --jp-ui-font-color1: white;\n",
       "                    --jp-layout-color2: #454545;\n",
       "                    background-color: #383838;\n",
       "                }\n",
       "                    \n",
       "                .geemap-dark .jupyter-button {\n",
       "                    --jp-layout-color3: #383838;\n",
       "                }\n",
       "                \n",
       "                .geemap-colab {\n",
       "                    background-color: var(--colab-primary-surface-color, white);\n",
       "                }\n",
       "                    \n",
       "                .geemap-colab .jupyter-button {\n",
       "                    --jp-layout-color3: var(--colab-primary-surface-color, white);\n",
       "                }\n",
       "            </style>\n",
       "            "
      ],
      "text/plain": [
       "<IPython.core.display.HTML object>"
      ]
     },
     "metadata": {},
     "output_type": "display_data"
    }
   ],
   "source": [
    "df = ceo_esbae_1522"
   ]
  },
  {
   "cell_type": "markdown",
   "id": "1ceb270c-e85e-4310-ae1a-edd9e8316a67",
   "metadata": {},
   "source": [
    "### 1.2 where/what are NAs\n",
    "evaluate and replace no data values"
   ]
  },
  {
   "cell_type": "code",
   "execution_count": 11,
   "id": "3d338565-901f-41f7-b9c9-1b6bd830ce29",
   "metadata": {
    "tags": []
   },
   "outputs": [
    {
     "data": {
      "text/html": [
       "\n",
       "            <style>\n",
       "                .geemap-dark {\n",
       "                    --jp-widgets-color: white;\n",
       "                    --jp-widgets-label-color: white;\n",
       "                    --jp-ui-font-color1: white;\n",
       "                    --jp-layout-color2: #454545;\n",
       "                    background-color: #383838;\n",
       "                }\n",
       "                    \n",
       "                .geemap-dark .jupyter-button {\n",
       "                    --jp-layout-color3: #383838;\n",
       "                }\n",
       "                \n",
       "                .geemap-colab {\n",
       "                    background-color: var(--colab-primary-surface-color, white);\n",
       "                }\n",
       "                    \n",
       "                .geemap-colab .jupyter-button {\n",
       "                    --jp-layout-color3: var(--colab-primary-surface-color, white);\n",
       "                }\n",
       "            </style>\n",
       "            "
      ],
      "text/plain": [
       "<IPython.core.display.HTML object>"
      ]
     },
     "metadata": {},
     "output_type": "display_data"
    },
    {
     "name": "stdout",
     "output_type": "stream",
     "text": [
      "{'bfast_change_date': 0, 'bfast_magnitude': 0, 'bfast_means': 0, 'cusum_change_date': 0, 'cusum_confidence': 0, 'cusum_magnitude': 0, 'red_mean': 0, 'red_sd': 0, 'red_min': 0, 'red_max': 0, 'nir_mean': 0, 'nir_sd': 0, 'nir_min': 0, 'nir_max': 0, 'swir1_mean': 0, 'swir1_sd': 0, 'swir1_min': 0, 'swir1_max': 0, 'swir2_mean': 0, 'swir2_sd': 0, 'swir2_min': 0, 'swir2_max': 0, 'ndfi_mean': 0, 'ndfi_sd': 0, 'ndfi_min': 0, 'ndfi_max': 0, 'brightness_mean': 0, 'brightness_sd': 0, 'brightness_min': 0, 'brightness_max': 0, 'greenness_mean': 0, 'greenness_sd': 0, 'greenness_min': 0, 'greenness_max': 0, 'wetness_mean': 0, 'wetness_sd': 0, 'wetness_min': 0, 'wetness_max': 0, 'bs_slope_mean': 0, 'bs_slope_sd': 0, 'bs_slope_max': 0, 'bs_slope_min': 0, 'ewma_jrc_date': 0, 'ewma_jrc_change': 0, 'ewma_jrc_magnitude': 0, 'mosum_jrc_date': 0, 'mosum_jrc_change': 0, 'mosum_jrc_magnitude': 0, 'cusum_jrc_date': 0, 'cusum_jrc_change': 0, 'cusum_jrc_magnitude': 0, 'ccdc_change_date': 0, 'ccdc_magnitude': 0, 'aspect': 8625, 'dw_class_mode': 0, 'dw_tree_prob__max': 0, 'dw_tree_prob__min': 0, 'dw_tree_prob__stdDev': 0, 'dw_tree_prob_mean': 0, 'elevation': 8625, 'esa_lc20': 12, 'esa_lc21': 12, 'esri_lc17': 12, 'esri_lc18': 12, 'esri_lc19': 12, 'esri_lc20': 12, 'esri_lc21': 12, 'gfc_gain': 0, 'gfc_loss': 0, 'gfc_lossyear': 20604, 'gfc_tc00': 0, 'lang_tree_height': 1336, 'potapov_tree_height': 0, 'slope': 8625, 'tmf_2016': 0, 'tmf_2017': 0, 'tmf_2018': 0, 'tmf_2019': 0, 'tmf_2020': 0, 'tmf_defyear': 12, 'tmf_degyear': 12, 'tmf_main': 12, 'tmf_sub': 12}\n"
     ]
    }
   ],
   "source": [
    "# Initialize a dictionary to store the counts by column\n",
    "missing_counts = {}\n",
    "\n",
    "# Count missing values and sum the counts by column\n",
    "for column in eSBAE_cols:\n",
    "    missing_counts[column] = df[column].isna().sum()\n",
    "\n",
    "# Print the counts\n",
    "print(missing_counts)"
   ]
  },
  {
   "cell_type": "code",
   "execution_count": 12,
   "id": "e47128af-81ee-4390-b7d5-d68de1f74d90",
   "metadata": {
    "tags": []
   },
   "outputs": [
    {
     "data": {
      "text/html": [
       "\n",
       "            <style>\n",
       "                .geemap-dark {\n",
       "                    --jp-widgets-color: white;\n",
       "                    --jp-widgets-label-color: white;\n",
       "                    --jp-ui-font-color1: white;\n",
       "                    --jp-layout-color2: #454545;\n",
       "                    background-color: #383838;\n",
       "                }\n",
       "                    \n",
       "                .geemap-dark .jupyter-button {\n",
       "                    --jp-layout-color3: #383838;\n",
       "                }\n",
       "                \n",
       "                .geemap-colab {\n",
       "                    background-color: var(--colab-primary-surface-color, white);\n",
       "                }\n",
       "                    \n",
       "                .geemap-colab .jupyter-button {\n",
       "                    --jp-layout-color3: var(--colab-primary-surface-color, white);\n",
       "                }\n",
       "            </style>\n",
       "            "
      ],
      "text/plain": [
       "<IPython.core.display.HTML object>"
      ]
     },
     "metadata": {},
     "output_type": "display_data"
    }
   ],
   "source": [
    "# Specify the columns to replace NaN with 0 (categorical data)\n",
    "columns_to_fill = ['gfc_lossyear', 'gfc_gain','gfc_loss', 'lang_tree_height', 'esa_lc20', 'esa_lc21', 'esri_lc20',  'esri_lc21' , 'esri_lc19', 'esri_lc18', 'esri_lc17', \n",
    "                   'potapov_tree_height','elevation','slope', 'tmf_2016', 'tmf_2017', 'tmf_2018', 'tmf_2019', 'tmf_2020', 'tmf_defyear', 'tmf_degyear', 'tmf_main', 'tmf_sub', 'aspect']\n",
    "\n",
    "# Set NaN values in the selected columns to 0\n",
    "df[columns_to_fill] = df[columns_to_fill].fillna(0)"
   ]
  },
  {
   "cell_type": "code",
   "execution_count": 13,
   "id": "cbe0706c-883a-477d-a41d-bf7b0441a186",
   "metadata": {
    "tags": []
   },
   "outputs": [
    {
     "data": {
      "text/html": [
       "\n",
       "            <style>\n",
       "                .geemap-dark {\n",
       "                    --jp-widgets-color: white;\n",
       "                    --jp-widgets-label-color: white;\n",
       "                    --jp-ui-font-color1: white;\n",
       "                    --jp-layout-color2: #454545;\n",
       "                    background-color: #383838;\n",
       "                }\n",
       "                    \n",
       "                .geemap-dark .jupyter-button {\n",
       "                    --jp-layout-color3: #383838;\n",
       "                }\n",
       "                \n",
       "                .geemap-colab {\n",
       "                    background-color: var(--colab-primary-surface-color, white);\n",
       "                }\n",
       "                    \n",
       "                .geemap-colab .jupyter-button {\n",
       "                    --jp-layout-color3: var(--colab-primary-surface-color, white);\n",
       "                }\n",
       "            </style>\n",
       "            "
      ],
      "text/plain": [
       "<IPython.core.display.HTML object>"
      ]
     },
     "metadata": {},
     "output_type": "display_data"
    }
   ],
   "source": [
    "# Specify the columns you want to impute with the mean value - continuous data\n",
    "columns_to_impute = ['dw_class_mode', 'dw_tree_prob__max', 'dw_tree_prob__stdDev','dw_tree_prob_mean', 'dw_tree_prob__min']\n",
    "\n",
    "# Impute NaN values in the selected columns with the mean\n",
    "for column in columns_to_impute:\n",
    "    mean_value = df[column].mean()\n",
    "    df[column].fillna(mean_value, inplace=True)"
   ]
  },
  {
   "cell_type": "code",
   "execution_count": 14,
   "id": "daaf7ec7-f4c4-4920-bae2-0e23f1d401f1",
   "metadata": {
    "tags": []
   },
   "outputs": [
    {
     "data": {
      "text/html": [
       "\n",
       "            <style>\n",
       "                .geemap-dark {\n",
       "                    --jp-widgets-color: white;\n",
       "                    --jp-widgets-label-color: white;\n",
       "                    --jp-ui-font-color1: white;\n",
       "                    --jp-layout-color2: #454545;\n",
       "                    background-color: #383838;\n",
       "                }\n",
       "                    \n",
       "                .geemap-dark .jupyter-button {\n",
       "                    --jp-layout-color3: #383838;\n",
       "                }\n",
       "                \n",
       "                .geemap-colab {\n",
       "                    background-color: var(--colab-primary-surface-color, white);\n",
       "                }\n",
       "                    \n",
       "                .geemap-colab .jupyter-button {\n",
       "                    --jp-layout-color3: var(--colab-primary-surface-color, white);\n",
       "                }\n",
       "            </style>\n",
       "            "
      ],
      "text/plain": [
       "<IPython.core.display.HTML object>"
      ]
     },
     "metadata": {},
     "output_type": "display_data"
    },
    {
     "name": "stdout",
     "output_type": "stream",
     "text": [
      "{'bfast_change_date': 0, 'bfast_magnitude': 0, 'bfast_means': 0, 'cusum_change_date': 0, 'cusum_confidence': 0, 'cusum_magnitude': 0, 'red_mean': 0, 'red_sd': 0, 'red_min': 0, 'red_max': 0, 'nir_mean': 0, 'nir_sd': 0, 'nir_min': 0, 'nir_max': 0, 'swir1_mean': 0, 'swir1_sd': 0, 'swir1_min': 0, 'swir1_max': 0, 'swir2_mean': 0, 'swir2_sd': 0, 'swir2_min': 0, 'swir2_max': 0, 'ndfi_mean': 0, 'ndfi_sd': 0, 'ndfi_min': 0, 'ndfi_max': 0, 'brightness_mean': 0, 'brightness_sd': 0, 'brightness_min': 0, 'brightness_max': 0, 'greenness_mean': 0, 'greenness_sd': 0, 'greenness_min': 0, 'greenness_max': 0, 'wetness_mean': 0, 'wetness_sd': 0, 'wetness_min': 0, 'wetness_max': 0, 'bs_slope_mean': 0, 'bs_slope_sd': 0, 'bs_slope_max': 0, 'bs_slope_min': 0, 'ewma_jrc_date': 0, 'ewma_jrc_change': 0, 'ewma_jrc_magnitude': 0, 'mosum_jrc_date': 0, 'mosum_jrc_change': 0, 'mosum_jrc_magnitude': 0, 'cusum_jrc_date': 0, 'cusum_jrc_change': 0, 'cusum_jrc_magnitude': 0, 'ccdc_change_date': 0, 'ccdc_magnitude': 0, 'aspect': 0, 'dw_class_mode': 0, 'dw_tree_prob__max': 0, 'dw_tree_prob__min': 0, 'dw_tree_prob__stdDev': 0, 'dw_tree_prob_mean': 0, 'elevation': 0, 'esa_lc20': 0, 'esa_lc21': 0, 'esri_lc17': 0, 'esri_lc18': 0, 'esri_lc19': 0, 'esri_lc20': 0, 'esri_lc21': 0, 'gfc_gain': 0, 'gfc_loss': 0, 'gfc_lossyear': 0, 'gfc_tc00': 0, 'lang_tree_height': 0, 'potapov_tree_height': 0, 'slope': 0, 'tmf_2016': 0, 'tmf_2017': 0, 'tmf_2018': 0, 'tmf_2019': 0, 'tmf_2020': 0, 'tmf_defyear': 0, 'tmf_degyear': 0, 'tmf_main': 0, 'tmf_sub': 0}\n"
     ]
    }
   ],
   "source": [
    "#check for remaining missing counts - when there are only 0's you may proceed to next step\n",
    "missing_counts = {}\n",
    "\n",
    "# Count missing values and sum the counts by column\n",
    "for column in eSBAE_cols:\n",
    "    missing_counts[column] = df[column].isna().sum()\n",
    "\n",
    "# Print the counts\n",
    "print(missing_counts)"
   ]
  },
  {
   "cell_type": "code",
   "execution_count": 15,
   "id": "29afcd09-94a6-4a32-96ed-853cfa39e4f9",
   "metadata": {
    "tags": []
   },
   "outputs": [
    {
     "data": {
      "text/html": [
       "\n",
       "            <style>\n",
       "                .geemap-dark {\n",
       "                    --jp-widgets-color: white;\n",
       "                    --jp-widgets-label-color: white;\n",
       "                    --jp-ui-font-color1: white;\n",
       "                    --jp-layout-color2: #454545;\n",
       "                    background-color: #383838;\n",
       "                }\n",
       "                    \n",
       "                .geemap-dark .jupyter-button {\n",
       "                    --jp-layout-color3: #383838;\n",
       "                }\n",
       "                \n",
       "                .geemap-colab {\n",
       "                    background-color: var(--colab-primary-surface-color, white);\n",
       "                }\n",
       "                    \n",
       "                .geemap-colab .jupyter-button {\n",
       "                    --jp-layout-color3: var(--colab-primary-surface-color, white);\n",
       "                }\n",
       "            </style>\n",
       "            "
      ],
      "text/plain": [
       "<IPython.core.display.HTML object>"
      ]
     },
     "metadata": {},
     "output_type": "display_data"
    },
    {
     "data": {
      "text/plain": [
       "Stable\n",
       "NaN    18327\n",
       "1.0     3278\n",
       "0.0     1204\n",
       "Name: count, dtype: int64"
      ]
     },
     "execution_count": 15,
     "metadata": {},
     "output_type": "execute_result"
    }
   ],
   "source": [
    "df['Stable'].value_counts(dropna=False)"
   ]
  },
  {
   "cell_type": "code",
   "execution_count": 16,
   "id": "ca0e2f1b-e289-4516-ab25-cbeddbd2cad6",
   "metadata": {
    "tags": []
   },
   "outputs": [
    {
     "data": {
      "text/html": [
       "\n",
       "            <style>\n",
       "                .geemap-dark {\n",
       "                    --jp-widgets-color: white;\n",
       "                    --jp-widgets-label-color: white;\n",
       "                    --jp-ui-font-color1: white;\n",
       "                    --jp-layout-color2: #454545;\n",
       "                    background-color: #383838;\n",
       "                }\n",
       "                    \n",
       "                .geemap-dark .jupyter-button {\n",
       "                    --jp-layout-color3: #383838;\n",
       "                }\n",
       "                \n",
       "                .geemap-colab {\n",
       "                    background-color: var(--colab-primary-surface-color, white);\n",
       "                }\n",
       "                    \n",
       "                .geemap-colab .jupyter-button {\n",
       "                    --jp-layout-color3: var(--colab-primary-surface-color, white);\n",
       "                }\n",
       "            </style>\n",
       "            "
      ],
      "text/plain": [
       "<IPython.core.display.HTML object>"
      ]
     },
     "metadata": {},
     "output_type": "display_data"
    }
   ],
   "source": [
    "#convert to geo data frame for mapping\n",
    "gdf = gpd.GeoDataFrame(df, geometry=gpd.points_from_xy(df['lon'], df['lat']))"
   ]
  },
  {
   "cell_type": "code",
   "execution_count": 17,
   "id": "8c95aa43-1c0e-41fd-b5a2-09d7214fd97f",
   "metadata": {},
   "outputs": [
    {
     "data": {
      "text/html": [
       "\n",
       "            <style>\n",
       "                .geemap-dark {\n",
       "                    --jp-widgets-color: white;\n",
       "                    --jp-widgets-label-color: white;\n",
       "                    --jp-ui-font-color1: white;\n",
       "                    --jp-layout-color2: #454545;\n",
       "                    background-color: #383838;\n",
       "                }\n",
       "                    \n",
       "                .geemap-dark .jupyter-button {\n",
       "                    --jp-layout-color3: #383838;\n",
       "                }\n",
       "                \n",
       "                .geemap-colab {\n",
       "                    background-color: var(--colab-primary-surface-color, white);\n",
       "                }\n",
       "                    \n",
       "                .geemap-colab .jupyter-button {\n",
       "                    --jp-layout-color3: var(--colab-primary-surface-color, white);\n",
       "                }\n",
       "            </style>\n",
       "            "
      ],
      "text/plain": [
       "<IPython.core.display.HTML object>"
      ]
     },
     "metadata": {},
     "output_type": "display_data"
    }
   ],
   "source": [
    "interpreted = gdf[gdf['interpreted'] == 1]"
   ]
  },
  {
   "cell_type": "markdown",
   "id": "954c83e9-ca02-4a42-9aab-2492e18ba7d4",
   "metadata": {},
   "source": [
    "### 1.3 Run classifications on entire eSBAE dataset trained with CEO interpreted data"
   ]
  },
  {
   "cell_type": "markdown",
   "id": "99f5c1c6-de7d-4f5e-81f5-75161e63cd34",
   "metadata": {
    "tags": []
   },
   "source": [
    "#### 4 individual models\n",
    "we create binary models for deforestation, degradation, stable and non-forest based on visually interpreted data from CEO"
   ]
  },
  {
   "cell_type": "code",
   "execution_count": 18,
   "id": "1e19ab45-d885-4aa3-816f-7d1f1463901a",
   "metadata": {
    "tags": []
   },
   "outputs": [
    {
     "data": {
      "text/html": [
       "\n",
       "            <style>\n",
       "                .geemap-dark {\n",
       "                    --jp-widgets-color: white;\n",
       "                    --jp-widgets-label-color: white;\n",
       "                    --jp-ui-font-color1: white;\n",
       "                    --jp-layout-color2: #454545;\n",
       "                    background-color: #383838;\n",
       "                }\n",
       "                    \n",
       "                .geemap-dark .jupyter-button {\n",
       "                    --jp-layout-color3: #383838;\n",
       "                }\n",
       "                \n",
       "                .geemap-colab {\n",
       "                    background-color: var(--colab-primary-surface-color, white);\n",
       "                }\n",
       "                    \n",
       "                .geemap-colab .jupyter-button {\n",
       "                    --jp-layout-color3: var(--colab-primary-surface-color, white);\n",
       "                }\n",
       "            </style>\n",
       "            "
      ],
      "text/plain": [
       "<IPython.core.display.HTML object>"
      ]
     },
     "metadata": {},
     "output_type": "display_data"
    },
    {
     "name": "stdout",
     "output_type": "stream",
     "text": [
      "OOB Score is 0.7309236947791165\n"
     ]
    }
   ],
   "source": [
    "# predictors used change/nochange classification\n",
    "gdf['def_prob'] = clf.binary_probability_classification(gdf, 'Defall', eSBAE_cols, outlier=False)"
   ]
  },
  {
   "cell_type": "code",
   "execution_count": 19,
   "id": "c25b0e0d-59d6-4960-89d2-7aa7104b6e38",
   "metadata": {
    "tags": []
   },
   "outputs": [
    {
     "data": {
      "text/html": [
       "\n",
       "            <style>\n",
       "                .geemap-dark {\n",
       "                    --jp-widgets-color: white;\n",
       "                    --jp-widgets-label-color: white;\n",
       "                    --jp-ui-font-color1: white;\n",
       "                    --jp-layout-color2: #454545;\n",
       "                    background-color: #383838;\n",
       "                }\n",
       "                    \n",
       "                .geemap-dark .jupyter-button {\n",
       "                    --jp-layout-color3: #383838;\n",
       "                }\n",
       "                \n",
       "                .geemap-colab {\n",
       "                    background-color: var(--colab-primary-surface-color, white);\n",
       "                }\n",
       "                    \n",
       "                .geemap-colab .jupyter-button {\n",
       "                    --jp-layout-color3: var(--colab-primary-surface-color, white);\n",
       "                }\n",
       "            </style>\n",
       "            "
      ],
      "text/plain": [
       "<IPython.core.display.HTML object>"
      ]
     },
     "metadata": {},
     "output_type": "display_data"
    },
    {
     "data": {
      "text/plain": [
       "array([<Axes: title={'center': 'def_prob'}>], dtype=object)"
      ]
     },
     "execution_count": 19,
     "metadata": {},
     "output_type": "execute_result"
    },
    {
     "data": {
      "image/png": "[encoded data removed]",
      "text/plain": [
       "<Figure size 1500x700 with 3 Axes>"
      ]
     },
     "metadata": {},
     "output_type": "display_data"
    }
   ],
   "source": [
    "fig, ax = plt.subplots(1,2, figsize=(15,7))\n",
    "\n",
    "gdf.plot('def_prob', markersize=0.05, ax=ax[0], legend=True, cmap='magma')\n",
    "gdf.hist('def_prob', ax=ax[1])"
   ]
  },
  {
   "cell_type": "code",
   "execution_count": 20,
   "id": "a9a0e608-2feb-4d5f-b0eb-563823c36c5d",
   "metadata": {
    "tags": []
   },
   "outputs": [
    {
     "data": {
      "text/html": [
       "\n",
       "            <style>\n",
       "                .geemap-dark {\n",
       "                    --jp-widgets-color: white;\n",
       "                    --jp-widgets-label-color: white;\n",
       "                    --jp-ui-font-color1: white;\n",
       "                    --jp-layout-color2: #454545;\n",
       "                    background-color: #383838;\n",
       "                }\n",
       "                    \n",
       "                .geemap-dark .jupyter-button {\n",
       "                    --jp-layout-color3: #383838;\n",
       "                }\n",
       "                \n",
       "                .geemap-colab {\n",
       "                    background-color: var(--colab-primary-surface-color, white);\n",
       "                }\n",
       "                    \n",
       "                .geemap-colab .jupyter-button {\n",
       "                    --jp-layout-color3: var(--colab-primary-surface-color, white);\n",
       "                }\n",
       "            </style>\n",
       "            "
      ],
      "text/plain": [
       "<IPython.core.display.HTML object>"
      ]
     },
     "metadata": {},
     "output_type": "display_data"
    },
    {
     "name": "stdout",
     "output_type": "stream",
     "text": [
      "OOB Score is 0.6990182954038375\n"
     ]
    }
   ],
   "source": [
    "# predictors used change/nochange classification\n",
    "gdf['deg_prob'] = clf.binary_probability_classification(gdf, 'Degall', eSBAE_cols, outlier=False)"
   ]
  },
  {
   "cell_type": "code",
   "execution_count": 21,
   "id": "fdf367af-ab68-459b-8582-3f0906b03f99",
   "metadata": {
    "tags": []
   },
   "outputs": [
    {
     "data": {
      "text/html": [
       "\n",
       "            <style>\n",
       "                .geemap-dark {\n",
       "                    --jp-widgets-color: white;\n",
       "                    --jp-widgets-label-color: white;\n",
       "                    --jp-ui-font-color1: white;\n",
       "                    --jp-layout-color2: #454545;\n",
       "                    background-color: #383838;\n",
       "                }\n",
       "                    \n",
       "                .geemap-dark .jupyter-button {\n",
       "                    --jp-layout-color3: #383838;\n",
       "                }\n",
       "                \n",
       "                .geemap-colab {\n",
       "                    background-color: var(--colab-primary-surface-color, white);\n",
       "                }\n",
       "                    \n",
       "                .geemap-colab .jupyter-button {\n",
       "                    --jp-layout-color3: var(--colab-primary-surface-color, white);\n",
       "                }\n",
       "            </style>\n",
       "            "
      ],
      "text/plain": [
       "<IPython.core.display.HTML object>"
      ]
     },
     "metadata": {},
     "output_type": "display_data"
    },
    {
     "data": {
      "text/plain": [
       "array([<Axes: title={'center': 'deg_prob'}>], dtype=object)"
      ]
     },
     "execution_count": 21,
     "metadata": {},
     "output_type": "execute_result"
    },
    {
     "data": {
      "image/png": "[encoded data removed]",
      "text/plain": [
       "<Figure size 1500x700 with 3 Axes>"
      ]
     },
     "metadata": {},
     "output_type": "display_data"
    }
   ],
   "source": [
    "fig, ax = plt.subplots(1,2, figsize=(15,7))\n",
    "\n",
    "gdf.plot('deg_prob', markersize=0.05, ax=ax[0], legend=True, cmap='magma')\n",
    "gdf.hist('deg_prob', ax=ax[1])"
   ]
  },
  {
   "cell_type": "code",
   "execution_count": 22,
   "id": "6b9f300a-27a1-46d9-8dc5-5fe5e7afe3dd",
   "metadata": {
    "tags": []
   },
   "outputs": [
    {
     "data": {
      "text/html": [
       "\n",
       "            <style>\n",
       "                .geemap-dark {\n",
       "                    --jp-widgets-color: white;\n",
       "                    --jp-widgets-label-color: white;\n",
       "                    --jp-ui-font-color1: white;\n",
       "                    --jp-layout-color2: #454545;\n",
       "                    background-color: #383838;\n",
       "                }\n",
       "                    \n",
       "                .geemap-dark .jupyter-button {\n",
       "                    --jp-layout-color3: #383838;\n",
       "                }\n",
       "                \n",
       "                .geemap-colab {\n",
       "                    background-color: var(--colab-primary-surface-color, white);\n",
       "                }\n",
       "                    \n",
       "                .geemap-colab .jupyter-button {\n",
       "                    --jp-layout-color3: var(--colab-primary-surface-color, white);\n",
       "                }\n",
       "            </style>\n",
       "            "
      ],
      "text/plain": [
       "<IPython.core.display.HTML object>"
      ]
     },
     "metadata": {},
     "output_type": "display_data"
    },
    {
     "name": "stdout",
     "output_type": "stream",
     "text": [
      "OOB Score is 0.787594823739402\n"
     ]
    }
   ],
   "source": [
    "# predictors used change/nochange classification\n",
    "gdf['stable_prob'] = clf.binary_probability_classification(gdf, 'Stable', eSBAE_cols, outlier=False)"
   ]
  },
  {
   "cell_type": "code",
   "execution_count": 23,
   "id": "d382205d-aac2-41b2-ba5f-d243336ae09d",
   "metadata": {
    "tags": []
   },
   "outputs": [
    {
     "data": {
      "text/html": [
       "\n",
       "            <style>\n",
       "                .geemap-dark {\n",
       "                    --jp-widgets-color: white;\n",
       "                    --jp-widgets-label-color: white;\n",
       "                    --jp-ui-font-color1: white;\n",
       "                    --jp-layout-color2: #454545;\n",
       "                    background-color: #383838;\n",
       "                }\n",
       "                    \n",
       "                .geemap-dark .jupyter-button {\n",
       "                    --jp-layout-color3: #383838;\n",
       "                }\n",
       "                \n",
       "                .geemap-colab {\n",
       "                    background-color: var(--colab-primary-surface-color, white);\n",
       "                }\n",
       "                    \n",
       "                .geemap-colab .jupyter-button {\n",
       "                    --jp-layout-color3: var(--colab-primary-surface-color, white);\n",
       "                }\n",
       "            </style>\n",
       "            "
      ],
      "text/plain": [
       "<IPython.core.display.HTML object>"
      ]
     },
     "metadata": {},
     "output_type": "display_data"
    },
    {
     "data": {
      "text/plain": [
       "array([<Axes: title={'center': 'stable_prob'}>], dtype=object)"
      ]
     },
     "execution_count": 23,
     "metadata": {},
     "output_type": "execute_result"
    },
    {
     "data": {
      "image/png": "[encoded data removed]",
      "text/plain": [
       "<Figure size 1500x700 with 3 Axes>"
      ]
     },
     "metadata": {},
     "output_type": "display_data"
    }
   ],
   "source": [
    "fig, ax = plt.subplots(1,2, figsize=(15,7))\n",
    "\n",
    "gdf.plot('stable_prob', markersize=0.05, ax=ax[0], legend=True, cmap='magma')\n",
    "gdf.hist('stable_prob', ax=ax[1])"
   ]
  },
  {
   "cell_type": "code",
   "execution_count": null,
   "id": "04c485e3-6b46-4d47-84c1-955016f3c2f7",
   "metadata": {
    "tags": []
   },
   "outputs": [
    {
     "data": {
      "text/html": [
       "\n",
       "            <style>\n",
       "                .geemap-dark {\n",
       "                    --jp-widgets-color: white;\n",
       "                    --jp-widgets-label-color: white;\n",
       "                    --jp-ui-font-color1: white;\n",
       "                    --jp-layout-color2: #454545;\n",
       "                    background-color: #383838;\n",
       "                }\n",
       "                    \n",
       "                .geemap-dark .jupyter-button {\n",
       "                    --jp-layout-color3: #383838;\n",
       "                }\n",
       "                \n",
       "                .geemap-colab {\n",
       "                    background-color: var(--colab-primary-surface-color, white);\n",
       "                }\n",
       "                    \n",
       "                .geemap-colab .jupyter-button {\n",
       "                    --jp-layout-color3: var(--colab-primary-surface-color, white);\n",
       "                }\n",
       "            </style>\n",
       "            "
      ],
      "text/plain": [
       "<IPython.core.display.HTML object>"
      ]
     },
     "metadata": {},
     "output_type": "display_data"
    }
   ],
   "source": [
    "# predictors used change/nochange classification\n",
    "gdf['nf_prob'] = clf.binary_probability_classification(gdf, 'NF', eSBAE_cols, outlier=False)"
   ]
  },
  {
   "cell_type": "code",
   "execution_count": null,
   "id": "46dbf008-6689-49e2-a675-1bd540a89b50",
   "metadata": {
    "tags": []
   },
   "outputs": [],
   "source": [
    "fig, ax = plt.subplots(1,2, figsize=(15,7))\n",
    "\n",
    "gdf.plot('nf_prob', markersize=0.05, ax=ax[0], legend=True, cmap='magma')\n",
    "gdf.hist('nf_prob', ax=ax[1])"
   ]
  },
  {
   "cell_type": "code",
   "execution_count": null,
   "id": "ddfba80b-0a3c-4e7a-a0d4-d98f75bc676c",
   "metadata": {
    "tags": []
   },
   "outputs": [],
   "source": [
    "interpreted_rows = gdf[gdf['interpreted'] == 1]"
   ]
  },
  {
   "cell_type": "markdown",
   "id": "948b33bd-7149-4e59-82aa-796e547b2791",
   "metadata": {},
   "source": [
    "##### looking at validated data in comparison to model"
   ]
  },
  {
   "cell_type": "code",
   "execution_count": null,
   "id": "fe95fc6d-a805-43e9-927e-787d6a6cec9d",
   "metadata": {
    "tags": []
   },
   "outputs": [],
   "source": [
    "# Filter rows by a interpreted change category \n",
    "selected_category = 'Def'\n",
    "selected_rows = interpreted_rows[interpreted_rows['Ref_Change_Type_1522'] == selected_category]\n",
    "\n",
    "# List of columns to analyze\n",
    "columns_to_analyze = ['def_prob', 'deg_prob', 'stable_prob', 'nf_prob']\n",
    "\n",
    "# Calculate statistics\n",
    "statistics = selected_rows[columns_to_analyze].describe()\n",
    "\n",
    "# Create a box plot with mean and median markers\n",
    "fig, ax = plt.subplots(figsize=(8, 6))\n",
    "selected_rows.boxplot(column=['def_prob', 'deg_prob', 'stable_prob', 'nf_prob'], vert=True, showmeans=True, meanline=True, ax=ax)\n",
    "\n",
    "# Set custom labels for mean and median\n",
    "#ax.set_xticklabels(['Value1', 'Value2'])\n",
    "ax.set_xlabel('Columns')\n",
    "ax.set_title(f'Distribution of Values for validated {selected_category}')\n",
    "\n",
    "plt.show()\n",
    "\n",
    "# Display summary statistics\n",
    "print(statistics)"
   ]
  },
  {
   "cell_type": "code",
   "execution_count": null,
   "id": "0744aeb0-04d7-4786-b125-9994ec678cde",
   "metadata": {
    "tags": []
   },
   "outputs": [],
   "source": [
    "# Filter rows by a interpreted change category \n",
    "selected_category = 'Deg'\n",
    "selected_rows = interpreted_rows[interpreted_rows['Ref_Change_Type_1522'] == selected_category]\n",
    "\n",
    "# List of columns to analyze\n",
    "columns_to_analyze = ['def_prob', 'deg_prob', 'stable_prob', 'nf_prob']\n",
    "\n",
    "# Calculate statistics\n",
    "statistics = selected_rows[columns_to_analyze].describe()\n",
    "\n",
    "# Create a box plot with mean and median markers\n",
    "fig, ax = plt.subplots(figsize=(8, 6))\n",
    "selected_rows.boxplot(column=['def_prob', 'deg_prob', 'stable_prob', 'nf_prob'], vert=True, showmeans=True, meanline=True, ax=ax)\n",
    "\n",
    "# Set custom labels for mean and median\n",
    "#ax.set_xticklabels(['Value1', 'Value2'])\n",
    "ax.set_xlabel('Columns')\n",
    "ax.set_title(f'Distribution of Values for validated {selected_category}')\n",
    "\n",
    "plt.show()\n",
    "\n",
    "# Display summary statistics\n",
    "print(statistics)"
   ]
  },
  {
   "cell_type": "code",
   "execution_count": null,
   "id": "f50116bb-2ec5-4f12-a433-238daadf4c9a",
   "metadata": {
    "tags": []
   },
   "outputs": [],
   "source": [
    "# Filter rows by a interpreted change category \n",
    "selected_category = 'Stable'\n",
    "selected_rows = interpreted_rows[interpreted_rows['Ref_Change_Type_1522'] == selected_category]\n",
    "\n",
    "# List of columns to analyze\n",
    "columns_to_analyze = ['def_prob', 'deg_prob', 'stable_prob', 'nf_prob']\n",
    "\n",
    "# Calculate statistics\n",
    "statistics = selected_rows[columns_to_analyze].describe()\n",
    "\n",
    "# Create a box plot with mean and median markers\n",
    "fig, ax = plt.subplots(figsize=(8, 6))\n",
    "selected_rows.boxplot(column=['def_prob', 'deg_prob', 'stable_prob', 'nf_prob'], vert=True, showmeans=True, meanline=True, ax=ax)\n",
    "\n",
    "# Set custom labels for mean and median\n",
    "#ax.set_xticklabels(['Value1', 'Value2'])\n",
    "ax.set_xlabel('Columns')\n",
    "ax.set_title(f'Distribution of Values for validated {selected_category}')\n",
    "\n",
    "plt.show()\n",
    "\n",
    "# Display summary statistics\n",
    "print(statistics)"
   ]
  },
  {
   "cell_type": "code",
   "execution_count": null,
   "id": "d876fe6b-02e7-4f0f-a284-6bae772430dd",
   "metadata": {
    "tags": []
   },
   "outputs": [],
   "source": [
    "# Filter rows by a interpreted change category \n",
    "selected_category = 'NF'\n",
    "selected_rows = interpreted_rows[interpreted_rows['Ref_Change_Type_1522'] == selected_category]\n",
    "\n",
    "# List of columns to analyze\n",
    "columns_to_analyze = ['def_prob', 'deg_prob', 'stable_prob', 'nf_prob']\n",
    "\n",
    "# Calculate statistics\n",
    "statistics = selected_rows[columns_to_analyze].describe()\n",
    "\n",
    "# Create a box plot with mean and median markers\n",
    "fig, ax = plt.subplots(figsize=(8, 6))\n",
    "selected_rows.boxplot(column=['def_prob', 'deg_prob', 'stable_prob', 'nf_prob'], vert=True, showmeans=True, meanline=True, ax=ax)\n",
    "\n",
    "# Set custom labels for mean and median\n",
    "#ax.set_xticklabels(['Value1', 'Value2'])\n",
    "ax.set_xlabel('Columns')\n",
    "ax.set_title(f'Distribution of Values for validated {selected_category}')\n",
    "\n",
    "plt.show()\n",
    "\n",
    "# Display summary statistics\n",
    "print(statistics)"
   ]
  },
  {
   "cell_type": "markdown",
   "id": "51c3e9bb-5bc1-4476-8328-48d432ffd5d4",
   "metadata": {},
   "source": [
    "#### decision tree to assign values to categories from models"
   ]
  },
  {
   "cell_type": "code",
   "execution_count": null,
   "id": "4d6ccd34-1073-4e23-b438-dd10d9959e75",
   "metadata": {
    "tags": []
   },
   "outputs": [],
   "source": [
    "threshold = 0.8"
   ]
  },
  {
   "cell_type": "code",
   "execution_count": null,
   "id": "f6009b63-f8e0-41ff-b7ce-c07f41599190",
   "metadata": {
    "tags": []
   },
   "outputs": [],
   "source": [
    "gdf['sim_def'] = (gdf['def_prob'] > threshold).astype(int)\n",
    "gdf['sim_deg'] = (gdf['deg_prob'] > threshold).astype(int)\n",
    "gdf['sim_stable'] = (gdf['stable_prob'] > threshold).astype(int)\n",
    "gdf['sim_nf'] = (gdf['nf_prob'] > threshold).astype(int)"
   ]
  },
  {
   "cell_type": "code",
   "execution_count": null,
   "id": "1f1a13d4-1fa4-44fb-8ef4-5396737c3a02",
   "metadata": {
    "tags": []
   },
   "outputs": [],
   "source": [
    "gdf['max_prob'] = gdf[['def_prob', 'deg_prob', 'stable_prob', 'nf_prob']].idxmax(axis=1)\n",
    "\n",
    "# Replace the string in a specific column ('column_name')\n",
    "gdf['max_prob'] = gdf['max_prob'].str.replace('_prob', '')\n",
    "\n",
    "gdf['max_prob'].value_counts(dropna=False)"
   ]
  },
  {
   "cell_type": "code",
   "execution_count": null,
   "id": "b704d6e9-5916-4a3c-9f6a-d286797c36ab",
   "metadata": {},
   "outputs": [],
   "source": [
    "# Calculate the proportions and areas based on max probability classification\n",
    "prob_counts = gdf['max_prob'].value_counts()\n",
    "prob_percentage = (prob_counts / len(gdf)) * 100\n",
    "area = (prob_percentage * study_area)/100\n",
    "\n",
    "pd.set_option('display.float_format', '{:.0f}'.format)\n",
    "\n",
    "# Create a DataFrame to display the results\n",
    "result_prob = pd.DataFrame({\n",
    "    'Value Counts': prob_counts,\n",
    "    'Percentage of Total Rows': prob_percentage,\n",
    "    'area': area\n",
    "})\n",
    "\n",
    "\n",
    "# Print the result DataFrame\n",
    "print(result_prob)"
   ]
  },
  {
   "cell_type": "code",
   "execution_count": null,
   "id": "39fbb779-d493-48d5-8a97-f2b460629ef4",
   "metadata": {
    "tags": []
   },
   "outputs": [],
   "source": [
    "# Define a function to check conditions and return the corresponding label\n",
    "# check the order of the decisions which has an effect on the result\n",
    "# in the Gabon case the decisions are in order or area stable > deg > def\n",
    "def classify(row):\n",
    "    if row['sim_stable'] >= 1:\n",
    "        return 'Stable'\n",
    "    elif row['sim_def'] >= 1:\n",
    "        return 'Def'\n",
    "    elif row['sim_deg'] >= 1:\n",
    "        return 'Deg'\n",
    "    else:\n",
    "        return 'NF'\n",
    "\n",
    "# Apply the function to create a new 'classification' column\n",
    "gdf['prob_class'] = gdf.apply(classify, axis=1)\n",
    "\n",
    "# Display the DataFrame with the new column\n",
    "gdf['prob_class'].value_counts(dropna=False)"
   ]
  },
  {
   "cell_type": "code",
   "execution_count": null,
   "id": "c752b87a-f348-45a5-b6b4-197f0c7f5acc",
   "metadata": {},
   "outputs": [],
   "source": [
    "# Calculate the proportions and areas based on decision tree classification\n",
    "prob_counts = gdf['prob_class'].value_counts()\n",
    "prob_percentage = (prob_counts / len(gdf)) * 100\n",
    "area = (prob_percentage * study_area)/100\n",
    "\n",
    "pd.set_option('display.float_format', '{:.0f}'.format)\n",
    "\n",
    "# Create a DataFrame to display the results\n",
    "result_prob = pd.DataFrame({\n",
    "    'Value Counts': prob_counts,\n",
    "    'Percentage of Total Rows': prob_percentage,\n",
    "    'area': area\n",
    "})\n",
    "\n",
    "\n",
    "# Print the result DataFrame\n",
    "print(result_prob)"
   ]
  },
  {
   "cell_type": "code",
   "execution_count": null,
   "id": "082918c1-a407-403e-89c4-cfce984aea28",
   "metadata": {
    "tags": []
   },
   "outputs": [],
   "source": [
    "# Group by the selected columns and count occurrences\n",
    "result_df = gdf.groupby(['prob_class', 'Defall', 'Degall', 'Stable', 'NF']).size().reset_index(name='count')\n",
    "\n",
    "# Display the result\n",
    "print(result_df)"
   ]
  },
  {
   "cell_type": "code",
   "execution_count": null,
   "id": "2ae25a51-9d1d-4d5c-9b90-115ed0c5d87d",
   "metadata": {
    "tags": []
   },
   "outputs": [],
   "source": [
    "# Create a new column 'Count' based on the conditions to determine if points are in multiple classes\n",
    "gdf['Count'] = gdf[['sim_def', 'sim_deg', 'sim_stable', 'sim_nf']].sum(axis=1)\n",
    "\n",
    "# Display the cross-tabulated counts\n",
    "cross_tab = pd.crosstab(index=gdf['Count'], columns=\"Count\")\n",
    "print(cross_tab)"
   ]
  },
  {
   "cell_type": "code",
   "execution_count": null,
   "id": "7c1a88e3-544e-4931-afd9-feeec0c9a85d",
   "metadata": {
    "tags": []
   },
   "outputs": [],
   "source": [
    "# plot point classes\n",
    "category_colors = {\n",
    "    'Def': 'red',\n",
    "    'Deg': 'orange',\n",
    "    'Stable': 'green',\n",
    "    'NF': 'grey'\n",
    "}\n",
    "\n",
    "plt.figure(figsize=(15, 15))\n",
    "plt.scatter(gdf['lon'], gdf['lat'], c=gdf['prob_class'].map(category_colors), s=2)\n",
    "\n",
    "plt.xlabel('Longitude')\n",
    "plt.ylabel('Latitude')\n",
    "plt.title('prob class')\n",
    "plt.grid()\n",
    "plt.show()"
   ]
  },
  {
   "cell_type": "markdown",
   "id": "0cf1e7e0-d43b-4342-9dce-a2b81483dff9",
   "metadata": {},
   "source": [
    "#### Supervised classifications"
   ]
  },
  {
   "cell_type": "code",
   "execution_count": null,
   "id": "af595611-1458-4618-b347-886331b7c1f6",
   "metadata": {},
   "outputs": [],
   "source": [
    "# Assuming X contains your attribute columns and y contains your target labels\n",
    "X = interpreted[eSBAE_cols]\n",
    "y = interpreted['Ref_Change_Type_1522']"
   ]
  },
  {
   "cell_type": "code",
   "execution_count": null,
   "id": "89e8f17e-67b1-490c-a6b0-7972d6cb4fd6",
   "metadata": {},
   "outputs": [],
   "source": [
    "#check for remaining missing counts\n",
    "missing_counts = {}\n",
    "\n",
    "# Count missing values and sum the counts by column\n",
    "for column in X.columns:\n",
    "    missing_counts[column] = X[column].isna().sum()\n",
    "\n",
    "# Print the counts\n",
    "print(missing_counts)"
   ]
  },
  {
   "cell_type": "code",
   "execution_count": null,
   "id": "abfc40c1-56a4-432e-8850-b8cc776afab8",
   "metadata": {},
   "outputs": [],
   "source": [
    "unique_labels = np.unique(y)\n",
    "unique_labels = y.value_counts().index\n",
    "# Specify the unique labels in your target variable as classes\n",
    "unique_labels = np.unique(y)  # Or use the appropriate method based on your data\n",
    "unique_labels"
   ]
  },
  {
   "cell_type": "code",
   "execution_count": null,
   "id": "ed2a1b76-2c24-41cb-9b28-04242583b6a7",
   "metadata": {},
   "outputs": [],
   "source": [
    "# Split the data into a training and testing set\n",
    "X_train, X_test, y_train, y_test = train_test_split(X, y, test_size=0.2, random_state=42)"
   ]
  },
  {
   "cell_type": "code",
   "execution_count": null,
   "id": "d52c255d-64ca-435a-8d0d-e71bcfb02a29",
   "metadata": {},
   "outputs": [],
   "source": [
    "class_weights = class_weight.compute_class_weight(\n",
    "        'balanced',\n",
    "        classes=np.unique(y), y=y_train)\n",
    "class_weights\n",
    "# Create a dictionary to map class labels to their respective class weights\n",
    "class_weight_dict = dict(zip(unique_labels, class_weights))\n",
    "class_weight_dict"
   ]
  },
  {
   "cell_type": "code",
   "execution_count": null,
   "id": "6fa98711-8585-446c-96de-65a64d994cf0",
   "metadata": {},
   "outputs": [],
   "source": [
    "#Balanced random forest classifier\n",
    "#clf = BalancedRandomForestClassifier(n_estimators=1500, random_state=42, oob_score=True,class_weight=class_weight_dict)\n",
    "clf = BalancedRandomForestClassifier(n_estimators=1500, random_state=42)\n",
    "\n",
    "# Fit the classifier to your training data\n",
    "clf.fit(X_train, y_train)\n",
    "\n",
    "# Make predictions on new data\n",
    "gdf['balRF_pred'] = clf.predict(gdf[eSBAE_cols])\n",
    "\n",
    "y_pred = clf.predict(X_test)\n",
    "\n",
    "# Get a classification report\n",
    "report = classification_report(y_test, y_pred)\n",
    "\n",
    "# Print the classification report\n",
    "print(report)"
   ]
  },
  {
   "cell_type": "code",
   "execution_count": null,
   "id": "df69bbd2-d2c8-4d27-8d94-fcaa7257c9de",
   "metadata": {},
   "outputs": [],
   "source": [
    "# Evaluate accuracy\n",
    "accuracy = accuracy_score(y_test, y_pred)\n",
    "print(f\"Accuracy: {accuracy}\")"
   ]
  },
  {
   "cell_type": "code",
   "execution_count": null,
   "id": "001bdbca-4b8f-4a4c-9a07-cd78903e0d6c",
   "metadata": {},
   "outputs": [],
   "source": [
    "# Get feature importances\n",
    "importances = clf.feature_importances_\n",
    "\n",
    "# Get column names\n",
    "column_names = X_train.columns\n",
    "\n",
    "# Sort feature importances in descending order\n",
    "indices = (-importances).argsort()\n",
    "\n",
    "# Plot feature importances with column names\n",
    "plt.figure(figsize=(10, 6))\n",
    "plt.title(\"Feature Importances\")\n",
    "plt.bar(range(X_train.shape[1]), importances[indices],\n",
    "        color=\"skyblue\", align=\"center\")\n",
    "plt.xticks(range(X_train.shape[1]), column_names[indices], rotation=90)\n",
    "plt.xlabel(\"Feature\")\n",
    "plt.ylabel(\"Importance\")\n",
    "plt.show()"
   ]
  },
  {
   "cell_type": "code",
   "execution_count": null,
   "id": "4eee27fa-7d4e-4223-8e76-3bbb4be10772",
   "metadata": {},
   "outputs": [],
   "source": [
    "# Calculate the proportions of classified points\n",
    "value_counts = gdf['balRF_pred'].value_counts()\n",
    "percentage = (value_counts / len(gdf)) * 100\n",
    "area = (percentage * study_area)/100\n",
    "\n",
    "pd.set_option('display.float_format', '{:.0f}'.format)\n",
    "\n",
    "# Create a DataFrame to display the results\n",
    "result_df = pd.DataFrame({\n",
    "    'Value Counts': value_counts,\n",
    "    'Percentage of Total Rows': percentage,\n",
    "    'area': area\n",
    "})\n",
    "\n",
    "\n",
    "# Print the result DataFrame\n",
    "print(result_df)"
   ]
  },
  {
   "cell_type": "code",
   "execution_count": null,
   "id": "a11a9fda-d1a0-44fb-bf54-9346507925eb",
   "metadata": {},
   "outputs": [],
   "source": [
    "# Create an instance of the random forest classifier\n",
    "#clf = RandomForestClassifier(n_estimators=1000, random_state=42, oob_score=True) # too low\n",
    "clf = RandomForestClassifier(n_estimators=1000, random_state=42, class_weight=class_weight_dict)\n",
    "# Fit the classifier to your training data\n",
    "clf.fit(X_train, y_train)\n",
    "y_pred = clf.predict(X_test)\n",
    "# Make predictions on new data\n",
    "gdf['RF_pred'] = clf.predict(gdf[eSBAE_cols])\n",
    "\n",
    "# Get a classification report\n",
    "report = classification_report(y_test, y_pred)\n",
    "\n",
    "# Print the classification report\n",
    "print(report)"
   ]
  },
  {
   "cell_type": "code",
   "execution_count": null,
   "id": "001e38f6-0657-44ff-abb9-c5cca5bc2442",
   "metadata": {},
   "outputs": [],
   "source": [
    "# Calculate the proportions\n",
    "value_counts = gdf['RF_pred'].value_counts()\n",
    "percentage = (value_counts / len(gdf)) * 100\n",
    "area = (percentage * study_area)/100\n",
    "\n",
    "pd.set_option('display.float_format', '{:.0f}'.format)\n",
    "\n",
    "# Create a DataFrame to display the results\n",
    "result_df = pd.DataFrame({\n",
    "    'Value Counts': value_counts,\n",
    "    'Percentage of Total Rows': percentage,\n",
    "    'area': area\n",
    "})\n",
    "\n",
    "\n",
    "# Print the result DataFrame\n",
    "print(result_df)"
   ]
  },
  {
   "cell_type": "code",
   "execution_count": null,
   "id": "ea7c4e7f-dc4d-42ad-90e6-679851a3fcaa",
   "metadata": {},
   "outputs": [],
   "source": [
    "#CART Model\n",
    "model = DecisionTreeClassifier(random_state=42)\n",
    "model.fit(X_train, y_train)\n",
    "\n",
    "# Step 3: Predict on the Testing Dataset\n",
    "y_pred = model.predict(X_test)\n",
    "gdf['CART_pred'] = model.predict(gdf[eSBAE_cols])\n",
    "# Step 4: Evaluate the Model (Optional)\n",
    "accuracy = accuracy_score(y_test, y_pred)\n",
    "print(f\"Accuracy on the test set: {accuracy}\")\n",
    "\n",
    "# Get a classification report\n",
    "report = classification_report(y_test, y_pred)\n",
    "\n",
    "# Print the classification report\n",
    "print(report)"
   ]
  },
  {
   "cell_type": "code",
   "execution_count": null,
   "id": "484a8da4-c6e6-4c39-aa4d-5030f51e6025",
   "metadata": {},
   "outputs": [],
   "source": [
    "# Calculate the proportions\n",
    "value_counts = gdf['CART_pred'].value_counts()\n",
    "percentage = (value_counts / len(gdf)) * 100\n",
    "area = (percentage * study_area)/100\n",
    "\n",
    "pd.set_option('display.float_format', '{:.0f}'.format)\n",
    "\n",
    "# Create a DataFrame to display the results\n",
    "result_df = pd.DataFrame({\n",
    "    'Value Counts': value_counts,\n",
    "    'Percentage of Total Rows': percentage,\n",
    "    'area': area\n",
    "})\n",
    "\n",
    "\n",
    "# Print the result DataFrame\n",
    "print(result_df)"
   ]
  },
  {
   "cell_type": "code",
   "execution_count": null,
   "id": "b3dc8701-80df-4c26-a83a-6e3b0784f7fd",
   "metadata": {},
   "outputs": [],
   "source": [
    "category_colors = {\n",
    "    'Def': 'red',\n",
    "    'Deg': 'orange',\n",
    "    'Stable': 'green',\n",
    "    'NF': 'grey'\n",
    "}\n",
    "\n",
    "plt.figure(figsize=(15, 15))\n",
    "plt.scatter(gdf['lon'], gdf['lat'], c=gdf['CART_pred'].map(category_colors), s=3)\n",
    "\n",
    "plt.xlabel('Longitude')\n",
    "plt.ylabel('Latitude')\n",
    "plt.title('Random Forest Classification')\n",
    "plt.grid()\n",
    "plt.show()"
   ]
  },
  {
   "cell_type": "markdown",
   "id": "5f1da066-6f3c-4b58-b280-69c679e8d0c9",
   "metadata": {},
   "source": [
    "#### add years to all points"
   ]
  },
  {
   "cell_type": "code",
   "execution_count": null,
   "id": "5c5180aa-56d4-4d0c-891f-650ec125328d",
   "metadata": {
    "tags": []
   },
   "outputs": [],
   "source": [
    "# convert dates to years\n",
    "gdf['cusum_change_year'] = np.floor(gdf['cusum_change_date']).astype(int)\n",
    "gdf['ccdc_change_year'] = np.floor(gdf['ccdc_change_date']).astype(int)\n",
    "gdf['bfast_change_year'] = np.floor(gdf['bfast_change_date']).astype(int)"
   ]
  },
  {
   "cell_type": "code",
   "execution_count": null,
   "id": "db83cd92-66f7-4e29-a335-b16908a5affa",
   "metadata": {
    "tags": []
   },
   "outputs": [],
   "source": [
    "# Plotting validated data vs cusum change date\n",
    "plt.scatter(gdf['Ref_Year'], gdf['cusum_change_date'])\n",
    "plt.xlabel('Reference Year')\n",
    "plt.ylabel('cusum change date')\n",
    "plt.title('Validated year vs cusum change date')\n",
    "plt.show()"
   ]
  },
  {
   "cell_type": "code",
   "execution_count": null,
   "id": "da4cdebb-c961-4e29-8c82-47eb8994e1e8",
   "metadata": {},
   "outputs": [],
   "source": [
    "# plot histogram of cusum change\n",
    "plt.hist(gdf['cusum_change_year'], bins='auto', alpha=0.7, color='blue', edgecolor='black')\n",
    "plt.title('Histogram of cusum_change_year')\n",
    "plt.xlabel('cusum_change_year')\n",
    "plt.ylabel('Frequency')\n",
    "plt.grid(True)\n",
    "plt.show()"
   ]
  },
  {
   "cell_type": "code",
   "execution_count": null,
   "id": "2226724c-8d42-4193-b4ae-6fefbb3a73f4",
   "metadata": {},
   "outputs": [],
   "source": [
    "# plot histogram of ccfc change\n",
    "gdf_ccdc = gdf[gdf['ccdc_change_year']>0]\n",
    "plt.hist(gdf_ccdc['ccdc_change_year'], bins='auto', alpha=0.7, color='blue', edgecolor='black')\n",
    "plt.title('Histogram of ccdc change date')\n",
    "plt.xlabel('ccdc_change_year')\n",
    "plt.ylabel('Frequency')\n",
    "plt.grid(True)\n",
    "plt.show()"
   ]
  },
  {
   "cell_type": "code",
   "execution_count": null,
   "id": "deaf3db9-fc9d-4493-a090-5e80b79d40b4",
   "metadata": {},
   "outputs": [],
   "source": [
    "# plot histogram of cusum change\n",
    "gdf_bfast = gdf[gdf['bfast_change_year']>0]\n",
    "plt.hist(gdf_bfast['bfast_change_year'], bins='auto', alpha=0.7, color='blue', edgecolor='black')\n",
    "plt.title('Histogram of bfast change year')\n",
    "plt.xlabel('bfast_change_year')\n",
    "plt.ylabel('Frequency')\n",
    "plt.grid(True)\n",
    "plt.show()"
   ]
  },
  {
   "cell_type": "markdown",
   "id": "0739b77a-aae9-4202-968d-ac7f988d9c04",
   "metadata": {},
   "source": [
    "##### assign change year classes based on classification and cusum dates"
   ]
  },
  {
   "cell_type": "code",
   "execution_count": null,
   "id": "dcff6b6c-9aac-4b3e-9961-58007586eebf",
   "metadata": {},
   "outputs": [],
   "source": [
    "#choose which model to use\n",
    "model = 'prob_class'"
   ]
  },
  {
   "cell_type": "code",
   "execution_count": null,
   "id": "2f5d81aa-2277-414b-a0dc-0aac6d11d9ee",
   "metadata": {
    "tags": []
   },
   "outputs": [],
   "source": [
    "# create hybrid column taking the class from the model you choose and combining with cusum date\n",
    "def y(x):\n",
    "  if x[model] == 'Def' and x['cusum_change_year'] == 2016: return 'Def2016'\n",
    "  elif x[model] == 'Def' and x['cusum_change_year'] == 2017: return 'Def2017'\n",
    "  elif x[model] == 'Def' and x['cusum_change_year'] == 2018: return 'Def2018'\n",
    "  elif x[model] == 'Def' and x['cusum_change_year'] == 2019: return 'Def2019'\n",
    "  elif x[model] == 'Def' and x['cusum_change_year'] == 2020: return 'Def2020'\n",
    "  elif x[model] == 'Def' and x['cusum_change_year'] == 2021: return 'Def2021'\n",
    "  elif x[model] == 'Def' and x['cusum_change_year'] == 2022: return 'Def2022'\n",
    "  elif x[model] == 'Deg' and x['cusum_change_year'] == 2016: return 'Deg2016'\n",
    "  elif x[model] == 'Deg' and x['cusum_change_year'] == 2017: return 'Deg2017'\n",
    "  elif x[model] == 'Deg' and x['cusum_change_year'] == 2018: return 'Deg2018'\n",
    "  elif x[model] == 'Deg' and x['cusum_change_year'] == 2019: return 'Deg2019'\n",
    "  elif x[model] == 'Deg' and x['cusum_change_year'] == 2020: return 'Deg2020'\n",
    "  elif x[model] == 'Deg' and x['cusum_change_year'] == 2021: return 'Deg2021'\n",
    "  elif x[model] == 'Deg' and x['cusum_change_year'] == 2022: return 'Deg2022'\n",
    "  elif x[model] == 'Def' and x['cusum_change_year'] > 2022: return 'Stable'  \n",
    "  elif x[model] == 'Deg' and x['cusum_change_year'] > 2022: return 'Stable'  \n",
    "  elif x[model] == 'Def' and x['cusum_change_year'] < 2016: return 'Stable' \n",
    "  elif x[model] == 'Deg' and x['cusum_change_year'] < 2016: return 'Stable' \n",
    "  elif x[model] == 'Stable' : return 'Stable'\n",
    "  elif x[model] == 'NF' : return 'NF'\n",
    "  else: return ''\n",
    "\n",
    "gdf['Sim_Ref_Change_Year_1522'] = gdf.apply(y, axis=1)\n",
    "\n",
    "annual_counts = gdf['Sim_Ref_Change_Year_1522'].value_counts()\n",
    "annual_counts = annual_counts.sort_index()\n",
    "print(annual_counts)"
   ]
  },
  {
   "cell_type": "code",
   "execution_count": null,
   "id": "37ceb81e",
   "metadata": {
    "tags": []
   },
   "outputs": [],
   "source": [
    "#create hybrid column with values keeping interpreted data, and modeled for all the rest\n",
    "gdf['Sim_CEO_Ref_Change_Type_1522'] = np.where(gdf['interpreted'] == 1, gdf['Ref_Change_Type_1522'], gdf[model])\n",
    "gdf['Sim_CEO_Ref_Change_Year_1522'] = np.where(gdf['interpreted'] == 1, gdf['Ref_Change_Year_1522'], gdf['Sim_Ref_Change_Year_1522'])"
   ]
  },
  {
   "cell_type": "code",
   "execution_count": null,
   "id": "0628d7dc",
   "metadata": {
    "tags": []
   },
   "outputs": [],
   "source": [
    "gdf['Sim_CEO_Ref_Change_Type_1522'].value_counts(dropna=False)"
   ]
  },
  {
   "cell_type": "code",
   "execution_count": null,
   "id": "71d8f1d2-0496-482b-bd92-8a81d76fc36a",
   "metadata": {
    "tags": []
   },
   "outputs": [],
   "source": [
    "gdf['Sim_CEO_Ref_Change_Year_1522'].value_counts(dropna=False).sort_index()"
   ]
  },
  {
   "cell_type": "code",
   "execution_count": null,
   "id": "beb23dcc",
   "metadata": {
    "tags": []
   },
   "outputs": [],
   "source": [
    "#check that interpreted values sum correctly\n",
    "pd.pivot_table(gdf,values='point_id',index=['Sim_CEO_Ref_Change_Year_1522'],columns=['interpreted'],aggfunc=\"count\",margins=True,\n",
    "                             margins_name='Total')"
   ]
  },
  {
   "cell_type": "code",
   "execution_count": null,
   "id": "1527840c-5730-4efe-a034-f139efe3b84d",
   "metadata": {},
   "outputs": [],
   "source": [
    "#check that interpreted values sum correctly\n",
    "pd.pivot_table(gdf,values='point_id',index=['Sim_CEO_Ref_Change_Type_1522'],columns=['stratum'],aggfunc=\"count\",margins=True,\n",
    "                             margins_name='Total')"
   ]
  },
  {
   "cell_type": "code",
   "execution_count": null,
   "id": "1a1ded4c-3235-4b82-9b81-bbbe99351119",
   "metadata": {},
   "outputs": [],
   "source": [
    "#check that interpreted values sum correctly\n",
    "pd.pivot_table(gdf,values='point_id',index=['Sim_CEO_Ref_Change_Year_1522'],columns=['stratum'],aggfunc=\"count\",margins=True,\n",
    "                             margins_name='Total')"
   ]
  },
  {
   "cell_type": "code",
   "execution_count": null,
   "id": "26b29f12-292a-44f5-bb6d-a6b23553079b",
   "metadata": {},
   "outputs": [],
   "source": [
    "#use stratum counts to calculate stats from CEO  points\n",
    "pd.pivot_table(gdf,values='point_id',index=['Ref_Change_Year_1522'],columns=['stratum'],aggfunc=\"count\",margins=True,\n",
    "                             margins_name='Total')"
   ]
  },
  {
   "cell_type": "markdown",
   "id": "f08f5420",
   "metadata": {},
   "source": [
    "#### plot data"
   ]
  },
  {
   "cell_type": "code",
   "execution_count": null,
   "id": "fafe0af3-66a9-4b5a-a7da-dd65ba9bfbb7",
   "metadata": {
    "tags": []
   },
   "outputs": [],
   "source": [
    "#select the values you want to plot\n",
    "values_to_plot = ['Def2016','Def2017','Def2018','Def2019','Def2020','Def2021','Def2022']\n",
    "\n",
    "# Filter the DataFrame to include only the selected values\n",
    "filtered_df = gdf[gdf['Sim_CEO_Ref_Change_Year_1522'].isin(values_to_plot)]\n",
    "\n",
    "# Get the value counts and sort by index (alphabetically)\n",
    "defvalue_counts = filtered_df['Sim_CEO_Ref_Change_Year_1522'].value_counts().sort_index()\n",
    "\n",
    "# Plot the value counts as a bar graph\n",
    "plt.figure(figsize=(8, 6))  # Optional: Set the figure size\n",
    "defvalue_counts.plot(kind='bar', color='skyblue')\n",
    "\n",
    "\n",
    "# Set plot labels and title\n",
    "plt.xlabel('Category')\n",
    "plt.ylabel('Count')\n",
    "plt.title('# of def points per year')\n",
    "\n",
    "# Show the plot\n",
    "plt.show()"
   ]
  },
  {
   "cell_type": "code",
   "execution_count": null,
   "id": "08b002e3-6471-4d6c-bdda-b387c69847ea",
   "metadata": {
    "tags": []
   },
   "outputs": [],
   "source": [
    "#select the values you want to plot\n",
    "values_to_plot = ['Deg2016','Deg2017','Deg2018','Deg2019','Deg2020','Deg2021','Deg2022']\n",
    "\n",
    "# Filter the DataFrame to include only the selected values\n",
    "filtered_df = gdf[gdf['Sim_CEO_Ref_Change_Year_1522'].isin(values_to_plot)]\n",
    "\n",
    "# Get the value counts and sort by index (alphabetically)\n",
    "defvalue_counts = filtered_df['Sim_CEO_Ref_Change_Year_1522'].value_counts().sort_index()\n",
    "\n",
    "# Plot the value counts as a bar graph\n",
    "plt.figure(figsize=(8, 6))  # Optional: Set the figure size\n",
    "defvalue_counts.plot(kind='bar', color='skyblue')\n",
    "\n",
    "\n",
    "# Set plot labels and title\n",
    "plt.xlabel('Category')\n",
    "plt.ylabel('Count')\n",
    "plt.title('# of deg points per year')\n",
    "\n",
    "# Show the plot\n",
    "plt.show()"
   ]
  },
  {
   "cell_type": "code",
   "execution_count": null,
   "id": "a85c7c34-7431-46da-9ba4-246bcf3d4738",
   "metadata": {
    "tags": []
   },
   "outputs": [],
   "source": [
    "#export\n",
    "#out_file =  '/home/sepal-user/module_results/esbae/DRC/DRC_esbae_supervised_class_1522.csv'\n",
    "#out_file =  '/home/sepal-user/module_results/esbae/GAB/GAB_esbae_supervised_class_1522.csv'\n",
    "out_file =  '/home/sepal-user/module_results/esbae/EQG/EQG_esbae_supervised_class_1522.csv'\n",
    "\n",
    "gdf.to_csv(out_file,index=True)"
   ]
  },
  {
   "cell_type": "code",
   "execution_count": null,
   "id": "13cb6889-031e-4347-85b8-a2b61c705b4d",
   "metadata": {},
   "outputs": [],
   "source": []
  }
 ],
 "metadata": {
  "kernelspec": {
   "display_name": " (venv) Sample Based Area Estimation",
   "language": "python",
   "name": "venv-esbae_notebooks"
  },
  "language_info": {
   "codemirror_mode": {
    "name": "ipython",
    "version": 3
   },
   "file_extension": ".py",
   "mimetype": "text/x-python",
   "name": "python",
   "nbconvert_exporter": "python",
   "pygments_lexer": "ipython3",
   "version": "3.10.12"
  }
 },
 "nbformat": 4,
 "nbformat_minor": 5
}
