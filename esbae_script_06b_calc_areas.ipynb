{
 "cells": [
  {
   "cell_type": "markdown",
   "id": "54888318-08a9-408f-ba85-7bbcfa38f1b7",
   "metadata": {
    "tags": []
   },
   "source": [
    "# V - Calculating areas of change and confidence intervals\n",
    "### This script serves to perform a quick estimation of areas and confidence intervals for all types of change using validated data\n",
    "### This script requires a m4 instance\n",
    "###### For more information contact aurelie.shapiro@fao.org or remi.dannunzio@fao.org"
   ]
  },
  {
   "cell_type": "code",
   "execution_count": 1,
   "id": "ca0aabc4-ea60-48ec-bd1c-c4fb4b63d0e9",
   "metadata": {
    "tags": []
   },
   "outputs": [],
   "source": [
    "import pandas as pd\n",
    "import numpy as np\n",
    "import seaborn as sns\n",
    "from matplotlib import pyplot as plt\n",
    "import matplotlib.ticker as mticker"
   ]
  },
  {
   "cell_type": "markdown",
   "id": "f403562c-5836-4703-9ca4-1e2701df272a",
   "metadata": {},
   "source": [
    "### 1 - Read files"
   ]
  },
  {
   "cell_type": "code",
   "execution_count": 2,
   "id": "bc5e5cde-83f5-4b85-a216-a53e1a9951be",
   "metadata": {
    "tags": []
   },
   "outputs": [],
   "source": [
    "def calculate_areas(df_merged, kozak_column, target_column, total_area):\n",
    "    \n",
    "    df_full = df_merged.copy()\n",
    "    df_merged = df_merged[df_merged['interpreted'] == 1]\n",
    "    \n",
    "    # get all attributes\n",
    "    categories = df_merged[target_column].unique()\n",
    "    print(categories)\n",
    "    # get strata\n",
    "    strata, d = df_merged[kozak_column].unique(), {}\n",
    "    \n",
    "    # create stats for each entry\n",
    "    for category in categories:\n",
    "        \n",
    "        if str(category) == 'nan':\n",
    "            continue\n",
    "            \n",
    "        print(f' Calculating stats for {category}')\n",
    "        # create binary class column\n",
    "        df_merged[category] = df_merged[target_column].apply(lambda x: 1 if x == category else 0)\n",
    "        print(f'There are {df_merged[category].sum()} entries of {category} in {target_column}.')\n",
    "        \n",
    "        # initialize variables for category\n",
    "        categories_area, se_total = 0, 0\n",
    "        d2 = {}\n",
    "        for stratum in strata:\n",
    "                        \n",
    "            if str(stratum) == 'nan':\n",
    "                continue\n",
    "            \n",
    "            # subset to stratum\n",
    "            strat_df = df_full[df_full[kozak_column] == stratum]\n",
    "            \n",
    "            # get area proportion for that stratum on full dataset\n",
    "            proportion_strata = len(strat_df)/len(df_full)\n",
    "\n",
    "            # get stratum area\n",
    "            stratum_area = proportion_strata * total_area\n",
    "\n",
    "            # get proportion of forest change within strata from interpreted data\n",
    "            proportion_category = len(\n",
    "                df_merged[(df_merged[kozak_column] == stratum) & (df_merged[category] == 1)]\n",
    "            ) / len(\n",
    "                df_merged[df_merged[kozak_column] == stratum]\n",
    "            )\n",
    "            \n",
    "            # get area from proportion and full area\n",
    "            area = proportion_category * stratum_area\n",
    "\n",
    "            # get error from interpreted data for full stratum area\n",
    "            var = np.var(df_merged[category][df_merged[kozak_column] == stratum]) / len(df_merged[df_merged[kozak_column] == stratum])\n",
    "            se = np.sqrt(var) * stratum_area\n",
    "\n",
    "            # add for totals\n",
    "            categories_area += area\n",
    "            se_total += se**2\n",
    "            \n",
    "            # add to dictionary\n",
    "            d2[f'area_stratum_{stratum}'] = area\n",
    "            d2[f'ci_stratum_{stratum}']=1.67*se\n",
    "        \n",
    "        d2['area_total'] = categories_area\n",
    "        d2['ci_total'] = 1.67*np.sqrt(se_total)\n",
    "        d2['perc_error'] = np.sqrt(se_total) / categories_area * 100\n",
    "        d[category] = d2\n",
    "    \n",
    "    \n",
    "    return pd.DataFrame.from_dict(d, orient='index')"
   ]
  },
  {
   "cell_type": "markdown",
   "id": "4e1cd21c-9b5e-43fb-99c2-0592756193ac",
   "metadata": {},
   "source": [
    "### point to the output merged file from the previous script"
   ]
  },
  {
   "cell_type": "code",
   "execution_count": 3,
   "id": "0591a759-56ac-4ea7-a6da-cda8e8518cd1",
   "metadata": {
    "tags": []
   },
   "outputs": [],
   "source": [
    "df = pd.read_csv('/home/sepal-user/module_results/esbae/DRC/DRC_esbae_ceo_merge.csv', low_memory=False)"
   ]
  },
  {
   "cell_type": "code",
   "execution_count": 4,
   "id": "f695ee7f-251b-401c-9398-da6b0b62591e",
   "metadata": {
    "tags": []
   },
   "outputs": [
    {
     "data": {
      "text/plain": [
       "Index(['Unnamed: 0', 'point_id', 'plotid', 'lat', 'lon', 'stratum', 'chg_prob',\n",
       "       'simple_combined', 'NOM', 'interpreted', 'sampleid', 'email', 'flagged',\n",
       "       'collection_time', 'analysis_duration', 'sample_geom',\n",
       "       'forêt ou non-forêt en 2015?', 'Y'a t'il de la régéneration',\n",
       "       'Changement entre 2015-2022', 'Type de Changement (2015-2022)',\n",
       "       'Exploitation forestière artisanale (<5ha)',\n",
       "       'Activité minière artisanale', 'Infrastructure routière',\n",
       "       'Infrastructure d’urbanisation ou habitations',\n",
       "       'Exploitation forestière industrielle (>5ha)', 'Autre moteur',\n",
       "       'Descriptif autre moteur', 'Activité minière industrielle',\n",
       "       'Agriculture industrielle', 'Agriculture paysanne',\n",
       "       'Année de Changement', 'Type de non-forêt en 2015',\n",
       "       'Type de forêt en 2015', 'Commentaires', 'collection', 'ChangeType',\n",
       "       'ChangeYear'],\n",
       "      dtype='object')"
      ]
     },
     "execution_count": 4,
     "metadata": {},
     "output_type": "execute_result"
    }
   ],
   "source": [
    "df.columns"
   ]
  },
  {
   "cell_type": "code",
   "execution_count": 5,
   "id": "8a63c349-c66a-4140-966d-f2dd175f8958",
   "metadata": {
    "tags": []
   },
   "outputs": [
    {
     "name": "stdout",
     "output_type": "stream",
     "text": [
      "(array(['Def2016', 'Def2017', 'Def2018', 'Def2019', 'Def2020', 'Def2021',\n",
      "       'Def2022', 'Deg2016', 'Deg2017', 'Deg2018', 'Deg2019', 'Deg2020',\n",
      "       'Deg2021', 'Deg2022', 'NF', 'Stable', 'nan'], dtype=object), array([     52,      63,      58,      79,      78,      57,      42,\n",
      "            51,      11,      14,      26,      23,      16,      14,\n",
      "          4025,    2479, 1543020]))\n",
      "1550108\n"
     ]
    }
   ],
   "source": [
    "print(np.unique(df['ChangeYear'].astype(str), return_counts=True))\n",
    "print(len(df))"
   ]
  },
  {
   "cell_type": "markdown",
   "id": "76749e27-5558-4a02-8b4a-11023bb83c38",
   "metadata": {},
   "source": [
    "### calculate for all years"
   ]
  },
  {
   "cell_type": "code",
   "execution_count": 6,
   "id": "700b7fb9-141d-4d28-868b-c654289c0251",
   "metadata": {
    "tags": []
   },
   "outputs": [
    {
     "name": "stdout",
     "output_type": "stream",
     "text": [
      "['Stable' 'NF' 'Degradation' 'Deforestation']\n",
      " Calculating stats for Stable\n",
      "There are 2479 entries of Stable in accumulated.\n"
     ]
    },
    {
     "name": "stderr",
     "output_type": "stream",
     "text": [
      "/tmp/ipykernel_5243/3839375425.py:20: SettingWithCopyWarning: \n",
      "A value is trying to be set on a copy of a slice from a DataFrame.\n",
      "Try using .loc[row_indexer,col_indexer] = value instead\n",
      "\n",
      "See the caveats in the documentation: https://pandas.pydata.org/pandas-docs/stable/user_guide/indexing.html#returning-a-view-versus-a-copy\n",
      "  df_merged[category] = df_merged[target_column].apply(lambda x: 1 if x == category else 0)\n"
     ]
    },
    {
     "name": "stdout",
     "output_type": "stream",
     "text": [
      " Calculating stats for NF\n",
      "There are 4025 entries of NF in accumulated.\n"
     ]
    },
    {
     "name": "stderr",
     "output_type": "stream",
     "text": [
      "/tmp/ipykernel_5243/3839375425.py:20: SettingWithCopyWarning: \n",
      "A value is trying to be set on a copy of a slice from a DataFrame.\n",
      "Try using .loc[row_indexer,col_indexer] = value instead\n",
      "\n",
      "See the caveats in the documentation: https://pandas.pydata.org/pandas-docs/stable/user_guide/indexing.html#returning-a-view-versus-a-copy\n",
      "  df_merged[category] = df_merged[target_column].apply(lambda x: 1 if x == category else 0)\n"
     ]
    },
    {
     "name": "stdout",
     "output_type": "stream",
     "text": [
      " Calculating stats for Degradation\n",
      "There are 155 entries of Degradation in accumulated.\n"
     ]
    },
    {
     "name": "stderr",
     "output_type": "stream",
     "text": [
      "/tmp/ipykernel_5243/3839375425.py:20: SettingWithCopyWarning: \n",
      "A value is trying to be set on a copy of a slice from a DataFrame.\n",
      "Try using .loc[row_indexer,col_indexer] = value instead\n",
      "\n",
      "See the caveats in the documentation: https://pandas.pydata.org/pandas-docs/stable/user_guide/indexing.html#returning-a-view-versus-a-copy\n",
      "  df_merged[category] = df_merged[target_column].apply(lambda x: 1 if x == category else 0)\n"
     ]
    },
    {
     "name": "stdout",
     "output_type": "stream",
     "text": [
      " Calculating stats for Deforestation\n",
      "There are 429 entries of Deforestation in accumulated.\n"
     ]
    },
    {
     "name": "stderr",
     "output_type": "stream",
     "text": [
      "/tmp/ipykernel_5243/3839375425.py:20: SettingWithCopyWarning: \n",
      "A value is trying to be set on a copy of a slice from a DataFrame.\n",
      "Try using .loc[row_indexer,col_indexer] = value instead\n",
      "\n",
      "See the caveats in the documentation: https://pandas.pydata.org/pandas-docs/stable/user_guide/indexing.html#returning-a-view-versus-a-copy\n",
      "  df_merged[category] = df_merged[target_column].apply(lambda x: 1 if x == category else 0)\n"
     ]
    }
   ],
   "source": [
    "interpreted = [\n",
    "    'Def2016', 'Def2017', 'Def2018', 'Def2019', 'Def2020', 'Def2021', 'Def2022',\n",
    "    'Deg2016', 'Deg2017', 'Deg2018', 'Deg2019', 'Deg2020', 'Deg2021',\n",
    "    'Deg2022', 'NF', 'Stable'\n",
    "]\n",
    "\n",
    "#df['interpreted'] = df['ChangeYear'].apply(lambda x: 1 if str(x) in interpreted else 0)\n",
    "df['accumulated'] = df['ChangeYear'].apply(\n",
    "    lambda x: 'Deforestation' if str(x).startswith('Def') else 'Degradation' if str(x).startswith('Deg') else 'Stable' if str(x).startswith('Sta') else 'NF')\n",
    "#stas_df = calculate_areas(df, 'Strata', 'ChangeYear', 26287600).sort_index()\n",
    "stats_gdf = calculate_areas(df, 'stratum', 'accumulated', len(df)*118).sort_index()\n",
    "#stats_df = calculate_areas(df, 'stratum', 'ChangeYear', len(df)*118).sort_index()"
   ]
  },
  {
   "cell_type": "code",
   "execution_count": 7,
   "id": "8b7ae294-a474-40ea-be09-58958a189cc6",
   "metadata": {
    "tags": []
   },
   "outputs": [
    {
     "data": {
      "text/plain": [
       "(array(['Deforestation', 'Degradation', 'NF', 'Stable'], dtype=object),\n",
       " array([    429,     155, 1547045,    2479]))"
      ]
     },
     "execution_count": 7,
     "metadata": {},
     "output_type": "execute_result"
    }
   ],
   "source": [
    "np.unique(df['accumulated'], return_counts=True)"
   ]
  },
  {
   "cell_type": "code",
   "execution_count": 8,
   "id": "1043d8e0-9d8c-4ed1-af27-dd8a13878b14",
   "metadata": {
    "tags": []
   },
   "outputs": [],
   "source": [
    "pd.set_option('display.float_format', lambda x: '%.3f' % x)\n",
    "stats_gdf[['area_total', 'ci_total', 'perc_error']]\n",
    "stats_gdf['ChangeYear'] = stats_gdf.index"
   ]
  },
  {
   "cell_type": "code",
   "execution_count": 9,
   "id": "bbd1fe68-6aee-48e2-a3c6-3b9068737ca2",
   "metadata": {
    "tags": []
   },
   "outputs": [
    {
     "data": {
      "text/html": [
       "<div>\n",
       "<style scoped>\n",
       "    .dataframe tbody tr th:only-of-type {\n",
       "        vertical-align: middle;\n",
       "    }\n",
       "\n",
       "    .dataframe tbody tr th {\n",
       "        vertical-align: top;\n",
       "    }\n",
       "\n",
       "    .dataframe thead th {\n",
       "        text-align: right;\n",
       "    }\n",
       "</style>\n",
       "<table border=\"1\" class=\"dataframe\">\n",
       "  <thead>\n",
       "    <tr style=\"text-align: right;\">\n",
       "      <th></th>\n",
       "      <th>area_stratum_1</th>\n",
       "      <th>ci_stratum_1</th>\n",
       "      <th>area_stratum_2</th>\n",
       "      <th>ci_stratum_2</th>\n",
       "      <th>area_stratum_3</th>\n",
       "      <th>ci_stratum_3</th>\n",
       "      <th>area_total</th>\n",
       "      <th>ci_total</th>\n",
       "      <th>perc_error</th>\n",
       "      <th>ChangeYear</th>\n",
       "    </tr>\n",
       "  </thead>\n",
       "  <tbody>\n",
       "    <tr>\n",
       "      <th>Deforestation</th>\n",
       "      <td>0.000</td>\n",
       "      <td>0.000</td>\n",
       "      <td>1191243.148</td>\n",
       "      <td>237185.847</td>\n",
       "      <td>2275542.671</td>\n",
       "      <td>189129.292</td>\n",
       "      <td>3466785.819</td>\n",
       "      <td>303359.547</td>\n",
       "      <td>5.240</td>\n",
       "      <td>Deforestation</td>\n",
       "    </tr>\n",
       "    <tr>\n",
       "      <th>Degradation</th>\n",
       "      <td>604650.594</td>\n",
       "      <td>1006701.943</td>\n",
       "      <td>621518.164</td>\n",
       "      <td>172121.861</td>\n",
       "      <td>745872.320</td>\n",
       "      <td>112613.695</td>\n",
       "      <td>1972041.078</td>\n",
       "      <td>1027500.161</td>\n",
       "      <td>31.200</td>\n",
       "      <td>Degradation</td>\n",
       "    </tr>\n",
       "    <tr>\n",
       "      <th>NF</th>\n",
       "      <td>11488361.285</td>\n",
       "      <td>4140303.819</td>\n",
       "      <td>40053392.787</td>\n",
       "      <td>827858.548</td>\n",
       "      <td>10657124.845</td>\n",
       "      <td>304266.529</td>\n",
       "      <td>62198878.916</td>\n",
       "      <td>4233207.249</td>\n",
       "      <td>4.075</td>\n",
       "      <td>NF</td>\n",
       "    </tr>\n",
       "    <tr>\n",
       "      <th>Stable</th>\n",
       "      <td>87674336.121</td>\n",
       "      <td>4233289.621</td>\n",
       "      <td>20268397.902</td>\n",
       "      <td>810899.052</td>\n",
       "      <td>7332304.164</td>\n",
       "      <td>290085.532</td>\n",
       "      <td>115275038.187</td>\n",
       "      <td>4320005.544</td>\n",
       "      <td>2.244</td>\n",
       "      <td>Stable</td>\n",
       "    </tr>\n",
       "  </tbody>\n",
       "</table>\n",
       "</div>"
      ],
      "text/plain": [
       "               area_stratum_1  ci_stratum_1  area_stratum_2  ci_stratum_2  \\\n",
       "Deforestation           0.000         0.000     1191243.148    237185.847   \n",
       "Degradation        604650.594   1006701.943      621518.164    172121.861   \n",
       "NF               11488361.285   4140303.819    40053392.787    827858.548   \n",
       "Stable           87674336.121   4233289.621    20268397.902    810899.052   \n",
       "\n",
       "               area_stratum_3  ci_stratum_3    area_total    ci_total  \\\n",
       "Deforestation     2275542.671    189129.292   3466785.819  303359.547   \n",
       "Degradation        745872.320    112613.695   1972041.078 1027500.161   \n",
       "NF               10657124.845    304266.529  62198878.916 4233207.249   \n",
       "Stable            7332304.164    290085.532 115275038.187 4320005.544   \n",
       "\n",
       "               perc_error     ChangeYear  \n",
       "Deforestation       5.240  Deforestation  \n",
       "Degradation        31.200    Degradation  \n",
       "NF                  4.075             NF  \n",
       "Stable              2.244         Stable  "
      ]
     },
     "execution_count": 9,
     "metadata": {},
     "output_type": "execute_result"
    }
   ],
   "source": [
    "stats_gdf"
   ]
  },
  {
   "cell_type": "markdown",
   "id": "30db8a0f-6fcb-421d-8270-27d15ed99c4c",
   "metadata": {},
   "source": [
    "### calculate for each year"
   ]
  },
  {
   "cell_type": "code",
   "execution_count": 10,
   "id": "20322007-4cc8-4f06-8871-8228c0d0e725",
   "metadata": {
    "tags": []
   },
   "outputs": [
    {
     "name": "stdout",
     "output_type": "stream",
     "text": [
      "['Stable' 'NF' 'Deg2020' 'Def2021' 'Def2016' 'Def2018' 'Deg2019' 'Def2020'\n",
      " 'Def2022' 'Def2019' 'Deg2022' 'Def2017' 'Deg2018' 'Deg2017' 'Deg2021'\n",
      " 'Deg2016']\n",
      " Calculating stats for Stable\n",
      "There are 2479 entries of Stable in ChangeYear.\n"
     ]
    },
    {
     "name": "stderr",
     "output_type": "stream",
     "text": [
      "/tmp/ipykernel_5243/3839375425.py:20: SettingWithCopyWarning: \n",
      "A value is trying to be set on a copy of a slice from a DataFrame.\n",
      "Try using .loc[row_indexer,col_indexer] = value instead\n",
      "\n",
      "See the caveats in the documentation: https://pandas.pydata.org/pandas-docs/stable/user_guide/indexing.html#returning-a-view-versus-a-copy\n",
      "  df_merged[category] = df_merged[target_column].apply(lambda x: 1 if x == category else 0)\n"
     ]
    },
    {
     "name": "stdout",
     "output_type": "stream",
     "text": [
      " Calculating stats for NF\n",
      "There are 4025 entries of NF in ChangeYear.\n"
     ]
    },
    {
     "name": "stderr",
     "output_type": "stream",
     "text": [
      "/tmp/ipykernel_5243/3839375425.py:20: SettingWithCopyWarning: \n",
      "A value is trying to be set on a copy of a slice from a DataFrame.\n",
      "Try using .loc[row_indexer,col_indexer] = value instead\n",
      "\n",
      "See the caveats in the documentation: https://pandas.pydata.org/pandas-docs/stable/user_guide/indexing.html#returning-a-view-versus-a-copy\n",
      "  df_merged[category] = df_merged[target_column].apply(lambda x: 1 if x == category else 0)\n"
     ]
    },
    {
     "name": "stdout",
     "output_type": "stream",
     "text": [
      " Calculating stats for Deg2020\n",
      "There are 23 entries of Deg2020 in ChangeYear.\n"
     ]
    },
    {
     "name": "stderr",
     "output_type": "stream",
     "text": [
      "/tmp/ipykernel_5243/3839375425.py:20: SettingWithCopyWarning: \n",
      "A value is trying to be set on a copy of a slice from a DataFrame.\n",
      "Try using .loc[row_indexer,col_indexer] = value instead\n",
      "\n",
      "See the caveats in the documentation: https://pandas.pydata.org/pandas-docs/stable/user_guide/indexing.html#returning-a-view-versus-a-copy\n",
      "  df_merged[category] = df_merged[target_column].apply(lambda x: 1 if x == category else 0)\n"
     ]
    },
    {
     "name": "stdout",
     "output_type": "stream",
     "text": [
      " Calculating stats for Def2021\n",
      "There are 57 entries of Def2021 in ChangeYear.\n"
     ]
    },
    {
     "name": "stderr",
     "output_type": "stream",
     "text": [
      "/tmp/ipykernel_5243/3839375425.py:20: SettingWithCopyWarning: \n",
      "A value is trying to be set on a copy of a slice from a DataFrame.\n",
      "Try using .loc[row_indexer,col_indexer] = value instead\n",
      "\n",
      "See the caveats in the documentation: https://pandas.pydata.org/pandas-docs/stable/user_guide/indexing.html#returning-a-view-versus-a-copy\n",
      "  df_merged[category] = df_merged[target_column].apply(lambda x: 1 if x == category else 0)\n"
     ]
    },
    {
     "name": "stdout",
     "output_type": "stream",
     "text": [
      " Calculating stats for Def2016\n",
      "There are 52 entries of Def2016 in ChangeYear.\n"
     ]
    },
    {
     "name": "stderr",
     "output_type": "stream",
     "text": [
      "/tmp/ipykernel_5243/3839375425.py:20: SettingWithCopyWarning: \n",
      "A value is trying to be set on a copy of a slice from a DataFrame.\n",
      "Try using .loc[row_indexer,col_indexer] = value instead\n",
      "\n",
      "See the caveats in the documentation: https://pandas.pydata.org/pandas-docs/stable/user_guide/indexing.html#returning-a-view-versus-a-copy\n",
      "  df_merged[category] = df_merged[target_column].apply(lambda x: 1 if x == category else 0)\n"
     ]
    },
    {
     "name": "stdout",
     "output_type": "stream",
     "text": [
      " Calculating stats for Def2018\n",
      "There are 58 entries of Def2018 in ChangeYear.\n"
     ]
    },
    {
     "name": "stderr",
     "output_type": "stream",
     "text": [
      "/tmp/ipykernel_5243/3839375425.py:20: SettingWithCopyWarning: \n",
      "A value is trying to be set on a copy of a slice from a DataFrame.\n",
      "Try using .loc[row_indexer,col_indexer] = value instead\n",
      "\n",
      "See the caveats in the documentation: https://pandas.pydata.org/pandas-docs/stable/user_guide/indexing.html#returning-a-view-versus-a-copy\n",
      "  df_merged[category] = df_merged[target_column].apply(lambda x: 1 if x == category else 0)\n"
     ]
    },
    {
     "name": "stdout",
     "output_type": "stream",
     "text": [
      " Calculating stats for Deg2019\n",
      "There are 26 entries of Deg2019 in ChangeYear.\n"
     ]
    },
    {
     "name": "stderr",
     "output_type": "stream",
     "text": [
      "/tmp/ipykernel_5243/3839375425.py:20: SettingWithCopyWarning: \n",
      "A value is trying to be set on a copy of a slice from a DataFrame.\n",
      "Try using .loc[row_indexer,col_indexer] = value instead\n",
      "\n",
      "See the caveats in the documentation: https://pandas.pydata.org/pandas-docs/stable/user_guide/indexing.html#returning-a-view-versus-a-copy\n",
      "  df_merged[category] = df_merged[target_column].apply(lambda x: 1 if x == category else 0)\n"
     ]
    },
    {
     "name": "stdout",
     "output_type": "stream",
     "text": [
      " Calculating stats for Def2020\n",
      "There are 78 entries of Def2020 in ChangeYear.\n"
     ]
    },
    {
     "name": "stderr",
     "output_type": "stream",
     "text": [
      "/tmp/ipykernel_5243/3839375425.py:20: SettingWithCopyWarning: \n",
      "A value is trying to be set on a copy of a slice from a DataFrame.\n",
      "Try using .loc[row_indexer,col_indexer] = value instead\n",
      "\n",
      "See the caveats in the documentation: https://pandas.pydata.org/pandas-docs/stable/user_guide/indexing.html#returning-a-view-versus-a-copy\n",
      "  df_merged[category] = df_merged[target_column].apply(lambda x: 1 if x == category else 0)\n"
     ]
    },
    {
     "name": "stdout",
     "output_type": "stream",
     "text": [
      " Calculating stats for Def2022\n",
      "There are 42 entries of Def2022 in ChangeYear.\n"
     ]
    },
    {
     "name": "stderr",
     "output_type": "stream",
     "text": [
      "/tmp/ipykernel_5243/3839375425.py:20: SettingWithCopyWarning: \n",
      "A value is trying to be set on a copy of a slice from a DataFrame.\n",
      "Try using .loc[row_indexer,col_indexer] = value instead\n",
      "\n",
      "See the caveats in the documentation: https://pandas.pydata.org/pandas-docs/stable/user_guide/indexing.html#returning-a-view-versus-a-copy\n",
      "  df_merged[category] = df_merged[target_column].apply(lambda x: 1 if x == category else 0)\n"
     ]
    },
    {
     "name": "stdout",
     "output_type": "stream",
     "text": [
      " Calculating stats for Def2019\n",
      "There are 79 entries of Def2019 in ChangeYear.\n"
     ]
    },
    {
     "name": "stderr",
     "output_type": "stream",
     "text": [
      "/tmp/ipykernel_5243/3839375425.py:20: SettingWithCopyWarning: \n",
      "A value is trying to be set on a copy of a slice from a DataFrame.\n",
      "Try using .loc[row_indexer,col_indexer] = value instead\n",
      "\n",
      "See the caveats in the documentation: https://pandas.pydata.org/pandas-docs/stable/user_guide/indexing.html#returning-a-view-versus-a-copy\n",
      "  df_merged[category] = df_merged[target_column].apply(lambda x: 1 if x == category else 0)\n"
     ]
    },
    {
     "name": "stdout",
     "output_type": "stream",
     "text": [
      " Calculating stats for Deg2022\n",
      "There are 14 entries of Deg2022 in ChangeYear.\n"
     ]
    },
    {
     "name": "stderr",
     "output_type": "stream",
     "text": [
      "/tmp/ipykernel_5243/3839375425.py:20: SettingWithCopyWarning: \n",
      "A value is trying to be set on a copy of a slice from a DataFrame.\n",
      "Try using .loc[row_indexer,col_indexer] = value instead\n",
      "\n",
      "See the caveats in the documentation: https://pandas.pydata.org/pandas-docs/stable/user_guide/indexing.html#returning-a-view-versus-a-copy\n",
      "  df_merged[category] = df_merged[target_column].apply(lambda x: 1 if x == category else 0)\n"
     ]
    },
    {
     "name": "stdout",
     "output_type": "stream",
     "text": [
      " Calculating stats for Def2017\n",
      "There are 63 entries of Def2017 in ChangeYear.\n"
     ]
    },
    {
     "name": "stderr",
     "output_type": "stream",
     "text": [
      "/tmp/ipykernel_5243/3839375425.py:20: SettingWithCopyWarning: \n",
      "A value is trying to be set on a copy of a slice from a DataFrame.\n",
      "Try using .loc[row_indexer,col_indexer] = value instead\n",
      "\n",
      "See the caveats in the documentation: https://pandas.pydata.org/pandas-docs/stable/user_guide/indexing.html#returning-a-view-versus-a-copy\n",
      "  df_merged[category] = df_merged[target_column].apply(lambda x: 1 if x == category else 0)\n"
     ]
    },
    {
     "name": "stdout",
     "output_type": "stream",
     "text": [
      " Calculating stats for Deg2018\n",
      "There are 14 entries of Deg2018 in ChangeYear.\n"
     ]
    },
    {
     "name": "stderr",
     "output_type": "stream",
     "text": [
      "/tmp/ipykernel_5243/3839375425.py:20: SettingWithCopyWarning: \n",
      "A value is trying to be set on a copy of a slice from a DataFrame.\n",
      "Try using .loc[row_indexer,col_indexer] = value instead\n",
      "\n",
      "See the caveats in the documentation: https://pandas.pydata.org/pandas-docs/stable/user_guide/indexing.html#returning-a-view-versus-a-copy\n",
      "  df_merged[category] = df_merged[target_column].apply(lambda x: 1 if x == category else 0)\n"
     ]
    },
    {
     "name": "stdout",
     "output_type": "stream",
     "text": [
      " Calculating stats for Deg2017\n",
      "There are 11 entries of Deg2017 in ChangeYear.\n"
     ]
    },
    {
     "name": "stderr",
     "output_type": "stream",
     "text": [
      "/tmp/ipykernel_5243/3839375425.py:20: SettingWithCopyWarning: \n",
      "A value is trying to be set on a copy of a slice from a DataFrame.\n",
      "Try using .loc[row_indexer,col_indexer] = value instead\n",
      "\n",
      "See the caveats in the documentation: https://pandas.pydata.org/pandas-docs/stable/user_guide/indexing.html#returning-a-view-versus-a-copy\n",
      "  df_merged[category] = df_merged[target_column].apply(lambda x: 1 if x == category else 0)\n"
     ]
    },
    {
     "name": "stdout",
     "output_type": "stream",
     "text": [
      " Calculating stats for Deg2021\n",
      "There are 16 entries of Deg2021 in ChangeYear.\n"
     ]
    },
    {
     "name": "stderr",
     "output_type": "stream",
     "text": [
      "/tmp/ipykernel_5243/3839375425.py:20: SettingWithCopyWarning: \n",
      "A value is trying to be set on a copy of a slice from a DataFrame.\n",
      "Try using .loc[row_indexer,col_indexer] = value instead\n",
      "\n",
      "See the caveats in the documentation: https://pandas.pydata.org/pandas-docs/stable/user_guide/indexing.html#returning-a-view-versus-a-copy\n",
      "  df_merged[category] = df_merged[target_column].apply(lambda x: 1 if x == category else 0)\n"
     ]
    },
    {
     "name": "stdout",
     "output_type": "stream",
     "text": [
      " Calculating stats for Deg2016\n",
      "There are 51 entries of Deg2016 in ChangeYear.\n"
     ]
    },
    {
     "name": "stderr",
     "output_type": "stream",
     "text": [
      "/tmp/ipykernel_5243/3839375425.py:20: SettingWithCopyWarning: \n",
      "A value is trying to be set on a copy of a slice from a DataFrame.\n",
      "Try using .loc[row_indexer,col_indexer] = value instead\n",
      "\n",
      "See the caveats in the documentation: https://pandas.pydata.org/pandas-docs/stable/user_guide/indexing.html#returning-a-view-versus-a-copy\n",
      "  df_merged[category] = df_merged[target_column].apply(lambda x: 1 if x == category else 0)\n"
     ]
    }
   ],
   "source": [
    "interpreted = [\n",
    "    'Def2016', 'Def2017', 'Def2018', 'Def2019', 'Def2020', 'Def2021', 'Def2022',\n",
    "    'Deg2016', 'Deg2017', 'Deg2018', 'Deg2019', 'Deg2020', 'Deg2021',\n",
    "    'Deg2022', 'NF', 'Stable'\n",
    "]\n",
    "\n",
    "df['interpreted'] = df['ChangeYear'].apply(lambda x: 1 if str(x) in interpreted else 0)\n",
    "#df['accumulated'] = df['ChangeYear'].apply(\n",
    "#    lambda x: 'Deforestation' if str(x).startswith('Def') else 'Degradation' if str(x).startswith('Deg') else 'Stable' if str(x).startswith('Sta') else 'NF')\n",
    "\n",
    "#stats_df_group = calculate_areas(df, 'stratum', 'accumulated', len(df)*118).sort_index()\n",
    "stats_df = calculate_areas(df, 'stratum', 'ChangeYear', len(df)*118).sort_index()"
   ]
  },
  {
   "cell_type": "code",
   "execution_count": 11,
   "id": "3dca19d0-5080-4597-92e5-06ad43de451b",
   "metadata": {
    "tags": []
   },
   "outputs": [
    {
     "data": {
      "text/html": [
       "<div>\n",
       "<style scoped>\n",
       "    .dataframe tbody tr th:only-of-type {\n",
       "        vertical-align: middle;\n",
       "    }\n",
       "\n",
       "    .dataframe tbody tr th {\n",
       "        vertical-align: top;\n",
       "    }\n",
       "\n",
       "    .dataframe thead th {\n",
       "        text-align: right;\n",
       "    }\n",
       "</style>\n",
       "<table border=\"1\" class=\"dataframe\">\n",
       "  <thead>\n",
       "    <tr style=\"text-align: right;\">\n",
       "      <th></th>\n",
       "      <th>area_stratum_1</th>\n",
       "      <th>ci_stratum_1</th>\n",
       "      <th>area_stratum_2</th>\n",
       "      <th>ci_stratum_2</th>\n",
       "      <th>area_stratum_3</th>\n",
       "      <th>ci_stratum_3</th>\n",
       "      <th>area_total</th>\n",
       "      <th>ci_total</th>\n",
       "      <th>perc_error</th>\n",
       "    </tr>\n",
       "  </thead>\n",
       "  <tbody>\n",
       "    <tr>\n",
       "      <th>Def2016</th>\n",
       "      <td>0.000</td>\n",
       "      <td>0.000</td>\n",
       "      <td>120850.754</td>\n",
       "      <td>76206.858</td>\n",
       "      <td>284442.834</td>\n",
       "      <td>70330.776</td>\n",
       "      <td>405293.588</td>\n",
       "      <td>103701.029</td>\n",
       "      <td>15.321</td>\n",
       "    </tr>\n",
       "    <tr>\n",
       "      <th>Def2017</th>\n",
       "      <td>0.000</td>\n",
       "      <td>0.000</td>\n",
       "      <td>138115.148</td>\n",
       "      <td>81457.217</td>\n",
       "      <td>347652.353</td>\n",
       "      <td>77634.945</td>\n",
       "      <td>485767.500</td>\n",
       "      <td>112527.610</td>\n",
       "      <td>13.871</td>\n",
       "    </tr>\n",
       "    <tr>\n",
       "      <th>Def2018</th>\n",
       "      <td>0.000</td>\n",
       "      <td>0.000</td>\n",
       "      <td>103586.361</td>\n",
       "      <td>70563.661</td>\n",
       "      <td>328689.497</td>\n",
       "      <td>75522.571</td>\n",
       "      <td>432275.858</td>\n",
       "      <td>103358.062</td>\n",
       "      <td>14.317</td>\n",
       "    </tr>\n",
       "    <tr>\n",
       "      <th>Def2019</th>\n",
       "      <td>0.000</td>\n",
       "      <td>0.000</td>\n",
       "      <td>189908.328</td>\n",
       "      <td>95477.147</td>\n",
       "      <td>429824.727</td>\n",
       "      <td>86151.948</td>\n",
       "      <td>619733.055</td>\n",
       "      <td>128600.325</td>\n",
       "      <td>12.426</td>\n",
       "    </tr>\n",
       "    <tr>\n",
       "      <th>Def2020</th>\n",
       "      <td>0.000</td>\n",
       "      <td>0.000</td>\n",
       "      <td>207172.721</td>\n",
       "      <td>99708.730</td>\n",
       "      <td>417182.823</td>\n",
       "      <td>84901.616</td>\n",
       "      <td>624355.544</td>\n",
       "      <td>130958.448</td>\n",
       "      <td>12.560</td>\n",
       "    </tr>\n",
       "    <tr>\n",
       "      <th>Def2021</th>\n",
       "      <td>0.000</td>\n",
       "      <td>0.000</td>\n",
       "      <td>189908.328</td>\n",
       "      <td>95477.147</td>\n",
       "      <td>290763.786</td>\n",
       "      <td>71097.092</td>\n",
       "      <td>480672.114</td>\n",
       "      <td>119040.674</td>\n",
       "      <td>14.830</td>\n",
       "    </tr>\n",
       "    <tr>\n",
       "      <th>Def2022</th>\n",
       "      <td>0.000</td>\n",
       "      <td>0.000</td>\n",
       "      <td>241701.508</td>\n",
       "      <td>107667.709</td>\n",
       "      <td>176986.652</td>\n",
       "      <td>55621.291</td>\n",
       "      <td>418688.160</td>\n",
       "      <td>121186.070</td>\n",
       "      <td>17.332</td>\n",
       "    </tr>\n",
       "    <tr>\n",
       "      <th>Deg2016</th>\n",
       "      <td>0.000</td>\n",
       "      <td>0.000</td>\n",
       "      <td>86321.967</td>\n",
       "      <td>64424.478</td>\n",
       "      <td>290763.786</td>\n",
       "      <td>71097.092</td>\n",
       "      <td>377085.753</td>\n",
       "      <td>95944.306</td>\n",
       "      <td>15.236</td>\n",
       "    </tr>\n",
       "    <tr>\n",
       "      <th>Deg2017</th>\n",
       "      <td>0.000</td>\n",
       "      <td>0.000</td>\n",
       "      <td>51793.180</td>\n",
       "      <td>49916.870</td>\n",
       "      <td>50567.615</td>\n",
       "      <td>29820.897</td>\n",
       "      <td>102360.795</td>\n",
       "      <td>58146.193</td>\n",
       "      <td>34.015</td>\n",
       "    </tr>\n",
       "    <tr>\n",
       "      <th>Deg2018</th>\n",
       "      <td>0.000</td>\n",
       "      <td>0.000</td>\n",
       "      <td>51793.180</td>\n",
       "      <td>49916.870</td>\n",
       "      <td>69530.471</td>\n",
       "      <td>34952.280</td>\n",
       "      <td>121323.651</td>\n",
       "      <td>60937.310</td>\n",
       "      <td>30.076</td>\n",
       "    </tr>\n",
       "    <tr>\n",
       "      <th>Deg2019</th>\n",
       "      <td>0.000</td>\n",
       "      <td>0.000</td>\n",
       "      <td>172643.934</td>\n",
       "      <td>91046.573</td>\n",
       "      <td>101135.230</td>\n",
       "      <td>42122.214</td>\n",
       "      <td>273779.164</td>\n",
       "      <td>100318.290</td>\n",
       "      <td>21.941</td>\n",
       "    </tr>\n",
       "    <tr>\n",
       "      <th>Deg2020</th>\n",
       "      <td>604650.594</td>\n",
       "      <td>1006701.943</td>\n",
       "      <td>69057.574</td>\n",
       "      <td>57631.021</td>\n",
       "      <td>113777.134</td>\n",
       "      <td>44663.847</td>\n",
       "      <td>787485.301</td>\n",
       "      <td>1009338.891</td>\n",
       "      <td>76.750</td>\n",
       "    </tr>\n",
       "    <tr>\n",
       "      <th>Deg2021</th>\n",
       "      <td>0.000</td>\n",
       "      <td>0.000</td>\n",
       "      <td>103586.361</td>\n",
       "      <td>70563.661</td>\n",
       "      <td>63209.519</td>\n",
       "      <td>33330.720</td>\n",
       "      <td>166795.879</td>\n",
       "      <td>78039.523</td>\n",
       "      <td>28.016</td>\n",
       "    </tr>\n",
       "    <tr>\n",
       "      <th>Deg2022</th>\n",
       "      <td>0.000</td>\n",
       "      <td>0.000</td>\n",
       "      <td>86321.967</td>\n",
       "      <td>64424.478</td>\n",
       "      <td>56888.567</td>\n",
       "      <td>31625.068</td>\n",
       "      <td>143210.534</td>\n",
       "      <td>71768.087</td>\n",
       "      <td>30.008</td>\n",
       "    </tr>\n",
       "    <tr>\n",
       "      <th>NF</th>\n",
       "      <td>11488361.285</td>\n",
       "      <td>4140303.819</td>\n",
       "      <td>40053392.787</td>\n",
       "      <td>827858.548</td>\n",
       "      <td>10657124.845</td>\n",
       "      <td>304266.529</td>\n",
       "      <td>62198878.916</td>\n",
       "      <td>4233207.249</td>\n",
       "      <td>4.075</td>\n",
       "    </tr>\n",
       "    <tr>\n",
       "      <th>Stable</th>\n",
       "      <td>87674336.121</td>\n",
       "      <td>4233289.621</td>\n",
       "      <td>20268397.902</td>\n",
       "      <td>810899.052</td>\n",
       "      <td>7332304.164</td>\n",
       "      <td>290085.532</td>\n",
       "      <td>115275038.187</td>\n",
       "      <td>4320005.544</td>\n",
       "      <td>2.244</td>\n",
       "    </tr>\n",
       "  </tbody>\n",
       "</table>\n",
       "</div>"
      ],
      "text/plain": [
       "         area_stratum_1  ci_stratum_1  area_stratum_2  ci_stratum_2  \\\n",
       "Def2016           0.000         0.000      120850.754     76206.858   \n",
       "Def2017           0.000         0.000      138115.148     81457.217   \n",
       "Def2018           0.000         0.000      103586.361     70563.661   \n",
       "Def2019           0.000         0.000      189908.328     95477.147   \n",
       "Def2020           0.000         0.000      207172.721     99708.730   \n",
       "Def2021           0.000         0.000      189908.328     95477.147   \n",
       "Def2022           0.000         0.000      241701.508    107667.709   \n",
       "Deg2016           0.000         0.000       86321.967     64424.478   \n",
       "Deg2017           0.000         0.000       51793.180     49916.870   \n",
       "Deg2018           0.000         0.000       51793.180     49916.870   \n",
       "Deg2019           0.000         0.000      172643.934     91046.573   \n",
       "Deg2020      604650.594   1006701.943       69057.574     57631.021   \n",
       "Deg2021           0.000         0.000      103586.361     70563.661   \n",
       "Deg2022           0.000         0.000       86321.967     64424.478   \n",
       "NF         11488361.285   4140303.819    40053392.787    827858.548   \n",
       "Stable     87674336.121   4233289.621    20268397.902    810899.052   \n",
       "\n",
       "         area_stratum_3  ci_stratum_3    area_total    ci_total  perc_error  \n",
       "Def2016      284442.834     70330.776    405293.588  103701.029      15.321  \n",
       "Def2017      347652.353     77634.945    485767.500  112527.610      13.871  \n",
       "Def2018      328689.497     75522.571    432275.858  103358.062      14.317  \n",
       "Def2019      429824.727     86151.948    619733.055  128600.325      12.426  \n",
       "Def2020      417182.823     84901.616    624355.544  130958.448      12.560  \n",
       "Def2021      290763.786     71097.092    480672.114  119040.674      14.830  \n",
       "Def2022      176986.652     55621.291    418688.160  121186.070      17.332  \n",
       "Deg2016      290763.786     71097.092    377085.753   95944.306      15.236  \n",
       "Deg2017       50567.615     29820.897    102360.795   58146.193      34.015  \n",
       "Deg2018       69530.471     34952.280    121323.651   60937.310      30.076  \n",
       "Deg2019      101135.230     42122.214    273779.164  100318.290      21.941  \n",
       "Deg2020      113777.134     44663.847    787485.301 1009338.891      76.750  \n",
       "Deg2021       63209.519     33330.720    166795.879   78039.523      28.016  \n",
       "Deg2022       56888.567     31625.068    143210.534   71768.087      30.008  \n",
       "NF         10657124.845    304266.529  62198878.916 4233207.249       4.075  \n",
       "Stable      7332304.164    290085.532 115275038.187 4320005.544       2.244  "
      ]
     },
     "execution_count": 11,
     "metadata": {},
     "output_type": "execute_result"
    }
   ],
   "source": [
    "stats_df"
   ]
  },
  {
   "cell_type": "code",
   "execution_count": 12,
   "id": "fd3b1cdf-66b3-4b2f-af10-01e1c8c63a0e",
   "metadata": {
    "tags": []
   },
   "outputs": [
    {
     "data": {
      "text/plain": [
       "Index(['area_stratum_1', 'ci_stratum_1', 'area_stratum_2', 'ci_stratum_2',\n",
       "       'area_stratum_3', 'ci_stratum_3', 'area_total', 'ci_total',\n",
       "       'perc_error', 'ChangeYear'],\n",
       "      dtype='object')"
      ]
     },
     "execution_count": 12,
     "metadata": {},
     "output_type": "execute_result"
    }
   ],
   "source": [
    "stats_df['ChangeYear'] = stats_df.index\n",
    "#stats_df\n",
    "stats_df.columns"
   ]
  },
  {
   "cell_type": "code",
   "execution_count": 13,
   "id": "76d6e335-3d8e-4d0a-b679-e0454fdd333d",
   "metadata": {
    "tags": []
   },
   "outputs": [
    {
     "data": {
      "image/png": "[encoded data removed]",
      "text/plain": [
       "<Figure size 640x480 with 1 Axes>"
      ]
     },
     "metadata": {},
     "output_type": "display_data"
    }
   ],
   "source": [
    "#plot DEF \n",
    "#select the values you want to plot\n",
    "values_to_plot = ['Def2016','Def2017','Def2018','Def2019','Def2020','Def2021','Def2022']\n",
    "\n",
    "# Filter the DataFrame to include only the selected values\n",
    "Def_areas = stats_df[stats_df['ChangeYear'].isin(values_to_plot)]\n",
    "\n",
    "# Create a bar chart\n",
    "ax = Def_areas.plot(kind='bar', x='ChangeYear', y='area_total', legend=False)\n",
    "\n",
    "# Format the y-axis labels with thousand separators (comma)\n",
    "#ax.yaxis.set_major_formatter(mtick.StrMethodFormatter('{:,.0f}'))\n",
    "\n",
    "# Add labels and a title\n",
    "plt.xlabel('Change')\n",
    "plt.ylabel('Ha')\n",
    "plt.title('Area Estimates')\n",
    "plt.bar(Def_areas['ChangeYear'], Def_areas['area_total'], yerr=Def_areas['ci_total'], capsize=5)  # Add error bars\n",
    "\n",
    "# Show the plot\n",
    "plt.show()"
   ]
  },
  {
   "cell_type": "code",
   "execution_count": 14,
   "id": "0573aeda-f8de-4dcc-bb36-ce0aa5f468f0",
   "metadata": {
    "tags": []
   },
   "outputs": [
    {
     "data": {
      "image/png": "[encoded data removed]",
      "text/plain": [
       "<Figure size 640x480 with 1 Axes>"
      ]
     },
     "metadata": {},
     "output_type": "display_data"
    }
   ],
   "source": [
    "#plot DEG \n",
    "#select the values you want to plot\n",
    "values_to_plot = ['Deg2016','Deg2017','Deg2018','Deg2019','Deg2020','Deg2021','Deg2022']\n",
    "\n",
    "# Filter the DataFrame to include only the selected values\n",
    "Deg_areas = stats_df[stats_df['ChangeYear'].isin(values_to_plot)]\n",
    "\n",
    "# Create a bar chart\n",
    "ax = Deg_areas.plot(kind='bar', x='ChangeYear', y='area_total', legend=False)\n",
    "\n",
    "# Format the y-axis labels with thousand separators (comma)\n",
    "#ax.yaxis.set_major_formatter(mtick.StrMethodFormatter('{:,.0f}'))\n",
    "\n",
    "# Add labels and a title\n",
    "plt.xlabel('Change')\n",
    "plt.ylabel('Ha')\n",
    "plt.title('Area Estimates')\n",
    "plt.bar(Deg_areas['ChangeYear'], Deg_areas['area_total'], yerr=Deg_areas['ci_total'], capsize=5)  # Add error bars\n",
    "# Show the plot\n",
    "plt.show()"
   ]
  },
  {
   "cell_type": "markdown",
   "id": "548c9e49-34c6-46ac-bc56-2f9446ab4f42",
   "metadata": {},
   "source": [
    "### export stats to csv"
   ]
  },
  {
   "cell_type": "code",
   "execution_count": null,
   "id": "0db9c0d0-96b3-4e64-a56b-81454138e8a1",
   "metadata": {},
   "outputs": [],
   "source": [
    "grouped_out =  '/home/sepal-user/module_results/esbae/DRC/DRC_total_stats_2015_2022.csv'\n",
    "stats_gdf.to_csv(grouped_out,index=True)"
   ]
  },
  {
   "cell_type": "code",
   "execution_count": null,
   "id": "aecb609d-dd99-415e-a633-fbe29e5ed66f",
   "metadata": {},
   "outputs": [],
   "source": [
    "annual_out =  '/home/sepal-user/module_results/esbae/DRC/DRC_annual_stats_2015_2022.csv'\n",
    "stats_df.to_csv(annual_out,index=True)"
   ]
  }
 ],
 "metadata": {
  "kernelspec": {
   "display_name": "Python 3",
   "language": "python",
   "name": "python3"
  },
  "language_info": {
   "codemirror_mode": {
    "name": "ipython",
    "version": 3
   },
   "file_extension": ".py",
   "mimetype": "text/x-python",
   "name": "python",
   "nbconvert_exporter": "python",
   "pygments_lexer": "ipython3",
   "version": "3.8.10"
  }
 },
 "nbformat": 4,
 "nbformat_minor": 5
}
