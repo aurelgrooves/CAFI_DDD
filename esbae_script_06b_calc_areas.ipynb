{
 "cells": [
  {
   "cell_type": "markdown",
   "id": "54888318-08a9-408f-ba85-7bbcfa38f1b7",
   "metadata": {
    "tags": []
   },
   "source": [
    "# V - Calculating areas of change and confidence intervals\n",
    "### This script serves to perform a quick estimation of areas and confidence intervals for all types of change using validated data\n",
    "### This script requires a m4 instance\n",
    "###### For more information contact aurelie.shapiro@fao.org or remi.dannunzio@fao.org"
   ]
  },
  {
   "cell_type": "code",
   "execution_count": null,
   "id": "ca0aabc4-ea60-48ec-bd1c-c4fb4b63d0e9",
   "metadata": {
    "tags": []
   },
   "outputs": [],
   "source": [
    "import pandas as pd\n",
    "import numpy as np\n",
    "import seaborn as sns\n",
    "from matplotlib import pyplot as plt\n",
    "import matplotlib.ticker as mticker"
   ]
  },
  {
   "cell_type": "markdown",
   "id": "f403562c-5836-4703-9ca4-1e2701df272a",
   "metadata": {},
   "source": [
    "### 1 - Read files and set parameters"
   ]
  },
  {
   "cell_type": "code",
   "execution_count": null,
   "id": "a377e056",
   "metadata": {},
   "outputs": [],
   "source": [
    "z_score = 1.647"
   ]
  },
  {
   "cell_type": "code",
   "execution_count": 2,
   "id": "bc5e5cde-83f5-4b85-a216-a53e1a9951be",
   "metadata": {
    "tags": []
   },
   "outputs": [],
   "source": [
    "def calculate_areas(df_merged, kozak_column, target_column, total_area):\n",
    "    \n",
    "    df_full = df_merged.copy()\n",
    "    df_merged = df_merged[df_merged['interpreted'] == 1]\n",
    "    \n",
    "    # get all attributes\n",
    "    categories = df_merged[target_column].unique()\n",
    "    print(categories)\n",
    "    # get strata\n",
    "    strata, d = df_merged[kozak_column].unique(), {}\n",
    "    \n",
    "    # create stats for each entry\n",
    "    for category in categories:\n",
    "        \n",
    "        if str(category) == 'nan':\n",
    "            continue\n",
    "            \n",
    "        print(f' Calculating stats for {category}')\n",
    "        # create binary class column\n",
    "        df_merged[category] = df_merged[target_column].apply(lambda x: 1 if x == category else 0)\n",
    "        print(f'There are {df_merged[category].sum()} entries of {category} in {target_column}.')\n",
    "        \n",
    "        # initialize variables for category\n",
    "        categories_area, se_total = 0, 0\n",
    "        d2 = {}\n",
    "        for stratum in strata:\n",
    "                        \n",
    "            if str(stratum) == 'nan':\n",
    "                continue\n",
    "            \n",
    "            # subset to stratum\n",
    "            strat_df = df_full[df_full[kozak_column] == stratum]\n",
    "            \n",
    "            # get area proportion for that stratum on full dataset\n",
    "            proportion_strata = len(strat_df)/len(df_full)\n",
    "\n",
    "            # get stratum area\n",
    "            stratum_area = proportion_strata * total_area\n",
    "\n",
    "            # get proportion of forest change within strata from interpreted data\n",
    "            proportion_category = len(\n",
    "                df_merged[(df_merged[kozak_column] == stratum) & (df_merged[category] == 1)]\n",
    "            ) / len(\n",
    "                df_merged[df_merged[kozak_column] == stratum]\n",
    "            )\n",
    "            \n",
    "            # get area from proportion and full area\n",
    "            area = proportion_category * stratum_area\n",
    "\n",
    "            # get error from interpreted data for full stratum area\n",
    "            var = np.var(df_merged[category][df_merged[kozak_column] == stratum]) / len(df_merged[df_merged[kozak_column] == stratum])\n",
    "            se = np.sqrt(var) * stratum_area\n",
    "\n",
    "            # add for totals\n",
    "            categories_area += area\n",
    "            se_total += se**2\n",
    "            \n",
    "            # add to dictionary\n",
    "            d2[f'area_stratum_{stratum}'] = area\n",
    "            d2[f'ci_stratum_{stratum}']=1.67*se\n",
    "        \n",
    "        d2['area_total'] = categories_area\n",
    "        d2['ci_total'] = z_score*np.sqrt(se_total)\n",
    "        d2['perc_error'] = np.sqrt(se_total) / categories_area * 100\n",
    "        d[category] = d2\n",
    "    \n",
    "    \n",
    "    return pd.DataFrame.from_dict(d, orient='index')"
   ]
  },
  {
   "cell_type": "markdown",
   "id": "4e1cd21c-9b5e-43fb-99c2-0592756193ac",
   "metadata": {},
   "source": [
    "### read the output merged file from the previous script"
   ]
  },
  {
   "cell_type": "code",
   "execution_count": 3,
   "id": "0591a759-56ac-4ea7-a6da-cda8e8518cd1",
   "metadata": {
    "tags": []
   },
   "outputs": [],
   "source": [
    "#DRC\n",
    "#df = pd.read_csv('/home/sepal-user/module_results/esbae/DRC/DRC_esbae_ceo_merge.csv', low_memory=False)\n",
    "#GAB\n",
    "df = pd.read_csv('/home/sepal-user/module_results/esbae/GAB/GAB_esbae_ceo_merge.csv', low_memory=False)"
   ]
  },
  {
   "cell_type": "code",
   "execution_count": 4,
   "id": "f695ee7f-251b-401c-9398-da6b0b62591e",
   "metadata": {
    "tags": []
   },
   "outputs": [
    {
     "name": "stdout",
     "output_type": "stream",
     "text": [
      "['images' 'mon_images' 'bfast_change_date' 'bfast_magnitude' 'bfast_means'\n",
      " 'cusum_change_date' 'cusum_confidence' 'cusum_magnitude' 'red_mean'\n",
      " 'red_sd' 'red_min' 'red_max' 'nir_mean' 'nir_sd' 'nir_min' 'nir_max'\n",
      " 'swir1_mean' 'swir1_sd' 'swir1_min' 'swir1_max' 'swir2_mean' 'swir2_sd'\n",
      " 'swir2_min' 'swir2_max' 'ndfi_mean' 'ndfi_sd' 'ndfi_min' 'ndfi_max'\n",
      " 'brightness_mean' 'brightness_sd' 'brightness_min' 'brightness_max'\n",
      " 'greenness_mean' 'greenness_sd' 'greenness_min' 'greenness_max'\n",
      " 'wetness_mean' 'wetness_sd' 'wetness_min' 'wetness_max' 'bs_slope_mean'\n",
      " 'bs_slope_sd' 'bs_slope_max' 'bs_slope_min' 'ccdc_change_date'\n",
      " 'ccdc_magnitude' 'aspect' 'dw_class_mode' 'dw_tree_prob__max'\n",
      " 'dw_tree_prob__min' 'dw_tree_prob__stdDev' 'dw_tree_prob_mean'\n",
      " 'elevation' 'esa_lc20' 'esa_lc21' 'esri_lc17' 'esri_lc18' 'esri_lc19'\n",
      " 'esri_lc20' 'esri_lc21' 'gfc_gain' 'gfc_loss' 'gfc_lossyear' 'gfc_tc00'\n",
      " 'lang_tree_height' 'potapov_tree_height' 'slope' 'tmf_2016' 'tmf_2017'\n",
      " 'tmf_2018' 'tmf_2019' 'tmf_2020' 'tmf_defyear' 'tmf_degyear' 'tmf_main'\n",
      " 'tmf_sub' 'geometry' 'point_id' 'cnc_1520' 'chg_prob' 'simple_combined'\n",
      " 'stratum' 'kmeans' 'plotid' 'lon' 'lat' 'Unnamed: 0' 'sampleid' 'email'\n",
      " 'flagged' 'collection_time' 'analysis_duration' 'sample_geom'\n",
      " 'Ref_FNF_2015' 'Ref_regeneration' 'Ref_Change_1522'\n",
      " 'Ref_Change_Type_1522' 'ArtFor' 'ArtMine' 'InfraR' 'Urb' 'IndFor' 'Other'\n",
      " 'Other_Desc' 'IndMine' 'IndAg' 'ArtAg' 'Ref_Year' 'Ref_NFType'\n",
      " 'Ref_FType' 'Commentaires' 'collection' 'interpreted'\n",
      " 'Ref_Change_Year_1522' 'Def2016' 'Def2017' 'Def2018' 'Def2019' 'Def2020'\n",
      " 'Def2021' 'Def2022' 'Deg2016' 'Deg2017' 'Deg2018' 'Deg2019' 'Deg2020'\n",
      " 'Deg2021' 'Deg2022' 'Defall' 'Degall' 'Stable' 'NF']\n"
     ]
    }
   ],
   "source": [
    "print(df.columns.values)"
   ]
  },
  {
   "cell_type": "code",
   "execution_count": 5,
   "id": "8a63c349-c66a-4140-966d-f2dd175f8958",
   "metadata": {
    "tags": []
   },
   "outputs": [
    {
     "name": "stdout",
     "output_type": "stream",
     "text": [
      "222878\n"
     ]
    }
   ],
   "source": [
    "print(len(df))"
   ]
  },
  {
   "cell_type": "code",
   "execution_count": 7,
   "id": "f0deec23",
   "metadata": {
    "tags": []
   },
   "outputs": [
    {
     "name": "stdout",
     "output_type": "stream",
     "text": [
      "Def2016      21\n",
      "Def2017      13\n",
      "Def2018       7\n",
      "Def2019       2\n",
      "Def2020       6\n",
      "Def2021       7\n",
      "Def2022      13\n",
      "Deg2016      14\n",
      "Deg2017      14\n",
      "Deg2018      23\n",
      "Deg2019      16\n",
      "Deg2020      26\n",
      "Deg2021      22\n",
      "Deg2022      37\n",
      "NF         1204\n",
      "Stable     4621\n",
      "Name: Ref_Change_Year_1522, dtype: int64\n"
     ]
    }
   ],
   "source": [
    "value_counts = df['Ref_Change_Year_1522'].value_counts().sort_index()\n",
    "print(value_counts)"
   ]
  },
  {
   "cell_type": "markdown",
   "id": "120aa5ff",
   "metadata": {},
   "source": [
    "#### enter area of study in ha calculated in GIS or from LSIB for country or area of interest"
   ]
  },
  {
   "cell_type": "code",
   "execution_count": 8,
   "id": "7c421728",
   "metadata": {
    "tags": []
   },
   "outputs": [],
   "source": [
    "#DRC forest mask applied\n",
    "#study_area = 62009300\n",
    "#CMR forest mask applied\n",
    "#study_area = 39709141\n",
    "#GAB\n",
    "study_area = 26287600\n",
    "#EQG\n",
    "#study_area = 2685800\n",
    "#COG\n",
    "#study_area = 25361094\n",
    "#CAR forest mask applied\n",
    "#study_area = 58889539\n"
   ]
  },
  {
   "cell_type": "markdown",
   "id": "76749e27-5558-4a02-8b4a-11023bb83c38",
   "metadata": {},
   "source": [
    "### calculate for all years"
   ]
  },
  {
   "cell_type": "code",
   "execution_count": 21,
   "id": "700b7fb9-141d-4d28-868b-c654289c0251",
   "metadata": {
    "tags": []
   },
   "outputs": [
    {
     "name": "stdout",
     "output_type": "stream",
     "text": [
      "['Stable' 'NF' 'Degradation' 'Deforestation']\n",
      " Calculating stats for Stable\n",
      "There are 4621 entries of Stable in accumulated.\n",
      " Calculating stats for NF\n",
      "There are 1204 entries of NF in accumulated.\n"
     ]
    },
    {
     "name": "stderr",
     "output_type": "stream",
     "text": [
      "/tmp/ipykernel_684/3839375425.py:20: SettingWithCopyWarning: \n",
      "A value is trying to be set on a copy of a slice from a DataFrame.\n",
      "Try using .loc[row_indexer,col_indexer] = value instead\n",
      "\n",
      "See the caveats in the documentation: https://pandas.pydata.org/pandas-docs/stable/user_guide/indexing.html#returning-a-view-versus-a-copy\n",
      "  df_merged[category] = df_merged[target_column].apply(lambda x: 1 if x == category else 0)\n"
     ]
    },
    {
     "name": "stdout",
     "output_type": "stream",
     "text": [
      " Calculating stats for Degradation\n",
      "There are 152 entries of Degradation in accumulated.\n",
      " Calculating stats for Deforestation\n",
      "There are 69 entries of Deforestation in accumulated.\n"
     ]
    },
    {
     "name": "stderr",
     "output_type": "stream",
     "text": [
      "/tmp/ipykernel_684/3839375425.py:20: SettingWithCopyWarning: \n",
      "A value is trying to be set on a copy of a slice from a DataFrame.\n",
      "Try using .loc[row_indexer,col_indexer] = value instead\n",
      "\n",
      "See the caveats in the documentation: https://pandas.pydata.org/pandas-docs/stable/user_guide/indexing.html#returning-a-view-versus-a-copy\n",
      "  df_merged[category] = df_merged[target_column].apply(lambda x: 1 if x == category else 0)\n",
      "/tmp/ipykernel_684/3839375425.py:20: SettingWithCopyWarning: \n",
      "A value is trying to be set on a copy of a slice from a DataFrame.\n",
      "Try using .loc[row_indexer,col_indexer] = value instead\n",
      "\n",
      "See the caveats in the documentation: https://pandas.pydata.org/pandas-docs/stable/user_guide/indexing.html#returning-a-view-versus-a-copy\n",
      "  df_merged[category] = df_merged[target_column].apply(lambda x: 1 if x == category else 0)\n"
     ]
    }
   ],
   "source": [
    "interpreted = [\n",
    "    'Def2016', 'Def2017', 'Def2018', 'Def2019', 'Def2020', 'Def2021', 'Def2022',\n",
    "    'Deg2016', 'Deg2017', 'Deg2018', 'Deg2019', 'Deg2020', 'Deg2021',\n",
    "    'Deg2022', 'NF', 'Stable'\n",
    "]\n",
    "\n",
    "#df['interpreted'] = df['ChangeYear'].apply(lambda x: 1 if str(x) in interpreted else 0)\n",
    "df['accumulated'] = df['Ref_Change_Year_1522'].apply(\n",
    "    lambda x: 'Deforestation' if str(x).startswith('Def') else 'Degradation' if str(x).startswith('Deg') else 'Stable' if str(x).startswith('Sta') else 'NF'if str(x).startswith('NF') else \"0\")\n",
    "stats_gdf = calculate_areas(df, 'stratum', 'accumulated', study_area).sort_index()"
   ]
  },
  {
   "cell_type": "code",
   "execution_count": 22,
   "id": "8b7ae294-a474-40ea-be09-58958a189cc6",
   "metadata": {
    "tags": []
   },
   "outputs": [
    {
     "data": {
      "text/plain": [
       "(array(['0', 'Deforestation', 'Degradation', 'NF', 'Stable'], dtype=object),\n",
       " array([216832,     69,    152,   1204,   4621]))"
      ]
     },
     "execution_count": 22,
     "metadata": {},
     "output_type": "execute_result"
    }
   ],
   "source": [
    "np.unique(df['accumulated'], return_counts=True)"
   ]
  },
  {
   "cell_type": "code",
   "execution_count": 23,
   "id": "1043d8e0-9d8c-4ed1-af27-dd8a13878b14",
   "metadata": {
    "tags": []
   },
   "outputs": [],
   "source": [
    "pd.set_option('display.float_format', lambda x: '%.3f' % x)\n",
    "stats_gdf[['area_total', 'ci_total', 'perc_error']]\n",
    "stats_gdf['ChangeYear'] = stats_gdf.index"
   ]
  },
  {
   "cell_type": "code",
   "execution_count": 25,
   "id": "bbd1fe68-6aee-48e2-a3c6-3b9068737ca2",
   "metadata": {
    "tags": []
   },
   "outputs": [
    {
     "data": {
      "text/html": [
       "<div>\n",
       "<style scoped>\n",
       "    .dataframe tbody tr th:only-of-type {\n",
       "        vertical-align: middle;\n",
       "    }\n",
       "\n",
       "    .dataframe tbody tr th {\n",
       "        vertical-align: top;\n",
       "    }\n",
       "\n",
       "    .dataframe thead th {\n",
       "        text-align: right;\n",
       "    }\n",
       "</style>\n",
       "<table border=\"1\" class=\"dataframe\">\n",
       "  <thead>\n",
       "    <tr style=\"text-align: right;\">\n",
       "      <th></th>\n",
       "      <th>area_stratum_1</th>\n",
       "      <th>ci_stratum_1</th>\n",
       "      <th>area_stratum_2</th>\n",
       "      <th>ci_stratum_2</th>\n",
       "      <th>area_stratum_3</th>\n",
       "      <th>ci_stratum_3</th>\n",
       "      <th>area_total</th>\n",
       "      <th>ci_total</th>\n",
       "      <th>perc_error</th>\n",
       "      <th>ChangeYear</th>\n",
       "    </tr>\n",
       "  </thead>\n",
       "  <tbody>\n",
       "    <tr>\n",
       "      <th>Deforestation</th>\n",
       "      <td>37427.183</td>\n",
       "      <td>36053.210</td>\n",
       "      <td>16901.809</td>\n",
       "      <td>8909.841</td>\n",
       "      <td>40969.632</td>\n",
       "      <td>8983.694</td>\n",
       "      <td>95298.624</td>\n",
       "      <td>38208.978</td>\n",
       "      <td>24.008</td>\n",
       "      <td>Deforestation</td>\n",
       "    </tr>\n",
       "    <tr>\n",
       "      <th>Degradation</th>\n",
       "      <td>49902.911</td>\n",
       "      <td>41617.897</td>\n",
       "      <td>47325.065</td>\n",
       "      <td>14860.671</td>\n",
       "      <td>87792.068</td>\n",
       "      <td>12879.253</td>\n",
       "      <td>185020.044</td>\n",
       "      <td>46030.034</td>\n",
       "      <td>14.897</td>\n",
       "      <td>Degradation</td>\n",
       "    </tr>\n",
       "    <tr>\n",
       "      <th>NF</th>\n",
       "      <td>1759077.619</td>\n",
       "      <td>236480.751</td>\n",
       "      <td>1091856.850</td>\n",
       "      <td>62889.219</td>\n",
       "      <td>305077.438</td>\n",
       "      <td>21504.365</td>\n",
       "      <td>3156011.906</td>\n",
       "      <td>245643.313</td>\n",
       "      <td>4.661</td>\n",
       "      <td>NF</td>\n",
       "    </tr>\n",
       "    <tr>\n",
       "      <th>Stable</th>\n",
       "      <td>18538931.502</td>\n",
       "      <td>241711.102</td>\n",
       "      <td>3559520.938</td>\n",
       "      <td>64136.431</td>\n",
       "      <td>752816.986</td>\n",
       "      <td>23697.368</td>\n",
       "      <td>22851269.425</td>\n",
       "      <td>251195.748</td>\n",
       "      <td>0.658</td>\n",
       "      <td>Stable</td>\n",
       "    </tr>\n",
       "  </tbody>\n",
       "</table>\n",
       "</div>"
      ],
      "text/plain": [
       "               area_stratum_1  ci_stratum_1  area_stratum_2  ci_stratum_2  \\\n",
       "Deforestation       37427.183     36053.210       16901.809      8909.841   \n",
       "Degradation         49902.911     41617.897       47325.065     14860.671   \n",
       "NF                1759077.619    236480.751     1091856.850     62889.219   \n",
       "Stable           18538931.502    241711.102     3559520.938     64136.431   \n",
       "\n",
       "               area_stratum_3  ci_stratum_3   area_total   ci_total  \\\n",
       "Deforestation       40969.632      8983.694    95298.624  38208.978   \n",
       "Degradation         87792.068     12879.253   185020.044  46030.034   \n",
       "NF                 305077.438     21504.365  3156011.906 245643.313   \n",
       "Stable             752816.986     23697.368 22851269.425 251195.748   \n",
       "\n",
       "               perc_error     ChangeYear  \n",
       "Deforestation      24.008  Deforestation  \n",
       "Degradation        14.897    Degradation  \n",
       "NF                  4.661             NF  \n",
       "Stable              0.658         Stable  "
      ]
     },
     "execution_count": 25,
     "metadata": {},
     "output_type": "execute_result"
    }
   ],
   "source": [
    "stats_gdf"
   ]
  },
  {
   "cell_type": "markdown",
   "id": "30db8a0f-6fcb-421d-8270-27d15ed99c4c",
   "metadata": {},
   "source": [
    "### calculate for each year"
   ]
  },
  {
   "cell_type": "code",
   "execution_count": 16,
   "id": "20322007-4cc8-4f06-8871-8228c0d0e725",
   "metadata": {
    "tags": []
   },
   "outputs": [
    {
     "name": "stdout",
     "output_type": "stream",
     "text": [
      "['Stable' 'NF' 'Deg2021' 'Deg2019' 'Deg2018' 'Def2016' 'Def2022' 'Def2020'\n",
      " 'Deg2022' 'Deg2016' 'Deg2020' 'Def2017' 'Deg2017' 'Def2021' 'Def2018'\n",
      " 'Def2019']\n",
      " Calculating stats for Stable\n",
      "There are 4621 entries of Stable in Ref_Change_Year_1522.\n",
      " Calculating stats for NF\n",
      "There are 1204 entries of NF in Ref_Change_Year_1522.\n"
     ]
    },
    {
     "name": "stderr",
     "output_type": "stream",
     "text": [
      "/tmp/ipykernel_684/3839375425.py:20: SettingWithCopyWarning: \n",
      "A value is trying to be set on a copy of a slice from a DataFrame.\n",
      "Try using .loc[row_indexer,col_indexer] = value instead\n",
      "\n",
      "See the caveats in the documentation: https://pandas.pydata.org/pandas-docs/stable/user_guide/indexing.html#returning-a-view-versus-a-copy\n",
      "  df_merged[category] = df_merged[target_column].apply(lambda x: 1 if x == category else 0)\n"
     ]
    },
    {
     "name": "stdout",
     "output_type": "stream",
     "text": [
      " Calculating stats for Deg2021\n",
      "There are 22 entries of Deg2021 in Ref_Change_Year_1522.\n",
      " Calculating stats for Deg2019\n",
      "There are 16 entries of Deg2019 in Ref_Change_Year_1522.\n",
      " Calculating stats for Deg2018\n",
      "There are 23 entries of Deg2018 in Ref_Change_Year_1522.\n",
      " Calculating stats for Def2016\n",
      "There are 21 entries of Def2016 in Ref_Change_Year_1522.\n",
      " Calculating stats for Def2022\n",
      "There are 13 entries of Def2022 in Ref_Change_Year_1522.\n",
      " Calculating stats for Def2020\n",
      "There are 6 entries of Def2020 in Ref_Change_Year_1522.\n",
      " Calculating stats for Deg2022\n",
      "There are 37 entries of Deg2022 in Ref_Change_Year_1522.\n",
      " Calculating stats for Deg2016\n",
      "There are 14 entries of Deg2016 in Ref_Change_Year_1522.\n",
      " Calculating stats for Deg2020\n",
      "There are 26 entries of Deg2020 in Ref_Change_Year_1522.\n",
      " Calculating stats for Def2017\n",
      "There are 13 entries of Def2017 in Ref_Change_Year_1522.\n",
      " Calculating stats for Deg2017\n",
      "There are 14 entries of Deg2017 in Ref_Change_Year_1522.\n",
      " Calculating stats for Def2021\n",
      "There are 7 entries of Def2021 in Ref_Change_Year_1522.\n",
      " Calculating stats for Def2018\n",
      "There are 7 entries of Def2018 in Ref_Change_Year_1522.\n",
      " Calculating stats for Def2019\n",
      "There are 2 entries of Def2019 in Ref_Change_Year_1522.\n"
     ]
    }
   ],
   "source": [
    "interpreted = [\n",
    "    'Def2016', 'Def2017', 'Def2018', 'Def2019', 'Def2020', 'Def2021', 'Def2022',\n",
    "    'Deg2016', 'Deg2017', 'Deg2018', 'Deg2019', 'Deg2020', 'Deg2021',\n",
    "    'Deg2022', 'NF', 'Stable'\n",
    "]\n",
    "\n",
    "df['interpreted'] = df['Ref_Change_Year_1522'].apply(lambda x: 1 if str(x) in interpreted else 0)\n",
    "#df['accumulated'] = df['ChangeYear'].apply(\n",
    "#    lambda x: 'Deforestation' if str(x).startswith('Def') else 'Degradation' if str(x).startswith('Deg') else 'Stable' if str(x).startswith('Sta') else 'NF')\n",
    "\n",
    "stats_df = calculate_areas(df, 'stratum', 'Ref_Change_Year_1522', study_area).sort_index()"
   ]
  },
  {
   "cell_type": "code",
   "execution_count": 17,
   "id": "3dca19d0-5080-4597-92e5-06ad43de451b",
   "metadata": {
    "tags": []
   },
   "outputs": [
    {
     "data": {
      "text/html": [
       "<div>\n",
       "<style scoped>\n",
       "    .dataframe tbody tr th:only-of-type {\n",
       "        vertical-align: middle;\n",
       "    }\n",
       "\n",
       "    .dataframe tbody tr th {\n",
       "        vertical-align: top;\n",
       "    }\n",
       "\n",
       "    .dataframe thead th {\n",
       "        text-align: right;\n",
       "    }\n",
       "</style>\n",
       "<table border=\"1\" class=\"dataframe\">\n",
       "  <thead>\n",
       "    <tr style=\"text-align: right;\">\n",
       "      <th></th>\n",
       "      <th>area_stratum_1</th>\n",
       "      <th>ci_stratum_1</th>\n",
       "      <th>area_stratum_2</th>\n",
       "      <th>ci_stratum_2</th>\n",
       "      <th>area_stratum_3</th>\n",
       "      <th>ci_stratum_3</th>\n",
       "      <th>area_total</th>\n",
       "      <th>ci_total</th>\n",
       "      <th>perc_error</th>\n",
       "    </tr>\n",
       "  </thead>\n",
       "  <tbody>\n",
       "    <tr>\n",
       "      <th>Def2016</th>\n",
       "      <td>0.000</td>\n",
       "      <td>0.000</td>\n",
       "      <td>3380.362</td>\n",
       "      <td>3990.331</td>\n",
       "      <td>13900.411</td>\n",
       "      <td>5294.301</td>\n",
       "      <td>17280.773</td>\n",
       "      <td>6629.658</td>\n",
       "      <td>22.973</td>\n",
       "    </tr>\n",
       "    <tr>\n",
       "      <th>Def2017</th>\n",
       "      <td>0.000</td>\n",
       "      <td>0.000</td>\n",
       "      <td>5070.543</td>\n",
       "      <td>4886.261</td>\n",
       "      <td>7316.006</td>\n",
       "      <td>3851.657</td>\n",
       "      <td>12386.548</td>\n",
       "      <td>6221.801</td>\n",
       "      <td>30.078</td>\n",
       "    </tr>\n",
       "    <tr>\n",
       "      <th>Def2018</th>\n",
       "      <td>0.000</td>\n",
       "      <td>0.000</td>\n",
       "      <td>0.000</td>\n",
       "      <td>0.000</td>\n",
       "      <td>5121.204</td>\n",
       "      <td>3225.525</td>\n",
       "      <td>5121.204</td>\n",
       "      <td>3225.525</td>\n",
       "      <td>37.715</td>\n",
       "    </tr>\n",
       "    <tr>\n",
       "      <th>Def2019</th>\n",
       "      <td>0.000</td>\n",
       "      <td>0.000</td>\n",
       "      <td>0.000</td>\n",
       "      <td>0.000</td>\n",
       "      <td>1463.201</td>\n",
       "      <td>1726.782</td>\n",
       "      <td>1463.201</td>\n",
       "      <td>1726.782</td>\n",
       "      <td>70.667</td>\n",
       "    </tr>\n",
       "    <tr>\n",
       "      <th>Def2020</th>\n",
       "      <td>0.000</td>\n",
       "      <td>0.000</td>\n",
       "      <td>3380.362</td>\n",
       "      <td>3990.331</td>\n",
       "      <td>2926.402</td>\n",
       "      <td>2440.531</td>\n",
       "      <td>6306.764</td>\n",
       "      <td>4677.492</td>\n",
       "      <td>44.411</td>\n",
       "    </tr>\n",
       "    <tr>\n",
       "      <th>Def2021</th>\n",
       "      <td>0.000</td>\n",
       "      <td>0.000</td>\n",
       "      <td>3380.362</td>\n",
       "      <td>3990.331</td>\n",
       "      <td>3658.003</td>\n",
       "      <td>2727.753</td>\n",
       "      <td>7038.365</td>\n",
       "      <td>4833.568</td>\n",
       "      <td>41.123</td>\n",
       "    </tr>\n",
       "    <tr>\n",
       "      <th>Def2022</th>\n",
       "      <td>37427.183</td>\n",
       "      <td>36053.210</td>\n",
       "      <td>1690.181</td>\n",
       "      <td>2822.096</td>\n",
       "      <td>6584.405</td>\n",
       "      <td>3655.136</td>\n",
       "      <td>45701.769</td>\n",
       "      <td>36347.740</td>\n",
       "      <td>47.624</td>\n",
       "    </tr>\n",
       "    <tr>\n",
       "      <th>Deg2016</th>\n",
       "      <td>0.000</td>\n",
       "      <td>0.000</td>\n",
       "      <td>5070.543</td>\n",
       "      <td>4886.261</td>\n",
       "      <td>8047.606</td>\n",
       "      <td>4038.399</td>\n",
       "      <td>13118.149</td>\n",
       "      <td>6339.102</td>\n",
       "      <td>28.936</td>\n",
       "    </tr>\n",
       "    <tr>\n",
       "      <th>Deg2017</th>\n",
       "      <td>0.000</td>\n",
       "      <td>0.000</td>\n",
       "      <td>1690.181</td>\n",
       "      <td>2822.096</td>\n",
       "      <td>9510.807</td>\n",
       "      <td>4387.476</td>\n",
       "      <td>11200.988</td>\n",
       "      <td>5216.721</td>\n",
       "      <td>27.888</td>\n",
       "    </tr>\n",
       "    <tr>\n",
       "      <th>Deg2018</th>\n",
       "      <td>0.000</td>\n",
       "      <td>0.000</td>\n",
       "      <td>3380.362</td>\n",
       "      <td>3990.331</td>\n",
       "      <td>15363.612</td>\n",
       "      <td>5562.505</td>\n",
       "      <td>18743.974</td>\n",
       "      <td>6845.743</td>\n",
       "      <td>21.870</td>\n",
       "    </tr>\n",
       "    <tr>\n",
       "      <th>Deg2019</th>\n",
       "      <td>0.000</td>\n",
       "      <td>0.000</td>\n",
       "      <td>3380.362</td>\n",
       "      <td>3990.331</td>\n",
       "      <td>10242.408</td>\n",
       "      <td>4551.684</td>\n",
       "      <td>13622.770</td>\n",
       "      <td>6053.146</td>\n",
       "      <td>26.607</td>\n",
       "    </tr>\n",
       "    <tr>\n",
       "      <th>Deg2020</th>\n",
       "      <td>12475.728</td>\n",
       "      <td>20828.089</td>\n",
       "      <td>6760.724</td>\n",
       "      <td>5641.156</td>\n",
       "      <td>15363.612</td>\n",
       "      <td>5562.505</td>\n",
       "      <td>34600.063</td>\n",
       "      <td>22283.927</td>\n",
       "      <td>38.565</td>\n",
       "    </tr>\n",
       "    <tr>\n",
       "      <th>Deg2021</th>\n",
       "      <td>0.000</td>\n",
       "      <td>0.000</td>\n",
       "      <td>8450.904</td>\n",
       "      <td>6305.872</td>\n",
       "      <td>12437.210</td>\n",
       "      <td>5011.031</td>\n",
       "      <td>20888.114</td>\n",
       "      <td>8054.468</td>\n",
       "      <td>23.090</td>\n",
       "    </tr>\n",
       "    <tr>\n",
       "      <th>Deg2022</th>\n",
       "      <td>37427.183</td>\n",
       "      <td>36053.210</td>\n",
       "      <td>18591.990</td>\n",
       "      <td>9343.039</td>\n",
       "      <td>16826.813</td>\n",
       "      <td>5817.726</td>\n",
       "      <td>72845.986</td>\n",
       "      <td>37695.786</td>\n",
       "      <td>30.986</td>\n",
       "    </tr>\n",
       "    <tr>\n",
       "      <th>NF</th>\n",
       "      <td>1759077.619</td>\n",
       "      <td>236480.751</td>\n",
       "      <td>1091856.850</td>\n",
       "      <td>62889.219</td>\n",
       "      <td>305077.438</td>\n",
       "      <td>21504.365</td>\n",
       "      <td>3156011.906</td>\n",
       "      <td>245643.313</td>\n",
       "      <td>4.661</td>\n",
       "    </tr>\n",
       "    <tr>\n",
       "      <th>Stable</th>\n",
       "      <td>18538931.502</td>\n",
       "      <td>241711.102</td>\n",
       "      <td>3559520.938</td>\n",
       "      <td>64136.431</td>\n",
       "      <td>752816.986</td>\n",
       "      <td>23697.368</td>\n",
       "      <td>22851269.425</td>\n",
       "      <td>251195.748</td>\n",
       "      <td>0.658</td>\n",
       "    </tr>\n",
       "  </tbody>\n",
       "</table>\n",
       "</div>"
      ],
      "text/plain": [
       "         area_stratum_1  ci_stratum_1  area_stratum_2  ci_stratum_2  \\\n",
       "Def2016           0.000         0.000        3380.362      3990.331   \n",
       "Def2017           0.000         0.000        5070.543      4886.261   \n",
       "Def2018           0.000         0.000           0.000         0.000   \n",
       "Def2019           0.000         0.000           0.000         0.000   \n",
       "Def2020           0.000         0.000        3380.362      3990.331   \n",
       "Def2021           0.000         0.000        3380.362      3990.331   \n",
       "Def2022       37427.183     36053.210        1690.181      2822.096   \n",
       "Deg2016           0.000         0.000        5070.543      4886.261   \n",
       "Deg2017           0.000         0.000        1690.181      2822.096   \n",
       "Deg2018           0.000         0.000        3380.362      3990.331   \n",
       "Deg2019           0.000         0.000        3380.362      3990.331   \n",
       "Deg2020       12475.728     20828.089        6760.724      5641.156   \n",
       "Deg2021           0.000         0.000        8450.904      6305.872   \n",
       "Deg2022       37427.183     36053.210       18591.990      9343.039   \n",
       "NF          1759077.619    236480.751     1091856.850     62889.219   \n",
       "Stable     18538931.502    241711.102     3559520.938     64136.431   \n",
       "\n",
       "         area_stratum_3  ci_stratum_3   area_total   ci_total  perc_error  \n",
       "Def2016       13900.411      5294.301    17280.773   6629.658      22.973  \n",
       "Def2017        7316.006      3851.657    12386.548   6221.801      30.078  \n",
       "Def2018        5121.204      3225.525     5121.204   3225.525      37.715  \n",
       "Def2019        1463.201      1726.782     1463.201   1726.782      70.667  \n",
       "Def2020        2926.402      2440.531     6306.764   4677.492      44.411  \n",
       "Def2021        3658.003      2727.753     7038.365   4833.568      41.123  \n",
       "Def2022        6584.405      3655.136    45701.769  36347.740      47.624  \n",
       "Deg2016        8047.606      4038.399    13118.149   6339.102      28.936  \n",
       "Deg2017        9510.807      4387.476    11200.988   5216.721      27.888  \n",
       "Deg2018       15363.612      5562.505    18743.974   6845.743      21.870  \n",
       "Deg2019       10242.408      4551.684    13622.770   6053.146      26.607  \n",
       "Deg2020       15363.612      5562.505    34600.063  22283.927      38.565  \n",
       "Deg2021       12437.210      5011.031    20888.114   8054.468      23.090  \n",
       "Deg2022       16826.813      5817.726    72845.986  37695.786      30.986  \n",
       "NF           305077.438     21504.365  3156011.906 245643.313       4.661  \n",
       "Stable       752816.986     23697.368 22851269.425 251195.748       0.658  "
      ]
     },
     "execution_count": 17,
     "metadata": {},
     "output_type": "execute_result"
    }
   ],
   "source": [
    "stats_df"
   ]
  },
  {
   "cell_type": "code",
   "execution_count": 18,
   "id": "fd3b1cdf-66b3-4b2f-af10-01e1c8c63a0e",
   "metadata": {
    "tags": []
   },
   "outputs": [
    {
     "data": {
      "text/plain": [
       "Index(['area_stratum_1', 'ci_stratum_1', 'area_stratum_2', 'ci_stratum_2',\n",
       "       'area_stratum_3', 'ci_stratum_3', 'area_total', 'ci_total',\n",
       "       'perc_error', 'ChangeYear'],\n",
       "      dtype='object')"
      ]
     },
     "execution_count": 18,
     "metadata": {},
     "output_type": "execute_result"
    }
   ],
   "source": [
    "stats_df['ChangeYear'] = stats_df.index\n",
    "#stats_df\n",
    "stats_df.columns"
   ]
  },
  {
   "cell_type": "code",
   "execution_count": 19,
   "id": "76d6e335-3d8e-4d0a-b679-e0454fdd333d",
   "metadata": {
    "tags": []
   },
   "outputs": [
    {
     "data": {
      "image/png": "[encoded data removed]",
      "text/plain": [
       "<Figure size 640x480 with 1 Axes>"
      ]
     },
     "metadata": {},
     "output_type": "display_data"
    }
   ],
   "source": [
    "#plot DEF \n",
    "#select the values you want to plot\n",
    "values_to_plot = ['Def2016','Def2017','Def2018','Def2019','Def2020','Def2021','Def2022']\n",
    "\n",
    "# Filter the DataFrame to include only the selected values\n",
    "Def_areas = stats_df[stats_df['ChangeYear'].isin(values_to_plot)]\n",
    "\n",
    "# Create a bar chart\n",
    "ax = Def_areas.plot(kind='bar', x='ChangeYear', y='area_total', legend=False)\n",
    "\n",
    "# Format the y-axis labels with thousand separators (comma)\n",
    "#ax.yaxis.set_major_formatter(mtick.StrMethodFormatter('{:,.0f}'))\n",
    "\n",
    "# Add labels and a title\n",
    "plt.xlabel('Change')\n",
    "plt.ylabel('Ha')\n",
    "plt.title('Area Estimates')\n",
    "plt.bar(Def_areas['ChangeYear'], Def_areas['area_total'], yerr=Def_areas['ci_total'], capsize=5)  # Add error bars\n",
    "\n",
    "# Show the plot\n",
    "plt.show()"
   ]
  },
  {
   "cell_type": "code",
   "execution_count": 20,
   "id": "0573aeda-f8de-4dcc-bb36-ce0aa5f468f0",
   "metadata": {
    "tags": []
   },
   "outputs": [
    {
     "data": {
      "image/png": "[encoded data removed]",
      "text/plain": [
       "<Figure size 640x480 with 1 Axes>"
      ]
     },
     "metadata": {},
     "output_type": "display_data"
    }
   ],
   "source": [
    "#plot DEG \n",
    "#select the values you want to plot\n",
    "values_to_plot = ['Deg2016','Deg2017','Deg2018','Deg2019','Deg2020','Deg2021','Deg2022']\n",
    "\n",
    "# Filter the DataFrame to include only the selected values\n",
    "Deg_areas = stats_df[stats_df['ChangeYear'].isin(values_to_plot)]\n",
    "\n",
    "# Create a bar chart\n",
    "ax = Deg_areas.plot(kind='bar', x='ChangeYear', y='area_total', legend=False)\n",
    "\n",
    "# Format the y-axis labels with thousand separators (comma)\n",
    "#ax.yaxis.set_major_formatter(mtick.StrMethodFormatter('{:,.0f}'))\n",
    "\n",
    "# Add labels and a title\n",
    "plt.xlabel('Change')\n",
    "plt.ylabel('Ha')\n",
    "plt.title('Area Estimates')\n",
    "plt.bar(Deg_areas['ChangeYear'], Deg_areas['area_total'], yerr=Deg_areas['ci_total'], capsize=5)  # Add error bars\n",
    "# Show the plot\n",
    "plt.show()"
   ]
  },
  {
   "cell_type": "markdown",
   "id": "548c9e49-34c6-46ac-bc56-2f9446ab4f42",
   "metadata": {},
   "source": [
    "### export stats to csv"
   ]
  },
  {
   "cell_type": "code",
   "execution_count": null,
   "id": "0db9c0d0-96b3-4e64-a56b-81454138e8a1",
   "metadata": {},
   "outputs": [],
   "source": [
    "grouped_out =  '/home/sepal-user/module_results/esbae/GAB/GAB_total_stats_2015_2022.csv'\n",
    "stats_gdf.to_csv(grouped_out,index=True)"
   ]
  },
  {
   "cell_type": "code",
   "execution_count": null,
   "id": "aecb609d-dd99-415e-a633-fbe29e5ed66f",
   "metadata": {},
   "outputs": [],
   "source": [
    "annual_out =  '/home/sepal-user/module_results/esbae/GAB/GAB_annual_stats_2015_2022.csv'\n",
    "stats_df.to_csv(annual_out,index=True)"
   ]
  }
 ],
 "metadata": {
  "kernelspec": {
   "display_name": "Python 3",
   "language": "python",
   "name": "python3"
  },
  "language_info": {
   "codemirror_mode": {
    "name": "ipython",
    "version": 3
   },
   "file_extension": ".py",
   "mimetype": "text/x-python",
   "name": "python",
   "nbconvert_exporter": "python",
   "pygments_lexer": "ipython3",
   "version": "3.8.10"
  }
 },
 "nbformat": 4,
 "nbformat_minor": 5
}
