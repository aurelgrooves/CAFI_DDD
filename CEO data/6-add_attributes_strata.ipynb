{
 "cells": [
  {
   "cell_type": "markdown",
   "id": "18efad7f-d681-4f6a-acf4-b1de0e86fa9e",
   "metadata": {},
   "source": [
    "![title](../images/header.png)\n",
    "\n",
    "Add attributes from polygons and assets\n",
    "-------\n",
    "This notebook lets you add additional columns to your cleaned CEO data, including administrative areas for sub-national estimates and updated strata from assets in GEE. \n",
    "###### For more information contact aurelie.shapiro@fao.org or remi.dannunzio@fao.org"
   ]
  },
  {
   "cell_type": "code",
   "execution_count": 1,
   "id": "38eeff53-da64-41af-abaf-b27073551c55",
   "metadata": {
    "tags": []
   },
   "outputs": [],
   "source": [
    "from pathlib import Path\n",
    "\n",
    "import numpy as np\n",
    "import pandas as pd\n",
    "import geopandas as gpd\n",
    "from matplotlib import pyplot as plt\n",
    "\n",
    "import geopandas\n",
    "import rasterio\n",
    "import matplotlib.pyplot as plt\n",
    "from shapely.geometry import Point\n",
    "\n",
    "import ee\n",
    "import geemap\n",
    "import pandas as pd"
   ]
  },
  {
   "cell_type": "code",
   "execution_count": 2,
   "id": "0b0e768b-8cd9-441e-985f-c0f2007f61da",
   "metadata": {},
   "outputs": [
    {
     "data": {
      "text/html": [
       "\n",
       "            <style>\n",
       "                .geemap-dark {\n",
       "                    --jp-widgets-color: white;\n",
       "                    --jp-widgets-label-color: white;\n",
       "                    --jp-ui-font-color1: white;\n",
       "                    --jp-layout-color2: #454545;\n",
       "                    background-color: #383838;\n",
       "                }\n",
       "\n",
       "                .geemap-dark .jupyter-button {\n",
       "                    --jp-layout-color3: #383838;\n",
       "                }\n",
       "\n",
       "                .geemap-colab {\n",
       "                    background-color: var(--colab-primary-surface-color, white);\n",
       "                }\n",
       "\n",
       "                .geemap-colab .jupyter-button {\n",
       "                    --jp-layout-color3: var(--colab-primary-surface-color, white);\n",
       "                }\n",
       "            </style>\n",
       "            "
      ],
      "text/plain": [
       "<IPython.core.display.HTML object>"
      ]
     },
     "metadata": {},
     "output_type": "display_data"
    }
   ],
   "source": [
    "# Initialize Earth Engine\n",
    "ee.Initialize()"
   ]
  },
  {
   "cell_type": "markdown",
   "id": "5b5df708-c24b-48be-90a9-fc522b5fa1a8",
   "metadata": {},
   "source": [
    "##### read points from scripts 1-7"
   ]
  },
  {
   "cell_type": "code",
   "execution_count": 3,
   "id": "ca3d705d-835a-40c2-9ecb-dfd2a6bb370a",
   "metadata": {},
   "outputs": [
    {
     "data": {
      "text/html": [
       "\n",
       "            <style>\n",
       "                .geemap-dark {\n",
       "                    --jp-widgets-color: white;\n",
       "                    --jp-widgets-label-color: white;\n",
       "                    --jp-ui-font-color1: white;\n",
       "                    --jp-layout-color2: #454545;\n",
       "                    background-color: #383838;\n",
       "                }\n",
       "\n",
       "                .geemap-dark .jupyter-button {\n",
       "                    --jp-layout-color3: #383838;\n",
       "                }\n",
       "\n",
       "                .geemap-colab {\n",
       "                    background-color: var(--colab-primary-surface-color, white);\n",
       "                }\n",
       "\n",
       "                .geemap-colab .jupyter-button {\n",
       "                    --jp-layout-color3: var(--colab-primary-surface-color, white);\n",
       "                }\n",
       "            </style>\n",
       "            "
      ],
      "text/plain": [
       "<IPython.core.display.HTML object>"
      ]
     },
     "metadata": {},
     "output_type": "display_data"
    }
   ],
   "source": [
    "#points = pd.read_csv('/home/sepal-user/module_results/esbae/DRC/DRC_all_points_whisp.csv', delimiter=',', low_memory=False)\n",
    "#points = pd.read_csv('/home/sepal-user/module_results/esbae/DRC/DRC_all_ceo_2015_2022_2023_allData_whisp_prov_biome.csv', delimiter=',', low_memory=False)\n",
    "#points = pd.read_csv('/home/sepal-user/module_results/esbae/GAB/GAB_all_ceo_2015_2022_2023_clean.csv', delimiter=',', low_memory=False)\n",
    "#points = pd.read_csv('/home/sepal-user/module_results/esbae/COG/COG_all_ceo_2015_2016_2022_2023_clean.csv',delimiter=',', low_memory=False)\n",
    "#points = pd.read_csv('/home/sepal-user/module_results/esbae/EQG/EQG_all_ceo_2015_2022_2023_prov.csv',delimiter=',', low_memory=False)\n",
    "#points = pd.read_csv('/home/sepal-user/module_results/esbae/EQG/EQG_all_ceo_2015_2022_2023_prov.csv',delimiter=',', low_memory=False)\n",
    "#points = pd.read_csv('/home/sepal-user/module_results/esbae/CAR/CAR_all_ceo_2015_2022_2023_pref.csv',delimiter=',', low_memory=False)\n",
    "points = pd.read_csv('/home/sepal-user/module_results/esbae/CMR/CMR_all_ceo_2015_2022_2023_clean.csv',delimiter=',', low_memory=False)\n",
    "#read GEE points\n",
    "#points = ee.FeatureCollection('users/faocongo/sbae/sbae_hex16_cmr')"
   ]
  },
  {
   "cell_type": "code",
   "execution_count": 4,
   "id": "d7eaca47-7c65-45fa-bd74-d58b62a500c4",
   "metadata": {},
   "outputs": [
    {
     "data": {
      "text/html": [
       "\n",
       "            <style>\n",
       "                .geemap-dark {\n",
       "                    --jp-widgets-color: white;\n",
       "                    --jp-widgets-label-color: white;\n",
       "                    --jp-ui-font-color1: white;\n",
       "                    --jp-layout-color2: #454545;\n",
       "                    background-color: #383838;\n",
       "                }\n",
       "\n",
       "                .geemap-dark .jupyter-button {\n",
       "                    --jp-layout-color3: #383838;\n",
       "                }\n",
       "\n",
       "                .geemap-colab {\n",
       "                    background-color: var(--colab-primary-surface-color, white);\n",
       "                }\n",
       "\n",
       "                .geemap-colab .jupyter-button {\n",
       "                    --jp-layout-color3: var(--colab-primary-surface-color, white);\n",
       "                }\n",
       "            </style>\n",
       "            "
      ],
      "text/plain": [
       "<IPython.core.display.HTML object>"
      ]
     },
     "metadata": {},
     "output_type": "display_data"
    },
    {
     "data": {
      "text/plain": [
       "9854"
      ]
     },
     "execution_count": 4,
     "metadata": {},
     "output_type": "execute_result"
    }
   ],
   "source": [
    "len(points)"
   ]
  },
  {
   "cell_type": "code",
   "execution_count": 5,
   "id": "e5a7b836-d9fe-416d-82d7-76542f8e88db",
   "metadata": {},
   "outputs": [
    {
     "data": {
      "text/html": [
       "\n",
       "            <style>\n",
       "                .geemap-dark {\n",
       "                    --jp-widgets-color: white;\n",
       "                    --jp-widgets-label-color: white;\n",
       "                    --jp-ui-font-color1: white;\n",
       "                    --jp-layout-color2: #454545;\n",
       "                    background-color: #383838;\n",
       "                }\n",
       "\n",
       "                .geemap-dark .jupyter-button {\n",
       "                    --jp-layout-color3: #383838;\n",
       "                }\n",
       "\n",
       "                .geemap-colab {\n",
       "                    background-color: var(--colab-primary-surface-color, white);\n",
       "                }\n",
       "\n",
       "                .geemap-colab .jupyter-button {\n",
       "                    --jp-layout-color3: var(--colab-primary-surface-color, white);\n",
       "                }\n",
       "            </style>\n",
       "            "
      ],
      "text/plain": [
       "<IPython.core.display.HTML object>"
      ]
     },
     "metadata": {},
     "output_type": "display_data"
    },
    {
     "name": "stdout",
     "output_type": "stream",
     "text": [
      "['UID', 'ID', 'plotid', 'point_id', 'sampleid', 'lon', 'lat', 'sample_geom', 'Ref_FNF_2015', 'Ref_Regeneration', 'Ref_Change_1522', 'Ref_Change_Type_1522', 'ArtFor', 'ArtMine', 'InfraR', 'Urb', 'IndFor', 'Other', 'Other_Desc', 'IndMine', 'IndAg', 'ArtAg', 'Ref_Year_1522', 'Ref_NFtype_2015', 'Ref_Ftype_2015', 'collection', 'interpreted', 'Ref_LCover_2015', 'Ref_Change_Year_1522', 'Ref_Change_LCover_1522', 'Def2016', 'Def2017', 'Def2018', 'Def2019', 'Def2020', 'Def2021', 'Def2022', 'Deg2016', 'Deg2017', 'Deg2018', 'Deg2019', 'Deg2020', 'Deg2021', 'Deg2022', 'Defall', 'Degall', 'Stable', 'NF', 'DensFor', 'DensDryFor', 'SecFor', 'DryOpenFor', 'Mangrove', 'Swamp', 'Gallery', 'Plantation', 'Woodland', 'Shrubland', 'Grassland', 'Aquatic', 'Bare', 'Cultivated', 'Builtup', 'Water', 'DensFor_Def', 'DensDryFor_Def', 'SecFor_Def', 'DryOpenFor_Def', 'Mangrove_Def', 'Swamp_Def', 'Gallery_Def', 'Plantation_Def', 'Woodland_Def', 'DensFor_Deg', 'DensDryFor_Deg', 'SecFor_Deg', 'DryOpenFor_Deg', 'Mangrove_Deg', 'Swamp_Deg', 'Gallery_Deg', 'Plantation_Deg', 'Woodland_Deg', 'DensFor_Stable', 'DensDryFor_Stable', 'SecFor_Stable', 'DryOpenFor_Stable', 'Mangrove_Stable', 'Swamp_Stable', 'Gallery_Stable', 'Plantation_Stable', 'Woodland_Stable', 'ISO', 'sampling', 'TNT_stratum', 'Ref_FNF_2022', 'Ref_Change_2023', 'Ref_Change_Type_2023', 'Ref_NFtype_2022', 'Ref_Ftype_2022', 'Ref_LCover_2022', 'Ref_Change_Year_2023', 'Ref_Change_LCover_2023', 'Def2023', 'Deg2023', 'interpreted_qc', 'Ref_Change_Type_1523', 'Ref_Change_Year_1523']\n"
     ]
    }
   ],
   "source": [
    "all_columns = points.columns.tolist()\n",
    "\n",
    "# Display the list of column names\n",
    "print(all_columns)"
   ]
  },
  {
   "cell_type": "code",
   "execution_count": 6,
   "id": "42eb3e9d-a77b-4d93-9cf7-58ef5e4d1255",
   "metadata": {},
   "outputs": [
    {
     "data": {
      "text/html": [
       "\n",
       "            <style>\n",
       "                .geemap-dark {\n",
       "                    --jp-widgets-color: white;\n",
       "                    --jp-widgets-label-color: white;\n",
       "                    --jp-ui-font-color1: white;\n",
       "                    --jp-layout-color2: #454545;\n",
       "                    background-color: #383838;\n",
       "                }\n",
       "\n",
       "                .geemap-dark .jupyter-button {\n",
       "                    --jp-layout-color3: #383838;\n",
       "                }\n",
       "\n",
       "                .geemap-colab {\n",
       "                    background-color: var(--colab-primary-surface-color, white);\n",
       "                }\n",
       "\n",
       "                .geemap-colab .jupyter-button {\n",
       "                    --jp-layout-color3: var(--colab-primary-surface-color, white);\n",
       "                }\n",
       "            </style>\n",
       "            "
      ],
      "text/plain": [
       "<IPython.core.display.HTML object>"
      ]
     },
     "metadata": {},
     "output_type": "display_data"
    }
   ],
   "source": [
    "#drop any columns if needed\n",
    "#esbae = esbae.drop('index_right', axis=1)"
   ]
  },
  {
   "cell_type": "code",
   "execution_count": 6,
   "id": "604ea1cc-72aa-4e28-9d79-318cd52aa31e",
   "metadata": {},
   "outputs": [
    {
     "data": {
      "text/html": [
       "\n",
       "            <style>\n",
       "                .geemap-dark {\n",
       "                    --jp-widgets-color: white;\n",
       "                    --jp-widgets-label-color: white;\n",
       "                    --jp-ui-font-color1: white;\n",
       "                    --jp-layout-color2: #454545;\n",
       "                    background-color: #383838;\n",
       "                }\n",
       "\n",
       "                .geemap-dark .jupyter-button {\n",
       "                    --jp-layout-color3: #383838;\n",
       "                }\n",
       "\n",
       "                .geemap-colab {\n",
       "                    background-color: var(--colab-primary-surface-color, white);\n",
       "                }\n",
       "\n",
       "                .geemap-colab .jupyter-button {\n",
       "                    --jp-layout-color3: var(--colab-primary-surface-color, white);\n",
       "                }\n",
       "            </style>\n",
       "            "
      ],
      "text/plain": [
       "<IPython.core.display.HTML object>"
      ]
     },
     "metadata": {},
     "output_type": "display_data"
    }
   ],
   "source": [
    "#enter Lat and Lon columns\n",
    "LATcol = 'lat'\n",
    "LONcol = 'lon'"
   ]
  },
  {
   "cell_type": "code",
   "execution_count": 7,
   "id": "9e6af175-9df9-41d8-99f7-3a624026de50",
   "metadata": {},
   "outputs": [
    {
     "data": {
      "text/html": [
       "\n",
       "            <style>\n",
       "                .geemap-dark {\n",
       "                    --jp-widgets-color: white;\n",
       "                    --jp-widgets-label-color: white;\n",
       "                    --jp-ui-font-color1: white;\n",
       "                    --jp-layout-color2: #454545;\n",
       "                    background-color: #383838;\n",
       "                }\n",
       "\n",
       "                .geemap-dark .jupyter-button {\n",
       "                    --jp-layout-color3: #383838;\n",
       "                }\n",
       "\n",
       "                .geemap-colab {\n",
       "                    background-color: var(--colab-primary-surface-color, white);\n",
       "                }\n",
       "\n",
       "                .geemap-colab .jupyter-button {\n",
       "                    --jp-layout-color3: var(--colab-primary-surface-color, white);\n",
       "                }\n",
       "            </style>\n",
       "            "
      ],
      "text/plain": [
       "<IPython.core.display.HTML object>"
      ]
     },
     "metadata": {},
     "output_type": "display_data"
    }
   ],
   "source": [
    "gdf = geopandas.GeoDataFrame(points, geometry=geopandas.points_from_xy(points[LONcol], points[LATcol]), crs=\"EPSG:4326\")"
   ]
  },
  {
   "cell_type": "markdown",
   "id": "91aacf0e-45c5-439d-b3da-84ff2b9c9d8a",
   "metadata": {
    "jp-MarkdownHeadingCollapsed": true
   },
   "source": [
    "#### get strata from model file"
   ]
  },
  {
   "cell_type": "code",
   "execution_count": null,
   "id": "f24e5308-0a8c-4823-83f6-e1a3e64724a4",
   "metadata": {},
   "outputs": [],
   "source": [
    "model = pd.read_csv('/home/sepal-user/module_results/esbae/COG/COG_esbae_2015_2022_model.csv',delimiter=',', low_memory=False)"
   ]
  },
  {
   "cell_type": "code",
   "execution_count": null,
   "id": "893ed018-fdd8-4134-813e-ddfebf059c2b",
   "metadata": {},
   "outputs": [],
   "source": [
    "model['stratum'].value_counts(dropna=False)"
   ]
  },
  {
   "cell_type": "code",
   "execution_count": null,
   "id": "4037b157-9868-4079-a23c-f60aa493a0a2",
   "metadata": {},
   "outputs": [],
   "source": [
    "model_columns = model.columns.tolist()\n",
    "\n",
    "# Display the list of column names\n",
    "print(model_columns)"
   ]
  },
  {
   "cell_type": "code",
   "execution_count": null,
   "id": "53563986-8e6d-4b2f-a401-3665ff437569",
   "metadata": {},
   "outputs": [],
   "source": [
    "stratum_gdf = gdf.merge(\n",
    "    model[['point_id', 'stratum']],  # Keep only 'point_id' and 'stratum' columns from model_df\n",
    "    on='point_id',  # Merge on point_id\n",
    "    how='left'  # Keep all rows from points_gdf, and only matching rows from model_df\n",
    ")"
   ]
  },
  {
   "cell_type": "code",
   "execution_count": null,
   "id": "790df181-e48b-416e-a32b-40446c79f049",
   "metadata": {},
   "outputs": [],
   "source": [
    "stratum_gdf.head()"
   ]
  },
  {
   "cell_type": "code",
   "execution_count": null,
   "id": "482a61de-cedb-4298-a14a-a88e2f410774",
   "metadata": {},
   "outputs": [],
   "source": [
    "#drop any columns if needed\n",
    "columns_to_drop = ['UID.1']\n",
    "stratum_gdf = stratum_gdf.drop(columns_to_drop, axis=1)"
   ]
  },
  {
   "cell_type": "code",
   "execution_count": null,
   "id": "c28bb4b4-ed76-494e-a4e3-781bbfeaf990",
   "metadata": {},
   "outputs": [],
   "source": [
    "strat_columns = stratum_gdf.columns.tolist()\n",
    "# Display the list of column names\n",
    "print(strat_columns)"
   ]
  },
  {
   "cell_type": "code",
   "execution_count": null,
   "id": "e9dd9a19-7d5b-4d85-ad90-b08aa029705a",
   "metadata": {},
   "outputs": [],
   "source": [
    "# Rename columns\n",
    "column_names = {\n",
    "   'stratum': 'eSBAE_strat_1522'\n",
    "#    'NAME_2': 'Territoire',\n",
    "#    'Unnamed: 0':'Index'\n",
    "}\n",
    "\n",
    "# Use the rename() method to rename columns\n",
    "stratum_gdf.rename(columns=column_names, inplace=True)"
   ]
  },
  {
   "cell_type": "code",
   "execution_count": null,
   "id": "fed938bf-3e86-4a0f-ad39-b905fcf16043",
   "metadata": {},
   "outputs": [],
   "source": [
    "# save output\n",
    "out_file =  '/home/sepal-user/module_results/esbae/COG/COG_all_ceo_2015_2016_2022_2023_clean_strat.csv'\n",
    "stratum_gdf.to_csv(out_file,index=False)"
   ]
  },
  {
   "cell_type": "markdown",
   "id": "d4775563-8d03-48f4-9766-9f6e1ad7944b",
   "metadata": {},
   "source": [
    "#### add attributes from local shapefile to associate points with sub-national juridictions"
   ]
  },
  {
   "cell_type": "code",
   "execution_count": 8,
   "id": "c894e2e5-4e8f-4bc1-bcb9-74ab8fb65b81",
   "metadata": {},
   "outputs": [
    {
     "data": {
      "text/html": [
       "\n",
       "            <style>\n",
       "                .geemap-dark {\n",
       "                    --jp-widgets-color: white;\n",
       "                    --jp-widgets-label-color: white;\n",
       "                    --jp-ui-font-color1: white;\n",
       "                    --jp-layout-color2: #454545;\n",
       "                    background-color: #383838;\n",
       "                }\n",
       "\n",
       "                .geemap-dark .jupyter-button {\n",
       "                    --jp-layout-color3: #383838;\n",
       "                }\n",
       "\n",
       "                .geemap-colab {\n",
       "                    background-color: var(--colab-primary-surface-color, white);\n",
       "                }\n",
       "\n",
       "                .geemap-colab .jupyter-button {\n",
       "                    --jp-layout-color3: var(--colab-primary-surface-color, white);\n",
       "                }\n",
       "            </style>\n",
       "            "
      ],
      "text/plain": [
       "<IPython.core.display.HTML object>"
      ]
     },
     "metadata": {},
     "output_type": "display_data"
    },
    {
     "data": {
      "text/html": [
       "<div>\n",
       "<style scoped>\n",
       "    .dataframe tbody tr th:only-of-type {\n",
       "        vertical-align: middle;\n",
       "    }\n",
       "\n",
       "    .dataframe tbody tr th {\n",
       "        vertical-align: top;\n",
       "    }\n",
       "\n",
       "    .dataframe thead th {\n",
       "        text-align: right;\n",
       "    }\n",
       "</style>\n",
       "<table border=\"1\" class=\"dataframe\">\n",
       "  <thead>\n",
       "    <tr style=\"text-align: right;\">\n",
       "      <th></th>\n",
       "      <th>Shape_Leng</th>\n",
       "      <th>Shape_Area</th>\n",
       "      <th>ADM1_EN</th>\n",
       "      <th>ADM1_FR</th>\n",
       "      <th>ADM1_PCODE</th>\n",
       "      <th>ADM1_REF</th>\n",
       "      <th>ADM1ALT1EN</th>\n",
       "      <th>ADM1ALT2EN</th>\n",
       "      <th>ADM1ALT1FR</th>\n",
       "      <th>ADM1ALT2FR</th>\n",
       "      <th>ADM0_EN</th>\n",
       "      <th>ADM0_FR</th>\n",
       "      <th>ADM0_PCODE</th>\n",
       "      <th>date</th>\n",
       "      <th>validOn</th>\n",
       "      <th>validTo</th>\n",
       "      <th>geometry</th>\n",
       "    </tr>\n",
       "  </thead>\n",
       "  <tbody>\n",
       "    <tr>\n",
       "      <th>0</th>\n",
       "      <td>15.151424</td>\n",
       "      <td>5.235540</td>\n",
       "      <td>Adamawa</td>\n",
       "      <td>Adamaoua</td>\n",
       "      <td>CM001</td>\n",
       "      <td>None</td>\n",
       "      <td>None</td>\n",
       "      <td>None</td>\n",
       "      <td>None</td>\n",
       "      <td>None</td>\n",
       "      <td>Cameroon</td>\n",
       "      <td>Cameroun (le)</td>\n",
       "      <td>CM</td>\n",
       "      <td>2018-12-17</td>\n",
       "      <td>2019-01-04</td>\n",
       "      <td>0000/00/00</td>\n",
       "      <td>POLYGON ((12.28874 8.1817, 12.28379 8.16514, 1...</td>\n",
       "    </tr>\n",
       "    <tr>\n",
       "      <th>1</th>\n",
       "      <td>16.170961</td>\n",
       "      <td>5.601567</td>\n",
       "      <td>Centre</td>\n",
       "      <td>Centre</td>\n",
       "      <td>CM002</td>\n",
       "      <td>None</td>\n",
       "      <td>None</td>\n",
       "      <td>None</td>\n",
       "      <td>None</td>\n",
       "      <td>None</td>\n",
       "      <td>Cameroon</td>\n",
       "      <td>Cameroun (le)</td>\n",
       "      <td>CM</td>\n",
       "      <td>2018-12-17</td>\n",
       "      <td>2019-01-04</td>\n",
       "      <td>0000/00/00</td>\n",
       "      <td>POLYGON ((11.99753 6.26224, 11.99793 6.25936, ...</td>\n",
       "    </tr>\n",
       "    <tr>\n",
       "      <th>2</th>\n",
       "      <td>18.826415</td>\n",
       "      <td>8.956520</td>\n",
       "      <td>East</td>\n",
       "      <td>Est</td>\n",
       "      <td>CM003</td>\n",
       "      <td>None</td>\n",
       "      <td>None</td>\n",
       "      <td>None</td>\n",
       "      <td>None</td>\n",
       "      <td>None</td>\n",
       "      <td>Cameroon</td>\n",
       "      <td>Cameroun (le)</td>\n",
       "      <td>CM</td>\n",
       "      <td>2018-12-17</td>\n",
       "      <td>2019-01-04</td>\n",
       "      <td>0000/00/00</td>\n",
       "      <td>POLYGON ((14.39484 6.06262, 14.39542 6.06071, ...</td>\n",
       "    </tr>\n",
       "    <tr>\n",
       "      <th>3</th>\n",
       "      <td>13.272860</td>\n",
       "      <td>2.826867</td>\n",
       "      <td>Far-North</td>\n",
       "      <td>Extrême-Nord</td>\n",
       "      <td>CM004</td>\n",
       "      <td>None</td>\n",
       "      <td>None</td>\n",
       "      <td>None</td>\n",
       "      <td>None</td>\n",
       "      <td>None</td>\n",
       "      <td>Cameroon</td>\n",
       "      <td>Cameroun (le)</td>\n",
       "      <td>CM</td>\n",
       "      <td>2018-12-17</td>\n",
       "      <td>2019-01-04</td>\n",
       "      <td>0000/00/00</td>\n",
       "      <td>POLYGON ((14.53742 12.94356, 14.54344 12.93673...</td>\n",
       "    </tr>\n",
       "    <tr>\n",
       "      <th>4</th>\n",
       "      <td>10.673468</td>\n",
       "      <td>1.646349</td>\n",
       "      <td>Littoral</td>\n",
       "      <td>Littoral</td>\n",
       "      <td>CM005</td>\n",
       "      <td>None</td>\n",
       "      <td>None</td>\n",
       "      <td>None</td>\n",
       "      <td>None</td>\n",
       "      <td>None</td>\n",
       "      <td>Cameroon</td>\n",
       "      <td>Cameroun (le)</td>\n",
       "      <td>CM</td>\n",
       "      <td>2018-12-17</td>\n",
       "      <td>2019-01-04</td>\n",
       "      <td>0000/00/00</td>\n",
       "      <td>POLYGON ((9.84789 5.33234, 9.84934 5.32882, 9....</td>\n",
       "    </tr>\n",
       "  </tbody>\n",
       "</table>\n",
       "</div>"
      ],
      "text/plain": [
       "   Shape_Leng  Shape_Area    ADM1_EN       ADM1_FR ADM1_PCODE ADM1_REF  \\\n",
       "0   15.151424    5.235540    Adamawa      Adamaoua      CM001     None   \n",
       "1   16.170961    5.601567     Centre        Centre      CM002     None   \n",
       "2   18.826415    8.956520       East           Est      CM003     None   \n",
       "3   13.272860    2.826867  Far-North  Extrême-Nord      CM004     None   \n",
       "4   10.673468    1.646349   Littoral      Littoral      CM005     None   \n",
       "\n",
       "  ADM1ALT1EN ADM1ALT2EN ADM1ALT1FR ADM1ALT2FR   ADM0_EN        ADM0_FR  \\\n",
       "0       None       None       None       None  Cameroon  Cameroun (le)   \n",
       "1       None       None       None       None  Cameroon  Cameroun (le)   \n",
       "2       None       None       None       None  Cameroon  Cameroun (le)   \n",
       "3       None       None       None       None  Cameroon  Cameroun (le)   \n",
       "4       None       None       None       None  Cameroon  Cameroun (le)   \n",
       "\n",
       "  ADM0_PCODE       date    validOn     validTo  \\\n",
       "0         CM 2018-12-17 2019-01-04  0000/00/00   \n",
       "1         CM 2018-12-17 2019-01-04  0000/00/00   \n",
       "2         CM 2018-12-17 2019-01-04  0000/00/00   \n",
       "3         CM 2018-12-17 2019-01-04  0000/00/00   \n",
       "4         CM 2018-12-17 2019-01-04  0000/00/00   \n",
       "\n",
       "                                            geometry  \n",
       "0  POLYGON ((12.28874 8.1817, 12.28379 8.16514, 1...  \n",
       "1  POLYGON ((11.99753 6.26224, 11.99793 6.25936, ...  \n",
       "2  POLYGON ((14.39484 6.06262, 14.39542 6.06071, ...  \n",
       "3  POLYGON ((14.53742 12.94356, 14.54344 12.93673...  \n",
       "4  POLYGON ((9.84789 5.33234, 9.84934 5.32882, 9....  "
      ]
     },
     "execution_count": 8,
     "metadata": {},
     "output_type": "execute_result"
    }
   ],
   "source": [
    "# this shapefile should be uploaded to your SEPAL workspace\n",
    "#poly = \"/home/sepal-user/data/admin/RDC_Province_26.shp\"\n",
    "#poly = \"/home/sepal-user/data/aoi/Ecoregions2017.shp\"\n",
    "poly = \"/home/sepal-user/data/admin/cmr_admbnda_adm1_inc_20180104.shp\"\n",
    "poly_shp = gpd.read_file(poly)\n",
    "poly_shp.head()"
   ]
  },
  {
   "cell_type": "code",
   "execution_count": 9,
   "id": "b7207c86-4114-4735-9f70-dbb66718e553",
   "metadata": {},
   "outputs": [
    {
     "data": {
      "text/html": [
       "\n",
       "            <style>\n",
       "                .geemap-dark {\n",
       "                    --jp-widgets-color: white;\n",
       "                    --jp-widgets-label-color: white;\n",
       "                    --jp-ui-font-color1: white;\n",
       "                    --jp-layout-color2: #454545;\n",
       "                    background-color: #383838;\n",
       "                }\n",
       "\n",
       "                .geemap-dark .jupyter-button {\n",
       "                    --jp-layout-color3: #383838;\n",
       "                }\n",
       "\n",
       "                .geemap-colab {\n",
       "                    background-color: var(--colab-primary-surface-color, white);\n",
       "                }\n",
       "\n",
       "                .geemap-colab .jupyter-button {\n",
       "                    --jp-layout-color3: var(--colab-primary-surface-color, white);\n",
       "                }\n",
       "            </style>\n",
       "            "
      ],
      "text/plain": [
       "<IPython.core.display.HTML object>"
      ]
     },
     "metadata": {},
     "output_type": "display_data"
    }
   ],
   "source": [
    "# from the table above, identify the column name you want to associate\n",
    "admin_name = 'ADM1_FR'\n",
    "#admin_name = 'shapeName'\n",
    "#admin_name = 'admin1Name'\n",
    "#admin_name = 'NOM'\n",
    "#admin_name = 'Duparteme'\n",
    "#new_name = 'Prefecture'\n",
    "new_name = 'Province'"
   ]
  },
  {
   "cell_type": "code",
   "execution_count": 10,
   "id": "0fbfaece-e4de-4a0a-bb36-87a1ccfabeb3",
   "metadata": {
    "tags": []
   },
   "outputs": [
    {
     "data": {
      "text/html": [
       "\n",
       "            <style>\n",
       "                .geemap-dark {\n",
       "                    --jp-widgets-color: white;\n",
       "                    --jp-widgets-label-color: white;\n",
       "                    --jp-ui-font-color1: white;\n",
       "                    --jp-layout-color2: #454545;\n",
       "                    background-color: #383838;\n",
       "                }\n",
       "\n",
       "                .geemap-dark .jupyter-button {\n",
       "                    --jp-layout-color3: #383838;\n",
       "                }\n",
       "\n",
       "                .geemap-colab {\n",
       "                    background-color: var(--colab-primary-surface-color, white);\n",
       "                }\n",
       "\n",
       "                .geemap-colab .jupyter-button {\n",
       "                    --jp-layout-color3: var(--colab-primary-surface-color, white);\n",
       "                }\n",
       "            </style>\n",
       "            "
      ],
      "text/plain": [
       "<IPython.core.display.HTML object>"
      ]
     },
     "metadata": {},
     "output_type": "display_data"
    },
    {
     "name": "stdout",
     "output_type": "stream",
     "text": [
      "Current CRS: EPSG:4326\n"
     ]
    }
   ],
   "source": [
    "poly_crs = poly_shp.crs\n",
    "print(\"Current CRS:\", poly_crs)"
   ]
  },
  {
   "cell_type": "code",
   "execution_count": 11,
   "id": "9373a38e-912b-4429-8e71-ef99d167112e",
   "metadata": {},
   "outputs": [
    {
     "data": {
      "text/html": [
       "\n",
       "            <style>\n",
       "                .geemap-dark {\n",
       "                    --jp-widgets-color: white;\n",
       "                    --jp-widgets-label-color: white;\n",
       "                    --jp-ui-font-color1: white;\n",
       "                    --jp-layout-color2: #454545;\n",
       "                    background-color: #383838;\n",
       "                }\n",
       "\n",
       "                .geemap-dark .jupyter-button {\n",
       "                    --jp-layout-color3: #383838;\n",
       "                }\n",
       "\n",
       "                .geemap-colab {\n",
       "                    background-color: var(--colab-primary-surface-color, white);\n",
       "                }\n",
       "\n",
       "                .geemap-colab .jupyter-button {\n",
       "                    --jp-layout-color3: var(--colab-primary-surface-color, white);\n",
       "                }\n",
       "            </style>\n",
       "            "
      ],
      "text/plain": [
       "<IPython.core.display.HTML object>"
      ]
     },
     "metadata": {},
     "output_type": "display_data"
    },
    {
     "ename": "ValueError",
     "evalue": "The GeoSeries already has a CRS which is not equal to the passed CRS. Specify 'allow_override=True' to allow replacing the existing CRS without doing any transformation. If you actually want to transform the geometries, use 'GeoSeries.to_crs' instead.",
     "output_type": "error",
     "traceback": [
      "\u001b[0;31m---------------------------------------------------------------------------\u001b[0m",
      "\u001b[0;31mValueError\u001b[0m                                Traceback (most recent call last)",
      "Cell \u001b[0;32mIn[11], line 1\u001b[0m\n\u001b[0;32m----> 1\u001b[0m poly_shp \u001b[38;5;241m=\u001b[39m \u001b[43mpoly_shp\u001b[49m\u001b[38;5;241;43m.\u001b[39;49m\u001b[43mset_crs\u001b[49m\u001b[43m(\u001b[49m\u001b[43mepsg\u001b[49m\u001b[38;5;241;43m=\u001b[39;49m\u001b[38;5;241;43m3395\u001b[39;49m\u001b[43m)\u001b[49m\n",
      "File \u001b[0;32m/usr/local/lib/python3.10/dist-packages/geopandas/geodataframe.py:1616\u001b[0m, in \u001b[0;36mGeoDataFrame.set_crs\u001b[0;34m(self, crs, epsg, inplace, allow_override)\u001b[0m\n\u001b[1;32m   1614\u001b[0m \u001b[38;5;28;01melse\u001b[39;00m:\n\u001b[1;32m   1615\u001b[0m     df \u001b[38;5;241m=\u001b[39m \u001b[38;5;28mself\u001b[39m\n\u001b[0;32m-> 1616\u001b[0m df\u001b[38;5;241m.\u001b[39mgeometry \u001b[38;5;241m=\u001b[39m \u001b[43mdf\u001b[49m\u001b[38;5;241;43m.\u001b[39;49m\u001b[43mgeometry\u001b[49m\u001b[38;5;241;43m.\u001b[39;49m\u001b[43mset_crs\u001b[49m\u001b[43m(\u001b[49m\n\u001b[1;32m   1617\u001b[0m \u001b[43m    \u001b[49m\u001b[43mcrs\u001b[49m\u001b[38;5;241;43m=\u001b[39;49m\u001b[43mcrs\u001b[49m\u001b[43m,\u001b[49m\u001b[43m \u001b[49m\u001b[43mepsg\u001b[49m\u001b[38;5;241;43m=\u001b[39;49m\u001b[43mepsg\u001b[49m\u001b[43m,\u001b[49m\u001b[43m \u001b[49m\u001b[43mallow_override\u001b[49m\u001b[38;5;241;43m=\u001b[39;49m\u001b[43mallow_override\u001b[49m\u001b[43m,\u001b[49m\u001b[43m \u001b[49m\u001b[43minplace\u001b[49m\u001b[38;5;241;43m=\u001b[39;49m\u001b[38;5;28;43;01mTrue\u001b[39;49;00m\n\u001b[1;32m   1618\u001b[0m \u001b[43m\u001b[49m\u001b[43m)\u001b[49m\n\u001b[1;32m   1619\u001b[0m \u001b[38;5;28;01mreturn\u001b[39;00m df\n",
      "File \u001b[0;32m/usr/local/lib/python3.10/dist-packages/geopandas/_compat.py:90\u001b[0m, in \u001b[0;36mrequires_pyproj.<locals>.wrapper\u001b[0;34m(*args, **kwargs)\u001b[0m\n\u001b[1;32m     84\u001b[0m \u001b[38;5;28;01mif\u001b[39;00m \u001b[38;5;129;01mnot\u001b[39;00m HAS_PYPROJ:\n\u001b[1;32m     85\u001b[0m     \u001b[38;5;28;01mraise\u001b[39;00m \u001b[38;5;167;01mImportError\u001b[39;00m(\n\u001b[1;32m     86\u001b[0m         \u001b[38;5;124mf\u001b[39m\u001b[38;5;124m\"\u001b[39m\u001b[38;5;124mThe \u001b[39m\u001b[38;5;124m'\u001b[39m\u001b[38;5;124mpyproj\u001b[39m\u001b[38;5;124m'\u001b[39m\u001b[38;5;124m package is required for \u001b[39m\u001b[38;5;132;01m{\u001b[39;00mfunc\u001b[38;5;241m.\u001b[39m\u001b[38;5;18m__name__\u001b[39m\u001b[38;5;132;01m}\u001b[39;00m\u001b[38;5;124m to work. \u001b[39m\u001b[38;5;124m\"\u001b[39m\n\u001b[1;32m     87\u001b[0m         \u001b[38;5;124m\"\u001b[39m\u001b[38;5;124mInstall it and initialize the object with a CRS before using it.\u001b[39m\u001b[38;5;124m\"\u001b[39m\n\u001b[1;32m     88\u001b[0m         \u001b[38;5;124mf\u001b[39m\u001b[38;5;124m\"\u001b[39m\u001b[38;5;130;01m\\n\u001b[39;00m\u001b[38;5;124mImporting pyproj resulted in: \u001b[39m\u001b[38;5;132;01m{\u001b[39;00mpyproj_import_error\u001b[38;5;132;01m}\u001b[39;00m\u001b[38;5;124m\"\u001b[39m\n\u001b[1;32m     89\u001b[0m     )\n\u001b[0;32m---> 90\u001b[0m \u001b[38;5;28;01mreturn\u001b[39;00m \u001b[43mfunc\u001b[49m\u001b[43m(\u001b[49m\u001b[38;5;241;43m*\u001b[39;49m\u001b[43margs\u001b[49m\u001b[43m,\u001b[49m\u001b[43m \u001b[49m\u001b[38;5;241;43m*\u001b[39;49m\u001b[38;5;241;43m*\u001b[39;49m\u001b[43mkwargs\u001b[49m\u001b[43m)\u001b[49m\n",
      "File \u001b[0;32m/usr/local/lib/python3.10/dist-packages/geopandas/geoseries.py:1115\u001b[0m, in \u001b[0;36mGeoSeries.set_crs\u001b[0;34m(self, crs, epsg, inplace, allow_override)\u001b[0m\n\u001b[1;32m   1112\u001b[0m     crs \u001b[38;5;241m=\u001b[39m CRS\u001b[38;5;241m.\u001b[39mfrom_epsg(epsg)\n\u001b[1;32m   1114\u001b[0m \u001b[38;5;28;01mif\u001b[39;00m \u001b[38;5;129;01mnot\u001b[39;00m allow_override \u001b[38;5;129;01mand\u001b[39;00m \u001b[38;5;28mself\u001b[39m\u001b[38;5;241m.\u001b[39mcrs \u001b[38;5;129;01mis\u001b[39;00m \u001b[38;5;129;01mnot\u001b[39;00m \u001b[38;5;28;01mNone\u001b[39;00m \u001b[38;5;129;01mand\u001b[39;00m \u001b[38;5;129;01mnot\u001b[39;00m \u001b[38;5;28mself\u001b[39m\u001b[38;5;241m.\u001b[39mcrs \u001b[38;5;241m==\u001b[39m crs:\n\u001b[0;32m-> 1115\u001b[0m     \u001b[38;5;28;01mraise\u001b[39;00m \u001b[38;5;167;01mValueError\u001b[39;00m(\n\u001b[1;32m   1116\u001b[0m         \u001b[38;5;124m\"\u001b[39m\u001b[38;5;124mThe GeoSeries already has a CRS which is not equal to the passed \u001b[39m\u001b[38;5;124m\"\u001b[39m\n\u001b[1;32m   1117\u001b[0m         \u001b[38;5;124m\"\u001b[39m\u001b[38;5;124mCRS. Specify \u001b[39m\u001b[38;5;124m'\u001b[39m\u001b[38;5;124mallow_override=True\u001b[39m\u001b[38;5;124m'\u001b[39m\u001b[38;5;124m to allow replacing the existing \u001b[39m\u001b[38;5;124m\"\u001b[39m\n\u001b[1;32m   1118\u001b[0m         \u001b[38;5;124m\"\u001b[39m\u001b[38;5;124mCRS without doing any transformation. If you actually want to \u001b[39m\u001b[38;5;124m\"\u001b[39m\n\u001b[1;32m   1119\u001b[0m         \u001b[38;5;124m\"\u001b[39m\u001b[38;5;124mtransform the geometries, use \u001b[39m\u001b[38;5;124m'\u001b[39m\u001b[38;5;124mGeoSeries.to_crs\u001b[39m\u001b[38;5;124m'\u001b[39m\u001b[38;5;124m instead.\u001b[39m\u001b[38;5;124m\"\u001b[39m\n\u001b[1;32m   1120\u001b[0m     )\n\u001b[1;32m   1121\u001b[0m \u001b[38;5;28;01mif\u001b[39;00m \u001b[38;5;129;01mnot\u001b[39;00m inplace:\n\u001b[1;32m   1122\u001b[0m     result \u001b[38;5;241m=\u001b[39m \u001b[38;5;28mself\u001b[39m\u001b[38;5;241m.\u001b[39mcopy()\n",
      "\u001b[0;31mValueError\u001b[0m: The GeoSeries already has a CRS which is not equal to the passed CRS. Specify 'allow_override=True' to allow replacing the existing CRS without doing any transformation. If you actually want to transform the geometries, use 'GeoSeries.to_crs' instead."
     ]
    }
   ],
   "source": [
    "poly_shp = poly_shp.set_crs(epsg=3395)"
   ]
  },
  {
   "cell_type": "code",
   "execution_count": null,
   "id": "ea6181ac-3e9b-417e-b526-c9c078d961ec",
   "metadata": {},
   "outputs": [],
   "source": [
    "poly_shp = poly_shp.to_crs(gdf.crs)"
   ]
  },
  {
   "cell_type": "code",
   "execution_count": 12,
   "id": "af73eab8-aa50-4387-bcd4-98f9e98b4258",
   "metadata": {},
   "outputs": [
    {
     "data": {
      "text/html": [
       "\n",
       "            <style>\n",
       "                .geemap-dark {\n",
       "                    --jp-widgets-color: white;\n",
       "                    --jp-widgets-label-color: white;\n",
       "                    --jp-ui-font-color1: white;\n",
       "                    --jp-layout-color2: #454545;\n",
       "                    background-color: #383838;\n",
       "                }\n",
       "\n",
       "                .geemap-dark .jupyter-button {\n",
       "                    --jp-layout-color3: #383838;\n",
       "                }\n",
       "\n",
       "                .geemap-colab {\n",
       "                    background-color: var(--colab-primary-surface-color, white);\n",
       "                }\n",
       "\n",
       "                .geemap-colab .jupyter-button {\n",
       "                    --jp-layout-color3: var(--colab-primary-surface-color, white);\n",
       "                }\n",
       "            </style>\n",
       "            "
      ],
      "text/plain": [
       "<IPython.core.display.HTML object>"
      ]
     },
     "metadata": {},
     "output_type": "display_data"
    },
    {
     "data": {
      "text/html": [
       "<div>\n",
       "<style scoped>\n",
       "    .dataframe tbody tr th:only-of-type {\n",
       "        vertical-align: middle;\n",
       "    }\n",
       "\n",
       "    .dataframe tbody tr th {\n",
       "        vertical-align: top;\n",
       "    }\n",
       "\n",
       "    .dataframe thead th {\n",
       "        text-align: right;\n",
       "    }\n",
       "</style>\n",
       "<table border=\"1\" class=\"dataframe\">\n",
       "  <thead>\n",
       "    <tr style=\"text-align: right;\">\n",
       "      <th></th>\n",
       "      <th>UID</th>\n",
       "      <th>ID</th>\n",
       "      <th>plotid</th>\n",
       "      <th>point_id</th>\n",
       "      <th>sampleid</th>\n",
       "      <th>lon</th>\n",
       "      <th>lat</th>\n",
       "      <th>sample_geom</th>\n",
       "      <th>Ref_FNF_2015</th>\n",
       "      <th>Ref_Regeneration</th>\n",
       "      <th>...</th>\n",
       "      <th>Ref_LCover_2022</th>\n",
       "      <th>Ref_Change_Year_2023</th>\n",
       "      <th>Ref_Change_LCover_2023</th>\n",
       "      <th>Def2023</th>\n",
       "      <th>Deg2023</th>\n",
       "      <th>interpreted_qc</th>\n",
       "      <th>Ref_Change_Type_1523</th>\n",
       "      <th>Ref_Change_Year_1523</th>\n",
       "      <th>geometry</th>\n",
       "      <th>ADM1_FR</th>\n",
       "    </tr>\n",
       "  </thead>\n",
       "  <tbody>\n",
       "    <tr>\n",
       "      <th>0</th>\n",
       "      <td>0</td>\n",
       "      <td>0</td>\n",
       "      <td>3195</td>\n",
       "      <td>3195.0</td>\n",
       "      <td>3195</td>\n",
       "      <td>11.966747</td>\n",
       "      <td>7.395009</td>\n",
       "      <td>POINT(11.966747 7.395009)</td>\n",
       "      <td>1</td>\n",
       "      <td>NaN</td>\n",
       "      <td>...</td>\n",
       "      <td>NaN</td>\n",
       "      <td>NaN</td>\n",
       "      <td>NaN</td>\n",
       "      <td>NaN</td>\n",
       "      <td>NaN</td>\n",
       "      <td>NaN</td>\n",
       "      <td>Stable</td>\n",
       "      <td>Stable</td>\n",
       "      <td>POINT (1332132.182 820007.964)</td>\n",
       "      <td>Adamaoua</td>\n",
       "    </tr>\n",
       "    <tr>\n",
       "      <th>1</th>\n",
       "      <td>1</td>\n",
       "      <td>1</td>\n",
       "      <td>382369</td>\n",
       "      <td>382369.0</td>\n",
       "      <td>382369</td>\n",
       "      <td>13.462191</td>\n",
       "      <td>4.616583</td>\n",
       "      <td>POINT(13.462191 4.616583)</td>\n",
       "      <td>1</td>\n",
       "      <td>NaN</td>\n",
       "      <td>...</td>\n",
       "      <td>NaN</td>\n",
       "      <td>NaN</td>\n",
       "      <td>NaN</td>\n",
       "      <td>NaN</td>\n",
       "      <td>NaN</td>\n",
       "      <td>NaN</td>\n",
       "      <td>Deg</td>\n",
       "      <td>Deg2022</td>\n",
       "      <td>POINT (1498604.247 511035.977)</td>\n",
       "      <td>Est</td>\n",
       "    </tr>\n",
       "    <tr>\n",
       "      <th>2</th>\n",
       "      <td>2</td>\n",
       "      <td>2</td>\n",
       "      <td>381976</td>\n",
       "      <td>381976.0</td>\n",
       "      <td>381976</td>\n",
       "      <td>13.326331</td>\n",
       "      <td>4.472166</td>\n",
       "      <td>POINT(13.326331 4.472166)</td>\n",
       "      <td>1</td>\n",
       "      <td>NaN</td>\n",
       "      <td>...</td>\n",
       "      <td>NaN</td>\n",
       "      <td>NaN</td>\n",
       "      <td>NaN</td>\n",
       "      <td>NaN</td>\n",
       "      <td>NaN</td>\n",
       "      <td>NaN</td>\n",
       "      <td>Stable</td>\n",
       "      <td>Stable</td>\n",
       "      <td>POINT (1483480.381 495016.134)</td>\n",
       "      <td>Est</td>\n",
       "    </tr>\n",
       "    <tr>\n",
       "      <th>3</th>\n",
       "      <td>3</td>\n",
       "      <td>3</td>\n",
       "      <td>381269</td>\n",
       "      <td>381269.0</td>\n",
       "      <td>381269</td>\n",
       "      <td>13.454098</td>\n",
       "      <td>4.943217</td>\n",
       "      <td>POINT(13.454098 4.943217)</td>\n",
       "      <td>1</td>\n",
       "      <td>NaN</td>\n",
       "      <td>...</td>\n",
       "      <td>NaN</td>\n",
       "      <td>NaN</td>\n",
       "      <td>NaN</td>\n",
       "      <td>NaN</td>\n",
       "      <td>NaN</td>\n",
       "      <td>NaN</td>\n",
       "      <td>Stable</td>\n",
       "      <td>Stable</td>\n",
       "      <td>POINT (1497703.338 547281.079)</td>\n",
       "      <td>Est</td>\n",
       "    </tr>\n",
       "    <tr>\n",
       "      <th>4</th>\n",
       "      <td>4</td>\n",
       "      <td>4</td>\n",
       "      <td>379902</td>\n",
       "      <td>379902.0</td>\n",
       "      <td>379902</td>\n",
       "      <td>13.021454</td>\n",
       "      <td>4.519678</td>\n",
       "      <td>POINT(13.021454 4.519678)</td>\n",
       "      <td>1</td>\n",
       "      <td>NaN</td>\n",
       "      <td>...</td>\n",
       "      <td>NaN</td>\n",
       "      <td>NaN</td>\n",
       "      <td>NaN</td>\n",
       "      <td>NaN</td>\n",
       "      <td>NaN</td>\n",
       "      <td>NaN</td>\n",
       "      <td>Stable</td>\n",
       "      <td>Stable</td>\n",
       "      <td>POINT (1449541.629 500286.172)</td>\n",
       "      <td>Est</td>\n",
       "    </tr>\n",
       "  </tbody>\n",
       "</table>\n",
       "<p>5 rows × 109 columns</p>\n",
       "</div>"
      ],
      "text/plain": [
       "   UID  ID  plotid  point_id  sampleid        lon       lat  \\\n",
       "0    0   0    3195    3195.0      3195  11.966747  7.395009   \n",
       "1    1   1  382369  382369.0    382369  13.462191  4.616583   \n",
       "2    2   2  381976  381976.0    381976  13.326331  4.472166   \n",
       "3    3   3  381269  381269.0    381269  13.454098  4.943217   \n",
       "4    4   4  379902  379902.0    379902  13.021454  4.519678   \n",
       "\n",
       "                 sample_geom  Ref_FNF_2015 Ref_Regeneration  ...  \\\n",
       "0  POINT(11.966747 7.395009)             1              NaN  ...   \n",
       "1  POINT(13.462191 4.616583)             1              NaN  ...   \n",
       "2  POINT(13.326331 4.472166)             1              NaN  ...   \n",
       "3  POINT(13.454098 4.943217)             1              NaN  ...   \n",
       "4  POINT(13.021454 4.519678)             1              NaN  ...   \n",
       "\n",
       "   Ref_LCover_2022 Ref_Change_Year_2023  Ref_Change_LCover_2023  Def2023  \\\n",
       "0              NaN                  NaN                     NaN      NaN   \n",
       "1              NaN                  NaN                     NaN      NaN   \n",
       "2              NaN                  NaN                     NaN      NaN   \n",
       "3              NaN                  NaN                     NaN      NaN   \n",
       "4              NaN                  NaN                     NaN      NaN   \n",
       "\n",
       "   Deg2023  interpreted_qc  Ref_Change_Type_1523  Ref_Change_Year_1523  \\\n",
       "0      NaN             NaN                Stable                Stable   \n",
       "1      NaN             NaN                   Deg               Deg2022   \n",
       "2      NaN             NaN                Stable                Stable   \n",
       "3      NaN             NaN                Stable                Stable   \n",
       "4      NaN             NaN                Stable                Stable   \n",
       "\n",
       "                         geometry   ADM1_FR  \n",
       "0  POINT (1332132.182 820007.964)  Adamaoua  \n",
       "1  POINT (1498604.247 511035.977)       Est  \n",
       "2  POINT (1483480.381 495016.134)       Est  \n",
       "3  POINT (1497703.338 547281.079)       Est  \n",
       "4  POINT (1449541.629 500286.172)       Est  \n",
       "\n",
       "[5 rows x 109 columns]"
      ]
     },
     "execution_count": 12,
     "metadata": {},
     "output_type": "execute_result"
    }
   ],
   "source": [
    "# Reproject both GeoDataFrames to the same projected CRS (e.g., EPSG:3395 for World Mercator)\n",
    "gdf = gdf.to_crs(\"EPSG:3395\")\n",
    "poly_shp = poly_shp.to_crs(\"EPSG:3395\")\n",
    "\n",
    "# Step 1: Perform the spatial join for intersecting points\n",
    "joined_data_intersecting = gpd.sjoin(gdf, poly_shp[[admin_name, 'geometry']], how=\"left\", predicate=\"within\", lsuffix='left', rsuffix='right')\n",
    "\n",
    "# Drop the 'index_right' column if it exists, to avoid conflicts\n",
    "if 'index_right' in joined_data_intersecting.columns:\n",
    "    joined_data_intersecting = joined_data_intersecting.drop(columns='index_right')\n",
    "\n",
    "# Step 2: Identify points without an intersection (NaN values in the Admin_Name column)\n",
    "no_intersection_points = joined_data_intersecting[joined_data_intersecting[admin_name].isna()]\n",
    "\n",
    "# Step 3: Perform the nearest spatial join for points without an intersection\n",
    "nearest_join = gpd.sjoin_nearest(no_intersection_points.drop(columns=admin_name), poly_shp[[admin_name, 'geometry']], how=\"left\", distance_col=\"distance_to_polygon\")\n",
    "\n",
    "# Drop the 'index_right' column if it exists in the nearest join result\n",
    "if 'index_right' in nearest_join.columns:\n",
    "    nearest_join = nearest_join.drop(columns='index_right')\n",
    "\n",
    "# Step 4: Combine intersecting and nearest joined data into one GeoDataFrame\n",
    "# Retain only the specified `admin_name` column from `poly_shp`\n",
    "joined_data_combined = pd.concat([\n",
    "    joined_data_intersecting.dropna(subset=[admin_name]),\n",
    "    nearest_join\n",
    "])\n",
    "\n",
    "# Select only the columns from `gdf` plus `admin_name`\n",
    "columns_to_keep = list(gdf.columns) + [admin_name]\n",
    "joined_data = joined_data_combined[columns_to_keep]\n",
    "\n",
    "# Display the resulting GeoDataFrame\n",
    "joined_data.head()"
   ]
  },
  {
   "cell_type": "code",
   "execution_count": 13,
   "id": "85cdb823-64fe-473f-9e28-108093caf783",
   "metadata": {},
   "outputs": [
    {
     "data": {
      "text/html": [
       "\n",
       "            <style>\n",
       "                .geemap-dark {\n",
       "                    --jp-widgets-color: white;\n",
       "                    --jp-widgets-label-color: white;\n",
       "                    --jp-ui-font-color1: white;\n",
       "                    --jp-layout-color2: #454545;\n",
       "                    background-color: #383838;\n",
       "                }\n",
       "\n",
       "                .geemap-dark .jupyter-button {\n",
       "                    --jp-layout-color3: #383838;\n",
       "                }\n",
       "\n",
       "                .geemap-colab {\n",
       "                    background-color: var(--colab-primary-surface-color, white);\n",
       "                }\n",
       "\n",
       "                .geemap-colab .jupyter-button {\n",
       "                    --jp-layout-color3: var(--colab-primary-surface-color, white);\n",
       "                }\n",
       "            </style>\n",
       "            "
      ],
      "text/plain": [
       "<IPython.core.display.HTML object>"
      ]
     },
     "metadata": {},
     "output_type": "display_data"
    },
    {
     "data": {
      "text/html": [
       "<div>\n",
       "<style scoped>\n",
       "    .dataframe tbody tr th:only-of-type {\n",
       "        vertical-align: middle;\n",
       "    }\n",
       "\n",
       "    .dataframe tbody tr th {\n",
       "        vertical-align: top;\n",
       "    }\n",
       "\n",
       "    .dataframe thead th {\n",
       "        text-align: right;\n",
       "    }\n",
       "</style>\n",
       "<table border=\"1\" class=\"dataframe\">\n",
       "  <thead>\n",
       "    <tr style=\"text-align: right;\">\n",
       "      <th></th>\n",
       "      <th>UID</th>\n",
       "      <th>ID</th>\n",
       "      <th>plotid</th>\n",
       "      <th>point_id</th>\n",
       "      <th>sampleid</th>\n",
       "      <th>lon</th>\n",
       "      <th>lat</th>\n",
       "      <th>sample_geom</th>\n",
       "      <th>Ref_FNF_2015</th>\n",
       "      <th>Ref_Regeneration</th>\n",
       "      <th>...</th>\n",
       "      <th>Ref_Change_Year_2023</th>\n",
       "      <th>Ref_Change_LCover_2023</th>\n",
       "      <th>Def2023</th>\n",
       "      <th>Deg2023</th>\n",
       "      <th>interpreted_qc</th>\n",
       "      <th>Ref_Change_Type_1523</th>\n",
       "      <th>Ref_Change_Year_1523</th>\n",
       "      <th>geometry</th>\n",
       "      <th>ADM1_FR</th>\n",
       "      <th>distance_to_polygon</th>\n",
       "    </tr>\n",
       "  </thead>\n",
       "  <tbody>\n",
       "    <tr>\n",
       "      <th>1574</th>\n",
       "      <td>1574</td>\n",
       "      <td>1574</td>\n",
       "      <td>1046869</td>\n",
       "      <td>390284.0</td>\n",
       "      <td>1046869</td>\n",
       "      <td>14.440224</td>\n",
       "      <td>6.089317</td>\n",
       "      <td>POINT(14.440224 6.089317)</td>\n",
       "      <td>1</td>\n",
       "      <td>NaN</td>\n",
       "      <td>...</td>\n",
       "      <td>NaN</td>\n",
       "      <td>NaN</td>\n",
       "      <td>NaN</td>\n",
       "      <td>NaN</td>\n",
       "      <td>NaN</td>\n",
       "      <td>Stable</td>\n",
       "      <td>Stable</td>\n",
       "      <td>POINT (1607478.383 674609.944)</td>\n",
       "      <td>Adamaoua</td>\n",
       "      <td>510.636786</td>\n",
       "    </tr>\n",
       "    <tr>\n",
       "      <th>4267</th>\n",
       "      <td>4267</td>\n",
       "      <td>4267</td>\n",
       "      <td>936265</td>\n",
       "      <td>552244.0</td>\n",
       "      <td>936265</td>\n",
       "      <td>15.450794</td>\n",
       "      <td>7.891717</td>\n",
       "      <td>POINT(15.450794 7.891717)</td>\n",
       "      <td>1</td>\n",
       "      <td>NaN</td>\n",
       "      <td>...</td>\n",
       "      <td>NaN</td>\n",
       "      <td>NaN</td>\n",
       "      <td>NaN</td>\n",
       "      <td>NaN</td>\n",
       "      <td>NaN</td>\n",
       "      <td>Stable</td>\n",
       "      <td>Stable</td>\n",
       "      <td>POINT (1719974.52 875430.195)</td>\n",
       "      <td>Nord</td>\n",
       "      <td>132.783634</td>\n",
       "    </tr>\n",
       "    <tr>\n",
       "      <th>5135</th>\n",
       "      <td>5135</td>\n",
       "      <td>5135</td>\n",
       "      <td>899146</td>\n",
       "      <td>109849.0</td>\n",
       "      <td>899146</td>\n",
       "      <td>9.493997</td>\n",
       "      <td>6.448739</td>\n",
       "      <td>POINT(9.493997 6.448739)</td>\n",
       "      <td>0</td>\n",
       "      <td>non</td>\n",
       "      <td>...</td>\n",
       "      <td>NaN</td>\n",
       "      <td>NaN</td>\n",
       "      <td>NaN</td>\n",
       "      <td>NaN</td>\n",
       "      <td>NaN</td>\n",
       "      <td>NF</td>\n",
       "      <td>NF</td>\n",
       "      <td>POINT (1056866.912 714595.118)</td>\n",
       "      <td>Sud-Ouest</td>\n",
       "      <td>102.886436</td>\n",
       "    </tr>\n",
       "    <tr>\n",
       "      <th>6780</th>\n",
       "      <td>6780</td>\n",
       "      <td>47</td>\n",
       "      <td>375</td>\n",
       "      <td>NaN</td>\n",
       "      <td>375</td>\n",
       "      <td>12.817746</td>\n",
       "      <td>8.954631</td>\n",
       "      <td>POINT(12.81774638 8.954631331)</td>\n",
       "      <td>1</td>\n",
       "      <td>NaN</td>\n",
       "      <td>...</td>\n",
       "      <td>Stable</td>\n",
       "      <td>Stable_11</td>\n",
       "      <td>0.0</td>\n",
       "      <td>0.0</td>\n",
       "      <td>1.0</td>\n",
       "      <td>Stable</td>\n",
       "      <td>Stable</td>\n",
       "      <td>POINT (1426865 994261.66)</td>\n",
       "      <td>Nord</td>\n",
       "      <td>225.056111</td>\n",
       "    </tr>\n",
       "    <tr>\n",
       "      <th>6816</th>\n",
       "      <td>6816</td>\n",
       "      <td>83</td>\n",
       "      <td>259</td>\n",
       "      <td>NaN</td>\n",
       "      <td>259</td>\n",
       "      <td>14.433187</td>\n",
       "      <td>9.136361</td>\n",
       "      <td>POINT(14.43318675 9.136360513)</td>\n",
       "      <td>1</td>\n",
       "      <td>non</td>\n",
       "      <td>...</td>\n",
       "      <td>NF</td>\n",
       "      <td>NF_12</td>\n",
       "      <td>0.0</td>\n",
       "      <td>0.0</td>\n",
       "      <td>0.0</td>\n",
       "      <td>NF</td>\n",
       "      <td>NF</td>\n",
       "      <td>POINT (1606695 1014612.656)</td>\n",
       "      <td>Nord</td>\n",
       "      <td>615.772240</td>\n",
       "    </tr>\n",
       "  </tbody>\n",
       "</table>\n",
       "<p>5 rows × 110 columns</p>\n",
       "</div>"
      ],
      "text/plain": [
       "       UID    ID   plotid  point_id  sampleid        lon       lat  \\\n",
       "1574  1574  1574  1046869  390284.0   1046869  14.440224  6.089317   \n",
       "4267  4267  4267   936265  552244.0    936265  15.450794  7.891717   \n",
       "5135  5135  5135   899146  109849.0    899146   9.493997  6.448739   \n",
       "6780  6780    47      375       NaN       375  12.817746  8.954631   \n",
       "6816  6816    83      259       NaN       259  14.433187  9.136361   \n",
       "\n",
       "                         sample_geom  Ref_FNF_2015 Ref_Regeneration  ...  \\\n",
       "1574       POINT(14.440224 6.089317)             1              NaN  ...   \n",
       "4267       POINT(15.450794 7.891717)             1              NaN  ...   \n",
       "5135        POINT(9.493997 6.448739)             0              non  ...   \n",
       "6780  POINT(12.81774638 8.954631331)             1              NaN  ...   \n",
       "6816  POINT(14.43318675 9.136360513)             1              non  ...   \n",
       "\n",
       "      Ref_Change_Year_2023 Ref_Change_LCover_2023  Def2023  Deg2023  \\\n",
       "1574                   NaN                    NaN      NaN      NaN   \n",
       "4267                   NaN                    NaN      NaN      NaN   \n",
       "5135                   NaN                    NaN      NaN      NaN   \n",
       "6780                Stable              Stable_11      0.0      0.0   \n",
       "6816                    NF                  NF_12      0.0      0.0   \n",
       "\n",
       "      interpreted_qc  Ref_Change_Type_1523  Ref_Change_Year_1523  \\\n",
       "1574             NaN                Stable                Stable   \n",
       "4267             NaN                Stable                Stable   \n",
       "5135             NaN                    NF                    NF   \n",
       "6780             1.0                Stable                Stable   \n",
       "6816             0.0                    NF                    NF   \n",
       "\n",
       "                            geometry    ADM1_FR  distance_to_polygon  \n",
       "1574  POINT (1607478.383 674609.944)   Adamaoua           510.636786  \n",
       "4267   POINT (1719974.52 875430.195)       Nord           132.783634  \n",
       "5135  POINT (1056866.912 714595.118)  Sud-Ouest           102.886436  \n",
       "6780       POINT (1426865 994261.66)       Nord           225.056111  \n",
       "6816     POINT (1606695 1014612.656)       Nord           615.772240  \n",
       "\n",
       "[5 rows x 110 columns]"
      ]
     },
     "execution_count": 13,
     "metadata": {},
     "output_type": "execute_result"
    }
   ],
   "source": [
    "nearest_join.head()"
   ]
  },
  {
   "cell_type": "code",
   "execution_count": 14,
   "id": "ab5b81c8-0a86-44c5-a882-075c7b75754f",
   "metadata": {},
   "outputs": [
    {
     "data": {
      "text/html": [
       "\n",
       "            <style>\n",
       "                .geemap-dark {\n",
       "                    --jp-widgets-color: white;\n",
       "                    --jp-widgets-label-color: white;\n",
       "                    --jp-ui-font-color1: white;\n",
       "                    --jp-layout-color2: #454545;\n",
       "                    background-color: #383838;\n",
       "                }\n",
       "\n",
       "                .geemap-dark .jupyter-button {\n",
       "                    --jp-layout-color3: #383838;\n",
       "                }\n",
       "\n",
       "                .geemap-colab {\n",
       "                    background-color: var(--colab-primary-surface-color, white);\n",
       "                }\n",
       "\n",
       "                .geemap-colab .jupyter-button {\n",
       "                    --jp-layout-color3: var(--colab-primary-surface-color, white);\n",
       "                }\n",
       "            </style>\n",
       "            "
      ],
      "text/plain": [
       "<IPython.core.display.HTML object>"
      ]
     },
     "metadata": {},
     "output_type": "display_data"
    },
    {
     "data": {
      "text/plain": [
       "ADM1_FR\n",
       "Adamaoua        2151\n",
       "Nord            1837\n",
       "Centre          1627\n",
       "Est             1615\n",
       "Nord-Ouest       547\n",
       "Sud              537\n",
       "Ouest            510\n",
       "Littoral         423\n",
       "Sud-Ouest        413\n",
       "Extrême-Nord     194\n",
       "Name: count, dtype: int64"
      ]
     },
     "execution_count": 14,
     "metadata": {},
     "output_type": "execute_result"
    }
   ],
   "source": [
    "joined_data[admin_name].value_counts(dropna=False)"
   ]
  },
  {
   "cell_type": "code",
   "execution_count": 15,
   "id": "063a30ca-f7a9-4b6f-929d-79079c6b6984",
   "metadata": {},
   "outputs": [
    {
     "data": {
      "text/html": [
       "\n",
       "            <style>\n",
       "                .geemap-dark {\n",
       "                    --jp-widgets-color: white;\n",
       "                    --jp-widgets-label-color: white;\n",
       "                    --jp-ui-font-color1: white;\n",
       "                    --jp-layout-color2: #454545;\n",
       "                    background-color: #383838;\n",
       "                }\n",
       "\n",
       "                .geemap-dark .jupyter-button {\n",
       "                    --jp-layout-color3: #383838;\n",
       "                }\n",
       "\n",
       "                .geemap-colab {\n",
       "                    background-color: var(--colab-primary-surface-color, white);\n",
       "                }\n",
       "\n",
       "                .geemap-colab .jupyter-button {\n",
       "                    --jp-layout-color3: var(--colab-primary-surface-color, white);\n",
       "                }\n",
       "            </style>\n",
       "            "
      ],
      "text/plain": [
       "<IPython.core.display.HTML object>"
      ]
     },
     "metadata": {},
     "output_type": "display_data"
    },
    {
     "data": {
      "text/html": [
       "<div>\n",
       "<style scoped>\n",
       "    .dataframe tbody tr th:only-of-type {\n",
       "        vertical-align: middle;\n",
       "    }\n",
       "\n",
       "    .dataframe tbody tr th {\n",
       "        vertical-align: top;\n",
       "    }\n",
       "\n",
       "    .dataframe thead th {\n",
       "        text-align: right;\n",
       "    }\n",
       "</style>\n",
       "<table border=\"1\" class=\"dataframe\">\n",
       "  <thead>\n",
       "    <tr style=\"text-align: right;\">\n",
       "      <th>collection</th>\n",
       "      <th>QC_2023</th>\n",
       "      <th>coll_1522_1</th>\n",
       "      <th>coll_1522_2</th>\n",
       "      <th>coll_2023_1</th>\n",
       "      <th>coll_2023_2</th>\n",
       "      <th>coll_2023_3</th>\n",
       "      <th>coll_2023_4</th>\n",
       "      <th>coll_2023_5</th>\n",
       "      <th>coll_2023_6</th>\n",
       "      <th>Total</th>\n",
       "    </tr>\n",
       "    <tr>\n",
       "      <th>ADM1_FR</th>\n",
       "      <th></th>\n",
       "      <th></th>\n",
       "      <th></th>\n",
       "      <th></th>\n",
       "      <th></th>\n",
       "      <th></th>\n",
       "      <th></th>\n",
       "      <th></th>\n",
       "      <th></th>\n",
       "      <th></th>\n",
       "    </tr>\n",
       "  </thead>\n",
       "  <tbody>\n",
       "    <tr>\n",
       "      <th>Adamaoua</th>\n",
       "      <td>40</td>\n",
       "      <td>73</td>\n",
       "      <td>1559</td>\n",
       "      <td>86</td>\n",
       "      <td>68</td>\n",
       "      <td>21</td>\n",
       "      <td>106</td>\n",
       "      <td>40</td>\n",
       "      <td>158</td>\n",
       "      <td>2151</td>\n",
       "    </tr>\n",
       "    <tr>\n",
       "      <th>Centre</th>\n",
       "      <td>42</td>\n",
       "      <td>73</td>\n",
       "      <td>1088</td>\n",
       "      <td>50</td>\n",
       "      <td>67</td>\n",
       "      <td>21</td>\n",
       "      <td>118</td>\n",
       "      <td>50</td>\n",
       "      <td>118</td>\n",
       "      <td>1627</td>\n",
       "    </tr>\n",
       "    <tr>\n",
       "      <th>Est</th>\n",
       "      <td>46</td>\n",
       "      <td>135</td>\n",
       "      <td>983</td>\n",
       "      <td>63</td>\n",
       "      <td>92</td>\n",
       "      <td>15</td>\n",
       "      <td>170</td>\n",
       "      <td>26</td>\n",
       "      <td>85</td>\n",
       "      <td>1615</td>\n",
       "    </tr>\n",
       "    <tr>\n",
       "      <th>Extrême-Nord</th>\n",
       "      <td>12</td>\n",
       "      <td>1</td>\n",
       "      <td>48</td>\n",
       "      <td>33</td>\n",
       "      <td>22</td>\n",
       "      <td>10</td>\n",
       "      <td>23</td>\n",
       "      <td>12</td>\n",
       "      <td>33</td>\n",
       "      <td>194</td>\n",
       "    </tr>\n",
       "    <tr>\n",
       "      <th>Littoral</th>\n",
       "      <td>15</td>\n",
       "      <td>29</td>\n",
       "      <td>264</td>\n",
       "      <td>17</td>\n",
       "      <td>24</td>\n",
       "      <td>9</td>\n",
       "      <td>21</td>\n",
       "      <td>11</td>\n",
       "      <td>33</td>\n",
       "      <td>423</td>\n",
       "    </tr>\n",
       "    <tr>\n",
       "      <th>Nord</th>\n",
       "      <td>49</td>\n",
       "      <td>71</td>\n",
       "      <td>1065</td>\n",
       "      <td>87</td>\n",
       "      <td>67</td>\n",
       "      <td>66</td>\n",
       "      <td>102</td>\n",
       "      <td>86</td>\n",
       "      <td>244</td>\n",
       "      <td>1837</td>\n",
       "    </tr>\n",
       "    <tr>\n",
       "      <th>Nord-Ouest</th>\n",
       "      <td>13</td>\n",
       "      <td>23</td>\n",
       "      <td>355</td>\n",
       "      <td>35</td>\n",
       "      <td>22</td>\n",
       "      <td>12</td>\n",
       "      <td>35</td>\n",
       "      <td>16</td>\n",
       "      <td>36</td>\n",
       "      <td>547</td>\n",
       "    </tr>\n",
       "    <tr>\n",
       "      <th>Ouest</th>\n",
       "      <td>18</td>\n",
       "      <td>17</td>\n",
       "      <td>310</td>\n",
       "      <td>32</td>\n",
       "      <td>20</td>\n",
       "      <td>14</td>\n",
       "      <td>21</td>\n",
       "      <td>23</td>\n",
       "      <td>55</td>\n",
       "      <td>510</td>\n",
       "    </tr>\n",
       "    <tr>\n",
       "      <th>Sud</th>\n",
       "      <td>15</td>\n",
       "      <td>47</td>\n",
       "      <td>305</td>\n",
       "      <td>19</td>\n",
       "      <td>46</td>\n",
       "      <td>2</td>\n",
       "      <td>73</td>\n",
       "      <td>6</td>\n",
       "      <td>24</td>\n",
       "      <td>537</td>\n",
       "    </tr>\n",
       "    <tr>\n",
       "      <th>Sud-Ouest</th>\n",
       "      <td>10</td>\n",
       "      <td>29</td>\n",
       "      <td>258</td>\n",
       "      <td>20</td>\n",
       "      <td>22</td>\n",
       "      <td>3</td>\n",
       "      <td>40</td>\n",
       "      <td>4</td>\n",
       "      <td>27</td>\n",
       "      <td>413</td>\n",
       "    </tr>\n",
       "    <tr>\n",
       "      <th>Total</th>\n",
       "      <td>260</td>\n",
       "      <td>498</td>\n",
       "      <td>6235</td>\n",
       "      <td>442</td>\n",
       "      <td>450</td>\n",
       "      <td>173</td>\n",
       "      <td>709</td>\n",
       "      <td>274</td>\n",
       "      <td>813</td>\n",
       "      <td>9854</td>\n",
       "    </tr>\n",
       "  </tbody>\n",
       "</table>\n",
       "</div>"
      ],
      "text/plain": [
       "collection    QC_2023  coll_1522_1  coll_1522_2  coll_2023_1  coll_2023_2  \\\n",
       "ADM1_FR                                                                     \n",
       "Adamaoua           40           73         1559           86           68   \n",
       "Centre             42           73         1088           50           67   \n",
       "Est                46          135          983           63           92   \n",
       "Extrême-Nord       12            1           48           33           22   \n",
       "Littoral           15           29          264           17           24   \n",
       "Nord               49           71         1065           87           67   \n",
       "Nord-Ouest         13           23          355           35           22   \n",
       "Ouest              18           17          310           32           20   \n",
       "Sud                15           47          305           19           46   \n",
       "Sud-Ouest          10           29          258           20           22   \n",
       "Total             260          498         6235          442          450   \n",
       "\n",
       "collection    coll_2023_3  coll_2023_4  coll_2023_5  coll_2023_6  Total  \n",
       "ADM1_FR                                                                  \n",
       "Adamaoua               21          106           40          158   2151  \n",
       "Centre                 21          118           50          118   1627  \n",
       "Est                    15          170           26           85   1615  \n",
       "Extrême-Nord           10           23           12           33    194  \n",
       "Littoral                9           21           11           33    423  \n",
       "Nord                   66          102           86          244   1837  \n",
       "Nord-Ouest             12           35           16           36    547  \n",
       "Ouest                  14           21           23           55    510  \n",
       "Sud                     2           73            6           24    537  \n",
       "Sud-Ouest               3           40            4           27    413  \n",
       "Total                 173          709          274          813   9854  "
      ]
     },
     "execution_count": 15,
     "metadata": {},
     "output_type": "execute_result"
    }
   ],
   "source": [
    "province_pts = pd.pivot_table(joined_data,values='plotid',index=[admin_name],columns=['collection'],aggfunc=\"count\",margins=True,\n",
    "                             margins_name='Total',dropna=False)\n",
    "province_pts"
   ]
  },
  {
   "cell_type": "code",
   "execution_count": null,
   "id": "9ba8e020-bacc-42a4-943e-accfc03c6b27",
   "metadata": {},
   "outputs": [],
   "source": [
    "# Remove rows where the 'Province' column has NaN values\n",
    "joined_data = joined_data.dropna(subset=[admin_name])"
   ]
  },
  {
   "cell_type": "code",
   "execution_count": 16,
   "id": "05413a76-b5cc-4fff-ac20-19d3f89bca0d",
   "metadata": {},
   "outputs": [
    {
     "data": {
      "text/html": [
       "\n",
       "            <style>\n",
       "                .geemap-dark {\n",
       "                    --jp-widgets-color: white;\n",
       "                    --jp-widgets-label-color: white;\n",
       "                    --jp-ui-font-color1: white;\n",
       "                    --jp-layout-color2: #454545;\n",
       "                    background-color: #383838;\n",
       "                }\n",
       "\n",
       "                .geemap-dark .jupyter-button {\n",
       "                    --jp-layout-color3: #383838;\n",
       "                }\n",
       "\n",
       "                .geemap-colab {\n",
       "                    background-color: var(--colab-primary-surface-color, white);\n",
       "                }\n",
       "\n",
       "                .geemap-colab .jupyter-button {\n",
       "                    --jp-layout-color3: var(--colab-primary-surface-color, white);\n",
       "                }\n",
       "            </style>\n",
       "            "
      ],
      "text/plain": [
       "<IPython.core.display.HTML object>"
      ]
     },
     "metadata": {},
     "output_type": "display_data"
    },
    {
     "data": {
      "text/plain": [
       "9854"
      ]
     },
     "execution_count": 16,
     "metadata": {},
     "output_type": "execute_result"
    }
   ],
   "source": [
    "len(joined_data)"
   ]
  },
  {
   "cell_type": "code",
   "execution_count": 17,
   "id": "fffada97-07e8-4e4d-9275-5104ed510b2e",
   "metadata": {},
   "outputs": [
    {
     "data": {
      "text/html": [
       "\n",
       "            <style>\n",
       "                .geemap-dark {\n",
       "                    --jp-widgets-color: white;\n",
       "                    --jp-widgets-label-color: white;\n",
       "                    --jp-ui-font-color1: white;\n",
       "                    --jp-layout-color2: #454545;\n",
       "                    background-color: #383838;\n",
       "                }\n",
       "\n",
       "                .geemap-dark .jupyter-button {\n",
       "                    --jp-layout-color3: #383838;\n",
       "                }\n",
       "\n",
       "                .geemap-colab {\n",
       "                    background-color: var(--colab-primary-surface-color, white);\n",
       "                }\n",
       "\n",
       "                .geemap-colab .jupyter-button {\n",
       "                    --jp-layout-color3: var(--colab-primary-surface-color, white);\n",
       "                }\n",
       "            </style>\n",
       "            "
      ],
      "text/plain": [
       "<IPython.core.display.HTML object>"
      ]
     },
     "metadata": {},
     "output_type": "display_data"
    }
   ],
   "source": [
    "poly_shp = poly_shp.to_crs(\"EPSG:3395\")"
   ]
  },
  {
   "cell_type": "code",
   "execution_count": 18,
   "id": "4c73882f-7590-4e2f-adfc-ecaaea480833",
   "metadata": {},
   "outputs": [
    {
     "data": {
      "text/html": [
       "\n",
       "            <style>\n",
       "                .geemap-dark {\n",
       "                    --jp-widgets-color: white;\n",
       "                    --jp-widgets-label-color: white;\n",
       "                    --jp-ui-font-color1: white;\n",
       "                    --jp-layout-color2: #454545;\n",
       "                    background-color: #383838;\n",
       "                }\n",
       "\n",
       "                .geemap-dark .jupyter-button {\n",
       "                    --jp-layout-color3: #383838;\n",
       "                }\n",
       "\n",
       "                .geemap-colab {\n",
       "                    background-color: var(--colab-primary-surface-color, white);\n",
       "                }\n",
       "\n",
       "                .geemap-colab .jupyter-button {\n",
       "                    --jp-layout-color3: var(--colab-primary-surface-color, white);\n",
       "                }\n",
       "            </style>\n",
       "            "
      ],
      "text/plain": [
       "<IPython.core.display.HTML object>"
      ]
     },
     "metadata": {},
     "output_type": "display_data"
    }
   ],
   "source": [
    "#calculate area of poly\n",
    "poly_shp['area_sqm'] = poly_shp.geometry.area"
   ]
  },
  {
   "cell_type": "code",
   "execution_count": 19,
   "id": "80300e55-1241-4cd4-a012-9cb584aae074",
   "metadata": {},
   "outputs": [
    {
     "data": {
      "text/html": [
       "\n",
       "            <style>\n",
       "                .geemap-dark {\n",
       "                    --jp-widgets-color: white;\n",
       "                    --jp-widgets-label-color: white;\n",
       "                    --jp-ui-font-color1: white;\n",
       "                    --jp-layout-color2: #454545;\n",
       "                    background-color: #383838;\n",
       "                }\n",
       "\n",
       "                .geemap-dark .jupyter-button {\n",
       "                    --jp-layout-color3: #383838;\n",
       "                }\n",
       "\n",
       "                .geemap-colab {\n",
       "                    background-color: var(--colab-primary-surface-color, white);\n",
       "                }\n",
       "\n",
       "                .geemap-colab .jupyter-button {\n",
       "                    --jp-layout-color3: var(--colab-primary-surface-color, white);\n",
       "                }\n",
       "            </style>\n",
       "            "
      ],
      "text/plain": [
       "<IPython.core.display.HTML object>"
      ]
     },
     "metadata": {},
     "output_type": "display_data"
    }
   ],
   "source": [
    "poly_shp['area_ha'] = poly_shp['area_sqm'] / 10000"
   ]
  },
  {
   "cell_type": "code",
   "execution_count": 20,
   "id": "ac724cd3-7c07-40cc-b31e-88527b528826",
   "metadata": {},
   "outputs": [
    {
     "data": {
      "text/html": [
       "\n",
       "            <style>\n",
       "                .geemap-dark {\n",
       "                    --jp-widgets-color: white;\n",
       "                    --jp-widgets-label-color: white;\n",
       "                    --jp-ui-font-color1: white;\n",
       "                    --jp-layout-color2: #454545;\n",
       "                    background-color: #383838;\n",
       "                }\n",
       "\n",
       "                .geemap-dark .jupyter-button {\n",
       "                    --jp-layout-color3: #383838;\n",
       "                }\n",
       "\n",
       "                .geemap-colab {\n",
       "                    background-color: var(--colab-primary-surface-color, white);\n",
       "                }\n",
       "\n",
       "                .geemap-colab .jupyter-button {\n",
       "                    --jp-layout-color3: var(--colab-primary-surface-color, white);\n",
       "                }\n",
       "            </style>\n",
       "            "
      ],
      "text/plain": [
       "<IPython.core.display.HTML object>"
      ]
     },
     "metadata": {},
     "output_type": "display_data"
    },
    {
     "name": "stdout",
     "output_type": "stream",
     "text": [
      "        ADM1_FR  area_ha\n",
      "0      Adamaoua  6491649\n",
      "1        Centre  6918872\n",
      "2           Est 11051277\n",
      "3  Extrême-Nord  3546998\n",
      "4      Littoral  2032243\n",
      "5          Nord  6763003\n",
      "6    Nord-Ouest  1763348\n",
      "7           Sud  4728342\n",
      "8     Sud-Ouest  2497090\n",
      "9         Ouest  1408322\n"
     ]
    }
   ],
   "source": [
    "pd.set_option('display.float_format', lambda x: '%.0f' % x)\n",
    "\n",
    "# Display the GeoDataFrame with the new area columns\n",
    "print(poly_shp[[admin_name, 'area_ha']])"
   ]
  },
  {
   "cell_type": "code",
   "execution_count": 21,
   "id": "7a3beb90-85e2-4bdc-b9f2-bc92d826725f",
   "metadata": {},
   "outputs": [
    {
     "data": {
      "text/html": [
       "\n",
       "            <style>\n",
       "                .geemap-dark {\n",
       "                    --jp-widgets-color: white;\n",
       "                    --jp-widgets-label-color: white;\n",
       "                    --jp-ui-font-color1: white;\n",
       "                    --jp-layout-color2: #454545;\n",
       "                    background-color: #383838;\n",
       "                }\n",
       "\n",
       "                .geemap-dark .jupyter-button {\n",
       "                    --jp-layout-color3: #383838;\n",
       "                }\n",
       "\n",
       "                .geemap-colab {\n",
       "                    background-color: var(--colab-primary-surface-color, white);\n",
       "                }\n",
       "\n",
       "                .geemap-colab .jupyter-button {\n",
       "                    --jp-layout-color3: var(--colab-primary-surface-color, white);\n",
       "                }\n",
       "            </style>\n",
       "            "
      ],
      "text/plain": [
       "<IPython.core.display.HTML object>"
      ]
     },
     "metadata": {},
     "output_type": "display_data"
    },
    {
     "name": "stderr",
     "output_type": "stream",
     "text": [
      "/tmp/ipykernel_433/452209732.py:9: SettingWithCopyWarning: \n",
      "A value is trying to be set on a copy of a slice from a DataFrame\n",
      "\n",
      "See the caveats in the documentation: https://pandas.pydata.org/pandas-docs/stable/user_guide/indexing.html#returning-a-view-versus-a-copy\n",
      "  joined_data.rename(columns=column_mapping, inplace=True)\n"
     ]
    }
   ],
   "source": [
    "# Rename columns\n",
    "column_mapping = {\n",
    "   admin_name: new_name\n",
    "#    'NAME_2': 'Territoire',\n",
    "#    'Unnamed: 0':'Index'\n",
    "}\n",
    "\n",
    "# Use the rename() method to rename columns\n",
    "joined_data.rename(columns=column_mapping, inplace=True)"
   ]
  },
  {
   "cell_type": "code",
   "execution_count": 22,
   "id": "d6e7631d-aecb-4f92-b37b-bd52d696f321",
   "metadata": {},
   "outputs": [
    {
     "data": {
      "text/html": [
       "\n",
       "            <style>\n",
       "                .geemap-dark {\n",
       "                    --jp-widgets-color: white;\n",
       "                    --jp-widgets-label-color: white;\n",
       "                    --jp-ui-font-color1: white;\n",
       "                    --jp-layout-color2: #454545;\n",
       "                    background-color: #383838;\n",
       "                }\n",
       "\n",
       "                .geemap-dark .jupyter-button {\n",
       "                    --jp-layout-color3: #383838;\n",
       "                }\n",
       "\n",
       "                .geemap-colab {\n",
       "                    background-color: var(--colab-primary-surface-color, white);\n",
       "                }\n",
       "\n",
       "                .geemap-colab .jupyter-button {\n",
       "                    --jp-layout-color3: var(--colab-primary-surface-color, white);\n",
       "                }\n",
       "            </style>\n",
       "            "
      ],
      "text/plain": [
       "<IPython.core.display.HTML object>"
      ]
     },
     "metadata": {},
     "output_type": "display_data"
    },
    {
     "name": "stdout",
     "output_type": "stream",
     "text": [
      "['UID', 'ID', 'plotid', 'point_id', 'sampleid', 'lon', 'lat', 'sample_geom', 'Ref_FNF_2015', 'Ref_Regeneration', 'Ref_Change_1522', 'Ref_Change_Type_1522', 'ArtFor', 'ArtMine', 'InfraR', 'Urb', 'IndFor', 'Other', 'Other_Desc', 'IndMine', 'IndAg', 'ArtAg', 'Ref_Year_1522', 'Ref_NFtype_2015', 'Ref_Ftype_2015', 'collection', 'interpreted', 'Ref_LCover_2015', 'Ref_Change_Year_1522', 'Ref_Change_LCover_1522', 'Def2016', 'Def2017', 'Def2018', 'Def2019', 'Def2020', 'Def2021', 'Def2022', 'Deg2016', 'Deg2017', 'Deg2018', 'Deg2019', 'Deg2020', 'Deg2021', 'Deg2022', 'Defall', 'Degall', 'Stable', 'NF', 'DensFor', 'DensDryFor', 'SecFor', 'DryOpenFor', 'Mangrove', 'Swamp', 'Gallery', 'Plantation', 'Woodland', 'Shrubland', 'Grassland', 'Aquatic', 'Bare', 'Cultivated', 'Builtup', 'Water', 'DensFor_Def', 'DensDryFor_Def', 'SecFor_Def', 'DryOpenFor_Def', 'Mangrove_Def', 'Swamp_Def', 'Gallery_Def', 'Plantation_Def', 'Woodland_Def', 'DensFor_Deg', 'DensDryFor_Deg', 'SecFor_Deg', 'DryOpenFor_Deg', 'Mangrove_Deg', 'Swamp_Deg', 'Gallery_Deg', 'Plantation_Deg', 'Woodland_Deg', 'DensFor_Stable', 'DensDryFor_Stable', 'SecFor_Stable', 'DryOpenFor_Stable', 'Mangrove_Stable', 'Swamp_Stable', 'Gallery_Stable', 'Plantation_Stable', 'Woodland_Stable', 'ISO', 'sampling', 'TNT_stratum', 'Ref_FNF_2022', 'Ref_Change_2023', 'Ref_Change_Type_2023', 'Ref_NFtype_2022', 'Ref_Ftype_2022', 'Ref_LCover_2022', 'Ref_Change_Year_2023', 'Ref_Change_LCover_2023', 'Def2023', 'Deg2023', 'interpreted_qc', 'Ref_Change_Type_1523', 'Ref_Change_Year_1523', 'geometry', 'Province']\n"
     ]
    }
   ],
   "source": [
    "list_columns = joined_data.columns.tolist()\n",
    "\n",
    "# Display the list of column names\n",
    "print(list_columns)"
   ]
  },
  {
   "cell_type": "code",
   "execution_count": 23,
   "id": "3f6e2f31-226c-486b-af0f-373d0718508e",
   "metadata": {},
   "outputs": [
    {
     "data": {
      "text/html": [
       "\n",
       "            <style>\n",
       "                .geemap-dark {\n",
       "                    --jp-widgets-color: white;\n",
       "                    --jp-widgets-label-color: white;\n",
       "                    --jp-ui-font-color1: white;\n",
       "                    --jp-layout-color2: #454545;\n",
       "                    background-color: #383838;\n",
       "                }\n",
       "\n",
       "                .geemap-dark .jupyter-button {\n",
       "                    --jp-layout-color3: #383838;\n",
       "                }\n",
       "\n",
       "                .geemap-colab {\n",
       "                    background-color: var(--colab-primary-surface-color, white);\n",
       "                }\n",
       "\n",
       "                .geemap-colab .jupyter-button {\n",
       "                    --jp-layout-color3: var(--colab-primary-surface-color, white);\n",
       "                }\n",
       "            </style>\n",
       "            "
      ],
      "text/plain": [
       "<IPython.core.display.HTML object>"
      ]
     },
     "metadata": {},
     "output_type": "display_data"
    }
   ],
   "source": [
    "joined_data = joined_data.to_crs(\"EPSG:4326\")"
   ]
  },
  {
   "cell_type": "code",
   "execution_count": 24,
   "id": "bad34bad-7b87-4546-b2e2-1c2a0fa2d01f",
   "metadata": {},
   "outputs": [
    {
     "data": {
      "text/html": [
       "\n",
       "            <style>\n",
       "                .geemap-dark {\n",
       "                    --jp-widgets-color: white;\n",
       "                    --jp-widgets-label-color: white;\n",
       "                    --jp-ui-font-color1: white;\n",
       "                    --jp-layout-color2: #454545;\n",
       "                    background-color: #383838;\n",
       "                }\n",
       "\n",
       "                .geemap-dark .jupyter-button {\n",
       "                    --jp-layout-color3: #383838;\n",
       "                }\n",
       "\n",
       "                .geemap-colab {\n",
       "                    background-color: var(--colab-primary-surface-color, white);\n",
       "                }\n",
       "\n",
       "                .geemap-colab .jupyter-button {\n",
       "                    --jp-layout-color3: var(--colab-primary-surface-color, white);\n",
       "                }\n",
       "            </style>\n",
       "            "
      ],
      "text/plain": [
       "<IPython.core.display.HTML object>"
      ]
     },
     "metadata": {},
     "output_type": "display_data"
    }
   ],
   "source": [
    "# save output\n",
    "out_file_shp_att =  '/home/sepal-user/module_results/esbae/CMR/CMR_all_ceo_2015_2016_2022_2023_prov.csv'\n",
    "joined_data.to_csv(out_file_shp_att,index=False)"
   ]
  },
  {
   "cell_type": "markdown",
   "id": "f728489e-6479-4e53-af28-9f7e1c1b2236",
   "metadata": {},
   "source": [
    "#### assign strata from GEE asset"
   ]
  },
  {
   "cell_type": "code",
   "execution_count": 25,
   "id": "190a9c4b-e8e2-4d94-b664-1482816c6f97",
   "metadata": {},
   "outputs": [
    {
     "data": {
      "text/html": [
       "\n",
       "            <style>\n",
       "                .geemap-dark {\n",
       "                    --jp-widgets-color: white;\n",
       "                    --jp-widgets-label-color: white;\n",
       "                    --jp-ui-font-color1: white;\n",
       "                    --jp-layout-color2: #454545;\n",
       "                    background-color: #383838;\n",
       "                }\n",
       "\n",
       "                .geemap-dark .jupyter-button {\n",
       "                    --jp-layout-color3: #383838;\n",
       "                }\n",
       "\n",
       "                .geemap-colab {\n",
       "                    background-color: var(--colab-primary-surface-color, white);\n",
       "                }\n",
       "\n",
       "                .geemap-colab .jupyter-button {\n",
       "                    --jp-layout-color3: var(--colab-primary-surface-color, white);\n",
       "                }\n",
       "            </style>\n",
       "            "
      ],
      "text/plain": [
       "<IPython.core.display.HTML object>"
      ]
     },
     "metadata": {},
     "output_type": "display_data"
    }
   ],
   "source": [
    "gdf = joined_data"
   ]
  },
  {
   "cell_type": "code",
   "execution_count": 26,
   "id": "54a3edfb-0983-4325-92d1-f52cee1bdef1",
   "metadata": {},
   "outputs": [
    {
     "data": {
      "text/html": [
       "\n",
       "            <style>\n",
       "                .geemap-dark {\n",
       "                    --jp-widgets-color: white;\n",
       "                    --jp-widgets-label-color: white;\n",
       "                    --jp-ui-font-color1: white;\n",
       "                    --jp-layout-color2: #454545;\n",
       "                    background-color: #383838;\n",
       "                }\n",
       "\n",
       "                .geemap-dark .jupyter-button {\n",
       "                    --jp-layout-color3: #383838;\n",
       "                }\n",
       "\n",
       "                .geemap-colab {\n",
       "                    background-color: var(--colab-primary-surface-color, white);\n",
       "                }\n",
       "\n",
       "                .geemap-colab .jupyter-button {\n",
       "                    --jp-layout-color3: var(--colab-primary-surface-color, white);\n",
       "                }\n",
       "            </style>\n",
       "            "
      ],
      "text/plain": [
       "<IPython.core.display.HTML object>"
      ]
     },
     "metadata": {},
     "output_type": "display_data"
    }
   ],
   "source": [
    "UID = 'UID'"
   ]
  },
  {
   "cell_type": "code",
   "execution_count": 27,
   "id": "e677713d-cd19-43bf-b009-4c9dda17ad0c",
   "metadata": {},
   "outputs": [
    {
     "data": {
      "text/html": [
       "\n",
       "            <style>\n",
       "                .geemap-dark {\n",
       "                    --jp-widgets-color: white;\n",
       "                    --jp-widgets-label-color: white;\n",
       "                    --jp-ui-font-color1: white;\n",
       "                    --jp-layout-color2: #454545;\n",
       "                    background-color: #383838;\n",
       "                }\n",
       "\n",
       "                .geemap-dark .jupyter-button {\n",
       "                    --jp-layout-color3: #383838;\n",
       "                }\n",
       "\n",
       "                .geemap-colab {\n",
       "                    background-color: var(--colab-primary-surface-color, white);\n",
       "                }\n",
       "\n",
       "                .geemap-colab .jupyter-button {\n",
       "                    --jp-layout-color3: var(--colab-primary-surface-color, white);\n",
       "                }\n",
       "            </style>\n",
       "            "
      ],
      "text/plain": [
       "<IPython.core.display.HTML object>"
      ]
     },
     "metadata": {},
     "output_type": "display_data"
    },
    {
     "name": "stdout",
     "output_type": "stream",
     "text": [
      "UID has entirely unique values.\n",
      "ID does not have entirely unique values.\n"
     ]
    }
   ],
   "source": [
    "# Assuming df is your DataFrame - check for unique values\n",
    "if gdf[UID].nunique() == len(gdf):\n",
    "    print(\"UID has entirely unique values.\")\n",
    "else:\n",
    "    print(\"UID does not have entirely unique values.\")\n",
    "\n",
    "if gdf['ID'].nunique() == len(gdf):\n",
    "    print(\"ID has entirely unique values.\")\n",
    "else:\n",
    "    print(\"ID does not have entirely unique values.\")"
   ]
  },
  {
   "cell_type": "code",
   "execution_count": 28,
   "id": "026088de-0515-4928-8c1e-cb4c53140806",
   "metadata": {},
   "outputs": [
    {
     "data": {
      "text/html": [
       "\n",
       "            <style>\n",
       "                .geemap-dark {\n",
       "                    --jp-widgets-color: white;\n",
       "                    --jp-widgets-label-color: white;\n",
       "                    --jp-ui-font-color1: white;\n",
       "                    --jp-layout-color2: #454545;\n",
       "                    background-color: #383838;\n",
       "                }\n",
       "\n",
       "                .geemap-dark .jupyter-button {\n",
       "                    --jp-layout-color3: #383838;\n",
       "                }\n",
       "\n",
       "                .geemap-colab {\n",
       "                    background-color: var(--colab-primary-surface-color, white);\n",
       "                }\n",
       "\n",
       "                .geemap-colab .jupyter-button {\n",
       "                    --jp-layout-color3: var(--colab-primary-surface-color, white);\n",
       "                }\n",
       "            </style>\n",
       "            "
      ],
      "text/plain": [
       "<IPython.core.display.HTML object>"
      ]
     },
     "metadata": {},
     "output_type": "display_data"
    }
   ],
   "source": [
    "# Remove duplicates keeping the last occurrence (the most recent date)\n",
    "#gdf.drop_duplicates(subset='sample_geom', keep='last', inplace=True)"
   ]
  },
  {
   "cell_type": "code",
   "execution_count": 29,
   "id": "d348eeb5-96af-4d04-9c2e-16e3ef8d2331",
   "metadata": {},
   "outputs": [
    {
     "data": {
      "text/html": [
       "\n",
       "            <style>\n",
       "                .geemap-dark {\n",
       "                    --jp-widgets-color: white;\n",
       "                    --jp-widgets-label-color: white;\n",
       "                    --jp-ui-font-color1: white;\n",
       "                    --jp-layout-color2: #454545;\n",
       "                    background-color: #383838;\n",
       "                }\n",
       "\n",
       "                .geemap-dark .jupyter-button {\n",
       "                    --jp-layout-color3: #383838;\n",
       "                }\n",
       "\n",
       "                .geemap-colab {\n",
       "                    background-color: var(--colab-primary-surface-color, white);\n",
       "                }\n",
       "\n",
       "                .geemap-colab .jupyter-button {\n",
       "                    --jp-layout-color3: var(--colab-primary-surface-color, white);\n",
       "                }\n",
       "            </style>\n",
       "            "
      ],
      "text/plain": [
       "<IPython.core.display.HTML object>"
      ]
     },
     "metadata": {},
     "output_type": "display_data"
    }
   ],
   "source": [
    "# select 2022-2023 strata asset you want to sample \n",
    "#asset2223 = ee.Image('users/faocongo/sbae/EQG_FNF_kmeans_strat_5_2022_2023')\n",
    "#asset2223 = ee.Image('users/faocongo/sbae/CAF_FNF_kmeans_strat_5_2022_2023')\n",
    "#asset2223 = ee.Image('users/faocongo/sbae/GAB_FNF_kmeans_strat_5_2022_2023')\n",
    "asset2223 = ee.Image('users/faocongo/sbae/CMR_FNF_kmeans_strat_5_2022_2023')\n",
    "#asset2223 = ee.Image('users/faocongo/sbae/COD_allData_stratification_2023')\n",
    "#asset2223 = ee.Image('users/faocongo/sbae/COD_FNF_kmeans_strat_5_2022_2023')\n",
    "#asset2223 = ee.Image('users/faocongo/sbae/COD_allData_stratification_2023')\n",
    "#asset2223 = ee.Image('projects/ee-ameliearquero/assets/COG_FNF_kmeans_strat_3_2022_2023')\n",
    "#asset2223 = ee.Image('users/faocongo/sbae/CMR_allData_stratification_2023')"
   ]
  },
  {
   "cell_type": "code",
   "execution_count": 30,
   "id": "c8dff7cb-fbb9-42b4-b9f3-146ebb4e9daa",
   "metadata": {},
   "outputs": [
    {
     "data": {
      "text/html": [
       "\n",
       "            <style>\n",
       "                .geemap-dark {\n",
       "                    --jp-widgets-color: white;\n",
       "                    --jp-widgets-label-color: white;\n",
       "                    --jp-ui-font-color1: white;\n",
       "                    --jp-layout-color2: #454545;\n",
       "                    background-color: #383838;\n",
       "                }\n",
       "\n",
       "                .geemap-dark .jupyter-button {\n",
       "                    --jp-layout-color3: #383838;\n",
       "                }\n",
       "\n",
       "                .geemap-colab {\n",
       "                    background-color: var(--colab-primary-surface-color, white);\n",
       "                }\n",
       "\n",
       "                .geemap-colab .jupyter-button {\n",
       "                    --jp-layout-color3: var(--colab-primary-surface-color, white);\n",
       "                }\n",
       "            </style>\n",
       "            "
      ],
      "text/plain": [
       "<IPython.core.display.HTML object>"
      ]
     },
     "metadata": {},
     "output_type": "display_data"
    }
   ],
   "source": [
    "# what to rename sampled band to. it is always called first\n",
    "newName2223 = 'TNT_stratum_2023'"
   ]
  },
  {
   "cell_type": "code",
   "execution_count": 31,
   "id": "f4eb8ad3-2e01-425c-bd30-163242b1f766",
   "metadata": {},
   "outputs": [
    {
     "data": {
      "text/html": [
       "\n",
       "            <style>\n",
       "                .geemap-dark {\n",
       "                    --jp-widgets-color: white;\n",
       "                    --jp-widgets-label-color: white;\n",
       "                    --jp-ui-font-color1: white;\n",
       "                    --jp-layout-color2: #454545;\n",
       "                    background-color: #383838;\n",
       "                }\n",
       "\n",
       "                .geemap-dark .jupyter-button {\n",
       "                    --jp-layout-color3: #383838;\n",
       "                }\n",
       "\n",
       "                .geemap-colab {\n",
       "                    background-color: var(--colab-primary-surface-color, white);\n",
       "                }\n",
       "\n",
       "                .geemap-colab .jupyter-button {\n",
       "                    --jp-layout-color3: var(--colab-primary-surface-color, white);\n",
       "                }\n",
       "            </style>\n",
       "            "
      ],
      "text/plain": [
       "<IPython.core.display.HTML object>"
      ]
     },
     "metadata": {},
     "output_type": "display_data"
    }
   ],
   "source": [
    "# select 2015-2022 strata asset you want to sample \n",
    "#asset1522 = ee.Image('users/faocongo/sbae/EQG_FNF_kmeans_strat_5_2015_2022')\n",
    "#asset1522 = ee.Image('users/faocongo/sbae/CAF_FNF_kmeans_strat_5_2015_2022')\n",
    "#asset1522 = ee.Image('users/faocongo/sbae/GAB_FNF_kmeans_strat_5_2015_2022')\n",
    "#asset1522 = ee.Image('users/faocongo/sbae/COD_allData_stratification_1522')\n",
    "#asset1522 = ee.Image('users/faocongo/sbae/COD_allData_stratification_1522')\n",
    "asset1522 = ee.Image('users/faocongo/sbae/CMR_FNF_kmeans_strat_5_2015_2022')\n",
    "#asset1522 = ee.Image('users/faocongo/sbae/COD_FNF_kmeans_strat_5_2015_2022')"
   ]
  },
  {
   "cell_type": "code",
   "execution_count": 32,
   "id": "59daabb3-94e1-4cae-8906-d03dbe57f4ec",
   "metadata": {},
   "outputs": [
    {
     "data": {
      "text/html": [
       "\n",
       "            <style>\n",
       "                .geemap-dark {\n",
       "                    --jp-widgets-color: white;\n",
       "                    --jp-widgets-label-color: white;\n",
       "                    --jp-ui-font-color1: white;\n",
       "                    --jp-layout-color2: #454545;\n",
       "                    background-color: #383838;\n",
       "                }\n",
       "\n",
       "                .geemap-dark .jupyter-button {\n",
       "                    --jp-layout-color3: #383838;\n",
       "                }\n",
       "\n",
       "                .geemap-colab {\n",
       "                    background-color: var(--colab-primary-surface-color, white);\n",
       "                }\n",
       "\n",
       "                .geemap-colab .jupyter-button {\n",
       "                    --jp-layout-color3: var(--colab-primary-surface-color, white);\n",
       "                }\n",
       "            </style>\n",
       "            "
      ],
      "text/plain": [
       "<IPython.core.display.HTML object>"
      ]
     },
     "metadata": {},
     "output_type": "display_data"
    }
   ],
   "source": [
    "newName1522 = 'TNT_stratum_1522'"
   ]
  },
  {
   "cell_type": "code",
   "execution_count": 33,
   "id": "323fbc7f-5d7e-4516-9fd4-d7325c1928e4",
   "metadata": {},
   "outputs": [
    {
     "data": {
      "text/html": [
       "\n",
       "            <style>\n",
       "                .geemap-dark {\n",
       "                    --jp-widgets-color: white;\n",
       "                    --jp-widgets-label-color: white;\n",
       "                    --jp-ui-font-color1: white;\n",
       "                    --jp-layout-color2: #454545;\n",
       "                    background-color: #383838;\n",
       "                }\n",
       "\n",
       "                .geemap-dark .jupyter-button {\n",
       "                    --jp-layout-color3: #383838;\n",
       "                }\n",
       "\n",
       "                .geemap-colab {\n",
       "                    background-color: var(--colab-primary-surface-color, white);\n",
       "                }\n",
       "\n",
       "                .geemap-colab .jupyter-button {\n",
       "                    --jp-layout-color3: var(--colab-primary-surface-color, white);\n",
       "                }\n",
       "            </style>\n",
       "            "
      ],
      "text/plain": [
       "<IPython.core.display.HTML object>"
      ]
     },
     "metadata": {},
     "output_type": "display_data"
    }
   ],
   "source": [
    "#resolution of asset\n",
    "scale = 70"
   ]
  },
  {
   "cell_type": "code",
   "execution_count": 34,
   "id": "5f7725ac-5340-45d7-b81d-c72fdd73c737",
   "metadata": {},
   "outputs": [
    {
     "data": {
      "text/html": [
       "\n",
       "            <style>\n",
       "                .geemap-dark {\n",
       "                    --jp-widgets-color: white;\n",
       "                    --jp-widgets-label-color: white;\n",
       "                    --jp-ui-font-color1: white;\n",
       "                    --jp-layout-color2: #454545;\n",
       "                    background-color: #383838;\n",
       "                }\n",
       "\n",
       "                .geemap-dark .jupyter-button {\n",
       "                    --jp-layout-color3: #383838;\n",
       "                }\n",
       "\n",
       "                .geemap-colab {\n",
       "                    background-color: var(--colab-primary-surface-color, white);\n",
       "                }\n",
       "\n",
       "                .geemap-colab .jupyter-button {\n",
       "                    --jp-layout-color3: var(--colab-primary-surface-color, white);\n",
       "                }\n",
       "            </style>\n",
       "            "
      ],
      "text/plain": [
       "<IPython.core.display.HTML object>"
      ]
     },
     "metadata": {},
     "output_type": "display_data"
    }
   ],
   "source": [
    "#name of band\n",
    "band = 'strata'"
   ]
  },
  {
   "cell_type": "code",
   "execution_count": null,
   "id": "f6c106cf-17f4-412f-84e9-667769aa3cfd",
   "metadata": {},
   "outputs": [
    {
     "data": {
      "text/html": [
       "\n",
       "            <style>\n",
       "                .geemap-dark {\n",
       "                    --jp-widgets-color: white;\n",
       "                    --jp-widgets-label-color: white;\n",
       "                    --jp-ui-font-color1: white;\n",
       "                    --jp-layout-color2: #454545;\n",
       "                    background-color: #383838;\n",
       "                }\n",
       "\n",
       "                .geemap-dark .jupyter-button {\n",
       "                    --jp-layout-color3: #383838;\n",
       "                }\n",
       "\n",
       "                .geemap-colab {\n",
       "                    background-color: var(--colab-primary-surface-color, white);\n",
       "                }\n",
       "\n",
       "                .geemap-colab .jupyter-button {\n",
       "                    --jp-layout-color3: var(--colab-primary-surface-color, white);\n",
       "                }\n",
       "            </style>\n",
       "            "
      ],
      "text/plain": [
       "<IPython.core.display.HTML object>"
      ]
     },
     "metadata": {},
     "output_type": "display_data"
    }
   ],
   "source": [
    "#sample 2223 stratum\n",
    "gdf = gdf.reset_index(drop=True)\n",
    "#with just a few columns\n",
    "#this can take a little while with many points\n",
    "dfs = []\n",
    "for i in range(0, len(points), 5000):\n",
    "    tmp_df = gdf.loc[i:i+4999]\n",
    "    tmp_fc = geemap.gdf_to_ee(tmp_df[[UID, 'geometry']])\n",
    "    tmp_smp = asset2223.select(band).reduceRegions(**{\n",
    "        'collection': tmp_fc,\n",
    "        'scale': scale,\n",
    "        'reducer': ee.Reducer.first()   \n",
    "    })\n",
    "\n",
    "    tmp_res = geemap.ee_to_gdf(tmp_smp)\n",
    "    dfs.append(tmp_res)\n",
    "    \n",
    "sampled_df = pd.concat(dfs)"
   ]
  },
  {
   "cell_type": "code",
   "execution_count": null,
   "id": "c6fd6d08-1b2d-470c-a9ba-addcda476521",
   "metadata": {},
   "outputs": [],
   "source": [
    "sampled_df"
   ]
  },
  {
   "cell_type": "code",
   "execution_count": null,
   "id": "4048d55d-fb7a-4051-aa5f-2f6312f1481c",
   "metadata": {},
   "outputs": [],
   "source": [
    "sampled_df = sampled_df.rename(columns={'first':newName2223})\n",
    "sampled_df.head()"
   ]
  },
  {
   "cell_type": "code",
   "execution_count": null,
   "id": "1856c4a3-2a10-471a-8227-e0aab6bb4dfb",
   "metadata": {},
   "outputs": [],
   "source": [
    "#sample 1522 stratum\n",
    "gdf = sampled_df.reset_index(drop=True)\n",
    "#with just a few columns\n",
    "#this can take a little while with many points\n",
    "dfs = []\n",
    "for i in range(0, len(points), 5000):\n",
    "    tmp_df = gdf.loc[i:i+4999]\n",
    "    tmp_fc = geemap.gdf_to_ee(tmp_df[[UID, 'geometry',newName2223]])\n",
    "    tmp_smp = asset1522.select(band).reduceRegions(**{\n",
    "        'collection': tmp_fc,\n",
    "        'scale': scale,\n",
    "        'reducer': ee.Reducer.first()   \n",
    "    })\n",
    "\n",
    "    tmp_res = geemap.ee_to_gdf(tmp_smp)\n",
    "    dfs.append(tmp_res)\n",
    "    \n",
    "resampled_df = pd.concat(dfs)"
   ]
  },
  {
   "cell_type": "code",
   "execution_count": null,
   "id": "75bd0110-f089-4a0b-9797-0ac3d920016f",
   "metadata": {},
   "outputs": [],
   "source": [
    "resampled_df = resampled_df.rename(columns={'first':newName1522})\n",
    "resampled_df.head()"
   ]
  },
  {
   "cell_type": "code",
   "execution_count": null,
   "id": "32312f89-4def-4ac2-85bf-c824fd06cf45",
   "metadata": {},
   "outputs": [],
   "source": [
    "# recover columns\n",
    "# Step 1: Merge the two DataFrames on the 'ID' column (assuming 'ID' is the common key)\n",
    "merged_df = pd.merge(resampled_df, points, on=UID, how='left', suffixes=('', '_dup'))\n",
    "#merged_df = pd.merge(sampled_df, joined_data, on='UID', how='left', suffixes=('', '_dup'))\n",
    "#merged_df = pd.merge(sampled_df, gdf, on='UID', how='left', suffixes=('', '_dup'))\n",
    "# Step 2: Remove duplicate columns\n",
    "# Here, we assume that any duplicate column from df2 will have the '_dup' suffix added by the merge\n",
    "# We will keep the columns from df1 and drop the duplicate ones from df2.\n",
    "merged_df = merged_df.loc[:, ~merged_df.columns.str.endswith('_dup')]\n",
    "merged_df.head()"
   ]
  },
  {
   "cell_type": "code",
   "execution_count": null,
   "id": "3bd6c085-177c-41f3-9c9c-ec79f154d6d1",
   "metadata": {},
   "outputs": [],
   "source": [
    "merged_df_cols = merged_df.columns.tolist()\n",
    "# Display the list of column names\n",
    "print(merged_df_cols)"
   ]
  },
  {
   "cell_type": "code",
   "execution_count": null,
   "id": "71d71848-96cb-4f28-87d5-bd02780e5f29",
   "metadata": {},
   "outputs": [],
   "source": [
    "#drop any columns if needed\n",
    "#columns_to_drop = ['sample_geom']\n",
    "#merged_df = merged_df.drop(columns_to_drop, axis=1)"
   ]
  },
  {
   "cell_type": "code",
   "execution_count": null,
   "id": "c9856693-ec1b-4871-8cbf-0dac3bc62bc7",
   "metadata": {},
   "outputs": [],
   "source": [
    "merged_df[newName1522].value_counts(dropna=False)"
   ]
  },
  {
   "cell_type": "code",
   "execution_count": null,
   "id": "75511fd6-26b3-40de-9887-1238a129c0ef",
   "metadata": {},
   "outputs": [],
   "source": [
    "merged_df[newName2223].value_counts(dropna=False)"
   ]
  },
  {
   "cell_type": "code",
   "execution_count": null,
   "id": "6478cb82-8bbc-4f81-9db7-ccd79b329692",
   "metadata": {},
   "outputs": [],
   "source": [
    "# Using loc to replace only rows where 'stratum' is 0\n",
    "merged_df.loc[merged_df[newName1522] == 0, newName1522] = 1"
   ]
  },
  {
   "cell_type": "code",
   "execution_count": null,
   "id": "94836ac9-2383-4cd8-a734-d5e2ce6de4b3",
   "metadata": {},
   "outputs": [],
   "source": [
    "# Using loc to replace only rows where 'stratum' is 0\n",
    "merged_df.loc[merged_df[newName2223] == 0, newName2223] = 1"
   ]
  },
  {
   "cell_type": "code",
   "execution_count": null,
   "id": "8053cfc2-ca3a-4f0c-92ae-94bfa65e9f8a",
   "metadata": {},
   "outputs": [],
   "source": [
    "merged_df[newName1522] = merged_df[newName1522].fillna(1)\n",
    "merged_df[newName2223] = merged_df[newName2223].fillna(1)"
   ]
  },
  {
   "cell_type": "code",
   "execution_count": null,
   "id": "0e4faff4-ff1a-4c4d-a1b8-50e42e030008",
   "metadata": {},
   "outputs": [],
   "source": [
    "print(merged_df.dtypes)"
   ]
  },
  {
   "cell_type": "code",
   "execution_count": null,
   "id": "924e615f-f733-4780-8c9c-623717e1d52c",
   "metadata": {},
   "outputs": [],
   "source": [
    "pd.pivot_table(\n",
    "    merged_df,\n",
    "    values=UID,\n",
    "    index=[newName1522],\n",
    "    columns=['collection'],\n",
    "    aggfunc=\"count\",\n",
    "    margins=True,              # Adds totals\n",
    "    margins_name='Total',      # Name of the margins/total column\n",
    "    dropna=False               # Include NaN values in the table\n",
    ")"
   ]
  },
  {
   "cell_type": "code",
   "execution_count": null,
   "id": "3de6349c-2b9c-4988-bb9d-500c9dcf14fa",
   "metadata": {},
   "outputs": [],
   "source": [
    "pd.pivot_table(\n",
    "    merged_df,\n",
    "    values=UID,\n",
    "    index=[newName2223],\n",
    "    columns=['collection'],\n",
    "    aggfunc=\"count\",\n",
    "    margins=True,              # Adds totals\n",
    "    margins_name='Total',      # Name of the margins/total column\n",
    "    dropna=False               # Include NaN values in the table\n",
    ")"
   ]
  },
  {
   "cell_type": "code",
   "execution_count": null,
   "id": "b8f2bbba-05d8-4119-b272-fb9c459e02b4",
   "metadata": {},
   "outputs": [],
   "source": [
    "# Remove rows where the stratum has NaN values - outside the country\n",
    "#merged_df = merged_df.dropna(subset=['TNT_stratum_2223'])"
   ]
  },
  {
   "cell_type": "code",
   "execution_count": null,
   "id": "7229708c-c939-4336-a373-bb5d874675ec",
   "metadata": {},
   "outputs": [],
   "source": [
    "merged_df['sampling'].value_counts(dropna=False)"
   ]
  },
  {
   "cell_type": "code",
   "execution_count": null,
   "id": "906177f5-6c69-4f0a-8fab-83f375bac70b",
   "metadata": {},
   "outputs": [],
   "source": [
    "merged_df['collection'].value_counts(dropna=False)"
   ]
  },
  {
   "cell_type": "code",
   "execution_count": null,
   "id": "965f8db3-5e67-453a-b2d4-230347dded5e",
   "metadata": {},
   "outputs": [],
   "source": [
    "# Check if the lengths of merged_df and ceo are the same\n",
    "if len(merged_df) == len(points):\n",
    "    print(\"The lengths of merged_df and ceo are the same.\")\n",
    "else:\n",
    "    print(\"The lengths of merged_df and ceo are different.\")\n",
    "\n",
    "# Optionally, you can print the lengths for clarity\n",
    "print(\"Length of merged_df:\", len(merged_df))\n",
    "print(\"Length of ceo:\", len(points))"
   ]
  },
  {
   "cell_type": "markdown",
   "id": "774e0847-82df-4a53-a798-6cffc7c74ec3",
   "metadata": {},
   "source": [
    "#### export"
   ]
  },
  {
   "cell_type": "code",
   "execution_count": null,
   "id": "e6a8bacf-32d9-478d-af88-4421756df405",
   "metadata": {},
   "outputs": [],
   "source": [
    "out_file =  '/home/sepal-user/module_results/esbae/CMR/CMR_all_ceo_2015_2022_2023_prov_TNT.csv'\n",
    "#sampled_df.to_csv(out_file,index=False)\n",
    "merged_df.to_csv(out_file,index=False)"
   ]
  },
  {
   "cell_type": "code",
   "execution_count": null,
   "id": "6b7949b1-2c3a-43e7-b762-6931944b1aca",
   "metadata": {},
   "outputs": [],
   "source": []
  }
 ],
 "metadata": {
  "kernelspec": {
   "display_name": "Python 3",
   "language": "python",
   "name": "python3"
  },
  "language_info": {
   "codemirror_mode": {
    "name": "ipython",
    "version": 3
   },
   "file_extension": ".py",
   "mimetype": "text/x-python",
   "name": "python",
   "nbconvert_exporter": "python",
   "pygments_lexer": "ipython3",
   "version": "3.10.12"
  }
 },
 "nbformat": 4,
 "nbformat_minor": 5
}
