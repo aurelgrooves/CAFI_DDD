{
 "cells": [
  {
   "cell_type": "markdown",
   "id": "54888318-08a9-408f-ba85-7bbcfa38f1b7",
   "metadata": {
    "tags": []
   },
   "source": [
    "![title](images/header.png)\n",
    "# VI - Calculating areas of change and confidence intervals\n",
    "-------\n",
    "This notebook estimates of areas of change for all categories using the entire database of systematic points, and calculates the margin of error based on the visually interpreted data \n",
    "This script requires a m4 instance\n",
    "###### For more information contact aurelie.shapiro@fao.org or remi.dannunzio@fao.org"
   ]
  },
  {
   "cell_type": "code",
   "execution_count": 2,
   "id": "ca0aabc4-ea60-48ec-bd1c-c4fb4b63d0e9",
   "metadata": {
    "tags": []
   },
   "outputs": [],
   "source": [
    "import pandas as pd\n",
    "import numpy as np\n",
    "import seaborn as sns\n",
    "from matplotlib import pyplot as plt\n",
    "import matplotlib.ticker as mticker"
   ]
  },
  {
   "cell_type": "markdown",
   "id": "f403562c-5836-4703-9ca4-1e2701df272a",
   "metadata": {},
   "source": [
    "### 1 - Read files and set parameters\n",
    "read the output merged file with the classification of all eSBAE points from script 5e"
   ]
  },
  {
   "cell_type": "code",
   "execution_count": 3,
   "id": "be527498",
   "metadata": {
    "tags": []
   },
   "outputs": [],
   "source": [
    "#GAB\n",
    "#df = pd.read_csv('/home/sepal-user/module_results/esbae/GAB/GAB_esbae_supervised_class_1522.csv', low_memory=False)\n",
    "#DRC\n",
    "df = pd.read_csv('/home/sepal-user/module_results/esbae/DRC/DRC_esbae_supervised_class_1522.csv', low_memory=False)\n",
    "#with provinces\n",
    "#df = pd.read_csv('/home/sepal-user/module_results/esbae/DRC/DRC_esbae_supervised_class_1522_terr.csv', low_memory=False)\n",
    "#COG\n",
    "#df = pd.read_csv('/home/sepal-user/module_results/esbae/COG/COG_esbae_supervised_class_1522.csv', low_memory=False)\n",
    "#CMR\n",
    "#df = pd.read_csv('/home/sepal-user/module_results/esbae/CMR/CMR_esbae_supervised_class_1522.csv', low_memory=False)\n",
    "#EQG\n",
    "#df = pd.read_csv('/home/sepal-user/module_results/esbae/EQG/EQG_esbae_supervised_class_1522.csv', low_memory=False)\n",
    "#CAR\n",
    "#df = pd.read_csv('/home/sepal-user/module_results/esbae/CAR/CAR_esbae_supervised_class_1522.csv', low_memory=False)"
   ]
  },
  {
   "cell_type": "code",
   "execution_count": 10,
   "id": "c1ec8728-6fe7-4e6b-a829-38cd0b263206",
   "metadata": {
    "tags": []
   },
   "outputs": [
    {
     "data": {
      "text/html": [
       "<div>\n",
       "<style scoped>\n",
       "    .dataframe tbody tr th:only-of-type {\n",
       "        vertical-align: middle;\n",
       "    }\n",
       "\n",
       "    .dataframe tbody tr th {\n",
       "        vertical-align: top;\n",
       "    }\n",
       "\n",
       "    .dataframe thead th {\n",
       "        text-align: right;\n",
       "    }\n",
       "</style>\n",
       "<table border=\"1\" class=\"dataframe\">\n",
       "  <thead>\n",
       "    <tr style=\"text-align: right;\">\n",
       "      <th>stratum</th>\n",
       "      <th>1</th>\n",
       "      <th>2</th>\n",
       "      <th>3</th>\n",
       "    </tr>\n",
       "    <tr>\n",
       "      <th>Sim_CEO_Ref_Change_Year_1522</th>\n",
       "      <th></th>\n",
       "      <th></th>\n",
       "      <th></th>\n",
       "    </tr>\n",
       "  </thead>\n",
       "  <tbody>\n",
       "    <tr>\n",
       "      <th>Def2016</th>\n",
       "      <td>NaN</td>\n",
       "      <td>38.0</td>\n",
       "      <td>2316.0</td>\n",
       "    </tr>\n",
       "    <tr>\n",
       "      <th>Def2017</th>\n",
       "      <td>NaN</td>\n",
       "      <td>86.0</td>\n",
       "      <td>5198.0</td>\n",
       "    </tr>\n",
       "    <tr>\n",
       "      <th>Def2018</th>\n",
       "      <td>NaN</td>\n",
       "      <td>85.0</td>\n",
       "      <td>7027.0</td>\n",
       "    </tr>\n",
       "    <tr>\n",
       "      <th>Def2019</th>\n",
       "      <td>NaN</td>\n",
       "      <td>131.0</td>\n",
       "      <td>6980.0</td>\n",
       "    </tr>\n",
       "    <tr>\n",
       "      <th>Def2020</th>\n",
       "      <td>NaN</td>\n",
       "      <td>172.0</td>\n",
       "      <td>7908.0</td>\n",
       "    </tr>\n",
       "    <tr>\n",
       "      <th>Def2021</th>\n",
       "      <td>NaN</td>\n",
       "      <td>207.0</td>\n",
       "      <td>5908.0</td>\n",
       "    </tr>\n",
       "    <tr>\n",
       "      <th>Def2022</th>\n",
       "      <td>NaN</td>\n",
       "      <td>81.0</td>\n",
       "      <td>2200.0</td>\n",
       "    </tr>\n",
       "    <tr>\n",
       "      <th>Deg2016</th>\n",
       "      <td>NaN</td>\n",
       "      <td>160.0</td>\n",
       "      <td>103.0</td>\n",
       "    </tr>\n",
       "    <tr>\n",
       "      <th>Deg2017</th>\n",
       "      <td>NaN</td>\n",
       "      <td>110.0</td>\n",
       "      <td>173.0</td>\n",
       "    </tr>\n",
       "    <tr>\n",
       "      <th>Deg2018</th>\n",
       "      <td>NaN</td>\n",
       "      <td>122.0</td>\n",
       "      <td>351.0</td>\n",
       "    </tr>\n",
       "    <tr>\n",
       "      <th>Deg2019</th>\n",
       "      <td>NaN</td>\n",
       "      <td>150.0</td>\n",
       "      <td>461.0</td>\n",
       "    </tr>\n",
       "    <tr>\n",
       "      <th>Deg2020</th>\n",
       "      <td>NaN</td>\n",
       "      <td>124.0</td>\n",
       "      <td>404.0</td>\n",
       "    </tr>\n",
       "    <tr>\n",
       "      <th>Deg2021</th>\n",
       "      <td>NaN</td>\n",
       "      <td>164.0</td>\n",
       "      <td>234.0</td>\n",
       "    </tr>\n",
       "    <tr>\n",
       "      <th>Deg2022</th>\n",
       "      <td>4.0</td>\n",
       "      <td>335.0</td>\n",
       "      <td>147.0</td>\n",
       "    </tr>\n",
       "    <tr>\n",
       "      <th>NF</th>\n",
       "      <td>236343.0</td>\n",
       "      <td>529051.0</td>\n",
       "      <td>159208.0</td>\n",
       "    </tr>\n",
       "    <tr>\n",
       "      <th>Stable</th>\n",
       "      <td>800838.0</td>\n",
       "      <td>182237.0</td>\n",
       "      <td>24217.0</td>\n",
       "    </tr>\n",
       "  </tbody>\n",
       "</table>\n",
       "</div>"
      ],
      "text/plain": [
       "stratum                              1         2         3\n",
       "Sim_CEO_Ref_Change_Year_1522                              \n",
       "Def2016                            NaN      38.0    2316.0\n",
       "Def2017                            NaN      86.0    5198.0\n",
       "Def2018                            NaN      85.0    7027.0\n",
       "Def2019                            NaN     131.0    6980.0\n",
       "Def2020                            NaN     172.0    7908.0\n",
       "Def2021                            NaN     207.0    5908.0\n",
       "Def2022                            NaN      81.0    2200.0\n",
       "Deg2016                            NaN     160.0     103.0\n",
       "Deg2017                            NaN     110.0     173.0\n",
       "Deg2018                            NaN     122.0     351.0\n",
       "Deg2019                            NaN     150.0     461.0\n",
       "Deg2020                            NaN     124.0     404.0\n",
       "Deg2021                            NaN     164.0     234.0\n",
       "Deg2022                            4.0     335.0     147.0\n",
       "NF                            236343.0  529051.0  159208.0\n",
       "Stable                        800838.0  182237.0   24217.0"
      ]
     },
     "execution_count": 10,
     "metadata": {},
     "output_type": "execute_result"
    }
   ],
   "source": [
    "pd.pivot_table(df,values='point_id',index=['Sim_CEO_Ref_Change_Year_1522'],columns=['stratum'],aggfunc=\"count\")"
   ]
  },
  {
   "cell_type": "code",
   "execution_count": 5,
   "id": "05faa27f-7db5-4169-bdfd-78d204a8e6f9",
   "metadata": {
    "tags": []
   },
   "outputs": [],
   "source": [
    "#pd.pivot_table(df,values='point_id',index=['Province'],columns=['interpreted'],aggfunc=\"count\")"
   ]
  },
  {
   "cell_type": "code",
   "execution_count": 6,
   "id": "f3fc1f53-332f-44f6-87fa-88bc7453c811",
   "metadata": {
    "tags": []
   },
   "outputs": [
    {
     "name": "stdout",
     "output_type": "stream",
     "text": [
      "['Unnamed: 0' 'images' 'mon_images' 'bfast_change_date' 'bfast_magnitude'\n",
      " 'bfast_means' 'cusum_change_date' 'cusum_confidence' 'cusum_magnitude'\n",
      " 'red_mean' 'red_sd' 'red_min' 'red_max' 'nir_mean' 'nir_sd' 'nir_min'\n",
      " 'nir_max' 'swir1_mean' 'swir1_sd' 'swir1_min' 'swir1_max' 'swir2_mean'\n",
      " 'swir2_sd' 'swir2_min' 'swir2_max' 'ndfi_mean' 'ndfi_sd' 'ndfi_min'\n",
      " 'ndfi_max' 'brightness_mean' 'brightness_sd' 'brightness_min'\n",
      " 'brightness_max' 'greenness_mean' 'greenness_sd' 'greenness_min'\n",
      " 'greenness_max' 'wetness_mean' 'wetness_sd' 'wetness_min' 'wetness_max'\n",
      " 'bs_slope_mean' 'bs_slope_sd' 'bs_slope_max' 'bs_slope_min'\n",
      " 'ccdc_change_date' 'ccdc_magnitude' 'aspect' 'dw_class_mode'\n",
      " 'dw_tree_prob__max' 'dw_tree_prob__min' 'dw_tree_prob__stdDev'\n",
      " 'dw_tree_prob_mean' 'elevation' 'esa_lc20' 'esa_lc21' 'esri_lc17'\n",
      " 'esri_lc18' 'esri_lc19' 'esri_lc20' 'esri_lc21' 'gfc_gain' 'gfc_loss'\n",
      " 'gfc_lossyear' 'gfc_tc00' 'lang_tree_height' 'potapov_tree_height'\n",
      " 'slope' 'tmf_2016' 'tmf_2017' 'tmf_2018' 'tmf_2019' 'tmf_2020'\n",
      " 'tmf_defyear' 'tmf_degyear' 'tmf_main' 'tmf_sub' 'geometry' 'point_id'\n",
      " 'cnc_1520' 'CAFI_LC_2015' 'chg_prob' 'simple_combined' 'stratum' 'kmeans'\n",
      " 'plotid' 'lon' 'lat' 'sampleid' 'email' 'flagged' 'collection_time'\n",
      " 'analysis_duration' 'sample_geom' 'Ref_FNF_2015' 'Ref_Regeneration'\n",
      " 'Ref_Change_1522' 'Ref_Change_Type_1522' 'ArtFor' 'ArtMine' 'InfraR'\n",
      " 'Urb' 'IndFor' 'Other' 'Other_Desc' 'IndMine' 'IndAg' 'ArtAg' 'Ref_Year'\n",
      " 'Ref_NFtype' 'Ref_Ftype' 'Commentaires' 'collection' 'interpreted'\n",
      " 'Ref_LCtype' 'Ref_Change_Year_1522' 'Def2016' 'Def2017' 'Def2018'\n",
      " 'Def2019' 'Def2020' 'Def2021' 'Def2022' 'Deg2016' 'Deg2017' 'Deg2018'\n",
      " 'Deg2019' 'Deg2020' 'Deg2021' 'Deg2022' 'Defall' 'Degall' 'Stable' 'NF'\n",
      " 'sampling' 'def_prob' 'deg_prob' 'stable_prob' 'nf_prob' 'sim_def'\n",
      " 'sim_deg' 'sim_stable' 'sim_nf' 'classification' 'Count'\n",
      " 'cusum_change_year' 'Sim_Ref_Change_Year_1522'\n",
      " 'Sim_CEO_Ref_Change_Type_1522' 'Sim_CEO_Ref_Change_Year_1522']\n"
     ]
    }
   ],
   "source": [
    "print(df.columns.values)"
   ]
  },
  {
   "cell_type": "code",
   "execution_count": 11,
   "id": "82ce38ff-7d34-423c-a950-f1c937717c22",
   "metadata": {
    "tags": []
   },
   "outputs": [
    {
     "name": "stdout",
     "output_type": "stream",
     "text": [
      "1973273\n"
     ]
    }
   ],
   "source": [
    "print(len(df))"
   ]
  },
  {
   "cell_type": "code",
   "execution_count": 8,
   "id": "cbee4a03-e128-45d4-b577-147c20012104",
   "metadata": {
    "tags": []
   },
   "outputs": [
    {
     "name": "stdout",
     "output_type": "stream",
     "text": [
      "stratum\n",
      "1    1037185\n",
      "2     713253\n",
      "3     222835\n",
      "Name: count, dtype: int64\n"
     ]
    }
   ],
   "source": [
    "# use these strata counts for area estimation with Excel\n",
    "strata_counts = df['stratum'].value_counts().sort_index()\n",
    "print(strata_counts)"
   ]
  },
  {
   "cell_type": "code",
   "execution_count": 12,
   "id": "bbf65ec5-9e81-4fbc-8a32-6308281acc1d",
   "metadata": {},
   "outputs": [
    {
     "data": {
      "text/html": [
       "<div>\n",
       "<style scoped>\n",
       "    .dataframe tbody tr th:only-of-type {\n",
       "        vertical-align: middle;\n",
       "    }\n",
       "\n",
       "    .dataframe tbody tr th {\n",
       "        vertical-align: top;\n",
       "    }\n",
       "\n",
       "    .dataframe thead th {\n",
       "        text-align: right;\n",
       "    }\n",
       "</style>\n",
       "<table border=\"1\" class=\"dataframe\">\n",
       "  <thead>\n",
       "    <tr style=\"text-align: right;\">\n",
       "      <th>stratum</th>\n",
       "      <th>1</th>\n",
       "      <th>2</th>\n",
       "      <th>3</th>\n",
       "    </tr>\n",
       "    <tr>\n",
       "      <th>interpreted</th>\n",
       "      <th></th>\n",
       "      <th></th>\n",
       "      <th></th>\n",
       "    </tr>\n",
       "  </thead>\n",
       "  <tbody>\n",
       "    <tr>\n",
       "      <th>0</th>\n",
       "      <td>1036010</td>\n",
       "      <td>706163</td>\n",
       "      <td>219033</td>\n",
       "    </tr>\n",
       "    <tr>\n",
       "      <th>1</th>\n",
       "      <td>1175</td>\n",
       "      <td>7090</td>\n",
       "      <td>3802</td>\n",
       "    </tr>\n",
       "  </tbody>\n",
       "</table>\n",
       "</div>"
      ],
      "text/plain": [
       "stratum            1       2       3\n",
       "interpreted                         \n",
       "0            1036010  706163  219033\n",
       "1               1175    7090    3802"
      ]
     },
     "execution_count": 12,
     "metadata": {},
     "output_type": "execute_result"
    }
   ],
   "source": [
    "pd.pivot_table(df,values='point_id',index=['interpreted'],columns=['stratum'],aggfunc=\"count\")"
   ]
  },
  {
   "cell_type": "code",
   "execution_count": 13,
   "id": "bc5e5cde-83f5-4b85-a216-a53e1a9951be",
   "metadata": {
    "tags": []
   },
   "outputs": [],
   "source": [
    "def calculate_areas(db_total, strata_column, categories_column, interpretation_column, total_area, z_score):\n",
    "    #total database all eSBAE points\n",
    "    df_full = db_total.copy()\n",
    "    # only CEO interpreted points\n",
    "    df_interpreted = db_total[db_total[interpretation_column]==1]\n",
    "    df_4calc       = db_total[~db_total[categories_column].isna()]\n",
    "    \n",
    "    # get all attributes\n",
    "    categories = df_4calc[categories_column].unique()\n",
    "    \n",
    "    # get strata\n",
    "    strata, d = df_4calc[strata_column].unique(), {}\n",
    "    print(categories)\n",
    "    # create stats for each entry\n",
    "    for category in categories:\n",
    "        \n",
    "        if str(category) == 'nan':\n",
    "            continue\n",
    "            \n",
    "        print(f' Calculating stats for {category}')\n",
    "        # create binary class column\n",
    "        df_4calc[category] =  df_4calc[categories_column].apply(lambda x: 1 if x == category else 0)\n",
    "        df_interpreted[category] =  df_interpreted[categories_column].apply(lambda x: 1 if x == category else 0)\n",
    "        \n",
    "        print(f'We use {df_4calc[category].sum()} entries for area calculation of {category} in {categories_column}.')\n",
    "        print(f'We use {df_interpreted[category].sum()} entries for margin of error calculation of {category} in {categories_column}.')\n",
    "        \n",
    "        # initialize variables for category <> check the catergories > def, deg, gain\n",
    "        categories_area, se_total = 0, 0\n",
    "        d2 = {}\n",
    "        for stratum in strata:\n",
    "                        \n",
    "            if str(stratum) == 'nan':\n",
    "                continue\n",
    "            \n",
    "            # subset to stratum\n",
    "            df_stratum = df_full[df_full[strata_column] == stratum]\n",
    "            \n",
    "            # get area proportion for that stratum on full dataset\n",
    "            proportion_strata = len(df_stratum)/len(df_full)\n",
    "\n",
    "            # get stratum area (ha)\n",
    "            stratum_area = proportion_strata * total_area\n",
    "\n",
    "            # get proportion of forest change within strata from interpreted data\n",
    "            proportion_category = len(\n",
    "                df_4calc[(df_4calc[strata_column] == stratum) & (df_4calc[category] == 1)]\n",
    "            ) / len(\n",
    "                df_4calc[df_4calc[strata_column] == stratum]\n",
    "            )\n",
    "            \n",
    "            # get area from proportion and full area\n",
    "            category_stratum_area = proportion_category * stratum_area\n",
    "\n",
    "            # get error from interpreted data for full stratum area\n",
    "            # variance of binary class in single stratum\n",
    "            var = np.var(df_interpreted[category][df_interpreted[strata_column] == stratum])\n",
    "            sd = np.sqrt(var)  \n",
    "            # number of interpreted points in the stratum\n",
    "            n = len(df_interpreted[df_interpreted[strata_column] == stratum])\n",
    "            se = sd/np.sqrt(n) * stratum_area\n",
    "                          \n",
    "            # add all stratum for totals\n",
    "            categories_area += category_stratum_area\n",
    "            se_total += se**2\n",
    "            \n",
    "            # add to dictionary\n",
    "            d2[f'area_stratum_{stratum}'] = category_stratum_area\n",
    "            d2[f'ci_stratum_{stratum}']=z_score*se\n",
    "        \n",
    "        d2['area_total'] = categories_area\n",
    "        d2['MOE'] = z_score*np.sqrt(se_total)\n",
    "        d2['MOE_perc'] =  d2['MOE'] / categories_area * 100\n",
    "        d[category] = d2\n",
    "    \n",
    "    #pd.set_option('display.float_format', '{:.2f}'.format)\n",
    "    # Format numbers with commas as thousand separators\n",
    "    pd.options.display.float_format = '{:,.0f}'.format\n",
    "    \n",
    "    # Create the pivot table\n",
    "    pivot_table = pd.pivot_table(df_full, values='point_id', index=[strata_column], columns=[categories_column], aggfunc=\"count\", dropna=False)\n",
    "\n",
    "    # Sort the index\n",
    "    pivot_table = pivot_table.sort_index()\n",
    "    print(pivot_table)\n",
    "    # Print the sorted pivot table\n",
    "    #print(pd.pivot_table(df_full,values='point_id',index=[strata_column],columns=[categories_column],aggfunc=\"count\",dropna= False))\n",
    "    \n",
    "    return pd.DataFrame.from_dict(d, orient='index')"
   ]
  },
  {
   "cell_type": "markdown",
   "id": "ace36e49-9b9e-43d1-acbb-ef9c06616dc0",
   "metadata": {},
   "source": [
    "### Enter Parameters"
   ]
  },
  {
   "cell_type": "markdown",
   "id": "cb6230cb-8d9e-4783-8297-26feb5ab1185",
   "metadata": {},
   "source": [
    "###### country area (ha)\n",
    "###### GAB = 26287600\n",
    "###### DRC = 232798200\n",
    "###### COG = 34402400\n",
    "###### CMR = 46497000\n",
    "###### EQG = 2685800\n",
    "###### CAR = 62009300"
   ]
  },
  {
   "cell_type": "markdown",
   "id": "db39f2f4-a3fc-40dd-b5b6-f5b47bbf725b",
   "metadata": {},
   "source": [
    "#### options for categories_column\n",
    "###### for CEO interpreted data only change types in each year: 'Ref_Change_Year_1522'\n",
    "###### for CEO interpreted data only for all years: 'Ref_Change_Type_1522'\n",
    "###### for all modeled points annual changes: 'Sim_CEO_Ref_Change_Year_1522'\n",
    "###### for all modeled points all years: 'Sim_CEO_Ref_Change_Type_1522'"
   ]
  },
  {
   "cell_type": "code",
   "execution_count": null,
   "id": "a904c2c0-ad0d-4cd8-9ea1-bb5266e3ae99",
   "metadata": {
    "tags": []
   },
   "outputs": [],
   "source": [
    "#only for DRC list points by provinces\n",
    "#provinces = df['Province'].value_counts().sort_index()\n",
    "#print(provinces)"
   ]
  },
  {
   "cell_type": "code",
   "execution_count": 14,
   "id": "e53f9729-64de-4890-a147-da657e2628bf",
   "metadata": {
    "tags": []
   },
   "outputs": [],
   "source": [
    "z_score = 1.647\n",
    "db_total = df\n",
    "#for DRC\n",
    "#db_total= df[df['Province'] == 'Sud-Ubangi']\n",
    "strata_column = 'stratum'\n",
    "categories_column = 'Sim_CEO_Ref_Change_Year_1522' # select column based on above\n",
    "interpretation_column = 'interpreted'\n",
    "total_area = 26287600 #enter area from above\n",
    "output_directory = '/home/sepal-user/module_results/esbae/GAB/'\n",
    "file_prefix = 'DRC_annual'\n",
    "index_name = 'ChangeYear' #for all years 'ChangeType' or 'ChangeYear' for annual data"
   ]
  },
  {
   "cell_type": "code",
   "execution_count": 15,
   "id": "b0f71599-acb7-475d-a83f-00eb999df295",
   "metadata": {
    "tags": []
   },
   "outputs": [
    {
     "name": "stdout",
     "output_type": "stream",
     "text": [
      "['Stable' 'NF' 'Def2016' 'Def2018' 'Def2017' 'Def2019' 'Deg2018' 'Def2020'\n",
      " 'Deg2020' 'Def2021' 'Deg2017' 'Def2022' 'Deg2019' 'Deg2016' 'Deg2022'\n",
      " 'Deg2021']\n",
      " Calculating stats for Stable\n"
     ]
    },
    {
     "name": "stderr",
     "output_type": "stream",
     "text": [
      "/tmp/ipykernel_415/3651631007.py:23: SettingWithCopyWarning: \n",
      "A value is trying to be set on a copy of a slice from a DataFrame.\n",
      "Try using .loc[row_indexer,col_indexer] = value instead\n",
      "\n",
      "See the caveats in the documentation: https://pandas.pydata.org/pandas-docs/stable/user_guide/indexing.html#returning-a-view-versus-a-copy\n",
      "  df_interpreted[category] =  df_interpreted[categories_column].apply(lambda x: 1 if x == category else 0)\n"
     ]
    },
    {
     "name": "stdout",
     "output_type": "stream",
     "text": [
      "We use 1007292 entries for area calculation of Stable in Sim_CEO_Ref_Change_Year_1522.\n",
      "We use 4734 entries for margin of error calculation of Stable in Sim_CEO_Ref_Change_Year_1522.\n",
      " Calculating stats for NF\n"
     ]
    },
    {
     "name": "stderr",
     "output_type": "stream",
     "text": [
      "/tmp/ipykernel_415/3651631007.py:23: SettingWithCopyWarning: \n",
      "A value is trying to be set on a copy of a slice from a DataFrame.\n",
      "Try using .loc[row_indexer,col_indexer] = value instead\n",
      "\n",
      "See the caveats in the documentation: https://pandas.pydata.org/pandas-docs/stable/user_guide/indexing.html#returning-a-view-versus-a-copy\n",
      "  df_interpreted[category] =  df_interpreted[categories_column].apply(lambda x: 1 if x == category else 0)\n"
     ]
    },
    {
     "name": "stdout",
     "output_type": "stream",
     "text": [
      "We use 924602 entries for area calculation of NF in Sim_CEO_Ref_Change_Year_1522.\n",
      "We use 6302 entries for margin of error calculation of NF in Sim_CEO_Ref_Change_Year_1522.\n",
      " Calculating stats for Def2016\n"
     ]
    },
    {
     "name": "stderr",
     "output_type": "stream",
     "text": [
      "/tmp/ipykernel_415/3651631007.py:23: SettingWithCopyWarning: \n",
      "A value is trying to be set on a copy of a slice from a DataFrame.\n",
      "Try using .loc[row_indexer,col_indexer] = value instead\n",
      "\n",
      "See the caveats in the documentation: https://pandas.pydata.org/pandas-docs/stable/user_guide/indexing.html#returning-a-view-versus-a-copy\n",
      "  df_interpreted[category] =  df_interpreted[categories_column].apply(lambda x: 1 if x == category else 0)\n"
     ]
    },
    {
     "name": "stdout",
     "output_type": "stream",
     "text": [
      "We use 2354 entries for area calculation of Def2016 in Sim_CEO_Ref_Change_Year_1522.\n",
      "We use 72 entries for margin of error calculation of Def2016 in Sim_CEO_Ref_Change_Year_1522.\n",
      " Calculating stats for Def2018\n"
     ]
    },
    {
     "name": "stderr",
     "output_type": "stream",
     "text": [
      "/tmp/ipykernel_415/3651631007.py:23: SettingWithCopyWarning: \n",
      "A value is trying to be set on a copy of a slice from a DataFrame.\n",
      "Try using .loc[row_indexer,col_indexer] = value instead\n",
      "\n",
      "See the caveats in the documentation: https://pandas.pydata.org/pandas-docs/stable/user_guide/indexing.html#returning-a-view-versus-a-copy\n",
      "  df_interpreted[category] =  df_interpreted[categories_column].apply(lambda x: 1 if x == category else 0)\n"
     ]
    },
    {
     "name": "stdout",
     "output_type": "stream",
     "text": [
      "We use 7112 entries for area calculation of Def2018 in Sim_CEO_Ref_Change_Year_1522.\n",
      "We use 136 entries for margin of error calculation of Def2018 in Sim_CEO_Ref_Change_Year_1522.\n",
      " Calculating stats for Def2017\n"
     ]
    },
    {
     "name": "stderr",
     "output_type": "stream",
     "text": [
      "/tmp/ipykernel_415/3651631007.py:23: SettingWithCopyWarning: \n",
      "A value is trying to be set on a copy of a slice from a DataFrame.\n",
      "Try using .loc[row_indexer,col_indexer] = value instead\n",
      "\n",
      "See the caveats in the documentation: https://pandas.pydata.org/pandas-docs/stable/user_guide/indexing.html#returning-a-view-versus-a-copy\n",
      "  df_interpreted[category] =  df_interpreted[categories_column].apply(lambda x: 1 if x == category else 0)\n"
     ]
    },
    {
     "name": "stdout",
     "output_type": "stream",
     "text": [
      "We use 5284 entries for area calculation of Def2017 in Sim_CEO_Ref_Change_Year_1522.\n",
      "We use 118 entries for margin of error calculation of Def2017 in Sim_CEO_Ref_Change_Year_1522.\n",
      " Calculating stats for Def2019\n"
     ]
    },
    {
     "name": "stderr",
     "output_type": "stream",
     "text": [
      "/tmp/ipykernel_415/3651631007.py:23: SettingWithCopyWarning: \n",
      "A value is trying to be set on a copy of a slice from a DataFrame.\n",
      "Try using .loc[row_indexer,col_indexer] = value instead\n",
      "\n",
      "See the caveats in the documentation: https://pandas.pydata.org/pandas-docs/stable/user_guide/indexing.html#returning-a-view-versus-a-copy\n",
      "  df_interpreted[category] =  df_interpreted[categories_column].apply(lambda x: 1 if x == category else 0)\n"
     ]
    },
    {
     "name": "stdout",
     "output_type": "stream",
     "text": [
      "We use 7111 entries for area calculation of Def2019 in Sim_CEO_Ref_Change_Year_1522.\n",
      "We use 160 entries for margin of error calculation of Def2019 in Sim_CEO_Ref_Change_Year_1522.\n",
      " Calculating stats for Deg2018\n"
     ]
    },
    {
     "name": "stderr",
     "output_type": "stream",
     "text": [
      "/tmp/ipykernel_415/3651631007.py:23: SettingWithCopyWarning: \n",
      "A value is trying to be set on a copy of a slice from a DataFrame.\n",
      "Try using .loc[row_indexer,col_indexer] = value instead\n",
      "\n",
      "See the caveats in the documentation: https://pandas.pydata.org/pandas-docs/stable/user_guide/indexing.html#returning-a-view-versus-a-copy\n",
      "  df_interpreted[category] =  df_interpreted[categories_column].apply(lambda x: 1 if x == category else 0)\n"
     ]
    },
    {
     "name": "stdout",
     "output_type": "stream",
     "text": [
      "We use 473 entries for area calculation of Deg2018 in Sim_CEO_Ref_Change_Year_1522.\n",
      "We use 26 entries for margin of error calculation of Deg2018 in Sim_CEO_Ref_Change_Year_1522.\n",
      " Calculating stats for Def2020\n"
     ]
    },
    {
     "name": "stderr",
     "output_type": "stream",
     "text": [
      "/tmp/ipykernel_415/3651631007.py:23: SettingWithCopyWarning: \n",
      "A value is trying to be set on a copy of a slice from a DataFrame.\n",
      "Try using .loc[row_indexer,col_indexer] = value instead\n",
      "\n",
      "See the caveats in the documentation: https://pandas.pydata.org/pandas-docs/stable/user_guide/indexing.html#returning-a-view-versus-a-copy\n",
      "  df_interpreted[category] =  df_interpreted[categories_column].apply(lambda x: 1 if x == category else 0)\n"
     ]
    },
    {
     "name": "stdout",
     "output_type": "stream",
     "text": [
      "We use 8080 entries for area calculation of Def2020 in Sim_CEO_Ref_Change_Year_1522.\n",
      "We use 139 entries for margin of error calculation of Def2020 in Sim_CEO_Ref_Change_Year_1522.\n",
      " Calculating stats for Deg2020\n"
     ]
    },
    {
     "name": "stderr",
     "output_type": "stream",
     "text": [
      "/tmp/ipykernel_415/3651631007.py:23: SettingWithCopyWarning: \n",
      "A value is trying to be set on a copy of a slice from a DataFrame.\n",
      "Try using .loc[row_indexer,col_indexer] = value instead\n",
      "\n",
      "See the caveats in the documentation: https://pandas.pydata.org/pandas-docs/stable/user_guide/indexing.html#returning-a-view-versus-a-copy\n",
      "  df_interpreted[category] =  df_interpreted[categories_column].apply(lambda x: 1 if x == category else 0)\n"
     ]
    },
    {
     "name": "stdout",
     "output_type": "stream",
     "text": [
      "We use 528 entries for area calculation of Deg2020 in Sim_CEO_Ref_Change_Year_1522.\n",
      "We use 35 entries for margin of error calculation of Deg2020 in Sim_CEO_Ref_Change_Year_1522.\n",
      " Calculating stats for Def2021\n"
     ]
    },
    {
     "name": "stderr",
     "output_type": "stream",
     "text": [
      "/tmp/ipykernel_415/3651631007.py:23: SettingWithCopyWarning: \n",
      "A value is trying to be set on a copy of a slice from a DataFrame.\n",
      "Try using .loc[row_indexer,col_indexer] = value instead\n",
      "\n",
      "See the caveats in the documentation: https://pandas.pydata.org/pandas-docs/stable/user_guide/indexing.html#returning-a-view-versus-a-copy\n",
      "  df_interpreted[category] =  df_interpreted[categories_column].apply(lambda x: 1 if x == category else 0)\n"
     ]
    },
    {
     "name": "stdout",
     "output_type": "stream",
     "text": [
      "We use 6115 entries for area calculation of Def2021 in Sim_CEO_Ref_Change_Year_1522.\n",
      "We use 116 entries for margin of error calculation of Def2021 in Sim_CEO_Ref_Change_Year_1522.\n",
      " Calculating stats for Deg2017\n"
     ]
    },
    {
     "name": "stderr",
     "output_type": "stream",
     "text": [
      "/tmp/ipykernel_415/3651631007.py:23: SettingWithCopyWarning: \n",
      "A value is trying to be set on a copy of a slice from a DataFrame.\n",
      "Try using .loc[row_indexer,col_indexer] = value instead\n",
      "\n",
      "See the caveats in the documentation: https://pandas.pydata.org/pandas-docs/stable/user_guide/indexing.html#returning-a-view-versus-a-copy\n",
      "  df_interpreted[category] =  df_interpreted[categories_column].apply(lambda x: 1 if x == category else 0)\n"
     ]
    },
    {
     "name": "stdout",
     "output_type": "stream",
     "text": [
      "We use 283 entries for area calculation of Deg2017 in Sim_CEO_Ref_Change_Year_1522.\n",
      "We use 18 entries for margin of error calculation of Deg2017 in Sim_CEO_Ref_Change_Year_1522.\n",
      " Calculating stats for Def2022\n"
     ]
    },
    {
     "name": "stderr",
     "output_type": "stream",
     "text": [
      "/tmp/ipykernel_415/3651631007.py:23: SettingWithCopyWarning: \n",
      "A value is trying to be set on a copy of a slice from a DataFrame.\n",
      "Try using .loc[row_indexer,col_indexer] = value instead\n",
      "\n",
      "See the caveats in the documentation: https://pandas.pydata.org/pandas-docs/stable/user_guide/indexing.html#returning-a-view-versus-a-copy\n",
      "  df_interpreted[category] =  df_interpreted[categories_column].apply(lambda x: 1 if x == category else 0)\n"
     ]
    },
    {
     "name": "stdout",
     "output_type": "stream",
     "text": [
      "We use 2281 entries for area calculation of Def2022 in Sim_CEO_Ref_Change_Year_1522.\n",
      "We use 81 entries for margin of error calculation of Def2022 in Sim_CEO_Ref_Change_Year_1522.\n",
      " Calculating stats for Deg2019\n"
     ]
    },
    {
     "name": "stderr",
     "output_type": "stream",
     "text": [
      "/tmp/ipykernel_415/3651631007.py:23: SettingWithCopyWarning: \n",
      "A value is trying to be set on a copy of a slice from a DataFrame.\n",
      "Try using .loc[row_indexer,col_indexer] = value instead\n",
      "\n",
      "See the caveats in the documentation: https://pandas.pydata.org/pandas-docs/stable/user_guide/indexing.html#returning-a-view-versus-a-copy\n",
      "  df_interpreted[category] =  df_interpreted[categories_column].apply(lambda x: 1 if x == category else 0)\n"
     ]
    },
    {
     "name": "stdout",
     "output_type": "stream",
     "text": [
      "We use 611 entries for area calculation of Deg2019 in Sim_CEO_Ref_Change_Year_1522.\n",
      "We use 34 entries for margin of error calculation of Deg2019 in Sim_CEO_Ref_Change_Year_1522.\n",
      " Calculating stats for Deg2016\n"
     ]
    },
    {
     "name": "stderr",
     "output_type": "stream",
     "text": [
      "/tmp/ipykernel_415/3651631007.py:23: SettingWithCopyWarning: \n",
      "A value is trying to be set on a copy of a slice from a DataFrame.\n",
      "Try using .loc[row_indexer,col_indexer] = value instead\n",
      "\n",
      "See the caveats in the documentation: https://pandas.pydata.org/pandas-docs/stable/user_guide/indexing.html#returning-a-view-versus-a-copy\n",
      "  df_interpreted[category] =  df_interpreted[categories_column].apply(lambda x: 1 if x == category else 0)\n"
     ]
    },
    {
     "name": "stdout",
     "output_type": "stream",
     "text": [
      "We use 263 entries for area calculation of Deg2016 in Sim_CEO_Ref_Change_Year_1522.\n",
      "We use 53 entries for margin of error calculation of Deg2016 in Sim_CEO_Ref_Change_Year_1522.\n",
      " Calculating stats for Deg2022\n"
     ]
    },
    {
     "name": "stderr",
     "output_type": "stream",
     "text": [
      "/tmp/ipykernel_415/3651631007.py:23: SettingWithCopyWarning: \n",
      "A value is trying to be set on a copy of a slice from a DataFrame.\n",
      "Try using .loc[row_indexer,col_indexer] = value instead\n",
      "\n",
      "See the caveats in the documentation: https://pandas.pydata.org/pandas-docs/stable/user_guide/indexing.html#returning-a-view-versus-a-copy\n",
      "  df_interpreted[category] =  df_interpreted[categories_column].apply(lambda x: 1 if x == category else 0)\n"
     ]
    },
    {
     "name": "stdout",
     "output_type": "stream",
     "text": [
      "We use 486 entries for area calculation of Deg2022 in Sim_CEO_Ref_Change_Year_1522.\n",
      "We use 21 entries for margin of error calculation of Deg2022 in Sim_CEO_Ref_Change_Year_1522.\n",
      " Calculating stats for Deg2021\n"
     ]
    },
    {
     "name": "stderr",
     "output_type": "stream",
     "text": [
      "/tmp/ipykernel_415/3651631007.py:23: SettingWithCopyWarning: \n",
      "A value is trying to be set on a copy of a slice from a DataFrame.\n",
      "Try using .loc[row_indexer,col_indexer] = value instead\n",
      "\n",
      "See the caveats in the documentation: https://pandas.pydata.org/pandas-docs/stable/user_guide/indexing.html#returning-a-view-versus-a-copy\n",
      "  df_interpreted[category] =  df_interpreted[categories_column].apply(lambda x: 1 if x == category else 0)\n"
     ]
    },
    {
     "name": "stdout",
     "output_type": "stream",
     "text": [
      "We use 398 entries for area calculation of Deg2021 in Sim_CEO_Ref_Change_Year_1522.\n",
      "We use 22 entries for margin of error calculation of Deg2021 in Sim_CEO_Ref_Change_Year_1522.\n",
      "Sim_CEO_Ref_Change_Year_1522  Def2016  Def2017  Def2018  Def2019  Def2020  \\\n",
      "stratum                                                                     \n",
      "1                                 NaN      NaN      NaN      NaN      NaN   \n",
      "2                                  38       86       85      131      172   \n",
      "3                               2,316    5,198    7,027    6,980    7,908   \n",
      "\n",
      "Sim_CEO_Ref_Change_Year_1522  Def2021  Def2022  Deg2016  Deg2017  Deg2018  \\\n",
      "stratum                                                                     \n",
      "1                                 NaN      NaN      NaN      NaN      NaN   \n",
      "2                                 207       81      160      110      122   \n",
      "3                               5,908    2,200      103      173      351   \n",
      "\n",
      "Sim_CEO_Ref_Change_Year_1522  Deg2019  Deg2020  Deg2021  Deg2022      NF  \\\n",
      "stratum                                                                    \n",
      "1                                 NaN      NaN      NaN        4 236,343   \n",
      "2                                 150      124      164      335 529,051   \n",
      "3                                 461      404      234      147 159,208   \n",
      "\n",
      "Sim_CEO_Ref_Change_Year_1522  Stable  \n",
      "stratum                               \n",
      "1                            800,838  \n",
      "2                            182,237  \n",
      "3                             24,217  \n"
     ]
    },
    {
     "data": {
      "text/html": [
       "<div>\n",
       "<style scoped>\n",
       "    .dataframe tbody tr th:only-of-type {\n",
       "        vertical-align: middle;\n",
       "    }\n",
       "\n",
       "    .dataframe tbody tr th {\n",
       "        vertical-align: top;\n",
       "    }\n",
       "\n",
       "    .dataframe thead th {\n",
       "        text-align: right;\n",
       "    }\n",
       "</style>\n",
       "<table border=\"1\" class=\"dataframe\">\n",
       "  <thead>\n",
       "    <tr style=\"text-align: right;\">\n",
       "      <th></th>\n",
       "      <th>area_stratum_2</th>\n",
       "      <th>ci_stratum_2</th>\n",
       "      <th>area_stratum_3</th>\n",
       "      <th>ci_stratum_3</th>\n",
       "      <th>area_stratum_1</th>\n",
       "      <th>ci_stratum_1</th>\n",
       "      <th>area_total</th>\n",
       "      <th>MOE</th>\n",
       "      <th>MOE_perc</th>\n",
       "    </tr>\n",
       "    <tr>\n",
       "      <th>ChangeYear</th>\n",
       "      <th></th>\n",
       "      <th></th>\n",
       "      <th></th>\n",
       "      <th></th>\n",
       "      <th></th>\n",
       "      <th></th>\n",
       "      <th></th>\n",
       "      <th></th>\n",
       "      <th></th>\n",
       "    </tr>\n",
       "  </thead>\n",
       "  <tbody>\n",
       "    <tr>\n",
       "      <th>Def2016</th>\n",
       "      <td>506</td>\n",
       "      <td>9,608</td>\n",
       "      <td>30,853</td>\n",
       "      <td>9,296</td>\n",
       "      <td>0</td>\n",
       "      <td>0</td>\n",
       "      <td>31,360</td>\n",
       "      <td>13,370</td>\n",
       "      <td>43</td>\n",
       "    </tr>\n",
       "    <tr>\n",
       "      <th>Def2017</th>\n",
       "      <td>1,146</td>\n",
       "      <td>11,447</td>\n",
       "      <td>69,247</td>\n",
       "      <td>12,120</td>\n",
       "      <td>0</td>\n",
       "      <td>0</td>\n",
       "      <td>70,393</td>\n",
       "      <td>16,671</td>\n",
       "      <td>24</td>\n",
       "    </tr>\n",
       "    <tr>\n",
       "      <th>Def2018</th>\n",
       "      <td>1,132</td>\n",
       "      <td>10,100</td>\n",
       "      <td>93,612</td>\n",
       "      <td>13,580</td>\n",
       "      <td>0</td>\n",
       "      <td>0</td>\n",
       "      <td>94,745</td>\n",
       "      <td>16,924</td>\n",
       "      <td>18</td>\n",
       "    </tr>\n",
       "    <tr>\n",
       "      <th>Def2019</th>\n",
       "      <td>1,745</td>\n",
       "      <td>12,263</td>\n",
       "      <td>92,986</td>\n",
       "      <td>14,356</td>\n",
       "      <td>0</td>\n",
       "      <td>0</td>\n",
       "      <td>94,732</td>\n",
       "      <td>18,880</td>\n",
       "      <td>20</td>\n",
       "    </tr>\n",
       "    <tr>\n",
       "      <th>Def2020</th>\n",
       "      <td>2,291</td>\n",
       "      <td>12,064</td>\n",
       "      <td>105,349</td>\n",
       "      <td>13,232</td>\n",
       "      <td>0</td>\n",
       "      <td>0</td>\n",
       "      <td>107,640</td>\n",
       "      <td>17,906</td>\n",
       "      <td>17</td>\n",
       "    </tr>\n",
       "    <tr>\n",
       "      <th>Def2021</th>\n",
       "      <td>2,758</td>\n",
       "      <td>11,862</td>\n",
       "      <td>78,705</td>\n",
       "      <td>11,857</td>\n",
       "      <td>0</td>\n",
       "      <td>0</td>\n",
       "      <td>81,463</td>\n",
       "      <td>16,772</td>\n",
       "      <td>21</td>\n",
       "    </tr>\n",
       "    <tr>\n",
       "      <th>Def2022</th>\n",
       "      <td>1,079</td>\n",
       "      <td>11,447</td>\n",
       "      <td>29,308</td>\n",
       "      <td>9,383</td>\n",
       "      <td>0</td>\n",
       "      <td>0</td>\n",
       "      <td>30,387</td>\n",
       "      <td>14,801</td>\n",
       "      <td>49</td>\n",
       "    </tr>\n",
       "    <tr>\n",
       "      <th>Deg2016</th>\n",
       "      <td>2,131</td>\n",
       "      <td>12,263</td>\n",
       "      <td>1,372</td>\n",
       "      <td>6,014</td>\n",
       "      <td>0</td>\n",
       "      <td>0</td>\n",
       "      <td>3,504</td>\n",
       "      <td>13,658</td>\n",
       "      <td>390</td>\n",
       "    </tr>\n",
       "    <tr>\n",
       "      <th>Deg2017</th>\n",
       "      <td>1,465</td>\n",
       "      <td>6,240</td>\n",
       "      <td>2,305</td>\n",
       "      <td>4,061</td>\n",
       "      <td>0</td>\n",
       "      <td>0</td>\n",
       "      <td>3,770</td>\n",
       "      <td>7,445</td>\n",
       "      <td>197</td>\n",
       "    </tr>\n",
       "    <tr>\n",
       "      <th>Deg2018</th>\n",
       "      <td>1,625</td>\n",
       "      <td>6,975</td>\n",
       "      <td>4,676</td>\n",
       "      <td>5,133</td>\n",
       "      <td>0</td>\n",
       "      <td>0</td>\n",
       "      <td>6,301</td>\n",
       "      <td>8,660</td>\n",
       "      <td>137</td>\n",
       "    </tr>\n",
       "    <tr>\n",
       "      <th>Deg2019</th>\n",
       "      <td>1,998</td>\n",
       "      <td>9,857</td>\n",
       "      <td>6,141</td>\n",
       "      <td>4,803</td>\n",
       "      <td>0</td>\n",
       "      <td>0</td>\n",
       "      <td>8,140</td>\n",
       "      <td>10,965</td>\n",
       "      <td>135</td>\n",
       "    </tr>\n",
       "    <tr>\n",
       "      <th>Deg2020</th>\n",
       "      <td>1,652</td>\n",
       "      <td>9,857</td>\n",
       "      <td>5,382</td>\n",
       "      <td>4,971</td>\n",
       "      <td>0</td>\n",
       "      <td>0</td>\n",
       "      <td>7,034</td>\n",
       "      <td>11,040</td>\n",
       "      <td>157</td>\n",
       "    </tr>\n",
       "    <tr>\n",
       "      <th>Deg2021</th>\n",
       "      <td>2,185</td>\n",
       "      <td>7,315</td>\n",
       "      <td>3,117</td>\n",
       "      <td>4,259</td>\n",
       "      <td>0</td>\n",
       "      <td>0</td>\n",
       "      <td>5,302</td>\n",
       "      <td>8,464</td>\n",
       "      <td>160</td>\n",
       "    </tr>\n",
       "    <tr>\n",
       "      <th>Deg2022</th>\n",
       "      <td>4,463</td>\n",
       "      <td>5,837</td>\n",
       "      <td>1,958</td>\n",
       "      <td>4,629</td>\n",
       "      <td>53</td>\n",
       "      <td>19,359</td>\n",
       "      <td>6,474</td>\n",
       "      <td>20,743</td>\n",
       "      <td>320</td>\n",
       "    </tr>\n",
       "    <tr>\n",
       "      <th>NF</th>\n",
       "      <td>7,047,925</td>\n",
       "      <td>92,913</td>\n",
       "      <td>2,120,941</td>\n",
       "      <td>39,504</td>\n",
       "      <td>3,148,520</td>\n",
       "      <td>331,074</td>\n",
       "      <td>12,317,387</td>\n",
       "      <td>346,126</td>\n",
       "      <td>3</td>\n",
       "    </tr>\n",
       "    <tr>\n",
       "      <th>Stable</th>\n",
       "      <td>2,427,730</td>\n",
       "      <td>92,459</td>\n",
       "      <td>322,615</td>\n",
       "      <td>34,922</td>\n",
       "      <td>10,668,625</td>\n",
       "      <td>331,033</td>\n",
       "      <td>13,418,969</td>\n",
       "      <td>345,472</td>\n",
       "      <td>3</td>\n",
       "    </tr>\n",
       "  </tbody>\n",
       "</table>\n",
       "</div>"
      ],
      "text/plain": [
       "            area_stratum_2  ci_stratum_2  area_stratum_3  ci_stratum_3  \\\n",
       "ChangeYear                                                               \n",
       "Def2016                506         9,608          30,853         9,296   \n",
       "Def2017              1,146        11,447          69,247        12,120   \n",
       "Def2018              1,132        10,100          93,612        13,580   \n",
       "Def2019              1,745        12,263          92,986        14,356   \n",
       "Def2020              2,291        12,064         105,349        13,232   \n",
       "Def2021              2,758        11,862          78,705        11,857   \n",
       "Def2022              1,079        11,447          29,308         9,383   \n",
       "Deg2016              2,131        12,263           1,372         6,014   \n",
       "Deg2017              1,465         6,240           2,305         4,061   \n",
       "Deg2018              1,625         6,975           4,676         5,133   \n",
       "Deg2019              1,998         9,857           6,141         4,803   \n",
       "Deg2020              1,652         9,857           5,382         4,971   \n",
       "Deg2021              2,185         7,315           3,117         4,259   \n",
       "Deg2022              4,463         5,837           1,958         4,629   \n",
       "NF               7,047,925        92,913       2,120,941        39,504   \n",
       "Stable           2,427,730        92,459         322,615        34,922   \n",
       "\n",
       "            area_stratum_1  ci_stratum_1  area_total     MOE  MOE_perc  \n",
       "ChangeYear                                                              \n",
       "Def2016                  0             0      31,360  13,370        43  \n",
       "Def2017                  0             0      70,393  16,671        24  \n",
       "Def2018                  0             0      94,745  16,924        18  \n",
       "Def2019                  0             0      94,732  18,880        20  \n",
       "Def2020                  0             0     107,640  17,906        17  \n",
       "Def2021                  0             0      81,463  16,772        21  \n",
       "Def2022                  0             0      30,387  14,801        49  \n",
       "Deg2016                  0             0       3,504  13,658       390  \n",
       "Deg2017                  0             0       3,770   7,445       197  \n",
       "Deg2018                  0             0       6,301   8,660       137  \n",
       "Deg2019                  0             0       8,140  10,965       135  \n",
       "Deg2020                  0             0       7,034  11,040       157  \n",
       "Deg2021                  0             0       5,302   8,464       160  \n",
       "Deg2022                 53        19,359       6,474  20,743       320  \n",
       "NF               3,148,520       331,074  12,317,387 346,126         3  \n",
       "Stable          10,668,625       331,033  13,418,969 345,472         3  "
      ]
     },
     "execution_count": 15,
     "metadata": {},
     "output_type": "execute_result"
    }
   ],
   "source": [
    "stats_calc = calculate_areas(db_total, \n",
    "                strata_column, \n",
    "                categories_column, \n",
    "                interpretation_column,\n",
    "                total_area,\n",
    "                z_score)\n",
    "\n",
    "stats_calc.index.name = index_name\n",
    "stats_calc_sorted = stats_calc.sort_values(by=index_name, ascending=True)\n",
    "\n",
    "# Set the float_format to prevent truncation in scientific notation\n",
    "float_format_str = '{:.6f}'.format  # Adjust the precision as needed\n",
    "\n",
    "total_out =  f'{output_directory}{file_prefix}_stats_2015_2022.csv'\n",
    "# Export DataFrame to CSV without truncating data\n",
    "stats_calc.to_csv(total_out,index=True,float_format=float_format_str)\n",
    "\n",
    "stats_calc_sorted"
   ]
  },
  {
   "cell_type": "markdown",
   "id": "30db8a0f-6fcb-421d-8270-27d15ed99c4c",
   "metadata": {},
   "source": [
    "### plot areas with error bars"
   ]
  },
  {
   "cell_type": "code",
   "execution_count": 29,
   "id": "76d6e335-3d8e-4d0a-b679-e0454fdd333d",
   "metadata": {
    "tags": []
   },
   "outputs": [
    {
     "data": {
      "image/png": "[encoded data removed]",
      "text/plain": [
       "<Figure size 640x480 with 1 Axes>"
      ]
     },
     "metadata": {},
     "output_type": "display_data"
    }
   ],
   "source": [
    "stats = pd.read_csv('/home/sepal-user/module_results/esbae/GAB/Gabon_annual_stats_2015_2022.csv', low_memory=False)\n",
    "#select the values you want to plot\n",
    "values_to_plot = ['Def2016','Def2017','Def2018','Def2019','Def2020','Def2021','Def2022']\n",
    "\n",
    "# Filter the DataFrame to include only the selected values\n",
    "Def_areas = stats[stats['ChangeYear'].isin(values_to_plot)]\n",
    "\n",
    "# Create a bar chart\n",
    "ax = Def_areas.plot(kind='bar', x='ChangeYear', y='area_total', legend=False)\n",
    "\n",
    "# Format the y-axis labels with thousand separators (comma)\n",
    "#ax.yaxis.set_major_formatter(mtick.StrMethodFormatter('{:,.0f}'))\n",
    "\n",
    "# Add labels and a title\n",
    "plt.xlabel('Change')\n",
    "plt.ylabel('Ha')\n",
    "plt.title('Area Estimates')\n",
    "plt.bar(Def_areas['ChangeYear'], Def_areas['area_total'], yerr=Def_areas['MOE'], capsize=5)  # Add error bars\n",
    "\n",
    "# Show the plot\n",
    "plt.show()"
   ]
  },
  {
   "cell_type": "code",
   "execution_count": 30,
   "id": "0573aeda-f8de-4dcc-bb36-ce0aa5f468f0",
   "metadata": {
    "tags": []
   },
   "outputs": [
    {
     "data": {
      "image/png": "[encoded data removed]",
      "text/plain": [
       "<Figure size 640x480 with 1 Axes>"
      ]
     },
     "metadata": {},
     "output_type": "display_data"
    }
   ],
   "source": [
    "#plot DEG \n",
    "#select the values you want to plot\n",
    "values_to_plot = ['Deg2016','Deg2017','Deg2018','Deg2019','Deg2020','Deg2021','Deg2022']\n",
    "\n",
    "# Filter the DataFrame to include only the selected values\n",
    "Deg_areas = stats[stats['ChangeYear'].isin(values_to_plot)]\n",
    "\n",
    "# Create a bar chart\n",
    "ax = Deg_areas.plot(kind='bar', x='ChangeYear', y='area_total', legend=False)\n",
    "\n",
    "# Format the y-axis labels with thousand separators (comma)\n",
    "#ax.yaxis.set_major_formatter(mtick.StrMethodFormatter('{:,.0f}'))\n",
    "\n",
    "# Add labels and a title\n",
    "plt.xlabel('Change')\n",
    "plt.ylabel('Ha')\n",
    "plt.title('Area Estimates')\n",
    "plt.bar(Deg_areas['ChangeYear'], Deg_areas['area_total'], yerr=Deg_areas['MOE'], capsize=5)  # Add error bars\n",
    "# Show the plot\n",
    "plt.show()"
   ]
  },
  {
   "cell_type": "code",
   "execution_count": null,
   "id": "0b2b7a13-a2f6-4789-8110-f58c021af38b",
   "metadata": {},
   "outputs": [],
   "source": []
  }
 ],
 "metadata": {
  "kernelspec": {
   "display_name": "Python 3",
   "language": "python",
   "name": "python3"
  },
  "language_info": {
   "codemirror_mode": {
    "name": "ipython",
    "version": 3
   },
   "file_extension": ".py",
   "mimetype": "text/x-python",
   "name": "python",
   "nbconvert_exporter": "python",
   "pygments_lexer": "ipython3",
   "version": "3.10.12"
  }
 },
 "nbformat": 4,
 "nbformat_minor": 5
}
