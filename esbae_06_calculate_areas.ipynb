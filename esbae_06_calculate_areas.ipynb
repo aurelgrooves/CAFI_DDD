{
 "cells": [
  {
   "cell_type": "markdown",
   "id": "54888318-08a9-408f-ba85-7bbcfa38f1b7",
   "metadata": {
    "tags": []
   },
   "source": [
    "# VI - Calculating areas of change and confidence intervals\n",
    "### This script serves to perform a quick estimation of areas and confidence intervals for all types of change using validated data\n",
    "### This script requires a m4 instance\n",
    "###### For more information contact aurelie.shapiro@fao.org or remi.dannunzio@fao.org"
   ]
  },
  {
   "cell_type": "code",
   "execution_count": 1,
   "id": "ca0aabc4-ea60-48ec-bd1c-c4fb4b63d0e9",
   "metadata": {
    "tags": []
   },
   "outputs": [],
   "source": [
    "import pandas as pd\n",
    "import numpy as np\n",
    "import seaborn as sns\n",
    "from matplotlib import pyplot as plt\n",
    "import matplotlib.ticker as mticker"
   ]
  },
  {
   "cell_type": "markdown",
   "id": "f403562c-5836-4703-9ca4-1e2701df272a",
   "metadata": {},
   "source": [
    "### 1 - Read files and set parameters"
   ]
  },
  {
   "cell_type": "markdown",
   "id": "4e1cd21c-9b5e-43fb-99c2-0592756193ac",
   "metadata": {},
   "source": [
    "### read the output merged file from the previous script 5e"
   ]
  },
  {
   "cell_type": "code",
   "execution_count": 5,
   "id": "0591a759-56ac-4ea7-a6da-cda8e8518cd1",
   "metadata": {
    "tags": []
   },
   "outputs": [],
   "source": [
    "#DRC\n",
    "#df = pd.read_csv('/home/sepal-user/module_results/esbae/DRC/DRC_esbae_ceo_merge.csv', low_memory=False)\n",
    "#GAB\n",
    "df = pd.read_csv('/home/sepal-user/module_results/esbae/GAB/GAB_esbae_supervised_class_1522.csv', low_memory=False)"
   ]
  },
  {
   "cell_type": "code",
   "execution_count": 2,
   "id": "a377e056",
   "metadata": {
    "tags": []
   },
   "outputs": [],
   "source": [
    "z_score = 1.647"
   ]
  },
  {
   "cell_type": "code",
   "execution_count": 3,
   "id": "bc5e5cde-83f5-4b85-a216-a53e1a9951be",
   "metadata": {
    "tags": []
   },
   "outputs": [],
   "source": [
    "def calculate_areas(df_merged, kozak_column, target_column, total_area):\n",
    "    \n",
    "    df_full = df_merged.copy()\n",
    "    #df_merged = df_merged[df_merged['interpreted'] == 1]\n",
    "    \n",
    "    # get all attributes\n",
    "    categories = df_merged[target_column].unique()\n",
    "    print(categories)\n",
    "    # get strata\n",
    "    strata, d = df_merged[kozak_column].unique(), {}\n",
    "    \n",
    "    # create stats for each entry\n",
    "    for category in categories:\n",
    "        \n",
    "        if str(category) == 'nan':\n",
    "            continue\n",
    "            \n",
    "        print(f' Calculating stats for {category}')\n",
    "        # create binary class column\n",
    "        df_merged[category] = df_merged[target_column].apply(lambda x: 1 if x == category else 0)\n",
    "        print(f'There are {df_merged[category].sum()} entries of {category} in {target_column}.')\n",
    "        \n",
    "        # initialize variables for category\n",
    "        categories_area, se_total = 0, 0\n",
    "        d2 = {}\n",
    "        for stratum in strata:\n",
    "                        \n",
    "            if str(stratum) == 'nan':\n",
    "                continue\n",
    "            \n",
    "            # subset to stratum\n",
    "            strat_df = df_full[df_full[kozak_column] == stratum]\n",
    "            \n",
    "            # get area proportion for that stratum on full dataset\n",
    "            proportion_strata = len(strat_df)/len(df_full)\n",
    "\n",
    "            # get stratum area\n",
    "            stratum_area = proportion_strata * total_area\n",
    "\n",
    "            # get proportion of forest change within strata from interpreted data\n",
    "            proportion_category = len(\n",
    "                df_merged[(df_merged[kozak_column] == stratum) & (df_merged[category] == 1)]\n",
    "            ) / len(\n",
    "                df_merged[df_merged[kozak_column] == stratum]\n",
    "            )\n",
    "            \n",
    "            # get area from proportion and full area\n",
    "            area = proportion_category * stratum_area\n",
    "\n",
    "            # get error from interpreted data for full stratum area\n",
    "            var = np.var(df_merged[category][df_merged[kozak_column] == stratum]) / len(df_merged[df_merged[kozak_column] == stratum])\n",
    "            se = np.sqrt(var) * stratum_area\n",
    "\n",
    "            # add for totals\n",
    "            categories_area += area\n",
    "            se_total += se**2\n",
    "            \n",
    "            # add to dictionary\n",
    "            d2[f'area_stratum_{stratum}'] = area\n",
    "            d2[f'ci_stratum_{stratum}']=1.67*se\n",
    "        \n",
    "        d2['area_total'] = categories_area\n",
    "        d2['ci_total'] = z_score*np.sqrt(se_total)\n",
    "        d2['perc_error'] = np.sqrt(se_total) / categories_area * 100\n",
    "        d[category] = d2\n",
    "    \n",
    "    \n",
    "    return pd.DataFrame.from_dict(d, orient='index')"
   ]
  },
  {
   "cell_type": "code",
   "execution_count": 6,
   "id": "f695ee7f-251b-401c-9398-da6b0b62591e",
   "metadata": {
    "tags": []
   },
   "outputs": [
    {
     "name": "stdout",
     "output_type": "stream",
     "text": [
      "['Unnamed: 0' 'images' 'mon_images' 'bfast_change_date' 'bfast_magnitude'\n",
      " 'bfast_means' 'cusum_change_date' 'cusum_confidence' 'cusum_magnitude'\n",
      " 'red_mean' 'red_sd' 'red_min' 'red_max' 'nir_mean' 'nir_sd' 'nir_min'\n",
      " 'nir_max' 'swir1_mean' 'swir1_sd' 'swir1_min' 'swir1_max' 'swir2_mean'\n",
      " 'swir2_sd' 'swir2_min' 'swir2_max' 'ndfi_mean' 'ndfi_sd' 'ndfi_min'\n",
      " 'ndfi_max' 'brightness_mean' 'brightness_sd' 'brightness_min'\n",
      " 'brightness_max' 'greenness_mean' 'greenness_sd' 'greenness_min'\n",
      " 'greenness_max' 'wetness_mean' 'wetness_sd' 'wetness_min' 'wetness_max'\n",
      " 'bs_slope_mean' 'bs_slope_sd' 'bs_slope_max' 'bs_slope_min'\n",
      " 'ccdc_change_date' 'ccdc_magnitude' 'aspect' 'dw_class_mode'\n",
      " 'dw_tree_prob__max' 'dw_tree_prob__min' 'dw_tree_prob__stdDev'\n",
      " 'dw_tree_prob_mean' 'elevation' 'esa_lc20' 'esa_lc21' 'esri_lc17'\n",
      " 'esri_lc18' 'esri_lc19' 'esri_lc20' 'esri_lc21' 'gfc_gain' 'gfc_loss'\n",
      " 'gfc_lossyear' 'gfc_tc00' 'lang_tree_height' 'potapov_tree_height'\n",
      " 'slope' 'tmf_2016' 'tmf_2017' 'tmf_2018' 'tmf_2019' 'tmf_2020'\n",
      " 'tmf_defyear' 'tmf_degyear' 'tmf_main' 'tmf_sub' 'geometry' 'point_id'\n",
      " 'cnc_1520' 'CAFI_LC_2015' 'chg_prob' 'simple_combined' 'kmeans' 'plotid'\n",
      " 'lon' 'lat' 'sampleid' 'email' 'flagged' 'collection_time'\n",
      " 'analysis_duration' 'sample_geom' 'Ref_FNF_2015' 'Ref_Regeneration'\n",
      " 'Ref_Change_1522' 'Ref_Change_Type_1522' 'ArtFor' 'ArtMine' 'InfraR'\n",
      " 'Urb' 'IndFor' 'Other' 'Other_Desc' 'IndMine' 'IndAg' 'ArtAg' 'Ref_Year'\n",
      " 'Ref_NFtype' 'Ref_Ftype' 'Commentaires' 'collection' 'interpreted'\n",
      " 'Ref_LCtype' 'Ref_Change_Year_1522' 'Def2016' 'Def2017' 'Def2018'\n",
      " 'Def2019' 'Def2020' 'Def2021' 'Def2022' 'Deg2016' 'Deg2017' 'Deg2018'\n",
      " 'Deg2019' 'Deg2020' 'Deg2021' 'Deg2022' 'Defall' 'Degall' 'Stable' 'NF'\n",
      " 'stratum' 'sampling' 'def_prob' 'deg_prob' 'stable_prob' 'nf_prob'\n",
      " 'sim_def' 'sim_deg' 'sim_stable' 'sim_nf' 'classification' 'Count'\n",
      " 'cusum_change_year' 'Sim_Ref_Change_Year_1522'\n",
      " 'Sim_CEO_Ref_Change_Year_1522' 'Sim_CEO_Ref_Change_Type_1522']\n"
     ]
    }
   ],
   "source": [
    "print(df.columns.values)"
   ]
  },
  {
   "cell_type": "code",
   "execution_count": 7,
   "id": "8a63c349-c66a-4140-966d-f2dd175f8958",
   "metadata": {
    "tags": []
   },
   "outputs": [
    {
     "name": "stdout",
     "output_type": "stream",
     "text": [
      "222878\n"
     ]
    }
   ],
   "source": [
    "print(len(df))"
   ]
  },
  {
   "cell_type": "code",
   "execution_count": 8,
   "id": "f0deec23",
   "metadata": {
    "tags": []
   },
   "outputs": [
    {
     "name": "stdout",
     "output_type": "stream",
     "text": [
      "Def2016       165\n",
      "Def2017        97\n",
      "Def2018       102\n",
      "Def2019        89\n",
      "Def2020       109\n",
      "Def2021       115\n",
      "Def2022       155\n",
      "Deg2016       129\n",
      "Deg2017       190\n",
      "Deg2018       200\n",
      "Deg2019       182\n",
      "Deg2020       240\n",
      "Deg2021       185\n",
      "Deg2022       210\n",
      "NF          33181\n",
      "Stable     187529\n",
      "Name: Sim_CEO_Ref_Change_Year_1522, dtype: int64\n"
     ]
    }
   ],
   "source": [
    "value_counts = df['Sim_CEO_Ref_Change_Year_1522'].value_counts().sort_index()\n",
    "print(value_counts)"
   ]
  },
  {
   "cell_type": "markdown",
   "id": "340537ac",
   "metadata": {},
   "source": [
    "#### use these strata counts for area estimation"
   ]
  },
  {
   "cell_type": "code",
   "execution_count": 9,
   "id": "a7ba9ed9",
   "metadata": {
    "tags": []
   },
   "outputs": [
    {
     "name": "stdout",
     "output_type": "stream",
     "text": [
      "1.0    169047\n",
      "2.0     43683\n",
      "3.0     10148\n",
      "Name: stratum, dtype: int64\n"
     ]
    }
   ],
   "source": [
    "strata_counts = df['stratum'].value_counts().sort_index()\n",
    "print(strata_counts)"
   ]
  },
  {
   "cell_type": "markdown",
   "id": "120aa5ff",
   "metadata": {},
   "source": [
    "#### enter area of study in ha calculated in GIS or from LSIB for country or area of interest"
   ]
  },
  {
   "cell_type": "code",
   "execution_count": 10,
   "id": "7c421728",
   "metadata": {
    "tags": []
   },
   "outputs": [],
   "source": [
    "#DRC forest mask applied\n",
    "#study_area = 62009300\n",
    "#CMR forest mask applied\n",
    "#study_area = 39709141\n",
    "#GAB\n",
    "study_area = 26287600\n",
    "#EQG\n",
    "#study_area = 2685800\n",
    "#COG\n",
    "#study_area = 25361094\n",
    "#CAR forest mask applied\n",
    "#study_area = 58889539\n"
   ]
  },
  {
   "cell_type": "markdown",
   "id": "76749e27-5558-4a02-8b4a-11023bb83c38",
   "metadata": {},
   "source": [
    "### calculate for all years"
   ]
  },
  {
   "cell_type": "markdown",
   "id": "c947b9df-59be-4a08-9143-91d533e65063",
   "metadata": {},
   "source": [
    "#### column names:\n",
    "##### Sim_Ref_Change_Year_1522 - modeled change type and year\n",
    "##### Sim_CEO_Ref_Change_Year_1522 - hybrid column combining interpreted points and a model for all uninterpreted points\n",
    "##### Sim_Ref_Change_Type_1522 - modeled change class (def, deg, stable, nf)\n",
    "##### Sim_CEO_Ref_Change_Type_1522 - hybrid column combining interpreted points and modeled change class (def, deg, stable, nf) for all points"
   ]
  },
  {
   "cell_type": "code",
   "execution_count": 50,
   "id": "4a853019-5195-4e65-9952-a1444f53369c",
   "metadata": {
    "tags": []
   },
   "outputs": [],
   "source": [
    "#select column to analyze\n",
    "column = 'Sim_CEO_Ref_Change_Year_1522'"
   ]
  },
  {
   "cell_type": "code",
   "execution_count": 51,
   "id": "700b7fb9-141d-4d28-868b-c654289c0251",
   "metadata": {
    "tags": []
   },
   "outputs": [
    {
     "name": "stdout",
     "output_type": "stream",
     "text": [
      "['Stable' 'NF' 'Degradation' 'Deforestation']\n",
      " Calculating stats for Stable\n",
      "There are 187529 entries of Stable in accumulated.\n",
      " Calculating stats for NF\n",
      "There are 33181 entries of NF in accumulated.\n",
      " Calculating stats for Degradation\n",
      "There are 1336 entries of Degradation in accumulated.\n",
      " Calculating stats for Deforestation\n",
      "There are 832 entries of Deforestation in accumulated.\n"
     ]
    }
   ],
   "source": [
    "interpreted = [\n",
    "    'Def2016', 'Def2017', 'Def2018', 'Def2019', 'Def2020', 'Def2021', 'Def2022',\n",
    "    'Deg2016', 'Deg2017', 'Deg2018', 'Deg2019', 'Deg2020', 'Deg2021',\n",
    "    'Deg2022', 'NF', 'Stable'\n",
    "]\n",
    "\n",
    "#df['interpreted'] = df['ChangeYear'].apply(lambda x: 1 if str(x) in interpreted else 0)\n",
    "df['accumulated'] = df[column].apply(\n",
    "    lambda x: 'Deforestation' if str(x).startswith('Def') else 'Degradation' if str(x).startswith('Deg') else 'Stable' if str(x).startswith('Sta') else 'NF'if str(x).startswith('NF') else \"\")\n",
    "stats_gdf = calculate_areas(df, 'stratum', 'accumulated', study_area).sort_index()"
   ]
  },
  {
   "cell_type": "code",
   "execution_count": 26,
   "id": "8b7ae294-a474-40ea-be09-58958a189cc6",
   "metadata": {
    "tags": []
   },
   "outputs": [
    {
     "data": {
      "text/plain": [
       "(array(['Deforestation', 'Degradation', 'NF', 'Stable'], dtype=object),\n",
       " array([   832,   1336,  33181, 187529]))"
      ]
     },
     "execution_count": 26,
     "metadata": {},
     "output_type": "execute_result"
    }
   ],
   "source": [
    "np.unique(df['accumulated'], return_counts=True)"
   ]
  },
  {
   "cell_type": "code",
   "execution_count": 27,
   "id": "1043d8e0-9d8c-4ed1-af27-dd8a13878b14",
   "metadata": {
    "tags": []
   },
   "outputs": [
    {
     "data": {
      "text/html": [
       "<div>\n",
       "<style scoped>\n",
       "    .dataframe tbody tr th:only-of-type {\n",
       "        vertical-align: middle;\n",
       "    }\n",
       "\n",
       "    .dataframe tbody tr th {\n",
       "        vertical-align: top;\n",
       "    }\n",
       "\n",
       "    .dataframe thead th {\n",
       "        text-align: right;\n",
       "    }\n",
       "</style>\n",
       "<table border=\"1\" class=\"dataframe\">\n",
       "  <thead>\n",
       "    <tr style=\"text-align: right;\">\n",
       "      <th></th>\n",
       "      <th>area_total</th>\n",
       "      <th>ci_total</th>\n",
       "      <th>perc_error</th>\n",
       "    </tr>\n",
       "  </thead>\n",
       "  <tbody>\n",
       "    <tr>\n",
       "      <th>Deforestation</th>\n",
       "      <td>98131.189</td>\n",
       "      <td>5419.822</td>\n",
       "      <td>3.353</td>\n",
       "    </tr>\n",
       "    <tr>\n",
       "      <th>Degradation</th>\n",
       "      <td>157576.044</td>\n",
       "      <td>6653.064</td>\n",
       "      <td>2.564</td>\n",
       "    </tr>\n",
       "    <tr>\n",
       "      <th>NF</th>\n",
       "      <td>3913570.902</td>\n",
       "      <td>29522.110</td>\n",
       "      <td>0.458</td>\n",
       "    </tr>\n",
       "    <tr>\n",
       "      <th>Stable</th>\n",
       "      <td>22118321.864</td>\n",
       "      <td>28996.489</td>\n",
       "      <td>0.080</td>\n",
       "    </tr>\n",
       "  </tbody>\n",
       "</table>\n",
       "</div>"
      ],
      "text/plain": [
       "                area_total  ci_total  perc_error\n",
       "Deforestation    98131.189  5419.822       3.353\n",
       "Degradation     157576.044  6653.064       2.564\n",
       "NF             3913570.902 29522.110       0.458\n",
       "Stable        22118321.864 28996.489       0.080"
      ]
     },
     "execution_count": 27,
     "metadata": {},
     "output_type": "execute_result"
    }
   ],
   "source": [
    "pd.set_option('display.float_format', lambda x: '%.3f' % x)\n",
    "stats_df_all[['area_total', 'ci_total', 'perc_error']]\n",
    "#stats_gdf['Sim_Ref_Change_Year_1522'] = stats_gdf.index"
   ]
  },
  {
   "cell_type": "code",
   "execution_count": 28,
   "id": "bbd1fe68-6aee-48e2-a3c6-3b9068737ca2",
   "metadata": {
    "tags": []
   },
   "outputs": [
    {
     "data": {
      "text/html": [
       "<div>\n",
       "<style scoped>\n",
       "    .dataframe tbody tr th:only-of-type {\n",
       "        vertical-align: middle;\n",
       "    }\n",
       "\n",
       "    .dataframe tbody tr th {\n",
       "        vertical-align: top;\n",
       "    }\n",
       "\n",
       "    .dataframe thead th {\n",
       "        text-align: right;\n",
       "    }\n",
       "</style>\n",
       "<table border=\"1\" class=\"dataframe\">\n",
       "  <thead>\n",
       "    <tr style=\"text-align: right;\">\n",
       "      <th></th>\n",
       "      <th>area_stratum_1.0</th>\n",
       "      <th>ci_stratum_1.0</th>\n",
       "      <th>area_stratum_2.0</th>\n",
       "      <th>ci_stratum_2.0</th>\n",
       "      <th>area_stratum_3.0</th>\n",
       "      <th>ci_stratum_3.0</th>\n",
       "      <th>area_total</th>\n",
       "      <th>ci_total</th>\n",
       "      <th>perc_error</th>\n",
       "    </tr>\n",
       "  </thead>\n",
       "  <tbody>\n",
       "    <tr>\n",
       "      <th>Deforestation</th>\n",
       "      <td>353.838</td>\n",
       "      <td>341.159</td>\n",
       "      <td>10968.991</td>\n",
       "      <td>1897.487</td>\n",
       "      <td>86808.360</td>\n",
       "      <td>5146.238</td>\n",
       "      <td>98131.189</td>\n",
       "      <td>5419.822</td>\n",
       "      <td>3.353</td>\n",
       "    </tr>\n",
       "    <tr>\n",
       "      <th>Degradation</th>\n",
       "      <td>0.000</td>\n",
       "      <td>0.000</td>\n",
       "      <td>5897.307</td>\n",
       "      <td>1391.991</td>\n",
       "      <td>151678.737</td>\n",
       "      <td>6600.796</td>\n",
       "      <td>157576.044</td>\n",
       "      <td>6653.064</td>\n",
       "      <td>2.564</td>\n",
       "    </tr>\n",
       "    <tr>\n",
       "      <th>NF</th>\n",
       "      <td>1352488.398</td>\n",
       "      <td>20364.414</td>\n",
       "      <td>1827693.400</td>\n",
       "      <td>19696.008</td>\n",
       "      <td>733389.104</td>\n",
       "      <td>9665.662</td>\n",
       "      <td>3913570.902</td>\n",
       "      <td>29522.110</td>\n",
       "      <td>0.458</td>\n",
       "    </tr>\n",
       "    <tr>\n",
       "      <th>Stable</th>\n",
       "      <td>18585599.051</td>\n",
       "      <td>20366.884</td>\n",
       "      <td>3307681.576</td>\n",
       "      <td>19736.423</td>\n",
       "      <td>225041.237</td>\n",
       "      <td>7752.875</td>\n",
       "      <td>22118321.864</td>\n",
       "      <td>28996.489</td>\n",
       "      <td>0.080</td>\n",
       "    </tr>\n",
       "  </tbody>\n",
       "</table>\n",
       "</div>"
      ],
      "text/plain": [
       "               area_stratum_1.0  ci_stratum_1.0  area_stratum_2.0  \\\n",
       "Deforestation           353.838         341.159         10968.991   \n",
       "Degradation               0.000           0.000          5897.307   \n",
       "NF                  1352488.398       20364.414       1827693.400   \n",
       "Stable             18585599.051       20366.884       3307681.576   \n",
       "\n",
       "               ci_stratum_2.0  area_stratum_3.0  ci_stratum_3.0   area_total  \\\n",
       "Deforestation        1897.487         86808.360        5146.238    98131.189   \n",
       "Degradation          1391.991        151678.737        6600.796   157576.044   \n",
       "NF                  19696.008        733389.104        9665.662  3913570.902   \n",
       "Stable              19736.423        225041.237        7752.875 22118321.864   \n",
       "\n",
       "               ci_total  perc_error  \n",
       "Deforestation  5419.822       3.353  \n",
       "Degradation    6653.064       2.564  \n",
       "NF            29522.110       0.458  \n",
       "Stable        28996.489       0.080  "
      ]
     },
     "execution_count": 28,
     "metadata": {},
     "output_type": "execute_result"
    }
   ],
   "source": [
    "stats_df_all"
   ]
  },
  {
   "cell_type": "markdown",
   "id": "30db8a0f-6fcb-421d-8270-27d15ed99c4c",
   "metadata": {},
   "source": [
    "### calculate for each year"
   ]
  },
  {
   "cell_type": "code",
   "execution_count": null,
   "id": "52ba6560-cc4b-44d8-9c9b-83ea44e30446",
   "metadata": {},
   "outputs": [],
   "source": [
    "#select column to analyze\n",
    "column = 'Sim_CEO_Ref_Change_Year_1522'"
   ]
  },
  {
   "cell_type": "code",
   "execution_count": 44,
   "id": "20322007-4cc8-4f06-8871-8228c0d0e725",
   "metadata": {
    "tags": []
   },
   "outputs": [
    {
     "name": "stdout",
     "output_type": "stream",
     "text": [
      "['Stable' 'NF' 'Deg2021' 'Deg2016' 'Deg2018' 'Def2020' 'Def2019' 'Def2018'\n",
      " 'Deg2020' 'Def2016' 'Deg2017' 'Def2017' 'Deg2019' 'Def2021' 'Def2022'\n",
      " 'Deg2022']\n",
      " Calculating stats for Stable\n",
      "There are 185825 entries of Stable in Sim_Ref_Change_Year_1522.\n",
      " Calculating stats for NF\n",
      "There are 34584 entries of NF in Sim_Ref_Change_Year_1522.\n",
      " Calculating stats for Deg2021\n",
      "There are 218 entries of Deg2021 in Sim_Ref_Change_Year_1522.\n",
      " Calculating stats for Deg2016\n",
      "There are 148 entries of Deg2016 in Sim_Ref_Change_Year_1522.\n",
      " Calculating stats for Deg2018\n",
      "There are 220 entries of Deg2018 in Sim_Ref_Change_Year_1522.\n",
      " Calculating stats for Def2020\n",
      "There are 130 entries of Def2020 in Sim_Ref_Change_Year_1522.\n",
      " Calculating stats for Def2019\n",
      "There are 105 entries of Def2019 in Sim_Ref_Change_Year_1522.\n",
      " Calculating stats for Def2018\n",
      "There are 106 entries of Def2018 in Sim_Ref_Change_Year_1522.\n",
      " Calculating stats for Deg2020\n",
      "There are 274 entries of Deg2020 in Sim_Ref_Change_Year_1522.\n",
      " Calculating stats for Def2016\n",
      "There are 180 entries of Def2016 in Sim_Ref_Change_Year_1522.\n",
      " Calculating stats for Deg2017\n",
      "There are 219 entries of Deg2017 in Sim_Ref_Change_Year_1522.\n",
      " Calculating stats for Def2017\n",
      "There are 106 entries of Def2017 in Sim_Ref_Change_Year_1522.\n",
      " Calculating stats for Deg2019\n",
      "There are 206 entries of Deg2019 in Sim_Ref_Change_Year_1522.\n",
      " Calculating stats for Def2021\n",
      "There are 131 entries of Def2021 in Sim_Ref_Change_Year_1522.\n",
      " Calculating stats for Def2022\n",
      "There are 194 entries of Def2022 in Sim_Ref_Change_Year_1522.\n",
      " Calculating stats for Deg2022\n",
      "There are 232 entries of Deg2022 in Sim_Ref_Change_Year_1522.\n"
     ]
    }
   ],
   "source": [
    "interpreted = [\n",
    "    'Def2016', 'Def2017', 'Def2018', 'Def2019', 'Def2020', 'Def2021', 'Def2022',\n",
    "    'Deg2016', 'Deg2017', 'Deg2018', 'Deg2019', 'Deg2020', 'Deg2021',\n",
    "    'Deg2022', 'NF', 'Stable'\n",
    "]\n",
    "\n",
    "df['interpreted'] = df[column].apply(lambda x: 1 if str(x) in interpreted else \"\")\n",
    "#df['accumulated'] = df['ChangeYear'].apply(\n",
    "#    lambda x: 'Deforestation' if str(x).startswith('Def') else 'Degradation' if str(x).startswith('Deg') else 'Stable' if str(x).startswith('Sta') else 'NF')\n",
    "\n",
    "stats_df_year = calculate_areas(df, 'stratum', column, study_area).sort_index()"
   ]
  },
  {
   "cell_type": "code",
   "execution_count": 45,
   "id": "3dca19d0-5080-4597-92e5-06ad43de451b",
   "metadata": {
    "tags": []
   },
   "outputs": [
    {
     "data": {
      "text/html": [
       "<div>\n",
       "<style scoped>\n",
       "    .dataframe tbody tr th:only-of-type {\n",
       "        vertical-align: middle;\n",
       "    }\n",
       "\n",
       "    .dataframe tbody tr th {\n",
       "        vertical-align: top;\n",
       "    }\n",
       "\n",
       "    .dataframe thead th {\n",
       "        text-align: right;\n",
       "    }\n",
       "</style>\n",
       "<table border=\"1\" class=\"dataframe\">\n",
       "  <thead>\n",
       "    <tr style=\"text-align: right;\">\n",
       "      <th></th>\n",
       "      <th>area_stratum_1.0</th>\n",
       "      <th>ci_stratum_1.0</th>\n",
       "      <th>area_stratum_2.0</th>\n",
       "      <th>ci_stratum_2.0</th>\n",
       "      <th>area_stratum_3.0</th>\n",
       "      <th>ci_stratum_3.0</th>\n",
       "      <th>area_total</th>\n",
       "      <th>ci_total</th>\n",
       "      <th>perc_error</th>\n",
       "    </tr>\n",
       "  </thead>\n",
       "  <tbody>\n",
       "    <tr>\n",
       "      <th>Def2016</th>\n",
       "      <td>0.000</td>\n",
       "      <td>0.000</td>\n",
       "      <td>1061.515</td>\n",
       "      <td>590.849</td>\n",
       "      <td>20168.790</td>\n",
       "      <td>2553.924</td>\n",
       "      <td>21230.305</td>\n",
       "      <td>2585.277</td>\n",
       "      <td>7.394</td>\n",
       "    </tr>\n",
       "    <tr>\n",
       "      <th>Def2017</th>\n",
       "      <td>0.000</td>\n",
       "      <td>0.000</td>\n",
       "      <td>707.677</td>\n",
       "      <td>482.443</td>\n",
       "      <td>11794.614</td>\n",
       "      <td>1959.972</td>\n",
       "      <td>12502.291</td>\n",
       "      <td>1990.675</td>\n",
       "      <td>9.668</td>\n",
       "    </tr>\n",
       "    <tr>\n",
       "      <th>Def2018</th>\n",
       "      <td>0.000</td>\n",
       "      <td>0.000</td>\n",
       "      <td>1769.192</td>\n",
       "      <td>762.731</td>\n",
       "      <td>10733.099</td>\n",
       "      <td>1870.531</td>\n",
       "      <td>12502.291</td>\n",
       "      <td>1992.239</td>\n",
       "      <td>9.675</td>\n",
       "    </tr>\n",
       "    <tr>\n",
       "      <th>Def2019</th>\n",
       "      <td>117.946</td>\n",
       "      <td>196.969</td>\n",
       "      <td>2476.869</td>\n",
       "      <td>902.413</td>\n",
       "      <td>9789.530</td>\n",
       "      <td>1787.129</td>\n",
       "      <td>12384.345</td>\n",
       "      <td>1984.004</td>\n",
       "      <td>9.727</td>\n",
       "    </tr>\n",
       "    <tr>\n",
       "      <th>Def2020</th>\n",
       "      <td>235.892</td>\n",
       "      <td>278.556</td>\n",
       "      <td>1651.246</td>\n",
       "      <td>736.876</td>\n",
       "      <td>13445.860</td>\n",
       "      <td>2091.219</td>\n",
       "      <td>15332.998</td>\n",
       "      <td>2203.899</td>\n",
       "      <td>8.727</td>\n",
       "    </tr>\n",
       "    <tr>\n",
       "      <th>Def2021</th>\n",
       "      <td>0.000</td>\n",
       "      <td>0.000</td>\n",
       "      <td>2123.031</td>\n",
       "      <td>835.501</td>\n",
       "      <td>13327.914</td>\n",
       "      <td>2082.130</td>\n",
       "      <td>15450.944</td>\n",
       "      <td>2212.609</td>\n",
       "      <td>8.695</td>\n",
       "    </tr>\n",
       "    <tr>\n",
       "      <th>Def2022</th>\n",
       "      <td>0.000</td>\n",
       "      <td>0.000</td>\n",
       "      <td>1651.246</td>\n",
       "      <td>736.876</td>\n",
       "      <td>21230.305</td>\n",
       "      <td>2619.089</td>\n",
       "      <td>22881.551</td>\n",
       "      <td>2683.303</td>\n",
       "      <td>7.120</td>\n",
       "    </tr>\n",
       "    <tr>\n",
       "      <th>Deg2016</th>\n",
       "      <td>0.000</td>\n",
       "      <td>0.000</td>\n",
       "      <td>235.892</td>\n",
       "      <td>278.551</td>\n",
       "      <td>17220.137</td>\n",
       "      <td>2362.816</td>\n",
       "      <td>17456.029</td>\n",
       "      <td>2346.411</td>\n",
       "      <td>8.161</td>\n",
       "    </tr>\n",
       "    <tr>\n",
       "      <th>Deg2017</th>\n",
       "      <td>0.000</td>\n",
       "      <td>0.000</td>\n",
       "      <td>235.892</td>\n",
       "      <td>278.551</td>\n",
       "      <td>25594.313</td>\n",
       "      <td>2870.360</td>\n",
       "      <td>25830.205</td>\n",
       "      <td>2844.126</td>\n",
       "      <td>6.685</td>\n",
       "    </tr>\n",
       "    <tr>\n",
       "      <th>Deg2018</th>\n",
       "      <td>0.000</td>\n",
       "      <td>0.000</td>\n",
       "      <td>471.785</td>\n",
       "      <td>393.922</td>\n",
       "      <td>25476.366</td>\n",
       "      <td>2863.883</td>\n",
       "      <td>25948.151</td>\n",
       "      <td>2851.033</td>\n",
       "      <td>6.671</td>\n",
       "    </tr>\n",
       "    <tr>\n",
       "      <th>Deg2019</th>\n",
       "      <td>0.000</td>\n",
       "      <td>0.000</td>\n",
       "      <td>235.892</td>\n",
       "      <td>278.551</td>\n",
       "      <td>24061.013</td>\n",
       "      <td>2784.874</td>\n",
       "      <td>24296.905</td>\n",
       "      <td>2760.225</td>\n",
       "      <td>6.898</td>\n",
       "    </tr>\n",
       "    <tr>\n",
       "      <th>Deg2020</th>\n",
       "      <td>0.000</td>\n",
       "      <td>0.000</td>\n",
       "      <td>589.731</td>\n",
       "      <td>440.413</td>\n",
       "      <td>31727.512</td>\n",
       "      <td>3187.444</td>\n",
       "      <td>32317.243</td>\n",
       "      <td>3173.411</td>\n",
       "      <td>5.962</td>\n",
       "    </tr>\n",
       "    <tr>\n",
       "      <th>Deg2021</th>\n",
       "      <td>0.000</td>\n",
       "      <td>0.000</td>\n",
       "      <td>943.569</td>\n",
       "      <td>557.064</td>\n",
       "      <td>24768.690</td>\n",
       "      <td>2824.679</td>\n",
       "      <td>25712.259</td>\n",
       "      <td>2839.433</td>\n",
       "      <td>6.705</td>\n",
       "    </tr>\n",
       "    <tr>\n",
       "      <th>Deg2022</th>\n",
       "      <td>0.000</td>\n",
       "      <td>0.000</td>\n",
       "      <td>471.785</td>\n",
       "      <td>393.922</td>\n",
       "      <td>26891.720</td>\n",
       "      <td>2940.582</td>\n",
       "      <td>27363.505</td>\n",
       "      <td>2925.989</td>\n",
       "      <td>6.492</td>\n",
       "    </tr>\n",
       "    <tr>\n",
       "      <th>NF</th>\n",
       "      <td>1353431.967</td>\n",
       "      <td>20371.000</td>\n",
       "      <td>1879353.810</td>\n",
       "      <td>19816.642</td>\n",
       "      <td>846263.561</td>\n",
       "      <td>9030.637</td>\n",
       "      <td>4079049.338</td>\n",
       "      <td>29409.254</td>\n",
       "      <td>0.438</td>\n",
       "    </tr>\n",
       "    <tr>\n",
       "      <th>Stable</th>\n",
       "      <td>18584655.481</td>\n",
       "      <td>20373.469</td>\n",
       "      <td>3258262.143</td>\n",
       "      <td>19849.101</td>\n",
       "      <td>74424.015</td>\n",
       "      <td>4791.535</td>\n",
       "      <td>21917341.640</td>\n",
       "      <td>28447.560</td>\n",
       "      <td>0.079</td>\n",
       "    </tr>\n",
       "  </tbody>\n",
       "</table>\n",
       "</div>"
      ],
      "text/plain": [
       "         area_stratum_1.0  ci_stratum_1.0  area_stratum_2.0  ci_stratum_2.0  \\\n",
       "Def2016             0.000           0.000          1061.515         590.849   \n",
       "Def2017             0.000           0.000           707.677         482.443   \n",
       "Def2018             0.000           0.000          1769.192         762.731   \n",
       "Def2019           117.946         196.969          2476.869         902.413   \n",
       "Def2020           235.892         278.556          1651.246         736.876   \n",
       "Def2021             0.000           0.000          2123.031         835.501   \n",
       "Def2022             0.000           0.000          1651.246         736.876   \n",
       "Deg2016             0.000           0.000           235.892         278.551   \n",
       "Deg2017             0.000           0.000           235.892         278.551   \n",
       "Deg2018             0.000           0.000           471.785         393.922   \n",
       "Deg2019             0.000           0.000           235.892         278.551   \n",
       "Deg2020             0.000           0.000           589.731         440.413   \n",
       "Deg2021             0.000           0.000           943.569         557.064   \n",
       "Deg2022             0.000           0.000           471.785         393.922   \n",
       "NF            1353431.967       20371.000       1879353.810       19816.642   \n",
       "Stable       18584655.481       20373.469       3258262.143       19849.101   \n",
       "\n",
       "         area_stratum_3.0  ci_stratum_3.0   area_total  ci_total  perc_error  \n",
       "Def2016         20168.790        2553.924    21230.305  2585.277       7.394  \n",
       "Def2017         11794.614        1959.972    12502.291  1990.675       9.668  \n",
       "Def2018         10733.099        1870.531    12502.291  1992.239       9.675  \n",
       "Def2019          9789.530        1787.129    12384.345  1984.004       9.727  \n",
       "Def2020         13445.860        2091.219    15332.998  2203.899       8.727  \n",
       "Def2021         13327.914        2082.130    15450.944  2212.609       8.695  \n",
       "Def2022         21230.305        2619.089    22881.551  2683.303       7.120  \n",
       "Deg2016         17220.137        2362.816    17456.029  2346.411       8.161  \n",
       "Deg2017         25594.313        2870.360    25830.205  2844.126       6.685  \n",
       "Deg2018         25476.366        2863.883    25948.151  2851.033       6.671  \n",
       "Deg2019         24061.013        2784.874    24296.905  2760.225       6.898  \n",
       "Deg2020         31727.512        3187.444    32317.243  3173.411       5.962  \n",
       "Deg2021         24768.690        2824.679    25712.259  2839.433       6.705  \n",
       "Deg2022         26891.720        2940.582    27363.505  2925.989       6.492  \n",
       "NF             846263.561        9030.637  4079049.338 29409.254       0.438  \n",
       "Stable          74424.015        4791.535 21917341.640 28447.560       0.079  "
      ]
     },
     "execution_count": 45,
     "metadata": {},
     "output_type": "execute_result"
    }
   ],
   "source": [
    "stats_df_year"
   ]
  },
  {
   "cell_type": "code",
   "execution_count": 47,
   "id": "fd3b1cdf-66b3-4b2f-af10-01e1c8c63a0e",
   "metadata": {
    "tags": []
   },
   "outputs": [
    {
     "data": {
      "text/plain": [
       "Index(['area_stratum_1.0', 'ci_stratum_1.0', 'area_stratum_2.0',\n",
       "       'ci_stratum_2.0', 'area_stratum_3.0', 'ci_stratum_3.0', 'area_total',\n",
       "       'ci_total', 'perc_error', 'Sim_CEO_Ref_Change_Year_1522',\n",
       "       'Sim_Ref_Change_Year_1522'],\n",
       "      dtype='object')"
      ]
     },
     "execution_count": 47,
     "metadata": {},
     "output_type": "execute_result"
    }
   ],
   "source": [
    "stats_df_year['Sim_Ref_Change_Year_1522'] = stats_df.index\n",
    "#stats_df\n",
    "stats_df_year.columns"
   ]
  },
  {
   "cell_type": "code",
   "execution_count": 48,
   "id": "76d6e335-3d8e-4d0a-b679-e0454fdd333d",
   "metadata": {
    "tags": []
   },
   "outputs": [
    {
     "data": {
      "image/png": "[encoded data removed]",
      "text/plain": [
       "<Figure size 640x480 with 1 Axes>"
      ]
     },
     "metadata": {},
     "output_type": "display_data"
    }
   ],
   "source": [
    "#plot DEF \n",
    "#select the values you want to plot\n",
    "values_to_plot = ['Def2016','Def2017','Def2018','Def2019','Def2020','Def2021','Def2022']\n",
    "\n",
    "# Filter the DataFrame to include only the selected values\n",
    "Def_areas = stats_df_year[stats_df_year['Sim_Ref_Change_Year_1522'].isin(values_to_plot)]\n",
    "\n",
    "# Create a bar chart\n",
    "ax = Def_areas.plot(kind='bar', x='Sim_Ref_Change_Year_1522', y='area_total', legend=False)\n",
    "\n",
    "# Format the y-axis labels with thousand separators (comma)\n",
    "#ax.yaxis.set_major_formatter(mtick.StrMethodFormatter('{:,.0f}'))\n",
    "\n",
    "# Add labels and a title\n",
    "plt.xlabel('Change')\n",
    "plt.ylabel('Ha')\n",
    "plt.title('Area Estimates')\n",
    "plt.bar(Def_areas['Sim_Ref_Change_Year_1522'], Def_areas['area_total'], yerr=Def_areas['ci_total'], capsize=5)  # Add error bars\n",
    "\n",
    "# Show the plot\n",
    "plt.show()"
   ]
  },
  {
   "cell_type": "code",
   "execution_count": 49,
   "id": "0573aeda-f8de-4dcc-bb36-ce0aa5f468f0",
   "metadata": {
    "tags": []
   },
   "outputs": [
    {
     "data": {
      "image/png": "[encoded data removed]",
      "text/plain": [
       "<Figure size 640x480 with 1 Axes>"
      ]
     },
     "metadata": {},
     "output_type": "display_data"
    }
   ],
   "source": [
    "#plot DEG \n",
    "#select the values you want to plot\n",
    "values_to_plot = ['Deg2016','Deg2017','Deg2018','Deg2019','Deg2020','Deg2021','Deg2022']\n",
    "\n",
    "# Filter the DataFrame to include only the selected values\n",
    "Deg_areas = stats_df_year[stats_df_year['Sim_Ref_Change_Year_1522'].isin(values_to_plot)]\n",
    "\n",
    "# Create a bar chart\n",
    "ax = Deg_areas.plot(kind='bar', x='Sim_Ref_Change_Year_1522', y='area_total', legend=False)\n",
    "\n",
    "# Format the y-axis labels with thousand separators (comma)\n",
    "#ax.yaxis.set_major_formatter(mtick.StrMethodFormatter('{:,.0f}'))\n",
    "\n",
    "# Add labels and a title\n",
    "plt.xlabel('Change')\n",
    "plt.ylabel('Ha')\n",
    "plt.title('Area Estimates')\n",
    "plt.bar(Deg_areas['Sim_Ref_Change_Year_1522'], Deg_areas['area_total'], yerr=Deg_areas['ci_total'], capsize=5)  # Add error bars\n",
    "# Show the plot\n",
    "plt.show()"
   ]
  },
  {
   "cell_type": "markdown",
   "id": "548c9e49-34c6-46ac-bc56-2f9446ab4f42",
   "metadata": {},
   "source": [
    "### export stats to csv"
   ]
  },
  {
   "cell_type": "code",
   "execution_count": null,
   "id": "0db9c0d0-96b3-4e64-a56b-81454138e8a1",
   "metadata": {},
   "outputs": [],
   "source": [
    "grouped_out =  '/home/sepal-user/module_results/esbae/GAB/GAB_total_stats_2015_2022.csv'\n",
    "stats_df_all.to_csv(grouped_out,index=True)"
   ]
  },
  {
   "cell_type": "code",
   "execution_count": null,
   "id": "aecb609d-dd99-415e-a633-fbe29e5ed66f",
   "metadata": {},
   "outputs": [],
   "source": [
    "annual_out =  '/home/sepal-user/module_results/esbae/GAB/GAB_annual_stats_2015_2022.csv'\n",
    "stats_df_year.to_csv(annual_out,index=True)"
   ]
  }
 ],
 "metadata": {
  "kernelspec": {
   "display_name": "Python 3",
   "language": "python",
   "name": "python3"
  },
  "language_info": {
   "codemirror_mode": {
    "name": "ipython",
    "version": 3
   },
   "file_extension": ".py",
   "mimetype": "text/x-python",
   "name": "python",
   "nbconvert_exporter": "python",
   "pygments_lexer": "ipython3",
   "version": "3.8.10"
  }
 },
 "nbformat": 4,
 "nbformat_minor": 5
}
