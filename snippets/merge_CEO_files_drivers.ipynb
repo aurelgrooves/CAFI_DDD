{
 "cells": [
  {
   "cell_type": "code",
   "execution_count": 1,
   "id": "d3327701-cf96-4fd0-9476-a5b31d6a024f",
   "metadata": {},
   "outputs": [],
   "source": [
    "import pandas as pd\n",
    "import numpy as np\n",
    "import matplotlib.pyplot as plt\n",
    "pd.set_option('display.max_columns', None)\n",
    "pd.set_option('display.max_rows', None)\n",
    "# Set the display option to a large value to prevent text wrapping\n",
    "pd.set_option('display.max_colwidth', None)"
   ]
  },
  {
   "cell_type": "markdown",
   "id": "ae17ec32-d248-408d-b246-00375858cb6c",
   "metadata": {},
   "source": [
    "### 1. Read all CEO sample files\n",
    "download your CEO sample files from collect.earth and upload to SEPAL using FileZilla.\n",
    "add as many files as you have projects"
   ]
  },
  {
   "cell_type": "code",
   "execution_count": 15,
   "id": "4a8db001-a4e8-46ea-b59e-6c6544c6a3c6",
   "metadata": {},
   "outputs": [],
   "source": [
    "ceo1 = pd.read_csv('/home/sepal-user/module_results/esbae/CAR/CAR_all_ceo_1522_clean.csv',low_memory=False)\n",
    "ceo2 = pd.read_csv('/home/sepal-user/module_results/esbae/CMR/CMR_all_ceo_1522_clean.csv',low_memory=False)\n",
    "ceo3 = pd.read_csv('/home/sepal-user/module_results/esbae/COG/COG_all_ceo_1522_1622_clean.csv',low_memory=False)\n",
    "ceo4 = pd.read_csv('/home/sepal-user/module_results/esbae/DRC/DRC_all_ceo_1522_clean.csv',low_memory=False)\n",
    "ceo5 = pd.read_csv('/home/sepal-user/module_results/esbae/EQG/EQG_all_ceo_1522_clean.csv',low_memory=False)\n",
    "ceo6 = pd.read_csv('/home/sepal-user/module_results/esbae/GAB/GAB_all_ceo_1522_clean.csv',low_memory=False)"
   ]
  },
  {
   "cell_type": "code",
   "execution_count": 16,
   "id": "1ce61f06-cf76-4f66-85f2-b06b808609bf",
   "metadata": {},
   "outputs": [],
   "source": [
    "# Concatenate DataFrames\n",
    "combined_ceo = pd.concat([ceo1, ceo2, ceo3, ceo4, ceo5, ceo6], axis=0, ignore_index=True)"
   ]
  },
  {
   "cell_type": "code",
   "execution_count": 17,
   "id": "5619f4b0-0944-498a-b8e7-196918de8065",
   "metadata": {},
   "outputs": [
    {
     "data": {
      "text/plain": [
       "40330"
      ]
     },
     "execution_count": 17,
     "metadata": {},
     "output_type": "execute_result"
    }
   ],
   "source": [
    "len(combined_ceo)"
   ]
  },
  {
   "cell_type": "code",
   "execution_count": 18,
   "id": "f81e8663-21f7-4c00-bac3-0b0152a16018",
   "metadata": {},
   "outputs": [
    {
     "data": {
      "text/html": [
       "<div>\n",
       "<style scoped>\n",
       "    .dataframe tbody tr th:only-of-type {\n",
       "        vertical-align: middle;\n",
       "    }\n",
       "\n",
       "    .dataframe tbody tr th {\n",
       "        vertical-align: top;\n",
       "    }\n",
       "\n",
       "    .dataframe thead th {\n",
       "        text-align: right;\n",
       "    }\n",
       "</style>\n",
       "<table border=\"1\" class=\"dataframe\">\n",
       "  <thead>\n",
       "    <tr style=\"text-align: right;\">\n",
       "      <th>Ref_FNF_2015</th>\n",
       "      <th>0.0</th>\n",
       "      <th>1.0</th>\n",
       "      <th>Total</th>\n",
       "    </tr>\n",
       "    <tr>\n",
       "      <th>ISO</th>\n",
       "      <th></th>\n",
       "      <th></th>\n",
       "      <th></th>\n",
       "    </tr>\n",
       "  </thead>\n",
       "  <tbody>\n",
       "    <tr>\n",
       "      <th>CAF</th>\n",
       "      <td>2764</td>\n",
       "      <td>1613</td>\n",
       "      <td>4377</td>\n",
       "    </tr>\n",
       "    <tr>\n",
       "      <th>CMR</th>\n",
       "      <td>3485</td>\n",
       "      <td>3248</td>\n",
       "      <td>6733</td>\n",
       "    </tr>\n",
       "    <tr>\n",
       "      <th>COD</th>\n",
       "      <td>6297</td>\n",
       "      <td>6850</td>\n",
       "      <td>13147</td>\n",
       "    </tr>\n",
       "    <tr>\n",
       "      <th>COG</th>\n",
       "      <td>143</td>\n",
       "      <td>260</td>\n",
       "      <td>403</td>\n",
       "    </tr>\n",
       "    <tr>\n",
       "      <th>EQG</th>\n",
       "      <td>878</td>\n",
       "      <td>3604</td>\n",
       "      <td>4482</td>\n",
       "    </tr>\n",
       "    <tr>\n",
       "      <th>GAB</th>\n",
       "      <td>1366</td>\n",
       "      <td>7007</td>\n",
       "      <td>8373</td>\n",
       "    </tr>\n",
       "    <tr>\n",
       "      <th>Total</th>\n",
       "      <td>14933</td>\n",
       "      <td>22582</td>\n",
       "      <td>37515</td>\n",
       "    </tr>\n",
       "  </tbody>\n",
       "</table>\n",
       "</div>"
      ],
      "text/plain": [
       "Ref_FNF_2015    0.0    1.0  Total\n",
       "ISO                              \n",
       "CAF            2764   1613   4377\n",
       "CMR            3485   3248   6733\n",
       "COD            6297   6850  13147\n",
       "COG             143    260    403\n",
       "EQG             878   3604   4482\n",
       "GAB            1366   7007   8373\n",
       "Total         14933  22582  37515"
      ]
     },
     "execution_count": 18,
     "metadata": {},
     "output_type": "execute_result"
    }
   ],
   "source": [
    "pd.pivot_table(combined_ceo,values='point_id',index=['ISO'],columns=['Ref_FNF_2015'],aggfunc=\"count\",margins=True,\n",
    "                             margins_name='Total')"
   ]
  },
  {
   "cell_type": "code",
   "execution_count": 5,
   "id": "0c9ed012-dcdf-4979-b48a-88c25e5ae788",
   "metadata": {},
   "outputs": [
    {
     "name": "stdout",
     "output_type": "stream",
     "text": [
      "ID                      float64\n",
      "plotid                    int64\n",
      "sampleid                float64\n",
      "lon                     float64\n",
      "lat                     float64\n",
      "sample_geom              object\n",
      "point_id                  int64\n",
      "Ref_FNF_2015              int64\n",
      "Ref_Regeneration         object\n",
      "Ref_Change_1522           int64\n",
      "Ref_Change_Type_1522     object\n",
      "ArtFor                    int64\n",
      "ArtMine                   int64\n",
      "InfraR                    int64\n",
      "Urb                       int64\n",
      "IndFor                    int64\n",
      "Other                     int64\n",
      "Other_Desc               object\n",
      "IndMine                   int64\n",
      "IndAg                     int64\n",
      "ArtAg                   float64\n",
      "Ref_Year_1522           float64\n",
      "Ref_NFtype              float64\n",
      "Ref_Ftype               float64\n",
      "collection               object\n",
      "interpreted               int64\n",
      "Ref_LCover              float64\n",
      "Ref_Change_Year_1522     object\n",
      "Def2016                 float64\n",
      "Def2017                 float64\n",
      "Def2018                 float64\n",
      "Def2019                 float64\n",
      "Def2020                 float64\n",
      "Def2021                 float64\n",
      "Def2022                 float64\n",
      "Deg2016                 float64\n",
      "Deg2017                 float64\n",
      "Deg2018                 float64\n",
      "Deg2019                 float64\n",
      "Deg2020                 float64\n",
      "Deg2021                 float64\n",
      "Deg2022                 float64\n",
      "Defall                  float64\n",
      "Degall                  float64\n",
      "Stable                  float64\n",
      "NF                      float64\n",
      "ISO                      object\n",
      "Ref_NFtype_2015         float64\n",
      "Ref_Ftype_2015          float64\n",
      "Unnamed: 0              float64\n",
      "Change_Bin              float64\n",
      "Def_Bin                 float64\n",
      "Deg_Bin                 float64\n",
      "CAFI_LC_2015            float64\n",
      "chg_prob                float64\n",
      "chg_prob_cafi1520       float64\n",
      "def_prob_cafi1520       float64\n",
      "deg_prob_cafi1520       float64\n",
      "simple_combined         float64\n",
      "kmeans_chg              float64\n",
      "kmeans_def              float64\n",
      "kmeans_deg              float64\n",
      "email                    object\n",
      "flagged                  object\n",
      "collection_time          object\n",
      "analysis_duration        object\n",
      "Commentaires             object\n",
      "Ref_LCtype              float64\n",
      "sampling                 object\n",
      "Ref_LCover_2015         float64\n",
      "DensFor                 float64\n",
      "DensDryFor              float64\n",
      "SecFor                  float64\n",
      "DryOpenFor              float64\n",
      "Mangrove                float64\n",
      "Swamp                   float64\n",
      "Gallery                 float64\n",
      "Plantation              float64\n",
      "Woodland                float64\n",
      "Shrubland               float64\n",
      "Grassland               float64\n",
      "Aquatic                 float64\n",
      "Bare                    float64\n",
      "Cultivated              float64\n",
      "Builtup                 float64\n",
      "Water                   float64\n",
      "dtype: object\n"
     ]
    }
   ],
   "source": [
    "print(combined_ceo.dtypes)"
   ]
  },
  {
   "cell_type": "code",
   "execution_count": null,
   "id": "4023b75e-e06c-4bfb-a15b-bcccbb25b6d9",
   "metadata": {},
   "outputs": [],
   "source": [
    "# Function to determine 'GroupedDrivers'\n",
    "def determine_grouped_drivers(row):\n",
    "    if row['CountDrivers'] == 0:\n",
    "        return \"\"\n",
    "    elif row['ArtMine'] == 1 and row['IndDrivers'] == \"False\":\n",
    "        return \"artisanal mining\"\n",
    "    elif row['ArtMine'] == 1 and row['CountDrivers'] <= 2:\n",
    "        return \"artisanal mining\"\n",
    "    elif row['IndMine'] == 1:\n",
    "        return \"industrial mining\"\n",
    "    elif row['IndAg'] == 1 and row['IndFor'] == 1 and row['IndMine'] == 0:\n",
    "        return \"industrial forestry and agriculture\"\n",
    "    elif row['IndFor'] == 1 and row['IndAg'] == 0 and row['IndMine'] == 0:\n",
    "        return \"industrial forestry\"\n",
    "    elif row['IndAg'] == 1 and row['IndFor'] == 0 and row['IndMine'] == 0:\n",
    "        return \"industrial agriculture\"\n",
    "    elif row['ArtFor'] == 1 and row['ArtAg'] == 0 and row['ArtMine'] == 0 and row['IndDrivers'] == \"False\":\n",
    "        return \"artisanal forestry\"\n",
    "    elif row['ArtAg'] == 1 and row['InfraR'] == 1 and row['CountDrivers'] <= 2 and row['ArtMine'] == 0:\n",
    "        return \"infrastructure agriculture\"\n",
    "    elif row['CountDrivers'] <= 2 and row['ArtAg'] == 0 and (row['InfraR'] == 1 or row['Urb'] == 1) and row['IndDrivers'] == \"False\":\n",
    "        return \"human infrastructure\"\n",
    "    elif row['ArtFor'] == 1 and row['CountDrivers'] == 1:\n",
    "        return \"artisanal forestry\"\n",
    "    elif row['CountDrivers'] == 1 and row['Other'] == 1:\n",
    "        return \"other\"\n",
    "    else:\n",
    "        return \"rural complex\"\n",
    "\n",
    "# Apply the function to create the new column\n",
    "df['GroupedDrivers'] = df.apply(determine_grouped_drivers, axis=1)"
   ]
  },
  {
   "cell_type": "code",
   "execution_count": null,
   "id": "30f28356-2a21-43dc-a078-b002a9531b4e",
   "metadata": {},
   "outputs": [],
   "source": []
  }
 ],
 "metadata": {
  "kernelspec": {
   "display_name": "Python 3",
   "language": "python",
   "name": "python3"
  },
  "language_info": {
   "codemirror_mode": {
    "name": "ipython",
    "version": 3
   },
   "file_extension": ".py",
   "mimetype": "text/x-python",
   "name": "python",
   "nbconvert_exporter": "python",
   "pygments_lexer": "ipython3",
   "version": "3.10.12"
  }
 },
 "nbformat": 4,
 "nbformat_minor": 5
}
