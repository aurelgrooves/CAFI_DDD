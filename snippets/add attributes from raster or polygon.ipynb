{
 "cells": [
  {
   "cell_type": "markdown",
   "id": "8a05d05f-8002-4018-a7cd-e6d9f4e06961",
   "metadata": {},
   "source": [
    "### with this script you can add attributes from raster or polygons to points "
   ]
  },
  {
   "cell_type": "code",
   "execution_count": 1,
   "id": "38eeff53-da64-41af-abaf-b27073551c55",
   "metadata": {
    "tags": []
   },
   "outputs": [],
   "source": [
    "from pathlib import Path\n",
    "\n",
    "import numpy as np\n",
    "import pandas as pd\n",
    "import geopandas as gpd\n",
    "from matplotlib import pyplot as plt\n",
    "\n",
    "import geopandas\n",
    "import rasterio\n",
    "import matplotlib.pyplot as plt\n",
    "from shapely.geometry import Point\n",
    "\n",
    "import ee\n",
    "import geemap\n",
    "import pandas as pd"
   ]
  },
  {
   "cell_type": "code",
   "execution_count": 2,
   "id": "0b0e768b-8cd9-441e-985f-c0f2007f61da",
   "metadata": {},
   "outputs": [
    {
     "data": {
      "text/html": [
       "\n",
       "            <style>\n",
       "                .geemap-dark {\n",
       "                    --jp-widgets-color: white;\n",
       "                    --jp-widgets-label-color: white;\n",
       "                    --jp-ui-font-color1: white;\n",
       "                    --jp-layout-color2: #454545;\n",
       "                    background-color: #383838;\n",
       "                }\n",
       "\n",
       "                .geemap-dark .jupyter-button {\n",
       "                    --jp-layout-color3: #383838;\n",
       "                }\n",
       "\n",
       "                .geemap-colab {\n",
       "                    background-color: var(--colab-primary-surface-color, white);\n",
       "                }\n",
       "\n",
       "                .geemap-colab .jupyter-button {\n",
       "                    --jp-layout-color3: var(--colab-primary-surface-color, white);\n",
       "                }\n",
       "            </style>\n",
       "            "
      ],
      "text/plain": [
       "<IPython.core.display.HTML object>"
      ]
     },
     "metadata": {},
     "output_type": "display_data"
    },
    {
     "name": "stderr",
     "output_type": "stream",
     "text": [
      "*** Earth Engine *** Share your feedback by taking our Annual Developer Satisfaction Survey: https://google.qualtrics.com/jfe/form/SV_0JLhFqfSY1uiEaW?source=Init\n"
     ]
    }
   ],
   "source": [
    "# Initialize Earth Engine\n",
    "ee.Initialize()"
   ]
  },
  {
   "cell_type": "markdown",
   "id": "5b5df708-c24b-48be-90a9-fc522b5fa1a8",
   "metadata": {},
   "source": [
    "##### read points"
   ]
  },
  {
   "cell_type": "code",
   "execution_count": 3,
   "id": "ca3d705d-835a-40c2-9ecb-dfd2a6bb370a",
   "metadata": {},
   "outputs": [
    {
     "data": {
      "text/html": [
       "\n",
       "            <style>\n",
       "                .geemap-dark {\n",
       "                    --jp-widgets-color: white;\n",
       "                    --jp-widgets-label-color: white;\n",
       "                    --jp-ui-font-color1: white;\n",
       "                    --jp-layout-color2: #454545;\n",
       "                    background-color: #383838;\n",
       "                }\n",
       "\n",
       "                .geemap-dark .jupyter-button {\n",
       "                    --jp-layout-color3: #383838;\n",
       "                }\n",
       "\n",
       "                .geemap-colab {\n",
       "                    background-color: var(--colab-primary-surface-color, white);\n",
       "                }\n",
       "\n",
       "                .geemap-colab .jupyter-button {\n",
       "                    --jp-layout-color3: var(--colab-primary-surface-color, white);\n",
       "                }\n",
       "            </style>\n",
       "            "
      ],
      "text/plain": [
       "<IPython.core.display.HTML object>"
      ]
     },
     "metadata": {},
     "output_type": "display_data"
    }
   ],
   "source": [
    "points = pd.read_csv('/home/sepal-user/module_results/esbae/DRC/DRC_all_ceo_2015_2022_2023_clean.csv', delimiter=',', low_memory=False)\n",
    "#points = pd.read_csv('/home/sepal-user/module_results/esbae/DRC/DRC_all_ceo_2015_2022_2023_prov.csv', delimiter=',', low_memory=False)\n",
    "#points = pd.read_csv('/home/sepal-user/module_results/esbae/GAB/GAB_all_ceo_2015_2022_2023_clean.csv', delimiter=',', low_memory=False)\n",
    "#points = pd.read_csv('/home/sepal-user/module_results/esbae/CMR/CMR_all_ceo_2015_2022_2023_clean.csv',delimiter=',', low_memory=False)\n",
    "#points = pd.read_csv('/home/sepal-user/module_results/esbae/EQG/EQG_all_ceo_2015_2022_2023_prov.csv',delimiter=',', low_memory=False)\n",
    "#points = pd.read_csv('/home/sepal-user/module_results/esbae/EQG/EQG_all_ceo_2015_2022_2023_prov.csv',delimiter=',', low_memory=False)\n",
    "#points = pd.read_csv('/home/sepal-user/module_results/esbae/CAR/CAR_all_ceo_2015_2022_2023_pref.csv',delimiter=',', low_memory=False)\n",
    "#read GEE points\n",
    "#points = ee.FeatureCollection('users/faocongo/sbae/sbae_hex16_cmr')"
   ]
  },
  {
   "cell_type": "code",
   "execution_count": 4,
   "id": "d7eaca47-7c65-45fa-bd74-d58b62a500c4",
   "metadata": {},
   "outputs": [
    {
     "data": {
      "text/html": [
       "\n",
       "            <style>\n",
       "                .geemap-dark {\n",
       "                    --jp-widgets-color: white;\n",
       "                    --jp-widgets-label-color: white;\n",
       "                    --jp-ui-font-color1: white;\n",
       "                    --jp-layout-color2: #454545;\n",
       "                    background-color: #383838;\n",
       "                }\n",
       "\n",
       "                .geemap-dark .jupyter-button {\n",
       "                    --jp-layout-color3: #383838;\n",
       "                }\n",
       "\n",
       "                .geemap-colab {\n",
       "                    background-color: var(--colab-primary-surface-color, white);\n",
       "                }\n",
       "\n",
       "                .geemap-colab .jupyter-button {\n",
       "                    --jp-layout-color3: var(--colab-primary-surface-color, white);\n",
       "                }\n",
       "            </style>\n",
       "            "
      ],
      "text/plain": [
       "<IPython.core.display.HTML object>"
      ]
     },
     "metadata": {},
     "output_type": "display_data"
    },
    {
     "data": {
      "text/plain": [
       "15338"
      ]
     },
     "execution_count": 4,
     "metadata": {},
     "output_type": "execute_result"
    }
   ],
   "source": [
    "len(points)"
   ]
  },
  {
   "cell_type": "code",
   "execution_count": 5,
   "id": "e5a7b836-d9fe-416d-82d7-76542f8e88db",
   "metadata": {},
   "outputs": [
    {
     "data": {
      "text/html": [
       "\n",
       "            <style>\n",
       "                .geemap-dark {\n",
       "                    --jp-widgets-color: white;\n",
       "                    --jp-widgets-label-color: white;\n",
       "                    --jp-ui-font-color1: white;\n",
       "                    --jp-layout-color2: #454545;\n",
       "                    background-color: #383838;\n",
       "                }\n",
       "\n",
       "                .geemap-dark .jupyter-button {\n",
       "                    --jp-layout-color3: #383838;\n",
       "                }\n",
       "\n",
       "                .geemap-colab {\n",
       "                    background-color: var(--colab-primary-surface-color, white);\n",
       "                }\n",
       "\n",
       "                .geemap-colab .jupyter-button {\n",
       "                    --jp-layout-color3: var(--colab-primary-surface-color, white);\n",
       "                }\n",
       "            </style>\n",
       "            "
      ],
      "text/plain": [
       "<IPython.core.display.HTML object>"
      ]
     },
     "metadata": {},
     "output_type": "display_data"
    },
    {
     "name": "stdout",
     "output_type": "stream",
     "text": [
      "['UID', 'ID', 'plotid', 'point_id', 'sampleid', 'lon', 'lat', 'sample_geom', 'Ref_FNF_2015', 'Ref_Regeneration', 'Ref_Change_1522', 'Ref_Change_Type_1522', 'ArtFor', 'ArtMine', 'InfraR', 'Urb', 'IndFor', 'Other', 'Other_Desc', 'IndMine', 'IndAg', 'ArtAg', 'Ref_Year_1522', 'Ref_NFtype_2015', 'Ref_Ftype_2015', 'collection', 'interpreted', 'Ref_LCover_2015', 'Ref_Change_Year_1522', 'Ref_Change_LCover_1522', 'Def2016', 'Def2017', 'Def2018', 'Def2019', 'Def2020', 'Def2021', 'Def2022', 'Deg2016', 'Deg2017', 'Deg2018', 'Deg2019', 'Deg2020', 'Deg2021', 'Deg2022', 'Defall', 'Degall', 'Stable', 'NF', 'DensFor', 'DensDryFor', 'SecFor', 'DryOpenFor', 'Mangrove', 'Swamp', 'Gallery', 'Plantation', 'Woodland', 'Shrubland', 'Grassland', 'Aquatic', 'Bare', 'Cultivated', 'Builtup', 'Water', 'DensFor_Def', 'DensDryFor_Def', 'SecFor_Def', 'DryOpenFor_Def', 'Mangrove_Def', 'Swamp_Def', 'Gallery_Def', 'Plantation_Def', 'Woodland_Def', 'DensFor_Deg', 'DensDryFor_Deg', 'SecFor_Deg', 'DryOpenFor_Deg', 'Mangrove_Deg', 'Swamp_Deg', 'Gallery_Deg', 'Plantation_Deg', 'Woodland_Deg', 'DensFor_Stable', 'DensDryFor_Stable', 'SecFor_Stable', 'DryOpenFor_Stable', 'Mangrove_Stable', 'Swamp_Stable', 'Gallery_Stable', 'Plantation_Stable', 'Woodland_Stable', 'ISO', 'sampling', 'TNT_stratum', 'Ref_FNF_2022', 'Ref_Change_2023', 'Ref_Change_Type_2023', 'Ref_NFtype_2022', 'Ref_Ftype_2022', 'Ref_LCover_2022', 'Ref_Change_Year_2023', 'Ref_Change_LCover_2023', 'Def2023', 'Deg2023', 'interpreted_qc', 'Ref_Change_Type_1523', 'Ref_Change_Year_1523']\n"
     ]
    }
   ],
   "source": [
    "all_columns = points.columns.tolist()\n",
    "\n",
    "# Display the list of column names\n",
    "print(all_columns)"
   ]
  },
  {
   "cell_type": "code",
   "execution_count": 6,
   "id": "42eb3e9d-a77b-4d93-9cf7-58ef5e4d1255",
   "metadata": {},
   "outputs": [
    {
     "data": {
      "text/html": [
       "\n",
       "            <style>\n",
       "                .geemap-dark {\n",
       "                    --jp-widgets-color: white;\n",
       "                    --jp-widgets-label-color: white;\n",
       "                    --jp-ui-font-color1: white;\n",
       "                    --jp-layout-color2: #454545;\n",
       "                    background-color: #383838;\n",
       "                }\n",
       "\n",
       "                .geemap-dark .jupyter-button {\n",
       "                    --jp-layout-color3: #383838;\n",
       "                }\n",
       "\n",
       "                .geemap-colab {\n",
       "                    background-color: var(--colab-primary-surface-color, white);\n",
       "                }\n",
       "\n",
       "                .geemap-colab .jupyter-button {\n",
       "                    --jp-layout-color3: var(--colab-primary-surface-color, white);\n",
       "                }\n",
       "            </style>\n",
       "            "
      ],
      "text/plain": [
       "<IPython.core.display.HTML object>"
      ]
     },
     "metadata": {},
     "output_type": "display_data"
    }
   ],
   "source": [
    "#drop any columns if needed\n",
    "#esbae = esbae.drop('index_right', axis=1)"
   ]
  },
  {
   "cell_type": "code",
   "execution_count": 7,
   "id": "604ea1cc-72aa-4e28-9d79-318cd52aa31e",
   "metadata": {},
   "outputs": [
    {
     "data": {
      "text/html": [
       "\n",
       "            <style>\n",
       "                .geemap-dark {\n",
       "                    --jp-widgets-color: white;\n",
       "                    --jp-widgets-label-color: white;\n",
       "                    --jp-ui-font-color1: white;\n",
       "                    --jp-layout-color2: #454545;\n",
       "                    background-color: #383838;\n",
       "                }\n",
       "\n",
       "                .geemap-dark .jupyter-button {\n",
       "                    --jp-layout-color3: #383838;\n",
       "                }\n",
       "\n",
       "                .geemap-colab {\n",
       "                    background-color: var(--colab-primary-surface-color, white);\n",
       "                }\n",
       "\n",
       "                .geemap-colab .jupyter-button {\n",
       "                    --jp-layout-color3: var(--colab-primary-surface-color, white);\n",
       "                }\n",
       "            </style>\n",
       "            "
      ],
      "text/plain": [
       "<IPython.core.display.HTML object>"
      ]
     },
     "metadata": {},
     "output_type": "display_data"
    }
   ],
   "source": [
    "#enter Lat and Lon columns\n",
    "LATcol = 'lat'\n",
    "LONcol = 'lon'"
   ]
  },
  {
   "cell_type": "code",
   "execution_count": 8,
   "id": "9e6af175-9df9-41d8-99f7-3a624026de50",
   "metadata": {},
   "outputs": [
    {
     "data": {
      "text/html": [
       "\n",
       "            <style>\n",
       "                .geemap-dark {\n",
       "                    --jp-widgets-color: white;\n",
       "                    --jp-widgets-label-color: white;\n",
       "                    --jp-ui-font-color1: white;\n",
       "                    --jp-layout-color2: #454545;\n",
       "                    background-color: #383838;\n",
       "                }\n",
       "\n",
       "                .geemap-dark .jupyter-button {\n",
       "                    --jp-layout-color3: #383838;\n",
       "                }\n",
       "\n",
       "                .geemap-colab {\n",
       "                    background-color: var(--colab-primary-surface-color, white);\n",
       "                }\n",
       "\n",
       "                .geemap-colab .jupyter-button {\n",
       "                    --jp-layout-color3: var(--colab-primary-surface-color, white);\n",
       "                }\n",
       "            </style>\n",
       "            "
      ],
      "text/plain": [
       "<IPython.core.display.HTML object>"
      ]
     },
     "metadata": {},
     "output_type": "display_data"
    }
   ],
   "source": [
    "gdf = geopandas.GeoDataFrame(\n",
    "    points, geometry=geopandas.points_from_xy(points[LONcol], points[LATcol]), crs=\"EPSG:4326\")"
   ]
  },
  {
   "cell_type": "markdown",
   "id": "d4775563-8d03-48f4-9766-9f6e1ad7944b",
   "metadata": {},
   "source": [
    "#### add attributes from local shapefile"
   ]
  },
  {
   "cell_type": "code",
   "execution_count": 9,
   "id": "c894e2e5-4e8f-4bc1-bcb9-74ab8fb65b81",
   "metadata": {},
   "outputs": [
    {
     "data": {
      "text/html": [
       "\n",
       "            <style>\n",
       "                .geemap-dark {\n",
       "                    --jp-widgets-color: white;\n",
       "                    --jp-widgets-label-color: white;\n",
       "                    --jp-ui-font-color1: white;\n",
       "                    --jp-layout-color2: #454545;\n",
       "                    background-color: #383838;\n",
       "                }\n",
       "\n",
       "                .geemap-dark .jupyter-button {\n",
       "                    --jp-layout-color3: #383838;\n",
       "                }\n",
       "\n",
       "                .geemap-colab {\n",
       "                    background-color: var(--colab-primary-surface-color, white);\n",
       "                }\n",
       "\n",
       "                .geemap-colab .jupyter-button {\n",
       "                    --jp-layout-color3: var(--colab-primary-surface-color, white);\n",
       "                }\n",
       "            </style>\n",
       "            "
      ],
      "text/plain": [
       "<IPython.core.display.HTML object>"
      ]
     },
     "metadata": {},
     "output_type": "display_data"
    },
    {
     "data": {
      "text/html": [
       "<div>\n",
       "<style scoped>\n",
       "    .dataframe tbody tr th:only-of-type {\n",
       "        vertical-align: middle;\n",
       "    }\n",
       "\n",
       "    .dataframe tbody tr th {\n",
       "        vertical-align: top;\n",
       "    }\n",
       "\n",
       "    .dataframe thead th {\n",
       "        text-align: right;\n",
       "    }\n",
       "</style>\n",
       "<table border=\"1\" class=\"dataframe\">\n",
       "  <thead>\n",
       "    <tr style=\"text-align: right;\">\n",
       "      <th></th>\n",
       "      <th>SCE_SEM</th>\n",
       "      <th>SCE_GEO</th>\n",
       "      <th>MODIF</th>\n",
       "      <th>ORIGINE</th>\n",
       "      <th>NOM</th>\n",
       "      <th>CODE_INS</th>\n",
       "      <th>SURFACE</th>\n",
       "      <th>CHEF_LIEU</th>\n",
       "      <th>ID_SEPAL</th>\n",
       "      <th>BLABLA</th>\n",
       "      <th>geometry</th>\n",
       "    </tr>\n",
       "  </thead>\n",
       "  <tbody>\n",
       "    <tr>\n",
       "      <th>0</th>\n",
       "      <td>INS</td>\n",
       "      <td>UNDP/OCHA</td>\n",
       "      <td>2015-04-28</td>\n",
       "      <td>Numerisation Saint Moulin / Image satellite</td>\n",
       "      <td>Kinshasa</td>\n",
       "      <td>10</td>\n",
       "      <td>10584.151287</td>\n",
       "      <td>Kinshasa</td>\n",
       "      <td>1</td>\n",
       "      <td>0</td>\n",
       "      <td>POLYGON ((1775596.089 -434954.674, 1775691.545...</td>\n",
       "    </tr>\n",
       "    <tr>\n",
       "      <th>1</th>\n",
       "      <td>INS</td>\n",
       "      <td>UNDP/OCHA</td>\n",
       "      <td>2015-04-28</td>\n",
       "      <td>Numerisation Saint Moulin</td>\n",
       "      <td>Kongo Central</td>\n",
       "      <td>20</td>\n",
       "      <td>54493.327517</td>\n",
       "      <td>Matadi</td>\n",
       "      <td>2</td>\n",
       "      <td>0</td>\n",
       "      <td>POLYGON ((1604421.487 -477541.359, 1605095.95 ...</td>\n",
       "    </tr>\n",
       "    <tr>\n",
       "      <th>2</th>\n",
       "      <td>INS</td>\n",
       "      <td>UNDP/OCHA</td>\n",
       "      <td>2015-04-28</td>\n",
       "      <td>Numerisation Saint Moulin</td>\n",
       "      <td>Mai-Ndombe</td>\n",
       "      <td>302</td>\n",
       "      <td>128788.166437</td>\n",
       "      <td>Inongo</td>\n",
       "      <td>3</td>\n",
       "      <td>0</td>\n",
       "      <td>POLYGON ((2132294.536 -90899.292, 2133985.101 ...</td>\n",
       "    </tr>\n",
       "    <tr>\n",
       "      <th>3</th>\n",
       "      <td>INS</td>\n",
       "      <td>UNDP/OCHA</td>\n",
       "      <td>2015-04-28</td>\n",
       "      <td>Numerisation Saint Moulin / Image satellite</td>\n",
       "      <td>Kwilu</td>\n",
       "      <td>303</td>\n",
       "      <td>79747.494200</td>\n",
       "      <td>Bandundu</td>\n",
       "      <td>4</td>\n",
       "      <td>0</td>\n",
       "      <td>POLYGON ((1936677.519 -353809.382, 1936960.249...</td>\n",
       "    </tr>\n",
       "    <tr>\n",
       "      <th>4</th>\n",
       "      <td>INS</td>\n",
       "      <td>UNDP/OCHA</td>\n",
       "      <td>2015-04-28</td>\n",
       "      <td>Numerisation Saint Moulin / Image satellite</td>\n",
       "      <td>Kwango</td>\n",
       "      <td>305</td>\n",
       "      <td>91102.901904</td>\n",
       "      <td>Kenge</td>\n",
       "      <td>5</td>\n",
       "      <td>0</td>\n",
       "      <td>POLYGON ((1960581.946 -468508.291, 1961890.275...</td>\n",
       "    </tr>\n",
       "  </tbody>\n",
       "</table>\n",
       "</div>"
      ],
      "text/plain": [
       "  SCE_SEM    SCE_GEO      MODIF                                      ORIGINE  \\\n",
       "0     INS  UNDP/OCHA 2015-04-28  Numerisation Saint Moulin / Image satellite   \n",
       "1     INS  UNDP/OCHA 2015-04-28                    Numerisation Saint Moulin   \n",
       "2     INS  UNDP/OCHA 2015-04-28                    Numerisation Saint Moulin   \n",
       "3     INS  UNDP/OCHA 2015-04-28  Numerisation Saint Moulin / Image satellite   \n",
       "4     INS  UNDP/OCHA 2015-04-28  Numerisation Saint Moulin / Image satellite   \n",
       "\n",
       "             NOM  CODE_INS        SURFACE CHEF_LIEU  ID_SEPAL  BLABLA  \\\n",
       "0       Kinshasa        10   10584.151287  Kinshasa         1       0   \n",
       "1  Kongo Central        20   54493.327517    Matadi         2       0   \n",
       "2     Mai-Ndombe       302  128788.166437    Inongo         3       0   \n",
       "3          Kwilu       303   79747.494200  Bandundu         4       0   \n",
       "4         Kwango       305   91102.901904     Kenge         5       0   \n",
       "\n",
       "                                            geometry  \n",
       "0  POLYGON ((1775596.089 -434954.674, 1775691.545...  \n",
       "1  POLYGON ((1604421.487 -477541.359, 1605095.95 ...  \n",
       "2  POLYGON ((2132294.536 -90899.292, 2133985.101 ...  \n",
       "3  POLYGON ((1936677.519 -353809.382, 1936960.249...  \n",
       "4  POLYGON ((1960581.946 -468508.291, 1961890.275...  "
      ]
     },
     "execution_count": 9,
     "metadata": {},
     "output_type": "execute_result"
    }
   ],
   "source": [
    "poly = \"/home/sepal-user/data/admin/RDC_Province_26.shp\"\n",
    "#poly = \"/home/sepal-user/data/admin/RCA_adm1_itos.shp\"\n",
    "#poly = \"/home/sepal-user/data/admin/cmr_admbnda_adm1_inc_20180104.shp\"\n",
    "#poly = \"/home/sepal-user/data/admin/geoBoundaries-GNQ-ADM1.shp\"\n",
    "#poly = \"/home/sepal-user/data/admin/geoBoundaries-GAB-ADM1.shp\"\n",
    "# Read file using gpd.read_file()\n",
    "poly_shp = gpd.read_file(poly)\n",
    "poly_shp.head()"
   ]
  },
  {
   "cell_type": "code",
   "execution_count": 10,
   "id": "b7207c86-4114-4735-9f70-dbb66718e553",
   "metadata": {},
   "outputs": [
    {
     "data": {
      "text/html": [
       "\n",
       "            <style>\n",
       "                .geemap-dark {\n",
       "                    --jp-widgets-color: white;\n",
       "                    --jp-widgets-label-color: white;\n",
       "                    --jp-ui-font-color1: white;\n",
       "                    --jp-layout-color2: #454545;\n",
       "                    background-color: #383838;\n",
       "                }\n",
       "\n",
       "                .geemap-dark .jupyter-button {\n",
       "                    --jp-layout-color3: #383838;\n",
       "                }\n",
       "\n",
       "                .geemap-colab {\n",
       "                    background-color: var(--colab-primary-surface-color, white);\n",
       "                }\n",
       "\n",
       "                .geemap-colab .jupyter-button {\n",
       "                    --jp-layout-color3: var(--colab-primary-surface-color, white);\n",
       "                }\n",
       "            </style>\n",
       "            "
      ],
      "text/plain": [
       "<IPython.core.display.HTML object>"
      ]
     },
     "metadata": {},
     "output_type": "display_data"
    }
   ],
   "source": [
    "#admin_name = 'ADM1_FR'\n",
    "#admin_name = 'shapeName'\n",
    "#admin_name = 'admin1Name'\n",
    "admin_name = 'NOM'\n",
    "#new_name = 'Prefecture'\n",
    "new_name = 'Province'"
   ]
  },
  {
   "cell_type": "code",
   "execution_count": 11,
   "id": "0fbfaece-e4de-4a0a-bb36-87a1ccfabeb3",
   "metadata": {
    "tags": []
   },
   "outputs": [
    {
     "data": {
      "text/html": [
       "\n",
       "            <style>\n",
       "                .geemap-dark {\n",
       "                    --jp-widgets-color: white;\n",
       "                    --jp-widgets-label-color: white;\n",
       "                    --jp-ui-font-color1: white;\n",
       "                    --jp-layout-color2: #454545;\n",
       "                    background-color: #383838;\n",
       "                }\n",
       "\n",
       "                .geemap-dark .jupyter-button {\n",
       "                    --jp-layout-color3: #383838;\n",
       "                }\n",
       "\n",
       "                .geemap-colab {\n",
       "                    background-color: var(--colab-primary-surface-color, white);\n",
       "                }\n",
       "\n",
       "                .geemap-colab .jupyter-button {\n",
       "                    --jp-layout-color3: var(--colab-primary-surface-color, white);\n",
       "                }\n",
       "            </style>\n",
       "            "
      ],
      "text/plain": [
       "<IPython.core.display.HTML object>"
      ]
     },
     "metadata": {},
     "output_type": "display_data"
    },
    {
     "name": "stdout",
     "output_type": "stream",
     "text": [
      "Current CRS: PROJCS[\"World_Mercator\",GEOGCS[\"WGS 84\",DATUM[\"WGS_1984\",SPHEROID[\"WGS 84\",6378137,298.257223563,AUTHORITY[\"EPSG\",\"7030\"]],AUTHORITY[\"EPSG\",\"6326\"]],PRIMEM[\"Greenwich\",0,AUTHORITY[\"EPSG\",\"8901\"]],UNIT[\"degree\",0.0174532925199433,AUTHORITY[\"EPSG\",\"9122\"]],AUTHORITY[\"EPSG\",\"4326\"]],PROJECTION[\"Mercator_2SP\"],PARAMETER[\"standard_parallel_1\",0],PARAMETER[\"central_meridian\",0],PARAMETER[\"false_easting\",0],PARAMETER[\"false_northing\",0],UNIT[\"metre\",1,AUTHORITY[\"EPSG\",\"9001\"]],AXIS[\"Easting\",EAST],AXIS[\"Northing\",NORTH],AUTHORITY[\"ESRI\",\"54004\"]]\n"
     ]
    }
   ],
   "source": [
    "poly_crs = poly_shp.crs\n",
    "print(\"Current CRS:\", poly_crs)"
   ]
  },
  {
   "cell_type": "code",
   "execution_count": 12,
   "id": "ea6181ac-3e9b-417e-b526-c9c078d961ec",
   "metadata": {},
   "outputs": [
    {
     "data": {
      "text/html": [
       "\n",
       "            <style>\n",
       "                .geemap-dark {\n",
       "                    --jp-widgets-color: white;\n",
       "                    --jp-widgets-label-color: white;\n",
       "                    --jp-ui-font-color1: white;\n",
       "                    --jp-layout-color2: #454545;\n",
       "                    background-color: #383838;\n",
       "                }\n",
       "\n",
       "                .geemap-dark .jupyter-button {\n",
       "                    --jp-layout-color3: #383838;\n",
       "                }\n",
       "\n",
       "                .geemap-colab {\n",
       "                    background-color: var(--colab-primary-surface-color, white);\n",
       "                }\n",
       "\n",
       "                .geemap-colab .jupyter-button {\n",
       "                    --jp-layout-color3: var(--colab-primary-surface-color, white);\n",
       "                }\n",
       "            </style>\n",
       "            "
      ],
      "text/plain": [
       "<IPython.core.display.HTML object>"
      ]
     },
     "metadata": {},
     "output_type": "display_data"
    }
   ],
   "source": [
    "#poly_shp = poly_shp.to_crs(gdf.crs)"
   ]
  },
  {
   "cell_type": "code",
   "execution_count": 13,
   "id": "af73eab8-aa50-4387-bcd4-98f9e98b4258",
   "metadata": {},
   "outputs": [
    {
     "data": {
      "text/html": [
       "\n",
       "            <style>\n",
       "                .geemap-dark {\n",
       "                    --jp-widgets-color: white;\n",
       "                    --jp-widgets-label-color: white;\n",
       "                    --jp-ui-font-color1: white;\n",
       "                    --jp-layout-color2: #454545;\n",
       "                    background-color: #383838;\n",
       "                }\n",
       "\n",
       "                .geemap-dark .jupyter-button {\n",
       "                    --jp-layout-color3: #383838;\n",
       "                }\n",
       "\n",
       "                .geemap-colab {\n",
       "                    background-color: var(--colab-primary-surface-color, white);\n",
       "                }\n",
       "\n",
       "                .geemap-colab .jupyter-button {\n",
       "                    --jp-layout-color3: var(--colab-primary-surface-color, white);\n",
       "                }\n",
       "            </style>\n",
       "            "
      ],
      "text/plain": [
       "<IPython.core.display.HTML object>"
      ]
     },
     "metadata": {},
     "output_type": "display_data"
    },
    {
     "data": {
      "text/html": [
       "<div>\n",
       "<style scoped>\n",
       "    .dataframe tbody tr th:only-of-type {\n",
       "        vertical-align: middle;\n",
       "    }\n",
       "\n",
       "    .dataframe tbody tr th {\n",
       "        vertical-align: top;\n",
       "    }\n",
       "\n",
       "    .dataframe thead th {\n",
       "        text-align: right;\n",
       "    }\n",
       "</style>\n",
       "<table border=\"1\" class=\"dataframe\">\n",
       "  <thead>\n",
       "    <tr style=\"text-align: right;\">\n",
       "      <th></th>\n",
       "      <th>UID</th>\n",
       "      <th>ID</th>\n",
       "      <th>plotid</th>\n",
       "      <th>point_id</th>\n",
       "      <th>sampleid</th>\n",
       "      <th>lon</th>\n",
       "      <th>lat</th>\n",
       "      <th>sample_geom</th>\n",
       "      <th>Ref_FNF_2015</th>\n",
       "      <th>Ref_Regeneration</th>\n",
       "      <th>...</th>\n",
       "      <th>Ref_LCover_2022</th>\n",
       "      <th>Ref_Change_Year_2023</th>\n",
       "      <th>Ref_Change_LCover_2023</th>\n",
       "      <th>Def2023</th>\n",
       "      <th>Deg2023</th>\n",
       "      <th>interpreted_qc</th>\n",
       "      <th>Ref_Change_Type_1523</th>\n",
       "      <th>Ref_Change_Year_1523</th>\n",
       "      <th>geometry</th>\n",
       "      <th>NOM</th>\n",
       "    </tr>\n",
       "  </thead>\n",
       "  <tbody>\n",
       "    <tr>\n",
       "      <th>0</th>\n",
       "      <td>0</td>\n",
       "      <td>0</td>\n",
       "      <td>807773</td>\n",
       "      <td>807773.0</td>\n",
       "      <td>807773</td>\n",
       "      <td>12.741453</td>\n",
       "      <td>-5.776823</td>\n",
       "      <td>POINT(12.741453 -5.776823)</td>\n",
       "      <td>1</td>\n",
       "      <td>NaN</td>\n",
       "      <td>...</td>\n",
       "      <td>NaN</td>\n",
       "      <td>NaN</td>\n",
       "      <td>NaN</td>\n",
       "      <td>NaN</td>\n",
       "      <td>NaN</td>\n",
       "      <td>NaN</td>\n",
       "      <td>Def</td>\n",
       "      <td>Def2016</td>\n",
       "      <td>POINT (1418372.06 -639867.527)</td>\n",
       "      <td>Kongo Central</td>\n",
       "    </tr>\n",
       "    <tr>\n",
       "      <th>1</th>\n",
       "      <td>1</td>\n",
       "      <td>1</td>\n",
       "      <td>2771794</td>\n",
       "      <td>2771794.0</td>\n",
       "      <td>2771794</td>\n",
       "      <td>25.879949</td>\n",
       "      <td>-3.186465</td>\n",
       "      <td>POINT(25.879949 -3.186465)</td>\n",
       "      <td>1</td>\n",
       "      <td>NaN</td>\n",
       "      <td>...</td>\n",
       "      <td>NaN</td>\n",
       "      <td>NaN</td>\n",
       "      <td>NaN</td>\n",
       "      <td>NaN</td>\n",
       "      <td>NaN</td>\n",
       "      <td>NaN</td>\n",
       "      <td>Def</td>\n",
       "      <td>Def2020</td>\n",
       "      <td>POINT (2880942.744 -352525.262)</td>\n",
       "      <td>Maniema</td>\n",
       "    </tr>\n",
       "    <tr>\n",
       "      <th>2</th>\n",
       "      <td>2</td>\n",
       "      <td>2</td>\n",
       "      <td>2883802</td>\n",
       "      <td>2883802.0</td>\n",
       "      <td>2883802</td>\n",
       "      <td>25.220591</td>\n",
       "      <td>-6.717631</td>\n",
       "      <td>POINT(25.220591 -6.717631)</td>\n",
       "      <td>0</td>\n",
       "      <td>non</td>\n",
       "      <td>...</td>\n",
       "      <td>NaN</td>\n",
       "      <td>NaN</td>\n",
       "      <td>NaN</td>\n",
       "      <td>NaN</td>\n",
       "      <td>NaN</td>\n",
       "      <td>NaN</td>\n",
       "      <td>NF</td>\n",
       "      <td>NF</td>\n",
       "      <td>POINT (2807543.348 -744527.663)</td>\n",
       "      <td>Haut-Lomami</td>\n",
       "    </tr>\n",
       "    <tr>\n",
       "      <th>3</th>\n",
       "      <td>3</td>\n",
       "      <td>3</td>\n",
       "      <td>2880499</td>\n",
       "      <td>2880499.0</td>\n",
       "      <td>2880499</td>\n",
       "      <td>23.853181</td>\n",
       "      <td>-10.566491</td>\n",
       "      <td>POINT(23.853181 -10.566491)</td>\n",
       "      <td>1</td>\n",
       "      <td>NaN</td>\n",
       "      <td>...</td>\n",
       "      <td>NaN</td>\n",
       "      <td>NaN</td>\n",
       "      <td>NaN</td>\n",
       "      <td>NaN</td>\n",
       "      <td>NaN</td>\n",
       "      <td>NaN</td>\n",
       "      <td>Stable</td>\n",
       "      <td>Stable</td>\n",
       "      <td>POINT (2655323.963 -1175150.882)</td>\n",
       "      <td>Lualaba</td>\n",
       "    </tr>\n",
       "    <tr>\n",
       "      <th>4</th>\n",
       "      <td>4</td>\n",
       "      <td>4</td>\n",
       "      <td>2877893</td>\n",
       "      <td>2877893.0</td>\n",
       "      <td>2877893</td>\n",
       "      <td>23.572110</td>\n",
       "      <td>-10.311778</td>\n",
       "      <td>POINT(23.57211 -10.311778)</td>\n",
       "      <td>1</td>\n",
       "      <td>NaN</td>\n",
       "      <td>...</td>\n",
       "      <td>NaN</td>\n",
       "      <td>NaN</td>\n",
       "      <td>NaN</td>\n",
       "      <td>NaN</td>\n",
       "      <td>NaN</td>\n",
       "      <td>NaN</td>\n",
       "      <td>Def</td>\n",
       "      <td>Def2021</td>\n",
       "      <td>POINT (2624035.282 -1146505.826)</td>\n",
       "      <td>Lualaba</td>\n",
       "    </tr>\n",
       "  </tbody>\n",
       "</table>\n",
       "<p>5 rows × 109 columns</p>\n",
       "</div>"
      ],
      "text/plain": [
       "   UID  ID   plotid   point_id  sampleid        lon        lat  \\\n",
       "0    0   0   807773   807773.0    807773  12.741453  -5.776823   \n",
       "1    1   1  2771794  2771794.0   2771794  25.879949  -3.186465   \n",
       "2    2   2  2883802  2883802.0   2883802  25.220591  -6.717631   \n",
       "3    3   3  2880499  2880499.0   2880499  23.853181 -10.566491   \n",
       "4    4   4  2877893  2877893.0   2877893  23.572110 -10.311778   \n",
       "\n",
       "                   sample_geom  Ref_FNF_2015 Ref_Regeneration  ...  \\\n",
       "0   POINT(12.741453 -5.776823)             1              NaN  ...   \n",
       "1   POINT(25.879949 -3.186465)             1              NaN  ...   \n",
       "2   POINT(25.220591 -6.717631)             0              non  ...   \n",
       "3  POINT(23.853181 -10.566491)             1              NaN  ...   \n",
       "4   POINT(23.57211 -10.311778)             1              NaN  ...   \n",
       "\n",
       "   Ref_LCover_2022 Ref_Change_Year_2023  Ref_Change_LCover_2023  Def2023  \\\n",
       "0              NaN                  NaN                     NaN      NaN   \n",
       "1              NaN                  NaN                     NaN      NaN   \n",
       "2              NaN                  NaN                     NaN      NaN   \n",
       "3              NaN                  NaN                     NaN      NaN   \n",
       "4              NaN                  NaN                     NaN      NaN   \n",
       "\n",
       "   Deg2023  interpreted_qc  Ref_Change_Type_1523  Ref_Change_Year_1523  \\\n",
       "0      NaN             NaN                   Def               Def2016   \n",
       "1      NaN             NaN                   Def               Def2020   \n",
       "2      NaN             NaN                    NF                    NF   \n",
       "3      NaN             NaN                Stable                Stable   \n",
       "4      NaN             NaN                   Def               Def2021   \n",
       "\n",
       "                           geometry            NOM  \n",
       "0    POINT (1418372.06 -639867.527)  Kongo Central  \n",
       "1   POINT (2880942.744 -352525.262)        Maniema  \n",
       "2   POINT (2807543.348 -744527.663)    Haut-Lomami  \n",
       "3  POINT (2655323.963 -1175150.882)        Lualaba  \n",
       "4  POINT (2624035.282 -1146505.826)        Lualaba  \n",
       "\n",
       "[5 rows x 109 columns]"
      ]
     },
     "execution_count": 13,
     "metadata": {},
     "output_type": "execute_result"
    }
   ],
   "source": [
    "# Reproject both GeoDataFrames to the same projected CRS (e.g., EPSG:3395 for World Mercator)\n",
    "gdf = gdf.to_crs(\"EPSG:3395\")\n",
    "poly_shp = poly_shp.to_crs(\"EPSG:3395\")\n",
    "\n",
    "# Step 1: Perform the spatial join for intersecting points\n",
    "joined_data_intersecting = gpd.sjoin(gdf, poly_shp[[admin_name, 'geometry']], how=\"left\", predicate=\"within\", lsuffix='left', rsuffix='right')\n",
    "\n",
    "# Drop the 'index_right' column if it exists, to avoid conflicts\n",
    "if 'index_right' in joined_data_intersecting.columns:\n",
    "    joined_data_intersecting = joined_data_intersecting.drop(columns='index_right')\n",
    "\n",
    "# Step 2: Identify points without an intersection (NaN values in the Admin_Name column)\n",
    "no_intersection_points = joined_data_intersecting[joined_data_intersecting[admin_name].isna()]\n",
    "\n",
    "# Step 3: Perform the nearest spatial join for points without an intersection\n",
    "nearest_join = gpd.sjoin_nearest(no_intersection_points.drop(columns=admin_name), poly_shp[[admin_name, 'geometry']], how=\"left\", distance_col=\"distance_to_polygon\")\n",
    "\n",
    "# Drop the 'index_right' column if it exists in the nearest join result\n",
    "if 'index_right' in nearest_join.columns:\n",
    "    nearest_join = nearest_join.drop(columns='index_right')\n",
    "\n",
    "# Step 4: Combine intersecting and nearest joined data into one GeoDataFrame\n",
    "# Retain only the specified `admin_name` column from `poly_shp`\n",
    "joined_data_combined = pd.concat([\n",
    "    joined_data_intersecting.dropna(subset=[admin_name]),\n",
    "    nearest_join\n",
    "])\n",
    "\n",
    "# Select only the columns from `gdf` plus `admin_name`\n",
    "columns_to_keep = list(gdf.columns) + [admin_name]\n",
    "joined_data = joined_data_combined[columns_to_keep]\n",
    "\n",
    "# Display the resulting GeoDataFrame\n",
    "joined_data.head()"
   ]
  },
  {
   "cell_type": "code",
   "execution_count": 14,
   "id": "85cdb823-64fe-473f-9e28-108093caf783",
   "metadata": {},
   "outputs": [
    {
     "data": {
      "text/html": [
       "\n",
       "            <style>\n",
       "                .geemap-dark {\n",
       "                    --jp-widgets-color: white;\n",
       "                    --jp-widgets-label-color: white;\n",
       "                    --jp-ui-font-color1: white;\n",
       "                    --jp-layout-color2: #454545;\n",
       "                    background-color: #383838;\n",
       "                }\n",
       "\n",
       "                .geemap-dark .jupyter-button {\n",
       "                    --jp-layout-color3: #383838;\n",
       "                }\n",
       "\n",
       "                .geemap-colab {\n",
       "                    background-color: var(--colab-primary-surface-color, white);\n",
       "                }\n",
       "\n",
       "                .geemap-colab .jupyter-button {\n",
       "                    --jp-layout-color3: var(--colab-primary-surface-color, white);\n",
       "                }\n",
       "            </style>\n",
       "            "
      ],
      "text/plain": [
       "<IPython.core.display.HTML object>"
      ]
     },
     "metadata": {},
     "output_type": "display_data"
    },
    {
     "data": {
      "text/html": [
       "<div>\n",
       "<style scoped>\n",
       "    .dataframe tbody tr th:only-of-type {\n",
       "        vertical-align: middle;\n",
       "    }\n",
       "\n",
       "    .dataframe tbody tr th {\n",
       "        vertical-align: top;\n",
       "    }\n",
       "\n",
       "    .dataframe thead th {\n",
       "        text-align: right;\n",
       "    }\n",
       "</style>\n",
       "<table border=\"1\" class=\"dataframe\">\n",
       "  <thead>\n",
       "    <tr style=\"text-align: right;\">\n",
       "      <th></th>\n",
       "      <th>UID</th>\n",
       "      <th>ID</th>\n",
       "      <th>plotid</th>\n",
       "      <th>point_id</th>\n",
       "      <th>sampleid</th>\n",
       "      <th>lon</th>\n",
       "      <th>lat</th>\n",
       "      <th>sample_geom</th>\n",
       "      <th>Ref_FNF_2015</th>\n",
       "      <th>Ref_Regeneration</th>\n",
       "      <th>...</th>\n",
       "      <th>Ref_Change_Year_2023</th>\n",
       "      <th>Ref_Change_LCover_2023</th>\n",
       "      <th>Def2023</th>\n",
       "      <th>Deg2023</th>\n",
       "      <th>interpreted_qc</th>\n",
       "      <th>Ref_Change_Type_1523</th>\n",
       "      <th>Ref_Change_Year_1523</th>\n",
       "      <th>geometry</th>\n",
       "      <th>NOM</th>\n",
       "      <th>distance_to_polygon</th>\n",
       "    </tr>\n",
       "  </thead>\n",
       "  <tbody>\n",
       "    <tr>\n",
       "      <th>133</th>\n",
       "      <td>133</td>\n",
       "      <td>133</td>\n",
       "      <td>3290107</td>\n",
       "      <td>3290107.0</td>\n",
       "      <td>3290107</td>\n",
       "      <td>28.562642</td>\n",
       "      <td>-9.015678</td>\n",
       "      <td>POINT(28.562642 -9.015678)</td>\n",
       "      <td>0</td>\n",
       "      <td>non</td>\n",
       "      <td>...</td>\n",
       "      <td>NaN</td>\n",
       "      <td>NaN</td>\n",
       "      <td>NaN</td>\n",
       "      <td>NaN</td>\n",
       "      <td>NaN</td>\n",
       "      <td>NF</td>\n",
       "      <td>NF</td>\n",
       "      <td>POINT (3179578.763 -1001096.829)</td>\n",
       "      <td>Haut-Katanga</td>\n",
       "      <td>9899.934918</td>\n",
       "    </tr>\n",
       "    <tr>\n",
       "      <th>180</th>\n",
       "      <td>180</td>\n",
       "      <td>180</td>\n",
       "      <td>3368885</td>\n",
       "      <td>3368885.0</td>\n",
       "      <td>3368885</td>\n",
       "      <td>30.298276</td>\n",
       "      <td>-7.340184</td>\n",
       "      <td>POINT(30.298276 -7.340184)</td>\n",
       "      <td>0</td>\n",
       "      <td>non</td>\n",
       "      <td>...</td>\n",
       "      <td>NaN</td>\n",
       "      <td>NaN</td>\n",
       "      <td>NaN</td>\n",
       "      <td>NaN</td>\n",
       "      <td>NaN</td>\n",
       "      <td>NF</td>\n",
       "      <td>NF</td>\n",
       "      <td>POINT (3372788.656 -813894.589)</td>\n",
       "      <td>Tanganyka</td>\n",
       "      <td>12815.488044</td>\n",
       "    </tr>\n",
       "    <tr>\n",
       "      <th>181</th>\n",
       "      <td>181</td>\n",
       "      <td>181</td>\n",
       "      <td>3367758</td>\n",
       "      <td>3367758.0</td>\n",
       "      <td>3367758</td>\n",
       "      <td>30.184052</td>\n",
       "      <td>-7.058320</td>\n",
       "      <td>POINT(30.184052 -7.05832)</td>\n",
       "      <td>0</td>\n",
       "      <td>non</td>\n",
       "      <td>...</td>\n",
       "      <td>NaN</td>\n",
       "      <td>NaN</td>\n",
       "      <td>NaN</td>\n",
       "      <td>NaN</td>\n",
       "      <td>NaN</td>\n",
       "      <td>NF</td>\n",
       "      <td>NF</td>\n",
       "      <td>POINT (3360073.299 -782476.683)</td>\n",
       "      <td>Tanganyka</td>\n",
       "      <td>19090.930994</td>\n",
       "    </tr>\n",
       "    <tr>\n",
       "      <th>185</th>\n",
       "      <td>185</td>\n",
       "      <td>185</td>\n",
       "      <td>3161083</td>\n",
       "      <td>3161083.0</td>\n",
       "      <td>3161083</td>\n",
       "      <td>30.422556</td>\n",
       "      <td>1.253248</td>\n",
       "      <td>POINT(30.422556 1.253248)</td>\n",
       "      <td>0</td>\n",
       "      <td>non</td>\n",
       "      <td>...</td>\n",
       "      <td>NaN</td>\n",
       "      <td>NaN</td>\n",
       "      <td>NaN</td>\n",
       "      <td>NaN</td>\n",
       "      <td>NaN</td>\n",
       "      <td>NF</td>\n",
       "      <td>NF</td>\n",
       "      <td>POINT (3386623.443 138588.189)</td>\n",
       "      <td>Ituri</td>\n",
       "      <td>467.980607</td>\n",
       "    </tr>\n",
       "    <tr>\n",
       "      <th>192</th>\n",
       "      <td>192</td>\n",
       "      <td>192</td>\n",
       "      <td>3233572</td>\n",
       "      <td>3233572.0</td>\n",
       "      <td>3233572</td>\n",
       "      <td>29.227196</td>\n",
       "      <td>-4.549795</td>\n",
       "      <td>POINT(29.227196 -4.549795)</td>\n",
       "      <td>0</td>\n",
       "      <td>non</td>\n",
       "      <td>...</td>\n",
       "      <td>NaN</td>\n",
       "      <td>NaN</td>\n",
       "      <td>NaN</td>\n",
       "      <td>NaN</td>\n",
       "      <td>NaN</td>\n",
       "      <td>NF</td>\n",
       "      <td>NF</td>\n",
       "      <td>POINT (3253556.576 -503626.935)</td>\n",
       "      <td>Sud-Kivu</td>\n",
       "      <td>3627.225832</td>\n",
       "    </tr>\n",
       "  </tbody>\n",
       "</table>\n",
       "<p>5 rows × 110 columns</p>\n",
       "</div>"
      ],
      "text/plain": [
       "     UID   ID   plotid   point_id  sampleid        lon       lat  \\\n",
       "133  133  133  3290107  3290107.0   3290107  28.562642 -9.015678   \n",
       "180  180  180  3368885  3368885.0   3368885  30.298276 -7.340184   \n",
       "181  181  181  3367758  3367758.0   3367758  30.184052 -7.058320   \n",
       "185  185  185  3161083  3161083.0   3161083  30.422556  1.253248   \n",
       "192  192  192  3233572  3233572.0   3233572  29.227196 -4.549795   \n",
       "\n",
       "                    sample_geom  Ref_FNF_2015 Ref_Regeneration  ...  \\\n",
       "133  POINT(28.562642 -9.015678)             0              non  ...   \n",
       "180  POINT(30.298276 -7.340184)             0              non  ...   \n",
       "181   POINT(30.184052 -7.05832)             0              non  ...   \n",
       "185   POINT(30.422556 1.253248)             0              non  ...   \n",
       "192  POINT(29.227196 -4.549795)             0              non  ...   \n",
       "\n",
       "     Ref_Change_Year_2023 Ref_Change_LCover_2023  Def2023  Deg2023  \\\n",
       "133                   NaN                    NaN      NaN      NaN   \n",
       "180                   NaN                    NaN      NaN      NaN   \n",
       "181                   NaN                    NaN      NaN      NaN   \n",
       "185                   NaN                    NaN      NaN      NaN   \n",
       "192                   NaN                    NaN      NaN      NaN   \n",
       "\n",
       "     interpreted_qc  Ref_Change_Type_1523  Ref_Change_Year_1523  \\\n",
       "133             NaN                    NF                    NF   \n",
       "180             NaN                    NF                    NF   \n",
       "181             NaN                    NF                    NF   \n",
       "185             NaN                    NF                    NF   \n",
       "192             NaN                    NF                    NF   \n",
       "\n",
       "                             geometry           NOM  distance_to_polygon  \n",
       "133  POINT (3179578.763 -1001096.829)  Haut-Katanga          9899.934918  \n",
       "180   POINT (3372788.656 -813894.589)     Tanganyka         12815.488044  \n",
       "181   POINT (3360073.299 -782476.683)     Tanganyka         19090.930994  \n",
       "185    POINT (3386623.443 138588.189)         Ituri           467.980607  \n",
       "192   POINT (3253556.576 -503626.935)      Sud-Kivu          3627.225832  \n",
       "\n",
       "[5 rows x 110 columns]"
      ]
     },
     "execution_count": 14,
     "metadata": {},
     "output_type": "execute_result"
    }
   ],
   "source": [
    "nearest_join.head()"
   ]
  },
  {
   "cell_type": "code",
   "execution_count": 15,
   "id": "a875550a-f3a6-4eb4-a0f2-ed559d2a99bc",
   "metadata": {},
   "outputs": [
    {
     "data": {
      "text/html": [
       "\n",
       "            <style>\n",
       "                .geemap-dark {\n",
       "                    --jp-widgets-color: white;\n",
       "                    --jp-widgets-label-color: white;\n",
       "                    --jp-ui-font-color1: white;\n",
       "                    --jp-layout-color2: #454545;\n",
       "                    background-color: #383838;\n",
       "                }\n",
       "\n",
       "                .geemap-dark .jupyter-button {\n",
       "                    --jp-layout-color3: #383838;\n",
       "                }\n",
       "\n",
       "                .geemap-colab {\n",
       "                    background-color: var(--colab-primary-surface-color, white);\n",
       "                }\n",
       "\n",
       "                .geemap-colab .jupyter-button {\n",
       "                    --jp-layout-color3: var(--colab-primary-surface-color, white);\n",
       "                }\n",
       "            </style>\n",
       "            "
      ],
      "text/plain": [
       "<IPython.core.display.HTML object>"
      ]
     },
     "metadata": {},
     "output_type": "display_data"
    }
   ],
   "source": [
    "# Perform the spatial join using the predicate parameter\n",
    "#joined_data = gpd.sjoin(gdf, poly_shp, how=\"left\", predicate=\"within\", lsuffix='left', rsuffix='right')\n",
    "# 'joined_data' now contains the points with additional information from the polygons\n",
    "# Print or explore the resulting GeoDataFrame\n",
    "#joined_data.head()"
   ]
  },
  {
   "cell_type": "code",
   "execution_count": 16,
   "id": "ab5b81c8-0a86-44c5-a882-075c7b75754f",
   "metadata": {},
   "outputs": [
    {
     "data": {
      "text/html": [
       "\n",
       "            <style>\n",
       "                .geemap-dark {\n",
       "                    --jp-widgets-color: white;\n",
       "                    --jp-widgets-label-color: white;\n",
       "                    --jp-ui-font-color1: white;\n",
       "                    --jp-layout-color2: #454545;\n",
       "                    background-color: #383838;\n",
       "                }\n",
       "\n",
       "                .geemap-dark .jupyter-button {\n",
       "                    --jp-layout-color3: #383838;\n",
       "                }\n",
       "\n",
       "                .geemap-colab {\n",
       "                    background-color: var(--colab-primary-surface-color, white);\n",
       "                }\n",
       "\n",
       "                .geemap-colab .jupyter-button {\n",
       "                    --jp-layout-color3: var(--colab-primary-surface-color, white);\n",
       "                }\n",
       "            </style>\n",
       "            "
      ],
      "text/plain": [
       "<IPython.core.display.HTML object>"
      ]
     },
     "metadata": {},
     "output_type": "display_data"
    },
    {
     "data": {
      "text/plain": [
       "NOM\n",
       "Haut-Katanga      1529\n",
       "Tanganyka         1380\n",
       "Lualaba           1334\n",
       "Haut-Lomami        981\n",
       "Kwango             857\n",
       "Haut-Uele          845\n",
       "Bas-Uele           830\n",
       "Kwilu              654\n",
       "Kasai              620\n",
       "Maniema            585\n",
       "Mai-Ndombe         542\n",
       "Tshopo             539\n",
       "Kasai Central      514\n",
       "Sankuru            457\n",
       "Kongo Central      443\n",
       "Sud-Kivu           440\n",
       "Sud-Ubangi         374\n",
       "Mongala            372\n",
       "Ituri              363\n",
       "Lomami             332\n",
       "Tshuapa            321\n",
       "Nord-Kivu          313\n",
       "Equateur           305\n",
       "Nord-Ubangi        289\n",
       "Kasai Oriental      71\n",
       "Kinshasa            48\n",
       "Name: count, dtype: int64"
      ]
     },
     "execution_count": 16,
     "metadata": {},
     "output_type": "execute_result"
    }
   ],
   "source": [
    "joined_data[admin_name].value_counts(dropna=False)"
   ]
  },
  {
   "cell_type": "code",
   "execution_count": 17,
   "id": "063a30ca-f7a9-4b6f-929d-79079c6b6984",
   "metadata": {},
   "outputs": [
    {
     "data": {
      "text/html": [
       "\n",
       "            <style>\n",
       "                .geemap-dark {\n",
       "                    --jp-widgets-color: white;\n",
       "                    --jp-widgets-label-color: white;\n",
       "                    --jp-ui-font-color1: white;\n",
       "                    --jp-layout-color2: #454545;\n",
       "                    background-color: #383838;\n",
       "                }\n",
       "\n",
       "                .geemap-dark .jupyter-button {\n",
       "                    --jp-layout-color3: #383838;\n",
       "                }\n",
       "\n",
       "                .geemap-colab {\n",
       "                    background-color: var(--colab-primary-surface-color, white);\n",
       "                }\n",
       "\n",
       "                .geemap-colab .jupyter-button {\n",
       "                    --jp-layout-color3: var(--colab-primary-surface-color, white);\n",
       "                }\n",
       "            </style>\n",
       "            "
      ],
      "text/plain": [
       "<IPython.core.display.HTML object>"
      ]
     },
     "metadata": {},
     "output_type": "display_data"
    },
    {
     "data": {
      "text/html": [
       "<div>\n",
       "<style scoped>\n",
       "    .dataframe tbody tr th:only-of-type {\n",
       "        vertical-align: middle;\n",
       "    }\n",
       "\n",
       "    .dataframe tbody tr th {\n",
       "        vertical-align: top;\n",
       "    }\n",
       "\n",
       "    .dataframe thead th {\n",
       "        text-align: right;\n",
       "    }\n",
       "</style>\n",
       "<table border=\"1\" class=\"dataframe\">\n",
       "  <thead>\n",
       "    <tr style=\"text-align: right;\">\n",
       "      <th>collection</th>\n",
       "      <th>coll_1522_1</th>\n",
       "      <th>coll_1522_2</th>\n",
       "      <th>coll_1522_3</th>\n",
       "      <th>coll_2023_1</th>\n",
       "      <th>coll_2023_2</th>\n",
       "      <th>coll_2023_3</th>\n",
       "      <th>coll_2023_4</th>\n",
       "      <th>coll_2023_5</th>\n",
       "      <th>coll_2023_6</th>\n",
       "      <th>Total</th>\n",
       "    </tr>\n",
       "    <tr>\n",
       "      <th>NOM</th>\n",
       "      <th></th>\n",
       "      <th></th>\n",
       "      <th></th>\n",
       "      <th></th>\n",
       "      <th></th>\n",
       "      <th></th>\n",
       "      <th></th>\n",
       "      <th></th>\n",
       "      <th></th>\n",
       "      <th></th>\n",
       "    </tr>\n",
       "  </thead>\n",
       "  <tbody>\n",
       "    <tr>\n",
       "      <th>Bas-Uele</th>\n",
       "      <td>33.0</td>\n",
       "      <td>315.0</td>\n",
       "      <td>362.0</td>\n",
       "      <td>21.0</td>\n",
       "      <td>61.0</td>\n",
       "      <td>3.0</td>\n",
       "      <td>14.0</td>\n",
       "      <td>11.0</td>\n",
       "      <td>10.0</td>\n",
       "      <td>830</td>\n",
       "    </tr>\n",
       "    <tr>\n",
       "      <th>Equateur</th>\n",
       "      <td>23.0</td>\n",
       "      <td>107.0</td>\n",
       "      <td>118.0</td>\n",
       "      <td>14.0</td>\n",
       "      <td>32.0</td>\n",
       "      <td>1.0</td>\n",
       "      <td>1.0</td>\n",
       "      <td>5.0</td>\n",
       "      <td>4.0</td>\n",
       "      <td>305</td>\n",
       "    </tr>\n",
       "    <tr>\n",
       "      <th>Haut-Katanga</th>\n",
       "      <td>39.0</td>\n",
       "      <td>715.0</td>\n",
       "      <td>636.0</td>\n",
       "      <td>27.0</td>\n",
       "      <td>65.0</td>\n",
       "      <td>NaN</td>\n",
       "      <td>7.0</td>\n",
       "      <td>24.0</td>\n",
       "      <td>16.0</td>\n",
       "      <td>1529</td>\n",
       "    </tr>\n",
       "    <tr>\n",
       "      <th>Haut-Lomami</th>\n",
       "      <td>21.0</td>\n",
       "      <td>484.0</td>\n",
       "      <td>339.0</td>\n",
       "      <td>42.0</td>\n",
       "      <td>50.0</td>\n",
       "      <td>NaN</td>\n",
       "      <td>16.0</td>\n",
       "      <td>25.0</td>\n",
       "      <td>4.0</td>\n",
       "      <td>981</td>\n",
       "    </tr>\n",
       "    <tr>\n",
       "      <th>Haut-Uele</th>\n",
       "      <td>21.0</td>\n",
       "      <td>351.0</td>\n",
       "      <td>355.0</td>\n",
       "      <td>30.0</td>\n",
       "      <td>53.0</td>\n",
       "      <td>2.0</td>\n",
       "      <td>9.0</td>\n",
       "      <td>16.0</td>\n",
       "      <td>8.0</td>\n",
       "      <td>845</td>\n",
       "    </tr>\n",
       "    <tr>\n",
       "      <th>Ituri</th>\n",
       "      <td>18.0</td>\n",
       "      <td>164.0</td>\n",
       "      <td>125.0</td>\n",
       "      <td>12.0</td>\n",
       "      <td>28.0</td>\n",
       "      <td>1.0</td>\n",
       "      <td>4.0</td>\n",
       "      <td>6.0</td>\n",
       "      <td>5.0</td>\n",
       "      <td>363</td>\n",
       "    </tr>\n",
       "    <tr>\n",
       "      <th>Kasai</th>\n",
       "      <td>15.0</td>\n",
       "      <td>244.0</td>\n",
       "      <td>249.0</td>\n",
       "      <td>17.0</td>\n",
       "      <td>50.0</td>\n",
       "      <td>NaN</td>\n",
       "      <td>18.0</td>\n",
       "      <td>18.0</td>\n",
       "      <td>9.0</td>\n",
       "      <td>620</td>\n",
       "    </tr>\n",
       "    <tr>\n",
       "      <th>Kasai Central</th>\n",
       "      <td>14.0</td>\n",
       "      <td>208.0</td>\n",
       "      <td>210.0</td>\n",
       "      <td>15.0</td>\n",
       "      <td>27.0</td>\n",
       "      <td>NaN</td>\n",
       "      <td>13.0</td>\n",
       "      <td>20.0</td>\n",
       "      <td>7.0</td>\n",
       "      <td>514</td>\n",
       "    </tr>\n",
       "    <tr>\n",
       "      <th>Kasai Oriental</th>\n",
       "      <td>1.0</td>\n",
       "      <td>43.0</td>\n",
       "      <td>14.0</td>\n",
       "      <td>3.0</td>\n",
       "      <td>7.0</td>\n",
       "      <td>NaN</td>\n",
       "      <td>1.0</td>\n",
       "      <td>2.0</td>\n",
       "      <td>NaN</td>\n",
       "      <td>71</td>\n",
       "    </tr>\n",
       "    <tr>\n",
       "      <th>Kinshasa</th>\n",
       "      <td>2.0</td>\n",
       "      <td>23.0</td>\n",
       "      <td>13.0</td>\n",
       "      <td>NaN</td>\n",
       "      <td>5.0</td>\n",
       "      <td>NaN</td>\n",
       "      <td>2.0</td>\n",
       "      <td>3.0</td>\n",
       "      <td>NaN</td>\n",
       "      <td>48</td>\n",
       "    </tr>\n",
       "    <tr>\n",
       "      <th>Kongo Central</th>\n",
       "      <td>11.0</td>\n",
       "      <td>217.0</td>\n",
       "      <td>151.0</td>\n",
       "      <td>12.0</td>\n",
       "      <td>31.0</td>\n",
       "      <td>1.0</td>\n",
       "      <td>7.0</td>\n",
       "      <td>11.0</td>\n",
       "      <td>2.0</td>\n",
       "      <td>443</td>\n",
       "    </tr>\n",
       "    <tr>\n",
       "      <th>Kwango</th>\n",
       "      <td>20.0</td>\n",
       "      <td>401.0</td>\n",
       "      <td>337.0</td>\n",
       "      <td>20.0</td>\n",
       "      <td>40.0</td>\n",
       "      <td>1.0</td>\n",
       "      <td>12.0</td>\n",
       "      <td>14.0</td>\n",
       "      <td>12.0</td>\n",
       "      <td>857</td>\n",
       "    </tr>\n",
       "    <tr>\n",
       "      <th>Kwilu</th>\n",
       "      <td>21.0</td>\n",
       "      <td>319.0</td>\n",
       "      <td>214.0</td>\n",
       "      <td>22.0</td>\n",
       "      <td>44.0</td>\n",
       "      <td>NaN</td>\n",
       "      <td>13.0</td>\n",
       "      <td>16.0</td>\n",
       "      <td>5.0</td>\n",
       "      <td>654</td>\n",
       "    </tr>\n",
       "    <tr>\n",
       "      <th>Lomami</th>\n",
       "      <td>13.0</td>\n",
       "      <td>171.0</td>\n",
       "      <td>101.0</td>\n",
       "      <td>14.0</td>\n",
       "      <td>17.0</td>\n",
       "      <td>NaN</td>\n",
       "      <td>5.0</td>\n",
       "      <td>5.0</td>\n",
       "      <td>6.0</td>\n",
       "      <td>332</td>\n",
       "    </tr>\n",
       "    <tr>\n",
       "      <th>Lualaba</th>\n",
       "      <td>30.0</td>\n",
       "      <td>614.0</td>\n",
       "      <td>555.0</td>\n",
       "      <td>36.0</td>\n",
       "      <td>60.0</td>\n",
       "      <td>2.0</td>\n",
       "      <td>14.0</td>\n",
       "      <td>15.0</td>\n",
       "      <td>8.0</td>\n",
       "      <td>1334</td>\n",
       "    </tr>\n",
       "    <tr>\n",
       "      <th>Mai-Ndombe</th>\n",
       "      <td>23.0</td>\n",
       "      <td>229.0</td>\n",
       "      <td>198.0</td>\n",
       "      <td>22.0</td>\n",
       "      <td>47.0</td>\n",
       "      <td>NaN</td>\n",
       "      <td>4.0</td>\n",
       "      <td>6.0</td>\n",
       "      <td>13.0</td>\n",
       "      <td>542</td>\n",
       "    </tr>\n",
       "    <tr>\n",
       "      <th>Maniema</th>\n",
       "      <td>12.0</td>\n",
       "      <td>241.0</td>\n",
       "      <td>233.0</td>\n",
       "      <td>23.0</td>\n",
       "      <td>54.0</td>\n",
       "      <td>1.0</td>\n",
       "      <td>5.0</td>\n",
       "      <td>6.0</td>\n",
       "      <td>10.0</td>\n",
       "      <td>585</td>\n",
       "    </tr>\n",
       "    <tr>\n",
       "      <th>Mongala</th>\n",
       "      <td>13.0</td>\n",
       "      <td>133.0</td>\n",
       "      <td>145.0</td>\n",
       "      <td>19.0</td>\n",
       "      <td>35.0</td>\n",
       "      <td>NaN</td>\n",
       "      <td>5.0</td>\n",
       "      <td>18.0</td>\n",
       "      <td>4.0</td>\n",
       "      <td>372</td>\n",
       "    </tr>\n",
       "    <tr>\n",
       "      <th>Nord-Kivu</th>\n",
       "      <td>10.0</td>\n",
       "      <td>136.0</td>\n",
       "      <td>123.0</td>\n",
       "      <td>13.0</td>\n",
       "      <td>13.0</td>\n",
       "      <td>NaN</td>\n",
       "      <td>6.0</td>\n",
       "      <td>5.0</td>\n",
       "      <td>7.0</td>\n",
       "      <td>313</td>\n",
       "    </tr>\n",
       "    <tr>\n",
       "      <th>Nord-Ubangi</th>\n",
       "      <td>12.0</td>\n",
       "      <td>122.0</td>\n",
       "      <td>103.0</td>\n",
       "      <td>15.0</td>\n",
       "      <td>25.0</td>\n",
       "      <td>NaN</td>\n",
       "      <td>4.0</td>\n",
       "      <td>4.0</td>\n",
       "      <td>4.0</td>\n",
       "      <td>289</td>\n",
       "    </tr>\n",
       "    <tr>\n",
       "      <th>Sankuru</th>\n",
       "      <td>20.0</td>\n",
       "      <td>175.0</td>\n",
       "      <td>184.0</td>\n",
       "      <td>13.0</td>\n",
       "      <td>41.0</td>\n",
       "      <td>NaN</td>\n",
       "      <td>4.0</td>\n",
       "      <td>12.0</td>\n",
       "      <td>8.0</td>\n",
       "      <td>457</td>\n",
       "    </tr>\n",
       "    <tr>\n",
       "      <th>Sud-Kivu</th>\n",
       "      <td>21.0</td>\n",
       "      <td>187.0</td>\n",
       "      <td>166.0</td>\n",
       "      <td>24.0</td>\n",
       "      <td>31.0</td>\n",
       "      <td>NaN</td>\n",
       "      <td>3.0</td>\n",
       "      <td>4.0</td>\n",
       "      <td>4.0</td>\n",
       "      <td>440</td>\n",
       "    </tr>\n",
       "    <tr>\n",
       "      <th>Sud-Ubangi</th>\n",
       "      <td>17.0</td>\n",
       "      <td>156.0</td>\n",
       "      <td>154.0</td>\n",
       "      <td>4.0</td>\n",
       "      <td>24.0</td>\n",
       "      <td>2.0</td>\n",
       "      <td>6.0</td>\n",
       "      <td>6.0</td>\n",
       "      <td>5.0</td>\n",
       "      <td>374</td>\n",
       "    </tr>\n",
       "    <tr>\n",
       "      <th>Tanganyka</th>\n",
       "      <td>34.0</td>\n",
       "      <td>661.0</td>\n",
       "      <td>545.0</td>\n",
       "      <td>36.0</td>\n",
       "      <td>55.0</td>\n",
       "      <td>NaN</td>\n",
       "      <td>13.0</td>\n",
       "      <td>27.0</td>\n",
       "      <td>9.0</td>\n",
       "      <td>1380</td>\n",
       "    </tr>\n",
       "    <tr>\n",
       "      <th>Tshopo</th>\n",
       "      <td>29.0</td>\n",
       "      <td>166.0</td>\n",
       "      <td>212.0</td>\n",
       "      <td>27.0</td>\n",
       "      <td>69.0</td>\n",
       "      <td>2.0</td>\n",
       "      <td>10.0</td>\n",
       "      <td>13.0</td>\n",
       "      <td>11.0</td>\n",
       "      <td>539</td>\n",
       "    </tr>\n",
       "    <tr>\n",
       "      <th>Tshuapa</th>\n",
       "      <td>25.0</td>\n",
       "      <td>96.0</td>\n",
       "      <td>129.0</td>\n",
       "      <td>17.0</td>\n",
       "      <td>34.0</td>\n",
       "      <td>NaN</td>\n",
       "      <td>3.0</td>\n",
       "      <td>6.0</td>\n",
       "      <td>11.0</td>\n",
       "      <td>321</td>\n",
       "    </tr>\n",
       "    <tr>\n",
       "      <th>Total</th>\n",
       "      <td>498.0</td>\n",
       "      <td>6678.0</td>\n",
       "      <td>5971.0</td>\n",
       "      <td>498.0</td>\n",
       "      <td>998.0</td>\n",
       "      <td>16.0</td>\n",
       "      <td>199.0</td>\n",
       "      <td>298.0</td>\n",
       "      <td>182.0</td>\n",
       "      <td>15338</td>\n",
       "    </tr>\n",
       "  </tbody>\n",
       "</table>\n",
       "</div>"
      ],
      "text/plain": [
       "collection      coll_1522_1  coll_1522_2  coll_1522_3  coll_2023_1  \\\n",
       "NOM                                                                  \n",
       "Bas-Uele               33.0        315.0        362.0         21.0   \n",
       "Equateur               23.0        107.0        118.0         14.0   \n",
       "Haut-Katanga           39.0        715.0        636.0         27.0   \n",
       "Haut-Lomami            21.0        484.0        339.0         42.0   \n",
       "Haut-Uele              21.0        351.0        355.0         30.0   \n",
       "Ituri                  18.0        164.0        125.0         12.0   \n",
       "Kasai                  15.0        244.0        249.0         17.0   \n",
       "Kasai Central          14.0        208.0        210.0         15.0   \n",
       "Kasai Oriental          1.0         43.0         14.0          3.0   \n",
       "Kinshasa                2.0         23.0         13.0          NaN   \n",
       "Kongo Central          11.0        217.0        151.0         12.0   \n",
       "Kwango                 20.0        401.0        337.0         20.0   \n",
       "Kwilu                  21.0        319.0        214.0         22.0   \n",
       "Lomami                 13.0        171.0        101.0         14.0   \n",
       "Lualaba                30.0        614.0        555.0         36.0   \n",
       "Mai-Ndombe             23.0        229.0        198.0         22.0   \n",
       "Maniema                12.0        241.0        233.0         23.0   \n",
       "Mongala                13.0        133.0        145.0         19.0   \n",
       "Nord-Kivu              10.0        136.0        123.0         13.0   \n",
       "Nord-Ubangi            12.0        122.0        103.0         15.0   \n",
       "Sankuru                20.0        175.0        184.0         13.0   \n",
       "Sud-Kivu               21.0        187.0        166.0         24.0   \n",
       "Sud-Ubangi             17.0        156.0        154.0          4.0   \n",
       "Tanganyka              34.0        661.0        545.0         36.0   \n",
       "Tshopo                 29.0        166.0        212.0         27.0   \n",
       "Tshuapa                25.0         96.0        129.0         17.0   \n",
       "Total                 498.0       6678.0       5971.0        498.0   \n",
       "\n",
       "collection      coll_2023_2  coll_2023_3  coll_2023_4  coll_2023_5  \\\n",
       "NOM                                                                  \n",
       "Bas-Uele               61.0          3.0         14.0         11.0   \n",
       "Equateur               32.0          1.0          1.0          5.0   \n",
       "Haut-Katanga           65.0          NaN          7.0         24.0   \n",
       "Haut-Lomami            50.0          NaN         16.0         25.0   \n",
       "Haut-Uele              53.0          2.0          9.0         16.0   \n",
       "Ituri                  28.0          1.0          4.0          6.0   \n",
       "Kasai                  50.0          NaN         18.0         18.0   \n",
       "Kasai Central          27.0          NaN         13.0         20.0   \n",
       "Kasai Oriental          7.0          NaN          1.0          2.0   \n",
       "Kinshasa                5.0          NaN          2.0          3.0   \n",
       "Kongo Central          31.0          1.0          7.0         11.0   \n",
       "Kwango                 40.0          1.0         12.0         14.0   \n",
       "Kwilu                  44.0          NaN         13.0         16.0   \n",
       "Lomami                 17.0          NaN          5.0          5.0   \n",
       "Lualaba                60.0          2.0         14.0         15.0   \n",
       "Mai-Ndombe             47.0          NaN          4.0          6.0   \n",
       "Maniema                54.0          1.0          5.0          6.0   \n",
       "Mongala                35.0          NaN          5.0         18.0   \n",
       "Nord-Kivu              13.0          NaN          6.0          5.0   \n",
       "Nord-Ubangi            25.0          NaN          4.0          4.0   \n",
       "Sankuru                41.0          NaN          4.0         12.0   \n",
       "Sud-Kivu               31.0          NaN          3.0          4.0   \n",
       "Sud-Ubangi             24.0          2.0          6.0          6.0   \n",
       "Tanganyka              55.0          NaN         13.0         27.0   \n",
       "Tshopo                 69.0          2.0         10.0         13.0   \n",
       "Tshuapa                34.0          NaN          3.0          6.0   \n",
       "Total                 998.0         16.0        199.0        298.0   \n",
       "\n",
       "collection      coll_2023_6  Total  \n",
       "NOM                                 \n",
       "Bas-Uele               10.0    830  \n",
       "Equateur                4.0    305  \n",
       "Haut-Katanga           16.0   1529  \n",
       "Haut-Lomami             4.0    981  \n",
       "Haut-Uele               8.0    845  \n",
       "Ituri                   5.0    363  \n",
       "Kasai                   9.0    620  \n",
       "Kasai Central           7.0    514  \n",
       "Kasai Oriental          NaN     71  \n",
       "Kinshasa                NaN     48  \n",
       "Kongo Central           2.0    443  \n",
       "Kwango                 12.0    857  \n",
       "Kwilu                   5.0    654  \n",
       "Lomami                  6.0    332  \n",
       "Lualaba                 8.0   1334  \n",
       "Mai-Ndombe             13.0    542  \n",
       "Maniema                10.0    585  \n",
       "Mongala                 4.0    372  \n",
       "Nord-Kivu               7.0    313  \n",
       "Nord-Ubangi             4.0    289  \n",
       "Sankuru                 8.0    457  \n",
       "Sud-Kivu                4.0    440  \n",
       "Sud-Ubangi              5.0    374  \n",
       "Tanganyka               9.0   1380  \n",
       "Tshopo                 11.0    539  \n",
       "Tshuapa                11.0    321  \n",
       "Total                 182.0  15338  "
      ]
     },
     "execution_count": 17,
     "metadata": {},
     "output_type": "execute_result"
    }
   ],
   "source": [
    "province_pts = pd.pivot_table(joined_data,values='plotid',index=[admin_name],columns=['collection'],aggfunc=\"count\",margins=True,\n",
    "                             margins_name='Total',dropna=False)\n",
    "province_pts"
   ]
  },
  {
   "cell_type": "code",
   "execution_count": 18,
   "id": "9ba8e020-bacc-42a4-943e-accfc03c6b27",
   "metadata": {},
   "outputs": [
    {
     "data": {
      "text/html": [
       "\n",
       "            <style>\n",
       "                .geemap-dark {\n",
       "                    --jp-widgets-color: white;\n",
       "                    --jp-widgets-label-color: white;\n",
       "                    --jp-ui-font-color1: white;\n",
       "                    --jp-layout-color2: #454545;\n",
       "                    background-color: #383838;\n",
       "                }\n",
       "\n",
       "                .geemap-dark .jupyter-button {\n",
       "                    --jp-layout-color3: #383838;\n",
       "                }\n",
       "\n",
       "                .geemap-colab {\n",
       "                    background-color: var(--colab-primary-surface-color, white);\n",
       "                }\n",
       "\n",
       "                .geemap-colab .jupyter-button {\n",
       "                    --jp-layout-color3: var(--colab-primary-surface-color, white);\n",
       "                }\n",
       "            </style>\n",
       "            "
      ],
      "text/plain": [
       "<IPython.core.display.HTML object>"
      ]
     },
     "metadata": {},
     "output_type": "display_data"
    }
   ],
   "source": [
    "# Remove rows where the 'Province' column has NaN values\n",
    "joined_data = joined_data.dropna(subset=[admin_name])"
   ]
  },
  {
   "cell_type": "code",
   "execution_count": 19,
   "id": "05413a76-b5cc-4fff-ac20-19d3f89bca0d",
   "metadata": {},
   "outputs": [
    {
     "data": {
      "text/html": [
       "\n",
       "            <style>\n",
       "                .geemap-dark {\n",
       "                    --jp-widgets-color: white;\n",
       "                    --jp-widgets-label-color: white;\n",
       "                    --jp-ui-font-color1: white;\n",
       "                    --jp-layout-color2: #454545;\n",
       "                    background-color: #383838;\n",
       "                }\n",
       "\n",
       "                .geemap-dark .jupyter-button {\n",
       "                    --jp-layout-color3: #383838;\n",
       "                }\n",
       "\n",
       "                .geemap-colab {\n",
       "                    background-color: var(--colab-primary-surface-color, white);\n",
       "                }\n",
       "\n",
       "                .geemap-colab .jupyter-button {\n",
       "                    --jp-layout-color3: var(--colab-primary-surface-color, white);\n",
       "                }\n",
       "            </style>\n",
       "            "
      ],
      "text/plain": [
       "<IPython.core.display.HTML object>"
      ]
     },
     "metadata": {},
     "output_type": "display_data"
    },
    {
     "data": {
      "text/plain": [
       "15338"
      ]
     },
     "execution_count": 19,
     "metadata": {},
     "output_type": "execute_result"
    }
   ],
   "source": [
    "len(joined_data)"
   ]
  },
  {
   "cell_type": "code",
   "execution_count": 20,
   "id": "fffada97-07e8-4e4d-9275-5104ed510b2e",
   "metadata": {},
   "outputs": [
    {
     "data": {
      "text/html": [
       "\n",
       "            <style>\n",
       "                .geemap-dark {\n",
       "                    --jp-widgets-color: white;\n",
       "                    --jp-widgets-label-color: white;\n",
       "                    --jp-ui-font-color1: white;\n",
       "                    --jp-layout-color2: #454545;\n",
       "                    background-color: #383838;\n",
       "                }\n",
       "\n",
       "                .geemap-dark .jupyter-button {\n",
       "                    --jp-layout-color3: #383838;\n",
       "                }\n",
       "\n",
       "                .geemap-colab {\n",
       "                    background-color: var(--colab-primary-surface-color, white);\n",
       "                }\n",
       "\n",
       "                .geemap-colab .jupyter-button {\n",
       "                    --jp-layout-color3: var(--colab-primary-surface-color, white);\n",
       "                }\n",
       "            </style>\n",
       "            "
      ],
      "text/plain": [
       "<IPython.core.display.HTML object>"
      ]
     },
     "metadata": {},
     "output_type": "display_data"
    }
   ],
   "source": [
    "poly_shp = poly_shp.to_crs(\"EPSG:3395\")"
   ]
  },
  {
   "cell_type": "code",
   "execution_count": 21,
   "id": "4c73882f-7590-4e2f-adfc-ecaaea480833",
   "metadata": {},
   "outputs": [
    {
     "data": {
      "text/html": [
       "\n",
       "            <style>\n",
       "                .geemap-dark {\n",
       "                    --jp-widgets-color: white;\n",
       "                    --jp-widgets-label-color: white;\n",
       "                    --jp-ui-font-color1: white;\n",
       "                    --jp-layout-color2: #454545;\n",
       "                    background-color: #383838;\n",
       "                }\n",
       "\n",
       "                .geemap-dark .jupyter-button {\n",
       "                    --jp-layout-color3: #383838;\n",
       "                }\n",
       "\n",
       "                .geemap-colab {\n",
       "                    background-color: var(--colab-primary-surface-color, white);\n",
       "                }\n",
       "\n",
       "                .geemap-colab .jupyter-button {\n",
       "                    --jp-layout-color3: var(--colab-primary-surface-color, white);\n",
       "                }\n",
       "            </style>\n",
       "            "
      ],
      "text/plain": [
       "<IPython.core.display.HTML object>"
      ]
     },
     "metadata": {},
     "output_type": "display_data"
    }
   ],
   "source": [
    "#calculate area of poly\n",
    "poly_shp['area_sqm'] = poly_shp.geometry.area"
   ]
  },
  {
   "cell_type": "code",
   "execution_count": 22,
   "id": "80300e55-1241-4cd4-a012-9cb584aae074",
   "metadata": {},
   "outputs": [
    {
     "data": {
      "text/html": [
       "\n",
       "            <style>\n",
       "                .geemap-dark {\n",
       "                    --jp-widgets-color: white;\n",
       "                    --jp-widgets-label-color: white;\n",
       "                    --jp-ui-font-color1: white;\n",
       "                    --jp-layout-color2: #454545;\n",
       "                    background-color: #383838;\n",
       "                }\n",
       "\n",
       "                .geemap-dark .jupyter-button {\n",
       "                    --jp-layout-color3: #383838;\n",
       "                }\n",
       "\n",
       "                .geemap-colab {\n",
       "                    background-color: var(--colab-primary-surface-color, white);\n",
       "                }\n",
       "\n",
       "                .geemap-colab .jupyter-button {\n",
       "                    --jp-layout-color3: var(--colab-primary-surface-color, white);\n",
       "                }\n",
       "            </style>\n",
       "            "
      ],
      "text/plain": [
       "<IPython.core.display.HTML object>"
      ]
     },
     "metadata": {},
     "output_type": "display_data"
    }
   ],
   "source": [
    "poly_shp['area_ha'] = poly_shp['area_sqm'] / 10000"
   ]
  },
  {
   "cell_type": "code",
   "execution_count": 23,
   "id": "ac724cd3-7c07-40cc-b31e-88527b528826",
   "metadata": {},
   "outputs": [
    {
     "data": {
      "text/html": [
       "\n",
       "            <style>\n",
       "                .geemap-dark {\n",
       "                    --jp-widgets-color: white;\n",
       "                    --jp-widgets-label-color: white;\n",
       "                    --jp-ui-font-color1: white;\n",
       "                    --jp-layout-color2: #454545;\n",
       "                    background-color: #383838;\n",
       "                }\n",
       "\n",
       "                .geemap-dark .jupyter-button {\n",
       "                    --jp-layout-color3: #383838;\n",
       "                }\n",
       "\n",
       "                .geemap-colab {\n",
       "                    background-color: var(--colab-primary-surface-color, white);\n",
       "                }\n",
       "\n",
       "                .geemap-colab .jupyter-button {\n",
       "                    --jp-layout-color3: var(--colab-primary-surface-color, white);\n",
       "                }\n",
       "            </style>\n",
       "            "
      ],
      "text/plain": [
       "<IPython.core.display.HTML object>"
      ]
     },
     "metadata": {},
     "output_type": "display_data"
    },
    {
     "name": "stdout",
     "output_type": "stream",
     "text": [
      "               NOM  area_ha\n",
      "0         Kinshasa  1058415\n",
      "1    Kongo Central  5449333\n",
      "2       Mai-Ndombe 12878817\n",
      "3            Kwilu  7974749\n",
      "4           Kwango  9110290\n",
      "5         Equateur 10207799\n",
      "6       Sud-Ubangi  5220098\n",
      "7      Nord-Ubangi  5444914\n",
      "8          Mongala  5625156\n",
      "9          Tshuapa 13298111\n",
      "10          Tshopo 20056004\n",
      "11        Bas-Uele 14923195\n",
      "12       Haut-Uele  9166490\n",
      "13           Ituri  6283610\n",
      "14       Nord-Kivu  5724051\n",
      "15        Sud-Kivu  5931496\n",
      "16         Maniema 12803642\n",
      "17         Lualaba 12545160\n",
      "18     Haut-Lomami 11137497\n",
      "19       Tanganyka 12254047\n",
      "20    Haut-Katanga 12652867\n",
      "21  Kasai Oriental  1031690\n",
      "22         Sankuru 10867105\n",
      "23          Lomami  5461308\n",
      "24   Kasai Central  5776514\n",
      "25           Kasai  9748568\n"
     ]
    }
   ],
   "source": [
    "pd.set_option('display.float_format', lambda x: '%.0f' % x)\n",
    "\n",
    "# Display the GeoDataFrame with the new area columns\n",
    "print(poly_shp[[admin_name, 'area_ha']])"
   ]
  },
  {
   "cell_type": "code",
   "execution_count": 24,
   "id": "7a3beb90-85e2-4bdc-b9f2-bc92d826725f",
   "metadata": {},
   "outputs": [
    {
     "data": {
      "text/html": [
       "\n",
       "            <style>\n",
       "                .geemap-dark {\n",
       "                    --jp-widgets-color: white;\n",
       "                    --jp-widgets-label-color: white;\n",
       "                    --jp-ui-font-color1: white;\n",
       "                    --jp-layout-color2: #454545;\n",
       "                    background-color: #383838;\n",
       "                }\n",
       "\n",
       "                .geemap-dark .jupyter-button {\n",
       "                    --jp-layout-color3: #383838;\n",
       "                }\n",
       "\n",
       "                .geemap-colab {\n",
       "                    background-color: var(--colab-primary-surface-color, white);\n",
       "                }\n",
       "\n",
       "                .geemap-colab .jupyter-button {\n",
       "                    --jp-layout-color3: var(--colab-primary-surface-color, white);\n",
       "                }\n",
       "            </style>\n",
       "            "
      ],
      "text/plain": [
       "<IPython.core.display.HTML object>"
      ]
     },
     "metadata": {},
     "output_type": "display_data"
    }
   ],
   "source": [
    "# Rename columns\n",
    "column_mapping = {\n",
    "   admin_name: new_name\n",
    "#    'NAME_2': 'Territoire',\n",
    "#    'Unnamed: 0':'Index'\n",
    "}\n",
    "\n",
    "# Use the rename() method to rename columns\n",
    "joined_data.rename(columns=column_mapping, inplace=True)"
   ]
  },
  {
   "cell_type": "code",
   "execution_count": 25,
   "id": "d6e7631d-aecb-4f92-b37b-bd52d696f321",
   "metadata": {},
   "outputs": [
    {
     "data": {
      "text/html": [
       "\n",
       "            <style>\n",
       "                .geemap-dark {\n",
       "                    --jp-widgets-color: white;\n",
       "                    --jp-widgets-label-color: white;\n",
       "                    --jp-ui-font-color1: white;\n",
       "                    --jp-layout-color2: #454545;\n",
       "                    background-color: #383838;\n",
       "                }\n",
       "\n",
       "                .geemap-dark .jupyter-button {\n",
       "                    --jp-layout-color3: #383838;\n",
       "                }\n",
       "\n",
       "                .geemap-colab {\n",
       "                    background-color: var(--colab-primary-surface-color, white);\n",
       "                }\n",
       "\n",
       "                .geemap-colab .jupyter-button {\n",
       "                    --jp-layout-color3: var(--colab-primary-surface-color, white);\n",
       "                }\n",
       "            </style>\n",
       "            "
      ],
      "text/plain": [
       "<IPython.core.display.HTML object>"
      ]
     },
     "metadata": {},
     "output_type": "display_data"
    },
    {
     "name": "stdout",
     "output_type": "stream",
     "text": [
      "['UID', 'ID', 'plotid', 'point_id', 'sampleid', 'lon', 'lat', 'sample_geom', 'Ref_FNF_2015', 'Ref_Regeneration', 'Ref_Change_1522', 'Ref_Change_Type_1522', 'ArtFor', 'ArtMine', 'InfraR', 'Urb', 'IndFor', 'Other', 'Other_Desc', 'IndMine', 'IndAg', 'ArtAg', 'Ref_Year_1522', 'Ref_NFtype_2015', 'Ref_Ftype_2015', 'collection', 'interpreted', 'Ref_LCover_2015', 'Ref_Change_Year_1522', 'Ref_Change_LCover_1522', 'Def2016', 'Def2017', 'Def2018', 'Def2019', 'Def2020', 'Def2021', 'Def2022', 'Deg2016', 'Deg2017', 'Deg2018', 'Deg2019', 'Deg2020', 'Deg2021', 'Deg2022', 'Defall', 'Degall', 'Stable', 'NF', 'DensFor', 'DensDryFor', 'SecFor', 'DryOpenFor', 'Mangrove', 'Swamp', 'Gallery', 'Plantation', 'Woodland', 'Shrubland', 'Grassland', 'Aquatic', 'Bare', 'Cultivated', 'Builtup', 'Water', 'DensFor_Def', 'DensDryFor_Def', 'SecFor_Def', 'DryOpenFor_Def', 'Mangrove_Def', 'Swamp_Def', 'Gallery_Def', 'Plantation_Def', 'Woodland_Def', 'DensFor_Deg', 'DensDryFor_Deg', 'SecFor_Deg', 'DryOpenFor_Deg', 'Mangrove_Deg', 'Swamp_Deg', 'Gallery_Deg', 'Plantation_Deg', 'Woodland_Deg', 'DensFor_Stable', 'DensDryFor_Stable', 'SecFor_Stable', 'DryOpenFor_Stable', 'Mangrove_Stable', 'Swamp_Stable', 'Gallery_Stable', 'Plantation_Stable', 'Woodland_Stable', 'ISO', 'sampling', 'TNT_stratum', 'Ref_FNF_2022', 'Ref_Change_2023', 'Ref_Change_Type_2023', 'Ref_NFtype_2022', 'Ref_Ftype_2022', 'Ref_LCover_2022', 'Ref_Change_Year_2023', 'Ref_Change_LCover_2023', 'Def2023', 'Deg2023', 'interpreted_qc', 'Ref_Change_Type_1523', 'Ref_Change_Year_1523', 'geometry', 'Province']\n"
     ]
    }
   ],
   "source": [
    "list_columns = joined_data.columns.tolist()\n",
    "\n",
    "# Display the list of column names\n",
    "print(list_columns)"
   ]
  },
  {
   "cell_type": "code",
   "execution_count": 26,
   "id": "3f6e2f31-226c-486b-af0f-373d0718508e",
   "metadata": {},
   "outputs": [
    {
     "data": {
      "text/html": [
       "\n",
       "            <style>\n",
       "                .geemap-dark {\n",
       "                    --jp-widgets-color: white;\n",
       "                    --jp-widgets-label-color: white;\n",
       "                    --jp-ui-font-color1: white;\n",
       "                    --jp-layout-color2: #454545;\n",
       "                    background-color: #383838;\n",
       "                }\n",
       "\n",
       "                .geemap-dark .jupyter-button {\n",
       "                    --jp-layout-color3: #383838;\n",
       "                }\n",
       "\n",
       "                .geemap-colab {\n",
       "                    background-color: var(--colab-primary-surface-color, white);\n",
       "                }\n",
       "\n",
       "                .geemap-colab .jupyter-button {\n",
       "                    --jp-layout-color3: var(--colab-primary-surface-color, white);\n",
       "                }\n",
       "            </style>\n",
       "            "
      ],
      "text/plain": [
       "<IPython.core.display.HTML object>"
      ]
     },
     "metadata": {},
     "output_type": "display_data"
    }
   ],
   "source": [
    "joined_data = joined_data.to_crs(\"EPSG:4326\")"
   ]
  },
  {
   "cell_type": "code",
   "execution_count": 27,
   "id": "bad34bad-7b87-4546-b2e2-1c2a0fa2d01f",
   "metadata": {},
   "outputs": [
    {
     "data": {
      "text/html": [
       "\n",
       "            <style>\n",
       "                .geemap-dark {\n",
       "                    --jp-widgets-color: white;\n",
       "                    --jp-widgets-label-color: white;\n",
       "                    --jp-ui-font-color1: white;\n",
       "                    --jp-layout-color2: #454545;\n",
       "                    background-color: #383838;\n",
       "                }\n",
       "\n",
       "                .geemap-dark .jupyter-button {\n",
       "                    --jp-layout-color3: #383838;\n",
       "                }\n",
       "\n",
       "                .geemap-colab {\n",
       "                    background-color: var(--colab-primary-surface-color, white);\n",
       "                }\n",
       "\n",
       "                .geemap-colab .jupyter-button {\n",
       "                    --jp-layout-color3: var(--colab-primary-surface-color, white);\n",
       "                }\n",
       "            </style>\n",
       "            "
      ],
      "text/plain": [
       "<IPython.core.display.HTML object>"
      ]
     },
     "metadata": {},
     "output_type": "display_data"
    }
   ],
   "source": [
    "# if no more data are to be joined, save output\n",
    "out_file_shp_att =  '/home/sepal-user/module_results/esbae/DRC/DRC_all_ceo_2015_2022_2023_prov.csv'\n",
    "joined_data.to_csv(out_file_shp_att,index=False)"
   ]
  },
  {
   "cell_type": "markdown",
   "id": "0eda7329-acdc-4a3e-b471-e7d3cfa5d75a",
   "metadata": {
    "jp-MarkdownHeadingCollapsed": true
   },
   "source": [
    "#### get attributes from local raster"
   ]
  },
  {
   "cell_type": "code",
   "execution_count": null,
   "id": "1523fd6d-1aab-4650-8f5f-fc670b45d4a2",
   "metadata": {},
   "outputs": [],
   "source": [
    "LC_map = \"/home/sepal-user/data/lc_map/CAFI_LC_2015_19_wgs84.tif\""
   ]
  },
  {
   "cell_type": "code",
   "execution_count": null,
   "id": "4f1c0509-09fd-4e73-98e9-05e15c975423",
   "metadata": {},
   "outputs": [],
   "source": [
    "LC_src = rasterio.open(LC_map)"
   ]
  },
  {
   "cell_type": "code",
   "execution_count": null,
   "id": "25a5d917-9906-4fc7-a35d-5dabcadfce4a",
   "metadata": {},
   "outputs": [],
   "source": [
    "joined_data[\"CAFI_LC_2015\"] = [x for x in LC_src.sample(coord_list)]\n",
    "joined_data[\"CAFI_LC_2015\"] = joined_data[\"CAFI_LC_2015\"].str[0]\n",
    "joined_data.head()"
   ]
  },
  {
   "cell_type": "code",
   "execution_count": null,
   "id": "fe4736fa-55f0-47fc-8ad9-33575779df4a",
   "metadata": {},
   "outputs": [],
   "source": [
    "joined_data['CAFI_LC_2015'].value_counts(dropna=False)"
   ]
  },
  {
   "cell_type": "code",
   "execution_count": null,
   "id": "9b4c5e56-a21f-4789-a8b9-11fccda48e9c",
   "metadata": {},
   "outputs": [],
   "source": [
    "joined_columns = joined_data.columns.tolist()\n",
    "# Display the list of column names\n",
    "print(joined_columns)"
   ]
  },
  {
   "cell_type": "code",
   "execution_count": null,
   "id": "da3abbe3-59d1-4204-8be2-99ecee36f1e5",
   "metadata": {},
   "outputs": [],
   "source": [
    "joined_data.head()"
   ]
  },
  {
   "cell_type": "markdown",
   "id": "f728489e-6479-4e53-af28-9f7e1c1b2236",
   "metadata": {},
   "source": [
    "#### get attributes from GEE asset"
   ]
  },
  {
   "cell_type": "code",
   "execution_count": 28,
   "id": "190a9c4b-e8e2-4d94-b664-1482816c6f97",
   "metadata": {},
   "outputs": [
    {
     "data": {
      "text/html": [
       "\n",
       "            <style>\n",
       "                .geemap-dark {\n",
       "                    --jp-widgets-color: white;\n",
       "                    --jp-widgets-label-color: white;\n",
       "                    --jp-ui-font-color1: white;\n",
       "                    --jp-layout-color2: #454545;\n",
       "                    background-color: #383838;\n",
       "                }\n",
       "\n",
       "                .geemap-dark .jupyter-button {\n",
       "                    --jp-layout-color3: #383838;\n",
       "                }\n",
       "\n",
       "                .geemap-colab {\n",
       "                    background-color: var(--colab-primary-surface-color, white);\n",
       "                }\n",
       "\n",
       "                .geemap-colab .jupyter-button {\n",
       "                    --jp-layout-color3: var(--colab-primary-surface-color, white);\n",
       "                }\n",
       "            </style>\n",
       "            "
      ],
      "text/plain": [
       "<IPython.core.display.HTML object>"
      ]
     },
     "metadata": {},
     "output_type": "display_data"
    }
   ],
   "source": [
    "#first time\n",
    "gdf = joined_data"
   ]
  },
  {
   "cell_type": "code",
   "execution_count": 69,
   "id": "5f86c10c-b7ed-4571-9774-3bf045ffe236",
   "metadata": {},
   "outputs": [
    {
     "data": {
      "text/html": [
       "\n",
       "            <style>\n",
       "                .geemap-dark {\n",
       "                    --jp-widgets-color: white;\n",
       "                    --jp-widgets-label-color: white;\n",
       "                    --jp-ui-font-color1: white;\n",
       "                    --jp-layout-color2: #454545;\n",
       "                    background-color: #383838;\n",
       "                }\n",
       "\n",
       "                .geemap-dark .jupyter-button {\n",
       "                    --jp-layout-color3: #383838;\n",
       "                }\n",
       "\n",
       "                .geemap-colab {\n",
       "                    background-color: var(--colab-primary-surface-color, white);\n",
       "                }\n",
       "\n",
       "                .geemap-colab .jupyter-button {\n",
       "                    --jp-layout-color3: var(--colab-primary-surface-color, white);\n",
       "                }\n",
       "            </style>\n",
       "            "
      ],
      "text/plain": [
       "<IPython.core.display.HTML object>"
      ]
     },
     "metadata": {},
     "output_type": "display_data"
    }
   ],
   "source": [
    "#second time\n",
    "gdf = merged_df"
   ]
  },
  {
   "cell_type": "code",
   "execution_count": 70,
   "id": "e677713d-cd19-43bf-b009-4c9dda17ad0c",
   "metadata": {},
   "outputs": [
    {
     "data": {
      "text/html": [
       "\n",
       "            <style>\n",
       "                .geemap-dark {\n",
       "                    --jp-widgets-color: white;\n",
       "                    --jp-widgets-label-color: white;\n",
       "                    --jp-ui-font-color1: white;\n",
       "                    --jp-layout-color2: #454545;\n",
       "                    background-color: #383838;\n",
       "                }\n",
       "\n",
       "                .geemap-dark .jupyter-button {\n",
       "                    --jp-layout-color3: #383838;\n",
       "                }\n",
       "\n",
       "                .geemap-colab {\n",
       "                    background-color: var(--colab-primary-surface-color, white);\n",
       "                }\n",
       "\n",
       "                .geemap-colab .jupyter-button {\n",
       "                    --jp-layout-color3: var(--colab-primary-surface-color, white);\n",
       "                }\n",
       "            </style>\n",
       "            "
      ],
      "text/plain": [
       "<IPython.core.display.HTML object>"
      ]
     },
     "metadata": {},
     "output_type": "display_data"
    },
    {
     "name": "stdout",
     "output_type": "stream",
     "text": [
      "UID has entirely unique values.\n",
      "ID does not have entirely unique values.\n"
     ]
    }
   ],
   "source": [
    "# Assuming df is your DataFrame\n",
    "if gdf['UID'].nunique() == len(gdf):\n",
    "    print(\"UID has entirely unique values.\")\n",
    "else:\n",
    "    print(\"UID does not have entirely unique values.\")\n",
    "\n",
    "if gdf['ID'].nunique() == len(gdf):\n",
    "    print(\"ID has entirely unique values.\")\n",
    "else:\n",
    "    print(\"ID does not have entirely unique values.\")"
   ]
  },
  {
   "cell_type": "code",
   "execution_count": 71,
   "id": "d348eeb5-96af-4d04-9c2e-16e3ef8d2331",
   "metadata": {},
   "outputs": [
    {
     "data": {
      "text/html": [
       "\n",
       "            <style>\n",
       "                .geemap-dark {\n",
       "                    --jp-widgets-color: white;\n",
       "                    --jp-widgets-label-color: white;\n",
       "                    --jp-ui-font-color1: white;\n",
       "                    --jp-layout-color2: #454545;\n",
       "                    background-color: #383838;\n",
       "                }\n",
       "\n",
       "                .geemap-dark .jupyter-button {\n",
       "                    --jp-layout-color3: #383838;\n",
       "                }\n",
       "\n",
       "                .geemap-colab {\n",
       "                    background-color: var(--colab-primary-surface-color, white);\n",
       "                }\n",
       "\n",
       "                .geemap-colab .jupyter-button {\n",
       "                    --jp-layout-color3: var(--colab-primary-surface-color, white);\n",
       "                }\n",
       "            </style>\n",
       "            "
      ],
      "text/plain": [
       "<IPython.core.display.HTML object>"
      ]
     },
     "metadata": {},
     "output_type": "display_data"
    }
   ],
   "source": [
    "#path to asset\n",
    "#asset = ee.Image('users/faocongo/sbae/EQG_FNF_kmeans_strat_5_2015_2022')\n",
    "#asset = ee.Image('users/faocongo/sbae/EQG_FNF_kmeans_strat_5_2022_2023')\n",
    "#asset = ee.Image('users/faocongo/sbae/CAF_FNF_kmeans_strat_5_2015_2022')\n",
    "#asset = ee.Image('users/faocongo/sbae/CAF_FNF_kmeans_strat_5_2022_2023')\n",
    "#asset = ee.Image('users/faocongo/sbae/GAB_FNF_kmeans_strat_5_2015_2022')\n",
    "#asset = ee.Image('users/faocongo/sbae/GAB_FNF_kmeans_strat_5_2022_2023')\n",
    "asset = ee.Image('users/faocongo/sbae/COD_FNF_kmeans_strat_5_2015_2022_v2')\n",
    "#asset = ee.Image('users/faocongo/sbae/COD_FNF_kmeans_strat_5_2022_2023')\n",
    "#asset = ee.Image('users/faocongo/sbae/COD_FNF_kmeans_strat_5_2022_2023_v2')\n",
    "#asset = ee.Image('users/faocongo/sbae/COD_FNF_kmeans_strat_5_2022_2023_v3')\n",
    "#asset = ee.Image('users/faocongo/sbae/COD_FNF_kmeans_strat_5_2022_2023_v4')\n",
    "#asset = ee.Image('users/faocongo/sbae/COD_FNF_kmeans_strat_5_2015_2022_v2')\n",
    "#asset = ee.Image('users/faocongo/sbae/CMR_FNF_kmeans_strat_5_2015_2022')\n",
    "#asset = ee.Image('users/faocongo/sbae/CMR_FNF_kmeans_strat_5_2022_2023')\n"
   ]
  },
  {
   "cell_type": "code",
   "execution_count": 72,
   "id": "c8dff7cb-fbb9-42b4-b9f3-146ebb4e9daa",
   "metadata": {},
   "outputs": [
    {
     "data": {
      "text/html": [
       "\n",
       "            <style>\n",
       "                .geemap-dark {\n",
       "                    --jp-widgets-color: white;\n",
       "                    --jp-widgets-label-color: white;\n",
       "                    --jp-ui-font-color1: white;\n",
       "                    --jp-layout-color2: #454545;\n",
       "                    background-color: #383838;\n",
       "                }\n",
       "\n",
       "                .geemap-dark .jupyter-button {\n",
       "                    --jp-layout-color3: #383838;\n",
       "                }\n",
       "\n",
       "                .geemap-colab {\n",
       "                    background-color: var(--colab-primary-surface-color, white);\n",
       "                }\n",
       "\n",
       "                .geemap-colab .jupyter-button {\n",
       "                    --jp-layout-color3: var(--colab-primary-surface-color, white);\n",
       "                }\n",
       "            </style>\n",
       "            "
      ],
      "text/plain": [
       "<IPython.core.display.HTML object>"
      ]
     },
     "metadata": {},
     "output_type": "display_data"
    }
   ],
   "source": [
    "#what to rename sampled band to. it is always called first\n",
    "newName = 'TNT_stratum_1522_v2'\n",
    "#newName = 'TNT_stratum_2223_v3'"
   ]
  },
  {
   "cell_type": "code",
   "execution_count": 73,
   "id": "323fbc7f-5d7e-4516-9fd4-d7325c1928e4",
   "metadata": {},
   "outputs": [
    {
     "data": {
      "text/html": [
       "\n",
       "            <style>\n",
       "                .geemap-dark {\n",
       "                    --jp-widgets-color: white;\n",
       "                    --jp-widgets-label-color: white;\n",
       "                    --jp-ui-font-color1: white;\n",
       "                    --jp-layout-color2: #454545;\n",
       "                    background-color: #383838;\n",
       "                }\n",
       "\n",
       "                .geemap-dark .jupyter-button {\n",
       "                    --jp-layout-color3: #383838;\n",
       "                }\n",
       "\n",
       "                .geemap-colab {\n",
       "                    background-color: var(--colab-primary-surface-color, white);\n",
       "                }\n",
       "\n",
       "                .geemap-colab .jupyter-button {\n",
       "                    --jp-layout-color3: var(--colab-primary-surface-color, white);\n",
       "                }\n",
       "            </style>\n",
       "            "
      ],
      "text/plain": [
       "<IPython.core.display.HTML object>"
      ]
     },
     "metadata": {},
     "output_type": "display_data"
    }
   ],
   "source": [
    "#resolution of asset\n",
    "scale = 70"
   ]
  },
  {
   "cell_type": "code",
   "execution_count": 74,
   "id": "5f7725ac-5340-45d7-b81d-c72fdd73c737",
   "metadata": {},
   "outputs": [
    {
     "data": {
      "text/html": [
       "\n",
       "            <style>\n",
       "                .geemap-dark {\n",
       "                    --jp-widgets-color: white;\n",
       "                    --jp-widgets-label-color: white;\n",
       "                    --jp-ui-font-color1: white;\n",
       "                    --jp-layout-color2: #454545;\n",
       "                    background-color: #383838;\n",
       "                }\n",
       "\n",
       "                .geemap-dark .jupyter-button {\n",
       "                    --jp-layout-color3: #383838;\n",
       "                }\n",
       "\n",
       "                .geemap-colab {\n",
       "                    background-color: var(--colab-primary-surface-color, white);\n",
       "                }\n",
       "\n",
       "                .geemap-colab .jupyter-button {\n",
       "                    --jp-layout-color3: var(--colab-primary-surface-color, white);\n",
       "                }\n",
       "            </style>\n",
       "            "
      ],
      "text/plain": [
       "<IPython.core.display.HTML object>"
      ]
     },
     "metadata": {},
     "output_type": "display_data"
    }
   ],
   "source": [
    "#name of band\n",
    "band = 'strata'"
   ]
  },
  {
   "cell_type": "code",
   "execution_count": 75,
   "id": "f6c106cf-17f4-412f-84e9-667769aa3cfd",
   "metadata": {},
   "outputs": [
    {
     "data": {
      "text/html": [
       "\n",
       "            <style>\n",
       "                .geemap-dark {\n",
       "                    --jp-widgets-color: white;\n",
       "                    --jp-widgets-label-color: white;\n",
       "                    --jp-ui-font-color1: white;\n",
       "                    --jp-layout-color2: #454545;\n",
       "                    background-color: #383838;\n",
       "                }\n",
       "\n",
       "                .geemap-dark .jupyter-button {\n",
       "                    --jp-layout-color3: #383838;\n",
       "                }\n",
       "\n",
       "                .geemap-colab {\n",
       "                    background-color: var(--colab-primary-surface-color, white);\n",
       "                }\n",
       "\n",
       "                .geemap-colab .jupyter-button {\n",
       "                    --jp-layout-color3: var(--colab-primary-surface-color, white);\n",
       "                }\n",
       "            </style>\n",
       "            "
      ],
      "text/plain": [
       "<IPython.core.display.HTML object>"
      ]
     },
     "metadata": {},
     "output_type": "display_data"
    }
   ],
   "source": [
    "gdf = gdf.reset_index(drop=True)\n",
    "#with just a few columns\n",
    "#this can take a little while with many points\n",
    "dfs = []\n",
    "for i in range(0, len(points), 5000):\n",
    "    tmp_df = gdf.loc[i:i+4999]\n",
    "    tmp_fc = geemap.gdf_to_ee(tmp_df[['UID', 'geometry']])\n",
    "    tmp_smp = asset.select(band).reduceRegions(**{\n",
    "        'collection': tmp_fc,\n",
    "        'scale': scale,\n",
    "        'reducer': ee.Reducer.first()   \n",
    "    })\n",
    "\n",
    "    tmp_res = geemap.ee_to_gdf(tmp_smp)\n",
    "    dfs.append(tmp_res)\n",
    "    \n",
    "sampled_df = pd.concat(dfs)"
   ]
  },
  {
   "cell_type": "code",
   "execution_count": 76,
   "id": "c6fd6d08-1b2d-470c-a9ba-addcda476521",
   "metadata": {},
   "outputs": [
    {
     "data": {
      "text/html": [
       "\n",
       "            <style>\n",
       "                .geemap-dark {\n",
       "                    --jp-widgets-color: white;\n",
       "                    --jp-widgets-label-color: white;\n",
       "                    --jp-ui-font-color1: white;\n",
       "                    --jp-layout-color2: #454545;\n",
       "                    background-color: #383838;\n",
       "                }\n",
       "\n",
       "                .geemap-dark .jupyter-button {\n",
       "                    --jp-layout-color3: #383838;\n",
       "                }\n",
       "\n",
       "                .geemap-colab {\n",
       "                    background-color: var(--colab-primary-surface-color, white);\n",
       "                }\n",
       "\n",
       "                .geemap-colab .jupyter-button {\n",
       "                    --jp-layout-color3: var(--colab-primary-surface-color, white);\n",
       "                }\n",
       "            </style>\n",
       "            "
      ],
      "text/plain": [
       "<IPython.core.display.HTML object>"
      ]
     },
     "metadata": {},
     "output_type": "display_data"
    },
    {
     "data": {
      "text/html": [
       "<div>\n",
       "<style scoped>\n",
       "    .dataframe tbody tr th:only-of-type {\n",
       "        vertical-align: middle;\n",
       "    }\n",
       "\n",
       "    .dataframe tbody tr th {\n",
       "        vertical-align: top;\n",
       "    }\n",
       "\n",
       "    .dataframe thead th {\n",
       "        text-align: right;\n",
       "    }\n",
       "</style>\n",
       "<table border=\"1\" class=\"dataframe\">\n",
       "  <thead>\n",
       "    <tr style=\"text-align: right;\">\n",
       "      <th></th>\n",
       "      <th>geometry</th>\n",
       "      <th>UID</th>\n",
       "      <th>first</th>\n",
       "    </tr>\n",
       "  </thead>\n",
       "  <tbody>\n",
       "    <tr>\n",
       "      <th>0</th>\n",
       "      <td>POINT (12.74145 -5.77682)</td>\n",
       "      <td>0</td>\n",
       "      <td>3</td>\n",
       "    </tr>\n",
       "    <tr>\n",
       "      <th>1</th>\n",
       "      <td>POINT (25.87995 -3.18646)</td>\n",
       "      <td>1</td>\n",
       "      <td>1</td>\n",
       "    </tr>\n",
       "    <tr>\n",
       "      <th>2</th>\n",
       "      <td>POINT (25.22059 -6.71763)</td>\n",
       "      <td>2</td>\n",
       "      <td>0</td>\n",
       "    </tr>\n",
       "    <tr>\n",
       "      <th>3</th>\n",
       "      <td>POINT (23.85318 -10.56649)</td>\n",
       "      <td>3</td>\n",
       "      <td>3</td>\n",
       "    </tr>\n",
       "    <tr>\n",
       "      <th>4</th>\n",
       "      <td>POINT (23.57211 -10.31178)</td>\n",
       "      <td>4</td>\n",
       "      <td>5</td>\n",
       "    </tr>\n",
       "    <tr>\n",
       "      <th>...</th>\n",
       "      <td>...</td>\n",
       "      <td>...</td>\n",
       "      <td>...</td>\n",
       "    </tr>\n",
       "    <tr>\n",
       "      <th>333</th>\n",
       "      <td>POINT (28.53135 -9.48868)</td>\n",
       "      <td>14053</td>\n",
       "      <td>4</td>\n",
       "    </tr>\n",
       "    <tr>\n",
       "      <th>334</th>\n",
       "      <td>POINT (21.80045 4.27683)</td>\n",
       "      <td>14163</td>\n",
       "      <td>1</td>\n",
       "    </tr>\n",
       "    <tr>\n",
       "      <th>335</th>\n",
       "      <td>POINT (23.81708 4.82014)</td>\n",
       "      <td>14235</td>\n",
       "      <td>2</td>\n",
       "    </tr>\n",
       "    <tr>\n",
       "      <th>336</th>\n",
       "      <td>POINT (14.99661 -4.59142)</td>\n",
       "      <td>14307</td>\n",
       "      <td>3</td>\n",
       "    </tr>\n",
       "    <tr>\n",
       "      <th>337</th>\n",
       "      <td>POINT (29.17212 4.38248)</td>\n",
       "      <td>14889</td>\n",
       "      <td>2</td>\n",
       "    </tr>\n",
       "  </tbody>\n",
       "</table>\n",
       "<p>15338 rows × 3 columns</p>\n",
       "</div>"
      ],
      "text/plain": [
       "                       geometry    UID  first\n",
       "0     POINT (12.74145 -5.77682)      0      3\n",
       "1     POINT (25.87995 -3.18646)      1      1\n",
       "2     POINT (25.22059 -6.71763)      2      0\n",
       "3    POINT (23.85318 -10.56649)      3      3\n",
       "4    POINT (23.57211 -10.31178)      4      5\n",
       "..                          ...    ...    ...\n",
       "333   POINT (28.53135 -9.48868)  14053      4\n",
       "334    POINT (21.80045 4.27683)  14163      1\n",
       "335    POINT (23.81708 4.82014)  14235      2\n",
       "336   POINT (14.99661 -4.59142)  14307      3\n",
       "337    POINT (29.17212 4.38248)  14889      2\n",
       "\n",
       "[15338 rows x 3 columns]"
      ]
     },
     "execution_count": 76,
     "metadata": {},
     "output_type": "execute_result"
    }
   ],
   "source": [
    "sampled_df"
   ]
  },
  {
   "cell_type": "code",
   "execution_count": 77,
   "id": "4048d55d-fb7a-4051-aa5f-2f6312f1481c",
   "metadata": {},
   "outputs": [
    {
     "data": {
      "text/html": [
       "\n",
       "            <style>\n",
       "                .geemap-dark {\n",
       "                    --jp-widgets-color: white;\n",
       "                    --jp-widgets-label-color: white;\n",
       "                    --jp-ui-font-color1: white;\n",
       "                    --jp-layout-color2: #454545;\n",
       "                    background-color: #383838;\n",
       "                }\n",
       "\n",
       "                .geemap-dark .jupyter-button {\n",
       "                    --jp-layout-color3: #383838;\n",
       "                }\n",
       "\n",
       "                .geemap-colab {\n",
       "                    background-color: var(--colab-primary-surface-color, white);\n",
       "                }\n",
       "\n",
       "                .geemap-colab .jupyter-button {\n",
       "                    --jp-layout-color3: var(--colab-primary-surface-color, white);\n",
       "                }\n",
       "            </style>\n",
       "            "
      ],
      "text/plain": [
       "<IPython.core.display.HTML object>"
      ]
     },
     "metadata": {},
     "output_type": "display_data"
    },
    {
     "data": {
      "text/html": [
       "<div>\n",
       "<style scoped>\n",
       "    .dataframe tbody tr th:only-of-type {\n",
       "        vertical-align: middle;\n",
       "    }\n",
       "\n",
       "    .dataframe tbody tr th {\n",
       "        vertical-align: top;\n",
       "    }\n",
       "\n",
       "    .dataframe thead th {\n",
       "        text-align: right;\n",
       "    }\n",
       "</style>\n",
       "<table border=\"1\" class=\"dataframe\">\n",
       "  <thead>\n",
       "    <tr style=\"text-align: right;\">\n",
       "      <th></th>\n",
       "      <th>geometry</th>\n",
       "      <th>UID</th>\n",
       "      <th>TNT_stratum_1522_v2</th>\n",
       "    </tr>\n",
       "  </thead>\n",
       "  <tbody>\n",
       "    <tr>\n",
       "      <th>0</th>\n",
       "      <td>POINT (12.74145 -5.77682)</td>\n",
       "      <td>0</td>\n",
       "      <td>3</td>\n",
       "    </tr>\n",
       "    <tr>\n",
       "      <th>1</th>\n",
       "      <td>POINT (25.87995 -3.18646)</td>\n",
       "      <td>1</td>\n",
       "      <td>1</td>\n",
       "    </tr>\n",
       "    <tr>\n",
       "      <th>2</th>\n",
       "      <td>POINT (25.22059 -6.71763)</td>\n",
       "      <td>2</td>\n",
       "      <td>0</td>\n",
       "    </tr>\n",
       "    <tr>\n",
       "      <th>3</th>\n",
       "      <td>POINT (23.85318 -10.56649)</td>\n",
       "      <td>3</td>\n",
       "      <td>3</td>\n",
       "    </tr>\n",
       "    <tr>\n",
       "      <th>4</th>\n",
       "      <td>POINT (23.57211 -10.31178)</td>\n",
       "      <td>4</td>\n",
       "      <td>5</td>\n",
       "    </tr>\n",
       "  </tbody>\n",
       "</table>\n",
       "</div>"
      ],
      "text/plain": [
       "                     geometry  UID  TNT_stratum_1522_v2\n",
       "0   POINT (12.74145 -5.77682)    0                    3\n",
       "1   POINT (25.87995 -3.18646)    1                    1\n",
       "2   POINT (25.22059 -6.71763)    2                    0\n",
       "3  POINT (23.85318 -10.56649)    3                    3\n",
       "4  POINT (23.57211 -10.31178)    4                    5"
      ]
     },
     "execution_count": 77,
     "metadata": {},
     "output_type": "execute_result"
    }
   ],
   "source": [
    "sampled_df = sampled_df.rename(columns={'first':newName})\n",
    "sampled_df.head()"
   ]
  },
  {
   "cell_type": "code",
   "execution_count": 78,
   "id": "32312f89-4def-4ac2-85bf-c824fd06cf45",
   "metadata": {},
   "outputs": [
    {
     "data": {
      "text/html": [
       "\n",
       "            <style>\n",
       "                .geemap-dark {\n",
       "                    --jp-widgets-color: white;\n",
       "                    --jp-widgets-label-color: white;\n",
       "                    --jp-ui-font-color1: white;\n",
       "                    --jp-layout-color2: #454545;\n",
       "                    background-color: #383838;\n",
       "                }\n",
       "\n",
       "                .geemap-dark .jupyter-button {\n",
       "                    --jp-layout-color3: #383838;\n",
       "                }\n",
       "\n",
       "                .geemap-colab {\n",
       "                    background-color: var(--colab-primary-surface-color, white);\n",
       "                }\n",
       "\n",
       "                .geemap-colab .jupyter-button {\n",
       "                    --jp-layout-color3: var(--colab-primary-surface-color, white);\n",
       "                }\n",
       "            </style>\n",
       "            "
      ],
      "text/plain": [
       "<IPython.core.display.HTML object>"
      ]
     },
     "metadata": {},
     "output_type": "display_data"
    },
    {
     "data": {
      "text/html": [
       "<div>\n",
       "<style scoped>\n",
       "    .dataframe tbody tr th:only-of-type {\n",
       "        vertical-align: middle;\n",
       "    }\n",
       "\n",
       "    .dataframe tbody tr th {\n",
       "        vertical-align: top;\n",
       "    }\n",
       "\n",
       "    .dataframe thead th {\n",
       "        text-align: right;\n",
       "    }\n",
       "</style>\n",
       "<table border=\"1\" class=\"dataframe\">\n",
       "  <thead>\n",
       "    <tr style=\"text-align: right;\">\n",
       "      <th></th>\n",
       "      <th>geometry</th>\n",
       "      <th>UID</th>\n",
       "      <th>TNT_stratum_1522_v2</th>\n",
       "      <th>TNT_stratum_1522</th>\n",
       "      <th>TNT_stratum_2223_v3</th>\n",
       "      <th>TNT_stratum_2223_v2</th>\n",
       "      <th>TNT_stratum_2223</th>\n",
       "      <th>ID</th>\n",
       "      <th>plotid</th>\n",
       "      <th>point_id</th>\n",
       "      <th>...</th>\n",
       "      <th>Ref_Ftype_2022</th>\n",
       "      <th>Ref_LCover_2022</th>\n",
       "      <th>Ref_Change_Year_2023</th>\n",
       "      <th>Ref_Change_LCover_2023</th>\n",
       "      <th>Def2023</th>\n",
       "      <th>Deg2023</th>\n",
       "      <th>interpreted_qc</th>\n",
       "      <th>Ref_Change_Type_1523</th>\n",
       "      <th>Ref_Change_Year_1523</th>\n",
       "      <th>Province</th>\n",
       "    </tr>\n",
       "  </thead>\n",
       "  <tbody>\n",
       "    <tr>\n",
       "      <th>0</th>\n",
       "      <td>POINT (12.74145 -5.77682)</td>\n",
       "      <td>0</td>\n",
       "      <td>3</td>\n",
       "      <td>4</td>\n",
       "      <td>2</td>\n",
       "      <td>1</td>\n",
       "      <td>2</td>\n",
       "      <td>0</td>\n",
       "      <td>807773</td>\n",
       "      <td>807773</td>\n",
       "      <td>...</td>\n",
       "      <td>NaN</td>\n",
       "      <td>NaN</td>\n",
       "      <td>NaN</td>\n",
       "      <td>NaN</td>\n",
       "      <td>NaN</td>\n",
       "      <td>NaN</td>\n",
       "      <td>NaN</td>\n",
       "      <td>Def</td>\n",
       "      <td>Def2016</td>\n",
       "      <td>Kongo Central</td>\n",
       "    </tr>\n",
       "    <tr>\n",
       "      <th>1</th>\n",
       "      <td>POINT (25.87995 -3.18646)</td>\n",
       "      <td>1</td>\n",
       "      <td>1</td>\n",
       "      <td>4</td>\n",
       "      <td>3</td>\n",
       "      <td>2</td>\n",
       "      <td>3</td>\n",
       "      <td>1</td>\n",
       "      <td>2771794</td>\n",
       "      <td>2771794</td>\n",
       "      <td>...</td>\n",
       "      <td>NaN</td>\n",
       "      <td>NaN</td>\n",
       "      <td>NaN</td>\n",
       "      <td>NaN</td>\n",
       "      <td>NaN</td>\n",
       "      <td>NaN</td>\n",
       "      <td>NaN</td>\n",
       "      <td>Def</td>\n",
       "      <td>Def2020</td>\n",
       "      <td>Maniema</td>\n",
       "    </tr>\n",
       "    <tr>\n",
       "      <th>2</th>\n",
       "      <td>POINT (25.22059 -6.71763)</td>\n",
       "      <td>2</td>\n",
       "      <td>0</td>\n",
       "      <td>1</td>\n",
       "      <td>0</td>\n",
       "      <td>0</td>\n",
       "      <td>1</td>\n",
       "      <td>2</td>\n",
       "      <td>2883802</td>\n",
       "      <td>2883802</td>\n",
       "      <td>...</td>\n",
       "      <td>NaN</td>\n",
       "      <td>NaN</td>\n",
       "      <td>NaN</td>\n",
       "      <td>NaN</td>\n",
       "      <td>NaN</td>\n",
       "      <td>NaN</td>\n",
       "      <td>NaN</td>\n",
       "      <td>NF</td>\n",
       "      <td>NF</td>\n",
       "      <td>Haut-Lomami</td>\n",
       "    </tr>\n",
       "    <tr>\n",
       "      <th>3</th>\n",
       "      <td>POINT (23.85318 -10.56649)</td>\n",
       "      <td>3</td>\n",
       "      <td>3</td>\n",
       "      <td>1</td>\n",
       "      <td>4</td>\n",
       "      <td>5</td>\n",
       "      <td>4</td>\n",
       "      <td>3</td>\n",
       "      <td>2880499</td>\n",
       "      <td>2880499</td>\n",
       "      <td>...</td>\n",
       "      <td>NaN</td>\n",
       "      <td>NaN</td>\n",
       "      <td>NaN</td>\n",
       "      <td>NaN</td>\n",
       "      <td>NaN</td>\n",
       "      <td>NaN</td>\n",
       "      <td>NaN</td>\n",
       "      <td>Stable</td>\n",
       "      <td>Stable</td>\n",
       "      <td>Lualaba</td>\n",
       "    </tr>\n",
       "    <tr>\n",
       "      <th>4</th>\n",
       "      <td>POINT (23.57211 -10.31178)</td>\n",
       "      <td>4</td>\n",
       "      <td>5</td>\n",
       "      <td>3</td>\n",
       "      <td>2</td>\n",
       "      <td>1</td>\n",
       "      <td>2</td>\n",
       "      <td>4</td>\n",
       "      <td>2877893</td>\n",
       "      <td>2877893</td>\n",
       "      <td>...</td>\n",
       "      <td>NaN</td>\n",
       "      <td>NaN</td>\n",
       "      <td>NaN</td>\n",
       "      <td>NaN</td>\n",
       "      <td>NaN</td>\n",
       "      <td>NaN</td>\n",
       "      <td>NaN</td>\n",
       "      <td>Def</td>\n",
       "      <td>Def2021</td>\n",
       "      <td>Lualaba</td>\n",
       "    </tr>\n",
       "  </tbody>\n",
       "</table>\n",
       "<p>5 rows × 114 columns</p>\n",
       "</div>"
      ],
      "text/plain": [
       "                     geometry  UID  TNT_stratum_1522_v2  TNT_stratum_1522  \\\n",
       "0   POINT (12.74145 -5.77682)    0                    3                 4   \n",
       "1   POINT (25.87995 -3.18646)    1                    1                 4   \n",
       "2   POINT (25.22059 -6.71763)    2                    0                 1   \n",
       "3  POINT (23.85318 -10.56649)    3                    3                 1   \n",
       "4  POINT (23.57211 -10.31178)    4                    5                 3   \n",
       "\n",
       "   TNT_stratum_2223_v3  TNT_stratum_2223_v2  TNT_stratum_2223  ID   plotid  \\\n",
       "0                    2                    1                 2   0   807773   \n",
       "1                    3                    2                 3   1  2771794   \n",
       "2                    0                    0                 1   2  2883802   \n",
       "3                    4                    5                 4   3  2880499   \n",
       "4                    2                    1                 2   4  2877893   \n",
       "\n",
       "   point_id  ...  Ref_Ftype_2022  Ref_LCover_2022  Ref_Change_Year_2023  \\\n",
       "0    807773  ...             NaN              NaN                   NaN   \n",
       "1   2771794  ...             NaN              NaN                   NaN   \n",
       "2   2883802  ...             NaN              NaN                   NaN   \n",
       "3   2880499  ...             NaN              NaN                   NaN   \n",
       "4   2877893  ...             NaN              NaN                   NaN   \n",
       "\n",
       "  Ref_Change_LCover_2023  Def2023 Deg2023  interpreted_qc  \\\n",
       "0                    NaN      NaN     NaN             NaN   \n",
       "1                    NaN      NaN     NaN             NaN   \n",
       "2                    NaN      NaN     NaN             NaN   \n",
       "3                    NaN      NaN     NaN             NaN   \n",
       "4                    NaN      NaN     NaN             NaN   \n",
       "\n",
       "  Ref_Change_Type_1523  Ref_Change_Year_1523       Province  \n",
       "0                  Def               Def2016  Kongo Central  \n",
       "1                  Def               Def2020        Maniema  \n",
       "2                   NF                    NF    Haut-Lomami  \n",
       "3               Stable                Stable        Lualaba  \n",
       "4                  Def               Def2021        Lualaba  \n",
       "\n",
       "[5 rows x 114 columns]"
      ]
     },
     "execution_count": 78,
     "metadata": {},
     "output_type": "execute_result"
    }
   ],
   "source": [
    "# recover columns\n",
    "# Step 1: Merge the two DataFrames on the 'ID' column (assuming 'ID' is the common key)\n",
    "merged_df = pd.merge(sampled_df, gdf, on='UID', how='left', suffixes=('', '_dup'))\n",
    "\n",
    "# Step 2: Remove duplicate columns\n",
    "# Here, we assume that any duplicate column from df2 will have the '_dup' suffix added by the merge\n",
    "# We will keep the columns from df1 and drop the duplicate ones from df2.\n",
    "merged_df = merged_df.loc[:, ~merged_df.columns.str.endswith('_dup')]\n",
    "merged_df.head()"
   ]
  },
  {
   "cell_type": "markdown",
   "id": "6d30f0cd-df2a-43fb-9d4b-4c2c5197c85b",
   "metadata": {},
   "source": [
    "##### repeat above as needed"
   ]
  },
  {
   "cell_type": "code",
   "execution_count": 79,
   "id": "3bd6c085-177c-41f3-9c9c-ec79f154d6d1",
   "metadata": {},
   "outputs": [
    {
     "data": {
      "text/html": [
       "\n",
       "            <style>\n",
       "                .geemap-dark {\n",
       "                    --jp-widgets-color: white;\n",
       "                    --jp-widgets-label-color: white;\n",
       "                    --jp-ui-font-color1: white;\n",
       "                    --jp-layout-color2: #454545;\n",
       "                    background-color: #383838;\n",
       "                }\n",
       "\n",
       "                .geemap-dark .jupyter-button {\n",
       "                    --jp-layout-color3: #383838;\n",
       "                }\n",
       "\n",
       "                .geemap-colab {\n",
       "                    background-color: var(--colab-primary-surface-color, white);\n",
       "                }\n",
       "\n",
       "                .geemap-colab .jupyter-button {\n",
       "                    --jp-layout-color3: var(--colab-primary-surface-color, white);\n",
       "                }\n",
       "            </style>\n",
       "            "
      ],
      "text/plain": [
       "<IPython.core.display.HTML object>"
      ]
     },
     "metadata": {},
     "output_type": "display_data"
    },
    {
     "name": "stdout",
     "output_type": "stream",
     "text": [
      "['geometry', 'UID', 'TNT_stratum_1522_v2', 'TNT_stratum_1522', 'TNT_stratum_2223_v3', 'TNT_stratum_2223_v2', 'TNT_stratum_2223', 'ID', 'plotid', 'point_id', 'sampleid', 'lon', 'lat', 'sample_geom', 'Ref_FNF_2015', 'Ref_Regeneration', 'Ref_Change_1522', 'Ref_Change_Type_1522', 'ArtFor', 'ArtMine', 'InfraR', 'Urb', 'IndFor', 'Other', 'Other_Desc', 'IndMine', 'IndAg', 'ArtAg', 'Ref_Year_1522', 'Ref_NFtype_2015', 'Ref_Ftype_2015', 'collection', 'interpreted', 'Ref_LCover_2015', 'Ref_Change_Year_1522', 'Ref_Change_LCover_1522', 'Def2016', 'Def2017', 'Def2018', 'Def2019', 'Def2020', 'Def2021', 'Def2022', 'Deg2016', 'Deg2017', 'Deg2018', 'Deg2019', 'Deg2020', 'Deg2021', 'Deg2022', 'Defall', 'Degall', 'Stable', 'NF', 'DensFor', 'DensDryFor', 'SecFor', 'DryOpenFor', 'Mangrove', 'Swamp', 'Gallery', 'Plantation', 'Woodland', 'Shrubland', 'Grassland', 'Aquatic', 'Bare', 'Cultivated', 'Builtup', 'Water', 'DensFor_Def', 'DensDryFor_Def', 'SecFor_Def', 'DryOpenFor_Def', 'Mangrove_Def', 'Swamp_Def', 'Gallery_Def', 'Plantation_Def', 'Woodland_Def', 'DensFor_Deg', 'DensDryFor_Deg', 'SecFor_Deg', 'DryOpenFor_Deg', 'Mangrove_Deg', 'Swamp_Deg', 'Gallery_Deg', 'Plantation_Deg', 'Woodland_Deg', 'DensFor_Stable', 'DensDryFor_Stable', 'SecFor_Stable', 'DryOpenFor_Stable', 'Mangrove_Stable', 'Swamp_Stable', 'Gallery_Stable', 'Plantation_Stable', 'Woodland_Stable', 'ISO', 'sampling', 'TNT_stratum', 'Ref_FNF_2022', 'Ref_Change_2023', 'Ref_Change_Type_2023', 'Ref_NFtype_2022', 'Ref_Ftype_2022', 'Ref_LCover_2022', 'Ref_Change_Year_2023', 'Ref_Change_LCover_2023', 'Def2023', 'Deg2023', 'interpreted_qc', 'Ref_Change_Type_1523', 'Ref_Change_Year_1523', 'Province']\n"
     ]
    }
   ],
   "source": [
    "merged_df_cols = merged_df.columns.tolist()\n",
    "# Display the list of column names\n",
    "print(merged_df_cols)"
   ]
  },
  {
   "cell_type": "code",
   "execution_count": 19,
   "id": "71d71848-96cb-4f28-87d5-bd02780e5f29",
   "metadata": {},
   "outputs": [
    {
     "data": {
      "text/html": [
       "\n",
       "            <style>\n",
       "                .geemap-dark {\n",
       "                    --jp-widgets-color: white;\n",
       "                    --jp-widgets-label-color: white;\n",
       "                    --jp-ui-font-color1: white;\n",
       "                    --jp-layout-color2: #454545;\n",
       "                    background-color: #383838;\n",
       "                }\n",
       "\n",
       "                .geemap-dark .jupyter-button {\n",
       "                    --jp-layout-color3: #383838;\n",
       "                }\n",
       "\n",
       "                .geemap-colab {\n",
       "                    background-color: var(--colab-primary-surface-color, white);\n",
       "                }\n",
       "\n",
       "                .geemap-colab .jupyter-button {\n",
       "                    --jp-layout-color3: var(--colab-primary-surface-color, white);\n",
       "                }\n",
       "            </style>\n",
       "            "
      ],
      "text/plain": [
       "<IPython.core.display.HTML object>"
      ]
     },
     "metadata": {},
     "output_type": "display_data"
    },
    {
     "ename": "KeyError",
     "evalue": "\"['sample_geom'] not found in axis\"",
     "output_type": "error",
     "traceback": [
      "\u001b[0;31m---------------------------------------------------------------------------\u001b[0m",
      "\u001b[0;31mKeyError\u001b[0m                                  Traceback (most recent call last)",
      "Cell \u001b[0;32mIn[19], line 3\u001b[0m\n\u001b[1;32m      1\u001b[0m \u001b[38;5;66;03m#drop any columns if needed\u001b[39;00m\n\u001b[1;32m      2\u001b[0m columns_to_drop \u001b[38;5;241m=\u001b[39m [\u001b[38;5;124m'\u001b[39m\u001b[38;5;124msample_geom\u001b[39m\u001b[38;5;124m'\u001b[39m]\n\u001b[0;32m----> 3\u001b[0m merged_df \u001b[38;5;241m=\u001b[39m \u001b[43mmerged_df\u001b[49m\u001b[38;5;241;43m.\u001b[39;49m\u001b[43mdrop\u001b[49m\u001b[43m(\u001b[49m\u001b[43mcolumns_to_drop\u001b[49m\u001b[43m,\u001b[49m\u001b[43m \u001b[49m\u001b[43maxis\u001b[49m\u001b[38;5;241;43m=\u001b[39;49m\u001b[38;5;241;43m1\u001b[39;49m\u001b[43m)\u001b[49m\n",
      "File \u001b[0;32m/usr/local/lib/python3.10/dist-packages/pandas/core/frame.py:5581\u001b[0m, in \u001b[0;36mDataFrame.drop\u001b[0;34m(self, labels, axis, index, columns, level, inplace, errors)\u001b[0m\n\u001b[1;32m   5433\u001b[0m \u001b[38;5;28;01mdef\u001b[39;00m \u001b[38;5;21mdrop\u001b[39m(\n\u001b[1;32m   5434\u001b[0m     \u001b[38;5;28mself\u001b[39m,\n\u001b[1;32m   5435\u001b[0m     labels: IndexLabel \u001b[38;5;241m|\u001b[39m \u001b[38;5;28;01mNone\u001b[39;00m \u001b[38;5;241m=\u001b[39m \u001b[38;5;28;01mNone\u001b[39;00m,\n\u001b[0;32m   (...)\u001b[0m\n\u001b[1;32m   5442\u001b[0m     errors: IgnoreRaise \u001b[38;5;241m=\u001b[39m \u001b[38;5;124m\"\u001b[39m\u001b[38;5;124mraise\u001b[39m\u001b[38;5;124m\"\u001b[39m,\n\u001b[1;32m   5443\u001b[0m ) \u001b[38;5;241m-\u001b[39m\u001b[38;5;241m>\u001b[39m DataFrame \u001b[38;5;241m|\u001b[39m \u001b[38;5;28;01mNone\u001b[39;00m:\n\u001b[1;32m   5444\u001b[0m \u001b[38;5;250m    \u001b[39m\u001b[38;5;124;03m\"\"\"\u001b[39;00m\n\u001b[1;32m   5445\u001b[0m \u001b[38;5;124;03m    Drop specified labels from rows or columns.\u001b[39;00m\n\u001b[1;32m   5446\u001b[0m \n\u001b[0;32m   (...)\u001b[0m\n\u001b[1;32m   5579\u001b[0m \u001b[38;5;124;03m            weight  1.0     0.8\u001b[39;00m\n\u001b[1;32m   5580\u001b[0m \u001b[38;5;124;03m    \"\"\"\u001b[39;00m\n\u001b[0;32m-> 5581\u001b[0m     \u001b[38;5;28;01mreturn\u001b[39;00m \u001b[38;5;28;43msuper\u001b[39;49m\u001b[43m(\u001b[49m\u001b[43m)\u001b[49m\u001b[38;5;241;43m.\u001b[39;49m\u001b[43mdrop\u001b[49m\u001b[43m(\u001b[49m\n\u001b[1;32m   5582\u001b[0m \u001b[43m        \u001b[49m\u001b[43mlabels\u001b[49m\u001b[38;5;241;43m=\u001b[39;49m\u001b[43mlabels\u001b[49m\u001b[43m,\u001b[49m\n\u001b[1;32m   5583\u001b[0m \u001b[43m        \u001b[49m\u001b[43maxis\u001b[49m\u001b[38;5;241;43m=\u001b[39;49m\u001b[43maxis\u001b[49m\u001b[43m,\u001b[49m\n\u001b[1;32m   5584\u001b[0m \u001b[43m        \u001b[49m\u001b[43mindex\u001b[49m\u001b[38;5;241;43m=\u001b[39;49m\u001b[43mindex\u001b[49m\u001b[43m,\u001b[49m\n\u001b[1;32m   5585\u001b[0m \u001b[43m        \u001b[49m\u001b[43mcolumns\u001b[49m\u001b[38;5;241;43m=\u001b[39;49m\u001b[43mcolumns\u001b[49m\u001b[43m,\u001b[49m\n\u001b[1;32m   5586\u001b[0m \u001b[43m        \u001b[49m\u001b[43mlevel\u001b[49m\u001b[38;5;241;43m=\u001b[39;49m\u001b[43mlevel\u001b[49m\u001b[43m,\u001b[49m\n\u001b[1;32m   5587\u001b[0m \u001b[43m        \u001b[49m\u001b[43minplace\u001b[49m\u001b[38;5;241;43m=\u001b[39;49m\u001b[43minplace\u001b[49m\u001b[43m,\u001b[49m\n\u001b[1;32m   5588\u001b[0m \u001b[43m        \u001b[49m\u001b[43merrors\u001b[49m\u001b[38;5;241;43m=\u001b[39;49m\u001b[43merrors\u001b[49m\u001b[43m,\u001b[49m\n\u001b[1;32m   5589\u001b[0m \u001b[43m    \u001b[49m\u001b[43m)\u001b[49m\n",
      "File \u001b[0;32m/usr/local/lib/python3.10/dist-packages/pandas/core/generic.py:4788\u001b[0m, in \u001b[0;36mNDFrame.drop\u001b[0;34m(self, labels, axis, index, columns, level, inplace, errors)\u001b[0m\n\u001b[1;32m   4786\u001b[0m \u001b[38;5;28;01mfor\u001b[39;00m axis, labels \u001b[38;5;129;01min\u001b[39;00m axes\u001b[38;5;241m.\u001b[39mitems():\n\u001b[1;32m   4787\u001b[0m     \u001b[38;5;28;01mif\u001b[39;00m labels \u001b[38;5;129;01mis\u001b[39;00m \u001b[38;5;129;01mnot\u001b[39;00m \u001b[38;5;28;01mNone\u001b[39;00m:\n\u001b[0;32m-> 4788\u001b[0m         obj \u001b[38;5;241m=\u001b[39m \u001b[43mobj\u001b[49m\u001b[38;5;241;43m.\u001b[39;49m\u001b[43m_drop_axis\u001b[49m\u001b[43m(\u001b[49m\u001b[43mlabels\u001b[49m\u001b[43m,\u001b[49m\u001b[43m \u001b[49m\u001b[43maxis\u001b[49m\u001b[43m,\u001b[49m\u001b[43m \u001b[49m\u001b[43mlevel\u001b[49m\u001b[38;5;241;43m=\u001b[39;49m\u001b[43mlevel\u001b[49m\u001b[43m,\u001b[49m\u001b[43m \u001b[49m\u001b[43merrors\u001b[49m\u001b[38;5;241;43m=\u001b[39;49m\u001b[43merrors\u001b[49m\u001b[43m)\u001b[49m\n\u001b[1;32m   4790\u001b[0m \u001b[38;5;28;01mif\u001b[39;00m inplace:\n\u001b[1;32m   4791\u001b[0m     \u001b[38;5;28mself\u001b[39m\u001b[38;5;241m.\u001b[39m_update_inplace(obj)\n",
      "File \u001b[0;32m/usr/local/lib/python3.10/dist-packages/pandas/core/generic.py:4830\u001b[0m, in \u001b[0;36mNDFrame._drop_axis\u001b[0;34m(self, labels, axis, level, errors, only_slice)\u001b[0m\n\u001b[1;32m   4828\u001b[0m         new_axis \u001b[38;5;241m=\u001b[39m axis\u001b[38;5;241m.\u001b[39mdrop(labels, level\u001b[38;5;241m=\u001b[39mlevel, errors\u001b[38;5;241m=\u001b[39merrors)\n\u001b[1;32m   4829\u001b[0m     \u001b[38;5;28;01melse\u001b[39;00m:\n\u001b[0;32m-> 4830\u001b[0m         new_axis \u001b[38;5;241m=\u001b[39m \u001b[43maxis\u001b[49m\u001b[38;5;241;43m.\u001b[39;49m\u001b[43mdrop\u001b[49m\u001b[43m(\u001b[49m\u001b[43mlabels\u001b[49m\u001b[43m,\u001b[49m\u001b[43m \u001b[49m\u001b[43merrors\u001b[49m\u001b[38;5;241;43m=\u001b[39;49m\u001b[43merrors\u001b[49m\u001b[43m)\u001b[49m\n\u001b[1;32m   4831\u001b[0m     indexer \u001b[38;5;241m=\u001b[39m axis\u001b[38;5;241m.\u001b[39mget_indexer(new_axis)\n\u001b[1;32m   4833\u001b[0m \u001b[38;5;66;03m# Case for non-unique axis\u001b[39;00m\n\u001b[1;32m   4834\u001b[0m \u001b[38;5;28;01melse\u001b[39;00m:\n",
      "File \u001b[0;32m/usr/local/lib/python3.10/dist-packages/pandas/core/indexes/base.py:7070\u001b[0m, in \u001b[0;36mIndex.drop\u001b[0;34m(self, labels, errors)\u001b[0m\n\u001b[1;32m   7068\u001b[0m \u001b[38;5;28;01mif\u001b[39;00m mask\u001b[38;5;241m.\u001b[39many():\n\u001b[1;32m   7069\u001b[0m     \u001b[38;5;28;01mif\u001b[39;00m errors \u001b[38;5;241m!=\u001b[39m \u001b[38;5;124m\"\u001b[39m\u001b[38;5;124mignore\u001b[39m\u001b[38;5;124m\"\u001b[39m:\n\u001b[0;32m-> 7070\u001b[0m         \u001b[38;5;28;01mraise\u001b[39;00m \u001b[38;5;167;01mKeyError\u001b[39;00m(\u001b[38;5;124mf\u001b[39m\u001b[38;5;124m\"\u001b[39m\u001b[38;5;132;01m{\u001b[39;00mlabels[mask]\u001b[38;5;241m.\u001b[39mtolist()\u001b[38;5;132;01m}\u001b[39;00m\u001b[38;5;124m not found in axis\u001b[39m\u001b[38;5;124m\"\u001b[39m)\n\u001b[1;32m   7071\u001b[0m     indexer \u001b[38;5;241m=\u001b[39m indexer[\u001b[38;5;241m~\u001b[39mmask]\n\u001b[1;32m   7072\u001b[0m \u001b[38;5;28;01mreturn\u001b[39;00m \u001b[38;5;28mself\u001b[39m\u001b[38;5;241m.\u001b[39mdelete(indexer)\n",
      "\u001b[0;31mKeyError\u001b[0m: \"['sample_geom'] not found in axis\""
     ]
    }
   ],
   "source": [
    "#drop any columns if needed\n",
    "columns_to_drop = ['sample_geom']\n",
    "merged_df = merged_df.drop(columns_to_drop, axis=1)"
   ]
  },
  {
   "cell_type": "code",
   "execution_count": 22,
   "id": "6478cb82-8bbc-4f81-9db7-ccd79b329692",
   "metadata": {},
   "outputs": [
    {
     "data": {
      "text/html": [
       "\n",
       "            <style>\n",
       "                .geemap-dark {\n",
       "                    --jp-widgets-color: white;\n",
       "                    --jp-widgets-label-color: white;\n",
       "                    --jp-ui-font-color1: white;\n",
       "                    --jp-layout-color2: #454545;\n",
       "                    background-color: #383838;\n",
       "                }\n",
       "\n",
       "                .geemap-dark .jupyter-button {\n",
       "                    --jp-layout-color3: #383838;\n",
       "                }\n",
       "\n",
       "                .geemap-colab {\n",
       "                    background-color: var(--colab-primary-surface-color, white);\n",
       "                }\n",
       "\n",
       "                .geemap-colab .jupyter-button {\n",
       "                    --jp-layout-color3: var(--colab-primary-surface-color, white);\n",
       "                }\n",
       "            </style>\n",
       "            "
      ],
      "text/plain": [
       "<IPython.core.display.HTML object>"
      ]
     },
     "metadata": {},
     "output_type": "display_data"
    }
   ],
   "source": [
    "# Using loc to replace only rows where 'stratum' is 0\n",
    "merged_df.loc[merged_df['TNT_stratum_1522'] == 0, 'TNT_stratum_1522'] = 1"
   ]
  },
  {
   "cell_type": "code",
   "execution_count": 19,
   "id": "94836ac9-2383-4cd8-a734-d5e2ce6de4b3",
   "metadata": {},
   "outputs": [
    {
     "data": {
      "text/html": [
       "\n",
       "            <style>\n",
       "                .geemap-dark {\n",
       "                    --jp-widgets-color: white;\n",
       "                    --jp-widgets-label-color: white;\n",
       "                    --jp-ui-font-color1: white;\n",
       "                    --jp-layout-color2: #454545;\n",
       "                    background-color: #383838;\n",
       "                }\n",
       "\n",
       "                .geemap-dark .jupyter-button {\n",
       "                    --jp-layout-color3: #383838;\n",
       "                }\n",
       "\n",
       "                .geemap-colab {\n",
       "                    background-color: var(--colab-primary-surface-color, white);\n",
       "                }\n",
       "\n",
       "                .geemap-colab .jupyter-button {\n",
       "                    --jp-layout-color3: var(--colab-primary-surface-color, white);\n",
       "                }\n",
       "            </style>\n",
       "            "
      ],
      "text/plain": [
       "<IPython.core.display.HTML object>"
      ]
     },
     "metadata": {},
     "output_type": "display_data"
    }
   ],
   "source": [
    "# Using loc to replace only rows where 'stratum' is 0\n",
    "merged_df.loc[merged_df['TNT_stratum_2223_v2'] == 0, 'TNT_stratum_2223_v2'] = 1"
   ]
  },
  {
   "cell_type": "code",
   "execution_count": 80,
   "id": "8053cfc2-ca3a-4f0c-92ae-94bfa65e9f8a",
   "metadata": {},
   "outputs": [
    {
     "data": {
      "text/html": [
       "\n",
       "            <style>\n",
       "                .geemap-dark {\n",
       "                    --jp-widgets-color: white;\n",
       "                    --jp-widgets-label-color: white;\n",
       "                    --jp-ui-font-color1: white;\n",
       "                    --jp-layout-color2: #454545;\n",
       "                    background-color: #383838;\n",
       "                }\n",
       "\n",
       "                .geemap-dark .jupyter-button {\n",
       "                    --jp-layout-color3: #383838;\n",
       "                }\n",
       "\n",
       "                .geemap-colab {\n",
       "                    background-color: var(--colab-primary-surface-color, white);\n",
       "                }\n",
       "\n",
       "                .geemap-colab .jupyter-button {\n",
       "                    --jp-layout-color3: var(--colab-primary-surface-color, white);\n",
       "                }\n",
       "            </style>\n",
       "            "
      ],
      "text/plain": [
       "<IPython.core.display.HTML object>"
      ]
     },
     "metadata": {},
     "output_type": "display_data"
    }
   ],
   "source": [
    "merged_df['TNT_stratum_1522'] = merged_df['TNT_stratum_1522'].fillna(1)\n",
    "merged_df['TNT_stratum_2223'] = merged_df['TNT_stratum_2223'].fillna(1)"
   ]
  },
  {
   "cell_type": "code",
   "execution_count": 81,
   "id": "211c03f2-1d42-4ae5-8217-a24acfad22b8",
   "metadata": {},
   "outputs": [
    {
     "data": {
      "text/html": [
       "\n",
       "            <style>\n",
       "                .geemap-dark {\n",
       "                    --jp-widgets-color: white;\n",
       "                    --jp-widgets-label-color: white;\n",
       "                    --jp-ui-font-color1: white;\n",
       "                    --jp-layout-color2: #454545;\n",
       "                    background-color: #383838;\n",
       "                }\n",
       "\n",
       "                .geemap-dark .jupyter-button {\n",
       "                    --jp-layout-color3: #383838;\n",
       "                }\n",
       "\n",
       "                .geemap-colab {\n",
       "                    background-color: var(--colab-primary-surface-color, white);\n",
       "                }\n",
       "\n",
       "                .geemap-colab .jupyter-button {\n",
       "                    --jp-layout-color3: var(--colab-primary-surface-color, white);\n",
       "                }\n",
       "            </style>\n",
       "            "
      ],
      "text/plain": [
       "<IPython.core.display.HTML object>"
      ]
     },
     "metadata": {},
     "output_type": "display_data"
    }
   ],
   "source": [
    "merged_df['TNT_stratum_1522_v2'] = merged_df['TNT_stratum_1522_v2'].fillna(1)\n",
    "merged_df['TNT_stratum_2223_v2'] = merged_df['TNT_stratum_2223_v2'].fillna(1)"
   ]
  },
  {
   "cell_type": "code",
   "execution_count": 83,
   "id": "6d87786e-5a9d-41bb-bd2d-40ab954eec9a",
   "metadata": {},
   "outputs": [
    {
     "data": {
      "text/html": [
       "\n",
       "            <style>\n",
       "                .geemap-dark {\n",
       "                    --jp-widgets-color: white;\n",
       "                    --jp-widgets-label-color: white;\n",
       "                    --jp-ui-font-color1: white;\n",
       "                    --jp-layout-color2: #454545;\n",
       "                    background-color: #383838;\n",
       "                }\n",
       "\n",
       "                .geemap-dark .jupyter-button {\n",
       "                    --jp-layout-color3: #383838;\n",
       "                }\n",
       "\n",
       "                .geemap-colab {\n",
       "                    background-color: var(--colab-primary-surface-color, white);\n",
       "                }\n",
       "\n",
       "                .geemap-colab .jupyter-button {\n",
       "                    --jp-layout-color3: var(--colab-primary-surface-color, white);\n",
       "                }\n",
       "            </style>\n",
       "            "
      ],
      "text/plain": [
       "<IPython.core.display.HTML object>"
      ]
     },
     "metadata": {},
     "output_type": "display_data"
    }
   ],
   "source": [
    "merged_df['TNT_stratum_2223_v3'] = merged_df['TNT_stratum_2223_v3'].fillna(1)\n",
    "#merged_df['TNT_stratum_2223_v4'] = merged_df['TNT_stratum_2223_v4'].fillna(1)"
   ]
  },
  {
   "cell_type": "code",
   "execution_count": 84,
   "id": "0e4faff4-ff1a-4c4d-a1b8-50e42e030008",
   "metadata": {},
   "outputs": [
    {
     "data": {
      "text/html": [
       "\n",
       "            <style>\n",
       "                .geemap-dark {\n",
       "                    --jp-widgets-color: white;\n",
       "                    --jp-widgets-label-color: white;\n",
       "                    --jp-ui-font-color1: white;\n",
       "                    --jp-layout-color2: #454545;\n",
       "                    background-color: #383838;\n",
       "                }\n",
       "\n",
       "                .geemap-dark .jupyter-button {\n",
       "                    --jp-layout-color3: #383838;\n",
       "                }\n",
       "\n",
       "                .geemap-colab {\n",
       "                    background-color: var(--colab-primary-surface-color, white);\n",
       "                }\n",
       "\n",
       "                .geemap-colab .jupyter-button {\n",
       "                    --jp-layout-color3: var(--colab-primary-surface-color, white);\n",
       "                }\n",
       "            </style>\n",
       "            "
      ],
      "text/plain": [
       "<IPython.core.display.HTML object>"
      ]
     },
     "metadata": {},
     "output_type": "display_data"
    },
    {
     "name": "stdout",
     "output_type": "stream",
     "text": [
      "geometry                geometry\n",
      "UID                        int64\n",
      "TNT_stratum_1522_v2      float64\n",
      "TNT_stratum_1522         float64\n",
      "TNT_stratum_2223_v3        int64\n",
      "                          ...   \n",
      "Deg2023                  float64\n",
      "interpreted_qc           float64\n",
      "Ref_Change_Type_1523      object\n",
      "Ref_Change_Year_1523      object\n",
      "Province                  object\n",
      "Length: 114, dtype: object\n"
     ]
    }
   ],
   "source": [
    "print(merged_df.dtypes)"
   ]
  },
  {
   "cell_type": "code",
   "execution_count": 85,
   "id": "924e615f-f733-4780-8c9c-623717e1d52c",
   "metadata": {},
   "outputs": [
    {
     "data": {
      "text/html": [
       "\n",
       "            <style>\n",
       "                .geemap-dark {\n",
       "                    --jp-widgets-color: white;\n",
       "                    --jp-widgets-label-color: white;\n",
       "                    --jp-ui-font-color1: white;\n",
       "                    --jp-layout-color2: #454545;\n",
       "                    background-color: #383838;\n",
       "                }\n",
       "\n",
       "                .geemap-dark .jupyter-button {\n",
       "                    --jp-layout-color3: #383838;\n",
       "                }\n",
       "\n",
       "                .geemap-colab {\n",
       "                    background-color: var(--colab-primary-surface-color, white);\n",
       "                }\n",
       "\n",
       "                .geemap-colab .jupyter-button {\n",
       "                    --jp-layout-color3: var(--colab-primary-surface-color, white);\n",
       "                }\n",
       "            </style>\n",
       "            "
      ],
      "text/plain": [
       "<IPython.core.display.HTML object>"
      ]
     },
     "metadata": {},
     "output_type": "display_data"
    },
    {
     "data": {
      "text/html": [
       "<div>\n",
       "<style scoped>\n",
       "    .dataframe tbody tr th:only-of-type {\n",
       "        vertical-align: middle;\n",
       "    }\n",
       "\n",
       "    .dataframe tbody tr th {\n",
       "        vertical-align: top;\n",
       "    }\n",
       "\n",
       "    .dataframe thead th {\n",
       "        text-align: right;\n",
       "    }\n",
       "</style>\n",
       "<table border=\"1\" class=\"dataframe\">\n",
       "  <thead>\n",
       "    <tr style=\"text-align: right;\">\n",
       "      <th>collection</th>\n",
       "      <th>coll_1522_1</th>\n",
       "      <th>coll_1522_2</th>\n",
       "      <th>coll_1522_3</th>\n",
       "      <th>coll_2023_1</th>\n",
       "      <th>coll_2023_2</th>\n",
       "      <th>coll_2023_3</th>\n",
       "      <th>coll_2023_4</th>\n",
       "      <th>coll_2023_5</th>\n",
       "      <th>coll_2023_6</th>\n",
       "      <th>Total</th>\n",
       "    </tr>\n",
       "    <tr>\n",
       "      <th>TNT_stratum_1522</th>\n",
       "      <th></th>\n",
       "      <th></th>\n",
       "      <th></th>\n",
       "      <th></th>\n",
       "      <th></th>\n",
       "      <th></th>\n",
       "      <th></th>\n",
       "      <th></th>\n",
       "      <th></th>\n",
       "      <th></th>\n",
       "    </tr>\n",
       "  </thead>\n",
       "  <tbody>\n",
       "    <tr>\n",
       "      <th>1</th>\n",
       "      <td>181</td>\n",
       "      <td>1892</td>\n",
       "      <td>934</td>\n",
       "      <td>125</td>\n",
       "      <td>318</td>\n",
       "      <td>3</td>\n",
       "      <td>28</td>\n",
       "      <td>40</td>\n",
       "      <td>52</td>\n",
       "      <td>3573</td>\n",
       "    </tr>\n",
       "    <tr>\n",
       "      <th>2</th>\n",
       "      <td>118</td>\n",
       "      <td>1421</td>\n",
       "      <td>1325</td>\n",
       "      <td>134</td>\n",
       "      <td>276</td>\n",
       "      <td>7</td>\n",
       "      <td>35</td>\n",
       "      <td>57</td>\n",
       "      <td>47</td>\n",
       "      <td>3420</td>\n",
       "    </tr>\n",
       "    <tr>\n",
       "      <th>3</th>\n",
       "      <td>107</td>\n",
       "      <td>1594</td>\n",
       "      <td>1680</td>\n",
       "      <td>128</td>\n",
       "      <td>200</td>\n",
       "      <td>3</td>\n",
       "      <td>60</td>\n",
       "      <td>79</td>\n",
       "      <td>44</td>\n",
       "      <td>3895</td>\n",
       "    </tr>\n",
       "    <tr>\n",
       "      <th>4</th>\n",
       "      <td>64</td>\n",
       "      <td>1279</td>\n",
       "      <td>1490</td>\n",
       "      <td>85</td>\n",
       "      <td>156</td>\n",
       "      <td>3</td>\n",
       "      <td>53</td>\n",
       "      <td>80</td>\n",
       "      <td>29</td>\n",
       "      <td>3239</td>\n",
       "    </tr>\n",
       "    <tr>\n",
       "      <th>5</th>\n",
       "      <td>28</td>\n",
       "      <td>492</td>\n",
       "      <td>542</td>\n",
       "      <td>26</td>\n",
       "      <td>48</td>\n",
       "      <td>NaN</td>\n",
       "      <td>23</td>\n",
       "      <td>42</td>\n",
       "      <td>10</td>\n",
       "      <td>1211</td>\n",
       "    </tr>\n",
       "    <tr>\n",
       "      <th>Total</th>\n",
       "      <td>498</td>\n",
       "      <td>6678</td>\n",
       "      <td>5971</td>\n",
       "      <td>498</td>\n",
       "      <td>998</td>\n",
       "      <td>16</td>\n",
       "      <td>199</td>\n",
       "      <td>298</td>\n",
       "      <td>182</td>\n",
       "      <td>15338</td>\n",
       "    </tr>\n",
       "  </tbody>\n",
       "</table>\n",
       "</div>"
      ],
      "text/plain": [
       "collection        coll_1522_1  coll_1522_2  coll_1522_3  coll_2023_1  \\\n",
       "TNT_stratum_1522                                                       \n",
       "1                         181         1892          934          125   \n",
       "2                         118         1421         1325          134   \n",
       "3                         107         1594         1680          128   \n",
       "4                          64         1279         1490           85   \n",
       "5                          28          492          542           26   \n",
       " Total                    498         6678         5971          498   \n",
       "\n",
       "collection        coll_2023_2  coll_2023_3  coll_2023_4  coll_2023_5  \\\n",
       "TNT_stratum_1522                                                       \n",
       "1                         318            3           28           40   \n",
       "2                         276            7           35           57   \n",
       "3                         200            3           60           79   \n",
       "4                         156            3           53           80   \n",
       "5                          48          NaN           23           42   \n",
       " Total                    998           16          199          298   \n",
       "\n",
       "collection        coll_2023_6  Total  \n",
       "TNT_stratum_1522                      \n",
       "1                          52   3573  \n",
       "2                          47   3420  \n",
       "3                          44   3895  \n",
       "4                          29   3239  \n",
       "5                          10   1211  \n",
       " Total                    182  15338  "
      ]
     },
     "execution_count": 85,
     "metadata": {},
     "output_type": "execute_result"
    }
   ],
   "source": [
    "pd.pivot_table(\n",
    "    merged_df,\n",
    "    values='UID',\n",
    "    index=['TNT_stratum_1522'],\n",
    "    columns=['collection'],\n",
    "    aggfunc=\"count\",\n",
    "    margins=True,              # Adds totals\n",
    "    margins_name='Total',      # Name of the margins/total column\n",
    "    dropna=False               # Include NaN values in the table\n",
    ")"
   ]
  },
  {
   "cell_type": "code",
   "execution_count": 86,
   "id": "3de6349c-2b9c-4988-bb9d-500c9dcf14fa",
   "metadata": {},
   "outputs": [
    {
     "data": {
      "text/html": [
       "\n",
       "            <style>\n",
       "                .geemap-dark {\n",
       "                    --jp-widgets-color: white;\n",
       "                    --jp-widgets-label-color: white;\n",
       "                    --jp-ui-font-color1: white;\n",
       "                    --jp-layout-color2: #454545;\n",
       "                    background-color: #383838;\n",
       "                }\n",
       "\n",
       "                .geemap-dark .jupyter-button {\n",
       "                    --jp-layout-color3: #383838;\n",
       "                }\n",
       "\n",
       "                .geemap-colab {\n",
       "                    background-color: var(--colab-primary-surface-color, white);\n",
       "                }\n",
       "\n",
       "                .geemap-colab .jupyter-button {\n",
       "                    --jp-layout-color3: var(--colab-primary-surface-color, white);\n",
       "                }\n",
       "            </style>\n",
       "            "
      ],
      "text/plain": [
       "<IPython.core.display.HTML object>"
      ]
     },
     "metadata": {},
     "output_type": "display_data"
    },
    {
     "data": {
      "text/html": [
       "<div>\n",
       "<style scoped>\n",
       "    .dataframe tbody tr th:only-of-type {\n",
       "        vertical-align: middle;\n",
       "    }\n",
       "\n",
       "    .dataframe tbody tr th {\n",
       "        vertical-align: top;\n",
       "    }\n",
       "\n",
       "    .dataframe thead th {\n",
       "        text-align: right;\n",
       "    }\n",
       "</style>\n",
       "<table border=\"1\" class=\"dataframe\">\n",
       "  <thead>\n",
       "    <tr style=\"text-align: right;\">\n",
       "      <th>collection</th>\n",
       "      <th>coll_1522_1</th>\n",
       "      <th>coll_1522_2</th>\n",
       "      <th>coll_1522_3</th>\n",
       "      <th>coll_2023_1</th>\n",
       "      <th>coll_2023_2</th>\n",
       "      <th>coll_2023_3</th>\n",
       "      <th>coll_2023_4</th>\n",
       "      <th>coll_2023_5</th>\n",
       "      <th>coll_2023_6</th>\n",
       "      <th>Total</th>\n",
       "    </tr>\n",
       "    <tr>\n",
       "      <th>TNT_stratum_2223</th>\n",
       "      <th></th>\n",
       "      <th></th>\n",
       "      <th></th>\n",
       "      <th></th>\n",
       "      <th></th>\n",
       "      <th></th>\n",
       "      <th></th>\n",
       "      <th></th>\n",
       "      <th></th>\n",
       "      <th></th>\n",
       "    </tr>\n",
       "  </thead>\n",
       "  <tbody>\n",
       "    <tr>\n",
       "      <th>1</th>\n",
       "      <td>252</td>\n",
       "      <td>2225</td>\n",
       "      <td>1538</td>\n",
       "      <td>155</td>\n",
       "      <td>441</td>\n",
       "      <td>10</td>\n",
       "      <td>11</td>\n",
       "      <td>14</td>\n",
       "      <td>78</td>\n",
       "      <td>4724</td>\n",
       "    </tr>\n",
       "    <tr>\n",
       "      <th>2</th>\n",
       "      <td>98</td>\n",
       "      <td>1758</td>\n",
       "      <td>1483</td>\n",
       "      <td>124</td>\n",
       "      <td>223</td>\n",
       "      <td>3</td>\n",
       "      <td>31</td>\n",
       "      <td>50</td>\n",
       "      <td>46</td>\n",
       "      <td>3816</td>\n",
       "    </tr>\n",
       "    <tr>\n",
       "      <th>3</th>\n",
       "      <td>78</td>\n",
       "      <td>1440</td>\n",
       "      <td>1504</td>\n",
       "      <td>119</td>\n",
       "      <td>156</td>\n",
       "      <td>2</td>\n",
       "      <td>33</td>\n",
       "      <td>65</td>\n",
       "      <td>32</td>\n",
       "      <td>3429</td>\n",
       "    </tr>\n",
       "    <tr>\n",
       "      <th>4</th>\n",
       "      <td>55</td>\n",
       "      <td>1021</td>\n",
       "      <td>1141</td>\n",
       "      <td>71</td>\n",
       "      <td>122</td>\n",
       "      <td>1</td>\n",
       "      <td>71</td>\n",
       "      <td>89</td>\n",
       "      <td>23</td>\n",
       "      <td>2594</td>\n",
       "    </tr>\n",
       "    <tr>\n",
       "      <th>5</th>\n",
       "      <td>15</td>\n",
       "      <td>234</td>\n",
       "      <td>305</td>\n",
       "      <td>29</td>\n",
       "      <td>56</td>\n",
       "      <td>NaN</td>\n",
       "      <td>53</td>\n",
       "      <td>80</td>\n",
       "      <td>3</td>\n",
       "      <td>775</td>\n",
       "    </tr>\n",
       "    <tr>\n",
       "      <th>Total</th>\n",
       "      <td>498</td>\n",
       "      <td>6678</td>\n",
       "      <td>5971</td>\n",
       "      <td>498</td>\n",
       "      <td>998</td>\n",
       "      <td>16</td>\n",
       "      <td>199</td>\n",
       "      <td>298</td>\n",
       "      <td>182</td>\n",
       "      <td>15338</td>\n",
       "    </tr>\n",
       "  </tbody>\n",
       "</table>\n",
       "</div>"
      ],
      "text/plain": [
       "collection        coll_1522_1  coll_1522_2  coll_1522_3  coll_2023_1  \\\n",
       "TNT_stratum_2223                                                       \n",
       "1                         252         2225         1538          155   \n",
       "2                          98         1758         1483          124   \n",
       "3                          78         1440         1504          119   \n",
       "4                          55         1021         1141           71   \n",
       "5                          15          234          305           29   \n",
       " Total                    498         6678         5971          498   \n",
       "\n",
       "collection        coll_2023_2  coll_2023_3  coll_2023_4  coll_2023_5  \\\n",
       "TNT_stratum_2223                                                       \n",
       "1                         441           10           11           14   \n",
       "2                         223            3           31           50   \n",
       "3                         156            2           33           65   \n",
       "4                         122            1           71           89   \n",
       "5                          56          NaN           53           80   \n",
       " Total                    998           16          199          298   \n",
       "\n",
       "collection        coll_2023_6  Total  \n",
       "TNT_stratum_2223                      \n",
       "1                          78   4724  \n",
       "2                          46   3816  \n",
       "3                          32   3429  \n",
       "4                          23   2594  \n",
       "5                           3    775  \n",
       " Total                    182  15338  "
      ]
     },
     "execution_count": 86,
     "metadata": {},
     "output_type": "execute_result"
    }
   ],
   "source": [
    "pd.pivot_table(\n",
    "    merged_df,\n",
    "    values='UID',\n",
    "    index=['TNT_stratum_2223'],\n",
    "    columns=['collection'],\n",
    "    aggfunc=\"count\",\n",
    "    margins=True,              # Adds totals\n",
    "    margins_name='Total',      # Name of the margins/total column\n",
    "    dropna=False               # Include NaN values in the table\n",
    ")"
   ]
  },
  {
   "cell_type": "code",
   "execution_count": 87,
   "id": "b8f2bbba-05d8-4119-b272-fb9c459e02b4",
   "metadata": {},
   "outputs": [
    {
     "data": {
      "text/html": [
       "\n",
       "            <style>\n",
       "                .geemap-dark {\n",
       "                    --jp-widgets-color: white;\n",
       "                    --jp-widgets-label-color: white;\n",
       "                    --jp-ui-font-color1: white;\n",
       "                    --jp-layout-color2: #454545;\n",
       "                    background-color: #383838;\n",
       "                }\n",
       "\n",
       "                .geemap-dark .jupyter-button {\n",
       "                    --jp-layout-color3: #383838;\n",
       "                }\n",
       "\n",
       "                .geemap-colab {\n",
       "                    background-color: var(--colab-primary-surface-color, white);\n",
       "                }\n",
       "\n",
       "                .geemap-colab .jupyter-button {\n",
       "                    --jp-layout-color3: var(--colab-primary-surface-color, white);\n",
       "                }\n",
       "            </style>\n",
       "            "
      ],
      "text/plain": [
       "<IPython.core.display.HTML object>"
      ]
     },
     "metadata": {},
     "output_type": "display_data"
    }
   ],
   "source": [
    "# Remove rows where the stratum has NaN values - outside the country\n",
    "#merged_df = merged_df.dropna(subset=['TNT_stratum_2223'])"
   ]
  },
  {
   "cell_type": "code",
   "execution_count": 88,
   "id": "7229708c-c939-4336-a373-bb5d874675ec",
   "metadata": {},
   "outputs": [
    {
     "data": {
      "text/html": [
       "\n",
       "            <style>\n",
       "                .geemap-dark {\n",
       "                    --jp-widgets-color: white;\n",
       "                    --jp-widgets-label-color: white;\n",
       "                    --jp-ui-font-color1: white;\n",
       "                    --jp-layout-color2: #454545;\n",
       "                    background-color: #383838;\n",
       "                }\n",
       "\n",
       "                .geemap-dark .jupyter-button {\n",
       "                    --jp-layout-color3: #383838;\n",
       "                }\n",
       "\n",
       "                .geemap-colab {\n",
       "                    background-color: var(--colab-primary-surface-color, white);\n",
       "                }\n",
       "\n",
       "                .geemap-colab .jupyter-button {\n",
       "                    --jp-layout-color3: var(--colab-primary-surface-color, white);\n",
       "                }\n",
       "            </style>\n",
       "            "
      ],
      "text/plain": [
       "<IPython.core.display.HTML object>"
      ]
     },
     "metadata": {},
     "output_type": "display_data"
    },
    {
     "data": {
      "text/plain": [
       "sampling\n",
       "ceo_1522    13147\n",
       "ceo_2023     2191\n",
       "Name: count, dtype: int64"
      ]
     },
     "execution_count": 88,
     "metadata": {},
     "output_type": "execute_result"
    }
   ],
   "source": [
    "merged_df['sampling'].value_counts(dropna=False)"
   ]
  },
  {
   "cell_type": "code",
   "execution_count": 89,
   "id": "965f8db3-5e67-453a-b2d4-230347dded5e",
   "metadata": {},
   "outputs": [
    {
     "data": {
      "text/html": [
       "\n",
       "            <style>\n",
       "                .geemap-dark {\n",
       "                    --jp-widgets-color: white;\n",
       "                    --jp-widgets-label-color: white;\n",
       "                    --jp-ui-font-color1: white;\n",
       "                    --jp-layout-color2: #454545;\n",
       "                    background-color: #383838;\n",
       "                }\n",
       "\n",
       "                .geemap-dark .jupyter-button {\n",
       "                    --jp-layout-color3: #383838;\n",
       "                }\n",
       "\n",
       "                .geemap-colab {\n",
       "                    background-color: var(--colab-primary-surface-color, white);\n",
       "                }\n",
       "\n",
       "                .geemap-colab .jupyter-button {\n",
       "                    --jp-layout-color3: var(--colab-primary-surface-color, white);\n",
       "                }\n",
       "            </style>\n",
       "            "
      ],
      "text/plain": [
       "<IPython.core.display.HTML object>"
      ]
     },
     "metadata": {},
     "output_type": "display_data"
    },
    {
     "name": "stdout",
     "output_type": "stream",
     "text": [
      "The lengths of merged_df and ceo are the same.\n",
      "Length of merged_df: 15338\n",
      "Length of ceo: 15338\n"
     ]
    }
   ],
   "source": [
    "# Check if the lengths of merged_df and ceo are the same\n",
    "if len(merged_df) == len(points):\n",
    "    print(\"The lengths of merged_df and ceo are the same.\")\n",
    "else:\n",
    "    print(\"The lengths of merged_df and ceo are different.\")\n",
    "\n",
    "# Optionally, you can print the lengths for clarity\n",
    "print(\"Length of merged_df:\", len(merged_df))\n",
    "print(\"Length of ceo:\", len(points))"
   ]
  },
  {
   "cell_type": "markdown",
   "id": "774e0847-82df-4a53-a798-6cffc7c74ec3",
   "metadata": {},
   "source": [
    "#### export"
   ]
  },
  {
   "cell_type": "code",
   "execution_count": 90,
   "id": "e6a8bacf-32d9-478d-af88-4421756df405",
   "metadata": {},
   "outputs": [
    {
     "data": {
      "text/html": [
       "\n",
       "            <style>\n",
       "                .geemap-dark {\n",
       "                    --jp-widgets-color: white;\n",
       "                    --jp-widgets-label-color: white;\n",
       "                    --jp-ui-font-color1: white;\n",
       "                    --jp-layout-color2: #454545;\n",
       "                    background-color: #383838;\n",
       "                }\n",
       "\n",
       "                .geemap-dark .jupyter-button {\n",
       "                    --jp-layout-color3: #383838;\n",
       "                }\n",
       "\n",
       "                .geemap-colab {\n",
       "                    background-color: var(--colab-primary-surface-color, white);\n",
       "                }\n",
       "\n",
       "                .geemap-colab .jupyter-button {\n",
       "                    --jp-layout-color3: var(--colab-primary-surface-color, white);\n",
       "                }\n",
       "            </style>\n",
       "            "
      ],
      "text/plain": [
       "<IPython.core.display.HTML object>"
      ]
     },
     "metadata": {},
     "output_type": "display_data"
    }
   ],
   "source": [
    "out_file =  '/home/sepal-user/module_results/esbae/DRC/DRC_all_ceo_2015_2022_2023_TNTstrat.csv'\n",
    "#sampled_df.to_csv(out_file,index=False)\n",
    "merged_df.to_csv(out_file,index=False)"
   ]
  },
  {
   "cell_type": "code",
   "execution_count": null,
   "id": "fab72301-1ac6-4112-a492-c8edbba56510",
   "metadata": {},
   "outputs": [],
   "source": []
  }
 ],
 "metadata": {
  "kernelspec": {
   "display_name": "Python 3",
   "language": "python",
   "name": "python3"
  },
  "language_info": {
   "codemirror_mode": {
    "name": "ipython",
    "version": 3
   },
   "file_extension": ".py",
   "mimetype": "text/x-python",
   "name": "python",
   "nbconvert_exporter": "python",
   "pygments_lexer": "ipython3",
   "version": "3.10.12"
  }
 },
 "nbformat": 4,
 "nbformat_minor": 5
}
