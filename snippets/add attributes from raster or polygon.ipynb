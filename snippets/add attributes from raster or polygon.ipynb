{
 "cells": [
  {
   "cell_type": "markdown",
   "id": "8a05d05f-8002-4018-a7cd-e6d9f4e06961",
   "metadata": {},
   "source": [
    "### with this script you can add attributes from raster or polygons to points "
   ]
  },
  {
   "cell_type": "code",
   "execution_count": 55,
   "id": "38eeff53-da64-41af-abaf-b27073551c55",
   "metadata": {
    "tags": []
   },
   "outputs": [
    {
     "data": {
      "text/html": [
       "\n",
       "            <style>\n",
       "                .geemap-dark {\n",
       "                    --jp-widgets-color: white;\n",
       "                    --jp-widgets-label-color: white;\n",
       "                    --jp-ui-font-color1: white;\n",
       "                    --jp-layout-color2: #454545;\n",
       "                    background-color: #383838;\n",
       "                }\n",
       "\n",
       "                .geemap-dark .jupyter-button {\n",
       "                    --jp-layout-color3: #383838;\n",
       "                }\n",
       "\n",
       "                .geemap-colab {\n",
       "                    background-color: var(--colab-primary-surface-color, white);\n",
       "                }\n",
       "\n",
       "                .geemap-colab .jupyter-button {\n",
       "                    --jp-layout-color3: var(--colab-primary-surface-color, white);\n",
       "                }\n",
       "            </style>\n",
       "            "
      ],
      "text/plain": [
       "<IPython.core.display.HTML object>"
      ]
     },
     "metadata": {},
     "output_type": "display_data"
    }
   ],
   "source": [
    "from pathlib import Path\n",
    "\n",
    "import numpy as np\n",
    "import pandas as pd\n",
    "import geopandas as gpd\n",
    "from matplotlib import pyplot as plt\n",
    "\n",
    "import geopandas\n",
    "import rasterio\n",
    "import matplotlib.pyplot as plt\n",
    "from shapely.geometry import Point\n",
    "\n",
    "import ee\n",
    "import geemap\n",
    "import pandas as pd"
   ]
  },
  {
   "cell_type": "code",
   "execution_count": 56,
   "id": "0b0e768b-8cd9-441e-985f-c0f2007f61da",
   "metadata": {},
   "outputs": [
    {
     "data": {
      "text/html": [
       "\n",
       "            <style>\n",
       "                .geemap-dark {\n",
       "                    --jp-widgets-color: white;\n",
       "                    --jp-widgets-label-color: white;\n",
       "                    --jp-ui-font-color1: white;\n",
       "                    --jp-layout-color2: #454545;\n",
       "                    background-color: #383838;\n",
       "                }\n",
       "\n",
       "                .geemap-dark .jupyter-button {\n",
       "                    --jp-layout-color3: #383838;\n",
       "                }\n",
       "\n",
       "                .geemap-colab {\n",
       "                    background-color: var(--colab-primary-surface-color, white);\n",
       "                }\n",
       "\n",
       "                .geemap-colab .jupyter-button {\n",
       "                    --jp-layout-color3: var(--colab-primary-surface-color, white);\n",
       "                }\n",
       "            </style>\n",
       "            "
      ],
      "text/plain": [
       "<IPython.core.display.HTML object>"
      ]
     },
     "metadata": {},
     "output_type": "display_data"
    }
   ],
   "source": [
    "# Initialize Earth Engine\n",
    "ee.Initialize()"
   ]
  },
  {
   "cell_type": "markdown",
   "id": "5b5df708-c24b-48be-90a9-fc522b5fa1a8",
   "metadata": {},
   "source": [
    "##### read points"
   ]
  },
  {
   "cell_type": "code",
   "execution_count": 57,
   "id": "ca3d705d-835a-40c2-9ecb-dfd2a6bb370a",
   "metadata": {},
   "outputs": [
    {
     "data": {
      "text/html": [
       "\n",
       "            <style>\n",
       "                .geemap-dark {\n",
       "                    --jp-widgets-color: white;\n",
       "                    --jp-widgets-label-color: white;\n",
       "                    --jp-ui-font-color1: white;\n",
       "                    --jp-layout-color2: #454545;\n",
       "                    background-color: #383838;\n",
       "                }\n",
       "\n",
       "                .geemap-dark .jupyter-button {\n",
       "                    --jp-layout-color3: #383838;\n",
       "                }\n",
       "\n",
       "                .geemap-colab {\n",
       "                    background-color: var(--colab-primary-surface-color, white);\n",
       "                }\n",
       "\n",
       "                .geemap-colab .jupyter-button {\n",
       "                    --jp-layout-color3: var(--colab-primary-surface-color, white);\n",
       "                }\n",
       "            </style>\n",
       "            "
      ],
      "text/plain": [
       "<IPython.core.display.HTML object>"
      ]
     },
     "metadata": {},
     "output_type": "display_data"
    }
   ],
   "source": [
    "#points = pd.read_csv('/home/sepal-user/module_results/esbae/DRC/DRC_all_ceo_2015_2022_2023_clean.csv', delimiter=',', low_memory=False)\n",
    "points = pd.read_csv('/home/sepal-user/module_results/esbae/GAB/GAB_all_ceo_2015_2022_2023_clean.csv', delimiter=',', low_memory=False)\n",
    "#points = pd.read_csv('/home/sepal-user/module_results/esbae/CMR/CMR_all_ceo_2015_2022_2023_clean.csv',delimiter=',', low_memory=False)\n",
    "#points = pd.read_csv('/home/sepal-user/module_results/esbae/EQG/EQG_all_ceo_2015_2022_2023_clean.csv',delimiter=',', low_memory=False)\n",
    "#points = pd.read_csv('/home/sepal-user/module_results/esbae/EQG/EQG_all_ceo_2015_2022_2023_prov.csv',delimiter=',', low_memory=False)\n",
    "#points = pd.read_csv('/home/sepal-user/module_results/esbae/CAR/CAR_all_ceo_2015_2022_2023_clean.csv',delimiter=',', low_memory=False)\n",
    "#read GEE points\n",
    "#points = ee.FeatureCollection('users/faocongo/sbae/sbae_hex16_cmr')"
   ]
  },
  {
   "cell_type": "code",
   "execution_count": 58,
   "id": "d7eaca47-7c65-45fa-bd74-d58b62a500c4",
   "metadata": {},
   "outputs": [
    {
     "data": {
      "text/html": [
       "\n",
       "            <style>\n",
       "                .geemap-dark {\n",
       "                    --jp-widgets-color: white;\n",
       "                    --jp-widgets-label-color: white;\n",
       "                    --jp-ui-font-color1: white;\n",
       "                    --jp-layout-color2: #454545;\n",
       "                    background-color: #383838;\n",
       "                }\n",
       "\n",
       "                .geemap-dark .jupyter-button {\n",
       "                    --jp-layout-color3: #383838;\n",
       "                }\n",
       "\n",
       "                .geemap-colab {\n",
       "                    background-color: var(--colab-primary-surface-color, white);\n",
       "                }\n",
       "\n",
       "                .geemap-colab .jupyter-button {\n",
       "                    --jp-layout-color3: var(--colab-primary-surface-color, white);\n",
       "                }\n",
       "            </style>\n",
       "            "
      ],
      "text/plain": [
       "<IPython.core.display.HTML object>"
      ]
     },
     "metadata": {},
     "output_type": "display_data"
    },
    {
     "data": {
      "text/plain": [
       "10329"
      ]
     },
     "execution_count": 58,
     "metadata": {},
     "output_type": "execute_result"
    }
   ],
   "source": [
    "len(points)"
   ]
  },
  {
   "cell_type": "code",
   "execution_count": 59,
   "id": "e5a7b836-d9fe-416d-82d7-76542f8e88db",
   "metadata": {},
   "outputs": [
    {
     "data": {
      "text/html": [
       "\n",
       "            <style>\n",
       "                .geemap-dark {\n",
       "                    --jp-widgets-color: white;\n",
       "                    --jp-widgets-label-color: white;\n",
       "                    --jp-ui-font-color1: white;\n",
       "                    --jp-layout-color2: #454545;\n",
       "                    background-color: #383838;\n",
       "                }\n",
       "\n",
       "                .geemap-dark .jupyter-button {\n",
       "                    --jp-layout-color3: #383838;\n",
       "                }\n",
       "\n",
       "                .geemap-colab {\n",
       "                    background-color: var(--colab-primary-surface-color, white);\n",
       "                }\n",
       "\n",
       "                .geemap-colab .jupyter-button {\n",
       "                    --jp-layout-color3: var(--colab-primary-surface-color, white);\n",
       "                }\n",
       "            </style>\n",
       "            "
      ],
      "text/plain": [
       "<IPython.core.display.HTML object>"
      ]
     },
     "metadata": {},
     "output_type": "display_data"
    },
    {
     "name": "stdout",
     "output_type": "stream",
     "text": [
      "['UID', 'ID', 'plotid', 'point_id', 'sampleid', 'lon', 'lat', 'sample_geom', 'Ref_FNF_2015', 'Ref_Regeneration', 'Ref_Change_1522', 'Ref_Change_Type_1522', 'ArtFor', 'ArtMine', 'InfraR', 'Urb', 'IndFor', 'Other', 'Other_Desc', 'IndMine', 'IndAg', 'ArtAg', 'Ref_Year_1522', 'Ref_NFtype_2015', 'Ref_Ftype_2015', 'collection', 'interpreted', 'Ref_LCover_2015', 'Ref_Change_Year_1522', 'Ref_Change_LCover_1522', 'Def2016', 'Def2017', 'Def2018', 'Def2019', 'Def2020', 'Def2021', 'Def2022', 'Deg2016', 'Deg2017', 'Deg2018', 'Deg2019', 'Deg2020', 'Deg2021', 'Deg2022', 'Defall', 'Degall', 'Stable', 'NF', 'DensFor', 'DensDryFor', 'SecFor', 'DryOpenFor', 'Mangrove', 'Swamp', 'Gallery', 'Plantation', 'Woodland', 'Shrubland', 'Grassland', 'Aquatic', 'Bare', 'Cultivated', 'Builtup', 'Water', 'DensFor_Def', 'DensDryFor_Def', 'SecFor_Def', 'DryOpenFor_Def', 'Mangrove_Def', 'Swamp_Def', 'Gallery_Def', 'Plantation_Def', 'Woodland_Def', 'DensFor_Deg', 'DensDryFor_Deg', 'SecFor_Deg', 'DryOpenFor_Deg', 'Mangrove_Deg', 'Swamp_Deg', 'Gallery_Deg', 'Plantation_Deg', 'Woodland_Deg', 'DensFor_Stable', 'DensDryFor_Stable', 'SecFor_Stable', 'DryOpenFor_Stable', 'Mangrove_Stable', 'Swamp_Stable', 'Gallery_Stable', 'Plantation_Stable', 'Woodland_Stable', 'ISO', 'sampling', 'Ref_FNF_2022', 'Ref_Change_2023', 'Ref_Change_Type_2023', 'Ref_NFtype_2022', 'Ref_Ftype_2022', 'Ref_LCover_2022', 'Ref_Change_Year_2023', 'Ref_Change_LCover_2023', 'Def2023', 'Deg2023', 'interpreted_qc', 'Ref_Change_Type_1523', 'Ref_Change_Year_1523']\n"
     ]
    }
   ],
   "source": [
    "all_columns = points.columns.tolist()\n",
    "\n",
    "# Display the list of column names\n",
    "print(all_columns)"
   ]
  },
  {
   "cell_type": "code",
   "execution_count": 60,
   "id": "42eb3e9d-a77b-4d93-9cf7-58ef5e4d1255",
   "metadata": {},
   "outputs": [
    {
     "data": {
      "text/html": [
       "\n",
       "            <style>\n",
       "                .geemap-dark {\n",
       "                    --jp-widgets-color: white;\n",
       "                    --jp-widgets-label-color: white;\n",
       "                    --jp-ui-font-color1: white;\n",
       "                    --jp-layout-color2: #454545;\n",
       "                    background-color: #383838;\n",
       "                }\n",
       "\n",
       "                .geemap-dark .jupyter-button {\n",
       "                    --jp-layout-color3: #383838;\n",
       "                }\n",
       "\n",
       "                .geemap-colab {\n",
       "                    background-color: var(--colab-primary-surface-color, white);\n",
       "                }\n",
       "\n",
       "                .geemap-colab .jupyter-button {\n",
       "                    --jp-layout-color3: var(--colab-primary-surface-color, white);\n",
       "                }\n",
       "            </style>\n",
       "            "
      ],
      "text/plain": [
       "<IPython.core.display.HTML object>"
      ]
     },
     "metadata": {},
     "output_type": "display_data"
    }
   ],
   "source": [
    "#drop any columns if needed\n",
    "#esbae = esbae.drop('index_right', axis=1)"
   ]
  },
  {
   "cell_type": "code",
   "execution_count": 61,
   "id": "604ea1cc-72aa-4e28-9d79-318cd52aa31e",
   "metadata": {},
   "outputs": [
    {
     "data": {
      "text/html": [
       "\n",
       "            <style>\n",
       "                .geemap-dark {\n",
       "                    --jp-widgets-color: white;\n",
       "                    --jp-widgets-label-color: white;\n",
       "                    --jp-ui-font-color1: white;\n",
       "                    --jp-layout-color2: #454545;\n",
       "                    background-color: #383838;\n",
       "                }\n",
       "\n",
       "                .geemap-dark .jupyter-button {\n",
       "                    --jp-layout-color3: #383838;\n",
       "                }\n",
       "\n",
       "                .geemap-colab {\n",
       "                    background-color: var(--colab-primary-surface-color, white);\n",
       "                }\n",
       "\n",
       "                .geemap-colab .jupyter-button {\n",
       "                    --jp-layout-color3: var(--colab-primary-surface-color, white);\n",
       "                }\n",
       "            </style>\n",
       "            "
      ],
      "text/plain": [
       "<IPython.core.display.HTML object>"
      ]
     },
     "metadata": {},
     "output_type": "display_data"
    }
   ],
   "source": [
    "#enter Lat and Lon columns\n",
    "LATcol = 'lat'\n",
    "LONcol = 'lon'"
   ]
  },
  {
   "cell_type": "code",
   "execution_count": 62,
   "id": "9e6af175-9df9-41d8-99f7-3a624026de50",
   "metadata": {},
   "outputs": [
    {
     "data": {
      "text/html": [
       "\n",
       "            <style>\n",
       "                .geemap-dark {\n",
       "                    --jp-widgets-color: white;\n",
       "                    --jp-widgets-label-color: white;\n",
       "                    --jp-ui-font-color1: white;\n",
       "                    --jp-layout-color2: #454545;\n",
       "                    background-color: #383838;\n",
       "                }\n",
       "\n",
       "                .geemap-dark .jupyter-button {\n",
       "                    --jp-layout-color3: #383838;\n",
       "                }\n",
       "\n",
       "                .geemap-colab {\n",
       "                    background-color: var(--colab-primary-surface-color, white);\n",
       "                }\n",
       "\n",
       "                .geemap-colab .jupyter-button {\n",
       "                    --jp-layout-color3: var(--colab-primary-surface-color, white);\n",
       "                }\n",
       "            </style>\n",
       "            "
      ],
      "text/plain": [
       "<IPython.core.display.HTML object>"
      ]
     },
     "metadata": {},
     "output_type": "display_data"
    }
   ],
   "source": [
    "gdf = geopandas.GeoDataFrame(\n",
    "    points, geometry=geopandas.points_from_xy(points[LONcol], points[LATcol]), crs=\"EPSG:4326\")"
   ]
  },
  {
   "cell_type": "markdown",
   "id": "d4775563-8d03-48f4-9766-9f6e1ad7944b",
   "metadata": {},
   "source": [
    "#### add attributes from local shapefile"
   ]
  },
  {
   "cell_type": "code",
   "execution_count": 75,
   "id": "c894e2e5-4e8f-4bc1-bcb9-74ab8fb65b81",
   "metadata": {},
   "outputs": [
    {
     "data": {
      "text/html": [
       "\n",
       "            <style>\n",
       "                .geemap-dark {\n",
       "                    --jp-widgets-color: white;\n",
       "                    --jp-widgets-label-color: white;\n",
       "                    --jp-ui-font-color1: white;\n",
       "                    --jp-layout-color2: #454545;\n",
       "                    background-color: #383838;\n",
       "                }\n",
       "\n",
       "                .geemap-dark .jupyter-button {\n",
       "                    --jp-layout-color3: #383838;\n",
       "                }\n",
       "\n",
       "                .geemap-colab {\n",
       "                    background-color: var(--colab-primary-surface-color, white);\n",
       "                }\n",
       "\n",
       "                .geemap-colab .jupyter-button {\n",
       "                    --jp-layout-color3: var(--colab-primary-surface-color, white);\n",
       "                }\n",
       "            </style>\n",
       "            "
      ],
      "text/plain": [
       "<IPython.core.display.HTML object>"
      ]
     },
     "metadata": {},
     "output_type": "display_data"
    },
    {
     "data": {
      "text/html": [
       "<div>\n",
       "<style scoped>\n",
       "    .dataframe tbody tr th:only-of-type {\n",
       "        vertical-align: middle;\n",
       "    }\n",
       "\n",
       "    .dataframe tbody tr th {\n",
       "        vertical-align: top;\n",
       "    }\n",
       "\n",
       "    .dataframe thead th {\n",
       "        text-align: right;\n",
       "    }\n",
       "</style>\n",
       "<table border=\"1\" class=\"dataframe\">\n",
       "  <thead>\n",
       "    <tr style=\"text-align: right;\">\n",
       "      <th></th>\n",
       "      <th>shapeName</th>\n",
       "      <th>shapeISO</th>\n",
       "      <th>shapeID</th>\n",
       "      <th>shapeGroup</th>\n",
       "      <th>shapeType</th>\n",
       "      <th>shapeName1</th>\n",
       "      <th>geometry</th>\n",
       "    </tr>\n",
       "  </thead>\n",
       "  <tbody>\n",
       "    <tr>\n",
       "      <th>0</th>\n",
       "      <td>Woleu-Ntem</td>\n",
       "      <td>GA-9</td>\n",
       "      <td>98808126B17543062715179</td>\n",
       "      <td>GAB</td>\n",
       "      <td>ADM1</td>\n",
       "      <td>Woleu-Ntem</td>\n",
       "      <td>POLYGON ((13.15133 1.26335, 12.85648 1.25701, ...</td>\n",
       "    </tr>\n",
       "    <tr>\n",
       "      <th>1</th>\n",
       "      <td>Estuaire</td>\n",
       "      <td>GA-1</td>\n",
       "      <td>98808126B6174087794558</td>\n",
       "      <td>GAB</td>\n",
       "      <td>ADM1</td>\n",
       "      <td>Estuaire</td>\n",
       "      <td>POLYGON ((10.4189 0.98965, 10.42187 0.82788, 1...</td>\n",
       "    </tr>\n",
       "    <tr>\n",
       "      <th>2</th>\n",
       "      <td>Moyen-Ogooué</td>\n",
       "      <td>GA-3</td>\n",
       "      <td>98808126B18014785017467</td>\n",
       "      <td>GAB</td>\n",
       "      <td>ADM1</td>\n",
       "      <td>Moyen-Ogooue</td>\n",
       "      <td>POLYGON ((10.83434 0.22485, 11.03868 0.22511, ...</td>\n",
       "    </tr>\n",
       "    <tr>\n",
       "      <th>3</th>\n",
       "      <td>Ogooué-Lolo</td>\n",
       "      <td>GA-7</td>\n",
       "      <td>98808126B26189030995048</td>\n",
       "      <td>GAB</td>\n",
       "      <td>ADM1</td>\n",
       "      <td>Ogooue-Lolo</td>\n",
       "      <td>POLYGON ((13.28884 0.0763, 13.28682 0.02301, 1...</td>\n",
       "    </tr>\n",
       "    <tr>\n",
       "      <th>4</th>\n",
       "      <td>Haut-Ogooué</td>\n",
       "      <td>GA-2</td>\n",
       "      <td>98808126B76399587683442</td>\n",
       "      <td>GAB</td>\n",
       "      <td>ADM1</td>\n",
       "      <td>Haut-Ogooue</td>\n",
       "      <td>POLYGON ((12.77941 -1.86166, 12.78632 -1.83539...</td>\n",
       "    </tr>\n",
       "  </tbody>\n",
       "</table>\n",
       "</div>"
      ],
      "text/plain": [
       "      shapeName shapeISO                  shapeID shapeGroup shapeType  \\\n",
       "0    Woleu-Ntem     GA-9  98808126B17543062715179        GAB      ADM1   \n",
       "1      Estuaire     GA-1   98808126B6174087794558        GAB      ADM1   \n",
       "2  Moyen-Ogooué     GA-3  98808126B18014785017467        GAB      ADM1   \n",
       "3   Ogooué-Lolo     GA-7  98808126B26189030995048        GAB      ADM1   \n",
       "4   Haut-Ogooué     GA-2  98808126B76399587683442        GAB      ADM1   \n",
       "\n",
       "     shapeName1                                           geometry  \n",
       "0    Woleu-Ntem  POLYGON ((13.15133 1.26335, 12.85648 1.25701, ...  \n",
       "1      Estuaire  POLYGON ((10.4189 0.98965, 10.42187 0.82788, 1...  \n",
       "2  Moyen-Ogooue  POLYGON ((10.83434 0.22485, 11.03868 0.22511, ...  \n",
       "3   Ogooue-Lolo  POLYGON ((13.28884 0.0763, 13.28682 0.02301, 1...  \n",
       "4   Haut-Ogooue  POLYGON ((12.77941 -1.86166, 12.78632 -1.83539...  "
      ]
     },
     "execution_count": 75,
     "metadata": {},
     "output_type": "execute_result"
    }
   ],
   "source": [
    "#poly = \"/home/sepal-user/data/admin/RDC_Province_26.shp\"\n",
    "#poly = \"/home/sepal-user/data/admin/RCA_adm1_itos.shp\"\n",
    "#poly = \"/home/sepal-user/data/admin/cmr_admbnda_adm1_inc_20180104.shp\"\n",
    "#poly = \"/home/sepal-user/data/admin/geoBoundaries-GNQ-ADM1.shp\"\n",
    "poly = \"/home/sepal-user/data/admin/geoBoundaries-GAB-ADM1.shp\"\n",
    "# Read file using gpd.read_file()\n",
    "poly_shp = gpd.read_file(poly)\n",
    "poly_shp.head()"
   ]
  },
  {
   "cell_type": "code",
   "execution_count": 76,
   "id": "b7207c86-4114-4735-9f70-dbb66718e553",
   "metadata": {},
   "outputs": [
    {
     "data": {
      "text/html": [
       "\n",
       "            <style>\n",
       "                .geemap-dark {\n",
       "                    --jp-widgets-color: white;\n",
       "                    --jp-widgets-label-color: white;\n",
       "                    --jp-ui-font-color1: white;\n",
       "                    --jp-layout-color2: #454545;\n",
       "                    background-color: #383838;\n",
       "                }\n",
       "\n",
       "                .geemap-dark .jupyter-button {\n",
       "                    --jp-layout-color3: #383838;\n",
       "                }\n",
       "\n",
       "                .geemap-colab {\n",
       "                    background-color: var(--colab-primary-surface-color, white);\n",
       "                }\n",
       "\n",
       "                .geemap-colab .jupyter-button {\n",
       "                    --jp-layout-color3: var(--colab-primary-surface-color, white);\n",
       "                }\n",
       "            </style>\n",
       "            "
      ],
      "text/plain": [
       "<IPython.core.display.HTML object>"
      ]
     },
     "metadata": {},
     "output_type": "display_data"
    }
   ],
   "source": [
    "#admin_name = 'ADM1_FR'\n",
    "admin_name = 'shapeName1'\n",
    "#admin_name = 'admin1Name'\n",
    "#admin_name = 'NOM'\n",
    "#new_name = 'Prefecture'\n",
    "new_name = 'Province'"
   ]
  },
  {
   "cell_type": "code",
   "execution_count": 77,
   "id": "0fbfaece-e4de-4a0a-bb36-87a1ccfabeb3",
   "metadata": {
    "tags": []
   },
   "outputs": [
    {
     "data": {
      "text/html": [
       "\n",
       "            <style>\n",
       "                .geemap-dark {\n",
       "                    --jp-widgets-color: white;\n",
       "                    --jp-widgets-label-color: white;\n",
       "                    --jp-ui-font-color1: white;\n",
       "                    --jp-layout-color2: #454545;\n",
       "                    background-color: #383838;\n",
       "                }\n",
       "\n",
       "                .geemap-dark .jupyter-button {\n",
       "                    --jp-layout-color3: #383838;\n",
       "                }\n",
       "\n",
       "                .geemap-colab {\n",
       "                    background-color: var(--colab-primary-surface-color, white);\n",
       "                }\n",
       "\n",
       "                .geemap-colab .jupyter-button {\n",
       "                    --jp-layout-color3: var(--colab-primary-surface-color, white);\n",
       "                }\n",
       "            </style>\n",
       "            "
      ],
      "text/plain": [
       "<IPython.core.display.HTML object>"
      ]
     },
     "metadata": {},
     "output_type": "display_data"
    },
    {
     "name": "stdout",
     "output_type": "stream",
     "text": [
      "Current CRS: EPSG:4326\n"
     ]
    }
   ],
   "source": [
    "poly_crs = poly_shp.crs\n",
    "print(\"Current CRS:\", poly_crs)"
   ]
  },
  {
   "cell_type": "code",
   "execution_count": 78,
   "id": "ea6181ac-3e9b-417e-b526-c9c078d961ec",
   "metadata": {},
   "outputs": [
    {
     "data": {
      "text/html": [
       "\n",
       "            <style>\n",
       "                .geemap-dark {\n",
       "                    --jp-widgets-color: white;\n",
       "                    --jp-widgets-label-color: white;\n",
       "                    --jp-ui-font-color1: white;\n",
       "                    --jp-layout-color2: #454545;\n",
       "                    background-color: #383838;\n",
       "                }\n",
       "\n",
       "                .geemap-dark .jupyter-button {\n",
       "                    --jp-layout-color3: #383838;\n",
       "                }\n",
       "\n",
       "                .geemap-colab {\n",
       "                    background-color: var(--colab-primary-surface-color, white);\n",
       "                }\n",
       "\n",
       "                .geemap-colab .jupyter-button {\n",
       "                    --jp-layout-color3: var(--colab-primary-surface-color, white);\n",
       "                }\n",
       "            </style>\n",
       "            "
      ],
      "text/plain": [
       "<IPython.core.display.HTML object>"
      ]
     },
     "metadata": {},
     "output_type": "display_data"
    }
   ],
   "source": [
    "#poly_shp = poly_shp.to_crs(gdf.crs)"
   ]
  },
  {
   "cell_type": "code",
   "execution_count": 79,
   "id": "af73eab8-aa50-4387-bcd4-98f9e98b4258",
   "metadata": {},
   "outputs": [
    {
     "data": {
      "text/html": [
       "\n",
       "            <style>\n",
       "                .geemap-dark {\n",
       "                    --jp-widgets-color: white;\n",
       "                    --jp-widgets-label-color: white;\n",
       "                    --jp-ui-font-color1: white;\n",
       "                    --jp-layout-color2: #454545;\n",
       "                    background-color: #383838;\n",
       "                }\n",
       "\n",
       "                .geemap-dark .jupyter-button {\n",
       "                    --jp-layout-color3: #383838;\n",
       "                }\n",
       "\n",
       "                .geemap-colab {\n",
       "                    background-color: var(--colab-primary-surface-color, white);\n",
       "                }\n",
       "\n",
       "                .geemap-colab .jupyter-button {\n",
       "                    --jp-layout-color3: var(--colab-primary-surface-color, white);\n",
       "                }\n",
       "            </style>\n",
       "            "
      ],
      "text/plain": [
       "<IPython.core.display.HTML object>"
      ]
     },
     "metadata": {},
     "output_type": "display_data"
    },
    {
     "data": {
      "text/html": [
       "<div>\n",
       "<style scoped>\n",
       "    .dataframe tbody tr th:only-of-type {\n",
       "        vertical-align: middle;\n",
       "    }\n",
       "\n",
       "    .dataframe tbody tr th {\n",
       "        vertical-align: top;\n",
       "    }\n",
       "\n",
       "    .dataframe thead th {\n",
       "        text-align: right;\n",
       "    }\n",
       "</style>\n",
       "<table border=\"1\" class=\"dataframe\">\n",
       "  <thead>\n",
       "    <tr style=\"text-align: right;\">\n",
       "      <th></th>\n",
       "      <th>UID</th>\n",
       "      <th>ID</th>\n",
       "      <th>plotid</th>\n",
       "      <th>point_id</th>\n",
       "      <th>sampleid</th>\n",
       "      <th>lon</th>\n",
       "      <th>lat</th>\n",
       "      <th>sample_geom</th>\n",
       "      <th>Ref_FNF_2015</th>\n",
       "      <th>Ref_Regeneration</th>\n",
       "      <th>...</th>\n",
       "      <th>Ref_LCover_2022</th>\n",
       "      <th>Ref_Change_Year_2023</th>\n",
       "      <th>Ref_Change_LCover_2023</th>\n",
       "      <th>Def2023</th>\n",
       "      <th>Deg2023</th>\n",
       "      <th>interpreted_qc</th>\n",
       "      <th>Ref_Change_Type_1523</th>\n",
       "      <th>Ref_Change_Year_1523</th>\n",
       "      <th>geometry</th>\n",
       "      <th>shapeName1</th>\n",
       "    </tr>\n",
       "  </thead>\n",
       "  <tbody>\n",
       "    <tr>\n",
       "      <th>1</th>\n",
       "      <td>1</td>\n",
       "      <td>1</td>\n",
       "      <td>187092</td>\n",
       "      <td>187092</td>\n",
       "      <td>187092</td>\n",
       "      <td>14</td>\n",
       "      <td>1</td>\n",
       "      <td>POINT(13.994761 0.869878)</td>\n",
       "      <td>1</td>\n",
       "      <td>NaN</td>\n",
       "      <td>...</td>\n",
       "      <td>NaN</td>\n",
       "      <td>NaN</td>\n",
       "      <td>NaN</td>\n",
       "      <td>NaN</td>\n",
       "      <td>NaN</td>\n",
       "      <td>NaN</td>\n",
       "      <td>Stable</td>\n",
       "      <td>Stable</td>\n",
       "      <td>POINT (1557889.668 96189.875)</td>\n",
       "      <td>Ogooue-Ivindo</td>\n",
       "    </tr>\n",
       "    <tr>\n",
       "      <th>2</th>\n",
       "      <td>2</td>\n",
       "      <td>2</td>\n",
       "      <td>185303</td>\n",
       "      <td>185303</td>\n",
       "      <td>185303</td>\n",
       "      <td>13</td>\n",
       "      <td>-0</td>\n",
       "      <td>POINT(13.254088 -0.492938)</td>\n",
       "      <td>1</td>\n",
       "      <td>NaN</td>\n",
       "      <td>...</td>\n",
       "      <td>NaN</td>\n",
       "      <td>NaN</td>\n",
       "      <td>NaN</td>\n",
       "      <td>NaN</td>\n",
       "      <td>NaN</td>\n",
       "      <td>NaN</td>\n",
       "      <td>Stable</td>\n",
       "      <td>Stable</td>\n",
       "      <td>POINT (1475438.327 -54506.944)</td>\n",
       "      <td>Ogooue-Lolo</td>\n",
       "    </tr>\n",
       "    <tr>\n",
       "      <th>3</th>\n",
       "      <td>3</td>\n",
       "      <td>3</td>\n",
       "      <td>185899</td>\n",
       "      <td>185899</td>\n",
       "      <td>185899</td>\n",
       "      <td>14</td>\n",
       "      <td>1</td>\n",
       "      <td>POINT(14.175518 1.275546)</td>\n",
       "      <td>1</td>\n",
       "      <td>NaN</td>\n",
       "      <td>...</td>\n",
       "      <td>NaN</td>\n",
       "      <td>NaN</td>\n",
       "      <td>NaN</td>\n",
       "      <td>NaN</td>\n",
       "      <td>NaN</td>\n",
       "      <td>NaN</td>\n",
       "      <td>Stable</td>\n",
       "      <td>Stable</td>\n",
       "      <td>POINT (1578011.445 141054.383)</td>\n",
       "      <td>Ogooue-Ivindo</td>\n",
       "    </tr>\n",
       "    <tr>\n",
       "      <th>4</th>\n",
       "      <td>4</td>\n",
       "      <td>4</td>\n",
       "      <td>161928</td>\n",
       "      <td>161928</td>\n",
       "      <td>161928</td>\n",
       "      <td>12</td>\n",
       "      <td>-1</td>\n",
       "      <td>POINT(12.303429 -1.380904)</td>\n",
       "      <td>1</td>\n",
       "      <td>NaN</td>\n",
       "      <td>...</td>\n",
       "      <td>NaN</td>\n",
       "      <td>NaN</td>\n",
       "      <td>NaN</td>\n",
       "      <td>NaN</td>\n",
       "      <td>NaN</td>\n",
       "      <td>NaN</td>\n",
       "      <td>Stable</td>\n",
       "      <td>Stable</td>\n",
       "      <td>POINT (1369611.451 -152707.442)</td>\n",
       "      <td>Ogooue-Lolo</td>\n",
       "    </tr>\n",
       "    <tr>\n",
       "      <th>5</th>\n",
       "      <td>5</td>\n",
       "      <td>5</td>\n",
       "      <td>173884</td>\n",
       "      <td>173884</td>\n",
       "      <td>173884</td>\n",
       "      <td>13</td>\n",
       "      <td>-1</td>\n",
       "      <td>POINT(12.853122 -0.772983)</td>\n",
       "      <td>1</td>\n",
       "      <td>NaN</td>\n",
       "      <td>...</td>\n",
       "      <td>NaN</td>\n",
       "      <td>NaN</td>\n",
       "      <td>NaN</td>\n",
       "      <td>NaN</td>\n",
       "      <td>NaN</td>\n",
       "      <td>NaN</td>\n",
       "      <td>Stable</td>\n",
       "      <td>Stable</td>\n",
       "      <td>POINT (1430802.996 -85474.663)</td>\n",
       "      <td>Ogooue-Lolo</td>\n",
       "    </tr>\n",
       "  </tbody>\n",
       "</table>\n",
       "<p>5 rows × 108 columns</p>\n",
       "</div>"
      ],
      "text/plain": [
       "   UID  ID  plotid  point_id  sampleid  lon  lat                 sample_geom  \\\n",
       "1    1   1  187092    187092    187092   14    1   POINT(13.994761 0.869878)   \n",
       "2    2   2  185303    185303    185303   13   -0  POINT(13.254088 -0.492938)   \n",
       "3    3   3  185899    185899    185899   14    1   POINT(14.175518 1.275546)   \n",
       "4    4   4  161928    161928    161928   12   -1  POINT(12.303429 -1.380904)   \n",
       "5    5   5  173884    173884    173884   13   -1  POINT(12.853122 -0.772983)   \n",
       "\n",
       "   Ref_FNF_2015 Ref_Regeneration  ...  Ref_LCover_2022 Ref_Change_Year_2023  \\\n",
       "1             1              NaN  ...              NaN                  NaN   \n",
       "2             1              NaN  ...              NaN                  NaN   \n",
       "3             1              NaN  ...              NaN                  NaN   \n",
       "4             1              NaN  ...              NaN                  NaN   \n",
       "5             1              NaN  ...              NaN                  NaN   \n",
       "\n",
       "   Ref_Change_LCover_2023  Def2023  Deg2023  interpreted_qc  \\\n",
       "1                     NaN      NaN      NaN             NaN   \n",
       "2                     NaN      NaN      NaN             NaN   \n",
       "3                     NaN      NaN      NaN             NaN   \n",
       "4                     NaN      NaN      NaN             NaN   \n",
       "5                     NaN      NaN      NaN             NaN   \n",
       "\n",
       "   Ref_Change_Type_1523  Ref_Change_Year_1523  \\\n",
       "1                Stable                Stable   \n",
       "2                Stable                Stable   \n",
       "3                Stable                Stable   \n",
       "4                Stable                Stable   \n",
       "5                Stable                Stable   \n",
       "\n",
       "                          geometry     shapeName1  \n",
       "1    POINT (1557889.668 96189.875)  Ogooue-Ivindo  \n",
       "2   POINT (1475438.327 -54506.944)    Ogooue-Lolo  \n",
       "3   POINT (1578011.445 141054.383)  Ogooue-Ivindo  \n",
       "4  POINT (1369611.451 -152707.442)    Ogooue-Lolo  \n",
       "5   POINT (1430802.996 -85474.663)    Ogooue-Lolo  \n",
       "\n",
       "[5 rows x 108 columns]"
      ]
     },
     "execution_count": 79,
     "metadata": {},
     "output_type": "execute_result"
    }
   ],
   "source": [
    "# Reproject both GeoDataFrames to the same projected CRS (e.g., EPSG:3395 for World Mercator)\n",
    "gdf = gdf.to_crs(\"EPSG:3395\")\n",
    "poly_shp = poly_shp.to_crs(\"EPSG:3395\")\n",
    "\n",
    "# Step 1: Perform the spatial join for intersecting points\n",
    "joined_data_intersecting = gpd.sjoin(gdf, poly_shp[[admin_name, 'geometry']], how=\"left\", predicate=\"within\", lsuffix='left', rsuffix='right')\n",
    "\n",
    "# Drop the 'index_right' column if it exists, to avoid conflicts\n",
    "if 'index_right' in joined_data_intersecting.columns:\n",
    "    joined_data_intersecting = joined_data_intersecting.drop(columns='index_right')\n",
    "\n",
    "# Step 2: Identify points without an intersection (NaN values in the Admin_Name column)\n",
    "no_intersection_points = joined_data_intersecting[joined_data_intersecting[admin_name].isna()]\n",
    "\n",
    "# Step 3: Perform the nearest spatial join for points without an intersection\n",
    "nearest_join = gpd.sjoin_nearest(no_intersection_points.drop(columns=admin_name), poly_shp[[admin_name, 'geometry']], how=\"left\", distance_col=\"distance_to_polygon\")\n",
    "\n",
    "# Drop the 'index_right' column if it exists in the nearest join result\n",
    "if 'index_right' in nearest_join.columns:\n",
    "    nearest_join = nearest_join.drop(columns='index_right')\n",
    "\n",
    "# Step 4: Combine intersecting and nearest joined data into one GeoDataFrame\n",
    "# Retain only the specified `admin_name` column from `poly_shp`\n",
    "joined_data_combined = pd.concat([\n",
    "    joined_data_intersecting.dropna(subset=[admin_name]),\n",
    "    nearest_join\n",
    "])\n",
    "\n",
    "# Select only the columns from `gdf` plus `admin_name`\n",
    "columns_to_keep = list(gdf.columns) + [admin_name]\n",
    "joined_data = joined_data_combined[columns_to_keep]\n",
    "\n",
    "# Display the resulting GeoDataFrame\n",
    "joined_data.head()"
   ]
  },
  {
   "cell_type": "code",
   "execution_count": 80,
   "id": "85cdb823-64fe-473f-9e28-108093caf783",
   "metadata": {},
   "outputs": [
    {
     "data": {
      "text/html": [
       "\n",
       "            <style>\n",
       "                .geemap-dark {\n",
       "                    --jp-widgets-color: white;\n",
       "                    --jp-widgets-label-color: white;\n",
       "                    --jp-ui-font-color1: white;\n",
       "                    --jp-layout-color2: #454545;\n",
       "                    background-color: #383838;\n",
       "                }\n",
       "\n",
       "                .geemap-dark .jupyter-button {\n",
       "                    --jp-layout-color3: #383838;\n",
       "                }\n",
       "\n",
       "                .geemap-colab {\n",
       "                    background-color: var(--colab-primary-surface-color, white);\n",
       "                }\n",
       "\n",
       "                .geemap-colab .jupyter-button {\n",
       "                    --jp-layout-color3: var(--colab-primary-surface-color, white);\n",
       "                }\n",
       "            </style>\n",
       "            "
      ],
      "text/plain": [
       "<IPython.core.display.HTML object>"
      ]
     },
     "metadata": {},
     "output_type": "display_data"
    },
    {
     "data": {
      "text/html": [
       "<div>\n",
       "<style scoped>\n",
       "    .dataframe tbody tr th:only-of-type {\n",
       "        vertical-align: middle;\n",
       "    }\n",
       "\n",
       "    .dataframe tbody tr th {\n",
       "        vertical-align: top;\n",
       "    }\n",
       "\n",
       "    .dataframe thead th {\n",
       "        text-align: right;\n",
       "    }\n",
       "</style>\n",
       "<table border=\"1\" class=\"dataframe\">\n",
       "  <thead>\n",
       "    <tr style=\"text-align: right;\">\n",
       "      <th></th>\n",
       "      <th>UID</th>\n",
       "      <th>ID</th>\n",
       "      <th>plotid</th>\n",
       "      <th>point_id</th>\n",
       "      <th>sampleid</th>\n",
       "      <th>lon</th>\n",
       "      <th>lat</th>\n",
       "      <th>sample_geom</th>\n",
       "      <th>Ref_FNF_2015</th>\n",
       "      <th>Ref_Regeneration</th>\n",
       "      <th>...</th>\n",
       "      <th>Ref_Change_Year_2023</th>\n",
       "      <th>Ref_Change_LCover_2023</th>\n",
       "      <th>Def2023</th>\n",
       "      <th>Deg2023</th>\n",
       "      <th>interpreted_qc</th>\n",
       "      <th>Ref_Change_Type_1523</th>\n",
       "      <th>Ref_Change_Year_1523</th>\n",
       "      <th>geometry</th>\n",
       "      <th>shapeName1</th>\n",
       "      <th>distance_to_polygon</th>\n",
       "    </tr>\n",
       "  </thead>\n",
       "  <tbody>\n",
       "    <tr>\n",
       "      <th>0</th>\n",
       "      <td>0</td>\n",
       "      <td>0</td>\n",
       "      <td>157</td>\n",
       "      <td>157</td>\n",
       "      <td>157</td>\n",
       "      <td>10</td>\n",
       "      <td>1</td>\n",
       "      <td>POINT(9.56202 0.937144)</td>\n",
       "      <td>1</td>\n",
       "      <td>NaN</td>\n",
       "      <td>...</td>\n",
       "      <td>NaN</td>\n",
       "      <td>NaN</td>\n",
       "      <td>NaN</td>\n",
       "      <td>NaN</td>\n",
       "      <td>NaN</td>\n",
       "      <td>Stable</td>\n",
       "      <td>Stable</td>\n",
       "      <td>POINT (1064439.197 103628.702)</td>\n",
       "      <td>Estuaire</td>\n",
       "      <td>965</td>\n",
       "    </tr>\n",
       "    <tr>\n",
       "      <th>120</th>\n",
       "      <td>120</td>\n",
       "      <td>120</td>\n",
       "      <td>157707</td>\n",
       "      <td>157707</td>\n",
       "      <td>157707</td>\n",
       "      <td>12</td>\n",
       "      <td>-2</td>\n",
       "      <td>POINT(11.698154 -2.402482)</td>\n",
       "      <td>1</td>\n",
       "      <td>NaN</td>\n",
       "      <td>...</td>\n",
       "      <td>NaN</td>\n",
       "      <td>NaN</td>\n",
       "      <td>NaN</td>\n",
       "      <td>NaN</td>\n",
       "      <td>NaN</td>\n",
       "      <td>Stable</td>\n",
       "      <td>Stable</td>\n",
       "      <td>POINT (1302232.547 -265731.63)</td>\n",
       "      <td>Ngounie</td>\n",
       "      <td>4153</td>\n",
       "    </tr>\n",
       "    <tr>\n",
       "      <th>122</th>\n",
       "      <td>122</td>\n",
       "      <td>122</td>\n",
       "      <td>156677</td>\n",
       "      <td>156677</td>\n",
       "      <td>156677</td>\n",
       "      <td>12</td>\n",
       "      <td>-2</td>\n",
       "      <td>POINT(11.663324 -2.431369)</td>\n",
       "      <td>1</td>\n",
       "      <td>NaN</td>\n",
       "      <td>...</td>\n",
       "      <td>NaN</td>\n",
       "      <td>NaN</td>\n",
       "      <td>NaN</td>\n",
       "      <td>NaN</td>\n",
       "      <td>NaN</td>\n",
       "      <td>Stable</td>\n",
       "      <td>Stable</td>\n",
       "      <td>POINT (1298355.289 -268928.672)</td>\n",
       "      <td>Ngounie</td>\n",
       "      <td>9155</td>\n",
       "    </tr>\n",
       "    <tr>\n",
       "      <th>270</th>\n",
       "      <td>270</td>\n",
       "      <td>270</td>\n",
       "      <td>225142</td>\n",
       "      <td>225142</td>\n",
       "      <td>225142</td>\n",
       "      <td>14</td>\n",
       "      <td>-2</td>\n",
       "      <td>POINT(14.417681 -1.912686)</td>\n",
       "      <td>1</td>\n",
       "      <td>NaN</td>\n",
       "      <td>...</td>\n",
       "      <td>NaN</td>\n",
       "      <td>NaN</td>\n",
       "      <td>NaN</td>\n",
       "      <td>NaN</td>\n",
       "      <td>NaN</td>\n",
       "      <td>Stable</td>\n",
       "      <td>Stable</td>\n",
       "      <td>POINT (1604968.907 -211533.688)</td>\n",
       "      <td>Haut-Ogooue</td>\n",
       "      <td>3765</td>\n",
       "    </tr>\n",
       "    <tr>\n",
       "      <th>285</th>\n",
       "      <td>285</td>\n",
       "      <td>285</td>\n",
       "      <td>65607</td>\n",
       "      <td>65607</td>\n",
       "      <td>65607</td>\n",
       "      <td>10</td>\n",
       "      <td>-3</td>\n",
       "      <td>POINT(9.845223 -2.614749)</td>\n",
       "      <td>1</td>\n",
       "      <td>NaN</td>\n",
       "      <td>...</td>\n",
       "      <td>NaN</td>\n",
       "      <td>NaN</td>\n",
       "      <td>NaN</td>\n",
       "      <td>NaN</td>\n",
       "      <td>NaN</td>\n",
       "      <td>Stable</td>\n",
       "      <td>Stable</td>\n",
       "      <td>POINT (1095965.211 -289225.73)</td>\n",
       "      <td>Ogooue-Maritime</td>\n",
       "      <td>2494</td>\n",
       "    </tr>\n",
       "  </tbody>\n",
       "</table>\n",
       "<p>5 rows × 109 columns</p>\n",
       "</div>"
      ],
      "text/plain": [
       "     UID   ID  plotid  point_id  sampleid  lon  lat  \\\n",
       "0      0    0     157       157       157   10    1   \n",
       "120  120  120  157707    157707    157707   12   -2   \n",
       "122  122  122  156677    156677    156677   12   -2   \n",
       "270  270  270  225142    225142    225142   14   -2   \n",
       "285  285  285   65607     65607     65607   10   -3   \n",
       "\n",
       "                    sample_geom  Ref_FNF_2015 Ref_Regeneration  ...  \\\n",
       "0       POINT(9.56202 0.937144)             1              NaN  ...   \n",
       "120  POINT(11.698154 -2.402482)             1              NaN  ...   \n",
       "122  POINT(11.663324 -2.431369)             1              NaN  ...   \n",
       "270  POINT(14.417681 -1.912686)             1              NaN  ...   \n",
       "285   POINT(9.845223 -2.614749)             1              NaN  ...   \n",
       "\n",
       "     Ref_Change_Year_2023 Ref_Change_LCover_2023  Def2023  Deg2023  \\\n",
       "0                     NaN                    NaN      NaN      NaN   \n",
       "120                   NaN                    NaN      NaN      NaN   \n",
       "122                   NaN                    NaN      NaN      NaN   \n",
       "270                   NaN                    NaN      NaN      NaN   \n",
       "285                   NaN                    NaN      NaN      NaN   \n",
       "\n",
       "     interpreted_qc  Ref_Change_Type_1523  Ref_Change_Year_1523  \\\n",
       "0               NaN                Stable                Stable   \n",
       "120             NaN                Stable                Stable   \n",
       "122             NaN                Stable                Stable   \n",
       "270             NaN                Stable                Stable   \n",
       "285             NaN                Stable                Stable   \n",
       "\n",
       "                            geometry       shapeName1  distance_to_polygon  \n",
       "0     POINT (1064439.197 103628.702)         Estuaire                  965  \n",
       "120   POINT (1302232.547 -265731.63)          Ngounie                 4153  \n",
       "122  POINT (1298355.289 -268928.672)          Ngounie                 9155  \n",
       "270  POINT (1604968.907 -211533.688)      Haut-Ogooue                 3765  \n",
       "285   POINT (1095965.211 -289225.73)  Ogooue-Maritime                 2494  \n",
       "\n",
       "[5 rows x 109 columns]"
      ]
     },
     "execution_count": 80,
     "metadata": {},
     "output_type": "execute_result"
    }
   ],
   "source": [
    "nearest_join.head()"
   ]
  },
  {
   "cell_type": "code",
   "execution_count": 81,
   "id": "a875550a-f3a6-4eb4-a0f2-ed559d2a99bc",
   "metadata": {},
   "outputs": [
    {
     "data": {
      "text/html": [
       "\n",
       "            <style>\n",
       "                .geemap-dark {\n",
       "                    --jp-widgets-color: white;\n",
       "                    --jp-widgets-label-color: white;\n",
       "                    --jp-ui-font-color1: white;\n",
       "                    --jp-layout-color2: #454545;\n",
       "                    background-color: #383838;\n",
       "                }\n",
       "\n",
       "                .geemap-dark .jupyter-button {\n",
       "                    --jp-layout-color3: #383838;\n",
       "                }\n",
       "\n",
       "                .geemap-colab {\n",
       "                    background-color: var(--colab-primary-surface-color, white);\n",
       "                }\n",
       "\n",
       "                .geemap-colab .jupyter-button {\n",
       "                    --jp-layout-color3: var(--colab-primary-surface-color, white);\n",
       "                }\n",
       "            </style>\n",
       "            "
      ],
      "text/plain": [
       "<IPython.core.display.HTML object>"
      ]
     },
     "metadata": {},
     "output_type": "display_data"
    }
   ],
   "source": [
    "# Perform the spatial join using the predicate parameter\n",
    "#joined_data = gpd.sjoin(gdf, poly_shp, how=\"left\", predicate=\"within\", lsuffix='left', rsuffix='right')\n",
    "# 'joined_data' now contains the points with additional information from the polygons\n",
    "# Print or explore the resulting GeoDataFrame\n",
    "#joined_data.head()"
   ]
  },
  {
   "cell_type": "code",
   "execution_count": 82,
   "id": "ab5b81c8-0a86-44c5-a882-075c7b75754f",
   "metadata": {},
   "outputs": [
    {
     "data": {
      "text/html": [
       "\n",
       "            <style>\n",
       "                .geemap-dark {\n",
       "                    --jp-widgets-color: white;\n",
       "                    --jp-widgets-label-color: white;\n",
       "                    --jp-ui-font-color1: white;\n",
       "                    --jp-layout-color2: #454545;\n",
       "                    background-color: #383838;\n",
       "                }\n",
       "\n",
       "                .geemap-dark .jupyter-button {\n",
       "                    --jp-layout-color3: #383838;\n",
       "                }\n",
       "\n",
       "                .geemap-colab {\n",
       "                    background-color: var(--colab-primary-surface-color, white);\n",
       "                }\n",
       "\n",
       "                .geemap-colab .jupyter-button {\n",
       "                    --jp-layout-color3: var(--colab-primary-surface-color, white);\n",
       "                }\n",
       "            </style>\n",
       "            "
      ],
      "text/plain": [
       "<IPython.core.display.HTML object>"
      ]
     },
     "metadata": {},
     "output_type": "display_data"
    },
    {
     "data": {
      "text/plain": [
       "shapeName1\n",
       "Haut-Ogooue        1816\n",
       "Ngounie            1510\n",
       "Ogooue-Ivindo      1275\n",
       "Ogooue-Maritime    1128\n",
       "Woleu-Ntem         1084\n",
       "Nyanga             1022\n",
       "Estuaire            897\n",
       "Moyen-Ogooue        810\n",
       "Ogooue-Lolo         787\n",
       "Name: count, dtype: int64"
      ]
     },
     "execution_count": 82,
     "metadata": {},
     "output_type": "execute_result"
    }
   ],
   "source": [
    "joined_data[admin_name].value_counts(dropna=False)"
   ]
  },
  {
   "cell_type": "code",
   "execution_count": 83,
   "id": "063a30ca-f7a9-4b6f-929d-79079c6b6984",
   "metadata": {},
   "outputs": [
    {
     "data": {
      "text/html": [
       "\n",
       "            <style>\n",
       "                .geemap-dark {\n",
       "                    --jp-widgets-color: white;\n",
       "                    --jp-widgets-label-color: white;\n",
       "                    --jp-ui-font-color1: white;\n",
       "                    --jp-layout-color2: #454545;\n",
       "                    background-color: #383838;\n",
       "                }\n",
       "\n",
       "                .geemap-dark .jupyter-button {\n",
       "                    --jp-layout-color3: #383838;\n",
       "                }\n",
       "\n",
       "                .geemap-colab {\n",
       "                    background-color: var(--colab-primary-surface-color, white);\n",
       "                }\n",
       "\n",
       "                .geemap-colab .jupyter-button {\n",
       "                    --jp-layout-color3: var(--colab-primary-surface-color, white);\n",
       "                }\n",
       "            </style>\n",
       "            "
      ],
      "text/plain": [
       "<IPython.core.display.HTML object>"
      ]
     },
     "metadata": {},
     "output_type": "display_data"
    },
    {
     "data": {
      "text/html": [
       "<div>\n",
       "<style scoped>\n",
       "    .dataframe tbody tr th:only-of-type {\n",
       "        vertical-align: middle;\n",
       "    }\n",
       "\n",
       "    .dataframe tbody tr th {\n",
       "        vertical-align: top;\n",
       "    }\n",
       "\n",
       "    .dataframe thead th {\n",
       "        text-align: right;\n",
       "    }\n",
       "</style>\n",
       "<table border=\"1\" class=\"dataframe\">\n",
       "  <thead>\n",
       "    <tr style=\"text-align: right;\">\n",
       "      <th>collection</th>\n",
       "      <th>coll_1522_1</th>\n",
       "      <th>coll_1522_2</th>\n",
       "      <th>coll_1522_3</th>\n",
       "      <th>coll_1522_4</th>\n",
       "      <th>coll_1522_5</th>\n",
       "      <th>coll_2023_1</th>\n",
       "      <th>coll_2023_2</th>\n",
       "      <th>coll_2023_3</th>\n",
       "      <th>Total</th>\n",
       "    </tr>\n",
       "    <tr>\n",
       "      <th>shapeName1</th>\n",
       "      <th></th>\n",
       "      <th></th>\n",
       "      <th></th>\n",
       "      <th></th>\n",
       "      <th></th>\n",
       "      <th></th>\n",
       "      <th></th>\n",
       "      <th></th>\n",
       "      <th></th>\n",
       "    </tr>\n",
       "  </thead>\n",
       "  <tbody>\n",
       "    <tr>\n",
       "      <th>Estuaire</th>\n",
       "      <td>41</td>\n",
       "      <td>282</td>\n",
       "      <td>228</td>\n",
       "      <td>NaN</td>\n",
       "      <td>164</td>\n",
       "      <td>50</td>\n",
       "      <td>84</td>\n",
       "      <td>48</td>\n",
       "      <td>897</td>\n",
       "    </tr>\n",
       "    <tr>\n",
       "      <th>Haut-Ogooue</th>\n",
       "      <td>62</td>\n",
       "      <td>707</td>\n",
       "      <td>NaN</td>\n",
       "      <td>3</td>\n",
       "      <td>634</td>\n",
       "      <td>67</td>\n",
       "      <td>170</td>\n",
       "      <td>173</td>\n",
       "      <td>1816</td>\n",
       "    </tr>\n",
       "    <tr>\n",
       "      <th>Moyen-Ogooue</th>\n",
       "      <td>41</td>\n",
       "      <td>249</td>\n",
       "      <td>3</td>\n",
       "      <td>2</td>\n",
       "      <td>354</td>\n",
       "      <td>45</td>\n",
       "      <td>88</td>\n",
       "      <td>28</td>\n",
       "      <td>810</td>\n",
       "    </tr>\n",
       "    <tr>\n",
       "      <th>Ngounie</th>\n",
       "      <td>66</td>\n",
       "      <td>510</td>\n",
       "      <td>NaN</td>\n",
       "      <td>7</td>\n",
       "      <td>654</td>\n",
       "      <td>69</td>\n",
       "      <td>155</td>\n",
       "      <td>49</td>\n",
       "      <td>1510</td>\n",
       "    </tr>\n",
       "    <tr>\n",
       "      <th>Nyanga</th>\n",
       "      <td>45</td>\n",
       "      <td>360</td>\n",
       "      <td>NaN</td>\n",
       "      <td>NaN</td>\n",
       "      <td>340</td>\n",
       "      <td>53</td>\n",
       "      <td>138</td>\n",
       "      <td>86</td>\n",
       "      <td>1022</td>\n",
       "    </tr>\n",
       "    <tr>\n",
       "      <th>Ogooue-Ivindo</th>\n",
       "      <td>80</td>\n",
       "      <td>400</td>\n",
       "      <td>NaN</td>\n",
       "      <td>10</td>\n",
       "      <td>595</td>\n",
       "      <td>72</td>\n",
       "      <td>81</td>\n",
       "      <td>37</td>\n",
       "      <td>1275</td>\n",
       "    </tr>\n",
       "    <tr>\n",
       "      <th>Ogooue-Lolo</th>\n",
       "      <td>58</td>\n",
       "      <td>262</td>\n",
       "      <td>NaN</td>\n",
       "      <td>8</td>\n",
       "      <td>378</td>\n",
       "      <td>40</td>\n",
       "      <td>28</td>\n",
       "      <td>13</td>\n",
       "      <td>787</td>\n",
       "    </tr>\n",
       "    <tr>\n",
       "      <th>Ogooue-Maritime</th>\n",
       "      <td>38</td>\n",
       "      <td>412</td>\n",
       "      <td>118</td>\n",
       "      <td>4</td>\n",
       "      <td>338</td>\n",
       "      <td>47</td>\n",
       "      <td>121</td>\n",
       "      <td>50</td>\n",
       "      <td>1128</td>\n",
       "    </tr>\n",
       "    <tr>\n",
       "      <th>Woleu-Ntem</th>\n",
       "      <td>68</td>\n",
       "      <td>342</td>\n",
       "      <td>NaN</td>\n",
       "      <td>11</td>\n",
       "      <td>513</td>\n",
       "      <td>54</td>\n",
       "      <td>68</td>\n",
       "      <td>28</td>\n",
       "      <td>1084</td>\n",
       "    </tr>\n",
       "    <tr>\n",
       "      <th>Total</th>\n",
       "      <td>499</td>\n",
       "      <td>3524</td>\n",
       "      <td>349</td>\n",
       "      <td>45</td>\n",
       "      <td>3970</td>\n",
       "      <td>497</td>\n",
       "      <td>933</td>\n",
       "      <td>512</td>\n",
       "      <td>10329</td>\n",
       "    </tr>\n",
       "  </tbody>\n",
       "</table>\n",
       "</div>"
      ],
      "text/plain": [
       "collection       coll_1522_1  coll_1522_2  coll_1522_3  coll_1522_4  \\\n",
       "shapeName1                                                            \n",
       "Estuaire                  41          282          228          NaN   \n",
       "Haut-Ogooue               62          707          NaN            3   \n",
       "Moyen-Ogooue              41          249            3            2   \n",
       "Ngounie                   66          510          NaN            7   \n",
       "Nyanga                    45          360          NaN          NaN   \n",
       "Ogooue-Ivindo             80          400          NaN           10   \n",
       "Ogooue-Lolo               58          262          NaN            8   \n",
       "Ogooue-Maritime           38          412          118            4   \n",
       "Woleu-Ntem                68          342          NaN           11   \n",
       "Total                    499         3524          349           45   \n",
       "\n",
       "collection       coll_1522_5  coll_2023_1  coll_2023_2  coll_2023_3  Total  \n",
       "shapeName1                                                                  \n",
       "Estuaire                 164           50           84           48    897  \n",
       "Haut-Ogooue              634           67          170          173   1816  \n",
       "Moyen-Ogooue             354           45           88           28    810  \n",
       "Ngounie                  654           69          155           49   1510  \n",
       "Nyanga                   340           53          138           86   1022  \n",
       "Ogooue-Ivindo            595           72           81           37   1275  \n",
       "Ogooue-Lolo              378           40           28           13    787  \n",
       "Ogooue-Maritime          338           47          121           50   1128  \n",
       "Woleu-Ntem               513           54           68           28   1084  \n",
       "Total                   3970          497          933          512  10329  "
      ]
     },
     "execution_count": 83,
     "metadata": {},
     "output_type": "execute_result"
    }
   ],
   "source": [
    "province_pts = pd.pivot_table(joined_data,values='plotid',index=[admin_name],columns=['collection'],aggfunc=\"count\",margins=True,\n",
    "                             margins_name='Total',dropna=False)\n",
    "province_pts"
   ]
  },
  {
   "cell_type": "code",
   "execution_count": 84,
   "id": "9ba8e020-bacc-42a4-943e-accfc03c6b27",
   "metadata": {},
   "outputs": [
    {
     "data": {
      "text/html": [
       "\n",
       "            <style>\n",
       "                .geemap-dark {\n",
       "                    --jp-widgets-color: white;\n",
       "                    --jp-widgets-label-color: white;\n",
       "                    --jp-ui-font-color1: white;\n",
       "                    --jp-layout-color2: #454545;\n",
       "                    background-color: #383838;\n",
       "                }\n",
       "\n",
       "                .geemap-dark .jupyter-button {\n",
       "                    --jp-layout-color3: #383838;\n",
       "                }\n",
       "\n",
       "                .geemap-colab {\n",
       "                    background-color: var(--colab-primary-surface-color, white);\n",
       "                }\n",
       "\n",
       "                .geemap-colab .jupyter-button {\n",
       "                    --jp-layout-color3: var(--colab-primary-surface-color, white);\n",
       "                }\n",
       "            </style>\n",
       "            "
      ],
      "text/plain": [
       "<IPython.core.display.HTML object>"
      ]
     },
     "metadata": {},
     "output_type": "display_data"
    }
   ],
   "source": [
    "# Remove rows where the 'Province' column has NaN values\n",
    "joined_data = joined_data.dropna(subset=[admin_name])"
   ]
  },
  {
   "cell_type": "code",
   "execution_count": 85,
   "id": "fffada97-07e8-4e4d-9275-5104ed510b2e",
   "metadata": {},
   "outputs": [
    {
     "data": {
      "text/html": [
       "\n",
       "            <style>\n",
       "                .geemap-dark {\n",
       "                    --jp-widgets-color: white;\n",
       "                    --jp-widgets-label-color: white;\n",
       "                    --jp-ui-font-color1: white;\n",
       "                    --jp-layout-color2: #454545;\n",
       "                    background-color: #383838;\n",
       "                }\n",
       "\n",
       "                .geemap-dark .jupyter-button {\n",
       "                    --jp-layout-color3: #383838;\n",
       "                }\n",
       "\n",
       "                .geemap-colab {\n",
       "                    background-color: var(--colab-primary-surface-color, white);\n",
       "                }\n",
       "\n",
       "                .geemap-colab .jupyter-button {\n",
       "                    --jp-layout-color3: var(--colab-primary-surface-color, white);\n",
       "                }\n",
       "            </style>\n",
       "            "
      ],
      "text/plain": [
       "<IPython.core.display.HTML object>"
      ]
     },
     "metadata": {},
     "output_type": "display_data"
    }
   ],
   "source": [
    "poly_shp = poly_shp.to_crs(\"EPSG:3395\")"
   ]
  },
  {
   "cell_type": "code",
   "execution_count": 86,
   "id": "4c73882f-7590-4e2f-adfc-ecaaea480833",
   "metadata": {},
   "outputs": [
    {
     "data": {
      "text/html": [
       "\n",
       "            <style>\n",
       "                .geemap-dark {\n",
       "                    --jp-widgets-color: white;\n",
       "                    --jp-widgets-label-color: white;\n",
       "                    --jp-ui-font-color1: white;\n",
       "                    --jp-layout-color2: #454545;\n",
       "                    background-color: #383838;\n",
       "                }\n",
       "\n",
       "                .geemap-dark .jupyter-button {\n",
       "                    --jp-layout-color3: #383838;\n",
       "                }\n",
       "\n",
       "                .geemap-colab {\n",
       "                    background-color: var(--colab-primary-surface-color, white);\n",
       "                }\n",
       "\n",
       "                .geemap-colab .jupyter-button {\n",
       "                    --jp-layout-color3: var(--colab-primary-surface-color, white);\n",
       "                }\n",
       "            </style>\n",
       "            "
      ],
      "text/plain": [
       "<IPython.core.display.HTML object>"
      ]
     },
     "metadata": {},
     "output_type": "display_data"
    }
   ],
   "source": [
    "#calculate area of poly\n",
    "poly_shp['area_sqm'] = poly_shp.geometry.area"
   ]
  },
  {
   "cell_type": "code",
   "execution_count": 87,
   "id": "80300e55-1241-4cd4-a012-9cb584aae074",
   "metadata": {},
   "outputs": [
    {
     "data": {
      "text/html": [
       "\n",
       "            <style>\n",
       "                .geemap-dark {\n",
       "                    --jp-widgets-color: white;\n",
       "                    --jp-widgets-label-color: white;\n",
       "                    --jp-ui-font-color1: white;\n",
       "                    --jp-layout-color2: #454545;\n",
       "                    background-color: #383838;\n",
       "                }\n",
       "\n",
       "                .geemap-dark .jupyter-button {\n",
       "                    --jp-layout-color3: #383838;\n",
       "                }\n",
       "\n",
       "                .geemap-colab {\n",
       "                    background-color: var(--colab-primary-surface-color, white);\n",
       "                }\n",
       "\n",
       "                .geemap-colab .jupyter-button {\n",
       "                    --jp-layout-color3: var(--colab-primary-surface-color, white);\n",
       "                }\n",
       "            </style>\n",
       "            "
      ],
      "text/plain": [
       "<IPython.core.display.HTML object>"
      ]
     },
     "metadata": {},
     "output_type": "display_data"
    }
   ],
   "source": [
    "poly_shp['area_ha'] = poly_shp['area_sqm'] / 10000"
   ]
  },
  {
   "cell_type": "code",
   "execution_count": 88,
   "id": "ac724cd3-7c07-40cc-b31e-88527b528826",
   "metadata": {},
   "outputs": [
    {
     "data": {
      "text/html": [
       "\n",
       "            <style>\n",
       "                .geemap-dark {\n",
       "                    --jp-widgets-color: white;\n",
       "                    --jp-widgets-label-color: white;\n",
       "                    --jp-ui-font-color1: white;\n",
       "                    --jp-layout-color2: #454545;\n",
       "                    background-color: #383838;\n",
       "                }\n",
       "\n",
       "                .geemap-dark .jupyter-button {\n",
       "                    --jp-layout-color3: #383838;\n",
       "                }\n",
       "\n",
       "                .geemap-colab {\n",
       "                    background-color: var(--colab-primary-surface-color, white);\n",
       "                }\n",
       "\n",
       "                .geemap-colab .jupyter-button {\n",
       "                    --jp-layout-color3: var(--colab-primary-surface-color, white);\n",
       "                }\n",
       "            </style>\n",
       "            "
      ],
      "text/plain": [
       "<IPython.core.display.HTML object>"
      ]
     },
     "metadata": {},
     "output_type": "display_data"
    },
    {
     "name": "stdout",
     "output_type": "stream",
     "text": [
      "        shapeName1  area_ha\n",
      "0       Woleu-Ntem  3674113\n",
      "1         Estuaire  1965458\n",
      "2     Moyen-Ogooue  1797702\n",
      "3      Ogooue-Lolo  2932509\n",
      "4      Haut-Ogooue  3377135\n",
      "5          Ngounie  3752265\n",
      "6  Ogooue-Maritime  2227467\n",
      "7           Nyanga  1956576\n",
      "8    Ogooue-Ivindo  4243471\n"
     ]
    }
   ],
   "source": [
    "pd.set_option('display.float_format', lambda x: '%.0f' % x)\n",
    "\n",
    "# Display the GeoDataFrame with the new area columns\n",
    "print(poly_shp[[admin_name, 'area_ha']])"
   ]
  },
  {
   "cell_type": "code",
   "execution_count": 89,
   "id": "7a3beb90-85e2-4bdc-b9f2-bc92d826725f",
   "metadata": {},
   "outputs": [
    {
     "data": {
      "text/html": [
       "\n",
       "            <style>\n",
       "                .geemap-dark {\n",
       "                    --jp-widgets-color: white;\n",
       "                    --jp-widgets-label-color: white;\n",
       "                    --jp-ui-font-color1: white;\n",
       "                    --jp-layout-color2: #454545;\n",
       "                    background-color: #383838;\n",
       "                }\n",
       "\n",
       "                .geemap-dark .jupyter-button {\n",
       "                    --jp-layout-color3: #383838;\n",
       "                }\n",
       "\n",
       "                .geemap-colab {\n",
       "                    background-color: var(--colab-primary-surface-color, white);\n",
       "                }\n",
       "\n",
       "                .geemap-colab .jupyter-button {\n",
       "                    --jp-layout-color3: var(--colab-primary-surface-color, white);\n",
       "                }\n",
       "            </style>\n",
       "            "
      ],
      "text/plain": [
       "<IPython.core.display.HTML object>"
      ]
     },
     "metadata": {},
     "output_type": "display_data"
    }
   ],
   "source": [
    "# Rename columns\n",
    "column_mapping = {\n",
    "   admin_name: new_name\n",
    "#    'NAME_2': 'Territoire',\n",
    "#    'Unnamed: 0':'Index'\n",
    "}\n",
    "\n",
    "# Use the rename() method to rename columns\n",
    "joined_data.rename(columns=column_mapping, inplace=True)"
   ]
  },
  {
   "cell_type": "code",
   "execution_count": 90,
   "id": "d6e7631d-aecb-4f92-b37b-bd52d696f321",
   "metadata": {},
   "outputs": [
    {
     "data": {
      "text/html": [
       "\n",
       "            <style>\n",
       "                .geemap-dark {\n",
       "                    --jp-widgets-color: white;\n",
       "                    --jp-widgets-label-color: white;\n",
       "                    --jp-ui-font-color1: white;\n",
       "                    --jp-layout-color2: #454545;\n",
       "                    background-color: #383838;\n",
       "                }\n",
       "\n",
       "                .geemap-dark .jupyter-button {\n",
       "                    --jp-layout-color3: #383838;\n",
       "                }\n",
       "\n",
       "                .geemap-colab {\n",
       "                    background-color: var(--colab-primary-surface-color, white);\n",
       "                }\n",
       "\n",
       "                .geemap-colab .jupyter-button {\n",
       "                    --jp-layout-color3: var(--colab-primary-surface-color, white);\n",
       "                }\n",
       "            </style>\n",
       "            "
      ],
      "text/plain": [
       "<IPython.core.display.HTML object>"
      ]
     },
     "metadata": {},
     "output_type": "display_data"
    },
    {
     "name": "stdout",
     "output_type": "stream",
     "text": [
      "['UID', 'ID', 'plotid', 'point_id', 'sampleid', 'lon', 'lat', 'sample_geom', 'Ref_FNF_2015', 'Ref_Regeneration', 'Ref_Change_1522', 'Ref_Change_Type_1522', 'ArtFor', 'ArtMine', 'InfraR', 'Urb', 'IndFor', 'Other', 'Other_Desc', 'IndMine', 'IndAg', 'ArtAg', 'Ref_Year_1522', 'Ref_NFtype_2015', 'Ref_Ftype_2015', 'collection', 'interpreted', 'Ref_LCover_2015', 'Ref_Change_Year_1522', 'Ref_Change_LCover_1522', 'Def2016', 'Def2017', 'Def2018', 'Def2019', 'Def2020', 'Def2021', 'Def2022', 'Deg2016', 'Deg2017', 'Deg2018', 'Deg2019', 'Deg2020', 'Deg2021', 'Deg2022', 'Defall', 'Degall', 'Stable', 'NF', 'DensFor', 'DensDryFor', 'SecFor', 'DryOpenFor', 'Mangrove', 'Swamp', 'Gallery', 'Plantation', 'Woodland', 'Shrubland', 'Grassland', 'Aquatic', 'Bare', 'Cultivated', 'Builtup', 'Water', 'DensFor_Def', 'DensDryFor_Def', 'SecFor_Def', 'DryOpenFor_Def', 'Mangrove_Def', 'Swamp_Def', 'Gallery_Def', 'Plantation_Def', 'Woodland_Def', 'DensFor_Deg', 'DensDryFor_Deg', 'SecFor_Deg', 'DryOpenFor_Deg', 'Mangrove_Deg', 'Swamp_Deg', 'Gallery_Deg', 'Plantation_Deg', 'Woodland_Deg', 'DensFor_Stable', 'DensDryFor_Stable', 'SecFor_Stable', 'DryOpenFor_Stable', 'Mangrove_Stable', 'Swamp_Stable', 'Gallery_Stable', 'Plantation_Stable', 'Woodland_Stable', 'ISO', 'sampling', 'Ref_FNF_2022', 'Ref_Change_2023', 'Ref_Change_Type_2023', 'Ref_NFtype_2022', 'Ref_Ftype_2022', 'Ref_LCover_2022', 'Ref_Change_Year_2023', 'Ref_Change_LCover_2023', 'Def2023', 'Deg2023', 'interpreted_qc', 'Ref_Change_Type_1523', 'Ref_Change_Year_1523', 'geometry', 'Province']\n"
     ]
    }
   ],
   "source": [
    "list_columns = joined_data.columns.tolist()\n",
    "\n",
    "# Display the list of column names\n",
    "print(list_columns)"
   ]
  },
  {
   "cell_type": "code",
   "execution_count": 91,
   "id": "3f4bbbc4-be89-4a8f-b1d6-bba107ab0e97",
   "metadata": {},
   "outputs": [
    {
     "data": {
      "text/html": [
       "\n",
       "            <style>\n",
       "                .geemap-dark {\n",
       "                    --jp-widgets-color: white;\n",
       "                    --jp-widgets-label-color: white;\n",
       "                    --jp-ui-font-color1: white;\n",
       "                    --jp-layout-color2: #454545;\n",
       "                    background-color: #383838;\n",
       "                }\n",
       "\n",
       "                .geemap-dark .jupyter-button {\n",
       "                    --jp-layout-color3: #383838;\n",
       "                }\n",
       "\n",
       "                .geemap-colab {\n",
       "                    background-color: var(--colab-primary-surface-color, white);\n",
       "                }\n",
       "\n",
       "                .geemap-colab .jupyter-button {\n",
       "                    --jp-layout-color3: var(--colab-primary-surface-color, white);\n",
       "                }\n",
       "            </style>\n",
       "            "
      ],
      "text/plain": [
       "<IPython.core.display.HTML object>"
      ]
     },
     "metadata": {},
     "output_type": "display_data"
    },
    {
     "data": {
      "text/plain": [
       "10329"
      ]
     },
     "execution_count": 91,
     "metadata": {},
     "output_type": "execute_result"
    }
   ],
   "source": [
    "len(joined_data)"
   ]
  },
  {
   "cell_type": "code",
   "execution_count": 92,
   "id": "3f6e2f31-226c-486b-af0f-373d0718508e",
   "metadata": {},
   "outputs": [
    {
     "data": {
      "text/html": [
       "\n",
       "            <style>\n",
       "                .geemap-dark {\n",
       "                    --jp-widgets-color: white;\n",
       "                    --jp-widgets-label-color: white;\n",
       "                    --jp-ui-font-color1: white;\n",
       "                    --jp-layout-color2: #454545;\n",
       "                    background-color: #383838;\n",
       "                }\n",
       "\n",
       "                .geemap-dark .jupyter-button {\n",
       "                    --jp-layout-color3: #383838;\n",
       "                }\n",
       "\n",
       "                .geemap-colab {\n",
       "                    background-color: var(--colab-primary-surface-color, white);\n",
       "                }\n",
       "\n",
       "                .geemap-colab .jupyter-button {\n",
       "                    --jp-layout-color3: var(--colab-primary-surface-color, white);\n",
       "                }\n",
       "            </style>\n",
       "            "
      ],
      "text/plain": [
       "<IPython.core.display.HTML object>"
      ]
     },
     "metadata": {},
     "output_type": "display_data"
    }
   ],
   "source": [
    "joined_data = joined_data.to_crs(\"EPSG:4326\")"
   ]
  },
  {
   "cell_type": "code",
   "execution_count": 93,
   "id": "bad34bad-7b87-4546-b2e2-1c2a0fa2d01f",
   "metadata": {},
   "outputs": [
    {
     "data": {
      "text/html": [
       "\n",
       "            <style>\n",
       "                .geemap-dark {\n",
       "                    --jp-widgets-color: white;\n",
       "                    --jp-widgets-label-color: white;\n",
       "                    --jp-ui-font-color1: white;\n",
       "                    --jp-layout-color2: #454545;\n",
       "                    background-color: #383838;\n",
       "                }\n",
       "\n",
       "                .geemap-dark .jupyter-button {\n",
       "                    --jp-layout-color3: #383838;\n",
       "                }\n",
       "\n",
       "                .geemap-colab {\n",
       "                    background-color: var(--colab-primary-surface-color, white);\n",
       "                }\n",
       "\n",
       "                .geemap-colab .jupyter-button {\n",
       "                    --jp-layout-color3: var(--colab-primary-surface-color, white);\n",
       "                }\n",
       "            </style>\n",
       "            "
      ],
      "text/plain": [
       "<IPython.core.display.HTML object>"
      ]
     },
     "metadata": {},
     "output_type": "display_data"
    }
   ],
   "source": [
    "# if no more data are to be joined, save output\n",
    "out_file_shp_att =  '/home/sepal-user/module_results/esbae/GAB/GAB_all_ceo_2015_2022_2023_prov.csv'\n",
    "joined_data.to_csv(out_file_shp_att,index=False)"
   ]
  },
  {
   "cell_type": "markdown",
   "id": "0eda7329-acdc-4a3e-b471-e7d3cfa5d75a",
   "metadata": {
    "jp-MarkdownHeadingCollapsed": true
   },
   "source": [
    "#### get attributes from local raster"
   ]
  },
  {
   "cell_type": "code",
   "execution_count": null,
   "id": "1523fd6d-1aab-4650-8f5f-fc670b45d4a2",
   "metadata": {},
   "outputs": [],
   "source": [
    "LC_map = \"/home/sepal-user/data/lc_map/CAFI_LC_2015_19_wgs84.tif\""
   ]
  },
  {
   "cell_type": "code",
   "execution_count": null,
   "id": "4f1c0509-09fd-4e73-98e9-05e15c975423",
   "metadata": {},
   "outputs": [],
   "source": [
    "LC_src = rasterio.open(LC_map)"
   ]
  },
  {
   "cell_type": "code",
   "execution_count": null,
   "id": "25a5d917-9906-4fc7-a35d-5dabcadfce4a",
   "metadata": {},
   "outputs": [],
   "source": [
    "joined_data[\"CAFI_LC_2015\"] = [x for x in LC_src.sample(coord_list)]\n",
    "joined_data[\"CAFI_LC_2015\"] = joined_data[\"CAFI_LC_2015\"].str[0]\n",
    "joined_data.head()"
   ]
  },
  {
   "cell_type": "code",
   "execution_count": null,
   "id": "fe4736fa-55f0-47fc-8ad9-33575779df4a",
   "metadata": {},
   "outputs": [],
   "source": [
    "joined_data['CAFI_LC_2015'].value_counts(dropna=False)"
   ]
  },
  {
   "cell_type": "code",
   "execution_count": null,
   "id": "9b4c5e56-a21f-4789-a8b9-11fccda48e9c",
   "metadata": {},
   "outputs": [],
   "source": [
    "joined_columns = joined_data.columns.tolist()\n",
    "# Display the list of column names\n",
    "print(joined_columns)"
   ]
  },
  {
   "cell_type": "code",
   "execution_count": null,
   "id": "da3abbe3-59d1-4204-8be2-99ecee36f1e5",
   "metadata": {},
   "outputs": [],
   "source": [
    "joined_data.head()"
   ]
  },
  {
   "cell_type": "markdown",
   "id": "f728489e-6479-4e53-af28-9f7e1c1b2236",
   "metadata": {},
   "source": [
    "#### get attributes from GEE asset"
   ]
  },
  {
   "cell_type": "code",
   "execution_count": 174,
   "id": "190a9c4b-e8e2-4d94-b664-1482816c6f97",
   "metadata": {},
   "outputs": [
    {
     "data": {
      "text/html": [
       "\n",
       "            <style>\n",
       "                .geemap-dark {\n",
       "                    --jp-widgets-color: white;\n",
       "                    --jp-widgets-label-color: white;\n",
       "                    --jp-ui-font-color1: white;\n",
       "                    --jp-layout-color2: #454545;\n",
       "                    background-color: #383838;\n",
       "                }\n",
       "\n",
       "                .geemap-dark .jupyter-button {\n",
       "                    --jp-layout-color3: #383838;\n",
       "                }\n",
       "\n",
       "                .geemap-colab {\n",
       "                    background-color: var(--colab-primary-surface-color, white);\n",
       "                }\n",
       "\n",
       "                .geemap-colab .jupyter-button {\n",
       "                    --jp-layout-color3: var(--colab-primary-surface-color, white);\n",
       "                }\n",
       "            </style>\n",
       "            "
      ],
      "text/plain": [
       "<IPython.core.display.HTML object>"
      ]
     },
     "metadata": {},
     "output_type": "display_data"
    }
   ],
   "source": [
    "#first time\n",
    "gdf = joined_data"
   ]
  },
  {
   "cell_type": "code",
   "execution_count": 185,
   "id": "5f86c10c-b7ed-4571-9774-3bf045ffe236",
   "metadata": {},
   "outputs": [
    {
     "data": {
      "text/html": [
       "\n",
       "            <style>\n",
       "                .geemap-dark {\n",
       "                    --jp-widgets-color: white;\n",
       "                    --jp-widgets-label-color: white;\n",
       "                    --jp-ui-font-color1: white;\n",
       "                    --jp-layout-color2: #454545;\n",
       "                    background-color: #383838;\n",
       "                }\n",
       "\n",
       "                .geemap-dark .jupyter-button {\n",
       "                    --jp-layout-color3: #383838;\n",
       "                }\n",
       "\n",
       "                .geemap-colab {\n",
       "                    background-color: var(--colab-primary-surface-color, white);\n",
       "                }\n",
       "\n",
       "                .geemap-colab .jupyter-button {\n",
       "                    --jp-layout-color3: var(--colab-primary-surface-color, white);\n",
       "                }\n",
       "            </style>\n",
       "            "
      ],
      "text/plain": [
       "<IPython.core.display.HTML object>"
      ]
     },
     "metadata": {},
     "output_type": "display_data"
    }
   ],
   "source": [
    "#second time\n",
    "gdf = merged_df"
   ]
  },
  {
   "cell_type": "code",
   "execution_count": 186,
   "id": "e677713d-cd19-43bf-b009-4c9dda17ad0c",
   "metadata": {},
   "outputs": [
    {
     "data": {
      "text/html": [
       "\n",
       "            <style>\n",
       "                .geemap-dark {\n",
       "                    --jp-widgets-color: white;\n",
       "                    --jp-widgets-label-color: white;\n",
       "                    --jp-ui-font-color1: white;\n",
       "                    --jp-layout-color2: #454545;\n",
       "                    background-color: #383838;\n",
       "                }\n",
       "\n",
       "                .geemap-dark .jupyter-button {\n",
       "                    --jp-layout-color3: #383838;\n",
       "                }\n",
       "\n",
       "                .geemap-colab {\n",
       "                    background-color: var(--colab-primary-surface-color, white);\n",
       "                }\n",
       "\n",
       "                .geemap-colab .jupyter-button {\n",
       "                    --jp-layout-color3: var(--colab-primary-surface-color, white);\n",
       "                }\n",
       "            </style>\n",
       "            "
      ],
      "text/plain": [
       "<IPython.core.display.HTML object>"
      ]
     },
     "metadata": {},
     "output_type": "display_data"
    },
    {
     "name": "stdout",
     "output_type": "stream",
     "text": [
      "UID has entirely unique values.\n",
      "ID does not have entirely unique values.\n"
     ]
    }
   ],
   "source": [
    "# Assuming df is your DataFrame\n",
    "if gdf['UID'].nunique() == len(gdf):\n",
    "    print(\"UID has entirely unique values.\")\n",
    "else:\n",
    "    print(\"UID does not have entirely unique values.\")\n",
    "\n",
    "if gdf['ID'].nunique() == len(gdf):\n",
    "    print(\"ID has entirely unique values.\")\n",
    "else:\n",
    "    print(\"ID does not have entirely unique values.\")"
   ]
  },
  {
   "cell_type": "code",
   "execution_count": 187,
   "id": "d348eeb5-96af-4d04-9c2e-16e3ef8d2331",
   "metadata": {},
   "outputs": [
    {
     "data": {
      "text/html": [
       "\n",
       "            <style>\n",
       "                .geemap-dark {\n",
       "                    --jp-widgets-color: white;\n",
       "                    --jp-widgets-label-color: white;\n",
       "                    --jp-ui-font-color1: white;\n",
       "                    --jp-layout-color2: #454545;\n",
       "                    background-color: #383838;\n",
       "                }\n",
       "\n",
       "                .geemap-dark .jupyter-button {\n",
       "                    --jp-layout-color3: #383838;\n",
       "                }\n",
       "\n",
       "                .geemap-colab {\n",
       "                    background-color: var(--colab-primary-surface-color, white);\n",
       "                }\n",
       "\n",
       "                .geemap-colab .jupyter-button {\n",
       "                    --jp-layout-color3: var(--colab-primary-surface-color, white);\n",
       "                }\n",
       "            </style>\n",
       "            "
      ],
      "text/plain": [
       "<IPython.core.display.HTML object>"
      ]
     },
     "metadata": {},
     "output_type": "display_data"
    }
   ],
   "source": [
    "#path to asset\n",
    "asset = ee.Image('users/faocongo/sbae/EQG_FNF_kmeans_strat_5_2015_2022_v2')\n",
    "#asset = ee.Image('users/faocongo/sbae/EQG_FNF_kmeans_strat_5_2022_2023_v2')\n",
    "#asset = ee.Image('users/faocongo/sbae/CAF_FNF_kmeans_strat_5_2015_2022')\n",
    "#asset = ee.Image('users/faocongo/sbae/CMR_FNF_kmeans_strat_5_2015_2022')\n",
    "#asset = ee.Image('users/faocongo/sbae/CMR_FNF_kmeans_strat_5_2022_2023')\n",
    "#asset = ee.Image('users/faocongo/sbae/CAF_FNF_kmeans_strat_5_2022_2023')"
   ]
  },
  {
   "cell_type": "code",
   "execution_count": 188,
   "id": "c8dff7cb-fbb9-42b4-b9f3-146ebb4e9daa",
   "metadata": {},
   "outputs": [
    {
     "data": {
      "text/html": [
       "\n",
       "            <style>\n",
       "                .geemap-dark {\n",
       "                    --jp-widgets-color: white;\n",
       "                    --jp-widgets-label-color: white;\n",
       "                    --jp-ui-font-color1: white;\n",
       "                    --jp-layout-color2: #454545;\n",
       "                    background-color: #383838;\n",
       "                }\n",
       "\n",
       "                .geemap-dark .jupyter-button {\n",
       "                    --jp-layout-color3: #383838;\n",
       "                }\n",
       "\n",
       "                .geemap-colab {\n",
       "                    background-color: var(--colab-primary-surface-color, white);\n",
       "                }\n",
       "\n",
       "                .geemap-colab .jupyter-button {\n",
       "                    --jp-layout-color3: var(--colab-primary-surface-color, white);\n",
       "                }\n",
       "            </style>\n",
       "            "
      ],
      "text/plain": [
       "<IPython.core.display.HTML object>"
      ]
     },
     "metadata": {},
     "output_type": "display_data"
    }
   ],
   "source": [
    "#what to rename sampled band to. it is always called first\n",
    "newName = 'TNT_stratum_1522'\n",
    "#newName = 'TNT_stratum_2223'"
   ]
  },
  {
   "cell_type": "code",
   "execution_count": 189,
   "id": "323fbc7f-5d7e-4516-9fd4-d7325c1928e4",
   "metadata": {},
   "outputs": [
    {
     "data": {
      "text/html": [
       "\n",
       "            <style>\n",
       "                .geemap-dark {\n",
       "                    --jp-widgets-color: white;\n",
       "                    --jp-widgets-label-color: white;\n",
       "                    --jp-ui-font-color1: white;\n",
       "                    --jp-layout-color2: #454545;\n",
       "                    background-color: #383838;\n",
       "                }\n",
       "\n",
       "                .geemap-dark .jupyter-button {\n",
       "                    --jp-layout-color3: #383838;\n",
       "                }\n",
       "\n",
       "                .geemap-colab {\n",
       "                    background-color: var(--colab-primary-surface-color, white);\n",
       "                }\n",
       "\n",
       "                .geemap-colab .jupyter-button {\n",
       "                    --jp-layout-color3: var(--colab-primary-surface-color, white);\n",
       "                }\n",
       "            </style>\n",
       "            "
      ],
      "text/plain": [
       "<IPython.core.display.HTML object>"
      ]
     },
     "metadata": {},
     "output_type": "display_data"
    }
   ],
   "source": [
    "#resolution of asset\n",
    "scale = 70"
   ]
  },
  {
   "cell_type": "code",
   "execution_count": 190,
   "id": "5f7725ac-5340-45d7-b81d-c72fdd73c737",
   "metadata": {},
   "outputs": [
    {
     "data": {
      "text/html": [
       "\n",
       "            <style>\n",
       "                .geemap-dark {\n",
       "                    --jp-widgets-color: white;\n",
       "                    --jp-widgets-label-color: white;\n",
       "                    --jp-ui-font-color1: white;\n",
       "                    --jp-layout-color2: #454545;\n",
       "                    background-color: #383838;\n",
       "                }\n",
       "\n",
       "                .geemap-dark .jupyter-button {\n",
       "                    --jp-layout-color3: #383838;\n",
       "                }\n",
       "\n",
       "                .geemap-colab {\n",
       "                    background-color: var(--colab-primary-surface-color, white);\n",
       "                }\n",
       "\n",
       "                .geemap-colab .jupyter-button {\n",
       "                    --jp-layout-color3: var(--colab-primary-surface-color, white);\n",
       "                }\n",
       "            </style>\n",
       "            "
      ],
      "text/plain": [
       "<IPython.core.display.HTML object>"
      ]
     },
     "metadata": {},
     "output_type": "display_data"
    }
   ],
   "source": [
    "#name of band\n",
    "band = 'strata'"
   ]
  },
  {
   "cell_type": "code",
   "execution_count": 191,
   "id": "f6c106cf-17f4-412f-84e9-667769aa3cfd",
   "metadata": {},
   "outputs": [
    {
     "data": {
      "text/html": [
       "\n",
       "            <style>\n",
       "                .geemap-dark {\n",
       "                    --jp-widgets-color: white;\n",
       "                    --jp-widgets-label-color: white;\n",
       "                    --jp-ui-font-color1: white;\n",
       "                    --jp-layout-color2: #454545;\n",
       "                    background-color: #383838;\n",
       "                }\n",
       "\n",
       "                .geemap-dark .jupyter-button {\n",
       "                    --jp-layout-color3: #383838;\n",
       "                }\n",
       "\n",
       "                .geemap-colab {\n",
       "                    background-color: var(--colab-primary-surface-color, white);\n",
       "                }\n",
       "\n",
       "                .geemap-colab .jupyter-button {\n",
       "                    --jp-layout-color3: var(--colab-primary-surface-color, white);\n",
       "                }\n",
       "            </style>\n",
       "            "
      ],
      "text/plain": [
       "<IPython.core.display.HTML object>"
      ]
     },
     "metadata": {},
     "output_type": "display_data"
    }
   ],
   "source": [
    "gdf = gdf.reset_index(drop=True)\n",
    "#with just a few columns\n",
    "#this can take a little while with many points\n",
    "dfs = []\n",
    "for i in range(0, len(points), 5000):\n",
    "    tmp_df = gdf.loc[i:i+4999]\n",
    "    tmp_fc = geemap.gdf_to_ee(tmp_df[['UID', 'geometry']])\n",
    "    tmp_smp = asset.select(band).reduceRegions(**{\n",
    "        'collection': tmp_fc,\n",
    "        'scale': scale,\n",
    "        'reducer': ee.Reducer.first()   \n",
    "    })\n",
    "\n",
    "    tmp_res = geemap.ee_to_gdf(tmp_smp)\n",
    "    dfs.append(tmp_res)\n",
    "    \n",
    "sampled_df = pd.concat(dfs)"
   ]
  },
  {
   "cell_type": "code",
   "execution_count": 192,
   "id": "c6fd6d08-1b2d-470c-a9ba-addcda476521",
   "metadata": {},
   "outputs": [
    {
     "data": {
      "text/html": [
       "\n",
       "            <style>\n",
       "                .geemap-dark {\n",
       "                    --jp-widgets-color: white;\n",
       "                    --jp-widgets-label-color: white;\n",
       "                    --jp-ui-font-color1: white;\n",
       "                    --jp-layout-color2: #454545;\n",
       "                    background-color: #383838;\n",
       "                }\n",
       "\n",
       "                .geemap-dark .jupyter-button {\n",
       "                    --jp-layout-color3: #383838;\n",
       "                }\n",
       "\n",
       "                .geemap-colab {\n",
       "                    background-color: var(--colab-primary-surface-color, white);\n",
       "                }\n",
       "\n",
       "                .geemap-colab .jupyter-button {\n",
       "                    --jp-layout-color3: var(--colab-primary-surface-color, white);\n",
       "                }\n",
       "            </style>\n",
       "            "
      ],
      "text/plain": [
       "<IPython.core.display.HTML object>"
      ]
     },
     "metadata": {},
     "output_type": "display_data"
    },
    {
     "data": {
      "text/html": [
       "<div>\n",
       "<style scoped>\n",
       "    .dataframe tbody tr th:only-of-type {\n",
       "        vertical-align: middle;\n",
       "    }\n",
       "\n",
       "    .dataframe tbody tr th {\n",
       "        vertical-align: top;\n",
       "    }\n",
       "\n",
       "    .dataframe thead th {\n",
       "        text-align: right;\n",
       "    }\n",
       "</style>\n",
       "<table border=\"1\" class=\"dataframe\">\n",
       "  <thead>\n",
       "    <tr style=\"text-align: right;\">\n",
       "      <th></th>\n",
       "      <th>geometry</th>\n",
       "      <th>UID</th>\n",
       "      <th>first</th>\n",
       "    </tr>\n",
       "  </thead>\n",
       "  <tbody>\n",
       "    <tr>\n",
       "      <th>0</th>\n",
       "      <td>POINT (8.46065 3.45399)</td>\n",
       "      <td>0</td>\n",
       "      <td>3</td>\n",
       "    </tr>\n",
       "    <tr>\n",
       "      <th>1</th>\n",
       "      <td>POINT (10.82731 1.75688)</td>\n",
       "      <td>1</td>\n",
       "      <td>1</td>\n",
       "    </tr>\n",
       "    <tr>\n",
       "      <th>2</th>\n",
       "      <td>POINT (10.7479 1.60262)</td>\n",
       "      <td>2</td>\n",
       "      <td>4</td>\n",
       "    </tr>\n",
       "    <tr>\n",
       "      <th>3</th>\n",
       "      <td>POINT (10.53471 1.18789)</td>\n",
       "      <td>3</td>\n",
       "      <td>3</td>\n",
       "    </tr>\n",
       "    <tr>\n",
       "      <th>4</th>\n",
       "      <td>POINT (10.90676 1.93037)</td>\n",
       "      <td>4</td>\n",
       "      <td>1</td>\n",
       "    </tr>\n",
       "    <tr>\n",
       "      <th>...</th>\n",
       "      <td>...</td>\n",
       "      <td>...</td>\n",
       "      <td>...</td>\n",
       "    </tr>\n",
       "    <tr>\n",
       "      <th>230</th>\n",
       "      <td>POINT (5.61173 -1.41345)</td>\n",
       "      <td>4671</td>\n",
       "      <td>NaN</td>\n",
       "    </tr>\n",
       "    <tr>\n",
       "      <th>231</th>\n",
       "      <td>POINT (5.6306 -1.47319)</td>\n",
       "      <td>4674</td>\n",
       "      <td>NaN</td>\n",
       "    </tr>\n",
       "    <tr>\n",
       "      <th>232</th>\n",
       "      <td>POINT (11.0089 2.18026)</td>\n",
       "      <td>4698</td>\n",
       "      <td>NaN</td>\n",
       "    </tr>\n",
       "    <tr>\n",
       "      <th>233</th>\n",
       "      <td>POINT (9.95814 0.96349)</td>\n",
       "      <td>4939</td>\n",
       "      <td>2</td>\n",
       "    </tr>\n",
       "    <tr>\n",
       "      <th>234</th>\n",
       "      <td>POINT (9.97072 0.93896)</td>\n",
       "      <td>5064</td>\n",
       "      <td>2</td>\n",
       "    </tr>\n",
       "  </tbody>\n",
       "</table>\n",
       "<p>5235 rows × 3 columns</p>\n",
       "</div>"
      ],
      "text/plain": [
       "                     geometry   UID  first\n",
       "0     POINT (8.46065 3.45399)     0      3\n",
       "1    POINT (10.82731 1.75688)     1      1\n",
       "2     POINT (10.7479 1.60262)     2      4\n",
       "3    POINT (10.53471 1.18789)     3      3\n",
       "4    POINT (10.90676 1.93037)     4      1\n",
       "..                        ...   ...    ...\n",
       "230  POINT (5.61173 -1.41345)  4671    NaN\n",
       "231   POINT (5.6306 -1.47319)  4674    NaN\n",
       "232   POINT (11.0089 2.18026)  4698    NaN\n",
       "233   POINT (9.95814 0.96349)  4939      2\n",
       "234   POINT (9.97072 0.93896)  5064      2\n",
       "\n",
       "[5235 rows x 3 columns]"
      ]
     },
     "execution_count": 192,
     "metadata": {},
     "output_type": "execute_result"
    }
   ],
   "source": [
    "sampled_df"
   ]
  },
  {
   "cell_type": "code",
   "execution_count": 193,
   "id": "4048d55d-fb7a-4051-aa5f-2f6312f1481c",
   "metadata": {},
   "outputs": [
    {
     "data": {
      "text/html": [
       "\n",
       "            <style>\n",
       "                .geemap-dark {\n",
       "                    --jp-widgets-color: white;\n",
       "                    --jp-widgets-label-color: white;\n",
       "                    --jp-ui-font-color1: white;\n",
       "                    --jp-layout-color2: #454545;\n",
       "                    background-color: #383838;\n",
       "                }\n",
       "\n",
       "                .geemap-dark .jupyter-button {\n",
       "                    --jp-layout-color3: #383838;\n",
       "                }\n",
       "\n",
       "                .geemap-colab {\n",
       "                    background-color: var(--colab-primary-surface-color, white);\n",
       "                }\n",
       "\n",
       "                .geemap-colab .jupyter-button {\n",
       "                    --jp-layout-color3: var(--colab-primary-surface-color, white);\n",
       "                }\n",
       "            </style>\n",
       "            "
      ],
      "text/plain": [
       "<IPython.core.display.HTML object>"
      ]
     },
     "metadata": {},
     "output_type": "display_data"
    },
    {
     "data": {
      "text/html": [
       "<div>\n",
       "<style scoped>\n",
       "    .dataframe tbody tr th:only-of-type {\n",
       "        vertical-align: middle;\n",
       "    }\n",
       "\n",
       "    .dataframe tbody tr th {\n",
       "        vertical-align: top;\n",
       "    }\n",
       "\n",
       "    .dataframe thead th {\n",
       "        text-align: right;\n",
       "    }\n",
       "</style>\n",
       "<table border=\"1\" class=\"dataframe\">\n",
       "  <thead>\n",
       "    <tr style=\"text-align: right;\">\n",
       "      <th></th>\n",
       "      <th>geometry</th>\n",
       "      <th>UID</th>\n",
       "      <th>TNT_stratum_1522</th>\n",
       "    </tr>\n",
       "  </thead>\n",
       "  <tbody>\n",
       "    <tr>\n",
       "      <th>0</th>\n",
       "      <td>POINT (8.46065 3.45399)</td>\n",
       "      <td>0</td>\n",
       "      <td>3</td>\n",
       "    </tr>\n",
       "    <tr>\n",
       "      <th>1</th>\n",
       "      <td>POINT (10.82731 1.75688)</td>\n",
       "      <td>1</td>\n",
       "      <td>1</td>\n",
       "    </tr>\n",
       "    <tr>\n",
       "      <th>2</th>\n",
       "      <td>POINT (10.7479 1.60262)</td>\n",
       "      <td>2</td>\n",
       "      <td>4</td>\n",
       "    </tr>\n",
       "    <tr>\n",
       "      <th>3</th>\n",
       "      <td>POINT (10.53471 1.18789)</td>\n",
       "      <td>3</td>\n",
       "      <td>3</td>\n",
       "    </tr>\n",
       "    <tr>\n",
       "      <th>4</th>\n",
       "      <td>POINT (10.90676 1.93037)</td>\n",
       "      <td>4</td>\n",
       "      <td>1</td>\n",
       "    </tr>\n",
       "  </tbody>\n",
       "</table>\n",
       "</div>"
      ],
      "text/plain": [
       "                   geometry  UID  TNT_stratum_1522\n",
       "0   POINT (8.46065 3.45399)    0                 3\n",
       "1  POINT (10.82731 1.75688)    1                 1\n",
       "2   POINT (10.7479 1.60262)    2                 4\n",
       "3  POINT (10.53471 1.18789)    3                 3\n",
       "4  POINT (10.90676 1.93037)    4                 1"
      ]
     },
     "execution_count": 193,
     "metadata": {},
     "output_type": "execute_result"
    }
   ],
   "source": [
    "sampled_df = sampled_df.rename(columns={'first':newName})\n",
    "sampled_df.head()"
   ]
  },
  {
   "cell_type": "code",
   "execution_count": 194,
   "id": "32312f89-4def-4ac2-85bf-c824fd06cf45",
   "metadata": {},
   "outputs": [
    {
     "data": {
      "text/html": [
       "\n",
       "            <style>\n",
       "                .geemap-dark {\n",
       "                    --jp-widgets-color: white;\n",
       "                    --jp-widgets-label-color: white;\n",
       "                    --jp-ui-font-color1: white;\n",
       "                    --jp-layout-color2: #454545;\n",
       "                    background-color: #383838;\n",
       "                }\n",
       "\n",
       "                .geemap-dark .jupyter-button {\n",
       "                    --jp-layout-color3: #383838;\n",
       "                }\n",
       "\n",
       "                .geemap-colab {\n",
       "                    background-color: var(--colab-primary-surface-color, white);\n",
       "                }\n",
       "\n",
       "                .geemap-colab .jupyter-button {\n",
       "                    --jp-layout-color3: var(--colab-primary-surface-color, white);\n",
       "                }\n",
       "            </style>\n",
       "            "
      ],
      "text/plain": [
       "<IPython.core.display.HTML object>"
      ]
     },
     "metadata": {},
     "output_type": "display_data"
    },
    {
     "data": {
      "text/html": [
       "<div>\n",
       "<style scoped>\n",
       "    .dataframe tbody tr th:only-of-type {\n",
       "        vertical-align: middle;\n",
       "    }\n",
       "\n",
       "    .dataframe tbody tr th {\n",
       "        vertical-align: top;\n",
       "    }\n",
       "\n",
       "    .dataframe thead th {\n",
       "        text-align: right;\n",
       "    }\n",
       "</style>\n",
       "<table border=\"1\" class=\"dataframe\">\n",
       "  <thead>\n",
       "    <tr style=\"text-align: right;\">\n",
       "      <th></th>\n",
       "      <th>geometry</th>\n",
       "      <th>UID</th>\n",
       "      <th>TNT_stratum_1522</th>\n",
       "      <th>TNT_stratum_2223</th>\n",
       "      <th>ID</th>\n",
       "      <th>plotid</th>\n",
       "      <th>point_id</th>\n",
       "      <th>sampleid</th>\n",
       "      <th>lon</th>\n",
       "      <th>lat</th>\n",
       "      <th>...</th>\n",
       "      <th>Ref_Ftype_2022</th>\n",
       "      <th>Ref_LCover_2022</th>\n",
       "      <th>Ref_Change_Year_2023</th>\n",
       "      <th>Ref_Change_LCover_2023</th>\n",
       "      <th>Def2023</th>\n",
       "      <th>Deg2023</th>\n",
       "      <th>interpreted_qc</th>\n",
       "      <th>Ref_Change_Type_1523</th>\n",
       "      <th>Ref_Change_Year_1523</th>\n",
       "      <th>Province</th>\n",
       "    </tr>\n",
       "  </thead>\n",
       "  <tbody>\n",
       "    <tr>\n",
       "      <th>0</th>\n",
       "      <td>POINT (8.46065 3.45399)</td>\n",
       "      <td>0</td>\n",
       "      <td>3</td>\n",
       "      <td>1</td>\n",
       "      <td>0</td>\n",
       "      <td>45</td>\n",
       "      <td>45</td>\n",
       "      <td>45</td>\n",
       "      <td>8</td>\n",
       "      <td>3</td>\n",
       "      <td>...</td>\n",
       "      <td>NaN</td>\n",
       "      <td>NaN</td>\n",
       "      <td>NaN</td>\n",
       "      <td>NaN</td>\n",
       "      <td>NaN</td>\n",
       "      <td>NaN</td>\n",
       "      <td>NaN</td>\n",
       "      <td>Stable</td>\n",
       "      <td>Stable</td>\n",
       "      <td>Bioko Sur</td>\n",
       "    </tr>\n",
       "    <tr>\n",
       "      <th>1</th>\n",
       "      <td>POINT (10.82731 1.75688)</td>\n",
       "      <td>1</td>\n",
       "      <td>1</td>\n",
       "      <td>4</td>\n",
       "      <td>1</td>\n",
       "      <td>15952</td>\n",
       "      <td>15952</td>\n",
       "      <td>15952</td>\n",
       "      <td>11</td>\n",
       "      <td>2</td>\n",
       "      <td>...</td>\n",
       "      <td>NaN</td>\n",
       "      <td>NaN</td>\n",
       "      <td>NaN</td>\n",
       "      <td>NaN</td>\n",
       "      <td>NaN</td>\n",
       "      <td>NaN</td>\n",
       "      <td>NaN</td>\n",
       "      <td>NF</td>\n",
       "      <td>NF</td>\n",
       "      <td>Wele-Nzas Province</td>\n",
       "    </tr>\n",
       "    <tr>\n",
       "      <th>2</th>\n",
       "      <td>POINT (10.7479 1.60262)</td>\n",
       "      <td>2</td>\n",
       "      <td>4</td>\n",
       "      <td>2</td>\n",
       "      <td>2</td>\n",
       "      <td>15936</td>\n",
       "      <td>15936</td>\n",
       "      <td>15936</td>\n",
       "      <td>11</td>\n",
       "      <td>2</td>\n",
       "      <td>...</td>\n",
       "      <td>NaN</td>\n",
       "      <td>NaN</td>\n",
       "      <td>NaN</td>\n",
       "      <td>NaN</td>\n",
       "      <td>NaN</td>\n",
       "      <td>NaN</td>\n",
       "      <td>NaN</td>\n",
       "      <td>Stable</td>\n",
       "      <td>Stable</td>\n",
       "      <td>Wele-Nzas Province</td>\n",
       "    </tr>\n",
       "    <tr>\n",
       "      <th>3</th>\n",
       "      <td>POINT (10.53471 1.18789)</td>\n",
       "      <td>3</td>\n",
       "      <td>3</td>\n",
       "      <td>4</td>\n",
       "      <td>3</td>\n",
       "      <td>15893</td>\n",
       "      <td>15893</td>\n",
       "      <td>15893</td>\n",
       "      <td>11</td>\n",
       "      <td>1</td>\n",
       "      <td>...</td>\n",
       "      <td>NaN</td>\n",
       "      <td>NaN</td>\n",
       "      <td>NaN</td>\n",
       "      <td>NaN</td>\n",
       "      <td>NaN</td>\n",
       "      <td>NaN</td>\n",
       "      <td>NaN</td>\n",
       "      <td>Deg</td>\n",
       "      <td>Deg2022</td>\n",
       "      <td>Centro Sur Province</td>\n",
       "    </tr>\n",
       "    <tr>\n",
       "      <th>4</th>\n",
       "      <td>POINT (10.90676 1.93037)</td>\n",
       "      <td>4</td>\n",
       "      <td>1</td>\n",
       "      <td>1</td>\n",
       "      <td>4</td>\n",
       "      <td>15847</td>\n",
       "      <td>15847</td>\n",
       "      <td>15847</td>\n",
       "      <td>11</td>\n",
       "      <td>2</td>\n",
       "      <td>...</td>\n",
       "      <td>NaN</td>\n",
       "      <td>NaN</td>\n",
       "      <td>NaN</td>\n",
       "      <td>NaN</td>\n",
       "      <td>NaN</td>\n",
       "      <td>NaN</td>\n",
       "      <td>NaN</td>\n",
       "      <td>Stable</td>\n",
       "      <td>Stable</td>\n",
       "      <td>Wele-Nzas Province</td>\n",
       "    </tr>\n",
       "  </tbody>\n",
       "</table>\n",
       "<p>5 rows × 110 columns</p>\n",
       "</div>"
      ],
      "text/plain": [
       "                   geometry  UID  TNT_stratum_1522  TNT_stratum_2223  ID  \\\n",
       "0   POINT (8.46065 3.45399)    0                 3                 1   0   \n",
       "1  POINT (10.82731 1.75688)    1                 1                 4   1   \n",
       "2   POINT (10.7479 1.60262)    2                 4                 2   2   \n",
       "3  POINT (10.53471 1.18789)    3                 3                 4   3   \n",
       "4  POINT (10.90676 1.93037)    4                 1                 1   4   \n",
       "\n",
       "   plotid  point_id  sampleid  lon  lat  ... Ref_Ftype_2022  Ref_LCover_2022  \\\n",
       "0      45        45        45    8    3  ...            NaN              NaN   \n",
       "1   15952     15952     15952   11    2  ...            NaN              NaN   \n",
       "2   15936     15936     15936   11    2  ...            NaN              NaN   \n",
       "3   15893     15893     15893   11    1  ...            NaN              NaN   \n",
       "4   15847     15847     15847   11    2  ...            NaN              NaN   \n",
       "\n",
       "  Ref_Change_Year_2023  Ref_Change_LCover_2023 Def2023  Deg2023  \\\n",
       "0                  NaN                     NaN     NaN      NaN   \n",
       "1                  NaN                     NaN     NaN      NaN   \n",
       "2                  NaN                     NaN     NaN      NaN   \n",
       "3                  NaN                     NaN     NaN      NaN   \n",
       "4                  NaN                     NaN     NaN      NaN   \n",
       "\n",
       "   interpreted_qc  Ref_Change_Type_1523  Ref_Change_Year_1523  \\\n",
       "0             NaN                Stable                Stable   \n",
       "1             NaN                    NF                    NF   \n",
       "2             NaN                Stable                Stable   \n",
       "3             NaN                   Deg               Deg2022   \n",
       "4             NaN                Stable                Stable   \n",
       "\n",
       "              Province  \n",
       "0            Bioko Sur  \n",
       "1   Wele-Nzas Province  \n",
       "2   Wele-Nzas Province  \n",
       "3  Centro Sur Province  \n",
       "4   Wele-Nzas Province  \n",
       "\n",
       "[5 rows x 110 columns]"
      ]
     },
     "execution_count": 194,
     "metadata": {},
     "output_type": "execute_result"
    }
   ],
   "source": [
    "# recover columns\n",
    "# Step 1: Merge the two DataFrames on the 'ID' column (assuming 'ID' is the common key)\n",
    "merged_df = pd.merge(sampled_df, gdf, on='UID', how='left', suffixes=('', '_dup'))\n",
    "\n",
    "# Step 2: Remove duplicate columns\n",
    "# Here, we assume that any duplicate column from df2 will have the '_dup' suffix added by the merge\n",
    "# We will keep the columns from df1 and drop the duplicate ones from df2.\n",
    "merged_df = merged_df.loc[:, ~merged_df.columns.str.endswith('_dup')]\n",
    "merged_df.head()"
   ]
  },
  {
   "cell_type": "code",
   "execution_count": 195,
   "id": "3bd6c085-177c-41f3-9c9c-ec79f154d6d1",
   "metadata": {},
   "outputs": [
    {
     "data": {
      "text/html": [
       "\n",
       "            <style>\n",
       "                .geemap-dark {\n",
       "                    --jp-widgets-color: white;\n",
       "                    --jp-widgets-label-color: white;\n",
       "                    --jp-ui-font-color1: white;\n",
       "                    --jp-layout-color2: #454545;\n",
       "                    background-color: #383838;\n",
       "                }\n",
       "\n",
       "                .geemap-dark .jupyter-button {\n",
       "                    --jp-layout-color3: #383838;\n",
       "                }\n",
       "\n",
       "                .geemap-colab {\n",
       "                    background-color: var(--colab-primary-surface-color, white);\n",
       "                }\n",
       "\n",
       "                .geemap-colab .jupyter-button {\n",
       "                    --jp-layout-color3: var(--colab-primary-surface-color, white);\n",
       "                }\n",
       "            </style>\n",
       "            "
      ],
      "text/plain": [
       "<IPython.core.display.HTML object>"
      ]
     },
     "metadata": {},
     "output_type": "display_data"
    },
    {
     "name": "stdout",
     "output_type": "stream",
     "text": [
      "['geometry', 'UID', 'TNT_stratum_1522', 'TNT_stratum_2223', 'ID', 'plotid', 'point_id', 'sampleid', 'lon', 'lat', 'sample_geom', 'Ref_FNF_2015', 'Ref_Regeneration', 'Ref_Change_1522', 'Ref_Change_Type_1522', 'ArtFor', 'ArtMine', 'InfraR', 'Urb', 'IndFor', 'Other', 'Other_Desc', 'IndMine', 'IndAg', 'ArtAg', 'Ref_Year_1522', 'Ref_NFtype_2015', 'Ref_Ftype_2015', 'collection', 'interpreted', 'Ref_LCover_2015', 'Ref_Change_Year_1522', 'Ref_Change_LCover_1522', 'Def2016', 'Def2017', 'Def2018', 'Def2019', 'Def2020', 'Def2021', 'Def2022', 'Deg2016', 'Deg2017', 'Deg2018', 'Deg2019', 'Deg2020', 'Deg2021', 'Deg2022', 'Defall', 'Degall', 'Stable', 'NF', 'DensFor', 'DensDryFor', 'SecFor', 'DryOpenFor', 'Mangrove', 'Swamp', 'Gallery', 'Plantation', 'Woodland', 'Shrubland', 'Grassland', 'Aquatic', 'Bare', 'Cultivated', 'Builtup', 'Water', 'DensFor_Def', 'DensDryFor_Def', 'SecFor_Def', 'DryOpenFor_Def', 'Mangrove_Def', 'Swamp_Def', 'Gallery_Def', 'Plantation_Def', 'Woodland_Def', 'DensFor_Deg', 'DensDryFor_Deg', 'SecFor_Deg', 'DryOpenFor_Deg', 'Mangrove_Deg', 'Swamp_Deg', 'Gallery_Deg', 'Plantation_Deg', 'Woodland_Deg', 'DensFor_Stable', 'DensDryFor_Stable', 'SecFor_Stable', 'DryOpenFor_Stable', 'Mangrove_Stable', 'Swamp_Stable', 'Gallery_Stable', 'Plantation_Stable', 'Woodland_Stable', 'ISO', 'sampling', 'Ref_FNF_2022', 'Ref_Change_2023', 'Ref_Change_Type_2023', 'Ref_NFtype_2022', 'Ref_Ftype_2022', 'Ref_LCover_2022', 'Ref_Change_Year_2023', 'Ref_Change_LCover_2023', 'Def2023', 'Deg2023', 'interpreted_qc', 'Ref_Change_Type_1523', 'Ref_Change_Year_1523', 'Province']\n"
     ]
    }
   ],
   "source": [
    "merged_df_cols = merged_df.columns.tolist()\n",
    "# Display the list of column names\n",
    "print(merged_df_cols)"
   ]
  },
  {
   "cell_type": "code",
   "execution_count": 196,
   "id": "71d71848-96cb-4f28-87d5-bd02780e5f29",
   "metadata": {},
   "outputs": [
    {
     "data": {
      "text/html": [
       "\n",
       "            <style>\n",
       "                .geemap-dark {\n",
       "                    --jp-widgets-color: white;\n",
       "                    --jp-widgets-label-color: white;\n",
       "                    --jp-ui-font-color1: white;\n",
       "                    --jp-layout-color2: #454545;\n",
       "                    background-color: #383838;\n",
       "                }\n",
       "\n",
       "                .geemap-dark .jupyter-button {\n",
       "                    --jp-layout-color3: #383838;\n",
       "                }\n",
       "\n",
       "                .geemap-colab {\n",
       "                    background-color: var(--colab-primary-surface-color, white);\n",
       "                }\n",
       "\n",
       "                .geemap-colab .jupyter-button {\n",
       "                    --jp-layout-color3: var(--colab-primary-surface-color, white);\n",
       "                }\n",
       "            </style>\n",
       "            "
      ],
      "text/plain": [
       "<IPython.core.display.HTML object>"
      ]
     },
     "metadata": {},
     "output_type": "display_data"
    }
   ],
   "source": [
    "#drop any columns if needed\n",
    "columns_to_drop = ['sample_geom']\n",
    "#joined_data = joined_data.drop(columns_to_drop, axis=1)"
   ]
  },
  {
   "cell_type": "markdown",
   "id": "6d30f0cd-df2a-43fb-9d4b-4c2c5197c85b",
   "metadata": {},
   "source": [
    "##### repeat above as needed"
   ]
  },
  {
   "cell_type": "code",
   "execution_count": 197,
   "id": "924e615f-f733-4780-8c9c-623717e1d52c",
   "metadata": {},
   "outputs": [
    {
     "data": {
      "text/html": [
       "\n",
       "            <style>\n",
       "                .geemap-dark {\n",
       "                    --jp-widgets-color: white;\n",
       "                    --jp-widgets-label-color: white;\n",
       "                    --jp-ui-font-color1: white;\n",
       "                    --jp-layout-color2: #454545;\n",
       "                    background-color: #383838;\n",
       "                }\n",
       "\n",
       "                .geemap-dark .jupyter-button {\n",
       "                    --jp-layout-color3: #383838;\n",
       "                }\n",
       "\n",
       "                .geemap-colab {\n",
       "                    background-color: var(--colab-primary-surface-color, white);\n",
       "                }\n",
       "\n",
       "                .geemap-colab .jupyter-button {\n",
       "                    --jp-layout-color3: var(--colab-primary-surface-color, white);\n",
       "                }\n",
       "            </style>\n",
       "            "
      ],
      "text/plain": [
       "<IPython.core.display.HTML object>"
      ]
     },
     "metadata": {},
     "output_type": "display_data"
    },
    {
     "data": {
      "text/html": [
       "<div>\n",
       "<style scoped>\n",
       "    .dataframe tbody tr th:only-of-type {\n",
       "        vertical-align: middle;\n",
       "    }\n",
       "\n",
       "    .dataframe tbody tr th {\n",
       "        vertical-align: top;\n",
       "    }\n",
       "\n",
       "    .dataframe thead th {\n",
       "        text-align: right;\n",
       "    }\n",
       "</style>\n",
       "<table border=\"1\" class=\"dataframe\">\n",
       "  <thead>\n",
       "    <tr style=\"text-align: right;\">\n",
       "      <th>collection</th>\n",
       "      <th>coll_1522_1</th>\n",
       "      <th>coll_1522_2</th>\n",
       "      <th>coll_2023_1</th>\n",
       "      <th>coll_2023_2</th>\n",
       "      <th>coll_2023_3</th>\n",
       "      <th>Total</th>\n",
       "    </tr>\n",
       "    <tr>\n",
       "      <th>TNT_stratum_1522</th>\n",
       "      <th></th>\n",
       "      <th></th>\n",
       "      <th></th>\n",
       "      <th></th>\n",
       "      <th></th>\n",
       "      <th></th>\n",
       "    </tr>\n",
       "  </thead>\n",
       "  <tbody>\n",
       "    <tr>\n",
       "      <th>0</th>\n",
       "      <td>8</td>\n",
       "      <td>58</td>\n",
       "      <td>3</td>\n",
       "      <td>4</td>\n",
       "      <td>NaN</td>\n",
       "      <td>73</td>\n",
       "    </tr>\n",
       "    <tr>\n",
       "      <th>1</th>\n",
       "      <td>158</td>\n",
       "      <td>1043</td>\n",
       "      <td>87</td>\n",
       "      <td>149</td>\n",
       "      <td>6</td>\n",
       "      <td>1443</td>\n",
       "    </tr>\n",
       "    <tr>\n",
       "      <th>2</th>\n",
       "      <td>146</td>\n",
       "      <td>774</td>\n",
       "      <td>53</td>\n",
       "      <td>139</td>\n",
       "      <td>2</td>\n",
       "      <td>1114</td>\n",
       "    </tr>\n",
       "    <tr>\n",
       "      <th>3</th>\n",
       "      <td>96</td>\n",
       "      <td>790</td>\n",
       "      <td>56</td>\n",
       "      <td>115</td>\n",
       "      <td>1</td>\n",
       "      <td>1058</td>\n",
       "    </tr>\n",
       "    <tr>\n",
       "      <th>4</th>\n",
       "      <td>56</td>\n",
       "      <td>761</td>\n",
       "      <td>26</td>\n",
       "      <td>62</td>\n",
       "      <td>NaN</td>\n",
       "      <td>905</td>\n",
       "    </tr>\n",
       "    <tr>\n",
       "      <th>5</th>\n",
       "      <td>29</td>\n",
       "      <td>541</td>\n",
       "      <td>13</td>\n",
       "      <td>28</td>\n",
       "      <td>NaN</td>\n",
       "      <td>611</td>\n",
       "    </tr>\n",
       "    <tr>\n",
       "      <th>NaN</th>\n",
       "      <td>5</td>\n",
       "      <td>17</td>\n",
       "      <td>9</td>\n",
       "      <td>NaN</td>\n",
       "      <td>NaN</td>\n",
       "      <td>NaN</td>\n",
       "    </tr>\n",
       "    <tr>\n",
       "      <th>Total</th>\n",
       "      <td>498</td>\n",
       "      <td>3984</td>\n",
       "      <td>247</td>\n",
       "      <td>497</td>\n",
       "      <td>9</td>\n",
       "      <td>5235</td>\n",
       "    </tr>\n",
       "  </tbody>\n",
       "</table>\n",
       "</div>"
      ],
      "text/plain": [
       "collection        coll_1522_1  coll_1522_2  coll_2023_1  coll_2023_2  \\\n",
       "TNT_stratum_1522                                                       \n",
       "0                           8           58            3            4   \n",
       "1                         158         1043           87          149   \n",
       "2                         146          774           53          139   \n",
       "3                          96          790           56          115   \n",
       "4                          56          761           26           62   \n",
       "5                          29          541           13           28   \n",
       " NaN                        5           17            9          NaN   \n",
       " Total                    498         3984          247          497   \n",
       "\n",
       "collection        coll_2023_3  Total  \n",
       "TNT_stratum_1522                      \n",
       "0                         NaN     73  \n",
       "1                           6   1443  \n",
       "2                           2   1114  \n",
       "3                           1   1058  \n",
       "4                         NaN    905  \n",
       "5                         NaN    611  \n",
       " NaN                      NaN    NaN  \n",
       " Total                      9   5235  "
      ]
     },
     "execution_count": 197,
     "metadata": {},
     "output_type": "execute_result"
    }
   ],
   "source": [
    "pd.pivot_table(\n",
    "    merged_df,\n",
    "    values='UID',\n",
    "    index=['TNT_stratum_1522'],\n",
    "    columns=['collection'],\n",
    "    aggfunc=\"count\",\n",
    "    margins=True,              # Adds totals\n",
    "    margins_name='Total',      # Name of the margins/total column\n",
    "    dropna=False               # Include NaN values in the table\n",
    ")"
   ]
  },
  {
   "cell_type": "code",
   "execution_count": 198,
   "id": "3de6349c-2b9c-4988-bb9d-500c9dcf14fa",
   "metadata": {},
   "outputs": [
    {
     "data": {
      "text/html": [
       "\n",
       "            <style>\n",
       "                .geemap-dark {\n",
       "                    --jp-widgets-color: white;\n",
       "                    --jp-widgets-label-color: white;\n",
       "                    --jp-ui-font-color1: white;\n",
       "                    --jp-layout-color2: #454545;\n",
       "                    background-color: #383838;\n",
       "                }\n",
       "\n",
       "                .geemap-dark .jupyter-button {\n",
       "                    --jp-layout-color3: #383838;\n",
       "                }\n",
       "\n",
       "                .geemap-colab {\n",
       "                    background-color: var(--colab-primary-surface-color, white);\n",
       "                }\n",
       "\n",
       "                .geemap-colab .jupyter-button {\n",
       "                    --jp-layout-color3: var(--colab-primary-surface-color, white);\n",
       "                }\n",
       "            </style>\n",
       "            "
      ],
      "text/plain": [
       "<IPython.core.display.HTML object>"
      ]
     },
     "metadata": {},
     "output_type": "display_data"
    },
    {
     "data": {
      "text/html": [
       "<div>\n",
       "<style scoped>\n",
       "    .dataframe tbody tr th:only-of-type {\n",
       "        vertical-align: middle;\n",
       "    }\n",
       "\n",
       "    .dataframe tbody tr th {\n",
       "        vertical-align: top;\n",
       "    }\n",
       "\n",
       "    .dataframe thead th {\n",
       "        text-align: right;\n",
       "    }\n",
       "</style>\n",
       "<table border=\"1\" class=\"dataframe\">\n",
       "  <thead>\n",
       "    <tr style=\"text-align: right;\">\n",
       "      <th>collection</th>\n",
       "      <th>coll_1522_1</th>\n",
       "      <th>coll_1522_2</th>\n",
       "      <th>coll_2023_1</th>\n",
       "      <th>coll_2023_2</th>\n",
       "      <th>coll_2023_3</th>\n",
       "      <th>Total</th>\n",
       "    </tr>\n",
       "    <tr>\n",
       "      <th>TNT_stratum_2223</th>\n",
       "      <th></th>\n",
       "      <th></th>\n",
       "      <th></th>\n",
       "      <th></th>\n",
       "      <th></th>\n",
       "      <th></th>\n",
       "    </tr>\n",
       "  </thead>\n",
       "  <tbody>\n",
       "    <tr>\n",
       "      <th>0</th>\n",
       "      <td>1</td>\n",
       "      <td>5</td>\n",
       "      <td>NaN</td>\n",
       "      <td>NaN</td>\n",
       "      <td>NaN</td>\n",
       "      <td>6</td>\n",
       "    </tr>\n",
       "    <tr>\n",
       "      <th>1</th>\n",
       "      <td>269</td>\n",
       "      <td>2197</td>\n",
       "      <td>109</td>\n",
       "      <td>236</td>\n",
       "      <td>NaN</td>\n",
       "      <td>2811</td>\n",
       "    </tr>\n",
       "    <tr>\n",
       "      <th>2</th>\n",
       "      <td>58</td>\n",
       "      <td>379</td>\n",
       "      <td>21</td>\n",
       "      <td>59</td>\n",
       "      <td>NaN</td>\n",
       "      <td>517</td>\n",
       "    </tr>\n",
       "    <tr>\n",
       "      <th>3</th>\n",
       "      <td>76</td>\n",
       "      <td>575</td>\n",
       "      <td>52</td>\n",
       "      <td>76</td>\n",
       "      <td>NaN</td>\n",
       "      <td>779</td>\n",
       "    </tr>\n",
       "    <tr>\n",
       "      <th>4</th>\n",
       "      <td>74</td>\n",
       "      <td>643</td>\n",
       "      <td>45</td>\n",
       "      <td>97</td>\n",
       "      <td>3</td>\n",
       "      <td>862</td>\n",
       "    </tr>\n",
       "    <tr>\n",
       "      <th>5</th>\n",
       "      <td>15</td>\n",
       "      <td>168</td>\n",
       "      <td>11</td>\n",
       "      <td>29</td>\n",
       "      <td>6</td>\n",
       "      <td>229</td>\n",
       "    </tr>\n",
       "    <tr>\n",
       "      <th>NaN</th>\n",
       "      <td>5</td>\n",
       "      <td>17</td>\n",
       "      <td>9</td>\n",
       "      <td>NaN</td>\n",
       "      <td>NaN</td>\n",
       "      <td>NaN</td>\n",
       "    </tr>\n",
       "    <tr>\n",
       "      <th>Total</th>\n",
       "      <td>498</td>\n",
       "      <td>3984</td>\n",
       "      <td>247</td>\n",
       "      <td>497</td>\n",
       "      <td>9</td>\n",
       "      <td>5235</td>\n",
       "    </tr>\n",
       "  </tbody>\n",
       "</table>\n",
       "</div>"
      ],
      "text/plain": [
       "collection        coll_1522_1  coll_1522_2  coll_2023_1  coll_2023_2  \\\n",
       "TNT_stratum_2223                                                       \n",
       "0                           1            5          NaN          NaN   \n",
       "1                         269         2197          109          236   \n",
       "2                          58          379           21           59   \n",
       "3                          76          575           52           76   \n",
       "4                          74          643           45           97   \n",
       "5                          15          168           11           29   \n",
       " NaN                        5           17            9          NaN   \n",
       " Total                    498         3984          247          497   \n",
       "\n",
       "collection        coll_2023_3  Total  \n",
       "TNT_stratum_2223                      \n",
       "0                         NaN      6  \n",
       "1                         NaN   2811  \n",
       "2                         NaN    517  \n",
       "3                         NaN    779  \n",
       "4                           3    862  \n",
       "5                           6    229  \n",
       " NaN                      NaN    NaN  \n",
       " Total                      9   5235  "
      ]
     },
     "execution_count": 198,
     "metadata": {},
     "output_type": "execute_result"
    }
   ],
   "source": [
    "pd.pivot_table(\n",
    "    merged_df,\n",
    "    values='UID',\n",
    "    index=['TNT_stratum_2223'],\n",
    "    columns=['collection'],\n",
    "    aggfunc=\"count\",\n",
    "    margins=True,              # Adds totals\n",
    "    margins_name='Total',      # Name of the margins/total column\n",
    "    dropna=False               # Include NaN values in the table\n",
    ")"
   ]
  },
  {
   "cell_type": "code",
   "execution_count": 199,
   "id": "b8f2bbba-05d8-4119-b272-fb9c459e02b4",
   "metadata": {},
   "outputs": [
    {
     "data": {
      "text/html": [
       "\n",
       "            <style>\n",
       "                .geemap-dark {\n",
       "                    --jp-widgets-color: white;\n",
       "                    --jp-widgets-label-color: white;\n",
       "                    --jp-ui-font-color1: white;\n",
       "                    --jp-layout-color2: #454545;\n",
       "                    background-color: #383838;\n",
       "                }\n",
       "\n",
       "                .geemap-dark .jupyter-button {\n",
       "                    --jp-layout-color3: #383838;\n",
       "                }\n",
       "\n",
       "                .geemap-colab {\n",
       "                    background-color: var(--colab-primary-surface-color, white);\n",
       "                }\n",
       "\n",
       "                .geemap-colab .jupyter-button {\n",
       "                    --jp-layout-color3: var(--colab-primary-surface-color, white);\n",
       "                }\n",
       "            </style>\n",
       "            "
      ],
      "text/plain": [
       "<IPython.core.display.HTML object>"
      ]
     },
     "metadata": {},
     "output_type": "display_data"
    }
   ],
   "source": [
    "# Remove rows where the stratum has NaN values - outside the country\n",
    "merged_df = merged_df.dropna(subset=['TNT_stratum_2223'])"
   ]
  },
  {
   "cell_type": "code",
   "execution_count": 200,
   "id": "965f8db3-5e67-453a-b2d4-230347dded5e",
   "metadata": {},
   "outputs": [
    {
     "data": {
      "text/html": [
       "\n",
       "            <style>\n",
       "                .geemap-dark {\n",
       "                    --jp-widgets-color: white;\n",
       "                    --jp-widgets-label-color: white;\n",
       "                    --jp-ui-font-color1: white;\n",
       "                    --jp-layout-color2: #454545;\n",
       "                    background-color: #383838;\n",
       "                }\n",
       "\n",
       "                .geemap-dark .jupyter-button {\n",
       "                    --jp-layout-color3: #383838;\n",
       "                }\n",
       "\n",
       "                .geemap-colab {\n",
       "                    background-color: var(--colab-primary-surface-color, white);\n",
       "                }\n",
       "\n",
       "                .geemap-colab .jupyter-button {\n",
       "                    --jp-layout-color3: var(--colab-primary-surface-color, white);\n",
       "                }\n",
       "            </style>\n",
       "            "
      ],
      "text/plain": [
       "<IPython.core.display.HTML object>"
      ]
     },
     "metadata": {},
     "output_type": "display_data"
    },
    {
     "name": "stdout",
     "output_type": "stream",
     "text": [
      "The lengths of merged_df and ceo are different.\n",
      "Length of merged_df: 5204\n",
      "Length of ceo: 5235\n"
     ]
    }
   ],
   "source": [
    "# Check if the lengths of merged_df and ceo are the same\n",
    "if len(merged_df) == len(points):\n",
    "    print(\"The lengths of merged_df and ceo are the same.\")\n",
    "else:\n",
    "    print(\"The lengths of merged_df and ceo are different.\")\n",
    "\n",
    "# Optionally, you can print the lengths for clarity\n",
    "print(\"Length of merged_df:\", len(merged_df))\n",
    "print(\"Length of ceo:\", len(points))"
   ]
  },
  {
   "cell_type": "markdown",
   "id": "774e0847-82df-4a53-a798-6cffc7c74ec3",
   "metadata": {},
   "source": [
    "#### export"
   ]
  },
  {
   "cell_type": "code",
   "execution_count": 201,
   "id": "e6a8bacf-32d9-478d-af88-4421756df405",
   "metadata": {},
   "outputs": [
    {
     "data": {
      "text/html": [
       "\n",
       "            <style>\n",
       "                .geemap-dark {\n",
       "                    --jp-widgets-color: white;\n",
       "                    --jp-widgets-label-color: white;\n",
       "                    --jp-ui-font-color1: white;\n",
       "                    --jp-layout-color2: #454545;\n",
       "                    background-color: #383838;\n",
       "                }\n",
       "\n",
       "                .geemap-dark .jupyter-button {\n",
       "                    --jp-layout-color3: #383838;\n",
       "                }\n",
       "\n",
       "                .geemap-colab {\n",
       "                    background-color: var(--colab-primary-surface-color, white);\n",
       "                }\n",
       "\n",
       "                .geemap-colab .jupyter-button {\n",
       "                    --jp-layout-color3: var(--colab-primary-surface-color, white);\n",
       "                }\n",
       "            </style>\n",
       "            "
      ],
      "text/plain": [
       "<IPython.core.display.HTML object>"
      ]
     },
     "metadata": {},
     "output_type": "display_data"
    }
   ],
   "source": [
    "out_file =  '/home/sepal-user/module_results/esbae/EQG/EQG_all_ceo_2015_2022_2023_TNTstrat.csv'\n",
    "#sampled_df.to_csv(out_file,index=False)\n",
    "merged_df.to_csv(out_file,index=False)"
   ]
  },
  {
   "cell_type": "code",
   "execution_count": null,
   "id": "fab72301-1ac6-4112-a492-c8edbba56510",
   "metadata": {},
   "outputs": [],
   "source": []
  }
 ],
 "metadata": {
  "kernelspec": {
   "display_name": "Python 3",
   "language": "python",
   "name": "python3"
  },
  "language_info": {
   "codemirror_mode": {
    "name": "ipython",
    "version": 3
   },
   "file_extension": ".py",
   "mimetype": "text/x-python",
   "name": "python",
   "nbconvert_exporter": "python",
   "pygments_lexer": "ipython3",
   "version": "3.10.12"
  }
 },
 "nbformat": 4,
 "nbformat_minor": 5
}
