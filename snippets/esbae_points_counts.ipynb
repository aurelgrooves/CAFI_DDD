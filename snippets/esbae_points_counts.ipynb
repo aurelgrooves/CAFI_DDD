{
 "cells": [
  {
   "cell_type": "code",
   "execution_count": 2,
   "id": "cdeaa9c4-149c-4039-8d57-74d865be0e81",
   "metadata": {
    "tags": []
   },
   "outputs": [],
   "source": [
    "import pandas as pd\n",
    "import numpy as np\n",
    "pd.set_option('display.max_columns', None)\n",
    "pd.set_option('display.max_rows', None)"
   ]
  },
  {
   "cell_type": "markdown",
   "id": "569349b9-39eb-4e0a-b71a-ad55147edd61",
   "metadata": {},
   "source": [
    "### Read the CSV files\n",
    "### esbae all points with augmented data"
   ]
  },
  {
   "cell_type": "code",
   "execution_count": 2,
   "id": "a295f268-092b-4044-bbf7-f000e0c4ec40",
   "metadata": {
    "tags": []
   },
   "outputs": [
    {
     "data": {
      "text/plain": [
       "498847"
      ]
     },
     "execution_count": 2,
     "metadata": {},
     "output_type": "execute_result"
    }
   ],
   "source": [
    "CAR = pd.read_csv('/home/sepal-user/module_results/esbae/CAR/CAR_esbae_1520_model.csv')\n",
    "len(CAR)"
   ]
  },
  {
   "cell_type": "code",
   "execution_count": 3,
   "id": "5a9b801c-2b50-428e-8feb-bf60c5f095a5",
   "metadata": {
    "tags": []
   },
   "outputs": [
    {
     "name": "stdout",
     "output_type": "stream",
     "text": [
      "Index(['images', 'mon_images', 'bfast_change_date', 'bfast_magnitude',\n",
      "       'bfast_means', 'cusum_change_date', 'cusum_confidence',\n",
      "       'cusum_magnitude', 'red_mean', 'red_sd', 'red_min', 'red_max',\n",
      "       'nir_mean', 'nir_sd', 'nir_min', 'nir_max', 'swir1_mean', 'swir1_sd',\n",
      "       'swir1_min', 'swir1_max', 'swir2_mean', 'swir2_sd', 'swir2_min',\n",
      "       'swir2_max', 'ndfi_mean', 'ndfi_sd', 'ndfi_min', 'ndfi_max',\n",
      "       'brightness_mean', 'brightness_sd', 'brightness_min', 'brightness_max',\n",
      "       'greenness_mean', 'greenness_sd', 'greenness_min', 'greenness_max',\n",
      "       'wetness_mean', 'wetness_sd', 'wetness_min', 'wetness_max',\n",
      "       'bs_slope_mean', 'bs_slope_sd', 'bs_slope_max', 'bs_slope_min',\n",
      "       'ccdc_change_date', 'ccdc_magnitude', 'aspect', 'dw_class_mode',\n",
      "       'dw_tree_prob__max', 'dw_tree_prob__min', 'dw_tree_prob__stdDev',\n",
      "       'dw_tree_prob_mean', 'elevation', 'esa_lc20', 'esa_lc21', 'esri_lc17',\n",
      "       'esri_lc18', 'esri_lc19', 'esri_lc20', 'esri_lc21', 'gfc_gain',\n",
      "       'gfc_loss', 'gfc_lossyear', 'gfc_tc00', 'lang_tree_height',\n",
      "       'potapov_tree_height', 'slope', 'tmf_2016', 'tmf_2017', 'tmf_2018',\n",
      "       'tmf_2019', 'tmf_2020', 'tmf_defyear', 'tmf_degyear', 'tmf_main',\n",
      "       'tmf_sub', 'geometry', 'point_id', 'cnc_1520', 'chg_prob',\n",
      "       'simple_combined', 'stratum', 'kmeans', 'PLOTID', 'LON', 'LAT'],\n",
      "      dtype='object')\n"
     ]
    }
   ],
   "source": [
    "print(CAR.columns)"
   ]
  },
  {
   "cell_type": "code",
   "execution_count": 4,
   "id": "2215a694-88bf-40f3-bbd9-ef20fe5574ea",
   "metadata": {
    "tags": []
   },
   "outputs": [
    {
     "name": "stdout",
     "output_type": "stream",
     "text": [
      "2    284143\n",
      "3    131994\n",
      "1     82710\n",
      "Name: CAR, dtype: int64\n"
     ]
    }
   ],
   "source": [
    "#count the number of rows with each value in the 'Strata' column\n",
    "CAR_counts = CAR['kmeans_chg'].value_counts()\n",
    "CAR_counts.name = \"CAR\"\n",
    "# Print the counts\n",
    "print(CAR_counts)"
   ]
  },
  {
   "cell_type": "code",
   "execution_count": 5,
   "id": "792deae3-8f92-432c-8890-79500d7b2380",
   "metadata": {
    "tags": []
   },
   "outputs": [
    {
     "ename": "ParserError",
     "evalue": "Error tokenizing data. C error: Calling read(nbytes) on source failed. Try engine='python'.",
     "output_type": "error",
     "traceback": [
      "\u001b[0;31m---------------------------------------------------------------------------\u001b[0m",
      "\u001b[0;31mParserError\u001b[0m                               Traceback (most recent call last)",
      "Cell \u001b[0;32mIn[5], line 1\u001b[0m\n\u001b[0;32m----> 1\u001b[0m CMR \u001b[38;5;241m=\u001b[39m \u001b[43mpd\u001b[49m\u001b[38;5;241;43m.\u001b[39;49m\u001b[43mread_csv\u001b[49m\u001b[43m(\u001b[49m\u001b[38;5;124;43m'\u001b[39;49m\u001b[38;5;124;43m/home/sepal-user/module_results/esbae/CMR/CMR_esbae_2015_2022_model.csv\u001b[39;49m\u001b[38;5;124;43m'\u001b[39;49m\u001b[43m)\u001b[49m\n\u001b[1;32m      2\u001b[0m \u001b[38;5;28mlen\u001b[39m(CMR)\n",
      "File \u001b[0;32m~/.local/lib/python3.8/site-packages/pandas/util/_decorators.py:311\u001b[0m, in \u001b[0;36mdeprecate_nonkeyword_arguments.<locals>.decorate.<locals>.wrapper\u001b[0;34m(*args, **kwargs)\u001b[0m\n\u001b[1;32m    305\u001b[0m \u001b[38;5;28;01mif\u001b[39;00m \u001b[38;5;28mlen\u001b[39m(args) \u001b[38;5;241m>\u001b[39m num_allow_args:\n\u001b[1;32m    306\u001b[0m     warnings\u001b[38;5;241m.\u001b[39mwarn(\n\u001b[1;32m    307\u001b[0m         msg\u001b[38;5;241m.\u001b[39mformat(arguments\u001b[38;5;241m=\u001b[39marguments),\n\u001b[1;32m    308\u001b[0m         \u001b[38;5;167;01mFutureWarning\u001b[39;00m,\n\u001b[1;32m    309\u001b[0m         stacklevel\u001b[38;5;241m=\u001b[39mstacklevel,\n\u001b[1;32m    310\u001b[0m     )\n\u001b[0;32m--> 311\u001b[0m \u001b[38;5;28;01mreturn\u001b[39;00m \u001b[43mfunc\u001b[49m\u001b[43m(\u001b[49m\u001b[38;5;241;43m*\u001b[39;49m\u001b[43margs\u001b[49m\u001b[43m,\u001b[49m\u001b[43m \u001b[49m\u001b[38;5;241;43m*\u001b[39;49m\u001b[38;5;241;43m*\u001b[39;49m\u001b[43mkwargs\u001b[49m\u001b[43m)\u001b[49m\n",
      "File \u001b[0;32m~/.local/lib/python3.8/site-packages/pandas/io/parsers/readers.py:678\u001b[0m, in \u001b[0;36mread_csv\u001b[0;34m(filepath_or_buffer, sep, delimiter, header, names, index_col, usecols, squeeze, prefix, mangle_dupe_cols, dtype, engine, converters, true_values, false_values, skipinitialspace, skiprows, skipfooter, nrows, na_values, keep_default_na, na_filter, verbose, skip_blank_lines, parse_dates, infer_datetime_format, keep_date_col, date_parser, dayfirst, cache_dates, iterator, chunksize, compression, thousands, decimal, lineterminator, quotechar, quoting, doublequote, escapechar, comment, encoding, encoding_errors, dialect, error_bad_lines, warn_bad_lines, on_bad_lines, delim_whitespace, low_memory, memory_map, float_precision, storage_options)\u001b[0m\n\u001b[1;32m    663\u001b[0m kwds_defaults \u001b[38;5;241m=\u001b[39m _refine_defaults_read(\n\u001b[1;32m    664\u001b[0m     dialect,\n\u001b[1;32m    665\u001b[0m     delimiter,\n\u001b[0;32m   (...)\u001b[0m\n\u001b[1;32m    674\u001b[0m     defaults\u001b[38;5;241m=\u001b[39m{\u001b[38;5;124m\"\u001b[39m\u001b[38;5;124mdelimiter\u001b[39m\u001b[38;5;124m\"\u001b[39m: \u001b[38;5;124m\"\u001b[39m\u001b[38;5;124m,\u001b[39m\u001b[38;5;124m\"\u001b[39m},\n\u001b[1;32m    675\u001b[0m )\n\u001b[1;32m    676\u001b[0m kwds\u001b[38;5;241m.\u001b[39mupdate(kwds_defaults)\n\u001b[0;32m--> 678\u001b[0m \u001b[38;5;28;01mreturn\u001b[39;00m \u001b[43m_read\u001b[49m\u001b[43m(\u001b[49m\u001b[43mfilepath_or_buffer\u001b[49m\u001b[43m,\u001b[49m\u001b[43m \u001b[49m\u001b[43mkwds\u001b[49m\u001b[43m)\u001b[49m\n",
      "File \u001b[0;32m~/.local/lib/python3.8/site-packages/pandas/io/parsers/readers.py:581\u001b[0m, in \u001b[0;36m_read\u001b[0;34m(filepath_or_buffer, kwds)\u001b[0m\n\u001b[1;32m    578\u001b[0m     \u001b[38;5;28;01mreturn\u001b[39;00m parser\n\u001b[1;32m    580\u001b[0m \u001b[38;5;28;01mwith\u001b[39;00m parser:\n\u001b[0;32m--> 581\u001b[0m     \u001b[38;5;28;01mreturn\u001b[39;00m \u001b[43mparser\u001b[49m\u001b[38;5;241;43m.\u001b[39;49m\u001b[43mread\u001b[49m\u001b[43m(\u001b[49m\u001b[43mnrows\u001b[49m\u001b[43m)\u001b[49m\n",
      "File \u001b[0;32m~/.local/lib/python3.8/site-packages/pandas/io/parsers/readers.py:1253\u001b[0m, in \u001b[0;36mTextFileReader.read\u001b[0;34m(self, nrows)\u001b[0m\n\u001b[1;32m   1251\u001b[0m nrows \u001b[38;5;241m=\u001b[39m validate_integer(\u001b[38;5;124m\"\u001b[39m\u001b[38;5;124mnrows\u001b[39m\u001b[38;5;124m\"\u001b[39m, nrows)\n\u001b[1;32m   1252\u001b[0m \u001b[38;5;28;01mtry\u001b[39;00m:\n\u001b[0;32m-> 1253\u001b[0m     index, columns, col_dict \u001b[38;5;241m=\u001b[39m \u001b[38;5;28;43mself\u001b[39;49m\u001b[38;5;241;43m.\u001b[39;49m\u001b[43m_engine\u001b[49m\u001b[38;5;241;43m.\u001b[39;49m\u001b[43mread\u001b[49m\u001b[43m(\u001b[49m\u001b[43mnrows\u001b[49m\u001b[43m)\u001b[49m\n\u001b[1;32m   1254\u001b[0m \u001b[38;5;28;01mexcept\u001b[39;00m \u001b[38;5;167;01mException\u001b[39;00m:\n\u001b[1;32m   1255\u001b[0m     \u001b[38;5;28mself\u001b[39m\u001b[38;5;241m.\u001b[39mclose()\n",
      "File \u001b[0;32m~/.local/lib/python3.8/site-packages/pandas/io/parsers/c_parser_wrapper.py:225\u001b[0m, in \u001b[0;36mCParserWrapper.read\u001b[0;34m(self, nrows)\u001b[0m\n\u001b[1;32m    223\u001b[0m \u001b[38;5;28;01mtry\u001b[39;00m:\n\u001b[1;32m    224\u001b[0m     \u001b[38;5;28;01mif\u001b[39;00m \u001b[38;5;28mself\u001b[39m\u001b[38;5;241m.\u001b[39mlow_memory:\n\u001b[0;32m--> 225\u001b[0m         chunks \u001b[38;5;241m=\u001b[39m \u001b[38;5;28;43mself\u001b[39;49m\u001b[38;5;241;43m.\u001b[39;49m\u001b[43m_reader\u001b[49m\u001b[38;5;241;43m.\u001b[39;49m\u001b[43mread_low_memory\u001b[49m\u001b[43m(\u001b[49m\u001b[43mnrows\u001b[49m\u001b[43m)\u001b[49m\n\u001b[1;32m    226\u001b[0m         \u001b[38;5;66;03m# destructive to chunks\u001b[39;00m\n\u001b[1;32m    227\u001b[0m         data \u001b[38;5;241m=\u001b[39m _concatenate_chunks(chunks)\n",
      "File \u001b[0;32m~/.local/lib/python3.8/site-packages/pandas/_libs/parsers.pyx:805\u001b[0m, in \u001b[0;36mpandas._libs.parsers.TextReader.read_low_memory\u001b[0;34m()\u001b[0m\n",
      "File \u001b[0;32m~/.local/lib/python3.8/site-packages/pandas/_libs/parsers.pyx:861\u001b[0m, in \u001b[0;36mpandas._libs.parsers.TextReader._read_rows\u001b[0;34m()\u001b[0m\n",
      "File \u001b[0;32m~/.local/lib/python3.8/site-packages/pandas/_libs/parsers.pyx:847\u001b[0m, in \u001b[0;36mpandas._libs.parsers.TextReader._tokenize_rows\u001b[0;34m()\u001b[0m\n",
      "File \u001b[0;32m~/.local/lib/python3.8/site-packages/pandas/_libs/parsers.pyx:1960\u001b[0m, in \u001b[0;36mpandas._libs.parsers.raise_parser_error\u001b[0;34m()\u001b[0m\n",
      "\u001b[0;31mParserError\u001b[0m: Error tokenizing data. C error: Calling read(nbytes) on source failed. Try engine='python'."
     ]
    }
   ],
   "source": [
    "CMR = pd.read_csv('/home/sepal-user/module_results/esbae/CMR/CMR_esbae_1520_model.csv')\n",
    "len(CMR)"
   ]
  },
  {
   "cell_type": "code",
   "execution_count": null,
   "id": "f523c480-8ad6-4620-b3f7-28a026c531aa",
   "metadata": {
    "tags": []
   },
   "outputs": [],
   "source": [
    "#count the number of rows with each value in the 'Strata' column\n",
    "CMR_counts = CMR['kmeans_chg'].value_counts()\n",
    "CMR_counts.name = \"CMR\"\n",
    "# Print the counts\n",
    "print(CMR_counts)"
   ]
  },
  {
   "cell_type": "code",
   "execution_count": 3,
   "id": "82ef4fed-8cda-42b4-a50a-a31312e5c0b2",
   "metadata": {
    "tags": []
   },
   "outputs": [
    {
     "data": {
      "text/plain": [
       "291595"
      ]
     },
     "execution_count": 3,
     "metadata": {},
     "output_type": "execute_result"
    }
   ],
   "source": [
    "COG = pd.read_csv('/home/sepal-user/module_results/esbae/COG/COG_esbae_1520_model.csv')\n",
    "len(COG)"
   ]
  },
  {
   "cell_type": "code",
   "execution_count": 4,
   "id": "0ad3e620-6967-4812-93da-da7f6cf8d4ad",
   "metadata": {
    "tags": []
   },
   "outputs": [
    {
     "name": "stdout",
     "output_type": "stream",
     "text": [
      "kmeans_chg\n",
      "1    188655\n",
      "2     81566\n",
      "3     21374\n",
      "Name: COG, dtype: int64\n"
     ]
    }
   ],
   "source": [
    "#count the number of rows with each value in the 'Strata' column\n",
    "COG_counts = COG['kmeans_chg'].value_counts()\n",
    "COG_counts.name = \"COG\"\n",
    "# Print the counts\n",
    "print(COG_counts)"
   ]
  },
  {
   "cell_type": "code",
   "execution_count": 9,
   "id": "276cf2b3-ba0b-4d56-8354-9f1f8e9a1f0b",
   "metadata": {
    "tags": []
   },
   "outputs": [
    {
     "data": {
      "text/plain": [
       "1973273"
      ]
     },
     "execution_count": 9,
     "metadata": {},
     "output_type": "execute_result"
    }
   ],
   "source": [
    "DRC = pd.read_csv('/home/sepal-user/module_results/esbae/DRC/DRC_esbae_1520_model.csv')\n",
    "len(DRC)"
   ]
  },
  {
   "cell_type": "code",
   "execution_count": 10,
   "id": "d4c2a84d-e543-4469-8b81-7a932a4d91b5",
   "metadata": {
    "tags": []
   },
   "outputs": [
    {
     "name": "stdout",
     "output_type": "stream",
     "text": [
      "kmeans_chg\n",
      "1    1001340\n",
      "2     777559\n",
      "3     194374\n",
      "Name: DRC, dtype: int64\n"
     ]
    }
   ],
   "source": [
    "#count the number of rows with each value in the 'Strata' column\n",
    "DRC_counts = DRC['kmeans_chg'].value_counts()\n",
    "DRC_counts.name = \"DRC\"\n",
    "# Print the counts\n",
    "print(DRC_counts)"
   ]
  },
  {
   "cell_type": "code",
   "execution_count": 5,
   "id": "5049ee8b-41f4-46b9-8656-e2a99a5a0a2e",
   "metadata": {
    "tags": []
   },
   "outputs": [
    {
     "data": {
      "text/plain": [
       "22809"
      ]
     },
     "execution_count": 5,
     "metadata": {},
     "output_type": "execute_result"
    }
   ],
   "source": [
    "EQG = pd.read_csv('/home/sepal-user/module_results/esbae/EQG/EQG_esbae_1520_model.csv')\n",
    "len(EQG)"
   ]
  },
  {
   "cell_type": "code",
   "execution_count": 6,
   "id": "e9057ac2-a2c8-4ebb-8a3a-7f04eca2c516",
   "metadata": {
    "tags": []
   },
   "outputs": [
    {
     "name": "stdout",
     "output_type": "stream",
     "text": [
      "kmeans_chg\n",
      "1    14870\n",
      "2     5914\n",
      "3     2025\n",
      "Name: EQG, dtype: int64\n"
     ]
    }
   ],
   "source": [
    "#count the number of rows with each value in the 'Strata' column\n",
    "EQG_counts = EQG['kmeans_chg'].value_counts()\n",
    "EQG_counts.name = \"EQG\"\n",
    "# Print the counts\n",
    "print(EQG_counts)"
   ]
  },
  {
   "cell_type": "code",
   "execution_count": 7,
   "id": "1e8f6f1a-9994-451a-a2c3-ac2054d2fd2e",
   "metadata": {
    "tags": []
   },
   "outputs": [
    {
     "data": {
      "text/plain": [
       "222878"
      ]
     },
     "execution_count": 7,
     "metadata": {},
     "output_type": "execute_result"
    }
   ],
   "source": [
    "GAB = pd.read_csv('/home/sepal-user/module_results/esbae/GAB/GAB_esbae_1520_model.csv')\n",
    "len(GAB)"
   ]
  },
  {
   "cell_type": "code",
   "execution_count": 8,
   "id": "a027c907-44de-491d-b789-8266ac7fd842",
   "metadata": {},
   "outputs": [
    {
     "name": "stdout",
     "output_type": "stream",
     "text": [
      "kmeans_chg\n",
      "1    143313\n",
      "2     68205\n",
      "3     11360\n",
      "Name: GAB, dtype: int64\n"
     ]
    }
   ],
   "source": [
    "#count the number of rows with each value in the 'Strata' column\n",
    "GAB_counts = GAB['kmeans_chg'].value_counts()\n",
    "GAB_counts.name = \"GAB\"\n",
    "# Print the counts\n",
    "print(GAB_counts)"
   ]
  },
  {
   "cell_type": "code",
   "execution_count": null,
   "id": "1b443ca8-c94f-4f83-a067-4c9d4966a43c",
   "metadata": {
    "tags": []
   },
   "outputs": [],
   "source": [
    "CAFI = pd.concat([CAR_counts, GAB_counts, COG_counts,EQG_counts,DRC_counts,CMR_counts], axis=1)"
   ]
  },
  {
   "cell_type": "code",
   "execution_count": null,
   "id": "2a630251-cd32-43f9-881b-39354be7638d",
   "metadata": {},
   "outputs": [],
   "source": [
    "CAFI = CAFI.rename_axis('kmeans_chg')\n",
    "# Define a custom order for the rows\n",
    "new_order = [1, 2, 3]\n",
    "\n",
    "# Reorder the DataFrame using reindex\n",
    "CAFI = CAFI.reindex(new_order)\n",
    "CAFI"
   ]
  },
  {
   "cell_type": "code",
   "execution_count": null,
   "id": "14f5815d-ae92-4288-bb09-f9bb50c216f5",
   "metadata": {
    "tags": []
   },
   "outputs": [],
   "source": [
    "# Calculate row totals and create a DataFrame\n",
    "row_totals = CAFI.sum(axis=1).to_frame()\n",
    "row_totals.columns = ['Stratum_Total']\n",
    "\n",
    "# Concatenate the row totals as a new column to the original DataFrame\n",
    "CAFI = pd.concat([CAFI, row_totals], axis=1)\n",
    "CAFI"
   ]
  },
  {
   "cell_type": "code",
   "execution_count": null,
   "id": "4fb78c3d-a70b-495f-b956-46075ad893e4",
   "metadata": {
    "tags": []
   },
   "outputs": [],
   "source": [
    "# Calculate column totals\n",
    "column_totals = CAFI.sum().to_frame().T\n",
    "column_totals.index = ['Country_Total']  # Add 'Total' as the index name\n",
    "\n",
    "# Concatenate the column totals to the original DataFrame\n",
    "CAFI = pd.concat([CAFI, column_totals])\n",
    "CAFI"
   ]
  },
  {
   "cell_type": "code",
   "execution_count": null,
   "id": "52fc1653-59c9-43ef-8ec7-a61a1fb9a98f",
   "metadata": {
    "tags": []
   },
   "outputs": [],
   "source": [
    "CAFI = CAFI.rename_axis('stratum')\n",
    "CAFI_out_file =  '/home/sepal-user/module_results/esbae/CAFI_strata_counts.csv'\n",
    "CAFI.to_csv(CAFI_out_file,index=True)"
   ]
  }
 ],
 "metadata": {
  "kernelspec": {
   "display_name": "Python 3",
   "language": "python",
   "name": "python3"
  },
  "language_info": {
   "codemirror_mode": {
    "name": "ipython",
    "version": 3
   },
   "file_extension": ".py",
   "mimetype": "text/x-python",
   "name": "python",
   "nbconvert_exporter": "python",
   "pygments_lexer": "ipython3",
   "version": "3.10.12"
  }
 },
 "nbformat": 4,
 "nbformat_minor": 5
}
