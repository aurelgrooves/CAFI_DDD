{
 "cells": [
  {
   "cell_type": "markdown",
   "id": "d0b45b24-6cc1-44b4-ba38-dd9b053e49dc",
   "metadata": {
    "tags": []
   },
   "source": [
    "![title](../images/header.png)\n",
    "\n",
    "Merging CEO data phase II (2015-2022)\n",
    "-------\n",
    "This notebook merges validated data from different CEO CAFI projects\n",
    "###### For more information contact aurelie.shapiro@fao.org or remi.dannunzio@fao.org"
   ]
  },
  {
   "cell_type": "code",
   "execution_count": 33,
   "id": "7899a542-decb-4052-8f0d-44d83d23ba6d",
   "metadata": {
    "tags": []
   },
   "outputs": [],
   "source": [
    "import pandas as pd\n",
    "import numpy as np\n",
    "import matplotlib.pyplot as plt\n",
    "pd.set_option('display.max_columns', None)\n",
    "pd.set_option('display.max_rows', None)\n",
    "# Set the display option to a large value to prevent text wrapping\n",
    "pd.set_option('display.max_colwidth', None)"
   ]
  },
  {
   "cell_type": "markdown",
   "id": "a927a489-00d9-4326-858f-bdd4b5edd657",
   "metadata": {},
   "source": [
    "## Enter parameters"
   ]
  },
  {
   "cell_type": "code",
   "execution_count": 34,
   "id": "af7f5292-a88f-47d8-909e-078c742360c2",
   "metadata": {},
   "outputs": [],
   "source": [
    "#identifier for country \n",
    "# COD COG CMR GAB EQG CAF\n",
    "iso = 'EQG'"
   ]
  },
  {
   "cell_type": "markdown",
   "id": "b5b5e710-f28e-4862-ac7f-f072e4672886",
   "metadata": {},
   "source": [
    "### 1. Read all CEO sample files\n",
    "download your CEO sample files from collect.earth and upload to SEPAL using FileZilla.\n",
    "add as many files as you have projects"
   ]
  },
  {
   "cell_type": "code",
   "execution_count": 35,
   "id": "dbf603c5-ed47-4e36-b271-26e6200a3737",
   "metadata": {
    "tags": []
   },
   "outputs": [],
   "source": [
    "#DRC\n",
    "#ceo1 = pd.read_csv('/home/sepal-user/module_results/esbae/DRC/ceo-CAFI-DDD-RDC-eSBAE-validation-1-sample-data.csv')\n",
    "#ceo2 = pd.read_csv('/home/sepal-user/module_results/esbae/DRC/ceo-CAFI-DDD-RDC-eSBAE-validation-2-sample-data.csv')\n",
    "#ceo3 = pd.read_csv('/home/sepal-user/module_results/esbae/DRC/ceo-CAFI-DDD-RDC-eSBAE-validation-3-sample-data.csv')\n",
    "#GAB\n",
    "#ceo1 = pd.read_csv('/home/sepal-user/module_results/esbae/GAB/ceo-CAFI-DDD-Gabon-eSBAE-validation-1-sample-data.csv')\n",
    "#ceo2 = pd.read_csv('/home/sepal-user/module_results/esbae/GAB/ceo-CAFI-DDD-Gabon-eSBAE-validation-2-sample-data.csv')\n",
    "#ceo3 = pd.read_csv('/home/sepal-user/module_results/esbae/GAB/ceo-CAFI-DDD-Gabon-eSBAE-validation-3-sample-data.csv')\n",
    "#ceo4 = pd.read_csv('/home/sepal-user/module_results/esbae/GAB/ceo-CAFI-DDD-Gabon-eSBAE-validation-4-sample-data.csv')\n",
    "#ceo5 = pd.read_csv('/home/sepal-user/module_results/esbae/GAB/ceo-CAFI-DDD-Gabon-eSBAE-validation-5-sample-data.csv')\n",
    "#EQG\n",
    "#ceo1 = pd.read_csv('/home/sepal-user/module_results/esbae/EQG/ceo-CAFI-DDD-Equatorial-Guinea-eSBAE-validation-1-sample-data.csv')\n",
    "#ceo2 = pd.read_csv('/home/sepal-user/module_results/esbae/EQG/ceo-CAFI-DDD-Equatorial-Guinea-eSBAE-validation-2-sample-data.csv')\n",
    "ceo1 = pd.read_csv('/home/sepal-user/module_results/esbae/EQG/ceo-CAFI-DDD-EQG-eSBAE-2023-collection-1-sample-data.csv')\n",
    "ceo2 = pd.read_csv('/home/sepal-user/module_results/esbae/EQG/ceo-CAFI-DDD-EQG-eSBAE-2023-collection-2-sample-data.csv')\n",
    "#COG\n",
    "#ceo1 = pd.read_csv('/home/sepal-user/module_results/esbae/COG/COG_all_ceo_1522_1622_clean.csv')\n",
    "#CMR\n",
    "#ceo1 = pd.read_csv('/home/sepal-user/module_results/esbae/CMR/ceo-CAFI-DDD-Cameroun-eSBAE-validation-1-sample-data.csv')\n",
    "#ceo2 = pd.read_csv('/home/sepal-user/module_results/esbae/CMR/ceo-CAFI-DDD-Cameroun-eSBAE-validation-2-sample-data.csv')\n",
    "#CAR\n",
    "#ceo1 = pd.read_csv('/home/sepal-user/module_results/esbae/CAR/ceo-CAFI-DDD-RCA-eSBAE-validation-1-sample-data.csv')\n",
    "#ceo2 = pd.read_csv('/home/sepal-user/module_results/esbae/CAR/ceo-CAFI-DDD-RCA-eSBAE-validation-2-sample-data.csv')"
   ]
  },
  {
   "cell_type": "markdown",
   "id": "08ab5a47-050b-420b-a731-144ccdf915f6",
   "metadata": {},
   "source": [
    "make a list of the ceo files for processing"
   ]
  },
  {
   "cell_type": "code",
   "execution_count": 36,
   "id": "15b7a88f-3314-4a30-b41e-0a9bb38e5baa",
   "metadata": {},
   "outputs": [],
   "source": [
    "#depends on how many files you have\n",
    "# if you have 5 files\n",
    "#ceo_files = [ceo1, ceo2, ceo3, ceo4, ceo5]\n",
    "# if you have 3 files\n",
    "#ceo_files = [ceo1, ceo2, ceo3]\n",
    "# if you have 2 files\n",
    "ceo_files = [ceo1,ceo2]\n",
    "# if you have 1 file\n",
    "#ceo_files = [ceo1]"
   ]
  },
  {
   "cell_type": "code",
   "execution_count": 37,
   "id": "a6f7352f-95a8-4821-a499-618062fda269",
   "metadata": {},
   "outputs": [],
   "source": [
    "# output file  CEO validated data file with select columns\n",
    "ceo_data_out =  '/home/sepal-user/module_results/esbae/EQG/EQG_all_ceo_2023_clean.csv'"
   ]
  },
  {
   "cell_type": "markdown",
   "id": "5f183313-e35a-4cde-afc2-879b4ba7508a",
   "metadata": {},
   "source": [
    "### end of parameters"
   ]
  },
  {
   "cell_type": "code",
   "execution_count": 38,
   "id": "aa3ab8ff-9649-44f5-99c4-90089d9a6f51",
   "metadata": {
    "tags": []
   },
   "outputs": [
    {
     "name": "stdout",
     "output_type": "stream",
     "text": [
      "['plotid', 'sampleid', 'sample_internal_id', 'lon', 'lat', 'email', 'flagged', 'collection_time', 'analysis_duration', 'imagery_title', 'imagery_attributions', 'sample_geom', 'pl_index', 'pl_chgprob', 'pl_maxforprob', 'pl_strata', 'forêt ou non-forêt en 2022', \"Y'a t'il de la régéneration\", 'Changement en 2023', 'Type de Changement 2023', 'Exploitation forestière artisanale (<5ha)', 'Activité minière artisanale', 'Infrastructure routière', 'Infrastructure d’urbanisation ou habitations', 'Exploitation forestière industrielle (>5ha)', 'Autre moteur', 'Descriptif autre moteur', 'Activité minière industrielle', 'Agriculture industrielle', 'Agriculture paysanne', 'Année de Changement', 'Type de non-forêt en 2022', 'Type de forêt en 2022', 'Commentaires']\n"
     ]
    }
   ],
   "source": [
    "column_names = ceo1.columns.tolist()\n",
    "# Print the list of column names\n",
    "print(column_names)"
   ]
  },
  {
   "cell_type": "markdown",
   "id": "e405fab6-a8a0-4461-96e4-091177c712f3",
   "metadata": {},
   "source": [
    "##### add a column named \"interpreted\" which = 1 when the point has been validated in CEO, otherwise 0\n",
    "count the number of validated points per ceo file\n",
    "replace forest and non-forest types with codes"
   ]
  },
  {
   "cell_type": "code",
   "execution_count": 70,
   "id": "d9c12ded-8591-4487-9494-68b2081e3987",
   "metadata": {
    "tags": []
   },
   "outputs": [
    {
     "name": "stdout",
     "output_type": "stream",
     "text": [
      "ceo 1 # of validated points: 247, # of not validated points: 0\n",
      "ceo 2 # of validated points: 155, # of not validated points: 342\n"
     ]
    }
   ],
   "source": [
    "# List to store the modified DataFrames\n",
    "modified_ceo_files = []\n",
    "\n",
    "# Initialize collection counter\n",
    "collection_counter = 1\n",
    "\n",
    "for i, ceo in enumerate(ceo_files):\n",
    "       \n",
    "    # Sort the DataFrame by 'date' in descending order\n",
    "    ceo.sort_values(by='collection_time', ascending=True, inplace=True)\n",
    "\n",
    "    # Remove duplicates keeping the last occurrence (the most recent date)\n",
    "    ceo.drop_duplicates(subset='plotid', keep='first', inplace=True)\n",
    "\n",
    "    # Reset the index\n",
    "    ceo.reset_index(drop=True, inplace=True)\n",
    "    \n",
    "    # Add 'collection' column with an increasing number\n",
    "    ceo['collection'] = collection_counter\n",
    "    \n",
    "    # Add 'interpreted' column with 1 when 'email' is not null, otherwise 0\n",
    "    ceo['interpreted'] = np.where(ceo['email'].notna(), 1, 0)\n",
    "    \n",
    "    # Calculate total count for each 'interpreted' value\n",
    "    interpreted_counts = ceo['interpreted'].value_counts().to_dict()\n",
    "    \n",
    "    # Append the modified DataFrame to the list\n",
    "    modified_ceo_files.append(ceo)\n",
    "    \n",
    "    # Print count for the current DataFrame\n",
    "    print(f\"ceo {i + 1} # of validated points: {interpreted_counts.get(1, 0)}, # of not validated points: {interpreted_counts.get(0, 0)}\")\n",
    "    \n",
    "    # Increment the collection counter\n",
    "    collection_counter += 1\n",
    "\n",
    "# Concatenate the modified DataFrames into one merged DataFrame\n",
    "merged_ceo = pd.concat(modified_ceo_files, ignore_index=True)\n",
    "\n",
    "\n",
    "# Specify the columns you want to keep in the merged DataFrame\n",
    "columns_to_keep = ['plotid', 'sampleid', 'lon', 'lat', \n",
    "                    'sample_geom', 'forêt ou non-forêt en 2022', \"Y'a t'il de la régéneration\", \n",
    "                    'Changement en 2023', 'Type de Changement 2023', 'Exploitation forestière artisanale (<5ha)', \n",
    "                    'Activité minière artisanale', 'Infrastructure routière', 'Infrastructure d’urbanisation ou habitations', \n",
    "                    'Exploitation forestière industrielle (>5ha)', 'Autre moteur', 'Descriptif autre moteur', 'Activité minière industrielle', \n",
    "                    'Agriculture industrielle', 'Agriculture paysanne', 'Année de Changement', 'Type de non-forêt en 2022', 'Type de forêt en 2022', 'collection', 'interpreted']\n",
    "\n",
    "# Select only the specified columns\n",
    "merged_ceo = merged_ceo[columns_to_keep]\n",
    "\n",
    "# Create a dictionary to map old column names to new column names\n",
    "column_mapping = {\n",
    "    'forêt ou non-forêt en 2022': 'Ref_FNF_2022', \n",
    "    \"Y'a t'il de la régéneration\": 'Ref_Regeneration',\n",
    "    'Changement en 2023': 'Ref_Change_2023', \n",
    "    'Type de Changement 2023': 'Ref_Change_Type_2023', \n",
    "    'Exploitation forestière artisanale (<5ha)': 'ArtFor',\n",
    "    'Activité minière artisanale': 'ArtMine',\n",
    "    'Infrastructure routière': 'InfraR', \n",
    "    'Infrastructure d’urbanisation ou habitations': 'Urb',\n",
    "    'Exploitation forestière industrielle (>5ha)':'IndFor', \n",
    "    'Autre moteur': 'Other', \n",
    "    'Descriptif autre moteur': 'Other_Desc', \n",
    "    'Activité minière industrielle': 'IndMine', \n",
    "    'Agriculture industrielle': 'IndAg', \n",
    "    'Agriculture paysanne': 'ArtAg', \n",
    "    'Année de Changement': 'Ref_Year_2023', \n",
    "    'Type de non-forêt en 2022':'Ref_NFtype_2022', \n",
    "    'Type de forêt en 2022':'Ref_Ftype_2022'\n",
    "    #add other columns as needed\n",
    "    #,'NOM': 'Province' # DRC province\n",
    "}\n",
    "\n",
    "# Use the rename() method to rename the columns\n",
    "merged_ceo = merged_ceo.rename(columns=column_mapping)\n",
    "\n",
    "# Define the replacements as a dictionary\n",
    "replace_dict = {\n",
    "    'Ref_FNF_2022': {'non-forêt': '0', 'forêt': '1'},\n",
    "    'Ref_Ftype_2022': {'1 - forêt dense': '1', '2 - forêt dense sèche': '2', '3 - forêt secondaire': '3','4 - forêt claire sèche': '4','7 - forêt mangrove': '7',\n",
    "                 '8 - forêt marécageuse': '8', '9 - forêt galérie': '9','10 - plantation forestière': '10', '11- savane arborée': '11'},\n",
    "    'Ref_NFtype_2022': {'12 - savane arbustive': '12', '13 - savane herbacée': '13', '14 - prairie aquatique': '14', '15 - sol nu végétation éparse': '15',\n",
    "                  '16 - terres cultivées': '16', '17 - zone baties': '17', '18 - eau': '18'},\n",
    "    'Ref_Change_2023': {'oui':'1','non':'0','':'0'},\n",
    "    'ArtFor':{'oui':'1','non':'0','':'0'},\n",
    "    'IndFor':{'oui':'1','non':'0','':'0'},\n",
    "    'ArtAg':{'oui':'1','non':'0','':'0'},\n",
    "    'IndAg':{'oui':'1','non':'0','':'0'},\n",
    "    'ArtMine':{'oui':'1','non':'0','':'0'},\n",
    "    'IndMine':{'oui':'1','non':'0','':'0'},\n",
    "    'Urb':{'oui':'1','non':'0','':'0'},\n",
    "    'InfraR':{'oui':'1','non':'0','':'0'},\n",
    "    'Other':{'oui':'1','non':'0','':'0'}\n",
    "}\n",
    "\n",
    "# Use the replace() method to replace strings in specified columns\n",
    "merged_ceo.replace(replace_dict, inplace=True)\n",
    "\n",
    "columns_to_fill = ['Ref_Change_2023','ArtAg','ArtFor','IndFor','IndAg','ArtMine','IndMine','Urb','InfraR','Other']\n",
    "# Set NaN values in the selected columns to 0\n",
    "merged_ceo[columns_to_fill] = merged_ceo[columns_to_fill].fillna('0')\n",
    "merged_ceo['collection'] = 'coll_2023_' + merged_ceo['collection'].astype(str)"
   ]
  },
  {
   "cell_type": "markdown",
   "id": "6382ae9d",
   "metadata": {},
   "source": [
    "remove non validated points and remove duplicates"
   ]
  },
  {
   "cell_type": "code",
   "execution_count": 71,
   "id": "f69be9dc-43c2-4070-b63e-8d05f720209e",
   "metadata": {
    "tags": []
   },
   "outputs": [
    {
     "data": {
      "text/plain": [
       "402"
      ]
     },
     "execution_count": 71,
     "metadata": {},
     "output_type": "execute_result"
    }
   ],
   "source": [
    "merged_ceo_interpreted = merged_ceo[merged_ceo['interpreted'] == 1]\n",
    "len(merged_ceo_interpreted)"
   ]
  },
  {
   "cell_type": "code",
   "execution_count": 72,
   "id": "0e2c49c5-65ce-48fe-8983-6e4163dc038f",
   "metadata": {
    "tags": []
   },
   "outputs": [
    {
     "name": "stdout",
     "output_type": "stream",
     "text": [
      "['plotid', 'sampleid', 'lon', 'lat', 'sample_geom', 'Ref_FNF_2022', 'Ref_Regeneration', 'Ref_Change_2023', 'Ref_Change_Type_2023', 'ArtFor', 'ArtMine', 'InfraR', 'Urb', 'IndFor', 'Other', 'Other_Desc', 'IndMine', 'IndAg', 'ArtAg', 'Ref_Year_2023', 'Ref_NFtype_2022', 'Ref_Ftype_2022', 'collection', 'interpreted']\n"
     ]
    }
   ],
   "source": [
    "ceo_column_names = merged_ceo_interpreted.columns.tolist()\n",
    "# Print the list of column names\n",
    "print(ceo_column_names)"
   ]
  },
  {
   "cell_type": "code",
   "execution_count": 73,
   "id": "6bdb8226-1032-4724-92f7-f092444b46a4",
   "metadata": {
    "tags": []
   },
   "outputs": [
    {
     "data": {
      "text/html": [
       "<div>\n",
       "<style scoped>\n",
       "    .dataframe tbody tr th:only-of-type {\n",
       "        vertical-align: middle;\n",
       "    }\n",
       "\n",
       "    .dataframe tbody tr th {\n",
       "        vertical-align: top;\n",
       "    }\n",
       "\n",
       "    .dataframe thead th {\n",
       "        text-align: right;\n",
       "    }\n",
       "</style>\n",
       "<table border=\"1\" class=\"dataframe\">\n",
       "  <thead>\n",
       "    <tr style=\"text-align: right;\">\n",
       "      <th></th>\n",
       "      <th>plotid</th>\n",
       "      <th>sampleid</th>\n",
       "      <th>lon</th>\n",
       "      <th>lat</th>\n",
       "      <th>sample_geom</th>\n",
       "      <th>Ref_FNF_2022</th>\n",
       "      <th>Ref_Regeneration</th>\n",
       "      <th>Ref_Change_2023</th>\n",
       "      <th>Ref_Change_Type_2023</th>\n",
       "      <th>ArtFor</th>\n",
       "      <th>ArtMine</th>\n",
       "      <th>InfraR</th>\n",
       "      <th>Urb</th>\n",
       "      <th>IndFor</th>\n",
       "      <th>Other</th>\n",
       "      <th>Other_Desc</th>\n",
       "      <th>IndMine</th>\n",
       "      <th>IndAg</th>\n",
       "      <th>ArtAg</th>\n",
       "      <th>Ref_Year_2023</th>\n",
       "      <th>Ref_NFtype_2022</th>\n",
       "      <th>Ref_Ftype_2022</th>\n",
       "      <th>collection</th>\n",
       "      <th>interpreted</th>\n",
       "    </tr>\n",
       "  </thead>\n",
       "  <tbody>\n",
       "    <tr>\n",
       "      <th>0</th>\n",
       "      <td>0</td>\n",
       "      <td>0</td>\n",
       "      <td>10.329144</td>\n",
       "      <td>1.166597</td>\n",
       "      <td>POINT(10.32914355 1.166597144)</td>\n",
       "      <td>1</td>\n",
       "      <td>NaN</td>\n",
       "      <td>0</td>\n",
       "      <td>NaN</td>\n",
       "      <td>0</td>\n",
       "      <td>0</td>\n",
       "      <td>0</td>\n",
       "      <td>0</td>\n",
       "      <td>0</td>\n",
       "      <td>0</td>\n",
       "      <td>NaN</td>\n",
       "      <td>0</td>\n",
       "      <td>0</td>\n",
       "      <td>0</td>\n",
       "      <td>NaN</td>\n",
       "      <td>NaN</td>\n",
       "      <td>3</td>\n",
       "      <td>coll_2023_1</td>\n",
       "      <td>1</td>\n",
       "    </tr>\n",
       "    <tr>\n",
       "      <th>1</th>\n",
       "      <td>1</td>\n",
       "      <td>1</td>\n",
       "      <td>10.235449</td>\n",
       "      <td>1.674684</td>\n",
       "      <td>POINT(10.23544926 1.674684268)</td>\n",
       "      <td>1</td>\n",
       "      <td>NaN</td>\n",
       "      <td>0</td>\n",
       "      <td>NaN</td>\n",
       "      <td>0</td>\n",
       "      <td>0</td>\n",
       "      <td>0</td>\n",
       "      <td>0</td>\n",
       "      <td>0</td>\n",
       "      <td>0</td>\n",
       "      <td>NaN</td>\n",
       "      <td>0</td>\n",
       "      <td>0</td>\n",
       "      <td>0</td>\n",
       "      <td>NaN</td>\n",
       "      <td>NaN</td>\n",
       "      <td>1</td>\n",
       "      <td>coll_2023_1</td>\n",
       "      <td>1</td>\n",
       "    </tr>\n",
       "    <tr>\n",
       "      <th>2</th>\n",
       "      <td>2</td>\n",
       "      <td>2</td>\n",
       "      <td>8.765895</td>\n",
       "      <td>3.447330</td>\n",
       "      <td>POINT(8.76589529 3.447329819)</td>\n",
       "      <td>1</td>\n",
       "      <td>NaN</td>\n",
       "      <td>0</td>\n",
       "      <td>NaN</td>\n",
       "      <td>0</td>\n",
       "      <td>0</td>\n",
       "      <td>0</td>\n",
       "      <td>0</td>\n",
       "      <td>0</td>\n",
       "      <td>0</td>\n",
       "      <td>NaN</td>\n",
       "      <td>0</td>\n",
       "      <td>0</td>\n",
       "      <td>0</td>\n",
       "      <td>NaN</td>\n",
       "      <td>NaN</td>\n",
       "      <td>1</td>\n",
       "      <td>coll_2023_1</td>\n",
       "      <td>1</td>\n",
       "    </tr>\n",
       "    <tr>\n",
       "      <th>3</th>\n",
       "      <td>3</td>\n",
       "      <td>3</td>\n",
       "      <td>10.967397</td>\n",
       "      <td>1.110003</td>\n",
       "      <td>POINT(10.96739656 1.110003281)</td>\n",
       "      <td>1</td>\n",
       "      <td>NaN</td>\n",
       "      <td>0</td>\n",
       "      <td>NaN</td>\n",
       "      <td>0</td>\n",
       "      <td>0</td>\n",
       "      <td>0</td>\n",
       "      <td>0</td>\n",
       "      <td>0</td>\n",
       "      <td>0</td>\n",
       "      <td>NaN</td>\n",
       "      <td>0</td>\n",
       "      <td>0</td>\n",
       "      <td>0</td>\n",
       "      <td>NaN</td>\n",
       "      <td>NaN</td>\n",
       "      <td>1</td>\n",
       "      <td>coll_2023_1</td>\n",
       "      <td>1</td>\n",
       "    </tr>\n",
       "    <tr>\n",
       "      <th>4</th>\n",
       "      <td>4</td>\n",
       "      <td>4</td>\n",
       "      <td>10.259973</td>\n",
       "      <td>1.766492</td>\n",
       "      <td>POINT(10.25997327 1.76649209)</td>\n",
       "      <td>1</td>\n",
       "      <td>NaN</td>\n",
       "      <td>0</td>\n",
       "      <td>NaN</td>\n",
       "      <td>0</td>\n",
       "      <td>0</td>\n",
       "      <td>0</td>\n",
       "      <td>0</td>\n",
       "      <td>0</td>\n",
       "      <td>0</td>\n",
       "      <td>NaN</td>\n",
       "      <td>0</td>\n",
       "      <td>0</td>\n",
       "      <td>0</td>\n",
       "      <td>NaN</td>\n",
       "      <td>NaN</td>\n",
       "      <td>1</td>\n",
       "      <td>coll_2023_1</td>\n",
       "      <td>1</td>\n",
       "    </tr>\n",
       "  </tbody>\n",
       "</table>\n",
       "</div>"
      ],
      "text/plain": [
       "   plotid  sampleid        lon       lat                     sample_geom  \\\n",
       "0       0         0  10.329144  1.166597  POINT(10.32914355 1.166597144)   \n",
       "1       1         1  10.235449  1.674684  POINT(10.23544926 1.674684268)   \n",
       "2       2         2   8.765895  3.447330   POINT(8.76589529 3.447329819)   \n",
       "3       3         3  10.967397  1.110003  POINT(10.96739656 1.110003281)   \n",
       "4       4         4  10.259973  1.766492   POINT(10.25997327 1.76649209)   \n",
       "\n",
       "  Ref_FNF_2022 Ref_Regeneration Ref_Change_2023 Ref_Change_Type_2023 ArtFor  \\\n",
       "0            1              NaN               0                  NaN      0   \n",
       "1            1              NaN               0                  NaN      0   \n",
       "2            1              NaN               0                  NaN      0   \n",
       "3            1              NaN               0                  NaN      0   \n",
       "4            1              NaN               0                  NaN      0   \n",
       "\n",
       "  ArtMine InfraR Urb IndFor Other  Other_Desc IndMine IndAg ArtAg  \\\n",
       "0       0      0   0      0     0         NaN       0     0     0   \n",
       "1       0      0   0      0     0         NaN       0     0     0   \n",
       "2       0      0   0      0     0         NaN       0     0     0   \n",
       "3       0      0   0      0     0         NaN       0     0     0   \n",
       "4       0      0   0      0     0         NaN       0     0     0   \n",
       "\n",
       "   Ref_Year_2023 Ref_NFtype_2022 Ref_Ftype_2022   collection  interpreted  \n",
       "0            NaN             NaN              3  coll_2023_1            1  \n",
       "1            NaN             NaN              1  coll_2023_1            1  \n",
       "2            NaN             NaN              1  coll_2023_1            1  \n",
       "3            NaN             NaN              1  coll_2023_1            1  \n",
       "4            NaN             NaN              1  coll_2023_1            1  "
      ]
     },
     "execution_count": 73,
     "metadata": {},
     "output_type": "execute_result"
    }
   ],
   "source": [
    "merged_ceo_interpreted.head()"
   ]
  },
  {
   "cell_type": "markdown",
   "id": "28fc9de4",
   "metadata": {},
   "source": [
    "##### count points in different categories"
   ]
  },
  {
   "cell_type": "code",
   "execution_count": 74,
   "id": "a37a3028-90b5-4dd1-a25e-efe01d0a5ad8",
   "metadata": {
    "tags": []
   },
   "outputs": [
    {
     "data": {
      "text/plain": [
       "interpreted\n",
       "1    402\n",
       "Name: count, dtype: int64"
      ]
     },
     "execution_count": 74,
     "metadata": {},
     "output_type": "execute_result"
    }
   ],
   "source": [
    "merged_ceo_interpreted['interpreted'].value_counts(dropna=False)"
   ]
  },
  {
   "cell_type": "code",
   "execution_count": 75,
   "id": "b29e4459",
   "metadata": {
    "tags": []
   },
   "outputs": [
    {
     "data": {
      "text/html": [
       "<div>\n",
       "<style scoped>\n",
       "    .dataframe tbody tr th:only-of-type {\n",
       "        vertical-align: middle;\n",
       "    }\n",
       "\n",
       "    .dataframe tbody tr th {\n",
       "        vertical-align: top;\n",
       "    }\n",
       "\n",
       "    .dataframe thead th {\n",
       "        text-align: right;\n",
       "    }\n",
       "</style>\n",
       "<table border=\"1\" class=\"dataframe\">\n",
       "  <thead>\n",
       "    <tr style=\"text-align: right;\">\n",
       "      <th>interpreted</th>\n",
       "      <th>1</th>\n",
       "    </tr>\n",
       "    <tr>\n",
       "      <th>Ref_Change_2023</th>\n",
       "      <th></th>\n",
       "    </tr>\n",
       "  </thead>\n",
       "  <tbody>\n",
       "    <tr>\n",
       "      <th>0</th>\n",
       "      <td>391</td>\n",
       "    </tr>\n",
       "    <tr>\n",
       "      <th>1</th>\n",
       "      <td>11</td>\n",
       "    </tr>\n",
       "  </tbody>\n",
       "</table>\n",
       "</div>"
      ],
      "text/plain": [
       "interpreted        1\n",
       "Ref_Change_2023     \n",
       "0                391\n",
       "1                 11"
      ]
     },
     "execution_count": 75,
     "metadata": {},
     "output_type": "execute_result"
    }
   ],
   "source": [
    "pd.pivot_table(merged_ceo_interpreted,values='plotid',index=['Ref_Change_2023'],columns=['interpreted'],aggfunc=\"count\")"
   ]
  },
  {
   "cell_type": "code",
   "execution_count": 76,
   "id": "2d96fd19-6809-413a-9696-c3991d50efbc",
   "metadata": {
    "tags": []
   },
   "outputs": [
    {
     "data": {
      "text/plain": [
       "Ref_FNF_2022\n",
       "1    371\n",
       "0     31\n",
       "Name: count, dtype: int64"
      ]
     },
     "execution_count": 76,
     "metadata": {},
     "output_type": "execute_result"
    }
   ],
   "source": [
    "merged_ceo_interpreted['Ref_FNF_2022'].value_counts(dropna=False)"
   ]
  },
  {
   "cell_type": "code",
   "execution_count": 77,
   "id": "0097c4de-9bca-4a73-bcf5-1c9afc87f88b",
   "metadata": {
    "tags": []
   },
   "outputs": [
    {
     "data": {
      "text/plain": [
       "Ref_Change_Type_2023\n",
       "NaN              391\n",
       "déforestation      7\n",
       "dégradation        4\n",
       "Name: count, dtype: int64"
      ]
     },
     "execution_count": 77,
     "metadata": {},
     "output_type": "execute_result"
    }
   ],
   "source": [
    "merged_ceo_interpreted['Ref_Change_Type_2023'].value_counts(dropna=False)"
   ]
  },
  {
   "cell_type": "code",
   "execution_count": 78,
   "id": "67e302cd-0a1b-4995-96df-0c912cf70bff",
   "metadata": {
    "tags": []
   },
   "outputs": [
    {
     "data": {
      "text/plain": [
       "collection\n",
       "coll_2023_1    247\n",
       "coll_2023_2    155\n",
       "Name: count, dtype: int64"
      ]
     },
     "execution_count": 78,
     "metadata": {},
     "output_type": "execute_result"
    }
   ],
   "source": [
    "merged_ceo_interpreted['collection'].value_counts(dropna=False)"
   ]
  },
  {
   "cell_type": "markdown",
   "id": "ae9075b7",
   "metadata": {},
   "source": [
    "##### create a LC type column"
   ]
  },
  {
   "cell_type": "code",
   "execution_count": 61,
   "id": "408a665f-6c17-4e65-8d19-76fad0574ebb",
   "metadata": {},
   "outputs": [
    {
     "name": "stderr",
     "output_type": "stream",
     "text": [
      "/tmp/ipykernel_432/35551601.py:1: SettingWithCopyWarning: \n",
      "A value is trying to be set on a copy of a slice from a DataFrame.\n",
      "Try using .loc[row_indexer,col_indexer] = value instead\n",
      "\n",
      "See the caveats in the documentation: https://pandas.pydata.org/pandas-docs/stable/user_guide/indexing.html#returning-a-view-versus-a-copy\n",
      "  merged_ceo_interpreted['Ref_LCover_2022'] = merged_ceo_interpreted['Ref_Ftype_2022'].fillna(merged_ceo_interpreted['Ref_NFtype_2022'])\n"
     ]
    },
    {
     "data": {
      "text/plain": [
       "Ref_LCover_2022\n",
       "1     304\n",
       "3      37\n",
       "2      19\n",
       "16     10\n",
       "15      6\n",
       "14      6\n",
       "18      5\n",
       "7       5\n",
       "9       5\n",
       "17      3\n",
       "8       1\n",
       "12      1\n",
       "Name: count, dtype: int64"
      ]
     },
     "execution_count": 61,
     "metadata": {},
     "output_type": "execute_result"
    }
   ],
   "source": [
    "merged_ceo_interpreted['Ref_LCover_2022'] = merged_ceo_interpreted['Ref_Ftype_2022'].fillna(merged_ceo_interpreted['Ref_NFtype_2022'])\n",
    "merged_ceo_interpreted['Ref_LCover_2022'].value_counts(dropna=False)"
   ]
  },
  {
   "cell_type": "markdown",
   "id": "aef10186-78cf-4634-83fd-7073f85cf3b0",
   "metadata": {},
   "source": [
    "### 2. add new columns for change and year"
   ]
  },
  {
   "cell_type": "markdown",
   "id": "4a06d1d2-744d-4e25-a2fc-6a5f64b0467d",
   "metadata": {},
   "source": [
    "clean up columns and replace values"
   ]
  },
  {
   "cell_type": "code",
   "execution_count": 67,
   "id": "57263f3a-6939-435c-ac66-b9ebe93f5875",
   "metadata": {
    "tags": []
   },
   "outputs": [
    {
     "name": "stderr",
     "output_type": "stream",
     "text": [
      "/tmp/ipykernel_432/1231062504.py:7: SettingWithCopyWarning: \n",
      "A value is trying to be set on a copy of a slice from a DataFrame.\n",
      "Try using .loc[row_indexer,col_indexer] = value instead\n",
      "\n",
      "See the caveats in the documentation: https://pandas.pydata.org/pandas-docs/stable/user_guide/indexing.html#returning-a-view-versus-a-copy\n",
      "  merged_ceo_interpreted['Ref_Change_Type_2223'] = merged_ceo_interpreted.apply(f, axis=1)\n"
     ]
    },
    {
     "data": {
      "text/plain": [
       "Ref_Change_Type_2223\n",
       "Stable    360\n",
       "NF         31\n",
       "Def         7\n",
       "Deg         4\n",
       "Name: count, dtype: int64"
      ]
     },
     "execution_count": 67,
     "metadata": {},
     "output_type": "execute_result"
    }
   ],
   "source": [
    "def f(x):\n",
    "  if x['Ref_FNF_2022'] == '0' : return 'NF'\n",
    "  elif x['Ref_Change_Type_2023'] == 'déforestation': return 'Def'\n",
    "  elif x['Ref_Change_Type_2023'] == 'dégradation' : return 'Deg'\n",
    "  else: return 'Stable'\n",
    "\n",
    "merged_ceo_interpreted['Ref_Change_Type_2023'] = merged_ceo_interpreted.apply(f, axis=1)\n",
    "merged_ceo_interpreted['Ref_Change_Type_2023'].value_counts()"
   ]
  },
  {
   "cell_type": "code",
   "execution_count": 68,
   "id": "d31939f7-ce73-4b77-abe5-17b99aa943c4",
   "metadata": {
    "tags": []
   },
   "outputs": [
    {
     "ename": "KeyError",
     "evalue": "'Ref_Change_Type_2023'",
     "output_type": "error",
     "traceback": [
      "\u001b[0;31m---------------------------------------------------------------------------\u001b[0m",
      "\u001b[0;31mKeyError\u001b[0m                                  Traceback (most recent call last)",
      "File \u001b[0;32m/usr/local/lib/python3.10/dist-packages/pandas/core/indexes/base.py:3653\u001b[0m, in \u001b[0;36mIndex.get_loc\u001b[0;34m(self, key)\u001b[0m\n\u001b[1;32m   3652\u001b[0m \u001b[38;5;28;01mtry\u001b[39;00m:\n\u001b[0;32m-> 3653\u001b[0m     \u001b[38;5;28;01mreturn\u001b[39;00m \u001b[38;5;28;43mself\u001b[39;49m\u001b[38;5;241;43m.\u001b[39;49m\u001b[43m_engine\u001b[49m\u001b[38;5;241;43m.\u001b[39;49m\u001b[43mget_loc\u001b[49m\u001b[43m(\u001b[49m\u001b[43mcasted_key\u001b[49m\u001b[43m)\u001b[49m\n\u001b[1;32m   3654\u001b[0m \u001b[38;5;28;01mexcept\u001b[39;00m \u001b[38;5;167;01mKeyError\u001b[39;00m \u001b[38;5;28;01mas\u001b[39;00m err:\n",
      "File \u001b[0;32m/usr/local/lib/python3.10/dist-packages/pandas/_libs/index.pyx:147\u001b[0m, in \u001b[0;36mpandas._libs.index.IndexEngine.get_loc\u001b[0;34m()\u001b[0m\n",
      "File \u001b[0;32m/usr/local/lib/python3.10/dist-packages/pandas/_libs/index.pyx:176\u001b[0m, in \u001b[0;36mpandas._libs.index.IndexEngine.get_loc\u001b[0;34m()\u001b[0m\n",
      "File \u001b[0;32mpandas/_libs/hashtable_class_helper.pxi:7080\u001b[0m, in \u001b[0;36mpandas._libs.hashtable.PyObjectHashTable.get_item\u001b[0;34m()\u001b[0m\n",
      "File \u001b[0;32mpandas/_libs/hashtable_class_helper.pxi:7088\u001b[0m, in \u001b[0;36mpandas._libs.hashtable.PyObjectHashTable.get_item\u001b[0;34m()\u001b[0m\n",
      "\u001b[0;31mKeyError\u001b[0m: 'Ref_Change_Type_2023'",
      "\nThe above exception was the direct cause of the following exception:\n",
      "\u001b[0;31mKeyError\u001b[0m                                  Traceback (most recent call last)",
      "Cell \u001b[0;32mIn[68], line 8\u001b[0m\n\u001b[1;32m      5\u001b[0m   \u001b[38;5;28;01melif\u001b[39;00m x[\u001b[38;5;124m'\u001b[39m\u001b[38;5;124mRef_Change_Type_2023\u001b[39m\u001b[38;5;124m'\u001b[39m] \u001b[38;5;241m==\u001b[39m \u001b[38;5;124m'\u001b[39m\u001b[38;5;124mStable\u001b[39m\u001b[38;5;124m'\u001b[39m : \u001b[38;5;28;01mreturn\u001b[39;00m \u001b[38;5;124m'\u001b[39m\u001b[38;5;124mStable\u001b[39m\u001b[38;5;124m'\u001b[39m\n\u001b[1;32m      6\u001b[0m   \u001b[38;5;28;01melse\u001b[39;00m: \u001b[38;5;28;01mreturn\u001b[39;00m \u001b[38;5;124m'\u001b[39m\u001b[38;5;124m'\u001b[39m\n\u001b[0;32m----> 8\u001b[0m merged_ceo_interpreted[\u001b[38;5;124m'\u001b[39m\u001b[38;5;124mRef_Change_Year_2023\u001b[39m\u001b[38;5;124m'\u001b[39m] \u001b[38;5;241m=\u001b[39m \u001b[43mmerged_ceo_interpreted\u001b[49m\u001b[38;5;241;43m.\u001b[39;49m\u001b[43mapply\u001b[49m\u001b[43m(\u001b[49m\u001b[43my\u001b[49m\u001b[43m,\u001b[49m\u001b[43m \u001b[49m\u001b[43maxis\u001b[49m\u001b[38;5;241;43m=\u001b[39;49m\u001b[38;5;241;43m1\u001b[39;49m\u001b[43m)\u001b[49m\n\u001b[1;32m     10\u001b[0m annual_counts \u001b[38;5;241m=\u001b[39m merged_ceo_interpreted[\u001b[38;5;124m'\u001b[39m\u001b[38;5;124mRef_Change_Year_2023\u001b[39m\u001b[38;5;124m'\u001b[39m]\u001b[38;5;241m.\u001b[39mvalue_counts()\n\u001b[1;32m     11\u001b[0m annual_counts \u001b[38;5;241m=\u001b[39m annual_counts\u001b[38;5;241m.\u001b[39msort_index()\n",
      "File \u001b[0;32m/usr/local/lib/python3.10/dist-packages/pandas/core/frame.py:9423\u001b[0m, in \u001b[0;36mDataFrame.apply\u001b[0;34m(self, func, axis, raw, result_type, args, **kwargs)\u001b[0m\n\u001b[1;32m   9412\u001b[0m \u001b[38;5;28;01mfrom\u001b[39;00m \u001b[38;5;21;01mpandas\u001b[39;00m\u001b[38;5;21;01m.\u001b[39;00m\u001b[38;5;21;01mcore\u001b[39;00m\u001b[38;5;21;01m.\u001b[39;00m\u001b[38;5;21;01mapply\u001b[39;00m \u001b[38;5;28;01mimport\u001b[39;00m frame_apply\n\u001b[1;32m   9414\u001b[0m op \u001b[38;5;241m=\u001b[39m frame_apply(\n\u001b[1;32m   9415\u001b[0m     \u001b[38;5;28mself\u001b[39m,\n\u001b[1;32m   9416\u001b[0m     func\u001b[38;5;241m=\u001b[39mfunc,\n\u001b[0;32m   (...)\u001b[0m\n\u001b[1;32m   9421\u001b[0m     kwargs\u001b[38;5;241m=\u001b[39mkwargs,\n\u001b[1;32m   9422\u001b[0m )\n\u001b[0;32m-> 9423\u001b[0m \u001b[38;5;28;01mreturn\u001b[39;00m \u001b[43mop\u001b[49m\u001b[38;5;241;43m.\u001b[39;49m\u001b[43mapply\u001b[49m\u001b[43m(\u001b[49m\u001b[43m)\u001b[49m\u001b[38;5;241m.\u001b[39m__finalize__(\u001b[38;5;28mself\u001b[39m, method\u001b[38;5;241m=\u001b[39m\u001b[38;5;124m\"\u001b[39m\u001b[38;5;124mapply\u001b[39m\u001b[38;5;124m\"\u001b[39m)\n",
      "File \u001b[0;32m/usr/local/lib/python3.10/dist-packages/pandas/core/apply.py:678\u001b[0m, in \u001b[0;36mFrameApply.apply\u001b[0;34m(self)\u001b[0m\n\u001b[1;32m    675\u001b[0m \u001b[38;5;28;01melif\u001b[39;00m \u001b[38;5;28mself\u001b[39m\u001b[38;5;241m.\u001b[39mraw:\n\u001b[1;32m    676\u001b[0m     \u001b[38;5;28;01mreturn\u001b[39;00m \u001b[38;5;28mself\u001b[39m\u001b[38;5;241m.\u001b[39mapply_raw()\n\u001b[0;32m--> 678\u001b[0m \u001b[38;5;28;01mreturn\u001b[39;00m \u001b[38;5;28;43mself\u001b[39;49m\u001b[38;5;241;43m.\u001b[39;49m\u001b[43mapply_standard\u001b[49m\u001b[43m(\u001b[49m\u001b[43m)\u001b[49m\n",
      "File \u001b[0;32m/usr/local/lib/python3.10/dist-packages/pandas/core/apply.py:798\u001b[0m, in \u001b[0;36mFrameApply.apply_standard\u001b[0;34m(self)\u001b[0m\n\u001b[1;32m    797\u001b[0m \u001b[38;5;28;01mdef\u001b[39;00m \u001b[38;5;21mapply_standard\u001b[39m(\u001b[38;5;28mself\u001b[39m):\n\u001b[0;32m--> 798\u001b[0m     results, res_index \u001b[38;5;241m=\u001b[39m \u001b[38;5;28;43mself\u001b[39;49m\u001b[38;5;241;43m.\u001b[39;49m\u001b[43mapply_series_generator\u001b[49m\u001b[43m(\u001b[49m\u001b[43m)\u001b[49m\n\u001b[1;32m    800\u001b[0m     \u001b[38;5;66;03m# wrap results\u001b[39;00m\n\u001b[1;32m    801\u001b[0m     \u001b[38;5;28;01mreturn\u001b[39;00m \u001b[38;5;28mself\u001b[39m\u001b[38;5;241m.\u001b[39mwrap_results(results, res_index)\n",
      "File \u001b[0;32m/usr/local/lib/python3.10/dist-packages/pandas/core/apply.py:814\u001b[0m, in \u001b[0;36mFrameApply.apply_series_generator\u001b[0;34m(self)\u001b[0m\n\u001b[1;32m    811\u001b[0m \u001b[38;5;28;01mwith\u001b[39;00m option_context(\u001b[38;5;124m\"\u001b[39m\u001b[38;5;124mmode.chained_assignment\u001b[39m\u001b[38;5;124m\"\u001b[39m, \u001b[38;5;28;01mNone\u001b[39;00m):\n\u001b[1;32m    812\u001b[0m     \u001b[38;5;28;01mfor\u001b[39;00m i, v \u001b[38;5;129;01min\u001b[39;00m \u001b[38;5;28menumerate\u001b[39m(series_gen):\n\u001b[1;32m    813\u001b[0m         \u001b[38;5;66;03m# ignore SettingWithCopy here in case the user mutates\u001b[39;00m\n\u001b[0;32m--> 814\u001b[0m         results[i] \u001b[38;5;241m=\u001b[39m \u001b[38;5;28;43mself\u001b[39;49m\u001b[38;5;241;43m.\u001b[39;49m\u001b[43mf\u001b[49m\u001b[43m(\u001b[49m\u001b[43mv\u001b[49m\u001b[43m)\u001b[49m\n\u001b[1;32m    815\u001b[0m         \u001b[38;5;28;01mif\u001b[39;00m \u001b[38;5;28misinstance\u001b[39m(results[i], ABCSeries):\n\u001b[1;32m    816\u001b[0m             \u001b[38;5;66;03m# If we have a view on v, we need to make a copy because\u001b[39;00m\n\u001b[1;32m    817\u001b[0m             \u001b[38;5;66;03m#  series_generator will swap out the underlying data\u001b[39;00m\n\u001b[1;32m    818\u001b[0m             results[i] \u001b[38;5;241m=\u001b[39m results[i]\u001b[38;5;241m.\u001b[39mcopy(deep\u001b[38;5;241m=\u001b[39m\u001b[38;5;28;01mFalse\u001b[39;00m)\n",
      "Cell \u001b[0;32mIn[68], line 2\u001b[0m, in \u001b[0;36my\u001b[0;34m(x)\u001b[0m\n\u001b[1;32m      1\u001b[0m \u001b[38;5;28;01mdef\u001b[39;00m \u001b[38;5;21my\u001b[39m(x):\n\u001b[0;32m----> 2\u001b[0m   \u001b[38;5;28;01mif\u001b[39;00m \u001b[43mx\u001b[49m\u001b[43m[\u001b[49m\u001b[38;5;124;43m'\u001b[39;49m\u001b[38;5;124;43mRef_Change_Type_2023\u001b[39;49m\u001b[38;5;124;43m'\u001b[39;49m\u001b[43m]\u001b[49m \u001b[38;5;241m==\u001b[39m \u001b[38;5;124m'\u001b[39m\u001b[38;5;124mDef\u001b[39m\u001b[38;5;124m'\u001b[39m: \u001b[38;5;28;01mreturn\u001b[39;00m \u001b[38;5;124m'\u001b[39m\u001b[38;5;124mDef2023\u001b[39m\u001b[38;5;124m'\u001b[39m\n\u001b[1;32m      3\u001b[0m   \u001b[38;5;28;01melif\u001b[39;00m x[\u001b[38;5;124m'\u001b[39m\u001b[38;5;124mRef_Change_Type_2023\u001b[39m\u001b[38;5;124m'\u001b[39m] \u001b[38;5;241m==\u001b[39m \u001b[38;5;124m'\u001b[39m\u001b[38;5;124mDeg\u001b[39m\u001b[38;5;124m'\u001b[39m : \u001b[38;5;28;01mreturn\u001b[39;00m \u001b[38;5;124m'\u001b[39m\u001b[38;5;124mDeg2023\u001b[39m\u001b[38;5;124m'\u001b[39m\n\u001b[1;32m      4\u001b[0m   \u001b[38;5;28;01melif\u001b[39;00m x[\u001b[38;5;124m'\u001b[39m\u001b[38;5;124mRef_Change_Type_2023\u001b[39m\u001b[38;5;124m'\u001b[39m] \u001b[38;5;241m==\u001b[39m \u001b[38;5;124m'\u001b[39m\u001b[38;5;124mNF\u001b[39m\u001b[38;5;124m'\u001b[39m : \u001b[38;5;28;01mreturn\u001b[39;00m \u001b[38;5;124m'\u001b[39m\u001b[38;5;124mNF\u001b[39m\u001b[38;5;124m'\u001b[39m\n",
      "File \u001b[0;32m/usr/local/lib/python3.10/dist-packages/pandas/core/series.py:1007\u001b[0m, in \u001b[0;36mSeries.__getitem__\u001b[0;34m(self, key)\u001b[0m\n\u001b[1;32m   1004\u001b[0m     \u001b[38;5;28;01mreturn\u001b[39;00m \u001b[38;5;28mself\u001b[39m\u001b[38;5;241m.\u001b[39m_values[key]\n\u001b[1;32m   1006\u001b[0m \u001b[38;5;28;01melif\u001b[39;00m key_is_scalar:\n\u001b[0;32m-> 1007\u001b[0m     \u001b[38;5;28;01mreturn\u001b[39;00m \u001b[38;5;28;43mself\u001b[39;49m\u001b[38;5;241;43m.\u001b[39;49m\u001b[43m_get_value\u001b[49m\u001b[43m(\u001b[49m\u001b[43mkey\u001b[49m\u001b[43m)\u001b[49m\n\u001b[1;32m   1009\u001b[0m \u001b[38;5;28;01mif\u001b[39;00m is_hashable(key):\n\u001b[1;32m   1010\u001b[0m     \u001b[38;5;66;03m# Otherwise index.get_value will raise InvalidIndexError\u001b[39;00m\n\u001b[1;32m   1011\u001b[0m     \u001b[38;5;28;01mtry\u001b[39;00m:\n\u001b[1;32m   1012\u001b[0m         \u001b[38;5;66;03m# For labels that don't resolve as scalars like tuples and frozensets\u001b[39;00m\n",
      "File \u001b[0;32m/usr/local/lib/python3.10/dist-packages/pandas/core/series.py:1116\u001b[0m, in \u001b[0;36mSeries._get_value\u001b[0;34m(self, label, takeable)\u001b[0m\n\u001b[1;32m   1113\u001b[0m     \u001b[38;5;28;01mreturn\u001b[39;00m \u001b[38;5;28mself\u001b[39m\u001b[38;5;241m.\u001b[39m_values[label]\n\u001b[1;32m   1115\u001b[0m \u001b[38;5;66;03m# Similar to Index.get_value, but we do not fall back to positional\u001b[39;00m\n\u001b[0;32m-> 1116\u001b[0m loc \u001b[38;5;241m=\u001b[39m \u001b[38;5;28;43mself\u001b[39;49m\u001b[38;5;241;43m.\u001b[39;49m\u001b[43mindex\u001b[49m\u001b[38;5;241;43m.\u001b[39;49m\u001b[43mget_loc\u001b[49m\u001b[43m(\u001b[49m\u001b[43mlabel\u001b[49m\u001b[43m)\u001b[49m\n\u001b[1;32m   1118\u001b[0m \u001b[38;5;28;01mif\u001b[39;00m is_integer(loc):\n\u001b[1;32m   1119\u001b[0m     \u001b[38;5;28;01mreturn\u001b[39;00m \u001b[38;5;28mself\u001b[39m\u001b[38;5;241m.\u001b[39m_values[loc]\n",
      "File \u001b[0;32m/usr/local/lib/python3.10/dist-packages/pandas/core/indexes/base.py:3655\u001b[0m, in \u001b[0;36mIndex.get_loc\u001b[0;34m(self, key)\u001b[0m\n\u001b[1;32m   3653\u001b[0m     \u001b[38;5;28;01mreturn\u001b[39;00m \u001b[38;5;28mself\u001b[39m\u001b[38;5;241m.\u001b[39m_engine\u001b[38;5;241m.\u001b[39mget_loc(casted_key)\n\u001b[1;32m   3654\u001b[0m \u001b[38;5;28;01mexcept\u001b[39;00m \u001b[38;5;167;01mKeyError\u001b[39;00m \u001b[38;5;28;01mas\u001b[39;00m err:\n\u001b[0;32m-> 3655\u001b[0m     \u001b[38;5;28;01mraise\u001b[39;00m \u001b[38;5;167;01mKeyError\u001b[39;00m(key) \u001b[38;5;28;01mfrom\u001b[39;00m \u001b[38;5;21;01merr\u001b[39;00m\n\u001b[1;32m   3656\u001b[0m \u001b[38;5;28;01mexcept\u001b[39;00m \u001b[38;5;167;01mTypeError\u001b[39;00m:\n\u001b[1;32m   3657\u001b[0m     \u001b[38;5;66;03m# If we have a listlike key, _check_indexing_error will raise\u001b[39;00m\n\u001b[1;32m   3658\u001b[0m     \u001b[38;5;66;03m#  InvalidIndexError. Otherwise we fall through and re-raise\u001b[39;00m\n\u001b[1;32m   3659\u001b[0m     \u001b[38;5;66;03m#  the TypeError.\u001b[39;00m\n\u001b[1;32m   3660\u001b[0m     \u001b[38;5;28mself\u001b[39m\u001b[38;5;241m.\u001b[39m_check_indexing_error(key)\n",
      "\u001b[0;31mKeyError\u001b[0m: 'Ref_Change_Type_2023'"
     ]
    }
   ],
   "source": [
    "def y(x):\n",
    "  if x['Ref_Change_Type_2023'] == 'Def': return 'Def2023'\n",
    "  elif x['Ref_Change_Type_2023'] == 'Deg' : return 'Deg2023'\n",
    "  elif x['Ref_Change_Type_2023'] == 'NF' : return 'NF'\n",
    "  elif x['Ref_Change_Type_2023'] == 'Stable' : return 'Stable'\n",
    "  else: return ''\n",
    "\n",
    "merged_ceo_interpreted['Ref_Change_Year_2023'] = merged_ceo_interpreted.apply(y, axis=1)\n",
    "\n",
    "annual_counts = merged_ceo_interpreted['Ref_Change_Year_2023'].value_counts()\n",
    "annual_counts = annual_counts.sort_index()\n",
    "print(annual_counts)"
   ]
  },
  {
   "cell_type": "code",
   "execution_count": 24,
   "id": "a2951865-3ca2-42c9-a68c-9ce45fd46fef",
   "metadata": {
    "tags": []
   },
   "outputs": [
    {
     "data": {
      "text/plain": [
       "13147"
      ]
     },
     "execution_count": 24,
     "metadata": {},
     "output_type": "execute_result"
    }
   ],
   "source": [
    "annual_counts.sum()"
   ]
  },
  {
   "cell_type": "code",
   "execution_count": 26,
   "id": "e77784b5-35f6-4659-a0d5-1339fed0f7e9",
   "metadata": {},
   "outputs": [
    {
     "data": {
      "text/html": [
       "<div>\n",
       "<style scoped>\n",
       "    .dataframe tbody tr th:only-of-type {\n",
       "        vertical-align: middle;\n",
       "    }\n",
       "\n",
       "    .dataframe tbody tr th {\n",
       "        vertical-align: top;\n",
       "    }\n",
       "\n",
       "    .dataframe thead th {\n",
       "        text-align: right;\n",
       "    }\n",
       "</style>\n",
       "<table border=\"1\" class=\"dataframe\">\n",
       "  <thead>\n",
       "    <tr style=\"text-align: right;\">\n",
       "      <th>interpreted</th>\n",
       "      <th>1</th>\n",
       "      <th>Total</th>\n",
       "    </tr>\n",
       "    <tr>\n",
       "      <th>Ref_Change_Type_1522</th>\n",
       "      <th></th>\n",
       "      <th></th>\n",
       "    </tr>\n",
       "  </thead>\n",
       "  <tbody>\n",
       "    <tr>\n",
       "      <th>Def</th>\n",
       "      <td>977</td>\n",
       "      <td>977</td>\n",
       "    </tr>\n",
       "    <tr>\n",
       "      <th>Deg</th>\n",
       "      <td>275</td>\n",
       "      <td>275</td>\n",
       "    </tr>\n",
       "    <tr>\n",
       "      <th>NF</th>\n",
       "      <td>6297</td>\n",
       "      <td>6297</td>\n",
       "    </tr>\n",
       "    <tr>\n",
       "      <th>Stable</th>\n",
       "      <td>5598</td>\n",
       "      <td>5598</td>\n",
       "    </tr>\n",
       "    <tr>\n",
       "      <th>Total</th>\n",
       "      <td>13147</td>\n",
       "      <td>13147</td>\n",
       "    </tr>\n",
       "  </tbody>\n",
       "</table>\n",
       "</div>"
      ],
      "text/plain": [
       "interpreted               1  Total\n",
       "Ref_Change_Type_1522              \n",
       "Def                     977    977\n",
       "Deg                     275    275\n",
       "NF                     6297   6297\n",
       "Stable                 5598   5598\n",
       "Total                 13147  13147"
      ]
     },
     "execution_count": 26,
     "metadata": {},
     "output_type": "execute_result"
    }
   ],
   "source": [
    "pd.pivot_table(merged_ceo_interpreted,values='point_id',index=['Ref_Change_Type_2023'],columns=['interpreted'],aggfunc=\"count\",margins=True,\n",
    "                             margins_name='Total')"
   ]
  },
  {
   "cell_type": "code",
   "execution_count": 27,
   "id": "eec38754-782c-4810-afab-b66aa9697456",
   "metadata": {
    "tags": []
   },
   "outputs": [],
   "source": [
    "merged_ceo_interpreted['Def2023'] = np.where(merged_ceo_interpreted['Ref_Change_Year_2023'] == 'Def2023', 1, 0)"
   ]
  },
  {
   "cell_type": "code",
   "execution_count": 28,
   "id": "d6b46afa-fa39-4678-bb0a-98f222e9d4dd",
   "metadata": {
    "tags": []
   },
   "outputs": [],
   "source": [
    "merged_ceo_interpreted['Deg2023'] = np.where(merged_ceo_interpreted['Ref_Change_Year_2023'] == 'Deg2023', 1, 0)"
   ]
  },
  {
   "cell_type": "code",
   "execution_count": 29,
   "id": "7d71783a-2664-41d0-947c-45572341cc31",
   "metadata": {
    "tags": []
   },
   "outputs": [],
   "source": [
    "merged_ceo_interpreted['Defall'] = np.where(merged_ceo_interpreted['Ref_Change_Type_2023'] == 'Def', 1, 0)\n",
    "merged_ceo_interpreted['Degall'] = np.where(merged_ceo_interpreted['Ref_Change_Type_2023'] == 'Deg', 1, 0)"
   ]
  },
  {
   "cell_type": "code",
   "execution_count": 30,
   "id": "0926ff1a-84a1-400b-bc07-7c72cfcbbdae",
   "metadata": {
    "tags": []
   },
   "outputs": [],
   "source": [
    "merged_ceo_interpreted['Stable'] = np.where(merged_ceo_interpreted['Ref_Change_Year_2023'] == 'Stable', 1, 0)\n",
    "merged_ceo_interpreted['NF'] = np.where(merged_ceo_interpreted['Ref_Change_Year_2023'] == 'NF', 1, 0)"
   ]
  },
  {
   "cell_type": "code",
   "execution_count": 31,
   "id": "98edf798-d5d1-4c0c-8265-d16e6ab29d23",
   "metadata": {
    "tags": []
   },
   "outputs": [
    {
     "name": "stdout",
     "output_type": "stream",
     "text": [
      "['plotid', 'sampleid', 'lon', 'lat', 'sample_geom', 'point_id', 'Ref_FNF_2015', 'Ref_Regeneration', 'Ref_Change_1522', 'Ref_Change_Type_1522', 'ArtFor', 'ArtMine', 'InfraR', 'Urb', 'IndFor', 'Other', 'Other_Desc', 'IndMine', 'IndAg', 'ArtAg', 'Ref_Year_1522', 'Ref_NFtype', 'Ref_Ftype', 'collection', 'interpreted', 'Ref_LCover', 'Ref_Change_Year_1522', 'Def2016', 'Def2017', 'Def2018', 'Def2019', 'Def2020', 'Def2021', 'Def2022', 'Deg2016', 'Deg2017', 'Deg2018', 'Deg2019', 'Deg2020', 'Deg2021', 'Deg2022', 'Defall', 'Degall', 'Stable', 'NF']\n"
     ]
    }
   ],
   "source": [
    "merged_ceo_column_names = merged_ceo_interpreted.columns.tolist()\n",
    "# Print the list of column names\n",
    "print(merged_ceo_column_names)"
   ]
  },
  {
   "cell_type": "code",
   "execution_count": 32,
   "id": "2706fbbf-4744-41c5-bd58-03c4b5a4bff2",
   "metadata": {
    "tags": []
   },
   "outputs": [
    {
     "data": {
      "text/html": [
       "<div>\n",
       "<style scoped>\n",
       "    .dataframe tbody tr th:only-of-type {\n",
       "        vertical-align: middle;\n",
       "    }\n",
       "\n",
       "    .dataframe tbody tr th {\n",
       "        vertical-align: top;\n",
       "    }\n",
       "\n",
       "    .dataframe thead th {\n",
       "        text-align: right;\n",
       "    }\n",
       "</style>\n",
       "<table border=\"1\" class=\"dataframe\">\n",
       "  <thead>\n",
       "    <tr style=\"text-align: right;\">\n",
       "      <th></th>\n",
       "      <th>plotid</th>\n",
       "      <th>sampleid</th>\n",
       "      <th>lon</th>\n",
       "      <th>lat</th>\n",
       "      <th>sample_geom</th>\n",
       "      <th>point_id</th>\n",
       "      <th>Ref_FNF_2015</th>\n",
       "      <th>Ref_Regeneration</th>\n",
       "      <th>Ref_Change_1522</th>\n",
       "      <th>Ref_Change_Type_1522</th>\n",
       "      <th>ArtFor</th>\n",
       "      <th>ArtMine</th>\n",
       "      <th>InfraR</th>\n",
       "      <th>Urb</th>\n",
       "      <th>IndFor</th>\n",
       "      <th>Other</th>\n",
       "      <th>Other_Desc</th>\n",
       "      <th>IndMine</th>\n",
       "      <th>IndAg</th>\n",
       "      <th>ArtAg</th>\n",
       "      <th>Ref_Year_1522</th>\n",
       "      <th>Ref_NFtype</th>\n",
       "      <th>Ref_Ftype</th>\n",
       "      <th>collection</th>\n",
       "      <th>interpreted</th>\n",
       "      <th>Ref_LCover</th>\n",
       "      <th>Ref_Change_Year_1522</th>\n",
       "      <th>Def2016</th>\n",
       "      <th>Def2017</th>\n",
       "      <th>Def2018</th>\n",
       "      <th>Def2019</th>\n",
       "      <th>Def2020</th>\n",
       "      <th>Def2021</th>\n",
       "      <th>Def2022</th>\n",
       "      <th>Deg2016</th>\n",
       "      <th>Deg2017</th>\n",
       "      <th>Deg2018</th>\n",
       "      <th>Deg2019</th>\n",
       "      <th>Deg2020</th>\n",
       "      <th>Deg2021</th>\n",
       "      <th>Deg2022</th>\n",
       "      <th>Defall</th>\n",
       "      <th>Degall</th>\n",
       "      <th>Stable</th>\n",
       "      <th>NF</th>\n",
       "    </tr>\n",
       "  </thead>\n",
       "  <tbody>\n",
       "    <tr>\n",
       "      <th>0</th>\n",
       "      <td>1377222</td>\n",
       "      <td>1377222</td>\n",
       "      <td>15.104924</td>\n",
       "      <td>-4.909934</td>\n",
       "      <td>POINT(15.104924 -4.909934)</td>\n",
       "      <td>1377222</td>\n",
       "      <td>0</td>\n",
       "      <td>non</td>\n",
       "      <td>0</td>\n",
       "      <td>NF</td>\n",
       "      <td>0</td>\n",
       "      <td>0</td>\n",
       "      <td>0</td>\n",
       "      <td>0</td>\n",
       "      <td>0</td>\n",
       "      <td>0</td>\n",
       "      <td>NaN</td>\n",
       "      <td>0</td>\n",
       "      <td>0</td>\n",
       "      <td>0</td>\n",
       "      <td>NaN</td>\n",
       "      <td>12</td>\n",
       "      <td>NaN</td>\n",
       "      <td>1</td>\n",
       "      <td>1</td>\n",
       "      <td>12</td>\n",
       "      <td>NF</td>\n",
       "      <td>0</td>\n",
       "      <td>0</td>\n",
       "      <td>0</td>\n",
       "      <td>0</td>\n",
       "      <td>0</td>\n",
       "      <td>0</td>\n",
       "      <td>0</td>\n",
       "      <td>0</td>\n",
       "      <td>0</td>\n",
       "      <td>0</td>\n",
       "      <td>0</td>\n",
       "      <td>0</td>\n",
       "      <td>0</td>\n",
       "      <td>0</td>\n",
       "      <td>0</td>\n",
       "      <td>0</td>\n",
       "      <td>0</td>\n",
       "      <td>1</td>\n",
       "    </tr>\n",
       "    <tr>\n",
       "      <th>1</th>\n",
       "      <td>1379242</td>\n",
       "      <td>1379242</td>\n",
       "      <td>19.432718</td>\n",
       "      <td>2.746142</td>\n",
       "      <td>POINT(19.432718 2.746142)</td>\n",
       "      <td>1379242</td>\n",
       "      <td>1</td>\n",
       "      <td>NaN</td>\n",
       "      <td>1</td>\n",
       "      <td>Def</td>\n",
       "      <td>0</td>\n",
       "      <td>0</td>\n",
       "      <td>0</td>\n",
       "      <td>0</td>\n",
       "      <td>0</td>\n",
       "      <td>0</td>\n",
       "      <td>NaN</td>\n",
       "      <td>0</td>\n",
       "      <td>0</td>\n",
       "      <td>1</td>\n",
       "      <td>2017.0</td>\n",
       "      <td>NaN</td>\n",
       "      <td>3</td>\n",
       "      <td>1</td>\n",
       "      <td>1</td>\n",
       "      <td>3</td>\n",
       "      <td>Def2017</td>\n",
       "      <td>0</td>\n",
       "      <td>1</td>\n",
       "      <td>0</td>\n",
       "      <td>0</td>\n",
       "      <td>0</td>\n",
       "      <td>0</td>\n",
       "      <td>0</td>\n",
       "      <td>0</td>\n",
       "      <td>0</td>\n",
       "      <td>0</td>\n",
       "      <td>0</td>\n",
       "      <td>0</td>\n",
       "      <td>0</td>\n",
       "      <td>0</td>\n",
       "      <td>1</td>\n",
       "      <td>0</td>\n",
       "      <td>0</td>\n",
       "      <td>0</td>\n",
       "    </tr>\n",
       "    <tr>\n",
       "      <th>2</th>\n",
       "      <td>1379991</td>\n",
       "      <td>1379991</td>\n",
       "      <td>19.252191</td>\n",
       "      <td>2.251043</td>\n",
       "      <td>POINT(19.252191 2.251043)</td>\n",
       "      <td>1379991</td>\n",
       "      <td>1</td>\n",
       "      <td>NaN</td>\n",
       "      <td>0</td>\n",
       "      <td>Stable</td>\n",
       "      <td>0</td>\n",
       "      <td>0</td>\n",
       "      <td>0</td>\n",
       "      <td>0</td>\n",
       "      <td>0</td>\n",
       "      <td>0</td>\n",
       "      <td>NaN</td>\n",
       "      <td>0</td>\n",
       "      <td>0</td>\n",
       "      <td>0</td>\n",
       "      <td>NaN</td>\n",
       "      <td>NaN</td>\n",
       "      <td>1</td>\n",
       "      <td>1</td>\n",
       "      <td>1</td>\n",
       "      <td>1</td>\n",
       "      <td>Stable</td>\n",
       "      <td>0</td>\n",
       "      <td>0</td>\n",
       "      <td>0</td>\n",
       "      <td>0</td>\n",
       "      <td>0</td>\n",
       "      <td>0</td>\n",
       "      <td>0</td>\n",
       "      <td>0</td>\n",
       "      <td>0</td>\n",
       "      <td>0</td>\n",
       "      <td>0</td>\n",
       "      <td>0</td>\n",
       "      <td>0</td>\n",
       "      <td>0</td>\n",
       "      <td>0</td>\n",
       "      <td>0</td>\n",
       "      <td>1</td>\n",
       "      <td>0</td>\n",
       "    </tr>\n",
       "    <tr>\n",
       "      <th>3</th>\n",
       "      <td>1381523</td>\n",
       "      <td>1381523</td>\n",
       "      <td>19.563450</td>\n",
       "      <td>2.562405</td>\n",
       "      <td>POINT(19.56345 2.562405)</td>\n",
       "      <td>1381523</td>\n",
       "      <td>1</td>\n",
       "      <td>NaN</td>\n",
       "      <td>0</td>\n",
       "      <td>Stable</td>\n",
       "      <td>0</td>\n",
       "      <td>0</td>\n",
       "      <td>0</td>\n",
       "      <td>0</td>\n",
       "      <td>0</td>\n",
       "      <td>0</td>\n",
       "      <td>NaN</td>\n",
       "      <td>0</td>\n",
       "      <td>0</td>\n",
       "      <td>0</td>\n",
       "      <td>NaN</td>\n",
       "      <td>NaN</td>\n",
       "      <td>1</td>\n",
       "      <td>1</td>\n",
       "      <td>1</td>\n",
       "      <td>1</td>\n",
       "      <td>Stable</td>\n",
       "      <td>0</td>\n",
       "      <td>0</td>\n",
       "      <td>0</td>\n",
       "      <td>0</td>\n",
       "      <td>0</td>\n",
       "      <td>0</td>\n",
       "      <td>0</td>\n",
       "      <td>0</td>\n",
       "      <td>0</td>\n",
       "      <td>0</td>\n",
       "      <td>0</td>\n",
       "      <td>0</td>\n",
       "      <td>0</td>\n",
       "      <td>0</td>\n",
       "      <td>0</td>\n",
       "      <td>0</td>\n",
       "      <td>1</td>\n",
       "      <td>0</td>\n",
       "    </tr>\n",
       "    <tr>\n",
       "      <th>4</th>\n",
       "      <td>1382196</td>\n",
       "      <td>1382196</td>\n",
       "      <td>19.495225</td>\n",
       "      <td>2.300299</td>\n",
       "      <td>POINT(19.495225 2.300299)</td>\n",
       "      <td>1382196</td>\n",
       "      <td>1</td>\n",
       "      <td>NaN</td>\n",
       "      <td>0</td>\n",
       "      <td>Stable</td>\n",
       "      <td>0</td>\n",
       "      <td>0</td>\n",
       "      <td>0</td>\n",
       "      <td>0</td>\n",
       "      <td>0</td>\n",
       "      <td>0</td>\n",
       "      <td>NaN</td>\n",
       "      <td>0</td>\n",
       "      <td>0</td>\n",
       "      <td>0</td>\n",
       "      <td>NaN</td>\n",
       "      <td>NaN</td>\n",
       "      <td>1</td>\n",
       "      <td>1</td>\n",
       "      <td>1</td>\n",
       "      <td>1</td>\n",
       "      <td>Stable</td>\n",
       "      <td>0</td>\n",
       "      <td>0</td>\n",
       "      <td>0</td>\n",
       "      <td>0</td>\n",
       "      <td>0</td>\n",
       "      <td>0</td>\n",
       "      <td>0</td>\n",
       "      <td>0</td>\n",
       "      <td>0</td>\n",
       "      <td>0</td>\n",
       "      <td>0</td>\n",
       "      <td>0</td>\n",
       "      <td>0</td>\n",
       "      <td>0</td>\n",
       "      <td>0</td>\n",
       "      <td>0</td>\n",
       "      <td>1</td>\n",
       "      <td>0</td>\n",
       "    </tr>\n",
       "  </tbody>\n",
       "</table>\n",
       "</div>"
      ],
      "text/plain": [
       "    plotid  sampleid        lon       lat                 sample_geom  \\\n",
       "0  1377222   1377222  15.104924 -4.909934  POINT(15.104924 -4.909934)   \n",
       "1  1379242   1379242  19.432718  2.746142   POINT(19.432718 2.746142)   \n",
       "2  1379991   1379991  19.252191  2.251043   POINT(19.252191 2.251043)   \n",
       "3  1381523   1381523  19.563450  2.562405    POINT(19.56345 2.562405)   \n",
       "4  1382196   1382196  19.495225  2.300299   POINT(19.495225 2.300299)   \n",
       "\n",
       "   point_id Ref_FNF_2015 Ref_Regeneration Ref_Change_1522  \\\n",
       "0   1377222            0              non               0   \n",
       "1   1379242            1              NaN               1   \n",
       "2   1379991            1              NaN               0   \n",
       "3   1381523            1              NaN               0   \n",
       "4   1382196            1              NaN               0   \n",
       "\n",
       "  Ref_Change_Type_1522 ArtFor ArtMine InfraR Urb IndFor Other Other_Desc  \\\n",
       "0                   NF      0       0      0   0      0     0        NaN   \n",
       "1                  Def      0       0      0   0      0     0        NaN   \n",
       "2               Stable      0       0      0   0      0     0        NaN   \n",
       "3               Stable      0       0      0   0      0     0        NaN   \n",
       "4               Stable      0       0      0   0      0     0        NaN   \n",
       "\n",
       "  IndMine IndAg ArtAg  Ref_Year_1522 Ref_NFtype Ref_Ftype  collection  \\\n",
       "0       0     0     0            NaN         12       NaN           1   \n",
       "1       0     0     1         2017.0        NaN         3           1   \n",
       "2       0     0     0            NaN        NaN         1           1   \n",
       "3       0     0     0            NaN        NaN         1           1   \n",
       "4       0     0     0            NaN        NaN         1           1   \n",
       "\n",
       "   interpreted Ref_LCover Ref_Change_Year_1522  Def2016  Def2017  Def2018  \\\n",
       "0            1         12                   NF        0        0        0   \n",
       "1            1          3              Def2017        0        1        0   \n",
       "2            1          1               Stable        0        0        0   \n",
       "3            1          1               Stable        0        0        0   \n",
       "4            1          1               Stable        0        0        0   \n",
       "\n",
       "   Def2019  Def2020  Def2021  Def2022  Deg2016  Deg2017  Deg2018  Deg2019  \\\n",
       "0        0        0        0        0        0        0        0        0   \n",
       "1        0        0        0        0        0        0        0        0   \n",
       "2        0        0        0        0        0        0        0        0   \n",
       "3        0        0        0        0        0        0        0        0   \n",
       "4        0        0        0        0        0        0        0        0   \n",
       "\n",
       "   Deg2020  Deg2021  Deg2022  Defall  Degall  Stable  NF  \n",
       "0        0        0        0       0       0       0   1  \n",
       "1        0        0        0       1       0       0   0  \n",
       "2        0        0        0       0       0       1   0  \n",
       "3        0        0        0       0       0       1   0  \n",
       "4        0        0        0       0       0       1   0  "
      ]
     },
     "execution_count": 32,
     "metadata": {},
     "output_type": "execute_result"
    }
   ],
   "source": [
    "merged_ceo_interpreted.head()"
   ]
  },
  {
   "cell_type": "code",
   "execution_count": 33,
   "id": "a413d7d4-c52b-4e7b-a830-9d5f2019a41b",
   "metadata": {
    "tags": []
   },
   "outputs": [
    {
     "name": "stdout",
     "output_type": "stream",
     "text": [
      "['plotid' 'sampleid' 'lon' 'lat' 'sample_geom' 'point_id' 'Ref_FNF_2015'\n",
      " 'Ref_Regeneration' 'Ref_Change_1522' 'Ref_Change_Type_1522' 'ArtFor'\n",
      " 'ArtMine' 'InfraR' 'Urb' 'IndFor' 'Other' 'Other_Desc' 'IndMine' 'IndAg'\n",
      " 'ArtAg' 'Ref_Year_1522' 'Ref_NFtype' 'Ref_Ftype' 'collection'\n",
      " 'interpreted' 'Ref_LCover' 'Ref_Change_Year_1522' 'Def2016' 'Def2017'\n",
      " 'Def2018' 'Def2019' 'Def2020' 'Def2021' 'Def2022' 'Deg2016' 'Deg2017'\n",
      " 'Deg2018' 'Deg2019' 'Deg2020' 'Deg2021' 'Deg2022' 'Defall' 'Degall'\n",
      " 'Stable' 'NF']\n"
     ]
    }
   ],
   "source": [
    "print(merged_ceo_interpreted.columns.values)"
   ]
  },
  {
   "cell_type": "code",
   "execution_count": 34,
   "id": "dbc6a9bd-8fd3-49e9-8d56-e1420024ecc7",
   "metadata": {
    "tags": []
   },
   "outputs": [
    {
     "data": {
      "text/plain": [
       "Ref_Change_Year_1522\n",
       "NF         6297\n",
       "Stable     5598\n",
       "Def2019     173\n",
       "Def2018     167\n",
       "Def2020     158\n",
       "Def2017     157\n",
       "Def2021     128\n",
       "Def2016      97\n",
       "Def2022      97\n",
       "Deg2016      60\n",
       "Deg2020      46\n",
       "Deg2019      40\n",
       "Deg2022      39\n",
       "Deg2021      35\n",
       "Deg2018      32\n",
       "Deg2017      23\n",
       "Name: count, dtype: int64"
      ]
     },
     "execution_count": 34,
     "metadata": {},
     "output_type": "execute_result"
    }
   ],
   "source": [
    "merged_ceo_interpreted['Ref_Change_Year_2023'].value_counts(dropna=False)"
   ]
  },
  {
   "cell_type": "code",
   "execution_count": 35,
   "id": "7f40e2a6-b05f-430d-ab5f-e7a7719e38be",
   "metadata": {},
   "outputs": [
    {
     "data": {
      "text/html": [
       "<div>\n",
       "<style scoped>\n",
       "    .dataframe tbody tr th:only-of-type {\n",
       "        vertical-align: middle;\n",
       "    }\n",
       "\n",
       "    .dataframe tbody tr th {\n",
       "        vertical-align: top;\n",
       "    }\n",
       "\n",
       "    .dataframe thead th {\n",
       "        text-align: right;\n",
       "    }\n",
       "</style>\n",
       "<table border=\"1\" class=\"dataframe\">\n",
       "  <thead>\n",
       "    <tr style=\"text-align: right;\">\n",
       "      <th></th>\n",
       "      <th>plotid</th>\n",
       "      <th>sampleid</th>\n",
       "      <th>lon</th>\n",
       "      <th>lat</th>\n",
       "      <th>sample_geom</th>\n",
       "      <th>point_id</th>\n",
       "      <th>Ref_FNF_2015</th>\n",
       "      <th>Ref_Regeneration</th>\n",
       "      <th>Ref_Change_1522</th>\n",
       "      <th>Ref_Change_Type_1522</th>\n",
       "      <th>ArtFor</th>\n",
       "      <th>ArtMine</th>\n",
       "      <th>InfraR</th>\n",
       "      <th>Urb</th>\n",
       "      <th>IndFor</th>\n",
       "      <th>Other</th>\n",
       "      <th>Other_Desc</th>\n",
       "      <th>IndMine</th>\n",
       "      <th>IndAg</th>\n",
       "      <th>ArtAg</th>\n",
       "      <th>Ref_Year_1522</th>\n",
       "      <th>Ref_NFtype</th>\n",
       "      <th>Ref_Ftype</th>\n",
       "      <th>collection</th>\n",
       "      <th>interpreted</th>\n",
       "      <th>Ref_LCover</th>\n",
       "      <th>Ref_Change_Year_1522</th>\n",
       "      <th>Def2016</th>\n",
       "      <th>Def2017</th>\n",
       "      <th>Def2018</th>\n",
       "      <th>Def2019</th>\n",
       "      <th>Def2020</th>\n",
       "      <th>Def2021</th>\n",
       "      <th>Def2022</th>\n",
       "      <th>Deg2016</th>\n",
       "      <th>Deg2017</th>\n",
       "      <th>Deg2018</th>\n",
       "      <th>Deg2019</th>\n",
       "      <th>Deg2020</th>\n",
       "      <th>Deg2021</th>\n",
       "      <th>Deg2022</th>\n",
       "      <th>Defall</th>\n",
       "      <th>Degall</th>\n",
       "      <th>Stable</th>\n",
       "      <th>NF</th>\n",
       "    </tr>\n",
       "  </thead>\n",
       "  <tbody>\n",
       "    <tr>\n",
       "      <th>0</th>\n",
       "      <td>1377222</td>\n",
       "      <td>1377222</td>\n",
       "      <td>15.104924</td>\n",
       "      <td>-4.909934</td>\n",
       "      <td>POINT(15.104924 -4.909934)</td>\n",
       "      <td>1377222</td>\n",
       "      <td>0</td>\n",
       "      <td>non</td>\n",
       "      <td>0</td>\n",
       "      <td>NF</td>\n",
       "      <td>0</td>\n",
       "      <td>0</td>\n",
       "      <td>0</td>\n",
       "      <td>0</td>\n",
       "      <td>0</td>\n",
       "      <td>0</td>\n",
       "      <td>NaN</td>\n",
       "      <td>0</td>\n",
       "      <td>0</td>\n",
       "      <td>0</td>\n",
       "      <td>NaN</td>\n",
       "      <td>12</td>\n",
       "      <td>NaN</td>\n",
       "      <td>1</td>\n",
       "      <td>1</td>\n",
       "      <td>12</td>\n",
       "      <td>NF</td>\n",
       "      <td>0</td>\n",
       "      <td>0</td>\n",
       "      <td>0</td>\n",
       "      <td>0</td>\n",
       "      <td>0</td>\n",
       "      <td>0</td>\n",
       "      <td>0</td>\n",
       "      <td>0</td>\n",
       "      <td>0</td>\n",
       "      <td>0</td>\n",
       "      <td>0</td>\n",
       "      <td>0</td>\n",
       "      <td>0</td>\n",
       "      <td>0</td>\n",
       "      <td>0</td>\n",
       "      <td>0</td>\n",
       "      <td>0</td>\n",
       "      <td>1</td>\n",
       "    </tr>\n",
       "    <tr>\n",
       "      <th>1</th>\n",
       "      <td>1379242</td>\n",
       "      <td>1379242</td>\n",
       "      <td>19.432718</td>\n",
       "      <td>2.746142</td>\n",
       "      <td>POINT(19.432718 2.746142)</td>\n",
       "      <td>1379242</td>\n",
       "      <td>1</td>\n",
       "      <td>NaN</td>\n",
       "      <td>1</td>\n",
       "      <td>Def</td>\n",
       "      <td>0</td>\n",
       "      <td>0</td>\n",
       "      <td>0</td>\n",
       "      <td>0</td>\n",
       "      <td>0</td>\n",
       "      <td>0</td>\n",
       "      <td>NaN</td>\n",
       "      <td>0</td>\n",
       "      <td>0</td>\n",
       "      <td>1</td>\n",
       "      <td>2017.0</td>\n",
       "      <td>NaN</td>\n",
       "      <td>3</td>\n",
       "      <td>1</td>\n",
       "      <td>1</td>\n",
       "      <td>3</td>\n",
       "      <td>Def2017</td>\n",
       "      <td>0</td>\n",
       "      <td>1</td>\n",
       "      <td>0</td>\n",
       "      <td>0</td>\n",
       "      <td>0</td>\n",
       "      <td>0</td>\n",
       "      <td>0</td>\n",
       "      <td>0</td>\n",
       "      <td>0</td>\n",
       "      <td>0</td>\n",
       "      <td>0</td>\n",
       "      <td>0</td>\n",
       "      <td>0</td>\n",
       "      <td>0</td>\n",
       "      <td>1</td>\n",
       "      <td>0</td>\n",
       "      <td>0</td>\n",
       "      <td>0</td>\n",
       "    </tr>\n",
       "    <tr>\n",
       "      <th>2</th>\n",
       "      <td>1379991</td>\n",
       "      <td>1379991</td>\n",
       "      <td>19.252191</td>\n",
       "      <td>2.251043</td>\n",
       "      <td>POINT(19.252191 2.251043)</td>\n",
       "      <td>1379991</td>\n",
       "      <td>1</td>\n",
       "      <td>NaN</td>\n",
       "      <td>0</td>\n",
       "      <td>Stable</td>\n",
       "      <td>0</td>\n",
       "      <td>0</td>\n",
       "      <td>0</td>\n",
       "      <td>0</td>\n",
       "      <td>0</td>\n",
       "      <td>0</td>\n",
       "      <td>NaN</td>\n",
       "      <td>0</td>\n",
       "      <td>0</td>\n",
       "      <td>0</td>\n",
       "      <td>NaN</td>\n",
       "      <td>NaN</td>\n",
       "      <td>1</td>\n",
       "      <td>1</td>\n",
       "      <td>1</td>\n",
       "      <td>1</td>\n",
       "      <td>Stable</td>\n",
       "      <td>0</td>\n",
       "      <td>0</td>\n",
       "      <td>0</td>\n",
       "      <td>0</td>\n",
       "      <td>0</td>\n",
       "      <td>0</td>\n",
       "      <td>0</td>\n",
       "      <td>0</td>\n",
       "      <td>0</td>\n",
       "      <td>0</td>\n",
       "      <td>0</td>\n",
       "      <td>0</td>\n",
       "      <td>0</td>\n",
       "      <td>0</td>\n",
       "      <td>0</td>\n",
       "      <td>0</td>\n",
       "      <td>1</td>\n",
       "      <td>0</td>\n",
       "    </tr>\n",
       "    <tr>\n",
       "      <th>3</th>\n",
       "      <td>1381523</td>\n",
       "      <td>1381523</td>\n",
       "      <td>19.563450</td>\n",
       "      <td>2.562405</td>\n",
       "      <td>POINT(19.56345 2.562405)</td>\n",
       "      <td>1381523</td>\n",
       "      <td>1</td>\n",
       "      <td>NaN</td>\n",
       "      <td>0</td>\n",
       "      <td>Stable</td>\n",
       "      <td>0</td>\n",
       "      <td>0</td>\n",
       "      <td>0</td>\n",
       "      <td>0</td>\n",
       "      <td>0</td>\n",
       "      <td>0</td>\n",
       "      <td>NaN</td>\n",
       "      <td>0</td>\n",
       "      <td>0</td>\n",
       "      <td>0</td>\n",
       "      <td>NaN</td>\n",
       "      <td>NaN</td>\n",
       "      <td>1</td>\n",
       "      <td>1</td>\n",
       "      <td>1</td>\n",
       "      <td>1</td>\n",
       "      <td>Stable</td>\n",
       "      <td>0</td>\n",
       "      <td>0</td>\n",
       "      <td>0</td>\n",
       "      <td>0</td>\n",
       "      <td>0</td>\n",
       "      <td>0</td>\n",
       "      <td>0</td>\n",
       "      <td>0</td>\n",
       "      <td>0</td>\n",
       "      <td>0</td>\n",
       "      <td>0</td>\n",
       "      <td>0</td>\n",
       "      <td>0</td>\n",
       "      <td>0</td>\n",
       "      <td>0</td>\n",
       "      <td>0</td>\n",
       "      <td>1</td>\n",
       "      <td>0</td>\n",
       "    </tr>\n",
       "    <tr>\n",
       "      <th>4</th>\n",
       "      <td>1382196</td>\n",
       "      <td>1382196</td>\n",
       "      <td>19.495225</td>\n",
       "      <td>2.300299</td>\n",
       "      <td>POINT(19.495225 2.300299)</td>\n",
       "      <td>1382196</td>\n",
       "      <td>1</td>\n",
       "      <td>NaN</td>\n",
       "      <td>0</td>\n",
       "      <td>Stable</td>\n",
       "      <td>0</td>\n",
       "      <td>0</td>\n",
       "      <td>0</td>\n",
       "      <td>0</td>\n",
       "      <td>0</td>\n",
       "      <td>0</td>\n",
       "      <td>NaN</td>\n",
       "      <td>0</td>\n",
       "      <td>0</td>\n",
       "      <td>0</td>\n",
       "      <td>NaN</td>\n",
       "      <td>NaN</td>\n",
       "      <td>1</td>\n",
       "      <td>1</td>\n",
       "      <td>1</td>\n",
       "      <td>1</td>\n",
       "      <td>Stable</td>\n",
       "      <td>0</td>\n",
       "      <td>0</td>\n",
       "      <td>0</td>\n",
       "      <td>0</td>\n",
       "      <td>0</td>\n",
       "      <td>0</td>\n",
       "      <td>0</td>\n",
       "      <td>0</td>\n",
       "      <td>0</td>\n",
       "      <td>0</td>\n",
       "      <td>0</td>\n",
       "      <td>0</td>\n",
       "      <td>0</td>\n",
       "      <td>0</td>\n",
       "      <td>0</td>\n",
       "      <td>0</td>\n",
       "      <td>1</td>\n",
       "      <td>0</td>\n",
       "    </tr>\n",
       "  </tbody>\n",
       "</table>\n",
       "</div>"
      ],
      "text/plain": [
       "    plotid  sampleid        lon       lat                 sample_geom  \\\n",
       "0  1377222   1377222  15.104924 -4.909934  POINT(15.104924 -4.909934)   \n",
       "1  1379242   1379242  19.432718  2.746142   POINT(19.432718 2.746142)   \n",
       "2  1379991   1379991  19.252191  2.251043   POINT(19.252191 2.251043)   \n",
       "3  1381523   1381523  19.563450  2.562405    POINT(19.56345 2.562405)   \n",
       "4  1382196   1382196  19.495225  2.300299   POINT(19.495225 2.300299)   \n",
       "\n",
       "   point_id Ref_FNF_2015 Ref_Regeneration Ref_Change_1522  \\\n",
       "0   1377222            0              non               0   \n",
       "1   1379242            1              NaN               1   \n",
       "2   1379991            1              NaN               0   \n",
       "3   1381523            1              NaN               0   \n",
       "4   1382196            1              NaN               0   \n",
       "\n",
       "  Ref_Change_Type_1522 ArtFor ArtMine InfraR Urb IndFor Other Other_Desc  \\\n",
       "0                   NF      0       0      0   0      0     0        NaN   \n",
       "1                  Def      0       0      0   0      0     0        NaN   \n",
       "2               Stable      0       0      0   0      0     0        NaN   \n",
       "3               Stable      0       0      0   0      0     0        NaN   \n",
       "4               Stable      0       0      0   0      0     0        NaN   \n",
       "\n",
       "  IndMine IndAg ArtAg  Ref_Year_1522 Ref_NFtype Ref_Ftype  collection  \\\n",
       "0       0     0     0            NaN         12       NaN           1   \n",
       "1       0     0     1         2017.0        NaN         3           1   \n",
       "2       0     0     0            NaN        NaN         1           1   \n",
       "3       0     0     0            NaN        NaN         1           1   \n",
       "4       0     0     0            NaN        NaN         1           1   \n",
       "\n",
       "   interpreted Ref_LCover Ref_Change_Year_1522  Def2016  Def2017  Def2018  \\\n",
       "0            1         12                   NF        0        0        0   \n",
       "1            1          3              Def2017        0        1        0   \n",
       "2            1          1               Stable        0        0        0   \n",
       "3            1          1               Stable        0        0        0   \n",
       "4            1          1               Stable        0        0        0   \n",
       "\n",
       "   Def2019  Def2020  Def2021  Def2022  Deg2016  Deg2017  Deg2018  Deg2019  \\\n",
       "0        0        0        0        0        0        0        0        0   \n",
       "1        0        0        0        0        0        0        0        0   \n",
       "2        0        0        0        0        0        0        0        0   \n",
       "3        0        0        0        0        0        0        0        0   \n",
       "4        0        0        0        0        0        0        0        0   \n",
       "\n",
       "   Deg2020  Deg2021  Deg2022  Defall  Degall  Stable  NF  \n",
       "0        0        0        0       0       0       0   1  \n",
       "1        0        0        0       1       0       0   0  \n",
       "2        0        0        0       0       0       1   0  \n",
       "3        0        0        0       0       0       1   0  \n",
       "4        0        0        0       0       0       1   0  "
      ]
     },
     "execution_count": 35,
     "metadata": {},
     "output_type": "execute_result"
    }
   ],
   "source": [
    "merged_ceo_interpreted.head()"
   ]
  },
  {
   "cell_type": "code",
   "execution_count": 36,
   "id": "0f5b06d0-89d2-4190-aed7-b3b20806496c",
   "metadata": {},
   "outputs": [],
   "source": [
    "merged_ceo_interpreted['ISO'] = iso"
   ]
  },
  {
   "cell_type": "code",
   "execution_count": 39,
   "id": "14fcaa3e-1f21-43b1-a4ec-671a1950134c",
   "metadata": {
    "tags": []
   },
   "outputs": [
    {
     "name": "stdout",
     "output_type": "stream",
     "text": [
      "plotid                    int64\n",
      "sampleid                  int64\n",
      "lon                     float64\n",
      "lat                     float64\n",
      "sample_geom              object\n",
      "point_id                  int64\n",
      "Ref_FNF_2015             object\n",
      "Ref_Regeneration         object\n",
      "Ref_Change_1522          object\n",
      "Ref_Change_Type_1522     object\n",
      "ArtFor                   object\n",
      "ArtMine                  object\n",
      "InfraR                   object\n",
      "Urb                      object\n",
      "IndFor                   object\n",
      "Other                    object\n",
      "Other_Desc               object\n",
      "IndMine                  object\n",
      "IndAg                    object\n",
      "ArtAg                    object\n",
      "Ref_Year_1522           float64\n",
      "Ref_NFtype               object\n",
      "Ref_Ftype                object\n",
      "collection                int64\n",
      "interpreted               int64\n",
      "Ref_LCover               object\n",
      "Ref_Change_Year_1522     object\n",
      "Def2016                   int64\n",
      "Def2017                   int64\n",
      "Def2018                   int64\n",
      "Def2019                   int64\n",
      "Def2020                   int64\n",
      "Def2021                   int64\n",
      "Def2022                   int64\n",
      "Deg2016                   int64\n",
      "Deg2017                   int64\n",
      "Deg2018                   int64\n",
      "Deg2019                   int64\n",
      "Deg2020                   int64\n",
      "Deg2021                   int64\n",
      "Deg2022                   int64\n",
      "Defall                    int64\n",
      "Degall                    int64\n",
      "Stable                    int64\n",
      "NF                        int64\n",
      "ISO                      object\n",
      "dtype: object\n"
     ]
    }
   ],
   "source": [
    "print(merged_ceo_interpreted.dtypes)"
   ]
  },
  {
   "cell_type": "code",
   "execution_count": 40,
   "id": "bdde389b",
   "metadata": {},
   "outputs": [],
   "source": [
    "columns_to_convert = ['Def2023','Deg2023','NF','Stable']\n",
    "merged_ceo_interpreted[columns_to_convert] = merged_ceo_interpreted[columns_to_convert].fillna(0)\n",
    "merged_ceo_interpreted[columns_to_convert] = merged_ceo_interpreted[columns_to_convert].astype(int)"
   ]
  },
  {
   "cell_type": "markdown",
   "id": "60bd0119-9d19-461b-854a-7d1345b01984",
   "metadata": {},
   "source": [
    "### 4. export ceo data to one csv file"
   ]
  },
  {
   "cell_type": "code",
   "execution_count": 41,
   "id": "a3199a69-7b32-4d91-9e59-f2daa370a714",
   "metadata": {
    "tags": []
   },
   "outputs": [],
   "source": [
    "merged_ceo_interpreted.to_csv(ceo_data_out,index_label='ID')"
   ]
  }
 ],
 "metadata": {
  "kernelspec": {
   "display_name": "Python 3",
   "language": "python",
   "name": "python3"
  },
  "language_info": {
   "codemirror_mode": {
    "name": "ipython",
    "version": 3
   },
   "file_extension": ".py",
   "mimetype": "text/x-python",
   "name": "python",
   "nbconvert_exporter": "python",
   "pygments_lexer": "ipython3",
   "version": "3.10.12"
  }
 },
 "nbformat": 4,
 "nbformat_minor": 5
}
