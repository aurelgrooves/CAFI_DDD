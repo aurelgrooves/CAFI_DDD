{
 "cells": [
  {
   "cell_type": "markdown",
   "id": "d0b45b24-6cc1-44b4-ba38-dd9b053e49dc",
   "metadata": {
    "tags": []
   },
   "source": [
    "![title](../images/header.png)\n",
    "\n",
    "Merging CEO data phase II (2015-2022)\n",
    "-------\n",
    "This notebook merges validated data from different CEO CAFI projects\n",
    "###### For more information contact aurelie.shapiro@fao.org or remi.dannunzio@fao.org"
   ]
  },
  {
   "cell_type": "code",
   "execution_count": 2,
   "id": "7899a542-decb-4052-8f0d-44d83d23ba6d",
   "metadata": {
    "tags": []
   },
   "outputs": [],
   "source": [
    "import pandas as pd\n",
    "import numpy as np\n",
    "import matplotlib.pyplot as plt\n",
    "pd.set_option('display.max_columns', None)\n",
    "pd.set_option('display.max_rows', None)\n",
    "# Set the display option to a large value to prevent text wrapping\n",
    "pd.set_option('display.max_colwidth', None)"
   ]
  },
  {
   "cell_type": "markdown",
   "id": "a927a489-00d9-4326-858f-bdd4b5edd657",
   "metadata": {},
   "source": [
    "## Enter parameters"
   ]
  },
  {
   "cell_type": "code",
   "execution_count": 3,
   "id": "af7f5292-a88f-47d8-909e-078c742360c2",
   "metadata": {},
   "outputs": [],
   "source": [
    "#identifier for country \n",
    "# COD COG CMR GAB EQG CAF\n",
    "iso = 'EQG'"
   ]
  },
  {
   "cell_type": "markdown",
   "id": "b5b5e710-f28e-4862-ac7f-f072e4672886",
   "metadata": {},
   "source": [
    "### 1. Read all CEO sample files\n",
    "download your CEO sample files from collect.earth and upload to SEPAL using FileZilla.\n",
    "add as many files as you have projects"
   ]
  },
  {
   "cell_type": "code",
   "execution_count": 6,
   "id": "dbf603c5-ed47-4e36-b271-26e6200a3737",
   "metadata": {
    "tags": []
   },
   "outputs": [],
   "source": [
    "#DRC\n",
    "#ceo1 = pd.read_csv('/home/sepal-user/module_results/esbae/DRC/ceo-CAFI-DDD-RDC-eSBAE-validation-1-sample-data.csv')\n",
    "#ceo2 = pd.read_csv('/home/sepal-user/module_results/esbae/DRC/ceo-CAFI-DDD-RDC-eSBAE-validation-2-sample-data.csv')\n",
    "#ceo3 = pd.read_csv('/home/sepal-user/module_results/esbae/DRC/ceo-CAFI-DDD-RDC-eSBAE-validation-3-sample-data.csv')\n",
    "#GAB\n",
    "#ceo1 = pd.read_csv('/home/sepal-user/module_results/esbae/GAB/ceo-CAFI-DDD-Gabon-eSBAE-validation-1-sample-data.csv')\n",
    "#ceo2 = pd.read_csv('/home/sepal-user/module_results/esbae/GAB/ceo-CAFI-DDD-Gabon-eSBAE-validation-2-sample-data.csv')\n",
    "#ceo3 = pd.read_csv('/home/sepal-user/module_results/esbae/GAB/ceo-CAFI-DDD-Gabon-eSBAE-validation-3-sample-data.csv')\n",
    "#ceo4 = pd.read_csv('/home/sepal-user/module_results/esbae/GAB/ceo-CAFI-DDD-Gabon-eSBAE-validation-4-sample-data.csv')\n",
    "#ceo5 = pd.read_csv('/home/sepal-user/module_results/esbae/GAB/ceo-CAFI-DDD-Gabon-eSBAE-validation-5-sample-data.csv')\n",
    "#EQG\n",
    "#ceo1 = pd.read_csv('/home/sepal-user/module_results/esbae/EQG/ceo-CAFI-DDD-Equatorial-Guinea-eSBAE-validation-1-sample-data.csv')\n",
    "#ceo2 = pd.read_csv('/home/sepal-user/module_results/esbae/EQG/ceo-CAFI-DDD-Equatorial-Guinea-eSBAE-validation-2-sample-data.csv')\n",
    "ceo1 = pd.read_csv('/home/sepal-user/module_results/esbae/EQG/ceo-CAFI-DDD-EQG-eSBAE-2023-collection-1-sample-data.csv')\n",
    "ceo2 = pd.read_csv('/home/sepal-user/module_results/esbae/EQG/ceo-CAFI-DDD-EQG-eSBAE-2023-collection-2-sample-data.csv')\n",
    "#COG\n",
    "#ceo1 = pd.read_csv('/home/sepal-user/module_results/esbae/COG/COG_all_ceo_1522_1622_clean.csv')\n",
    "#CMR\n",
    "#ceo1 = pd.read_csv('/home/sepal-user/module_results/esbae/CMR/ceo-CAFI-DDD-Cameroun-eSBAE-validation-1-sample-data.csv')\n",
    "#ceo2 = pd.read_csv('/home/sepal-user/module_results/esbae/CMR/ceo-CAFI-DDD-Cameroun-eSBAE-validation-2-sample-data.csv')\n",
    "#CAR\n",
    "#ceo1 = pd.read_csv('/home/sepal-user/module_results/esbae/CAR/ceo-CAFI-DDD-RCA-eSBAE-validation-1-sample-data.csv')\n",
    "#ceo2 = pd.read_csv('/home/sepal-user/module_results/esbae/CAR/ceo-CAFI-DDD-RCA-eSBAE-validation-2-sample-data.csv')"
   ]
  },
  {
   "cell_type": "markdown",
   "id": "08ab5a47-050b-420b-a731-144ccdf915f6",
   "metadata": {},
   "source": [
    "make a list of the ceo files for processing"
   ]
  },
  {
   "cell_type": "code",
   "execution_count": 7,
   "id": "15b7a88f-3314-4a30-b41e-0a9bb38e5baa",
   "metadata": {},
   "outputs": [],
   "source": [
    "#depends on how many files you have\n",
    "# if you have 5 files\n",
    "#ceo_files = [ceo1, ceo2, ceo3, ceo4, ceo5]\n",
    "# if you have 3 files\n",
    "#ceo_files = [ceo1, ceo2, ceo3]\n",
    "# if you have 2 files\n",
    "ceo_files = [ceo1,ceo2]\n",
    "# if you have 1 file\n",
    "#ceo_files = [ceo1]"
   ]
  },
  {
   "cell_type": "code",
   "execution_count": 9,
   "id": "a6f7352f-95a8-4821-a499-618062fda269",
   "metadata": {},
   "outputs": [],
   "source": [
    "# output file  CEO validated data file with select columns\n",
    "ceo_data_out =  '/home/sepal-user/module_results/esbae/EQG/EQG_all_ceo_2223_clean.csv'"
   ]
  },
  {
   "cell_type": "markdown",
   "id": "5f183313-e35a-4cde-afc2-879b4ba7508a",
   "metadata": {},
   "source": [
    "### end of parameters"
   ]
  },
  {
   "cell_type": "code",
   "execution_count": 11,
   "id": "aa3ab8ff-9649-44f5-99c4-90089d9a6f51",
   "metadata": {
    "tags": []
   },
   "outputs": [
    {
     "name": "stdout",
     "output_type": "stream",
     "text": [
      "['plotid', 'sampleid', 'sample_internal_id', 'lon', 'lat', 'email', 'flagged', 'collection_time', 'analysis_duration', 'imagery_title', 'imagery_attributions', 'sample_geom', 'pl_index', 'pl_chgprob', 'pl_maxforprob', 'pl_strata', 'forêt ou non-forêt en 2022', \"Y'a t'il de la régéneration\", 'Changement en 2023', 'Type de Changement 2023', 'Exploitation forestière artisanale (<5ha)', 'Activité minière artisanale', 'Infrastructure routière', 'Infrastructure d’urbanisation ou habitations', 'Exploitation forestière industrielle (>5ha)', 'Autre moteur', 'Descriptif autre moteur', 'Activité minière industrielle', 'Agriculture industrielle', 'Agriculture paysanne', 'Année de Changement', 'Type de non-forêt en 2022', 'Type de forêt en 2022', 'Commentaires']\n"
     ]
    }
   ],
   "source": [
    "column_names = ceo1.columns.tolist()\n",
    "# Print the list of column names\n",
    "print(column_names)"
   ]
  },
  {
   "cell_type": "markdown",
   "id": "e405fab6-a8a0-4461-96e4-091177c712f3",
   "metadata": {},
   "source": [
    "##### add a column named \"interpreted\" which = 1 when the point has been validated in CEO, otherwise 0\n",
    "count the number of validated points per ceo file\n",
    "replace forest and non-forest types with codes"
   ]
  },
  {
   "cell_type": "code",
   "execution_count": 12,
   "id": "d9c12ded-8591-4487-9494-68b2081e3987",
   "metadata": {
    "tags": []
   },
   "outputs": [
    {
     "name": "stdout",
     "output_type": "stream",
     "text": [
      "ceo 1 # of validated points: 247, # of not validated points: 0\n",
      "ceo 2 # of validated points: 155, # of not validated points: 342\n"
     ]
    },
    {
     "ename": "KeyError",
     "evalue": "\"['forêt ou non-forêt en 2015?', 'Changement entre 2015-2022', 'Type de Changement (2015-2022)', 'Type de non-forêt en 2015', 'Type de forêt en 2015'] not in index\"",
     "output_type": "error",
     "traceback": [
      "\u001b[0;31m---------------------------------------------------------------------------\u001b[0m",
      "\u001b[0;31mKeyError\u001b[0m                                  Traceback (most recent call last)",
      "Cell \u001b[0;32mIn[12], line 49\u001b[0m\n\u001b[1;32m     41\u001b[0m columns_to_keep \u001b[38;5;241m=\u001b[39m [\u001b[38;5;124m'\u001b[39m\u001b[38;5;124mplotid\u001b[39m\u001b[38;5;124m'\u001b[39m, \u001b[38;5;124m'\u001b[39m\u001b[38;5;124msampleid\u001b[39m\u001b[38;5;124m'\u001b[39m, \u001b[38;5;124m'\u001b[39m\u001b[38;5;124mlon\u001b[39m\u001b[38;5;124m'\u001b[39m, \u001b[38;5;124m'\u001b[39m\u001b[38;5;124mlat\u001b[39m\u001b[38;5;124m'\u001b[39m, \n\u001b[1;32m     42\u001b[0m                     \u001b[38;5;124m'\u001b[39m\u001b[38;5;124msample_geom\u001b[39m\u001b[38;5;124m'\u001b[39m, \u001b[38;5;124m'\u001b[39m\u001b[38;5;124mforêt ou non-forêt en 2015?\u001b[39m\u001b[38;5;124m'\u001b[39m, \u001b[38;5;124m\"\u001b[39m\u001b[38;5;124mY\u001b[39m\u001b[38;5;124m'\u001b[39m\u001b[38;5;124ma t\u001b[39m\u001b[38;5;124m'\u001b[39m\u001b[38;5;124mil de la régéneration\u001b[39m\u001b[38;5;124m\"\u001b[39m, \n\u001b[1;32m     43\u001b[0m                     \u001b[38;5;124m'\u001b[39m\u001b[38;5;124mChangement entre 2015-2022\u001b[39m\u001b[38;5;124m'\u001b[39m, \u001b[38;5;124m'\u001b[39m\u001b[38;5;124mType de Changement (2015-2022)\u001b[39m\u001b[38;5;124m'\u001b[39m, \u001b[38;5;124m'\u001b[39m\u001b[38;5;124mExploitation forestière artisanale (<5ha)\u001b[39m\u001b[38;5;124m'\u001b[39m, \n\u001b[1;32m     44\u001b[0m                     \u001b[38;5;124m'\u001b[39m\u001b[38;5;124mActivité minière artisanale\u001b[39m\u001b[38;5;124m'\u001b[39m, \u001b[38;5;124m'\u001b[39m\u001b[38;5;124mInfrastructure routière\u001b[39m\u001b[38;5;124m'\u001b[39m, \u001b[38;5;124m'\u001b[39m\u001b[38;5;124mInfrastructure d’urbanisation ou habitations\u001b[39m\u001b[38;5;124m'\u001b[39m, \n\u001b[1;32m     45\u001b[0m                     \u001b[38;5;124m'\u001b[39m\u001b[38;5;124mExploitation forestière industrielle (>5ha)\u001b[39m\u001b[38;5;124m'\u001b[39m, \u001b[38;5;124m'\u001b[39m\u001b[38;5;124mAutre moteur\u001b[39m\u001b[38;5;124m'\u001b[39m, \u001b[38;5;124m'\u001b[39m\u001b[38;5;124mDescriptif autre moteur\u001b[39m\u001b[38;5;124m'\u001b[39m, \u001b[38;5;124m'\u001b[39m\u001b[38;5;124mActivité minière industrielle\u001b[39m\u001b[38;5;124m'\u001b[39m, \n\u001b[1;32m     46\u001b[0m                     \u001b[38;5;124m'\u001b[39m\u001b[38;5;124mAgriculture industrielle\u001b[39m\u001b[38;5;124m'\u001b[39m, \u001b[38;5;124m'\u001b[39m\u001b[38;5;124mAgriculture paysanne\u001b[39m\u001b[38;5;124m'\u001b[39m, \u001b[38;5;124m'\u001b[39m\u001b[38;5;124mAnnée de Changement\u001b[39m\u001b[38;5;124m'\u001b[39m, \u001b[38;5;124m'\u001b[39m\u001b[38;5;124mType de non-forêt en 2015\u001b[39m\u001b[38;5;124m'\u001b[39m, \u001b[38;5;124m'\u001b[39m\u001b[38;5;124mType de forêt en 2015\u001b[39m\u001b[38;5;124m'\u001b[39m, \u001b[38;5;124m'\u001b[39m\u001b[38;5;124mcollection\u001b[39m\u001b[38;5;124m'\u001b[39m, \u001b[38;5;124m'\u001b[39m\u001b[38;5;124minterpreted\u001b[39m\u001b[38;5;124m'\u001b[39m]\n\u001b[1;32m     48\u001b[0m \u001b[38;5;66;03m# Select only the specified columns\u001b[39;00m\n\u001b[0;32m---> 49\u001b[0m merged_ceo \u001b[38;5;241m=\u001b[39m \u001b[43mmerged_ceo\u001b[49m\u001b[43m[\u001b[49m\u001b[43mcolumns_to_keep\u001b[49m\u001b[43m]\u001b[49m\n\u001b[1;32m     51\u001b[0m \u001b[38;5;66;03m# Create a dictionary to map old column names to new column names\u001b[39;00m\n\u001b[1;32m     52\u001b[0m column_mapping \u001b[38;5;241m=\u001b[39m {\n\u001b[1;32m     53\u001b[0m     \u001b[38;5;124m'\u001b[39m\u001b[38;5;124mforêt ou non-forêt en 2015?\u001b[39m\u001b[38;5;124m'\u001b[39m: \u001b[38;5;124m'\u001b[39m\u001b[38;5;124mRef_FNF_2015\u001b[39m\u001b[38;5;124m'\u001b[39m, \n\u001b[1;32m     54\u001b[0m     \u001b[38;5;124m\"\u001b[39m\u001b[38;5;124mY\u001b[39m\u001b[38;5;124m'\u001b[39m\u001b[38;5;124ma t\u001b[39m\u001b[38;5;124m'\u001b[39m\u001b[38;5;124mil de la régéneration\u001b[39m\u001b[38;5;124m\"\u001b[39m: \u001b[38;5;124m'\u001b[39m\u001b[38;5;124mRef_Regeneration\u001b[39m\u001b[38;5;124m'\u001b[39m,\n\u001b[0;32m   (...)\u001b[0m\n\u001b[1;32m     71\u001b[0m     \u001b[38;5;66;03m#,'NOM': 'Province' # DRC province\u001b[39;00m\n\u001b[1;32m     72\u001b[0m }\n",
      "File \u001b[0;32m/usr/local/lib/python3.10/dist-packages/pandas/core/frame.py:3767\u001b[0m, in \u001b[0;36mDataFrame.__getitem__\u001b[0;34m(self, key)\u001b[0m\n\u001b[1;32m   3765\u001b[0m     \u001b[38;5;28;01mif\u001b[39;00m is_iterator(key):\n\u001b[1;32m   3766\u001b[0m         key \u001b[38;5;241m=\u001b[39m \u001b[38;5;28mlist\u001b[39m(key)\n\u001b[0;32m-> 3767\u001b[0m     indexer \u001b[38;5;241m=\u001b[39m \u001b[38;5;28;43mself\u001b[39;49m\u001b[38;5;241;43m.\u001b[39;49m\u001b[43mcolumns\u001b[49m\u001b[38;5;241;43m.\u001b[39;49m\u001b[43m_get_indexer_strict\u001b[49m\u001b[43m(\u001b[49m\u001b[43mkey\u001b[49m\u001b[43m,\u001b[49m\u001b[43m \u001b[49m\u001b[38;5;124;43m\"\u001b[39;49m\u001b[38;5;124;43mcolumns\u001b[39;49m\u001b[38;5;124;43m\"\u001b[39;49m\u001b[43m)\u001b[49m[\u001b[38;5;241m1\u001b[39m]\n\u001b[1;32m   3769\u001b[0m \u001b[38;5;66;03m# take() does not accept boolean indexers\u001b[39;00m\n\u001b[1;32m   3770\u001b[0m \u001b[38;5;28;01mif\u001b[39;00m \u001b[38;5;28mgetattr\u001b[39m(indexer, \u001b[38;5;124m\"\u001b[39m\u001b[38;5;124mdtype\u001b[39m\u001b[38;5;124m\"\u001b[39m, \u001b[38;5;28;01mNone\u001b[39;00m) \u001b[38;5;241m==\u001b[39m \u001b[38;5;28mbool\u001b[39m:\n",
      "File \u001b[0;32m/usr/local/lib/python3.10/dist-packages/pandas/core/indexes/base.py:5877\u001b[0m, in \u001b[0;36mIndex._get_indexer_strict\u001b[0;34m(self, key, axis_name)\u001b[0m\n\u001b[1;32m   5874\u001b[0m \u001b[38;5;28;01melse\u001b[39;00m:\n\u001b[1;32m   5875\u001b[0m     keyarr, indexer, new_indexer \u001b[38;5;241m=\u001b[39m \u001b[38;5;28mself\u001b[39m\u001b[38;5;241m.\u001b[39m_reindex_non_unique(keyarr)\n\u001b[0;32m-> 5877\u001b[0m \u001b[38;5;28;43mself\u001b[39;49m\u001b[38;5;241;43m.\u001b[39;49m\u001b[43m_raise_if_missing\u001b[49m\u001b[43m(\u001b[49m\u001b[43mkeyarr\u001b[49m\u001b[43m,\u001b[49m\u001b[43m \u001b[49m\u001b[43mindexer\u001b[49m\u001b[43m,\u001b[49m\u001b[43m \u001b[49m\u001b[43maxis_name\u001b[49m\u001b[43m)\u001b[49m\n\u001b[1;32m   5879\u001b[0m keyarr \u001b[38;5;241m=\u001b[39m \u001b[38;5;28mself\u001b[39m\u001b[38;5;241m.\u001b[39mtake(indexer)\n\u001b[1;32m   5880\u001b[0m \u001b[38;5;28;01mif\u001b[39;00m \u001b[38;5;28misinstance\u001b[39m(key, Index):\n\u001b[1;32m   5881\u001b[0m     \u001b[38;5;66;03m# GH 42790 - Preserve name from an Index\u001b[39;00m\n",
      "File \u001b[0;32m/usr/local/lib/python3.10/dist-packages/pandas/core/indexes/base.py:5941\u001b[0m, in \u001b[0;36mIndex._raise_if_missing\u001b[0;34m(self, key, indexer, axis_name)\u001b[0m\n\u001b[1;32m   5938\u001b[0m     \u001b[38;5;28;01mraise\u001b[39;00m \u001b[38;5;167;01mKeyError\u001b[39;00m(\u001b[38;5;124mf\u001b[39m\u001b[38;5;124m\"\u001b[39m\u001b[38;5;124mNone of [\u001b[39m\u001b[38;5;132;01m{\u001b[39;00mkey\u001b[38;5;132;01m}\u001b[39;00m\u001b[38;5;124m] are in the [\u001b[39m\u001b[38;5;132;01m{\u001b[39;00maxis_name\u001b[38;5;132;01m}\u001b[39;00m\u001b[38;5;124m]\u001b[39m\u001b[38;5;124m\"\u001b[39m)\n\u001b[1;32m   5940\u001b[0m not_found \u001b[38;5;241m=\u001b[39m \u001b[38;5;28mlist\u001b[39m(ensure_index(key)[missing_mask\u001b[38;5;241m.\u001b[39mnonzero()[\u001b[38;5;241m0\u001b[39m]]\u001b[38;5;241m.\u001b[39munique())\n\u001b[0;32m-> 5941\u001b[0m \u001b[38;5;28;01mraise\u001b[39;00m \u001b[38;5;167;01mKeyError\u001b[39;00m(\u001b[38;5;124mf\u001b[39m\u001b[38;5;124m\"\u001b[39m\u001b[38;5;132;01m{\u001b[39;00mnot_found\u001b[38;5;132;01m}\u001b[39;00m\u001b[38;5;124m not in index\u001b[39m\u001b[38;5;124m\"\u001b[39m)\n",
      "\u001b[0;31mKeyError\u001b[0m: \"['forêt ou non-forêt en 2015?', 'Changement entre 2015-2022', 'Type de Changement (2015-2022)', 'Type de non-forêt en 2015', 'Type de forêt en 2015'] not in index\""
     ]
    }
   ],
   "source": [
    "# List to store the modified DataFrames\n",
    "modified_ceo_files = []\n",
    "\n",
    "# Initialize collection counter\n",
    "collection_counter = 1\n",
    "\n",
    "for i, ceo in enumerate(ceo_files):\n",
    "       \n",
    "    # Sort the DataFrame by 'date' in descending order\n",
    "    ceo.sort_values(by='collection_time', ascending=True, inplace=True)\n",
    "\n",
    "    # Remove duplicates keeping the last occurrence (the most recent date)\n",
    "    ceo.drop_duplicates(subset='plotid', keep='first', inplace=True)\n",
    "\n",
    "    # Reset the index\n",
    "    ceo.reset_index(drop=True, inplace=True)\n",
    "    \n",
    "    # Add 'collection' column with an increasing number\n",
    "    ceo['collection'] = collection_counter\n",
    "    \n",
    "    # Add 'interpreted' column with 1 when 'email' is not null, otherwise 0\n",
    "    ceo['interpreted'] = np.where(ceo['email'].notna(), 1, 0)\n",
    "    \n",
    "    # Calculate total count for each 'interpreted' value\n",
    "    interpreted_counts = ceo['interpreted'].value_counts().to_dict()\n",
    "    \n",
    "    # Append the modified DataFrame to the list\n",
    "    modified_ceo_files.append(ceo)\n",
    "    \n",
    "    # Print count for the current DataFrame\n",
    "    print(f\"ceo {i + 1} # of validated points: {interpreted_counts.get(1, 0)}, # of not validated points: {interpreted_counts.get(0, 0)}\")\n",
    "    \n",
    "    # Increment the collection counter\n",
    "    collection_counter += 1\n",
    "\n",
    "# Concatenate the modified DataFrames into one merged DataFrame\n",
    "merged_ceo = pd.concat(modified_ceo_files, ignore_index=True)\n",
    "\n",
    "\n",
    "# Specify the columns you want to keep in the merged DataFrame\n",
    "columns_to_keep = ['plotid', 'sampleid', 'lon', 'lat', \n",
    "                    'sample_geom', 'forêt ou non-forêt en 2015?', \"Y'a t'il de la régéneration\", \n",
    "                    'Changement entre 2015-2022', 'Type de Changement (2015-2022)', 'Exploitation forestière artisanale (<5ha)', \n",
    "                    'Activité minière artisanale', 'Infrastructure routière', 'Infrastructure d’urbanisation ou habitations', \n",
    "                    'Exploitation forestière industrielle (>5ha)', 'Autre moteur', 'Descriptif autre moteur', 'Activité minière industrielle', \n",
    "                    'Agriculture industrielle', 'Agriculture paysanne', 'Année de Changement', 'Type de non-forêt en 2015', 'Type de forêt en 2015', 'collection', 'interpreted']\n",
    "\n",
    "# Select only the specified columns\n",
    "merged_ceo = merged_ceo[columns_to_keep]\n",
    "\n",
    "# Create a dictionary to map old column names to new column names\n",
    "column_mapping = {\n",
    "    'forêt ou non-forêt en 2015?': 'Ref_FNF_2015', \n",
    "    \"Y'a t'il de la régéneration\": 'Ref_Regeneration',\n",
    "    'Changement entre 2015-2022': 'Ref_Change_1522', \n",
    "    'Type de Changement (2015-2022)': 'Ref_Change_Type_1522', \n",
    "    'Exploitation forestière artisanale (<5ha)': 'ArtFor',\n",
    "    'Activité minière artisanale': 'ArtMine',\n",
    "    'Infrastructure routière': 'InfraR', \n",
    "    'Infrastructure d’urbanisation ou habitations': 'Urb',\n",
    "    'Exploitation forestière industrielle (>5ha)':'IndFor', \n",
    "    'Autre moteur': 'Other', \n",
    "    'Descriptif autre moteur': 'Other_Desc', \n",
    "    'Activité minière industrielle': 'IndMine', \n",
    "    'Agriculture industrielle': 'IndAg', \n",
    "    'Agriculture paysanne': 'ArtAg', \n",
    "    'Année de Changement': 'Ref_Year_1522', \n",
    "    'Type de non-forêt en 2015':'Ref_NFtype_2015', \n",
    "    'Type de forêt en 2015':'Ref_Ftype_2015'\n",
    "    #add other columns as needed\n",
    "    #,'NOM': 'Province' # DRC province\n",
    "}\n",
    "\n",
    "# Use the rename() method to rename the columns\n",
    "merged_ceo = merged_ceo.rename(columns=column_mapping)\n",
    "\n",
    "# Define the replacements as a dictionary\n",
    "replace_dict = {\n",
    "    'Ref_FNF_2015': {'non-forêt': '0', 'forêt': '1'},\n",
    "    'Ref_Ftype_2015': {'1 - forêt dense': '1', '2 - forêt dense sèche': '2', '3 - forêt secondaire': '3','4 - forêt claire sèche': '4','7 - forêt mangrove': '7',\n",
    "                 '8 - forêt marécageuse': '8', '9 - forêt galérie': '9','10 - plantation forestière': '10', '11- savane arborée': '11'},\n",
    "    'Ref_NFtype_2015': {'12 - savane arbustive': '12', '13 - savane herbacée': '13', '14 - prairie aquatique': '14', '15 - sol nu végétation éparse': '15',\n",
    "                  '16 - terres cultivées': '16', '17 - zone baties': '17', '18 - eau': '18'},\n",
    "    'Ref_Change_1522': {'oui':'1','non':'0','':'0'},\n",
    "    'ArtFor':{'oui':'1','non':'0','':'0'},\n",
    "    'IndFor':{'oui':'1','non':'0','':'0'},\n",
    "    'ArtAg':{'oui':'1','non':'0','':'0'},\n",
    "    'IndAg':{'oui':'1','non':'0','':'0'},\n",
    "    'ArtMine':{'oui':'1','non':'0','':'0'},\n",
    "    'IndMine':{'oui':'1','non':'0','':'0'},\n",
    "    'Urb':{'oui':'1','non':'0','':'0'},\n",
    "    'InfraR':{'oui':'1','non':'0','':'0'},\n",
    "    'Other':{'oui':'1','non':'0','':'0'}\n",
    "}\n",
    "\n",
    "# Use the replace() method to replace strings in specified columns\n",
    "merged_ceo.replace(replace_dict, inplace=True)\n",
    "\n",
    "\n",
    "columns_to_fill = ['Ref_Change_1522','ArtAg','ArtFor','IndFor','IndAg','ArtMine','IndMine','Urb','InfraR','Other']\n",
    "# Set NaN values in the selected columns to 0\n",
    "merged_ceo[columns_to_fill] = merged_ceo[columns_to_fill].fillna('0')\n",
    "merged_ceo['collection'] = 'coll_1522_' + merged_ceo['collection'].astype(str)"
   ]
  },
  {
   "cell_type": "markdown",
   "id": "6382ae9d",
   "metadata": {},
   "source": [
    "remove non validated points and remove duplicates"
   ]
  },
  {
   "cell_type": "code",
   "execution_count": 14,
   "id": "f69be9dc-43c2-4070-b63e-8d05f720209e",
   "metadata": {
    "tags": []
   },
   "outputs": [],
   "source": [
    "merged_ceo_interpreted = merged_ceo[merged_ceo['interpreted'] == 1]"
   ]
  },
  {
   "cell_type": "code",
   "execution_count": 15,
   "id": "0e2c49c5-65ce-48fe-8983-6e4163dc038f",
   "metadata": {
    "tags": []
   },
   "outputs": [
    {
     "name": "stdout",
     "output_type": "stream",
     "text": [
      "['plotid', 'sampleid', 'lon', 'lat', 'sample_geom', 'Ref_FNF_2015', 'Ref_Regeneration', 'Ref_Change_1522', 'Ref_Change_Type_1522', 'ArtFor', 'ArtMine', 'InfraR', 'Urb', 'IndFor', 'Other', 'Other_Desc', 'IndMine', 'IndAg', 'ArtAg', 'Ref_Year_1522', 'Ref_NFtype', 'Ref_Ftype', 'collection', 'interpreted']\n"
     ]
    }
   ],
   "source": [
    "ceo_column_names = merged_ceo_interpreted.columns.tolist()\n",
    "# Print the list of column names\n",
    "print(ceo_column_names)"
   ]
  },
  {
   "cell_type": "code",
   "execution_count": 16,
   "id": "6bdb8226-1032-4724-92f7-f092444b46a4",
   "metadata": {
    "tags": []
   },
   "outputs": [
    {
     "data": {
      "text/html": [
       "<div>\n",
       "<style scoped>\n",
       "    .dataframe tbody tr th:only-of-type {\n",
       "        vertical-align: middle;\n",
       "    }\n",
       "\n",
       "    .dataframe tbody tr th {\n",
       "        vertical-align: top;\n",
       "    }\n",
       "\n",
       "    .dataframe thead th {\n",
       "        text-align: right;\n",
       "    }\n",
       "</style>\n",
       "<table border=\"1\" class=\"dataframe\">\n",
       "  <thead>\n",
       "    <tr style=\"text-align: right;\">\n",
       "      <th></th>\n",
       "      <th>plotid</th>\n",
       "      <th>sampleid</th>\n",
       "      <th>lon</th>\n",
       "      <th>lat</th>\n",
       "      <th>sample_geom</th>\n",
       "      <th>Ref_FNF_2015</th>\n",
       "      <th>Ref_Regeneration</th>\n",
       "      <th>Ref_Change_1522</th>\n",
       "      <th>Ref_Change_Type_1522</th>\n",
       "      <th>ArtFor</th>\n",
       "      <th>ArtMine</th>\n",
       "      <th>InfraR</th>\n",
       "      <th>Urb</th>\n",
       "      <th>IndFor</th>\n",
       "      <th>Other</th>\n",
       "      <th>Other_Desc</th>\n",
       "      <th>IndMine</th>\n",
       "      <th>IndAg</th>\n",
       "      <th>ArtAg</th>\n",
       "      <th>Ref_Year_1522</th>\n",
       "      <th>Ref_NFtype</th>\n",
       "      <th>Ref_Ftype</th>\n",
       "      <th>collection</th>\n",
       "      <th>interpreted</th>\n",
       "    </tr>\n",
       "  </thead>\n",
       "  <tbody>\n",
       "    <tr>\n",
       "      <th>0</th>\n",
       "      <td>45</td>\n",
       "      <td>45</td>\n",
       "      <td>8.460650</td>\n",
       "      <td>3.453988</td>\n",
       "      <td>POINT(8.46065 3.453988)</td>\n",
       "      <td>1</td>\n",
       "      <td>NaN</td>\n",
       "      <td>0</td>\n",
       "      <td>NaN</td>\n",
       "      <td>0</td>\n",
       "      <td>0</td>\n",
       "      <td>0</td>\n",
       "      <td>0</td>\n",
       "      <td>0</td>\n",
       "      <td>0</td>\n",
       "      <td>NaN</td>\n",
       "      <td>0</td>\n",
       "      <td>0</td>\n",
       "      <td>0</td>\n",
       "      <td>NaN</td>\n",
       "      <td>NaN</td>\n",
       "      <td>1</td>\n",
       "      <td>1</td>\n",
       "      <td>1</td>\n",
       "    </tr>\n",
       "    <tr>\n",
       "      <th>1</th>\n",
       "      <td>65</td>\n",
       "      <td>65</td>\n",
       "      <td>8.431363</td>\n",
       "      <td>3.357773</td>\n",
       "      <td>POINT(8.431363 3.357773)</td>\n",
       "      <td>1</td>\n",
       "      <td>NaN</td>\n",
       "      <td>0</td>\n",
       "      <td>NaN</td>\n",
       "      <td>0</td>\n",
       "      <td>0</td>\n",
       "      <td>0</td>\n",
       "      <td>0</td>\n",
       "      <td>0</td>\n",
       "      <td>0</td>\n",
       "      <td>NaN</td>\n",
       "      <td>0</td>\n",
       "      <td>0</td>\n",
       "      <td>0</td>\n",
       "      <td>NaN</td>\n",
       "      <td>NaN</td>\n",
       "      <td>1</td>\n",
       "      <td>1</td>\n",
       "      <td>1</td>\n",
       "    </tr>\n",
       "    <tr>\n",
       "      <th>2</th>\n",
       "      <td>117</td>\n",
       "      <td>117</td>\n",
       "      <td>8.441585</td>\n",
       "      <td>3.319245</td>\n",
       "      <td>POINT(8.441585 3.319245)</td>\n",
       "      <td>1</td>\n",
       "      <td>NaN</td>\n",
       "      <td>0</td>\n",
       "      <td>NaN</td>\n",
       "      <td>0</td>\n",
       "      <td>0</td>\n",
       "      <td>0</td>\n",
       "      <td>0</td>\n",
       "      <td>0</td>\n",
       "      <td>0</td>\n",
       "      <td>NaN</td>\n",
       "      <td>0</td>\n",
       "      <td>0</td>\n",
       "      <td>0</td>\n",
       "      <td>NaN</td>\n",
       "      <td>NaN</td>\n",
       "      <td>1</td>\n",
       "      <td>1</td>\n",
       "      <td>1</td>\n",
       "    </tr>\n",
       "    <tr>\n",
       "      <th>3</th>\n",
       "      <td>108</td>\n",
       "      <td>108</td>\n",
       "      <td>8.490696</td>\n",
       "      <td>3.434682</td>\n",
       "      <td>POINT(8.490696 3.434682)</td>\n",
       "      <td>1</td>\n",
       "      <td>NaN</td>\n",
       "      <td>0</td>\n",
       "      <td>NaN</td>\n",
       "      <td>0</td>\n",
       "      <td>0</td>\n",
       "      <td>0</td>\n",
       "      <td>0</td>\n",
       "      <td>0</td>\n",
       "      <td>0</td>\n",
       "      <td>NaN</td>\n",
       "      <td>0</td>\n",
       "      <td>0</td>\n",
       "      <td>0</td>\n",
       "      <td>NaN</td>\n",
       "      <td>NaN</td>\n",
       "      <td>1</td>\n",
       "      <td>1</td>\n",
       "      <td>1</td>\n",
       "    </tr>\n",
       "    <tr>\n",
       "      <th>4</th>\n",
       "      <td>122</td>\n",
       "      <td>122</td>\n",
       "      <td>8.466201</td>\n",
       "      <td>3.367339</td>\n",
       "      <td>POINT(8.466201 3.367339)</td>\n",
       "      <td>1</td>\n",
       "      <td>NaN</td>\n",
       "      <td>0</td>\n",
       "      <td>NaN</td>\n",
       "      <td>0</td>\n",
       "      <td>0</td>\n",
       "      <td>0</td>\n",
       "      <td>0</td>\n",
       "      <td>0</td>\n",
       "      <td>0</td>\n",
       "      <td>NaN</td>\n",
       "      <td>0</td>\n",
       "      <td>0</td>\n",
       "      <td>0</td>\n",
       "      <td>NaN</td>\n",
       "      <td>NaN</td>\n",
       "      <td>1</td>\n",
       "      <td>1</td>\n",
       "      <td>1</td>\n",
       "    </tr>\n",
       "  </tbody>\n",
       "</table>\n",
       "</div>"
      ],
      "text/plain": [
       "   plotid  sampleid       lon       lat               sample_geom  \\\n",
       "0      45        45  8.460650  3.453988   POINT(8.46065 3.453988)   \n",
       "1      65        65  8.431363  3.357773  POINT(8.431363 3.357773)   \n",
       "2     117       117  8.441585  3.319245  POINT(8.441585 3.319245)   \n",
       "3     108       108  8.490696  3.434682  POINT(8.490696 3.434682)   \n",
       "4     122       122  8.466201  3.367339  POINT(8.466201 3.367339)   \n",
       "\n",
       "  Ref_FNF_2015 Ref_Regeneration Ref_Change_1522 Ref_Change_Type_1522 ArtFor  \\\n",
       "0            1              NaN               0                  NaN      0   \n",
       "1            1              NaN               0                  NaN      0   \n",
       "2            1              NaN               0                  NaN      0   \n",
       "3            1              NaN               0                  NaN      0   \n",
       "4            1              NaN               0                  NaN      0   \n",
       "\n",
       "  ArtMine InfraR Urb IndFor Other Other_Desc IndMine IndAg ArtAg  \\\n",
       "0       0      0   0      0     0        NaN       0     0     0   \n",
       "1       0      0   0      0     0        NaN       0     0     0   \n",
       "2       0      0   0      0     0        NaN       0     0     0   \n",
       "3       0      0   0      0     0        NaN       0     0     0   \n",
       "4       0      0   0      0     0        NaN       0     0     0   \n",
       "\n",
       "   Ref_Year_1522 Ref_NFtype Ref_Ftype  collection  interpreted  \n",
       "0            NaN        NaN         1           1            1  \n",
       "1            NaN        NaN         1           1            1  \n",
       "2            NaN        NaN         1           1            1  \n",
       "3            NaN        NaN         1           1            1  \n",
       "4            NaN        NaN         1           1            1  "
      ]
     },
     "execution_count": 16,
     "metadata": {},
     "output_type": "execute_result"
    }
   ],
   "source": [
    "merged_ceo_interpreted.head()"
   ]
  },
  {
   "cell_type": "code",
   "execution_count": 18,
   "id": "4ff26c6c-3975-49b6-a148-9ec7c4559731",
   "metadata": {
    "tags": []
   },
   "outputs": [],
   "source": [
    "merged_ceo_interpreted = merged_ceo_interpreted.sort_values(by='collection', ascending=True)\n",
    "\n",
    "# Remove duplicates keeping the last occurrence (the most recent date)\n",
    "merged_ceo_nodup = merged_ceo_interpreted.drop_duplicates(subset='plotid', keep='first')\n",
    "\n",
    "# Reset the index\n",
    "merged_ceo_nodup = merged_ceo_nodup.reset_index(drop=True)"
   ]
  },
  {
   "cell_type": "markdown",
   "id": "28fc9de4",
   "metadata": {},
   "source": [
    "##### count points in different categories"
   ]
  },
  {
   "cell_type": "code",
   "execution_count": 19,
   "id": "a37a3028-90b5-4dd1-a25e-efe01d0a5ad8",
   "metadata": {
    "tags": []
   },
   "outputs": [
    {
     "data": {
      "text/plain": [
       "interpreted\n",
       "1    4724\n",
       "Name: count, dtype: int64"
      ]
     },
     "execution_count": 19,
     "metadata": {},
     "output_type": "execute_result"
    }
   ],
   "source": [
    "merged_ceo_nodup['interpreted'].value_counts(dropna=False)"
   ]
  },
  {
   "cell_type": "code",
   "execution_count": 22,
   "id": "b29e4459",
   "metadata": {
    "tags": []
   },
   "outputs": [
    {
     "data": {
      "text/html": [
       "<div>\n",
       "<style scoped>\n",
       "    .dataframe tbody tr th:only-of-type {\n",
       "        vertical-align: middle;\n",
       "    }\n",
       "\n",
       "    .dataframe tbody tr th {\n",
       "        vertical-align: top;\n",
       "    }\n",
       "\n",
       "    .dataframe thead th {\n",
       "        text-align: right;\n",
       "    }\n",
       "</style>\n",
       "<table border=\"1\" class=\"dataframe\">\n",
       "  <thead>\n",
       "    <tr style=\"text-align: right;\">\n",
       "      <th>interpreted</th>\n",
       "      <th>1</th>\n",
       "    </tr>\n",
       "    <tr>\n",
       "      <th>Ref_Change_1522</th>\n",
       "      <th></th>\n",
       "    </tr>\n",
       "  </thead>\n",
       "  <tbody>\n",
       "    <tr>\n",
       "      <th>0</th>\n",
       "      <td>4398</td>\n",
       "    </tr>\n",
       "    <tr>\n",
       "      <th>1</th>\n",
       "      <td>326</td>\n",
       "    </tr>\n",
       "  </tbody>\n",
       "</table>\n",
       "</div>"
      ],
      "text/plain": [
       "interpreted         1\n",
       "Ref_Change_1522      \n",
       "0                4398\n",
       "1                 326"
      ]
     },
     "execution_count": 22,
     "metadata": {},
     "output_type": "execute_result"
    }
   ],
   "source": [
    "pd.pivot_table(merged_ceo_nodup,values='plotid',index=['Ref_Change_1522'],columns=['interpreted'],aggfunc=\"count\")"
   ]
  },
  {
   "cell_type": "code",
   "execution_count": 23,
   "id": "2d96fd19-6809-413a-9696-c3991d50efbc",
   "metadata": {
    "tags": []
   },
   "outputs": [
    {
     "data": {
      "text/plain": [
       "Ref_FNF_2015\n",
       "1      3604\n",
       "0       878\n",
       "NaN     242\n",
       "Name: count, dtype: int64"
      ]
     },
     "execution_count": 23,
     "metadata": {},
     "output_type": "execute_result"
    }
   ],
   "source": [
    "merged_ceo_nodup['Ref_FNF_2015'].value_counts(dropna=False)"
   ]
  },
  {
   "cell_type": "code",
   "execution_count": 24,
   "id": "0097c4de-9bca-4a73-bcf5-1c9afc87f88b",
   "metadata": {
    "tags": []
   },
   "outputs": [
    {
     "data": {
      "text/plain": [
       "Ref_Change_Type_1522\n",
       "NaN              4398\n",
       "déforestation     193\n",
       "dégradation       133\n",
       "Name: count, dtype: int64"
      ]
     },
     "execution_count": 24,
     "metadata": {},
     "output_type": "execute_result"
    }
   ],
   "source": [
    "merged_ceo_nodup['Ref_Change_Type_1522'].value_counts(dropna=False)"
   ]
  },
  {
   "cell_type": "code",
   "execution_count": 16,
   "id": "67e302cd-0a1b-4995-96df-0c912cf70bff",
   "metadata": {
    "tags": []
   },
   "outputs": [
    {
     "data": {
      "text/plain": [
       "collection\n",
       "2    6678\n",
       "3    5971\n",
       "1     498\n",
       "Name: count, dtype: int64"
      ]
     },
     "execution_count": 16,
     "metadata": {},
     "output_type": "execute_result"
    }
   ],
   "source": [
    "merged_ceo_nodup['collection'].value_counts(dropna=False)"
   ]
  },
  {
   "cell_type": "markdown",
   "id": "ae9075b7",
   "metadata": {},
   "source": [
    "##### create a LC type column"
   ]
  },
  {
   "cell_type": "code",
   "execution_count": 17,
   "id": "408a665f-6c17-4e65-8d19-76fad0574ebb",
   "metadata": {},
   "outputs": [
    {
     "data": {
      "text/plain": [
       "Ref_LCover\n",
       "16    3355\n",
       "4     2420\n",
       "13    1608\n",
       "1     1534\n",
       "3     1306\n",
       "2     1012\n",
       "12     707\n",
       "9      398\n",
       "18     233\n",
       "15     226\n",
       "14     127\n",
       "8       91\n",
       "11      83\n",
       "17      41\n",
       "10       3\n",
       "7        3\n",
       "Name: count, dtype: int64"
      ]
     },
     "execution_count": 17,
     "metadata": {},
     "output_type": "execute_result"
    }
   ],
   "source": [
    "merged_ceo_nodup['Ref_LCover'] = merged_ceo_nodup['Ref_Ftype'].fillna(merged_ceo_nodup['Ref_NFtype'])\n",
    "merged_ceo_nodup['Ref_LCover'].value_counts(dropna=False)"
   ]
  },
  {
   "cell_type": "markdown",
   "id": "0e453b46-551d-4204-be40-4803c4d25e60",
   "metadata": {},
   "source": [
    "##### Check if values in 'pointid' are unique"
   ]
  },
  {
   "cell_type": "code",
   "execution_count": 18,
   "id": "eb09c9af-db98-4eee-92e5-d205a1016f3e",
   "metadata": {
    "tags": []
   },
   "outputs": [
    {
     "name": "stdout",
     "output_type": "stream",
     "text": [
      "All values are unique!\n"
     ]
    }
   ],
   "source": [
    "# this might take some time\n",
    "unique_check = merged_ceo_nodup['point_id'].nunique() == len(merged_ceo_nodup['point_id'])\n",
    "\n",
    "# Print the result\n",
    "if unique_check:\n",
    "    print(\"All values are unique!\")\n",
    "else:\n",
    "    print(\"F$%§!\")"
   ]
  },
  {
   "cell_type": "markdown",
   "id": "47d21c47-12fb-4d92-b151-5f1d1c140461",
   "metadata": {},
   "source": [
    "##### if there are duplicates determine which points and which project (collection) and fix these in CEO: find the point id and enter the same correct interpretation for both users"
   ]
  },
  {
   "cell_type": "code",
   "execution_count": 19,
   "id": "8d3c9161-5a6b-4e9c-963d-3e4964f0329d",
   "metadata": {
    "tags": []
   },
   "outputs": [],
   "source": [
    "# Find duplicate values in the 'ID' column\n",
    "#duplicate_ids = merged_ceo_nodup[merged_ceo_nodup.duplicated(subset='point_id', keep='first')]\n",
    "\n",
    "# If you want to print specific columns along with duplicates, you can do:\n",
    "# For example, print only 'ID' and 'Name' columns\n",
    "#print(\"\\nDuplicate Rows with 'ID' and 'Name':\")\n",
    "#print(duplicate_ids[['point_id', 'collection']])\n",
    "#len(duplicate_ids)"
   ]
  },
  {
   "cell_type": "code",
   "execution_count": 20,
   "id": "540971c0-b71a-4555-b2ab-69e75c8c250a",
   "metadata": {
    "tags": []
   },
   "outputs": [],
   "source": [
    "#merged_ceo_nodup.head()"
   ]
  },
  {
   "cell_type": "markdown",
   "id": "aef10186-78cf-4634-83fd-7073f85cf3b0",
   "metadata": {},
   "source": [
    "### 2. add new columns for change and year"
   ]
  },
  {
   "cell_type": "markdown",
   "id": "4a06d1d2-744d-4e25-a2fc-6a5f64b0467d",
   "metadata": {},
   "source": [
    "clean up columns and replace values"
   ]
  },
  {
   "cell_type": "code",
   "execution_count": 21,
   "id": "57263f3a-6939-435c-ac66-b9ebe93f5875",
   "metadata": {
    "tags": []
   },
   "outputs": [
    {
     "data": {
      "text/plain": [
       "Ref_Change_Type_1522\n",
       "NF        6297\n",
       "Stable    5598\n",
       "Def        977\n",
       "Deg        275\n",
       "Name: count, dtype: int64"
      ]
     },
     "execution_count": 21,
     "metadata": {},
     "output_type": "execute_result"
    }
   ],
   "source": [
    "def f(x):\n",
    "  if x['Ref_FNF_2015'] == '0' : return 'NF'\n",
    "  elif x['Ref_Change_Type_1522'] == 'déforestation': return 'Def'\n",
    "  elif x['Ref_Change_Type_1522'] == 'dégradation' : return 'Deg'\n",
    "  else: return 'Stable'\n",
    "\n",
    "merged_ceo_nodup['Ref_Change_Type_1522'] = merged_ceo_nodup.apply(f, axis=1)\n",
    "merged_ceo_nodup['Ref_Change_Type_1522'].value_counts()"
   ]
  },
  {
   "cell_type": "code",
   "execution_count": 23,
   "id": "d31939f7-ce73-4b77-abe5-17b99aa943c4",
   "metadata": {
    "tags": []
   },
   "outputs": [
    {
     "name": "stdout",
     "output_type": "stream",
     "text": [
      "Ref_Change_Year_1522\n",
      "Def2016      97\n",
      "Def2017     157\n",
      "Def2018     167\n",
      "Def2019     173\n",
      "Def2020     158\n",
      "Def2021     128\n",
      "Def2022      97\n",
      "Deg2016      60\n",
      "Deg2017      23\n",
      "Deg2018      32\n",
      "Deg2019      40\n",
      "Deg2020      46\n",
      "Deg2021      35\n",
      "Deg2022      39\n",
      "NF         6297\n",
      "Stable     5598\n",
      "Name: count, dtype: int64\n"
     ]
    }
   ],
   "source": [
    "def y(x):\n",
    "  if x['Ref_Change_Type_1522'] == 'Def' and x['Ref_Year_1522'] == 2016: return 'Def2016'\n",
    "  elif x['Ref_Change_Type_1522'] == 'Def' and x['Ref_Year_1522'] == 2017: return 'Def2017'\n",
    "  elif x['Ref_Change_Type_1522'] == 'Def' and x['Ref_Year_1522'] == 2018: return 'Def2018'\n",
    "  elif x['Ref_Change_Type_1522'] == 'Def' and x['Ref_Year_1522'] == 2019: return 'Def2019'\n",
    "  elif x['Ref_Change_Type_1522'] == 'Def' and x['Ref_Year_1522'] == 2020: return 'Def2020'\n",
    "  elif x['Ref_Change_Type_1522'] == 'Def' and x['Ref_Year_1522'] == 2021: return 'Def2021'\n",
    "  elif x['Ref_Change_Type_1522'] == 'Def' and x['Ref_Year_1522'] == 2022: return 'Def2022'\n",
    "  elif x['Ref_Change_Type_1522'] == 'Deg' and x['Ref_Year_1522'] == 2016: return 'Deg2016'\n",
    "  elif x['Ref_Change_Type_1522'] == 'Deg' and x['Ref_Year_1522'] == 2017: return 'Deg2017'\n",
    "  elif x['Ref_Change_Type_1522'] == 'Deg' and x['Ref_Year_1522'] == 2018: return 'Deg2018'\n",
    "  elif x['Ref_Change_Type_1522'] == 'Deg' and x['Ref_Year_1522'] == 2019: return 'Deg2019'\n",
    "  elif x['Ref_Change_Type_1522'] == 'Deg' and x['Ref_Year_1522'] == 2020: return 'Deg2020'\n",
    "  elif x['Ref_Change_Type_1522'] == 'Deg' and x['Ref_Year_1522'] == 2021: return 'Deg2021'\n",
    "  elif x['Ref_Change_Type_1522'] == 'Deg' and x['Ref_Year_1522'] == 2022: return 'Deg2022'\n",
    "  elif x['Ref_Change_Type_1522'] == 'NF' : return 'NF'\n",
    "  elif x['Ref_Change_Type_1522'] == 'Stable' : return 'Stable'\n",
    "  else: return ''\n",
    "\n",
    "merged_ceo_nodup['Ref_Change_Year_1522'] = merged_ceo_nodup.apply(y, axis=1)\n",
    "\n",
    "annual_counts = merged_ceo_nodup['Ref_Change_Year_1522'].value_counts()\n",
    "annual_counts = annual_counts.sort_index()\n",
    "print(annual_counts)"
   ]
  },
  {
   "cell_type": "code",
   "execution_count": 24,
   "id": "a2951865-3ca2-42c9-a68c-9ce45fd46fef",
   "metadata": {
    "tags": []
   },
   "outputs": [
    {
     "data": {
      "text/plain": [
       "13147"
      ]
     },
     "execution_count": 24,
     "metadata": {},
     "output_type": "execute_result"
    }
   ],
   "source": [
    "annual_counts.sum()"
   ]
  },
  {
   "cell_type": "code",
   "execution_count": 25,
   "id": "dc84fd61-3be7-4c55-9f93-7d246f49be0e",
   "metadata": {},
   "outputs": [
    {
     "data": {
      "text/html": [
       "<div>\n",
       "<style scoped>\n",
       "    .dataframe tbody tr th:only-of-type {\n",
       "        vertical-align: middle;\n",
       "    }\n",
       "\n",
       "    .dataframe tbody tr th {\n",
       "        vertical-align: top;\n",
       "    }\n",
       "\n",
       "    .dataframe thead th {\n",
       "        text-align: right;\n",
       "    }\n",
       "</style>\n",
       "<table border=\"1\" class=\"dataframe\">\n",
       "  <thead>\n",
       "    <tr style=\"text-align: right;\">\n",
       "      <th>interpreted</th>\n",
       "      <th>1</th>\n",
       "      <th>Total</th>\n",
       "    </tr>\n",
       "    <tr>\n",
       "      <th>Ref_Change_Year_1522</th>\n",
       "      <th></th>\n",
       "      <th></th>\n",
       "    </tr>\n",
       "  </thead>\n",
       "  <tbody>\n",
       "    <tr>\n",
       "      <th>Def2016</th>\n",
       "      <td>97</td>\n",
       "      <td>97</td>\n",
       "    </tr>\n",
       "    <tr>\n",
       "      <th>Def2017</th>\n",
       "      <td>157</td>\n",
       "      <td>157</td>\n",
       "    </tr>\n",
       "    <tr>\n",
       "      <th>Def2018</th>\n",
       "      <td>167</td>\n",
       "      <td>167</td>\n",
       "    </tr>\n",
       "    <tr>\n",
       "      <th>Def2019</th>\n",
       "      <td>173</td>\n",
       "      <td>173</td>\n",
       "    </tr>\n",
       "    <tr>\n",
       "      <th>Def2020</th>\n",
       "      <td>158</td>\n",
       "      <td>158</td>\n",
       "    </tr>\n",
       "    <tr>\n",
       "      <th>Def2021</th>\n",
       "      <td>128</td>\n",
       "      <td>128</td>\n",
       "    </tr>\n",
       "    <tr>\n",
       "      <th>Def2022</th>\n",
       "      <td>97</td>\n",
       "      <td>97</td>\n",
       "    </tr>\n",
       "    <tr>\n",
       "      <th>Deg2016</th>\n",
       "      <td>60</td>\n",
       "      <td>60</td>\n",
       "    </tr>\n",
       "    <tr>\n",
       "      <th>Deg2017</th>\n",
       "      <td>23</td>\n",
       "      <td>23</td>\n",
       "    </tr>\n",
       "    <tr>\n",
       "      <th>Deg2018</th>\n",
       "      <td>32</td>\n",
       "      <td>32</td>\n",
       "    </tr>\n",
       "    <tr>\n",
       "      <th>Deg2019</th>\n",
       "      <td>40</td>\n",
       "      <td>40</td>\n",
       "    </tr>\n",
       "    <tr>\n",
       "      <th>Deg2020</th>\n",
       "      <td>46</td>\n",
       "      <td>46</td>\n",
       "    </tr>\n",
       "    <tr>\n",
       "      <th>Deg2021</th>\n",
       "      <td>35</td>\n",
       "      <td>35</td>\n",
       "    </tr>\n",
       "    <tr>\n",
       "      <th>Deg2022</th>\n",
       "      <td>39</td>\n",
       "      <td>39</td>\n",
       "    </tr>\n",
       "    <tr>\n",
       "      <th>NF</th>\n",
       "      <td>6297</td>\n",
       "      <td>6297</td>\n",
       "    </tr>\n",
       "    <tr>\n",
       "      <th>Stable</th>\n",
       "      <td>5598</td>\n",
       "      <td>5598</td>\n",
       "    </tr>\n",
       "    <tr>\n",
       "      <th>Total</th>\n",
       "      <td>13147</td>\n",
       "      <td>13147</td>\n",
       "    </tr>\n",
       "  </tbody>\n",
       "</table>\n",
       "</div>"
      ],
      "text/plain": [
       "interpreted               1  Total\n",
       "Ref_Change_Year_1522              \n",
       "Def2016                  97     97\n",
       "Def2017                 157    157\n",
       "Def2018                 167    167\n",
       "Def2019                 173    173\n",
       "Def2020                 158    158\n",
       "Def2021                 128    128\n",
       "Def2022                  97     97\n",
       "Deg2016                  60     60\n",
       "Deg2017                  23     23\n",
       "Deg2018                  32     32\n",
       "Deg2019                  40     40\n",
       "Deg2020                  46     46\n",
       "Deg2021                  35     35\n",
       "Deg2022                  39     39\n",
       "NF                     6297   6297\n",
       "Stable                 5598   5598\n",
       "Total                 13147  13147"
      ]
     },
     "execution_count": 25,
     "metadata": {},
     "output_type": "execute_result"
    }
   ],
   "source": [
    "pd.pivot_table(merged_ceo_nodup,values='point_id',index=['Ref_Change_Year_1522'],columns=['interpreted'],aggfunc=\"count\",margins=True,\n",
    "                             margins_name='Total')"
   ]
  },
  {
   "cell_type": "code",
   "execution_count": 26,
   "id": "e77784b5-35f6-4659-a0d5-1339fed0f7e9",
   "metadata": {},
   "outputs": [
    {
     "data": {
      "text/html": [
       "<div>\n",
       "<style scoped>\n",
       "    .dataframe tbody tr th:only-of-type {\n",
       "        vertical-align: middle;\n",
       "    }\n",
       "\n",
       "    .dataframe tbody tr th {\n",
       "        vertical-align: top;\n",
       "    }\n",
       "\n",
       "    .dataframe thead th {\n",
       "        text-align: right;\n",
       "    }\n",
       "</style>\n",
       "<table border=\"1\" class=\"dataframe\">\n",
       "  <thead>\n",
       "    <tr style=\"text-align: right;\">\n",
       "      <th>interpreted</th>\n",
       "      <th>1</th>\n",
       "      <th>Total</th>\n",
       "    </tr>\n",
       "    <tr>\n",
       "      <th>Ref_Change_Type_1522</th>\n",
       "      <th></th>\n",
       "      <th></th>\n",
       "    </tr>\n",
       "  </thead>\n",
       "  <tbody>\n",
       "    <tr>\n",
       "      <th>Def</th>\n",
       "      <td>977</td>\n",
       "      <td>977</td>\n",
       "    </tr>\n",
       "    <tr>\n",
       "      <th>Deg</th>\n",
       "      <td>275</td>\n",
       "      <td>275</td>\n",
       "    </tr>\n",
       "    <tr>\n",
       "      <th>NF</th>\n",
       "      <td>6297</td>\n",
       "      <td>6297</td>\n",
       "    </tr>\n",
       "    <tr>\n",
       "      <th>Stable</th>\n",
       "      <td>5598</td>\n",
       "      <td>5598</td>\n",
       "    </tr>\n",
       "    <tr>\n",
       "      <th>Total</th>\n",
       "      <td>13147</td>\n",
       "      <td>13147</td>\n",
       "    </tr>\n",
       "  </tbody>\n",
       "</table>\n",
       "</div>"
      ],
      "text/plain": [
       "interpreted               1  Total\n",
       "Ref_Change_Type_1522              \n",
       "Def                     977    977\n",
       "Deg                     275    275\n",
       "NF                     6297   6297\n",
       "Stable                 5598   5598\n",
       "Total                 13147  13147"
      ]
     },
     "execution_count": 26,
     "metadata": {},
     "output_type": "execute_result"
    }
   ],
   "source": [
    "pd.pivot_table(merged_ceo_nodup,values='point_id',index=['Ref_Change_Type_1522'],columns=['interpreted'],aggfunc=\"count\",margins=True,\n",
    "                             margins_name='Total')"
   ]
  },
  {
   "cell_type": "code",
   "execution_count": 27,
   "id": "eec38754-782c-4810-afab-b66aa9697456",
   "metadata": {
    "tags": []
   },
   "outputs": [],
   "source": [
    "merged_ceo_nodup['Def2016'] = np.where(merged_ceo_nodup['Ref_Change_Year_1522'] == 'Def2016', 1, 0)\n",
    "merged_ceo_nodup['Def2017'] = np.where(merged_ceo_nodup['Ref_Change_Year_1522'] == 'Def2017', 1, 0)\n",
    "merged_ceo_nodup['Def2018'] = np.where(merged_ceo_nodup['Ref_Change_Year_1522'] == 'Def2018', 1, 0)\n",
    "merged_ceo_nodup['Def2019'] = np.where(merged_ceo_nodup['Ref_Change_Year_1522'] == 'Def2019', 1, 0)\n",
    "merged_ceo_nodup['Def2020'] = np.where(merged_ceo_nodup['Ref_Change_Year_1522'] == 'Def2020', 1, 0)\n",
    "merged_ceo_nodup['Def2021'] = np.where(merged_ceo_nodup['Ref_Change_Year_1522'] == 'Def2021', 1, 0)\n",
    "merged_ceo_nodup['Def2022'] = np.where(merged_ceo_nodup['Ref_Change_Year_1522'] == 'Def2022', 1, 0)"
   ]
  },
  {
   "cell_type": "code",
   "execution_count": 28,
   "id": "d6b46afa-fa39-4678-bb0a-98f222e9d4dd",
   "metadata": {
    "tags": []
   },
   "outputs": [],
   "source": [
    "merged_ceo_nodup['Deg2016'] = np.where(merged_ceo_nodup['Ref_Change_Year_1522'] == 'Deg2016', 1, 0)\n",
    "merged_ceo_nodup['Deg2017'] = np.where(merged_ceo_nodup['Ref_Change_Year_1522'] == 'Deg2017', 1, 0)\n",
    "merged_ceo_nodup['Deg2018'] = np.where(merged_ceo_nodup['Ref_Change_Year_1522'] == 'Deg2018', 1, 0)\n",
    "merged_ceo_nodup['Deg2019'] = np.where(merged_ceo_nodup['Ref_Change_Year_1522'] == 'Deg2019', 1, 0)\n",
    "merged_ceo_nodup['Deg2020'] = np.where(merged_ceo_nodup['Ref_Change_Year_1522'] == 'Deg2020', 1, 0)\n",
    "merged_ceo_nodup['Deg2021'] = np.where(merged_ceo_nodup['Ref_Change_Year_1522'] == 'Deg2021', 1, 0)\n",
    "merged_ceo_nodup['Deg2022'] = np.where(merged_ceo_nodup['Ref_Change_Year_1522'] == 'Deg2022', 1, 0)"
   ]
  },
  {
   "cell_type": "code",
   "execution_count": 29,
   "id": "7d71783a-2664-41d0-947c-45572341cc31",
   "metadata": {
    "tags": []
   },
   "outputs": [],
   "source": [
    "merged_ceo_nodup['Defall'] = np.where(merged_ceo_nodup['Ref_Change_Type_1522'] == 'Def', 1, 0)\n",
    "merged_ceo_nodup['Degall'] = np.where(merged_ceo_nodup['Ref_Change_Type_1522'] == 'Deg', 1, 0)"
   ]
  },
  {
   "cell_type": "code",
   "execution_count": 30,
   "id": "0926ff1a-84a1-400b-bc07-7c72cfcbbdae",
   "metadata": {
    "tags": []
   },
   "outputs": [],
   "source": [
    "merged_ceo_nodup['Stable'] = np.where(merged_ceo_nodup['Ref_Change_Year_1522'] == 'Stable', 1, 0)\n",
    "merged_ceo_nodup['NF'] = np.where(merged_ceo_nodup['Ref_Change_Year_1522'] == 'NF', 1, 0)"
   ]
  },
  {
   "cell_type": "code",
   "execution_count": 31,
   "id": "98edf798-d5d1-4c0c-8265-d16e6ab29d23",
   "metadata": {
    "tags": []
   },
   "outputs": [
    {
     "name": "stdout",
     "output_type": "stream",
     "text": [
      "['plotid', 'sampleid', 'lon', 'lat', 'sample_geom', 'point_id', 'Ref_FNF_2015', 'Ref_Regeneration', 'Ref_Change_1522', 'Ref_Change_Type_1522', 'ArtFor', 'ArtMine', 'InfraR', 'Urb', 'IndFor', 'Other', 'Other_Desc', 'IndMine', 'IndAg', 'ArtAg', 'Ref_Year_1522', 'Ref_NFtype', 'Ref_Ftype', 'collection', 'interpreted', 'Ref_LCover', 'Ref_Change_Year_1522', 'Def2016', 'Def2017', 'Def2018', 'Def2019', 'Def2020', 'Def2021', 'Def2022', 'Deg2016', 'Deg2017', 'Deg2018', 'Deg2019', 'Deg2020', 'Deg2021', 'Deg2022', 'Defall', 'Degall', 'Stable', 'NF']\n"
     ]
    }
   ],
   "source": [
    "merged_ceo_column_names = merged_ceo_nodup.columns.tolist()\n",
    "# Print the list of column names\n",
    "print(merged_ceo_column_names)"
   ]
  },
  {
   "cell_type": "code",
   "execution_count": 32,
   "id": "2706fbbf-4744-41c5-bd58-03c4b5a4bff2",
   "metadata": {
    "tags": []
   },
   "outputs": [
    {
     "data": {
      "text/html": [
       "<div>\n",
       "<style scoped>\n",
       "    .dataframe tbody tr th:only-of-type {\n",
       "        vertical-align: middle;\n",
       "    }\n",
       "\n",
       "    .dataframe tbody tr th {\n",
       "        vertical-align: top;\n",
       "    }\n",
       "\n",
       "    .dataframe thead th {\n",
       "        text-align: right;\n",
       "    }\n",
       "</style>\n",
       "<table border=\"1\" class=\"dataframe\">\n",
       "  <thead>\n",
       "    <tr style=\"text-align: right;\">\n",
       "      <th></th>\n",
       "      <th>plotid</th>\n",
       "      <th>sampleid</th>\n",
       "      <th>lon</th>\n",
       "      <th>lat</th>\n",
       "      <th>sample_geom</th>\n",
       "      <th>point_id</th>\n",
       "      <th>Ref_FNF_2015</th>\n",
       "      <th>Ref_Regeneration</th>\n",
       "      <th>Ref_Change_1522</th>\n",
       "      <th>Ref_Change_Type_1522</th>\n",
       "      <th>ArtFor</th>\n",
       "      <th>ArtMine</th>\n",
       "      <th>InfraR</th>\n",
       "      <th>Urb</th>\n",
       "      <th>IndFor</th>\n",
       "      <th>Other</th>\n",
       "      <th>Other_Desc</th>\n",
       "      <th>IndMine</th>\n",
       "      <th>IndAg</th>\n",
       "      <th>ArtAg</th>\n",
       "      <th>Ref_Year_1522</th>\n",
       "      <th>Ref_NFtype</th>\n",
       "      <th>Ref_Ftype</th>\n",
       "      <th>collection</th>\n",
       "      <th>interpreted</th>\n",
       "      <th>Ref_LCover</th>\n",
       "      <th>Ref_Change_Year_1522</th>\n",
       "      <th>Def2016</th>\n",
       "      <th>Def2017</th>\n",
       "      <th>Def2018</th>\n",
       "      <th>Def2019</th>\n",
       "      <th>Def2020</th>\n",
       "      <th>Def2021</th>\n",
       "      <th>Def2022</th>\n",
       "      <th>Deg2016</th>\n",
       "      <th>Deg2017</th>\n",
       "      <th>Deg2018</th>\n",
       "      <th>Deg2019</th>\n",
       "      <th>Deg2020</th>\n",
       "      <th>Deg2021</th>\n",
       "      <th>Deg2022</th>\n",
       "      <th>Defall</th>\n",
       "      <th>Degall</th>\n",
       "      <th>Stable</th>\n",
       "      <th>NF</th>\n",
       "    </tr>\n",
       "  </thead>\n",
       "  <tbody>\n",
       "    <tr>\n",
       "      <th>0</th>\n",
       "      <td>1377222</td>\n",
       "      <td>1377222</td>\n",
       "      <td>15.104924</td>\n",
       "      <td>-4.909934</td>\n",
       "      <td>POINT(15.104924 -4.909934)</td>\n",
       "      <td>1377222</td>\n",
       "      <td>0</td>\n",
       "      <td>non</td>\n",
       "      <td>0</td>\n",
       "      <td>NF</td>\n",
       "      <td>0</td>\n",
       "      <td>0</td>\n",
       "      <td>0</td>\n",
       "      <td>0</td>\n",
       "      <td>0</td>\n",
       "      <td>0</td>\n",
       "      <td>NaN</td>\n",
       "      <td>0</td>\n",
       "      <td>0</td>\n",
       "      <td>0</td>\n",
       "      <td>NaN</td>\n",
       "      <td>12</td>\n",
       "      <td>NaN</td>\n",
       "      <td>1</td>\n",
       "      <td>1</td>\n",
       "      <td>12</td>\n",
       "      <td>NF</td>\n",
       "      <td>0</td>\n",
       "      <td>0</td>\n",
       "      <td>0</td>\n",
       "      <td>0</td>\n",
       "      <td>0</td>\n",
       "      <td>0</td>\n",
       "      <td>0</td>\n",
       "      <td>0</td>\n",
       "      <td>0</td>\n",
       "      <td>0</td>\n",
       "      <td>0</td>\n",
       "      <td>0</td>\n",
       "      <td>0</td>\n",
       "      <td>0</td>\n",
       "      <td>0</td>\n",
       "      <td>0</td>\n",
       "      <td>0</td>\n",
       "      <td>1</td>\n",
       "    </tr>\n",
       "    <tr>\n",
       "      <th>1</th>\n",
       "      <td>1379242</td>\n",
       "      <td>1379242</td>\n",
       "      <td>19.432718</td>\n",
       "      <td>2.746142</td>\n",
       "      <td>POINT(19.432718 2.746142)</td>\n",
       "      <td>1379242</td>\n",
       "      <td>1</td>\n",
       "      <td>NaN</td>\n",
       "      <td>1</td>\n",
       "      <td>Def</td>\n",
       "      <td>0</td>\n",
       "      <td>0</td>\n",
       "      <td>0</td>\n",
       "      <td>0</td>\n",
       "      <td>0</td>\n",
       "      <td>0</td>\n",
       "      <td>NaN</td>\n",
       "      <td>0</td>\n",
       "      <td>0</td>\n",
       "      <td>1</td>\n",
       "      <td>2017.0</td>\n",
       "      <td>NaN</td>\n",
       "      <td>3</td>\n",
       "      <td>1</td>\n",
       "      <td>1</td>\n",
       "      <td>3</td>\n",
       "      <td>Def2017</td>\n",
       "      <td>0</td>\n",
       "      <td>1</td>\n",
       "      <td>0</td>\n",
       "      <td>0</td>\n",
       "      <td>0</td>\n",
       "      <td>0</td>\n",
       "      <td>0</td>\n",
       "      <td>0</td>\n",
       "      <td>0</td>\n",
       "      <td>0</td>\n",
       "      <td>0</td>\n",
       "      <td>0</td>\n",
       "      <td>0</td>\n",
       "      <td>0</td>\n",
       "      <td>1</td>\n",
       "      <td>0</td>\n",
       "      <td>0</td>\n",
       "      <td>0</td>\n",
       "    </tr>\n",
       "    <tr>\n",
       "      <th>2</th>\n",
       "      <td>1379991</td>\n",
       "      <td>1379991</td>\n",
       "      <td>19.252191</td>\n",
       "      <td>2.251043</td>\n",
       "      <td>POINT(19.252191 2.251043)</td>\n",
       "      <td>1379991</td>\n",
       "      <td>1</td>\n",
       "      <td>NaN</td>\n",
       "      <td>0</td>\n",
       "      <td>Stable</td>\n",
       "      <td>0</td>\n",
       "      <td>0</td>\n",
       "      <td>0</td>\n",
       "      <td>0</td>\n",
       "      <td>0</td>\n",
       "      <td>0</td>\n",
       "      <td>NaN</td>\n",
       "      <td>0</td>\n",
       "      <td>0</td>\n",
       "      <td>0</td>\n",
       "      <td>NaN</td>\n",
       "      <td>NaN</td>\n",
       "      <td>1</td>\n",
       "      <td>1</td>\n",
       "      <td>1</td>\n",
       "      <td>1</td>\n",
       "      <td>Stable</td>\n",
       "      <td>0</td>\n",
       "      <td>0</td>\n",
       "      <td>0</td>\n",
       "      <td>0</td>\n",
       "      <td>0</td>\n",
       "      <td>0</td>\n",
       "      <td>0</td>\n",
       "      <td>0</td>\n",
       "      <td>0</td>\n",
       "      <td>0</td>\n",
       "      <td>0</td>\n",
       "      <td>0</td>\n",
       "      <td>0</td>\n",
       "      <td>0</td>\n",
       "      <td>0</td>\n",
       "      <td>0</td>\n",
       "      <td>1</td>\n",
       "      <td>0</td>\n",
       "    </tr>\n",
       "    <tr>\n",
       "      <th>3</th>\n",
       "      <td>1381523</td>\n",
       "      <td>1381523</td>\n",
       "      <td>19.563450</td>\n",
       "      <td>2.562405</td>\n",
       "      <td>POINT(19.56345 2.562405)</td>\n",
       "      <td>1381523</td>\n",
       "      <td>1</td>\n",
       "      <td>NaN</td>\n",
       "      <td>0</td>\n",
       "      <td>Stable</td>\n",
       "      <td>0</td>\n",
       "      <td>0</td>\n",
       "      <td>0</td>\n",
       "      <td>0</td>\n",
       "      <td>0</td>\n",
       "      <td>0</td>\n",
       "      <td>NaN</td>\n",
       "      <td>0</td>\n",
       "      <td>0</td>\n",
       "      <td>0</td>\n",
       "      <td>NaN</td>\n",
       "      <td>NaN</td>\n",
       "      <td>1</td>\n",
       "      <td>1</td>\n",
       "      <td>1</td>\n",
       "      <td>1</td>\n",
       "      <td>Stable</td>\n",
       "      <td>0</td>\n",
       "      <td>0</td>\n",
       "      <td>0</td>\n",
       "      <td>0</td>\n",
       "      <td>0</td>\n",
       "      <td>0</td>\n",
       "      <td>0</td>\n",
       "      <td>0</td>\n",
       "      <td>0</td>\n",
       "      <td>0</td>\n",
       "      <td>0</td>\n",
       "      <td>0</td>\n",
       "      <td>0</td>\n",
       "      <td>0</td>\n",
       "      <td>0</td>\n",
       "      <td>0</td>\n",
       "      <td>1</td>\n",
       "      <td>0</td>\n",
       "    </tr>\n",
       "    <tr>\n",
       "      <th>4</th>\n",
       "      <td>1382196</td>\n",
       "      <td>1382196</td>\n",
       "      <td>19.495225</td>\n",
       "      <td>2.300299</td>\n",
       "      <td>POINT(19.495225 2.300299)</td>\n",
       "      <td>1382196</td>\n",
       "      <td>1</td>\n",
       "      <td>NaN</td>\n",
       "      <td>0</td>\n",
       "      <td>Stable</td>\n",
       "      <td>0</td>\n",
       "      <td>0</td>\n",
       "      <td>0</td>\n",
       "      <td>0</td>\n",
       "      <td>0</td>\n",
       "      <td>0</td>\n",
       "      <td>NaN</td>\n",
       "      <td>0</td>\n",
       "      <td>0</td>\n",
       "      <td>0</td>\n",
       "      <td>NaN</td>\n",
       "      <td>NaN</td>\n",
       "      <td>1</td>\n",
       "      <td>1</td>\n",
       "      <td>1</td>\n",
       "      <td>1</td>\n",
       "      <td>Stable</td>\n",
       "      <td>0</td>\n",
       "      <td>0</td>\n",
       "      <td>0</td>\n",
       "      <td>0</td>\n",
       "      <td>0</td>\n",
       "      <td>0</td>\n",
       "      <td>0</td>\n",
       "      <td>0</td>\n",
       "      <td>0</td>\n",
       "      <td>0</td>\n",
       "      <td>0</td>\n",
       "      <td>0</td>\n",
       "      <td>0</td>\n",
       "      <td>0</td>\n",
       "      <td>0</td>\n",
       "      <td>0</td>\n",
       "      <td>1</td>\n",
       "      <td>0</td>\n",
       "    </tr>\n",
       "  </tbody>\n",
       "</table>\n",
       "</div>"
      ],
      "text/plain": [
       "    plotid  sampleid        lon       lat                 sample_geom  \\\n",
       "0  1377222   1377222  15.104924 -4.909934  POINT(15.104924 -4.909934)   \n",
       "1  1379242   1379242  19.432718  2.746142   POINT(19.432718 2.746142)   \n",
       "2  1379991   1379991  19.252191  2.251043   POINT(19.252191 2.251043)   \n",
       "3  1381523   1381523  19.563450  2.562405    POINT(19.56345 2.562405)   \n",
       "4  1382196   1382196  19.495225  2.300299   POINT(19.495225 2.300299)   \n",
       "\n",
       "   point_id Ref_FNF_2015 Ref_Regeneration Ref_Change_1522  \\\n",
       "0   1377222            0              non               0   \n",
       "1   1379242            1              NaN               1   \n",
       "2   1379991            1              NaN               0   \n",
       "3   1381523            1              NaN               0   \n",
       "4   1382196            1              NaN               0   \n",
       "\n",
       "  Ref_Change_Type_1522 ArtFor ArtMine InfraR Urb IndFor Other Other_Desc  \\\n",
       "0                   NF      0       0      0   0      0     0        NaN   \n",
       "1                  Def      0       0      0   0      0     0        NaN   \n",
       "2               Stable      0       0      0   0      0     0        NaN   \n",
       "3               Stable      0       0      0   0      0     0        NaN   \n",
       "4               Stable      0       0      0   0      0     0        NaN   \n",
       "\n",
       "  IndMine IndAg ArtAg  Ref_Year_1522 Ref_NFtype Ref_Ftype  collection  \\\n",
       "0       0     0     0            NaN         12       NaN           1   \n",
       "1       0     0     1         2017.0        NaN         3           1   \n",
       "2       0     0     0            NaN        NaN         1           1   \n",
       "3       0     0     0            NaN        NaN         1           1   \n",
       "4       0     0     0            NaN        NaN         1           1   \n",
       "\n",
       "   interpreted Ref_LCover Ref_Change_Year_1522  Def2016  Def2017  Def2018  \\\n",
       "0            1         12                   NF        0        0        0   \n",
       "1            1          3              Def2017        0        1        0   \n",
       "2            1          1               Stable        0        0        0   \n",
       "3            1          1               Stable        0        0        0   \n",
       "4            1          1               Stable        0        0        0   \n",
       "\n",
       "   Def2019  Def2020  Def2021  Def2022  Deg2016  Deg2017  Deg2018  Deg2019  \\\n",
       "0        0        0        0        0        0        0        0        0   \n",
       "1        0        0        0        0        0        0        0        0   \n",
       "2        0        0        0        0        0        0        0        0   \n",
       "3        0        0        0        0        0        0        0        0   \n",
       "4        0        0        0        0        0        0        0        0   \n",
       "\n",
       "   Deg2020  Deg2021  Deg2022  Defall  Degall  Stable  NF  \n",
       "0        0        0        0       0       0       0   1  \n",
       "1        0        0        0       1       0       0   0  \n",
       "2        0        0        0       0       0       1   0  \n",
       "3        0        0        0       0       0       1   0  \n",
       "4        0        0        0       0       0       1   0  "
      ]
     },
     "execution_count": 32,
     "metadata": {},
     "output_type": "execute_result"
    }
   ],
   "source": [
    "merged_ceo_nodup.head()"
   ]
  },
  {
   "cell_type": "code",
   "execution_count": 33,
   "id": "a413d7d4-c52b-4e7b-a830-9d5f2019a41b",
   "metadata": {
    "tags": []
   },
   "outputs": [
    {
     "name": "stdout",
     "output_type": "stream",
     "text": [
      "['plotid' 'sampleid' 'lon' 'lat' 'sample_geom' 'point_id' 'Ref_FNF_2015'\n",
      " 'Ref_Regeneration' 'Ref_Change_1522' 'Ref_Change_Type_1522' 'ArtFor'\n",
      " 'ArtMine' 'InfraR' 'Urb' 'IndFor' 'Other' 'Other_Desc' 'IndMine' 'IndAg'\n",
      " 'ArtAg' 'Ref_Year_1522' 'Ref_NFtype' 'Ref_Ftype' 'collection'\n",
      " 'interpreted' 'Ref_LCover' 'Ref_Change_Year_1522' 'Def2016' 'Def2017'\n",
      " 'Def2018' 'Def2019' 'Def2020' 'Def2021' 'Def2022' 'Deg2016' 'Deg2017'\n",
      " 'Deg2018' 'Deg2019' 'Deg2020' 'Deg2021' 'Deg2022' 'Defall' 'Degall'\n",
      " 'Stable' 'NF']\n"
     ]
    }
   ],
   "source": [
    "print(merged_ceo_nodup.columns.values)"
   ]
  },
  {
   "cell_type": "code",
   "execution_count": 34,
   "id": "dbc6a9bd-8fd3-49e9-8d56-e1420024ecc7",
   "metadata": {
    "tags": []
   },
   "outputs": [
    {
     "data": {
      "text/plain": [
       "Ref_Change_Year_1522\n",
       "NF         6297\n",
       "Stable     5598\n",
       "Def2019     173\n",
       "Def2018     167\n",
       "Def2020     158\n",
       "Def2017     157\n",
       "Def2021     128\n",
       "Def2016      97\n",
       "Def2022      97\n",
       "Deg2016      60\n",
       "Deg2020      46\n",
       "Deg2019      40\n",
       "Deg2022      39\n",
       "Deg2021      35\n",
       "Deg2018      32\n",
       "Deg2017      23\n",
       "Name: count, dtype: int64"
      ]
     },
     "execution_count": 34,
     "metadata": {},
     "output_type": "execute_result"
    }
   ],
   "source": [
    "merged_ceo_nodup['Ref_Change_Year_1522'].value_counts(dropna=False)"
   ]
  },
  {
   "cell_type": "code",
   "execution_count": 35,
   "id": "7f40e2a6-b05f-430d-ab5f-e7a7719e38be",
   "metadata": {},
   "outputs": [
    {
     "data": {
      "text/html": [
       "<div>\n",
       "<style scoped>\n",
       "    .dataframe tbody tr th:only-of-type {\n",
       "        vertical-align: middle;\n",
       "    }\n",
       "\n",
       "    .dataframe tbody tr th {\n",
       "        vertical-align: top;\n",
       "    }\n",
       "\n",
       "    .dataframe thead th {\n",
       "        text-align: right;\n",
       "    }\n",
       "</style>\n",
       "<table border=\"1\" class=\"dataframe\">\n",
       "  <thead>\n",
       "    <tr style=\"text-align: right;\">\n",
       "      <th></th>\n",
       "      <th>plotid</th>\n",
       "      <th>sampleid</th>\n",
       "      <th>lon</th>\n",
       "      <th>lat</th>\n",
       "      <th>sample_geom</th>\n",
       "      <th>point_id</th>\n",
       "      <th>Ref_FNF_2015</th>\n",
       "      <th>Ref_Regeneration</th>\n",
       "      <th>Ref_Change_1522</th>\n",
       "      <th>Ref_Change_Type_1522</th>\n",
       "      <th>ArtFor</th>\n",
       "      <th>ArtMine</th>\n",
       "      <th>InfraR</th>\n",
       "      <th>Urb</th>\n",
       "      <th>IndFor</th>\n",
       "      <th>Other</th>\n",
       "      <th>Other_Desc</th>\n",
       "      <th>IndMine</th>\n",
       "      <th>IndAg</th>\n",
       "      <th>ArtAg</th>\n",
       "      <th>Ref_Year_1522</th>\n",
       "      <th>Ref_NFtype</th>\n",
       "      <th>Ref_Ftype</th>\n",
       "      <th>collection</th>\n",
       "      <th>interpreted</th>\n",
       "      <th>Ref_LCover</th>\n",
       "      <th>Ref_Change_Year_1522</th>\n",
       "      <th>Def2016</th>\n",
       "      <th>Def2017</th>\n",
       "      <th>Def2018</th>\n",
       "      <th>Def2019</th>\n",
       "      <th>Def2020</th>\n",
       "      <th>Def2021</th>\n",
       "      <th>Def2022</th>\n",
       "      <th>Deg2016</th>\n",
       "      <th>Deg2017</th>\n",
       "      <th>Deg2018</th>\n",
       "      <th>Deg2019</th>\n",
       "      <th>Deg2020</th>\n",
       "      <th>Deg2021</th>\n",
       "      <th>Deg2022</th>\n",
       "      <th>Defall</th>\n",
       "      <th>Degall</th>\n",
       "      <th>Stable</th>\n",
       "      <th>NF</th>\n",
       "    </tr>\n",
       "  </thead>\n",
       "  <tbody>\n",
       "    <tr>\n",
       "      <th>0</th>\n",
       "      <td>1377222</td>\n",
       "      <td>1377222</td>\n",
       "      <td>15.104924</td>\n",
       "      <td>-4.909934</td>\n",
       "      <td>POINT(15.104924 -4.909934)</td>\n",
       "      <td>1377222</td>\n",
       "      <td>0</td>\n",
       "      <td>non</td>\n",
       "      <td>0</td>\n",
       "      <td>NF</td>\n",
       "      <td>0</td>\n",
       "      <td>0</td>\n",
       "      <td>0</td>\n",
       "      <td>0</td>\n",
       "      <td>0</td>\n",
       "      <td>0</td>\n",
       "      <td>NaN</td>\n",
       "      <td>0</td>\n",
       "      <td>0</td>\n",
       "      <td>0</td>\n",
       "      <td>NaN</td>\n",
       "      <td>12</td>\n",
       "      <td>NaN</td>\n",
       "      <td>1</td>\n",
       "      <td>1</td>\n",
       "      <td>12</td>\n",
       "      <td>NF</td>\n",
       "      <td>0</td>\n",
       "      <td>0</td>\n",
       "      <td>0</td>\n",
       "      <td>0</td>\n",
       "      <td>0</td>\n",
       "      <td>0</td>\n",
       "      <td>0</td>\n",
       "      <td>0</td>\n",
       "      <td>0</td>\n",
       "      <td>0</td>\n",
       "      <td>0</td>\n",
       "      <td>0</td>\n",
       "      <td>0</td>\n",
       "      <td>0</td>\n",
       "      <td>0</td>\n",
       "      <td>0</td>\n",
       "      <td>0</td>\n",
       "      <td>1</td>\n",
       "    </tr>\n",
       "    <tr>\n",
       "      <th>1</th>\n",
       "      <td>1379242</td>\n",
       "      <td>1379242</td>\n",
       "      <td>19.432718</td>\n",
       "      <td>2.746142</td>\n",
       "      <td>POINT(19.432718 2.746142)</td>\n",
       "      <td>1379242</td>\n",
       "      <td>1</td>\n",
       "      <td>NaN</td>\n",
       "      <td>1</td>\n",
       "      <td>Def</td>\n",
       "      <td>0</td>\n",
       "      <td>0</td>\n",
       "      <td>0</td>\n",
       "      <td>0</td>\n",
       "      <td>0</td>\n",
       "      <td>0</td>\n",
       "      <td>NaN</td>\n",
       "      <td>0</td>\n",
       "      <td>0</td>\n",
       "      <td>1</td>\n",
       "      <td>2017.0</td>\n",
       "      <td>NaN</td>\n",
       "      <td>3</td>\n",
       "      <td>1</td>\n",
       "      <td>1</td>\n",
       "      <td>3</td>\n",
       "      <td>Def2017</td>\n",
       "      <td>0</td>\n",
       "      <td>1</td>\n",
       "      <td>0</td>\n",
       "      <td>0</td>\n",
       "      <td>0</td>\n",
       "      <td>0</td>\n",
       "      <td>0</td>\n",
       "      <td>0</td>\n",
       "      <td>0</td>\n",
       "      <td>0</td>\n",
       "      <td>0</td>\n",
       "      <td>0</td>\n",
       "      <td>0</td>\n",
       "      <td>0</td>\n",
       "      <td>1</td>\n",
       "      <td>0</td>\n",
       "      <td>0</td>\n",
       "      <td>0</td>\n",
       "    </tr>\n",
       "    <tr>\n",
       "      <th>2</th>\n",
       "      <td>1379991</td>\n",
       "      <td>1379991</td>\n",
       "      <td>19.252191</td>\n",
       "      <td>2.251043</td>\n",
       "      <td>POINT(19.252191 2.251043)</td>\n",
       "      <td>1379991</td>\n",
       "      <td>1</td>\n",
       "      <td>NaN</td>\n",
       "      <td>0</td>\n",
       "      <td>Stable</td>\n",
       "      <td>0</td>\n",
       "      <td>0</td>\n",
       "      <td>0</td>\n",
       "      <td>0</td>\n",
       "      <td>0</td>\n",
       "      <td>0</td>\n",
       "      <td>NaN</td>\n",
       "      <td>0</td>\n",
       "      <td>0</td>\n",
       "      <td>0</td>\n",
       "      <td>NaN</td>\n",
       "      <td>NaN</td>\n",
       "      <td>1</td>\n",
       "      <td>1</td>\n",
       "      <td>1</td>\n",
       "      <td>1</td>\n",
       "      <td>Stable</td>\n",
       "      <td>0</td>\n",
       "      <td>0</td>\n",
       "      <td>0</td>\n",
       "      <td>0</td>\n",
       "      <td>0</td>\n",
       "      <td>0</td>\n",
       "      <td>0</td>\n",
       "      <td>0</td>\n",
       "      <td>0</td>\n",
       "      <td>0</td>\n",
       "      <td>0</td>\n",
       "      <td>0</td>\n",
       "      <td>0</td>\n",
       "      <td>0</td>\n",
       "      <td>0</td>\n",
       "      <td>0</td>\n",
       "      <td>1</td>\n",
       "      <td>0</td>\n",
       "    </tr>\n",
       "    <tr>\n",
       "      <th>3</th>\n",
       "      <td>1381523</td>\n",
       "      <td>1381523</td>\n",
       "      <td>19.563450</td>\n",
       "      <td>2.562405</td>\n",
       "      <td>POINT(19.56345 2.562405)</td>\n",
       "      <td>1381523</td>\n",
       "      <td>1</td>\n",
       "      <td>NaN</td>\n",
       "      <td>0</td>\n",
       "      <td>Stable</td>\n",
       "      <td>0</td>\n",
       "      <td>0</td>\n",
       "      <td>0</td>\n",
       "      <td>0</td>\n",
       "      <td>0</td>\n",
       "      <td>0</td>\n",
       "      <td>NaN</td>\n",
       "      <td>0</td>\n",
       "      <td>0</td>\n",
       "      <td>0</td>\n",
       "      <td>NaN</td>\n",
       "      <td>NaN</td>\n",
       "      <td>1</td>\n",
       "      <td>1</td>\n",
       "      <td>1</td>\n",
       "      <td>1</td>\n",
       "      <td>Stable</td>\n",
       "      <td>0</td>\n",
       "      <td>0</td>\n",
       "      <td>0</td>\n",
       "      <td>0</td>\n",
       "      <td>0</td>\n",
       "      <td>0</td>\n",
       "      <td>0</td>\n",
       "      <td>0</td>\n",
       "      <td>0</td>\n",
       "      <td>0</td>\n",
       "      <td>0</td>\n",
       "      <td>0</td>\n",
       "      <td>0</td>\n",
       "      <td>0</td>\n",
       "      <td>0</td>\n",
       "      <td>0</td>\n",
       "      <td>1</td>\n",
       "      <td>0</td>\n",
       "    </tr>\n",
       "    <tr>\n",
       "      <th>4</th>\n",
       "      <td>1382196</td>\n",
       "      <td>1382196</td>\n",
       "      <td>19.495225</td>\n",
       "      <td>2.300299</td>\n",
       "      <td>POINT(19.495225 2.300299)</td>\n",
       "      <td>1382196</td>\n",
       "      <td>1</td>\n",
       "      <td>NaN</td>\n",
       "      <td>0</td>\n",
       "      <td>Stable</td>\n",
       "      <td>0</td>\n",
       "      <td>0</td>\n",
       "      <td>0</td>\n",
       "      <td>0</td>\n",
       "      <td>0</td>\n",
       "      <td>0</td>\n",
       "      <td>NaN</td>\n",
       "      <td>0</td>\n",
       "      <td>0</td>\n",
       "      <td>0</td>\n",
       "      <td>NaN</td>\n",
       "      <td>NaN</td>\n",
       "      <td>1</td>\n",
       "      <td>1</td>\n",
       "      <td>1</td>\n",
       "      <td>1</td>\n",
       "      <td>Stable</td>\n",
       "      <td>0</td>\n",
       "      <td>0</td>\n",
       "      <td>0</td>\n",
       "      <td>0</td>\n",
       "      <td>0</td>\n",
       "      <td>0</td>\n",
       "      <td>0</td>\n",
       "      <td>0</td>\n",
       "      <td>0</td>\n",
       "      <td>0</td>\n",
       "      <td>0</td>\n",
       "      <td>0</td>\n",
       "      <td>0</td>\n",
       "      <td>0</td>\n",
       "      <td>0</td>\n",
       "      <td>0</td>\n",
       "      <td>1</td>\n",
       "      <td>0</td>\n",
       "    </tr>\n",
       "  </tbody>\n",
       "</table>\n",
       "</div>"
      ],
      "text/plain": [
       "    plotid  sampleid        lon       lat                 sample_geom  \\\n",
       "0  1377222   1377222  15.104924 -4.909934  POINT(15.104924 -4.909934)   \n",
       "1  1379242   1379242  19.432718  2.746142   POINT(19.432718 2.746142)   \n",
       "2  1379991   1379991  19.252191  2.251043   POINT(19.252191 2.251043)   \n",
       "3  1381523   1381523  19.563450  2.562405    POINT(19.56345 2.562405)   \n",
       "4  1382196   1382196  19.495225  2.300299   POINT(19.495225 2.300299)   \n",
       "\n",
       "   point_id Ref_FNF_2015 Ref_Regeneration Ref_Change_1522  \\\n",
       "0   1377222            0              non               0   \n",
       "1   1379242            1              NaN               1   \n",
       "2   1379991            1              NaN               0   \n",
       "3   1381523            1              NaN               0   \n",
       "4   1382196            1              NaN               0   \n",
       "\n",
       "  Ref_Change_Type_1522 ArtFor ArtMine InfraR Urb IndFor Other Other_Desc  \\\n",
       "0                   NF      0       0      0   0      0     0        NaN   \n",
       "1                  Def      0       0      0   0      0     0        NaN   \n",
       "2               Stable      0       0      0   0      0     0        NaN   \n",
       "3               Stable      0       0      0   0      0     0        NaN   \n",
       "4               Stable      0       0      0   0      0     0        NaN   \n",
       "\n",
       "  IndMine IndAg ArtAg  Ref_Year_1522 Ref_NFtype Ref_Ftype  collection  \\\n",
       "0       0     0     0            NaN         12       NaN           1   \n",
       "1       0     0     1         2017.0        NaN         3           1   \n",
       "2       0     0     0            NaN        NaN         1           1   \n",
       "3       0     0     0            NaN        NaN         1           1   \n",
       "4       0     0     0            NaN        NaN         1           1   \n",
       "\n",
       "   interpreted Ref_LCover Ref_Change_Year_1522  Def2016  Def2017  Def2018  \\\n",
       "0            1         12                   NF        0        0        0   \n",
       "1            1          3              Def2017        0        1        0   \n",
       "2            1          1               Stable        0        0        0   \n",
       "3            1          1               Stable        0        0        0   \n",
       "4            1          1               Stable        0        0        0   \n",
       "\n",
       "   Def2019  Def2020  Def2021  Def2022  Deg2016  Deg2017  Deg2018  Deg2019  \\\n",
       "0        0        0        0        0        0        0        0        0   \n",
       "1        0        0        0        0        0        0        0        0   \n",
       "2        0        0        0        0        0        0        0        0   \n",
       "3        0        0        0        0        0        0        0        0   \n",
       "4        0        0        0        0        0        0        0        0   \n",
       "\n",
       "   Deg2020  Deg2021  Deg2022  Defall  Degall  Stable  NF  \n",
       "0        0        0        0       0       0       0   1  \n",
       "1        0        0        0       1       0       0   0  \n",
       "2        0        0        0       0       0       1   0  \n",
       "3        0        0        0       0       0       1   0  \n",
       "4        0        0        0       0       0       1   0  "
      ]
     },
     "execution_count": 35,
     "metadata": {},
     "output_type": "execute_result"
    }
   ],
   "source": [
    "merged_ceo_nodup.head()"
   ]
  },
  {
   "cell_type": "code",
   "execution_count": 36,
   "id": "0f5b06d0-89d2-4190-aed7-b3b20806496c",
   "metadata": {},
   "outputs": [],
   "source": [
    "merged_ceo_nodup['ISO'] = iso"
   ]
  },
  {
   "cell_type": "markdown",
   "id": "a6cf541d-ffb9-4489-b03a-ba2bcb7b5878",
   "metadata": {},
   "source": [
    "### 3. plot change points by year"
   ]
  },
  {
   "cell_type": "code",
   "execution_count": 37,
   "id": "f1c32086-c2e8-41ca-b034-fc54d94edeeb",
   "metadata": {
    "tags": []
   },
   "outputs": [
    {
     "data": {
      "image/png": "[encoded data removed]",
      "text/plain": [
       "<Figure size 800x600 with 1 Axes>"
      ]
     },
     "metadata": {},
     "output_type": "display_data"
    }
   ],
   "source": [
    "#select the values you want to plot\n",
    "values_to_plot = ['Def2016','Def2017','Def2018','Def2019','Def2020','Def2021','Def2022']\n",
    "\n",
    "# Filter the DataFrame to include only the selected values\n",
    "filtered_df = merged_ceo_nodup[merged_ceo_nodup['Ref_Change_Year_1522'].isin(values_to_plot)]\n",
    "\n",
    "# Get the value counts and sort by index (alphabetically)\n",
    "defvalue_counts = filtered_df['Ref_Change_Year_1522'].value_counts().sort_index()\n",
    "\n",
    "# Plot the value counts as a bar graph\n",
    "plt.figure(figsize=(8, 6))  # Optional: Set the figure size\n",
    "defvalue_counts.plot(kind='bar', color='skyblue')\n",
    "\n",
    "\n",
    "# Set plot labels and title\n",
    "plt.xlabel('Category')\n",
    "plt.ylabel('Count')\n",
    "plt.title('# of def points per year')\n",
    "\n",
    "# Show the plot\n",
    "plt.show()"
   ]
  },
  {
   "cell_type": "markdown",
   "id": "b3c7b947-6152-49cb-90cd-a54b7f7d0e3c",
   "metadata": {},
   "source": [
    "##### plot degradation points by year"
   ]
  },
  {
   "cell_type": "code",
   "execution_count": 38,
   "id": "a0bd70ef-914e-4c48-a377-4ee31526a640",
   "metadata": {
    "tags": []
   },
   "outputs": [
    {
     "data": {
      "image/png": "[encoded data removed]",
      "text/plain": [
       "<Figure size 800x600 with 1 Axes>"
      ]
     },
     "metadata": {},
     "output_type": "display_data"
    }
   ],
   "source": [
    "#plot DEG \n",
    "#select the values you want to plot\n",
    "values_to_plot = ['Deg2016','Deg2017','Deg2018','Deg2019','Deg2020','Deg2021','Deg2022']\n",
    "\n",
    "# Filter the DataFrame to include only the selected values\n",
    "filtered_df = merged_ceo_nodup[merged_ceo_nodup['Ref_Change_Year_1522'].isin(values_to_plot)]\n",
    "\n",
    "# Get the value counts and sort by index (alphabetically)\n",
    "degvalue_counts = filtered_df['Ref_Change_Year_1522'].value_counts().sort_index()\n",
    "\n",
    "# Plot the value counts as a bar graph\n",
    "plt.figure(figsize=(8, 6))  # Optional: Set the figure size\n",
    "degvalue_counts.plot(kind='bar', color='skyblue')\n",
    "\n",
    "\n",
    "# Set plot labels and title\n",
    "plt.xlabel('Category')\n",
    "plt.ylabel('Count')\n",
    "plt.title('# of deg points per year')\n",
    "\n",
    "# Show the plot\n",
    "plt.show()"
   ]
  },
  {
   "cell_type": "code",
   "execution_count": 39,
   "id": "14fcaa3e-1f21-43b1-a4ec-671a1950134c",
   "metadata": {
    "tags": []
   },
   "outputs": [
    {
     "name": "stdout",
     "output_type": "stream",
     "text": [
      "plotid                    int64\n",
      "sampleid                  int64\n",
      "lon                     float64\n",
      "lat                     float64\n",
      "sample_geom              object\n",
      "point_id                  int64\n",
      "Ref_FNF_2015             object\n",
      "Ref_Regeneration         object\n",
      "Ref_Change_1522          object\n",
      "Ref_Change_Type_1522     object\n",
      "ArtFor                   object\n",
      "ArtMine                  object\n",
      "InfraR                   object\n",
      "Urb                      object\n",
      "IndFor                   object\n",
      "Other                    object\n",
      "Other_Desc               object\n",
      "IndMine                  object\n",
      "IndAg                    object\n",
      "ArtAg                    object\n",
      "Ref_Year_1522           float64\n",
      "Ref_NFtype               object\n",
      "Ref_Ftype                object\n",
      "collection                int64\n",
      "interpreted               int64\n",
      "Ref_LCover               object\n",
      "Ref_Change_Year_1522     object\n",
      "Def2016                   int64\n",
      "Def2017                   int64\n",
      "Def2018                   int64\n",
      "Def2019                   int64\n",
      "Def2020                   int64\n",
      "Def2021                   int64\n",
      "Def2022                   int64\n",
      "Deg2016                   int64\n",
      "Deg2017                   int64\n",
      "Deg2018                   int64\n",
      "Deg2019                   int64\n",
      "Deg2020                   int64\n",
      "Deg2021                   int64\n",
      "Deg2022                   int64\n",
      "Defall                    int64\n",
      "Degall                    int64\n",
      "Stable                    int64\n",
      "NF                        int64\n",
      "ISO                      object\n",
      "dtype: object\n"
     ]
    }
   ],
   "source": [
    "print(merged_ceo_nodup.dtypes)"
   ]
  },
  {
   "cell_type": "code",
   "execution_count": 40,
   "id": "bdde389b",
   "metadata": {},
   "outputs": [],
   "source": [
    "columns_to_convert = ['Def2016','Def2017','Def2018','Def2019','Def2020','Def2021','Def2022','Deg2016','Deg2017','Deg2018','Deg2019','Deg2020','Deg2021','Deg2022','NF']\n",
    "merged_ceo_nodup[columns_to_convert] = merged_ceo_nodup[columns_to_convert].fillna(0)\n",
    "merged_ceo_nodup[columns_to_convert] = merged_ceo_nodup[columns_to_convert].astype(int)"
   ]
  },
  {
   "cell_type": "markdown",
   "id": "60bd0119-9d19-461b-854a-7d1345b01984",
   "metadata": {},
   "source": [
    "### 4. export ceo data to one csv file"
   ]
  },
  {
   "cell_type": "code",
   "execution_count": 41,
   "id": "a3199a69-7b32-4d91-9e59-f2daa370a714",
   "metadata": {
    "tags": []
   },
   "outputs": [],
   "source": [
    "merged_ceo_nodup.to_csv(ceo_data_out,index_label='ID')"
   ]
  },
  {
   "cell_type": "code",
   "execution_count": null,
   "id": "c134d3ca-782e-4838-abe0-3efd822a7183",
   "metadata": {},
   "outputs": [],
   "source": []
  }
 ],
 "metadata": {
  "kernelspec": {
   "display_name": "Python 3",
   "language": "python",
   "name": "python3"
  },
  "language_info": {
   "codemirror_mode": {
    "name": "ipython",
    "version": 3
   },
   "file_extension": ".py",
   "mimetype": "text/x-python",
   "name": "python",
   "nbconvert_exporter": "python",
   "pygments_lexer": "ipython3",
   "version": "3.10.12"
  }
 },
 "nbformat": 4,
 "nbformat_minor": 5
}
