{
 "cells": [
  {
   "cell_type": "markdown",
   "id": "16e26de4-9275-498a-8f05-f9b2cc05a0e1",
   "metadata": {},
   "source": [
    "![title](../images/header.png)\n",
    "\n",
    "Drivers analysis 2015-2023\n",
    "-------\n",
    "This notebook merges all validated data from different CEO CAFI projects for all years and determines the relative driver contribution\n",
    "###### For more information contact aurelie.shapiro@fao.org or remi.dannunzio@fao.org"
   ]
  },
  {
   "cell_type": "code",
   "execution_count": 2,
   "id": "d3327701-cf96-4fd0-9476-a5b31d6a024f",
   "metadata": {},
   "outputs": [],
   "source": [
    "import pandas as pd\n",
    "import numpy as np\n",
    "import matplotlib.pyplot as plt\n",
    "import seaborn as sns\n",
    "pd.set_option('display.max_columns', None)\n",
    "pd.set_option('display.max_rows', None)\n",
    "# Set the display option to a large value to prevent text wrapping\n",
    "pd.set_option('display.max_colwidth', None)"
   ]
  },
  {
   "cell_type": "markdown",
   "id": "ae17ec32-d248-408d-b246-00375858cb6c",
   "metadata": {},
   "source": [
    "### 1. Read all CEO sample files\n",
    "download your CEO sample files from collect.earth and upload to SEPAL using FileZilla.\n",
    "add as many files as you have projects"
   ]
  },
  {
   "cell_type": "code",
   "execution_count": 3,
   "id": "4a8db001-a4e8-46ea-b59e-6c6544c6a3c6",
   "metadata": {},
   "outputs": [],
   "source": [
    "ceo1 = pd.read_csv('/home/sepal-user/module_results/esbae/CAR/CAR_all_ceo_1522_clean.csv',low_memory=False)\n",
    "ceo2 = pd.read_csv('/home/sepal-user/module_results/esbae/CMR/CMR_all_ceo_1522_clean.csv',low_memory=False)\n",
    "ceo3 = pd.read_csv('/home/sepal-user/module_results/esbae/COG/COG_all_ceo_1522_1622_clean.csv',low_memory=False)\n",
    "ceo4 = pd.read_csv('/home/sepal-user/module_results/esbae/DRC/DRC_all_ceo_1522_clean.csv',low_memory=False)\n",
    "ceo5 = pd.read_csv('/home/sepal-user/module_results/esbae/EQG/EQG_all_ceo_2015_2023_clean.csv',low_memory=False)\n",
    "ceo6 = pd.read_csv('/home/sepal-user/module_results/esbae/GAB/GAB_all_ceo_1522_clean.csv',low_memory=False)"
   ]
  },
  {
   "cell_type": "code",
   "execution_count": 4,
   "id": "411b695a-160d-4b68-b3c7-e691b4a3d430",
   "metadata": {},
   "outputs": [],
   "source": [
    "output_drivers = '/home/sepal-user/module_results/esbae/CAFI/CAFI_all_ceo_drivers.csv'"
   ]
  },
  {
   "cell_type": "code",
   "execution_count": 5,
   "id": "1ce61f06-cf76-4f66-85f2-b06b808609bf",
   "metadata": {},
   "outputs": [],
   "source": [
    "# Concatenate DataFrames\n",
    "combined_ceo = pd.concat([ceo1, ceo2, ceo3, ceo4, ceo5, ceo6], axis=0, ignore_index=True)"
   ]
  },
  {
   "cell_type": "code",
   "execution_count": 6,
   "id": "5619f4b0-0944-498a-b8e7-196918de8065",
   "metadata": {},
   "outputs": [
    {
     "data": {
      "text/plain": [
       "41215"
      ]
     },
     "execution_count": 6,
     "metadata": {},
     "output_type": "execute_result"
    }
   ],
   "source": [
    "len(combined_ceo)"
   ]
  },
  {
   "cell_type": "code",
   "execution_count": 7,
   "id": "f81e8663-21f7-4c00-bac3-0b0152a16018",
   "metadata": {},
   "outputs": [
    {
     "data": {
      "text/html": [
       "<div>\n",
       "<style scoped>\n",
       "    .dataframe tbody tr th:only-of-type {\n",
       "        vertical-align: middle;\n",
       "    }\n",
       "\n",
       "    .dataframe tbody tr th {\n",
       "        vertical-align: top;\n",
       "    }\n",
       "\n",
       "    .dataframe thead th {\n",
       "        text-align: right;\n",
       "    }\n",
       "</style>\n",
       "<table border=\"1\" class=\"dataframe\">\n",
       "  <thead>\n",
       "    <tr style=\"text-align: right;\">\n",
       "      <th>Ref_FNF_2015</th>\n",
       "      <th>0.0</th>\n",
       "      <th>1.0</th>\n",
       "      <th>Total</th>\n",
       "    </tr>\n",
       "    <tr>\n",
       "      <th>ISO</th>\n",
       "      <th></th>\n",
       "      <th></th>\n",
       "      <th></th>\n",
       "    </tr>\n",
       "  </thead>\n",
       "  <tbody>\n",
       "    <tr>\n",
       "      <th>CAF</th>\n",
       "      <td>2764</td>\n",
       "      <td>1613</td>\n",
       "      <td>4377</td>\n",
       "    </tr>\n",
       "    <tr>\n",
       "      <th>CMR</th>\n",
       "      <td>3056</td>\n",
       "      <td>3676</td>\n",
       "      <td>6732</td>\n",
       "    </tr>\n",
       "    <tr>\n",
       "      <th>COD</th>\n",
       "      <td>6297</td>\n",
       "      <td>6850</td>\n",
       "      <td>13147</td>\n",
       "    </tr>\n",
       "    <tr>\n",
       "      <th>COG</th>\n",
       "      <td>143</td>\n",
       "      <td>260</td>\n",
       "      <td>403</td>\n",
       "    </tr>\n",
       "    <tr>\n",
       "      <th>EQG</th>\n",
       "      <td>878</td>\n",
       "      <td>3604</td>\n",
       "      <td>4482</td>\n",
       "    </tr>\n",
       "    <tr>\n",
       "      <th>GAB</th>\n",
       "      <td>1386</td>\n",
       "      <td>6956</td>\n",
       "      <td>8342</td>\n",
       "    </tr>\n",
       "    <tr>\n",
       "      <th>Total</th>\n",
       "      <td>14524</td>\n",
       "      <td>22959</td>\n",
       "      <td>37483</td>\n",
       "    </tr>\n",
       "  </tbody>\n",
       "</table>\n",
       "</div>"
      ],
      "text/plain": [
       "Ref_FNF_2015    0.0    1.0  Total\n",
       "ISO                              \n",
       "CAF            2764   1613   4377\n",
       "CMR            3056   3676   6732\n",
       "COD            6297   6850  13147\n",
       "COG             143    260    403\n",
       "EQG             878   3604   4482\n",
       "GAB            1386   6956   8342\n",
       "Total         14524  22959  37483"
      ]
     },
     "execution_count": 7,
     "metadata": {},
     "output_type": "execute_result"
    }
   ],
   "source": [
    "pd.pivot_table(combined_ceo,values='point_id',index=['ISO'],columns=['Ref_FNF_2015'],aggfunc=\"count\",margins=True,\n",
    "                             margins_name='Total')"
   ]
  },
  {
   "cell_type": "code",
   "execution_count": 8,
   "id": "0c9ed012-dcdf-4979-b48a-88c25e5ae788",
   "metadata": {},
   "outputs": [
    {
     "name": "stdout",
     "output_type": "stream",
     "text": [
      "ID                        float64\n",
      "plotid                    float64\n",
      "sampleid                  float64\n",
      "lon                       float64\n",
      "lat                       float64\n",
      "sample_geom                object\n",
      "point_id                  float64\n",
      "Ref_FNF_2015              float64\n",
      "Ref_Regeneration           object\n",
      "Ref_Change_1522           float64\n",
      "Ref_Change_Type_1522       object\n",
      "ArtFor                    float64\n",
      "ArtMine                   float64\n",
      "InfraR                    float64\n",
      "Urb                       float64\n",
      "IndFor                    float64\n",
      "Other                     float64\n",
      "Other_Desc                 object\n",
      "IndMine                   float64\n",
      "IndAg                     float64\n",
      "ArtAg                     float64\n",
      "Ref_Year_1522             float64\n",
      "Ref_NFtype                float64\n",
      "Ref_Ftype                 float64\n",
      "collection                 object\n",
      "interpreted               float64\n",
      "Ref_LCover                float64\n",
      "Ref_Change_Year_1522       object\n",
      "Def2016                   float64\n",
      "Def2017                   float64\n",
      "Def2018                   float64\n",
      "Def2019                   float64\n",
      "Def2020                   float64\n",
      "Def2021                   float64\n",
      "Def2022                   float64\n",
      "Deg2016                   float64\n",
      "Deg2017                   float64\n",
      "Deg2018                   float64\n",
      "Deg2019                   float64\n",
      "Deg2020                   float64\n",
      "Deg2021                   float64\n",
      "Deg2022                   float64\n",
      "Defall                    float64\n",
      "Degall                    float64\n",
      "Stable                    float64\n",
      "NF                        float64\n",
      "ISO                        object\n",
      "Ref_NFtype_2015           float64\n",
      "Ref_Ftype_2015            float64\n",
      "Ref_LCover_2015           float64\n",
      "Ref_Change_LCover_1522     object\n",
      "DensFor                   float64\n",
      "DensDryFor                float64\n",
      "SecFor                    float64\n",
      "DryOpenFor                float64\n",
      "Mangrove                  float64\n",
      "Swamp                     float64\n",
      "Gallery                   float64\n",
      "Plantation                float64\n",
      "Woodland                  float64\n",
      "Shrubland                 float64\n",
      "Grassland                 float64\n",
      "Aquatic                   float64\n",
      "Bare                      float64\n",
      "Cultivated                float64\n",
      "Builtup                   float64\n",
      "Water                     float64\n",
      "DensFor_Def               float64\n",
      "DensDryFor_Def            float64\n",
      "SecFor_Def                float64\n",
      "DryOpenFor_Def            float64\n",
      "Mangrove_Def              float64\n",
      "Swamp_Def                 float64\n",
      "Gallery_Def               float64\n",
      "Plantation_Def            float64\n",
      "Woodland_Def              float64\n",
      "DensFor_Deg               float64\n",
      "DensDryFor_Deg            float64\n",
      "SecFor_Deg                float64\n",
      "DryOpenFor_Deg            float64\n",
      "Mangrove_Deg              float64\n",
      "Swamp_Deg                 float64\n",
      "Gallery_Deg               float64\n",
      "Plantation_Deg            float64\n",
      "Woodland_Deg              float64\n",
      "DensFor_stable            float64\n",
      "DensDryFor_stable         float64\n",
      "SecFor_stable             float64\n",
      "DryOpenFor_stable         float64\n",
      "Mangrove_stable           float64\n",
      "Swamp_stable              float64\n",
      "Gallery_stable            float64\n",
      "Plantation_stable         float64\n",
      "Woodland_stable           float64\n",
      "index                     float64\n",
      "Ref_FNF_2016              float64\n",
      "Ref_Change_1622           float64\n",
      "Ref_Change_Type_1622       object\n",
      "Ref_NFtype_2016           float64\n",
      "Ref_Ftype_2016            float64\n",
      "Ref_Year_1622             float64\n",
      "Ref_Change_Year_1622       object\n",
      "sampling                   object\n",
      "Source                     object\n",
      "Ref_Change_Type            object\n",
      "Ref_Change_Bin            float64\n",
      "Ref_Change_Year            object\n",
      "Ref_Year                  float64\n",
      "plotid_orig               float64\n",
      "CEO_PLOTID                 object\n",
      "CEO_Ref_Code              float64\n",
      "Ref_Change_Type_1520       object\n",
      "Ref_Year_1520             float64\n",
      "countDrivers              float64\n",
      "Ref_Change_Year_1520       object\n",
      "Change_Bin_1520           float64\n",
      "UniqueID                  float64\n",
      "ID.1                      float64\n",
      "TNT_stratum               float64\n",
      "Ref_FNF_2022              float64\n",
      "Ref_Change_2023           float64\n",
      "Ref_Change_Type_2023       object\n",
      "Ref_NFtype_2022           float64\n",
      "Ref_Ftype_2022            float64\n",
      "Ref_LCover_2022           float64\n",
      "Ref_Change_Year_2023       object\n",
      "Def2023                   float64\n",
      "Deg2023                   float64\n",
      "Ref_LCover_combined       float64\n",
      "Combined_Ref_FNF          float64\n",
      "dtype: object\n"
     ]
    }
   ],
   "source": [
    "print(combined_ceo.dtypes)"
   ]
  },
  {
   "cell_type": "code",
   "execution_count": 9,
   "id": "3635386c-27ca-4725-96d0-ad4d0353f66d",
   "metadata": {},
   "outputs": [],
   "source": [
    "combined_ceo['CountDrivers'] = combined_ceo[['ArtFor','ArtMine',\n",
    "                                             'InfraR','Urb','IndFor','Other',\n",
    "                                             'IndMine','IndAg','ArtAg']].sum(axis=1)"
   ]
  },
  {
   "cell_type": "code",
   "execution_count": 10,
   "id": "cdfa0786-f775-4b8c-8e14-3178acc6afd7",
   "metadata": {},
   "outputs": [
    {
     "data": {
      "text/plain": [
       "IndDrivers\n",
       "False    40991\n",
       "True       224\n",
       "Name: count, dtype: int64"
      ]
     },
     "execution_count": 10,
     "metadata": {},
     "output_type": "execute_result"
    }
   ],
   "source": [
    "combined_ceo['IndDrivers'] = (combined_ceo['IndAg'] == 1) | (combined_ceo['IndFor'] == 1) | (combined_ceo['IndMine'] == 1)\n",
    "combined_ceo['IndDrivers'].value_counts(dropna=False)"
   ]
  },
  {
   "cell_type": "code",
   "execution_count": 11,
   "id": "4023b75e-e06c-4bfb-a15b-bcccbb25b6d9",
   "metadata": {},
   "outputs": [],
   "source": [
    "# Function to determine 'GroupedDrivers'\n",
    "def determine_grouped_drivers(row):\n",
    "    if row['CountDrivers'] == 0:\n",
    "        return \"\"\n",
    "    elif row['ArtMine'] == 1 and row['IndDrivers'] == \"False\":\n",
    "        return \"artisanal mining\"\n",
    "    elif row['ArtMine'] == 1 and row['CountDrivers'] <= 2:\n",
    "        return \"artisanal mining\"\n",
    "    elif row['IndMine'] == 1:\n",
    "        return \"industrial mining\"\n",
    "    elif row['IndAg'] == 1 and row['IndFor'] == 1 and row['IndMine'] == 0:\n",
    "        return \"industrial forestry and agriculture\"\n",
    "    elif row['IndFor'] == 1 and row['IndAg'] == 0 and row['IndMine'] == 0:\n",
    "        return \"industrial forestry\"\n",
    "    elif row['IndAg'] == 1 and row['IndFor'] == 0 and row['IndMine'] == 0:\n",
    "        return \"industrial agriculture\"\n",
    "    elif row['ArtFor'] == 1 and row['ArtAg'] == 0 and row['ArtMine'] == 0 and row['IndDrivers'] == \"False\":\n",
    "        return \"artisanal forestry\"\n",
    "    elif row['ArtAg'] == 1 and row['InfraR'] == 1 and row['CountDrivers'] <= 2 and row['ArtMine'] == 0:\n",
    "        return \"infrastructure agriculture\"\n",
    "    elif row['CountDrivers'] <= 2 and row['ArtAg'] == 0 and (row['InfraR'] == 1 or row['Urb'] == 1) and row['IndDrivers'] == \"False\":\n",
    "        return \"human infrastructure\"\n",
    "    elif row['ArtFor'] == 1 and row['CountDrivers'] == 1:\n",
    "        return \"artisanal forestry\"\n",
    "    elif row['CountDrivers'] == 1 and row['Other'] == 1:\n",
    "        return \"other\"\n",
    "    else:\n",
    "        return \"rural complex\"\n",
    "\n",
    "# Apply the function to create the new column\n",
    "combined_ceo['GroupedDrivers'] = combined_ceo.apply(determine_grouped_drivers, axis=1)"
   ]
  },
  {
   "cell_type": "code",
   "execution_count": 12,
   "id": "30f28356-2a21-43dc-a078-b002a9531b4e",
   "metadata": {},
   "outputs": [
    {
     "data": {
      "text/plain": [
       "GroupedDrivers\n",
       "                                       38715\n",
       "rural complex                           1941\n",
       "artisanal forestry                       235\n",
       "industrial forestry                      132\n",
       "industrial agriculture                    68\n",
       "infrastructure agriculture                45\n",
       "other                                     43\n",
       "industrial mining                         21\n",
       "artisanal mining                          12\n",
       "industrial forestry and agriculture        3\n",
       "Name: count, dtype: int64"
      ]
     },
     "execution_count": 12,
     "metadata": {},
     "output_type": "execute_result"
    }
   ],
   "source": [
    "combined_ceo['GroupedDrivers'].value_counts(dropna=False)"
   ]
  },
  {
   "cell_type": "code",
   "execution_count": 36,
   "id": "31a22ebb-8ceb-4486-bee9-19677e0a2c48",
   "metadata": {},
   "outputs": [
    {
     "data": {
      "image/png": "[encoded data removed]",
      "text/plain": [
       "<Figure size 1000x700 with 1 Axes>"
      ]
     },
     "metadata": {},
     "output_type": "display_data"
    }
   ],
   "source": [
    "# Filter out blank values\n",
    "filtered_df = combined_ceo[combined_ceo['GroupedDrivers'] != '']\n",
    "\n",
    "# Count the occurrences of each value\n",
    "grouped_counts = filtered_df['GroupedDrivers'].value_counts()\n",
    "\n",
    "# Sort the counts in descending order\n",
    "grouped_counts = grouped_counts.sort_values(ascending=True)\n",
    "\n",
    "# Plot the pie chart with sorted values and smaller text labels\n",
    "plt.figure(figsize=(10, 7))\n",
    "plt.pie(\n",
    "    grouped_counts, \n",
    "    labels=grouped_counts.index, \n",
    "    autopct='%1.1f%%', \n",
    "    startangle=325,\n",
    "    textprops={'fontsize': 8}  # Adjust the fontsize here\n",
    ")\n",
    "# Add a title\n",
    "plt.title('Distribution of Grouped Drivers')\n",
    "\n",
    "# Show the plot\n",
    "plt.show()"
   ]
  },
  {
   "cell_type": "code",
   "execution_count": 30,
   "id": "376eb31f-6167-4189-8cf7-44f9684df91c",
   "metadata": {},
   "outputs": [],
   "source": [
    "# select columns to extract\n",
    "columns_to_extract = ['Ref_FNF_2015','Ref_Regeneration','Ref_Change_Year',\n",
    "'Ref_Change_Type','Ref_LCover_combined','Combined_Ref_FNF','Ref_NFtype','Ref_Ftype','ArtFor','ArtMine','InfraR','Urb',\n",
    "'IndFor','IndMine','IndAg','ArtAg','Other','Other_Desc','CountDrivers','GroupedDrivers']\n",
    "\n",
    "# Extract the specified columns\n",
    "select_df = combined_ceo[columns_to_extract]"
   ]
  },
  {
   "cell_type": "code",
   "execution_count": 34,
   "id": "dff6c4fe-3bbc-459c-bf34-6b03239540f6",
   "metadata": {},
   "outputs": [],
   "source": [
    "select_df.to_csv(output_drivers,index_label='ID')"
   ]
  },
  {
   "cell_type": "code",
   "execution_count": null,
   "id": "0bf5d1c1-f309-4b0f-9337-a5bbecba30e1",
   "metadata": {},
   "outputs": [],
   "source": []
  }
 ],
 "metadata": {
  "kernelspec": {
   "display_name": "Python 3",
   "language": "python",
   "name": "python3"
  },
  "language_info": {
   "codemirror_mode": {
    "name": "ipython",
    "version": 3
   },
   "file_extension": ".py",
   "mimetype": "text/x-python",
   "name": "python",
   "nbconvert_exporter": "python",
   "pygments_lexer": "ipython3",
   "version": "3.10.12"
  }
 },
 "nbformat": 4,
 "nbformat_minor": 5
}
