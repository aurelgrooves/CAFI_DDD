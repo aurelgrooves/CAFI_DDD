{
 "cells": [
  {
   "cell_type": "markdown",
   "id": "54888318-08a9-408f-ba85-7bbcfa38f1b7",
   "metadata": {
    "tags": []
   },
   "source": [
    "![title](images/header.png)\n",
    "# VI - Calculating areas of change and confidence intervals\n",
    "-------\n",
    "This notebook estimates of areas of change for all categories using the entire database of systematic points, and calculates the margin of error based on the visually interpreted data \n",
    "This script requires a m4 instance\n",
    "###### For more information contact aurelie.shapiro@fao.org or remi.dannunzio@fao.org"
   ]
  },
  {
   "cell_type": "code",
   "execution_count": 1,
   "id": "ca0aabc4-ea60-48ec-bd1c-c4fb4b63d0e9",
   "metadata": {
    "tags": []
   },
   "outputs": [],
   "source": [
    "import pandas as pd\n",
    "import numpy as np\n",
    "import seaborn as sns\n",
    "from matplotlib import pyplot as plt\n",
    "import matplotlib.ticker as mtick\n",
    "import matplotlib.pyplot as plt"
   ]
  },
  {
   "cell_type": "markdown",
   "id": "f403562c-5836-4703-9ca4-1e2701df272a",
   "metadata": {},
   "source": [
    "### 1 - Read files and set parameters\n",
    "read the output merged file with the classification of all eSBAE points from script 5e"
   ]
  },
  {
   "cell_type": "code",
   "execution_count": 2,
   "id": "be527498",
   "metadata": {
    "tags": []
   },
   "outputs": [],
   "source": [
    "#GAB\n",
    "df = pd.read_csv('/home/sepal-user/module_results/esbae/GAB/GAB_esbae_supervised_class_1522.csv', low_memory=False)\n",
    "#DRC\n",
    "#df = pd.read_csv('/home/sepal-user/module_results/esbae/DRC/DRC_esbae_supervised_class_1522.csv', low_memory=False)\n",
    "#with provinces\n",
    "#df = pd.read_csv('/home/sepal-user/module_results/esbae/DRC/DRC_esbae_supervised_class_1522_terr.csv', low_memory=False)\n",
    "#COG\n",
    "#df = pd.read_csv('/home/sepal-user/module_results/esbae/COG/COG_esbae_supervised_class_1522.csv', low_memory=False)\n",
    "#CMR\n",
    "#df = pd.read_csv('/home/sepal-user/module_results/esbae/CMR/CMR_esbae_supervised_class_1522.csv', low_memory=False)\n",
    "#EQG\n",
    "#df = pd.read_csv('/home/sepal-user/module_results/esbae/EQG/EQG_esbae_supervised_class_1522.csv', low_memory=False)\n",
    "#CAR\n",
    "#df = pd.read_csv('/home/sepal-user/module_results/esbae/CAR/CAR_esbae_supervised_class_1522.csv', low_memory=False)"
   ]
  },
  {
   "cell_type": "code",
   "execution_count": 3,
   "id": "c1ec8728-6fe7-4e6b-a829-38cd0b263206",
   "metadata": {
    "tags": []
   },
   "outputs": [
    {
     "data": {
      "text/html": [
       "<div>\n",
       "<style scoped>\n",
       "    .dataframe tbody tr th:only-of-type {\n",
       "        vertical-align: middle;\n",
       "    }\n",
       "\n",
       "    .dataframe tbody tr th {\n",
       "        vertical-align: top;\n",
       "    }\n",
       "\n",
       "    .dataframe thead th {\n",
       "        text-align: right;\n",
       "    }\n",
       "</style>\n",
       "<table border=\"1\" class=\"dataframe\">\n",
       "  <thead>\n",
       "    <tr style=\"text-align: right;\">\n",
       "      <th>stratum</th>\n",
       "      <th>1</th>\n",
       "      <th>2</th>\n",
       "      <th>3</th>\n",
       "    </tr>\n",
       "    <tr>\n",
       "      <th>Sim_CEO_Ref_Change_Year_1522</th>\n",
       "      <th></th>\n",
       "      <th></th>\n",
       "      <th></th>\n",
       "    </tr>\n",
       "  </thead>\n",
       "  <tbody>\n",
       "    <tr>\n",
       "      <th>Def2016</th>\n",
       "      <td>NaN</td>\n",
       "      <td>29.0</td>\n",
       "      <td>224.0</td>\n",
       "    </tr>\n",
       "    <tr>\n",
       "      <th>Def2017</th>\n",
       "      <td>2.0</td>\n",
       "      <td>9.0</td>\n",
       "      <td>143.0</td>\n",
       "    </tr>\n",
       "    <tr>\n",
       "      <th>Def2018</th>\n",
       "      <td>NaN</td>\n",
       "      <td>9.0</td>\n",
       "      <td>126.0</td>\n",
       "    </tr>\n",
       "    <tr>\n",
       "      <th>Def2019</th>\n",
       "      <td>NaN</td>\n",
       "      <td>5.0</td>\n",
       "      <td>120.0</td>\n",
       "    </tr>\n",
       "    <tr>\n",
       "      <th>Def2020</th>\n",
       "      <td>NaN</td>\n",
       "      <td>13.0</td>\n",
       "      <td>113.0</td>\n",
       "    </tr>\n",
       "    <tr>\n",
       "      <th>Def2021</th>\n",
       "      <td>NaN</td>\n",
       "      <td>15.0</td>\n",
       "      <td>114.0</td>\n",
       "    </tr>\n",
       "    <tr>\n",
       "      <th>Def2022</th>\n",
       "      <td>2.0</td>\n",
       "      <td>41.0</td>\n",
       "      <td>243.0</td>\n",
       "    </tr>\n",
       "    <tr>\n",
       "      <th>Deg2016</th>\n",
       "      <td>1.0</td>\n",
       "      <td>6.0</td>\n",
       "      <td>75.0</td>\n",
       "    </tr>\n",
       "    <tr>\n",
       "      <th>Deg2017</th>\n",
       "      <td>1.0</td>\n",
       "      <td>1.0</td>\n",
       "      <td>143.0</td>\n",
       "    </tr>\n",
       "    <tr>\n",
       "      <th>Deg2018</th>\n",
       "      <td>NaN</td>\n",
       "      <td>4.0</td>\n",
       "      <td>151.0</td>\n",
       "    </tr>\n",
       "    <tr>\n",
       "      <th>Deg2019</th>\n",
       "      <td>NaN</td>\n",
       "      <td>1.0</td>\n",
       "      <td>154.0</td>\n",
       "    </tr>\n",
       "    <tr>\n",
       "      <th>Deg2020</th>\n",
       "      <td>1.0</td>\n",
       "      <td>9.0</td>\n",
       "      <td>210.0</td>\n",
       "    </tr>\n",
       "    <tr>\n",
       "      <th>Deg2021</th>\n",
       "      <td>NaN</td>\n",
       "      <td>15.0</td>\n",
       "      <td>181.0</td>\n",
       "    </tr>\n",
       "    <tr>\n",
       "      <th>Deg2022</th>\n",
       "      <td>2.0</td>\n",
       "      <td>18.0</td>\n",
       "      <td>165.0</td>\n",
       "    </tr>\n",
       "    <tr>\n",
       "      <th>NF</th>\n",
       "      <td>14327.0</td>\n",
       "      <td>10397.0</td>\n",
       "      <td>7404.0</td>\n",
       "    </tr>\n",
       "    <tr>\n",
       "      <th>Stable</th>\n",
       "      <td>108428.0</td>\n",
       "      <td>68230.0</td>\n",
       "      <td>11746.0</td>\n",
       "    </tr>\n",
       "  </tbody>\n",
       "</table>\n",
       "</div>"
      ],
      "text/plain": [
       "stratum                              1        2        3\n",
       "Sim_CEO_Ref_Change_Year_1522                            \n",
       "Def2016                            NaN     29.0    224.0\n",
       "Def2017                            2.0      9.0    143.0\n",
       "Def2018                            NaN      9.0    126.0\n",
       "Def2019                            NaN      5.0    120.0\n",
       "Def2020                            NaN     13.0    113.0\n",
       "Def2021                            NaN     15.0    114.0\n",
       "Def2022                            2.0     41.0    243.0\n",
       "Deg2016                            1.0      6.0     75.0\n",
       "Deg2017                            1.0      1.0    143.0\n",
       "Deg2018                            NaN      4.0    151.0\n",
       "Deg2019                            NaN      1.0    154.0\n",
       "Deg2020                            1.0      9.0    210.0\n",
       "Deg2021                            NaN     15.0    181.0\n",
       "Deg2022                            2.0     18.0    165.0\n",
       "NF                             14327.0  10397.0   7404.0\n",
       "Stable                        108428.0  68230.0  11746.0"
      ]
     },
     "execution_count": 3,
     "metadata": {},
     "output_type": "execute_result"
    }
   ],
   "source": [
    "pd.pivot_table(df,values='point_id',index=['Sim_CEO_Ref_Change_Year_1522'],columns=['stratum'],aggfunc=\"count\")"
   ]
  },
  {
   "cell_type": "code",
   "execution_count": 4,
   "id": "05faa27f-7db5-4169-bdfd-78d204a8e6f9",
   "metadata": {
    "tags": []
   },
   "outputs": [],
   "source": [
    "#pd.pivot_table(df,values='point_id',index=['Province'],columns=['interpreted'],aggfunc=\"count\")"
   ]
  },
  {
   "cell_type": "code",
   "execution_count": 5,
   "id": "f3fc1f53-332f-44f6-87fa-88bc7453c811",
   "metadata": {
    "tags": []
   },
   "outputs": [
    {
     "name": "stdout",
     "output_type": "stream",
     "text": [
      "['Unnamed: 0' 'images' 'mon_images' 'bfast_change_date' 'bfast_magnitude'\n",
      " 'bfast_means' 'cusum_change_date' 'cusum_confidence' 'cusum_magnitude'\n",
      " 'red_mean' 'red_sd' 'red_min' 'red_max' 'nir_mean' 'nir_sd' 'nir_min'\n",
      " 'nir_max' 'swir1_mean' 'swir1_sd' 'swir1_min' 'swir1_max' 'swir2_mean'\n",
      " 'swir2_sd' 'swir2_min' 'swir2_max' 'ndfi_mean' 'ndfi_sd' 'ndfi_min'\n",
      " 'ndfi_max' 'brightness_mean' 'brightness_sd' 'brightness_min'\n",
      " 'brightness_max' 'greenness_mean' 'greenness_sd' 'greenness_min'\n",
      " 'greenness_max' 'wetness_mean' 'wetness_sd' 'wetness_min' 'wetness_max'\n",
      " 'bs_slope_mean' 'bs_slope_sd' 'bs_slope_max' 'bs_slope_min'\n",
      " 'ewma_jrc_date' 'ewma_jrc_change' 'ewma_jrc_magnitude' 'mosum_jrc_date'\n",
      " 'mosum_jrc_change' 'mosum_jrc_magnitude' 'cusum_jrc_date'\n",
      " 'cusum_jrc_change' 'cusum_jrc_magnitude' 'ccdc_change_date'\n",
      " 'ccdc_magnitude' 'aspect' 'dw_class_mode' 'dw_tree_prob__max'\n",
      " 'dw_tree_prob__min' 'dw_tree_prob__stdDev' 'dw_tree_prob_mean'\n",
      " 'elevation' 'esa_lc20' 'esa_lc21' 'esri_lc17' 'esri_lc18' 'esri_lc19'\n",
      " 'esri_lc20' 'esri_lc21' 'gfc_gain' 'gfc_loss' 'gfc_lossyear' 'gfc_tc00'\n",
      " 'lang_tree_height' 'potapov_tree_height' 'slope' 'tmf_2016' 'tmf_2017'\n",
      " 'tmf_2018' 'tmf_2019' 'tmf_2020' 'tmf_defyear' 'tmf_degyear' 'tmf_main'\n",
      " 'tmf_sub' 'geometry' 'point_id' 'Change_Bin' 'Def_Bin' 'Deg_Bin'\n",
      " 'CAFI_LC_2015' 'chg_prob_cafi1520' 'def_prob_cafi1520'\n",
      " 'deg_prob_cafi1520' 'simple_combined' 'stratum' 'kmeans_chg' 'kmeans_def'\n",
      " 'kmeans_deg' 'plotid' 'lon' 'lat' 'sampleid' 'email' 'flagged'\n",
      " 'collection_time' 'analysis_duration' 'sample_geom' 'chg_prob'\n",
      " 'Ref_FNF_2015' 'Ref_Regeneration' 'Ref_Change_1522'\n",
      " 'Ref_Change_Type_1522' 'ArtFor' 'ArtMine' 'InfraR' 'Urb' 'IndFor' 'Other'\n",
      " 'Other_Desc' 'IndMine' 'IndAg' 'ArtAg' 'Ref_Year' 'Ref_NFtype'\n",
      " 'Ref_Ftype' 'Commentaires' 'collection' 'interpreted' 'Ref_LCtype'\n",
      " 'Ref_Change_Year_1522' 'Def2016' 'Def2017' 'Def2018' 'Def2019' 'Def2020'\n",
      " 'Def2021' 'Def2022' 'Deg2016' 'Deg2017' 'Deg2018' 'Deg2019' 'Deg2020'\n",
      " 'Deg2021' 'Deg2022' 'Defall' 'Degall' 'Stable' 'NF' 'sampling' 'def_prob'\n",
      " 'deg_prob' 'stable_prob' 'nf_prob' 'sim_def' 'sim_deg' 'sim_stable'\n",
      " 'sim_nf' 'max_prob' 'prob_class' 'Count' 'balRF_pred' 'RF_pred'\n",
      " 'CART_pred' 'cusum_change_year' 'ccdc_change_year' 'bfast_change_year'\n",
      " 'Sim_Ref_Change_Year_1522' 'Sim_CEO_Ref_Change_Type_1522'\n",
      " 'Sim_CEO_Ref_Change_Year_1522']\n"
     ]
    }
   ],
   "source": [
    "print(df.columns.values)"
   ]
  },
  {
   "cell_type": "code",
   "execution_count": 6,
   "id": "82ce38ff-7d34-423c-a950-f1c937717c22",
   "metadata": {
    "tags": []
   },
   "outputs": [
    {
     "name": "stdout",
     "output_type": "stream",
     "text": [
      "222878\n"
     ]
    }
   ],
   "source": [
    "print(len(df))"
   ]
  },
  {
   "cell_type": "code",
   "execution_count": 7,
   "id": "cbee4a03-e128-45d4-b577-147c20012104",
   "metadata": {
    "tags": []
   },
   "outputs": [
    {
     "name": "stdout",
     "output_type": "stream",
     "text": [
      "stratum\n",
      "1    122764\n",
      "2     78802\n",
      "3     21312\n",
      "Name: count, dtype: int64\n"
     ]
    }
   ],
   "source": [
    "# use these strata counts for area estimation with Excel\n",
    "strata_counts = df['stratum'].value_counts().sort_index()\n",
    "print(strata_counts)"
   ]
  },
  {
   "cell_type": "code",
   "execution_count": 8,
   "id": "bbf65ec5-9e81-4fbc-8a32-6308281acc1d",
   "metadata": {},
   "outputs": [
    {
     "data": {
      "text/html": [
       "<div>\n",
       "<style scoped>\n",
       "    .dataframe tbody tr th:only-of-type {\n",
       "        vertical-align: middle;\n",
       "    }\n",
       "\n",
       "    .dataframe tbody tr th {\n",
       "        vertical-align: top;\n",
       "    }\n",
       "\n",
       "    .dataframe thead th {\n",
       "        text-align: right;\n",
       "    }\n",
       "</style>\n",
       "<table border=\"1\" class=\"dataframe\">\n",
       "  <thead>\n",
       "    <tr style=\"text-align: right;\">\n",
       "      <th>stratum</th>\n",
       "      <th>1</th>\n",
       "      <th>2</th>\n",
       "      <th>3</th>\n",
       "    </tr>\n",
       "    <tr>\n",
       "      <th>interpreted</th>\n",
       "      <th></th>\n",
       "      <th></th>\n",
       "      <th></th>\n",
       "    </tr>\n",
       "  </thead>\n",
       "  <tbody>\n",
       "    <tr>\n",
       "      <th>0</th>\n",
       "      <td>120851</td>\n",
       "      <td>74983</td>\n",
       "      <td>18671</td>\n",
       "    </tr>\n",
       "    <tr>\n",
       "      <th>1</th>\n",
       "      <td>1913</td>\n",
       "      <td>3819</td>\n",
       "      <td>2641</td>\n",
       "    </tr>\n",
       "  </tbody>\n",
       "</table>\n",
       "</div>"
      ],
      "text/plain": [
       "stratum           1      2      3\n",
       "interpreted                      \n",
       "0            120851  74983  18671\n",
       "1              1913   3819   2641"
      ]
     },
     "execution_count": 8,
     "metadata": {},
     "output_type": "execute_result"
    }
   ],
   "source": [
    "pd.pivot_table(df,values='point_id',index=['interpreted'],columns=['stratum'],aggfunc=\"count\")"
   ]
  },
  {
   "cell_type": "code",
   "execution_count": 9,
   "id": "bc5e5cde-83f5-4b85-a216-a53e1a9951be",
   "metadata": {
    "tags": []
   },
   "outputs": [],
   "source": [
    "def calculate_areas(db_total, strata_column, categories_column, interpretation_column, total_area, z_score):\n",
    "    #total database all eSBAE points\n",
    "    df_full = db_total.copy()\n",
    "    # only CEO interpreted points\n",
    "    df_interpreted = db_total[db_total[interpretation_column]==1]\n",
    "    df_4calc       = db_total[~db_total[categories_column].isna()]\n",
    "    \n",
    "    # get all attributes\n",
    "    categories = df_4calc[categories_column].unique()\n",
    "    \n",
    "    # get strata\n",
    "    strata, d = df_4calc[strata_column].unique(), {}\n",
    "    print(categories)\n",
    "    # create stats for each entry\n",
    "    for category in categories:\n",
    "        \n",
    "        if str(category) == 'nan':\n",
    "            continue\n",
    "            \n",
    "        print(f' Calculating stats for {category}')\n",
    "        # create binary class column\n",
    "        df_4calc[category] =  df_4calc[categories_column].apply(lambda x: 1 if x == category else 0)\n",
    "        df_interpreted[category] =  df_interpreted[categories_column].apply(lambda x: 1 if x == category else 0)\n",
    "        \n",
    "        print(f'We use {df_4calc[category].sum()} entries for area calculation of {category} in {categories_column}.')\n",
    "        print(f'We use {df_interpreted[category].sum()} entries for margin of error calculation of {category} in {categories_column}.')\n",
    "        \n",
    "        # initialize variables for category <> check the catergories > def, deg, gain\n",
    "        categories_area, se_total = 0, 0\n",
    "        d2 = {}\n",
    "        for stratum in strata:\n",
    "                        \n",
    "            if str(stratum) == 'nan':\n",
    "                continue\n",
    "            \n",
    "            # subset to stratum\n",
    "            df_stratum = df_full[df_full[strata_column] == stratum]\n",
    "            \n",
    "            # get area proportion for that stratum on full dataset\n",
    "            proportion_strata = len(df_stratum)/len(df_full)\n",
    "\n",
    "            # get stratum area (ha)\n",
    "            stratum_area = proportion_strata * total_area\n",
    "\n",
    "            # get proportion of forest change within strata from interpreted data\n",
    "            proportion_category = len(\n",
    "                df_4calc[(df_4calc[strata_column] == stratum) & (df_4calc[category] == 1)]\n",
    "            ) / len(\n",
    "                df_4calc[df_4calc[strata_column] == stratum]\n",
    "            )\n",
    "            \n",
    "            # get area from proportion and full area\n",
    "            category_stratum_area = proportion_category * stratum_area\n",
    "\n",
    "            # get error from interpreted data for full stratum area\n",
    "            # variance of binary class in single stratum\n",
    "            var = np.var(df_interpreted[category][df_interpreted[strata_column] == stratum])\n",
    "            sd = np.sqrt(var)  \n",
    "            # number of interpreted points in the stratum\n",
    "            n = len(df_interpreted[df_interpreted[strata_column] == stratum])\n",
    "            se = sd/np.sqrt(n) * stratum_area\n",
    "                          \n",
    "            # add all stratum for totals\n",
    "            categories_area += category_stratum_area\n",
    "            se_total += se**2\n",
    "            \n",
    "            # add to dictionary\n",
    "            d2[f'area_stratum_{stratum}'] = category_stratum_area\n",
    "            d2[f'ci_stratum_{stratum}']=z_score*se\n",
    "        \n",
    "        d2['area_total'] = categories_area\n",
    "        d2['MOE'] = z_score*np.sqrt(se_total)\n",
    "        d2['MOE_perc'] =  d2['MOE'] / categories_area * 100\n",
    "        d[category] = d2\n",
    "    \n",
    "    #pd.set_option('display.float_format', '{:.2f}'.format)\n",
    "    # Format numbers with commas as thousand separators\n",
    "    pd.options.display.float_format = '{:,.0f}'.format\n",
    "    \n",
    "    # Create the pivot table\n",
    "    pivot_table = pd.pivot_table(df_full, values='point_id', index=[strata_column], columns=[categories_column], aggfunc=\"count\", dropna=False)\n",
    "\n",
    "    # Sort the index\n",
    "    pivot_table = pivot_table.sort_index()\n",
    "    print(pivot_table)\n",
    "    # Print the sorted pivot table\n",
    "    #print(pd.pivot_table(df_full,values='point_id',index=[strata_column],columns=[categories_column],aggfunc=\"count\",dropna= False))\n",
    "    \n",
    "    return pd.DataFrame.from_dict(d, orient='index')"
   ]
  },
  {
   "cell_type": "markdown",
   "id": "ace36e49-9b9e-43d1-acbb-ef9c06616dc0",
   "metadata": {},
   "source": [
    "### Enter Parameters"
   ]
  },
  {
   "cell_type": "code",
   "execution_count": 13,
   "id": "86e055d0-7cf5-4afc-b41f-29b80e760bbf",
   "metadata": {},
   "outputs": [],
   "source": [
    "# country area (ha)\n",
    "GAB_area = 26287600\n",
    "DRC_area = 232798200\n",
    "COG_area = 34402400\n",
    "CMR_area = 46497000\n",
    "EQG_area = 2685800\n",
    "CAR_area = 62009300"
   ]
  },
  {
   "cell_type": "markdown",
   "id": "db39f2f4-a3fc-40dd-b5b6-f5b47bbf725b",
   "metadata": {},
   "source": [
    "#### options for categories_column\n",
    "###### for CEO interpreted data only change types in each year: 'Ref_Change_Year_1522'\n",
    "###### for CEO interpreted data only for all years: 'Ref_Change_Type_1522'\n",
    "###### for all modeled points annual changes: 'Sim_CEO_Ref_Change_Year_1522'\n",
    "###### for all modeled points all years: 'Sim_CEO_Ref_Change_Type_1522'"
   ]
  },
  {
   "cell_type": "code",
   "execution_count": 14,
   "id": "a904c2c0-ad0d-4cd8-9ea1-bb5266e3ae99",
   "metadata": {
    "tags": []
   },
   "outputs": [],
   "source": [
    "#only for DRC list points by provinces\n",
    "#provinces = df['Province'].value_counts().sort_index()\n",
    "#print(provinces)"
   ]
  },
  {
   "cell_type": "code",
   "execution_count": 30,
   "id": "e53f9729-64de-4890-a147-da657e2628bf",
   "metadata": {
    "tags": []
   },
   "outputs": [],
   "source": [
    "z_score = 1.647\n",
    "db_total = df\n",
    "#for DRC\n",
    "#db_total= df[df['Province'] == 'Sud-Ubangi']\n",
    "strata_column = 'stratum'\n",
    "categories_column = 'Ref_Change_Type_1522' # Sim_CEO_Ref_Change_Year_1522 select column based on above\n",
    "interpretation_column = 'interpreted'\n",
    "total_area = GAB_area #enter area from above\n",
    "output_directory = '/home/sepal-user/module_results/esbae/GAB/'\n",
    "file_prefix = 'GAB_annual'\n",
    "index_name = 'ChangeType' #for all years 'ChangeType' or 'ChangeYear' for annual data"
   ]
  },
  {
   "cell_type": "code",
   "execution_count": 31,
   "id": "b0f71599-acb7-475d-a83f-00eb999df295",
   "metadata": {
    "tags": []
   },
   "outputs": [
    {
     "name": "stdout",
     "output_type": "stream",
     "text": [
      "['Stable' 'NF' 'Deg' 'Def']\n",
      " Calculating stats for Stable\n",
      "We use 6720 entries for area calculation of Stable in Ref_Change_Type_1522.\n",
      "We use 6720 entries for margin of error calculation of Stable in Ref_Change_Type_1522.\n",
      " Calculating stats for NF\n",
      "We use 1366 entries for area calculation of NF in Ref_Change_Type_1522.\n",
      "We use 1366 entries for margin of error calculation of NF in Ref_Change_Type_1522.\n"
     ]
    },
    {
     "name": "stderr",
     "output_type": "stream",
     "text": [
      "/tmp/ipykernel_466/3651631007.py:22: SettingWithCopyWarning: \n",
      "A value is trying to be set on a copy of a slice from a DataFrame.\n",
      "Try using .loc[row_indexer,col_indexer] = value instead\n",
      "\n",
      "See the caveats in the documentation: https://pandas.pydata.org/pandas-docs/stable/user_guide/indexing.html#returning-a-view-versus-a-copy\n",
      "  df_4calc[category] =  df_4calc[categories_column].apply(lambda x: 1 if x == category else 0)\n",
      "/tmp/ipykernel_466/3651631007.py:23: SettingWithCopyWarning: \n",
      "A value is trying to be set on a copy of a slice from a DataFrame.\n",
      "Try using .loc[row_indexer,col_indexer] = value instead\n",
      "\n",
      "See the caveats in the documentation: https://pandas.pydata.org/pandas-docs/stable/user_guide/indexing.html#returning-a-view-versus-a-copy\n",
      "  df_interpreted[category] =  df_interpreted[categories_column].apply(lambda x: 1 if x == category else 0)\n",
      "/tmp/ipykernel_466/3651631007.py:22: SettingWithCopyWarning: \n",
      "A value is trying to be set on a copy of a slice from a DataFrame.\n",
      "Try using .loc[row_indexer,col_indexer] = value instead\n",
      "\n",
      "See the caveats in the documentation: https://pandas.pydata.org/pandas-docs/stable/user_guide/indexing.html#returning-a-view-versus-a-copy\n",
      "  df_4calc[category] =  df_4calc[categories_column].apply(lambda x: 1 if x == category else 0)\n",
      "/tmp/ipykernel_466/3651631007.py:23: SettingWithCopyWarning: \n",
      "A value is trying to be set on a copy of a slice from a DataFrame.\n",
      "Try using .loc[row_indexer,col_indexer] = value instead\n",
      "\n",
      "See the caveats in the documentation: https://pandas.pydata.org/pandas-docs/stable/user_guide/indexing.html#returning-a-view-versus-a-copy\n",
      "  df_interpreted[category] =  df_interpreted[categories_column].apply(lambda x: 1 if x == category else 0)\n"
     ]
    },
    {
     "name": "stdout",
     "output_type": "stream",
     "text": [
      " Calculating stats for Deg\n",
      "We use 213 entries for area calculation of Deg in Ref_Change_Type_1522.\n",
      "We use 213 entries for margin of error calculation of Deg in Ref_Change_Type_1522.\n",
      " Calculating stats for Def\n",
      "We use 74 entries for area calculation of Def in Ref_Change_Type_1522.\n",
      "We use 74 entries for margin of error calculation of Def in Ref_Change_Type_1522.\n"
     ]
    },
    {
     "name": "stderr",
     "output_type": "stream",
     "text": [
      "/tmp/ipykernel_466/3651631007.py:22: SettingWithCopyWarning: \n",
      "A value is trying to be set on a copy of a slice from a DataFrame.\n",
      "Try using .loc[row_indexer,col_indexer] = value instead\n",
      "\n",
      "See the caveats in the documentation: https://pandas.pydata.org/pandas-docs/stable/user_guide/indexing.html#returning-a-view-versus-a-copy\n",
      "  df_4calc[category] =  df_4calc[categories_column].apply(lambda x: 1 if x == category else 0)\n",
      "/tmp/ipykernel_466/3651631007.py:23: SettingWithCopyWarning: \n",
      "A value is trying to be set on a copy of a slice from a DataFrame.\n",
      "Try using .loc[row_indexer,col_indexer] = value instead\n",
      "\n",
      "See the caveats in the documentation: https://pandas.pydata.org/pandas-docs/stable/user_guide/indexing.html#returning-a-view-versus-a-copy\n",
      "  df_interpreted[category] =  df_interpreted[categories_column].apply(lambda x: 1 if x == category else 0)\n",
      "/tmp/ipykernel_466/3651631007.py:22: SettingWithCopyWarning: \n",
      "A value is trying to be set on a copy of a slice from a DataFrame.\n",
      "Try using .loc[row_indexer,col_indexer] = value instead\n",
      "\n",
      "See the caveats in the documentation: https://pandas.pydata.org/pandas-docs/stable/user_guide/indexing.html#returning-a-view-versus-a-copy\n",
      "  df_4calc[category] =  df_4calc[categories_column].apply(lambda x: 1 if x == category else 0)\n",
      "/tmp/ipykernel_466/3651631007.py:23: SettingWithCopyWarning: \n",
      "A value is trying to be set on a copy of a slice from a DataFrame.\n",
      "Try using .loc[row_indexer,col_indexer] = value instead\n",
      "\n",
      "See the caveats in the documentation: https://pandas.pydata.org/pandas-docs/stable/user_guide/indexing.html#returning-a-view-versus-a-copy\n",
      "  df_interpreted[category] =  df_interpreted[categories_column].apply(lambda x: 1 if x == category else 0)\n"
     ]
    },
    {
     "name": "stdout",
     "output_type": "stream",
     "text": [
      "Ref_Change_Type_1522  Def  Deg   NF  Stable\n",
      "stratum                                    \n",
      "1                       4    5  412    1492\n",
      "2                      20   37  584    3178\n",
      "3                      50  171  370    2050\n"
     ]
    },
    {
     "data": {
      "text/html": [
       "<div>\n",
       "<style scoped>\n",
       "    .dataframe tbody tr th:only-of-type {\n",
       "        vertical-align: middle;\n",
       "    }\n",
       "\n",
       "    .dataframe tbody tr th {\n",
       "        vertical-align: top;\n",
       "    }\n",
       "\n",
       "    .dataframe thead th {\n",
       "        text-align: right;\n",
       "    }\n",
       "</style>\n",
       "<table border=\"1\" class=\"dataframe\">\n",
       "  <thead>\n",
       "    <tr style=\"text-align: right;\">\n",
       "      <th></th>\n",
       "      <th>index</th>\n",
       "      <th>area_stratum_3</th>\n",
       "      <th>ci_stratum_3</th>\n",
       "      <th>area_stratum_1</th>\n",
       "      <th>ci_stratum_1</th>\n",
       "      <th>area_stratum_2</th>\n",
       "      <th>ci_stratum_2</th>\n",
       "      <th>area_total</th>\n",
       "      <th>MOE</th>\n",
       "      <th>MOE_perc</th>\n",
       "      <th>Change_Year</th>\n",
       "    </tr>\n",
       "  </thead>\n",
       "  <tbody>\n",
       "    <tr>\n",
       "      <th>0</th>\n",
       "      <td>Def</td>\n",
       "      <td>47,589</td>\n",
       "      <td>10,979</td>\n",
       "      <td>30,276</td>\n",
       "      <td>24,906</td>\n",
       "      <td>48,674</td>\n",
       "      <td>17,879</td>\n",
       "      <td>126,540</td>\n",
       "      <td>32,566</td>\n",
       "      <td>26</td>\n",
       "      <td>Def</td>\n",
       "    </tr>\n",
       "    <tr>\n",
       "      <th>1</th>\n",
       "      <td>Deg</td>\n",
       "      <td>162,755</td>\n",
       "      <td>19,824</td>\n",
       "      <td>37,845</td>\n",
       "      <td>27,839</td>\n",
       "      <td>90,048</td>\n",
       "      <td>24,263</td>\n",
       "      <td>290,648</td>\n",
       "      <td>41,913</td>\n",
       "      <td>14</td>\n",
       "      <td>Deg</td>\n",
       "    </tr>\n",
       "    <tr>\n",
       "      <th>2</th>\n",
       "      <td>NF</td>\n",
       "      <td>352,161</td>\n",
       "      <td>27,961</td>\n",
       "      <td>3,118,437</td>\n",
       "      <td>224,138</td>\n",
       "      <td>1,421,295</td>\n",
       "      <td>89,153</td>\n",
       "      <td>4,891,893</td>\n",
       "      <td>242,833</td>\n",
       "      <td>5</td>\n",
       "      <td>NF</td>\n",
       "    </tr>\n",
       "    <tr>\n",
       "      <th>3</th>\n",
       "      <td>Stable</td>\n",
       "      <td>1,951,162</td>\n",
       "      <td>33,575</td>\n",
       "      <td>11,292,982</td>\n",
       "      <td>225,892</td>\n",
       "      <td>7,734,375</td>\n",
       "      <td>92,575</td>\n",
       "      <td>20,978,519</td>\n",
       "      <td>246,424</td>\n",
       "      <td>1</td>\n",
       "      <td>Stable</td>\n",
       "    </tr>\n",
       "  </tbody>\n",
       "</table>\n",
       "</div>"
      ],
      "text/plain": [
       "    index  area_stratum_3  ci_stratum_3  area_stratum_1  ci_stratum_1  \\\n",
       "0     Def          47,589        10,979          30,276        24,906   \n",
       "1     Deg         162,755        19,824          37,845        27,839   \n",
       "2      NF         352,161        27,961       3,118,437       224,138   \n",
       "3  Stable       1,951,162        33,575      11,292,982       225,892   \n",
       "\n",
       "   area_stratum_2  ci_stratum_2  area_total     MOE  MOE_perc Change_Year  \n",
       "0          48,674        17,879     126,540  32,566        26         Def  \n",
       "1          90,048        24,263     290,648  41,913        14         Deg  \n",
       "2       1,421,295        89,153   4,891,893 242,833         5          NF  \n",
       "3       7,734,375        92,575  20,978,519 246,424         1      Stable  "
      ]
     },
     "execution_count": 31,
     "metadata": {},
     "output_type": "execute_result"
    }
   ],
   "source": [
    "stats_calc = calculate_areas(db_total, \n",
    "                strata_column, \n",
    "                categories_column, \n",
    "                interpretation_column,\n",
    "                total_area,\n",
    "                z_score)\n",
    "\n",
    "stats_calc.index.name = index_name\n",
    "stats_calc_sorted = stats_calc.sort_values(by=index_name, ascending=True)\n",
    "stats_calc_sorted['Change_Year'] = stats_calc_sorted.index\n",
    "stats_calc_sorted = stats_calc_sorted.rename_axis('index').reset_index()\n",
    "# Set the float_format to prevent truncation in scientific notation\n",
    "float_format_str = '{:.6f}'.format  # Adjust the precision as needed\n",
    "\n",
    "total_out =  f'{output_directory}{file_prefix}_stats_2015_2022.csv'\n",
    "\n",
    "# Export DataFrame to CSV without truncating data\n",
    "#stats_calc.to_csv(total_out,index=True,float_format=float_format_str)\n",
    "\n",
    "stats_calc_sorted"
   ]
  },
  {
   "cell_type": "markdown",
   "id": "30db8a0f-6fcb-421d-8270-27d15ed99c4c",
   "metadata": {},
   "source": [
    "### plot areas with error bars"
   ]
  },
  {
   "cell_type": "code",
   "execution_count": 29,
   "id": "76d6e335-3d8e-4d0a-b679-e0454fdd333d",
   "metadata": {
    "tags": []
   },
   "outputs": [
    {
     "data": {
      "image/png": "[encoded data removed]",
      "text/plain": [
       "<Figure size 640x480 with 1 Axes>"
      ]
     },
     "metadata": {},
     "output_type": "display_data"
    }
   ],
   "source": [
    "#select the values you want to plot\n",
    "values_to_plot = ['Def2016','Def2017','Def2018','Def2019','Def2020','Def2021','Def2022']\n",
    "\n",
    "# Filter the DataFrame to include only the selected values\n",
    "Def_areas = stats_calc_sorted[stats_calc_sorted['Change_Year'].isin(values_to_plot)]\n",
    "\n",
    "# Create a bar chart\n",
    "fig, ax = plt.subplots()\n",
    "Def_areas.plot(kind='bar', x='Change_Year', y='area_total', legend=False, ax=ax)\n",
    "\n",
    "# Define a custom formatting function for the y-axis labels\n",
    "def format_thousands(x, pos):\n",
    "    return f'{x:,.0f}'\n",
    "\n",
    "# Apply the custom formatter to the y-axis\n",
    "ax.yaxis.set_major_formatter(mtick.FuncFormatter(format_thousands))\n",
    "\n",
    "# Add labels and a title\n",
    "plt.xlabel('Change')\n",
    "plt.ylabel('Ha')\n",
    "plt.title('Area Estimates')\n",
    "\n",
    "# Plot error bars with corresponding x values\n",
    "plt.bar(Def_areas['Change_Year'], Def_areas['area_total'], yerr=Def_areas['MOE'], capsize=5, align='center')\n",
    "\n",
    "# Show the plot\n",
    "plt.show()"
   ]
  },
  {
   "cell_type": "code",
   "execution_count": 22,
   "id": "0573aeda-f8de-4dcc-bb36-ce0aa5f468f0",
   "metadata": {
    "tags": []
   },
   "outputs": [
    {
     "data": {
      "image/png": "[encoded data removed]",
      "text/plain": [
       "<Figure size 640x480 with 1 Axes>"
      ]
     },
     "metadata": {},
     "output_type": "display_data"
    }
   ],
   "source": [
    "#plot DEG \n",
    "#select the values you want to plot\n",
    "values_to_plot = ['Deg2016','Deg2017','Deg2018','Deg2019','Deg2020','Deg2021','Deg2022']\n",
    "\n",
    "# Filter the DataFrame to include only the selected values\n",
    "Deg_areas = stats_calc_sorted[stats_calc_sorted['Change_Year'].isin(values_to_plot)]\n",
    "\n",
    "# Create a bar chart\n",
    "fig, ax = plt.subplots()\n",
    "Deg_areas.plot(kind='bar', x='Change_Year', y='area_total', legend=False, ax=ax)\n",
    "\n",
    "# Define a custom formatting function for the y-axis labels\n",
    "def format_thousands(x, pos):\n",
    "    return f'{x:,.0f}'\n",
    "\n",
    "# Apply the custom formatter to the y-axis\n",
    "ax.yaxis.set_major_formatter(mtick.FuncFormatter(format_thousands))\n",
    "\n",
    "# Add labels and a title\n",
    "plt.xlabel('Change')\n",
    "plt.ylabel('Ha')\n",
    "plt.title('Area Estimates')\n",
    "\n",
    "# Plot error bars with corresponding x values\n",
    "plt.bar(Deg_areas['Change_Year'], Deg_areas['area_total'], yerr=Deg_areas['MOE'], capsize=5, align='center')\n",
    "\n",
    "# Show the plot\n",
    "plt.show()"
   ]
  },
  {
   "cell_type": "code",
   "execution_count": null,
   "id": "cf752887-8339-4fd0-a868-ef2c99f8c062",
   "metadata": {},
   "outputs": [],
   "source": []
  }
 ],
 "metadata": {
  "kernelspec": {
   "display_name": "Python 3",
   "language": "python",
   "name": "python3"
  },
  "language_info": {
   "codemirror_mode": {
    "name": "ipython",
    "version": 3
   },
   "file_extension": ".py",
   "mimetype": "text/x-python",
   "name": "python",
   "nbconvert_exporter": "python",
   "pygments_lexer": "ipython3",
   "version": "3.10.12"
  }
 },
 "nbformat": 4,
 "nbformat_minor": 5
}
