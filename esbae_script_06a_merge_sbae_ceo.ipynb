{
 "cells": [
  {
   "cell_type": "markdown",
   "id": "d0b45b24-6cc1-44b4-ba38-dd9b053e49dc",
   "metadata": {
    "tags": []
   },
   "source": [
    "# V - Merging esbae with CEO data \n",
    "### This script serves to merge validated data from CEO with eSBAE points for quick estimation of areas\n",
    "###### For more information contact aurelie.shapiro@fao.org or remi.dannunzio@fao.org"
   ]
  },
  {
   "cell_type": "code",
   "execution_count": 1,
   "id": "7899a542-decb-4052-8f0d-44d83d23ba6d",
   "metadata": {
    "tags": []
   },
   "outputs": [],
   "source": [
    "import pandas as pd\n",
    "import numpy as np\n",
    "import matplotlib.pyplot as plt\n",
    "pd.set_option('display.max_columns', None)\n",
    "pd.set_option('display.max_rows', None)"
   ]
  },
  {
   "cell_type": "markdown",
   "id": "b5b5e710-f28e-4862-ac7f-f072e4672886",
   "metadata": {},
   "source": [
    "#### combine all CEO sample files\n",
    "##### add as many CEO files as there are projects"
   ]
  },
  {
   "cell_type": "code",
   "execution_count": 2,
   "id": "dbf603c5-ed47-4e36-b271-26e6200a3737",
   "metadata": {
    "tags": []
   },
   "outputs": [],
   "source": [
    "#DRC\n",
    "#ceo1 = pd.read_csv('/home/sepal-user/module_results/esbae/DRC/ceo-CAFI-DDD-RDC-eSBAE-validation-1-sample-data_prov.csv')\n",
    "#ceo2 = pd.read_csv('/home/sepal-user/module_results/esbae/DRC/ceo-CAFI-DDD-RDC-eSBAE-validation-2-sample-data.csv')\n",
    "#GAB\n",
    "ceo1 = pd.read_csv('/home/sepal-user/module_results/esbae/GAB/ceo-CAFI-DDD-Gabon-eSBAE-validation-1-sample-data.csv')\n",
    "ceo2 = pd.read_csv('/home/sepal-user/module_results/esbae/GAB/ceo-CAFI-DDD-Gabon-eSBAE-validation-2-sample-data.csv')\n",
    "ceo3 = pd.read_csv('/home/sepal-user/module_results/esbae/GAB/ceo-CAFI-DDD-Gabon-eSBAE-validation-3-sample-data.csv')\n",
    "ceo4 = pd.read_csv('/home/sepal-user/module_results/esbae/GAB/ceo-CAFI-DDD-Gabon-eSBAE-validation-4-sample-data.csv')\n",
    "ceo5 = pd.read_csv('/home/sepal-user/module_results/esbae/GAB/ceo-CAFI-DDD-Gabon-eSBAE-validation-5-sample-data.csv')"
   ]
  },
  {
   "cell_type": "markdown",
   "id": "6f1635a7-2e97-4128-be10-901c426e72e8",
   "metadata": {},
   "source": [
    "##### drop duplicates from ceo collections\n",
    "###### keep first duplicate by date"
   ]
  },
  {
   "cell_type": "code",
   "execution_count": 3,
   "id": "aa3ab8ff-9649-44f5-99c4-90089d9a6f51",
   "metadata": {
    "tags": []
   },
   "outputs": [
    {
     "name": "stdout",
     "output_type": "stream",
     "text": [
      "['plotid', 'sampleid', 'lon', 'lat', 'email', 'flagged', 'collection_time', 'analysis_duration', 'imagery_title', 'imagery_attributions', 'sample_geom', 'pl_aspect', 'pl_brightness_max', 'pl_red_mean', 'pl_greenness_max', 'pl_cusum_confidence', 'pl_cusum_change_date', 'pl_nir_max', 'pl_red_min', 'pl_bfast_means', 'pl_elevation', 'pl_red_sd', 'pl_cnc_1520', 'pl_swir1_sd', 'pl_index', 'pl_tmf_sub', 'pl_dw_tree_prob__min', 'pl_bs_slope_max', 'pl_red_max', 'pl_images', 'pl_dist', 'pl_bfast_magnitude', 'pl_ccdc_magnitude', 'pl_simple_combined', 'pl_tmf_defyear', 'pl_greenness_mean', 'pl_tmf_2019', 'pl_swir2_sd', 'pl_nir_sd', 'pl_gfc_tc00', 'pl_greenness_min', 'pl_tmf_degyear', 'pl_tmf_2020', 'pl_tmf_2017', 'pl_bs_slope_min', 'pl_lang_tree_height', 'pl_bs_slope_sd', 'pl_dw_class_mode', 'pl_swir1_mean', 'pl_wetness_sd', 'pl_bs_slope_mean', 'pl_ccdc_change_date', 'pl_dw_tree_prob_mean', 'pl_nir_mean', 'pl_dw_tree_prob__stddev', 'pl_tmf_2016', 'pl_nir_min', 'pl_esri_lc17', 'pl_wetness_mean', 'pl_ndfi_min', 'pl_wetness_min', 'pl_point_id', 'pl_kmeans', 'pl_swir2_mean', 'pl_esri_lc19', 'pl_slope', 'pl_cusum_magnitude', 'pl_esri_lc18', 'pl_gfc_loss', 'pl_esri_lc20', 'pl_swir1_max', 'pl_swir1_min', 'pl_mon_images', 'pl_esa_lc20', 'pl_brightness_min', 'pl_brightness_mean', 'pl_potapov_tree_height', 'pl_gfc_lossyear', 'pl_wetness_max', 'pl_swir2_max', 'pl_bfast_change_date', 'pl_gfc_gain', 'pl_brightness_sd', 'pl_tmf_2018', 'pl_dw_tree_prob__max', 'pl_strata', 'pl_ndfi_max', 'pl_esri_lc21', 'pl_swir2_min', 'pl_esa_lc21', 'pl_ndfi_sd', 'pl_tmf_main', 'pl_greenness_sd', 'pl_chg_prob', 'pl_ndfi_mean', 'forêt ou non-forêt en 2015?', \"Y'a t'il de la régéneration\", 'Changement entre 2015-2022', 'Type de Changement (2015-2022)', 'Exploitation forestière artisanale (<5ha)', 'Activité minière artisanale', 'Infrastructure routière', 'Infrastructure d’urbanisation ou habitations', 'Exploitation forestière industrielle (>5ha)', 'Autre moteur', 'Descriptif autre moteur', 'Activité minière industrielle', 'Agriculture industrielle', 'Agriculture paysanne', 'Année de Changement', 'Type de non-forêt en 2015', 'Type de forêt en 2015', 'Commentaires']\n"
     ]
    }
   ],
   "source": [
    "column_names = ceo1.columns.tolist()\n",
    "# Print the list of column names\n",
    "print(column_names)"
   ]
  },
  {
   "cell_type": "markdown",
   "id": "86bae5e0-8169-40be-98ff-f7cc8fa3b044",
   "metadata": {},
   "source": [
    "##### merge all ceo files"
   ]
  },
  {
   "cell_type": "code",
   "execution_count": 4,
   "id": "30ee1ce6-6324-44b3-a48e-a1d86ff37808",
   "metadata": {
    "tags": []
   },
   "outputs": [],
   "source": [
    "#make a list of the ceo files first\n",
    "ceo_files = [ceo1, ceo2, ceo3, ceo4, ceo5]"
   ]
  },
  {
   "cell_type": "markdown",
   "id": "e405fab6-a8a0-4461-96e4-091177c712f3",
   "metadata": {},
   "source": [
    "##### add a column named \"interpreted\" which = 1 when the point has been validated in CEO, otherwise 0\n",
    "##### count the number of validated points per ceo file"
   ]
  },
  {
   "cell_type": "code",
   "execution_count": 5,
   "id": "d9c12ded-8591-4487-9494-68b2081e3987",
   "metadata": {
    "tags": []
   },
   "outputs": [
    {
     "name": "stdout",
     "output_type": "stream",
     "text": [
      "ceo 1 # of validated points: 499, # of not validated points: 0\n",
      "ceo 2 # of validated points: 3524, # of not validated points: 0\n",
      "ceo 3 # of validated points: 367, # of not validated points: 4260\n",
      "ceo 4 # of validated points: 49, # of not validated points: 4211\n",
      "ceo 5 # of validated points: 594, # of not validated points: 3617\n"
     ]
    }
   ],
   "source": [
    "# List to store the modified DataFrames\n",
    "modified_ceo_files = []\n",
    "\n",
    "# Initialize collection counter\n",
    "collection_counter = 1\n",
    "\n",
    "for i, ceo in enumerate(ceo_files):\n",
    "       \n",
    "    # Sort the DataFrame by 'date' in descending order\n",
    "    ceo.sort_values(by='collection_time', ascending=False, inplace=True)\n",
    "\n",
    "    # Remove duplicates keeping the last occurrence (the most recent date)\n",
    "    ceo.drop_duplicates(subset='pl_point_id', keep='last', inplace=True)\n",
    "\n",
    "    # Reset the index\n",
    "    ceo.reset_index(drop=True, inplace=True)\n",
    "    \n",
    "    # Add 'collection' column with an increasing number\n",
    "    ceo['collection'] = collection_counter\n",
    "    \n",
    "    # Add 'interpreted' column with 1 when 'email' is not null, otherwise 0\n",
    "    ceo['interpreted'] = np.where(ceo['email'].notna(), 1, 0)\n",
    "    \n",
    "    # Calculate total count for each 'interpreted' value\n",
    "    interpreted_counts = ceo['interpreted'].value_counts().to_dict()\n",
    "    \n",
    "    # Append the modified DataFrame to the list\n",
    "    modified_ceo_files.append(ceo)\n",
    "    \n",
    "    # Print count for the current DataFrame\n",
    "    print(f\"ceo {i + 1} # of validated points: {interpreted_counts.get(1, 0)}, # of not validated points: {interpreted_counts.get(0, 0)}\")\n",
    "    \n",
    "    # Increment the collection counter\n",
    "    collection_counter += 1\n",
    "\n",
    "# Concatenate the modified DataFrames into one merged DataFrame\n",
    "merged_ceo = pd.concat(modified_ceo_files, ignore_index=True)\n",
    "\n",
    "\n",
    "# Specify the columns you want to keep in the merged DataFrame\n",
    "columns_to_keep = ['plotid', 'sampleid', 'lon', 'lat', 'email', 'flagged', 'collection_time', 'analysis_duration', \n",
    "                    'sample_geom', 'pl_point_id', 'pl_chg_prob', 'pl_simple_combined', 'pl_strata', 'forêt ou non-forêt en 2015?', \"Y'a t'il de la régéneration\", \n",
    "                    'Changement entre 2015-2022', 'Type de Changement (2015-2022)', 'Exploitation forestière artisanale (<5ha)', \n",
    "                    'Activité minière artisanale', 'Infrastructure routière', 'Infrastructure d’urbanisation ou habitations', \n",
    "                    'Exploitation forestière industrielle (>5ha)', 'Autre moteur', 'Descriptif autre moteur', 'Activité minière industrielle', \n",
    "                    'Agriculture industrielle', 'Agriculture paysanne', 'Année de Changement', 'Type de non-forêt en 2015', 'Type de forêt en 2015', 'Commentaires', 'collection', 'interpreted']\n",
    "\n",
    "# Select only the specified columns\n",
    "merged_ceo = merged_ceo[columns_to_keep]"
   ]
  },
  {
   "cell_type": "code",
   "execution_count": 6,
   "id": "4ff26c6c-3975-49b6-a148-9ec7c4559731",
   "metadata": {
    "tags": []
   },
   "outputs": [],
   "source": [
    "merged_ceo_interpreted = merged_ceo[merged_ceo['interpreted'] == 1]\n",
    "merged_ceo_interpreted = merged_ceo_interpreted.sort_values(by='collection_time', ascending=False)\n",
    "\n",
    "# Remove duplicates keeping the last occurrence (the most recent date)\n",
    "merged_ceo_nodup = merged_ceo_interpreted.drop_duplicates(subset='pl_point_id', keep='last')\n",
    "\n",
    "# Reset the index\n",
    "merged_ceo_nodup = merged_ceo_nodup.reset_index(drop=True)"
   ]
  },
  {
   "cell_type": "code",
   "execution_count": 7,
   "id": "c29d4ef8-380e-40d1-8348-7dba22f200e2",
   "metadata": {
    "tags": []
   },
   "outputs": [
    {
     "data": {
      "text/plain": [
       "1    4987\n",
       "Name: interpreted, dtype: int64"
      ]
     },
     "execution_count": 7,
     "metadata": {},
     "output_type": "execute_result"
    }
   ],
   "source": [
    "merged_ceo_nodup['interpreted'].value_counts()"
   ]
  },
  {
   "cell_type": "code",
   "execution_count": 8,
   "id": "b9010acd-b801-4ccb-832f-f590dd0ce5a2",
   "metadata": {},
   "outputs": [
    {
     "name": "stdout",
     "output_type": "stream",
     "text": [
      "plotid                                            int64\n",
      "sampleid                                          int64\n",
      "lon                                             float64\n",
      "lat                                             float64\n",
      "email                                            object\n",
      "flagged                                          object\n",
      "collection_time                                  object\n",
      "analysis_duration                                object\n",
      "sample_geom                                      object\n",
      "pl_point_id                                       int64\n",
      "pl_chg_prob                                     float64\n",
      "pl_simple_combined                              float64\n",
      "pl_strata                                         int64\n",
      "forêt ou non-forêt en 2015?                      object\n",
      "Y'a t'il de la régéneration                      object\n",
      "Changement entre 2015-2022                       object\n",
      "Type de Changement (2015-2022)                   object\n",
      "Exploitation forestière artisanale (<5ha)        object\n",
      "Activité minière artisanale                      object\n",
      "Infrastructure routière                          object\n",
      "Infrastructure d’urbanisation ou habitations     object\n",
      "Exploitation forestière industrielle (>5ha)      object\n",
      "Autre moteur                                     object\n",
      "Descriptif autre moteur                          object\n",
      "Activité minière industrielle                    object\n",
      "Agriculture industrielle                         object\n",
      "Agriculture paysanne                             object\n",
      "Année de Changement                             float64\n",
      "Type de non-forêt en 2015                        object\n",
      "Type de forêt en 2015                            object\n",
      "Commentaires                                     object\n",
      "collection                                        int64\n",
      "interpreted                                       int64\n",
      "dtype: object\n"
     ]
    }
   ],
   "source": [
    "print(merged_ceo_nodup.dtypes)"
   ]
  },
  {
   "cell_type": "code",
   "execution_count": 9,
   "id": "f35de703-443b-48e5-b25a-d3dbc236f526",
   "metadata": {
    "tags": []
   },
   "outputs": [],
   "source": [
    "# Rename columns to be same as esbae \n",
    "merged_ceo_nodup = merged_ceo_nodup.rename(columns={'pl_point_id': 'point_id'})\n",
    "merged_ceo_nodup = merged_ceo_nodup.rename(columns={'pl_strata': 'stratum'})\n",
    "merged_ceo_nodup = merged_ceo_nodup.rename(columns={'pl_chg_prob': 'chg_prob'})\n",
    "merged_ceo_nodup = merged_ceo_nodup.rename(columns={'pl_simple_combined': 'simple_combined'})\n",
    "#merged_ceo = merged_ceo.rename(columns={'pl_plotid_orig': 'plotid_orig'})"
   ]
  },
  {
   "cell_type": "code",
   "execution_count": 10,
   "id": "b7f73dd8-ef16-412a-b637-bce5a0b6c5b4",
   "metadata": {
    "tags": []
   },
   "outputs": [
    {
     "data": {
      "text/plain": [
       "2    3068\n",
       "3    1616\n",
       "1     303\n",
       "Name: stratum, dtype: int64"
      ]
     },
     "execution_count": 10,
     "metadata": {},
     "output_type": "execute_result"
    }
   ],
   "source": [
    "merged_ceo_nodup['stratum'].value_counts()"
   ]
  },
  {
   "cell_type": "markdown",
   "id": "0e453b46-551d-4204-be40-4803c4d25e60",
   "metadata": {},
   "source": [
    "##### Check if values in 'pointid' are unique"
   ]
  },
  {
   "cell_type": "code",
   "execution_count": 11,
   "id": "eb09c9af-db98-4eee-92e5-d205a1016f3e",
   "metadata": {
    "tags": []
   },
   "outputs": [
    {
     "name": "stdout",
     "output_type": "stream",
     "text": [
      "All values are unique!\n"
     ]
    }
   ],
   "source": [
    "# this might take some time\n",
    "unique_check = merged_ceo_nodup['point_id'].nunique() == len(merged_ceo_nodup['point_id'])\n",
    "\n",
    "# Print the result\n",
    "if unique_check:\n",
    "    print(\"All values are unique!\")\n",
    "else:\n",
    "    print(\"F$%§!\")"
   ]
  },
  {
   "cell_type": "markdown",
   "id": "47d21c47-12fb-4d92-b151-5f1d1c140461",
   "metadata": {},
   "source": [
    "##### if there are duplicates determine which points and which project (collection)"
   ]
  },
  {
   "cell_type": "code",
   "execution_count": 12,
   "id": "8d3c9161-5a6b-4e9c-963d-3e4964f0329d",
   "metadata": {
    "tags": []
   },
   "outputs": [
    {
     "data": {
      "text/plain": [
       "0"
      ]
     },
     "execution_count": 12,
     "metadata": {},
     "output_type": "execute_result"
    }
   ],
   "source": [
    "# Find duplicate values in the 'ID' column\n",
    "duplicate_ids = merged_ceo_nodup[merged_ceo_nodup.duplicated(subset='point_id', keep='first')]\n",
    "\n",
    "# If you want to print specific columns along with duplicates, you can do:\n",
    "# For example, print only 'ID' and 'Name' columns\n",
    "#print(\"\\nDuplicate Rows with 'ID' and 'Name':\")\n",
    "#print(duplicate_ids[['point_id', 'collection']])\n",
    "len(duplicate_ids)"
   ]
  },
  {
   "cell_type": "code",
   "execution_count": 13,
   "id": "540971c0-b71a-4555-b2ab-69e75c8c250a",
   "metadata": {
    "tags": []
   },
   "outputs": [],
   "source": [
    "#merged_ceo_nodup.head()"
   ]
  },
  {
   "cell_type": "markdown",
   "id": "3b5493dd-37d0-486e-8daf-29b413318e0e",
   "metadata": {},
   "source": [
    "#### read all esbae points with augmented data (output from script 5)"
   ]
  },
  {
   "cell_type": "code",
   "execution_count": 14,
   "id": "994e19b2-3bd9-400d-9919-b9373beca822",
   "metadata": {
    "tags": []
   },
   "outputs": [
    {
     "data": {
      "text/plain": [
       "222878"
      ]
     },
     "execution_count": 14,
     "metadata": {},
     "output_type": "execute_result"
    }
   ],
   "source": [
    "# Read the CSV files\n",
    "#DRC\n",
    "#esbae = pd.read_csv('/home/sepal-user/module_results/esbae/DRC/DRC_esbae_2015_2022_model.csv')\n",
    "#GAB\n",
    "esbae = pd.read_csv('/home/sepal-user/module_results/esbae/GAB/GAB_esbae_2015_2022_model.csv')\n",
    "len(esbae)"
   ]
  },
  {
   "cell_type": "code",
   "execution_count": 15,
   "id": "7c9ae3f4-dae0-449b-a842-ba305697303f",
   "metadata": {
    "tags": []
   },
   "outputs": [],
   "source": [
    "#DRC\n",
    "#esbae = esbae[['point_id', 'PLOTID', 'LAT','LON','stratum', 'chg_prob', 'simple_combined','NOM']]\n",
    "#GAB\n",
    "esbae = esbae[['point_id', 'PLOTID', 'LAT','LON','stratum', 'chg_prob', 'simple_combined']]"
   ]
  },
  {
   "cell_type": "code",
   "execution_count": 16,
   "id": "72752525-63cd-46a2-97ee-cbb89768fd93",
   "metadata": {
    "tags": []
   },
   "outputs": [
    {
     "data": {
      "text/plain": [
       "Index(['point_id', 'PLOTID', 'LAT', 'LON', 'stratum', 'chg_prob',\n",
       "       'simple_combined'],\n",
       "      dtype='object')"
      ]
     },
     "execution_count": 16,
     "metadata": {},
     "output_type": "execute_result"
    }
   ],
   "source": [
    "esbae.columns"
   ]
  },
  {
   "cell_type": "code",
   "execution_count": 17,
   "id": "8cbe9160-d221-405e-82f3-032d80ac5ac3",
   "metadata": {},
   "outputs": [
    {
     "data": {
      "text/plain": [
       "1    172836\n",
       "2     39981\n",
       "3     10061\n",
       "Name: stratum, dtype: int64"
      ]
     },
     "execution_count": 17,
     "metadata": {},
     "output_type": "execute_result"
    }
   ],
   "source": [
    "#save this for eSBAE calculations\n",
    "esbae['stratum'].value_counts()"
   ]
  },
  {
   "cell_type": "markdown",
   "id": "1b817a5b-862a-4db6-95a0-f77aa062d75d",
   "metadata": {},
   "source": [
    "##### Rename columns to be same as ceo file "
   ]
  },
  {
   "cell_type": "code",
   "execution_count": 18,
   "id": "0f35df58-6413-4d11-b9ff-7c2f652da0a6",
   "metadata": {
    "tags": []
   },
   "outputs": [],
   "source": [
    "esbae = esbae.rename(columns={'PLOTID': 'plotid'})\n",
    "esbae = esbae.rename(columns={'LAT': 'lat'})\n",
    "esbae = esbae.rename(columns={'LON': 'lon'})\n",
    "esbae['interpreted']=0"
   ]
  },
  {
   "cell_type": "code",
   "execution_count": 19,
   "id": "f0ad0f19-b552-4019-915d-a02890b6183b",
   "metadata": {
    "tags": []
   },
   "outputs": [
    {
     "name": "stdout",
     "output_type": "stream",
     "text": [
      "point_id             int64\n",
      "plotid               int64\n",
      "lat                float64\n",
      "lon                float64\n",
      "stratum              int64\n",
      "chg_prob           float64\n",
      "simple_combined    float64\n",
      "interpreted          int64\n",
      "dtype: object\n"
     ]
    }
   ],
   "source": [
    "print(esbae.dtypes)"
   ]
  },
  {
   "cell_type": "code",
   "execution_count": 20,
   "id": "449f951d-7aaf-452f-80cf-ad8305b7daaa",
   "metadata": {
    "tags": []
   },
   "outputs": [
    {
     "data": {
      "text/plain": [
       "222878"
      ]
     },
     "execution_count": 20,
     "metadata": {},
     "output_type": "execute_result"
    }
   ],
   "source": [
    "len(esbae)"
   ]
  },
  {
   "cell_type": "markdown",
   "id": "3d699564-4605-445b-b157-8100ee053f03",
   "metadata": {},
   "source": [
    "### Merge ceo and sbae tables\n",
    "#### replace validated points in esbae points"
   ]
  },
  {
   "cell_type": "code",
   "execution_count": 21,
   "id": "dc76170a-f34e-4ff7-bbce-aaddc01d8054",
   "metadata": {},
   "outputs": [
    {
     "data": {
      "text/plain": [
       "4987"
      ]
     },
     "execution_count": 21,
     "metadata": {},
     "output_type": "execute_result"
    }
   ],
   "source": [
    "#make list of point_ids of validated points\n",
    "validated_id_list = merged_ceo_nodup['point_id'].tolist()\n",
    "len(validated_id_list)"
   ]
  },
  {
   "cell_type": "code",
   "execution_count": 22,
   "id": "c2435f23-5160-4e64-847e-4fc0213071ff",
   "metadata": {},
   "outputs": [
    {
     "data": {
      "text/plain": [
       "217891"
      ]
     },
     "execution_count": 22,
     "metadata": {},
     "output_type": "execute_result"
    }
   ],
   "source": [
    "# Remove validated points from esbae\n",
    "# Remove rows from 'esbae' where 'point_id' is in 'merged_ceo'\n",
    "esbae_not_interpreted = esbae[~esbae['point_id'].isin(validated_id_list)]\n",
    "len(esbae_not_interpreted)"
   ]
  },
  {
   "cell_type": "code",
   "execution_count": 23,
   "id": "186fce90-2a65-4d4b-a8ec-6d64709168b5",
   "metadata": {
    "tags": []
   },
   "outputs": [
    {
     "name": "stdout",
     "output_type": "stream",
     "text": [
      "Number of matching rows: 0\n"
     ]
    }
   ],
   "source": [
    "# Merge the DataFrames based on 'point_id'\n",
    "merged_df = esbae_not_interpreted.merge(merged_ceo_nodup, on='point_id', how='inner')\n",
    "\n",
    "# Get the count of matching rows\n",
    "matching_rows_count = len(merged_df)\n",
    "\n",
    "# Print the count of matching rows\n",
    "print(f'Number of matching rows: {matching_rows_count}')"
   ]
  },
  {
   "cell_type": "code",
   "execution_count": 24,
   "id": "0141723a-881f-4e95-9061-72d3137acf15",
   "metadata": {},
   "outputs": [],
   "source": [
    "#append esbae and ceo"
   ]
  },
  {
   "cell_type": "code",
   "execution_count": 25,
   "id": "c86d95ba-5b0e-4341-99a5-2724e27d968b",
   "metadata": {
    "tags": []
   },
   "outputs": [
    {
     "data": {
      "text/plain": [
       "222878"
      ]
     },
     "execution_count": 25,
     "metadata": {},
     "output_type": "execute_result"
    }
   ],
   "source": [
    "# Append 'ceo' to 'esbae' keeping all columns from 'ceo' and merging common columns\n",
    "esbae_ceo = pd.concat([esbae_not_interpreted, merged_ceo_nodup], axis=0, ignore_index=True)\n",
    "\n",
    "# Print the resulting DataFrame\n",
    "len(esbae_ceo)"
   ]
  },
  {
   "cell_type": "code",
   "execution_count": 26,
   "id": "42f4abd5-9e7d-430a-a687-3440a1343ae4",
   "metadata": {
    "tags": []
   },
   "outputs": [
    {
     "data": {
      "text/plain": [
       "Index(['point_id', 'plotid', 'lat', 'lon', 'stratum', 'chg_prob',\n",
       "       'simple_combined', 'interpreted', 'sampleid', 'email', 'flagged',\n",
       "       'collection_time', 'analysis_duration', 'sample_geom',\n",
       "       'forêt ou non-forêt en 2015?', 'Y'a t'il de la régéneration',\n",
       "       'Changement entre 2015-2022', 'Type de Changement (2015-2022)',\n",
       "       'Exploitation forestière artisanale (<5ha)',\n",
       "       'Activité minière artisanale', 'Infrastructure routière',\n",
       "       'Infrastructure d’urbanisation ou habitations',\n",
       "       'Exploitation forestière industrielle (>5ha)', 'Autre moteur',\n",
       "       'Descriptif autre moteur', 'Activité minière industrielle',\n",
       "       'Agriculture industrielle', 'Agriculture paysanne',\n",
       "       'Année de Changement', 'Type de non-forêt en 2015',\n",
       "       'Type de forêt en 2015', 'Commentaires', 'collection'],\n",
       "      dtype='object')"
      ]
     },
     "execution_count": 26,
     "metadata": {},
     "output_type": "execute_result"
    }
   ],
   "source": [
    "esbae_ceo.columns"
   ]
  },
  {
   "cell_type": "code",
   "execution_count": 27,
   "id": "51ffd9f5-b193-432e-8f15-ee27bbc9ec5d",
   "metadata": {
    "tags": []
   },
   "outputs": [
    {
     "data": {
      "text/plain": [
       "0    217891\n",
       "1      4987\n",
       "Name: interpreted, dtype: int64"
      ]
     },
     "execution_count": 27,
     "metadata": {},
     "output_type": "execute_result"
    }
   ],
   "source": [
    "esbae_ceo['interpreted'] = esbae_ceo['interpreted'].fillna(0)\n",
    "# Change the data type of 'FloatColumn' to integer\n",
    "esbae_ceo['interpreted'] = esbae_ceo['interpreted'].astype(int)\n",
    "esbae_ceo['interpreted'].value_counts()"
   ]
  },
  {
   "cell_type": "markdown",
   "id": "2192950d-5faa-4680-b079-36b55b8fb5ae",
   "metadata": {},
   "source": [
    "## add new columns for change and year"
   ]
  },
  {
   "cell_type": "markdown",
   "id": "58839d68-9d51-442b-96d6-8a680d0cf870",
   "metadata": {
    "tags": []
   },
   "source": [
    "#### clean up columns and replace values"
   ]
  },
  {
   "cell_type": "code",
   "execution_count": 28,
   "id": "f1db6436-d67a-4516-8b09-1dfb124f9c84",
   "metadata": {
    "tags": []
   },
   "outputs": [
    {
     "data": {
      "text/plain": [
       "          217891\n",
       "Stable      3726\n",
       "NF          1091\n",
       "Deg          112\n",
       "Def           58\n",
       "Name: ChangeType, dtype: int64"
      ]
     },
     "execution_count": 28,
     "metadata": {},
     "output_type": "execute_result"
    }
   ],
   "source": [
    "def f(x):\n",
    "  if x['Type de Changement (2015-2022)'] == 'déforestation': return 'Def'\n",
    "  elif x['Type de Changement (2015-2022)'] == 'dégradation' : return 'Deg'\n",
    "  elif x['forêt ou non-forêt en 2015?'] == 'non-forêt' : return 'NF'\n",
    "  elif x['Changement entre 2015-2022'] == 'non' : return 'Stable'\n",
    "  else: return ''\n",
    "\n",
    "esbae_ceo['ChangeType'] = esbae_ceo.apply(f, axis=1)\n",
    "esbae_ceo['ChangeType'].value_counts()"
   ]
  },
  {
   "cell_type": "code",
   "execution_count": 29,
   "id": "0914fa22-0cd5-4f3a-ab0b-58c0071dacce",
   "metadata": {
    "tags": []
   },
   "outputs": [
    {
     "name": "stdout",
     "output_type": "stream",
     "text": [
      "           217891\n",
      "Def2016        15\n",
      "Def2017        11\n",
      "Def2018         6\n",
      "Def2019         2\n",
      "Def2020         6\n",
      "Def2021         7\n",
      "Def2022        11\n",
      "Deg2016        14\n",
      "Deg2017        12\n",
      "Deg2018        14\n",
      "Deg2019        10\n",
      "Deg2020        19\n",
      "Deg2021        14\n",
      "Deg2022        29\n",
      "NF           1091\n",
      "Stable       3726\n",
      "Name: ChangeYear, dtype: int64\n"
     ]
    }
   ],
   "source": [
    "def y(x):\n",
    "  if x['Type de Changement (2015-2022)'] == 'déforestation' and x['Année de Changement'] == 2016: return 'Def2016'\n",
    "  elif x['Type de Changement (2015-2022)'] == 'déforestation' and x['Année de Changement'] == 2017: return 'Def2017'\n",
    "  elif x['Type de Changement (2015-2022)'] == 'déforestation' and x['Année de Changement'] == 2018: return 'Def2018'\n",
    "  elif x['Type de Changement (2015-2022)'] == 'déforestation' and x['Année de Changement'] == 2019: return 'Def2019'\n",
    "  elif x['Type de Changement (2015-2022)'] == 'déforestation' and x['Année de Changement'] == 2020: return 'Def2020'\n",
    "  elif x['Type de Changement (2015-2022)'] == 'déforestation' and x['Année de Changement'] == 2021: return 'Def2021'\n",
    "  elif x['Type de Changement (2015-2022)'] == 'déforestation' and x['Année de Changement'] == 2022: return 'Def2022'\n",
    "  elif x['Type de Changement (2015-2022)'] == 'dégradation' and x['Année de Changement'] == 2016: return 'Deg2016'\n",
    "  elif x['Type de Changement (2015-2022)'] == 'dégradation' and x['Année de Changement'] == 2017: return 'Deg2017'\n",
    "  elif x['Type de Changement (2015-2022)'] == 'dégradation' and x['Année de Changement'] == 2018: return 'Deg2018'\n",
    "  elif x['Type de Changement (2015-2022)'] == 'dégradation' and x['Année de Changement'] == 2019: return 'Deg2019'\n",
    "  elif x['Type de Changement (2015-2022)'] == 'dégradation' and x['Année de Changement'] == 2020: return 'Deg2020'\n",
    "  elif x['Type de Changement (2015-2022)'] == 'dégradation' and x['Année de Changement'] == 2021: return 'Deg2021'\n",
    "  elif x['Type de Changement (2015-2022)'] == 'dégradation' and x['Année de Changement'] == 2022: return 'Deg2022'\n",
    "  elif x['forêt ou non-forêt en 2015?'] == 'non-forêt' : return 'NF'\n",
    "  elif x['Changement entre 2015-2022'] == 'non' : return 'Stable'\n",
    "  else: return ''\n",
    "\n",
    "esbae_ceo['ChangeYear'] = esbae_ceo.apply(y, axis=1)\n",
    "\n",
    "annual_counts = esbae_ceo['ChangeYear'].value_counts()\n",
    "annual_counts = annual_counts.sort_index()\n",
    "print(annual_counts)"
   ]
  },
  {
   "cell_type": "code",
   "execution_count": 30,
   "id": "e074de8c-e462-4e38-8670-2759eee74d42",
   "metadata": {
    "tags": []
   },
   "outputs": [
    {
     "data": {
      "text/plain": [
       "222878"
      ]
     },
     "execution_count": 30,
     "metadata": {},
     "output_type": "execute_result"
    }
   ],
   "source": [
    "annual_counts.sum()"
   ]
  },
  {
   "cell_type": "markdown",
   "id": "a6cf541d-ffb9-4489-b03a-ba2bcb7b5878",
   "metadata": {},
   "source": [
    "##### plot deforestation points by year"
   ]
  },
  {
   "cell_type": "code",
   "execution_count": 31,
   "id": "f1c32086-c2e8-41ca-b034-fc54d94edeeb",
   "metadata": {
    "tags": []
   },
   "outputs": [
    {
     "data": {
      "image/png": "[encoded data removed]",
      "text/plain": [
       "<Figure size 800x600 with 1 Axes>"
      ]
     },
     "metadata": {},
     "output_type": "display_data"
    }
   ],
   "source": [
    "#select the values you want to plot\n",
    "values_to_plot = ['Def2016','Def2017','Def2018','Def2019','Def2020','Def2021','Def2022']\n",
    "\n",
    "# Filter the DataFrame to include only the selected values\n",
    "filtered_df = esbae_ceo[esbae_ceo['ChangeYear'].isin(values_to_plot)]\n",
    "\n",
    "# Get the value counts and sort by index (alphabetically)\n",
    "defvalue_counts = filtered_df['ChangeYear'].value_counts().sort_index()\n",
    "\n",
    "# Plot the value counts as a bar graph\n",
    "plt.figure(figsize=(8, 6))  # Optional: Set the figure size\n",
    "defvalue_counts.plot(kind='bar', color='skyblue')\n",
    "\n",
    "\n",
    "# Set plot labels and title\n",
    "plt.xlabel('Category')\n",
    "plt.ylabel('Count')\n",
    "plt.title('# of def points per year')\n",
    "\n",
    "# Show the plot\n",
    "plt.show()"
   ]
  },
  {
   "cell_type": "markdown",
   "id": "b3c7b947-6152-49cb-90cd-a54b7f7d0e3c",
   "metadata": {},
   "source": [
    "##### plot degradation points by year"
   ]
  },
  {
   "cell_type": "code",
   "execution_count": 32,
   "id": "a0bd70ef-914e-4c48-a377-4ee31526a640",
   "metadata": {
    "tags": []
   },
   "outputs": [
    {
     "data": {
      "image/png": "[encoded data removed]",
      "text/plain": [
       "<Figure size 800x600 with 1 Axes>"
      ]
     },
     "metadata": {},
     "output_type": "display_data"
    }
   ],
   "source": [
    "#plot DEG \n",
    "#select the values you want to plot\n",
    "values_to_plot = ['Deg2016','Deg2017','Deg2018','Deg2019','Deg2020','Deg2021','Deg2022']\n",
    "\n",
    "# Filter the DataFrame to include only the selected values\n",
    "filtered_df = esbae_ceo[esbae_ceo['ChangeYear'].isin(values_to_plot)]\n",
    "\n",
    "# Get the value counts and sort by index (alphabetically)\n",
    "degvalue_counts = filtered_df['ChangeYear'].value_counts().sort_index()\n",
    "\n",
    "# Plot the value counts as a bar graph\n",
    "plt.figure(figsize=(8, 6))  # Optional: Set the figure size\n",
    "degvalue_counts.plot(kind='bar', color='skyblue')\n",
    "\n",
    "\n",
    "# Set plot labels and title\n",
    "plt.xlabel('Category')\n",
    "plt.ylabel('Count')\n",
    "plt.title('# of deg points per year')\n",
    "\n",
    "# Show the plot\n",
    "plt.show()"
   ]
  },
  {
   "cell_type": "code",
   "execution_count": 33,
   "id": "11925305-6958-4249-acac-c9a9c14ae3b7",
   "metadata": {
    "tags": []
   },
   "outputs": [
    {
     "data": {
      "text/html": [
       "<div>\n",
       "<style scoped>\n",
       "    .dataframe tbody tr th:only-of-type {\n",
       "        vertical-align: middle;\n",
       "    }\n",
       "\n",
       "    .dataframe tbody tr th {\n",
       "        vertical-align: top;\n",
       "    }\n",
       "\n",
       "    .dataframe thead th {\n",
       "        text-align: right;\n",
       "    }\n",
       "</style>\n",
       "<table border=\"1\" class=\"dataframe\">\n",
       "  <thead>\n",
       "    <tr style=\"text-align: right;\">\n",
       "      <th></th>\n",
       "      <th>point_id</th>\n",
       "      <th>plotid</th>\n",
       "      <th>lat</th>\n",
       "      <th>lon</th>\n",
       "      <th>stratum</th>\n",
       "      <th>chg_prob</th>\n",
       "      <th>simple_combined</th>\n",
       "      <th>interpreted</th>\n",
       "      <th>sampleid</th>\n",
       "      <th>email</th>\n",
       "      <th>flagged</th>\n",
       "      <th>collection_time</th>\n",
       "      <th>analysis_duration</th>\n",
       "      <th>sample_geom</th>\n",
       "      <th>forêt ou non-forêt en 2015?</th>\n",
       "      <th>Y'a t'il de la régéneration</th>\n",
       "      <th>Changement entre 2015-2022</th>\n",
       "      <th>Type de Changement (2015-2022)</th>\n",
       "      <th>Exploitation forestière artisanale (&lt;5ha)</th>\n",
       "      <th>Activité minière artisanale</th>\n",
       "      <th>Infrastructure routière</th>\n",
       "      <th>Infrastructure d’urbanisation ou habitations</th>\n",
       "      <th>Exploitation forestière industrielle (&gt;5ha)</th>\n",
       "      <th>Autre moteur</th>\n",
       "      <th>Descriptif autre moteur</th>\n",
       "      <th>Activité minière industrielle</th>\n",
       "      <th>Agriculture industrielle</th>\n",
       "      <th>Agriculture paysanne</th>\n",
       "      <th>Année de Changement</th>\n",
       "      <th>Type de non-forêt en 2015</th>\n",
       "      <th>Type de forêt en 2015</th>\n",
       "      <th>Commentaires</th>\n",
       "      <th>collection</th>\n",
       "      <th>ChangeType</th>\n",
       "      <th>ChangeYear</th>\n",
       "    </tr>\n",
       "  </thead>\n",
       "  <tbody>\n",
       "    <tr>\n",
       "      <th>0</th>\n",
       "      <td>25921</td>\n",
       "      <td>25921</td>\n",
       "      <td>0.985209</td>\n",
       "      <td>10.808075</td>\n",
       "      <td>1</td>\n",
       "      <td>0.061333</td>\n",
       "      <td>0.061333</td>\n",
       "      <td>0</td>\n",
       "      <td>NaN</td>\n",
       "      <td>NaN</td>\n",
       "      <td>NaN</td>\n",
       "      <td>NaN</td>\n",
       "      <td>NaN</td>\n",
       "      <td>NaN</td>\n",
       "      <td>NaN</td>\n",
       "      <td>NaN</td>\n",
       "      <td>NaN</td>\n",
       "      <td>NaN</td>\n",
       "      <td>NaN</td>\n",
       "      <td>NaN</td>\n",
       "      <td>NaN</td>\n",
       "      <td>NaN</td>\n",
       "      <td>NaN</td>\n",
       "      <td>NaN</td>\n",
       "      <td>NaN</td>\n",
       "      <td>NaN</td>\n",
       "      <td>NaN</td>\n",
       "      <td>NaN</td>\n",
       "      <td>NaN</td>\n",
       "      <td>NaN</td>\n",
       "      <td>NaN</td>\n",
       "      <td>NaN</td>\n",
       "      <td>NaN</td>\n",
       "      <td></td>\n",
       "      <td></td>\n",
       "    </tr>\n",
       "    <tr>\n",
       "      <th>1</th>\n",
       "      <td>25922</td>\n",
       "      <td>25922</td>\n",
       "      <td>0.994860</td>\n",
       "      <td>10.813032</td>\n",
       "      <td>1</td>\n",
       "      <td>0.029333</td>\n",
       "      <td>0.029333</td>\n",
       "      <td>0</td>\n",
       "      <td>NaN</td>\n",
       "      <td>NaN</td>\n",
       "      <td>NaN</td>\n",
       "      <td>NaN</td>\n",
       "      <td>NaN</td>\n",
       "      <td>NaN</td>\n",
       "      <td>NaN</td>\n",
       "      <td>NaN</td>\n",
       "      <td>NaN</td>\n",
       "      <td>NaN</td>\n",
       "      <td>NaN</td>\n",
       "      <td>NaN</td>\n",
       "      <td>NaN</td>\n",
       "      <td>NaN</td>\n",
       "      <td>NaN</td>\n",
       "      <td>NaN</td>\n",
       "      <td>NaN</td>\n",
       "      <td>NaN</td>\n",
       "      <td>NaN</td>\n",
       "      <td>NaN</td>\n",
       "      <td>NaN</td>\n",
       "      <td>NaN</td>\n",
       "      <td>NaN</td>\n",
       "      <td>NaN</td>\n",
       "      <td>NaN</td>\n",
       "      <td></td>\n",
       "      <td></td>\n",
       "    </tr>\n",
       "    <tr>\n",
       "      <th>2</th>\n",
       "      <td>37361</td>\n",
       "      <td>37361</td>\n",
       "      <td>-2.113984</td>\n",
       "      <td>9.518357</td>\n",
       "      <td>1</td>\n",
       "      <td>0.103333</td>\n",
       "      <td>0.103333</td>\n",
       "      <td>0</td>\n",
       "      <td>NaN</td>\n",
       "      <td>NaN</td>\n",
       "      <td>NaN</td>\n",
       "      <td>NaN</td>\n",
       "      <td>NaN</td>\n",
       "      <td>NaN</td>\n",
       "      <td>NaN</td>\n",
       "      <td>NaN</td>\n",
       "      <td>NaN</td>\n",
       "      <td>NaN</td>\n",
       "      <td>NaN</td>\n",
       "      <td>NaN</td>\n",
       "      <td>NaN</td>\n",
       "      <td>NaN</td>\n",
       "      <td>NaN</td>\n",
       "      <td>NaN</td>\n",
       "      <td>NaN</td>\n",
       "      <td>NaN</td>\n",
       "      <td>NaN</td>\n",
       "      <td>NaN</td>\n",
       "      <td>NaN</td>\n",
       "      <td>NaN</td>\n",
       "      <td>NaN</td>\n",
       "      <td>NaN</td>\n",
       "      <td>NaN</td>\n",
       "      <td></td>\n",
       "      <td></td>\n",
       "    </tr>\n",
       "    <tr>\n",
       "      <th>3</th>\n",
       "      <td>37362</td>\n",
       "      <td>37362</td>\n",
       "      <td>-2.104343</td>\n",
       "      <td>9.523366</td>\n",
       "      <td>1</td>\n",
       "      <td>0.044667</td>\n",
       "      <td>0.044667</td>\n",
       "      <td>0</td>\n",
       "      <td>NaN</td>\n",
       "      <td>NaN</td>\n",
       "      <td>NaN</td>\n",
       "      <td>NaN</td>\n",
       "      <td>NaN</td>\n",
       "      <td>NaN</td>\n",
       "      <td>NaN</td>\n",
       "      <td>NaN</td>\n",
       "      <td>NaN</td>\n",
       "      <td>NaN</td>\n",
       "      <td>NaN</td>\n",
       "      <td>NaN</td>\n",
       "      <td>NaN</td>\n",
       "      <td>NaN</td>\n",
       "      <td>NaN</td>\n",
       "      <td>NaN</td>\n",
       "      <td>NaN</td>\n",
       "      <td>NaN</td>\n",
       "      <td>NaN</td>\n",
       "      <td>NaN</td>\n",
       "      <td>NaN</td>\n",
       "      <td>NaN</td>\n",
       "      <td>NaN</td>\n",
       "      <td>NaN</td>\n",
       "      <td>NaN</td>\n",
       "      <td></td>\n",
       "      <td></td>\n",
       "    </tr>\n",
       "    <tr>\n",
       "      <th>4</th>\n",
       "      <td>37781</td>\n",
       "      <td>37781</td>\n",
       "      <td>-2.113978</td>\n",
       "      <td>9.528307</td>\n",
       "      <td>1</td>\n",
       "      <td>0.108000</td>\n",
       "      <td>0.108000</td>\n",
       "      <td>0</td>\n",
       "      <td>NaN</td>\n",
       "      <td>NaN</td>\n",
       "      <td>NaN</td>\n",
       "      <td>NaN</td>\n",
       "      <td>NaN</td>\n",
       "      <td>NaN</td>\n",
       "      <td>NaN</td>\n",
       "      <td>NaN</td>\n",
       "      <td>NaN</td>\n",
       "      <td>NaN</td>\n",
       "      <td>NaN</td>\n",
       "      <td>NaN</td>\n",
       "      <td>NaN</td>\n",
       "      <td>NaN</td>\n",
       "      <td>NaN</td>\n",
       "      <td>NaN</td>\n",
       "      <td>NaN</td>\n",
       "      <td>NaN</td>\n",
       "      <td>NaN</td>\n",
       "      <td>NaN</td>\n",
       "      <td>NaN</td>\n",
       "      <td>NaN</td>\n",
       "      <td>NaN</td>\n",
       "      <td>NaN</td>\n",
       "      <td>NaN</td>\n",
       "      <td></td>\n",
       "      <td></td>\n",
       "    </tr>\n",
       "  </tbody>\n",
       "</table>\n",
       "</div>"
      ],
      "text/plain": [
       "   point_id  plotid       lat        lon  stratum  chg_prob  simple_combined  \\\n",
       "0     25921   25921  0.985209  10.808075        1  0.061333         0.061333   \n",
       "1     25922   25922  0.994860  10.813032        1  0.029333         0.029333   \n",
       "2     37361   37361 -2.113984   9.518357        1  0.103333         0.103333   \n",
       "3     37362   37362 -2.104343   9.523366        1  0.044667         0.044667   \n",
       "4     37781   37781 -2.113978   9.528307        1  0.108000         0.108000   \n",
       "\n",
       "   interpreted  sampleid email flagged collection_time analysis_duration  \\\n",
       "0            0       NaN   NaN     NaN             NaN               NaN   \n",
       "1            0       NaN   NaN     NaN             NaN               NaN   \n",
       "2            0       NaN   NaN     NaN             NaN               NaN   \n",
       "3            0       NaN   NaN     NaN             NaN               NaN   \n",
       "4            0       NaN   NaN     NaN             NaN               NaN   \n",
       "\n",
       "  sample_geom forêt ou non-forêt en 2015? Y'a t'il de la régéneration  \\\n",
       "0         NaN                         NaN                         NaN   \n",
       "1         NaN                         NaN                         NaN   \n",
       "2         NaN                         NaN                         NaN   \n",
       "3         NaN                         NaN                         NaN   \n",
       "4         NaN                         NaN                         NaN   \n",
       "\n",
       "  Changement entre 2015-2022 Type de Changement (2015-2022)  \\\n",
       "0                        NaN                            NaN   \n",
       "1                        NaN                            NaN   \n",
       "2                        NaN                            NaN   \n",
       "3                        NaN                            NaN   \n",
       "4                        NaN                            NaN   \n",
       "\n",
       "  Exploitation forestière artisanale (<5ha) Activité minière artisanale  \\\n",
       "0                                       NaN                         NaN   \n",
       "1                                       NaN                         NaN   \n",
       "2                                       NaN                         NaN   \n",
       "3                                       NaN                         NaN   \n",
       "4                                       NaN                         NaN   \n",
       "\n",
       "  Infrastructure routière Infrastructure d’urbanisation ou habitations  \\\n",
       "0                     NaN                                          NaN   \n",
       "1                     NaN                                          NaN   \n",
       "2                     NaN                                          NaN   \n",
       "3                     NaN                                          NaN   \n",
       "4                     NaN                                          NaN   \n",
       "\n",
       "  Exploitation forestière industrielle (>5ha) Autre moteur  \\\n",
       "0                                         NaN          NaN   \n",
       "1                                         NaN          NaN   \n",
       "2                                         NaN          NaN   \n",
       "3                                         NaN          NaN   \n",
       "4                                         NaN          NaN   \n",
       "\n",
       "  Descriptif autre moteur Activité minière industrielle  \\\n",
       "0                     NaN                           NaN   \n",
       "1                     NaN                           NaN   \n",
       "2                     NaN                           NaN   \n",
       "3                     NaN                           NaN   \n",
       "4                     NaN                           NaN   \n",
       "\n",
       "  Agriculture industrielle Agriculture paysanne  Année de Changement  \\\n",
       "0                      NaN                  NaN                  NaN   \n",
       "1                      NaN                  NaN                  NaN   \n",
       "2                      NaN                  NaN                  NaN   \n",
       "3                      NaN                  NaN                  NaN   \n",
       "4                      NaN                  NaN                  NaN   \n",
       "\n",
       "  Type de non-forêt en 2015 Type de forêt en 2015 Commentaires  collection  \\\n",
       "0                       NaN                   NaN          NaN         NaN   \n",
       "1                       NaN                   NaN          NaN         NaN   \n",
       "2                       NaN                   NaN          NaN         NaN   \n",
       "3                       NaN                   NaN          NaN         NaN   \n",
       "4                       NaN                   NaN          NaN         NaN   \n",
       "\n",
       "  ChangeType ChangeYear  \n",
       "0                        \n",
       "1                        \n",
       "2                        \n",
       "3                        \n",
       "4                        "
      ]
     },
     "execution_count": 33,
     "metadata": {},
     "output_type": "execute_result"
    }
   ],
   "source": [
    "esbae_ceo.head()"
   ]
  },
  {
   "cell_type": "code",
   "execution_count": 34,
   "id": "60b15ae2-0dc1-4edc-896d-028c731faff6",
   "metadata": {
    "tags": []
   },
   "outputs": [
    {
     "name": "stdout",
     "output_type": "stream",
     "text": [
      "['point_id' 'plotid' 'lat' 'lon' 'stratum' 'chg_prob' 'simple_combined'\n",
      " 'interpreted' 'sampleid' 'email' 'flagged' 'collection_time'\n",
      " 'analysis_duration' 'sample_geom' 'forêt ou non-forêt en 2015?'\n",
      " \"Y'a t'il de la régéneration\" 'Changement entre 2015-2022'\n",
      " 'Type de Changement (2015-2022)'\n",
      " 'Exploitation forestière artisanale (<5ha)' 'Activité minière artisanale'\n",
      " 'Infrastructure routière' 'Infrastructure d’urbanisation ou habitations'\n",
      " 'Exploitation forestière industrielle (>5ha)' 'Autre moteur'\n",
      " 'Descriptif autre moteur' 'Activité minière industrielle'\n",
      " 'Agriculture industrielle' 'Agriculture paysanne' 'Année de Changement'\n",
      " 'Type de non-forêt en 2015' 'Type de forêt en 2015' 'Commentaires'\n",
      " 'collection' 'ChangeType' 'ChangeYear']\n"
     ]
    }
   ],
   "source": [
    "print(esbae_ceo.columns.values)"
   ]
  },
  {
   "cell_type": "code",
   "execution_count": 35,
   "id": "b11d713f-fc8b-4fb3-92b8-d8070726fde3",
   "metadata": {
    "tags": []
   },
   "outputs": [
    {
     "data": {
      "text/plain": [
       "           217891\n",
       "Def2016        15\n",
       "Def2017        11\n",
       "Def2018         6\n",
       "Def2019         2\n",
       "Def2020         6\n",
       "Def2021         7\n",
       "Def2022        11\n",
       "Deg2016        14\n",
       "Deg2017        12\n",
       "Deg2018        14\n",
       "Deg2019        10\n",
       "Deg2020        19\n",
       "Deg2021        14\n",
       "Deg2022        29\n",
       "NF           1091\n",
       "Stable       3726\n",
       "Name: ChangeYear, dtype: int64"
      ]
     },
     "execution_count": 35,
     "metadata": {},
     "output_type": "execute_result"
    }
   ],
   "source": [
    "merged_annual_counts = esbae_ceo['ChangeYear'].value_counts()\n",
    "merged_annual_counts = merged_annual_counts.sort_index()\n",
    "merged_annual_counts"
   ]
  },
  {
   "cell_type": "code",
   "execution_count": 36,
   "id": "28ba55f8-c672-43c9-bff1-667f09029210",
   "metadata": {},
   "outputs": [
    {
     "data": {
      "text/html": [
       "<div>\n",
       "<style scoped>\n",
       "    .dataframe tbody tr th:only-of-type {\n",
       "        vertical-align: middle;\n",
       "    }\n",
       "\n",
       "    .dataframe tbody tr th {\n",
       "        vertical-align: top;\n",
       "    }\n",
       "\n",
       "    .dataframe thead th {\n",
       "        text-align: right;\n",
       "    }\n",
       "</style>\n",
       "<table border=\"1\" class=\"dataframe\">\n",
       "  <thead>\n",
       "    <tr style=\"text-align: right;\">\n",
       "      <th></th>\n",
       "      <th>point_id</th>\n",
       "      <th>plotid</th>\n",
       "      <th>lat</th>\n",
       "      <th>lon</th>\n",
       "      <th>stratum</th>\n",
       "      <th>chg_prob</th>\n",
       "      <th>simple_combined</th>\n",
       "      <th>interpreted</th>\n",
       "      <th>sampleid</th>\n",
       "      <th>Année de Changement</th>\n",
       "      <th>collection</th>\n",
       "    </tr>\n",
       "  </thead>\n",
       "  <tbody>\n",
       "    <tr>\n",
       "      <th>count</th>\n",
       "      <td>222878.000000</td>\n",
       "      <td>222878.000000</td>\n",
       "      <td>222878.000000</td>\n",
       "      <td>222878.000000</td>\n",
       "      <td>222878.000000</td>\n",
       "      <td>222878.000000</td>\n",
       "      <td>222878.000000</td>\n",
       "      <td>222878.000000</td>\n",
       "      <td>4987.000000</td>\n",
       "      <td>170.000000</td>\n",
       "      <td>4987.000000</td>\n",
       "    </tr>\n",
       "    <tr>\n",
       "      <th>mean</th>\n",
       "      <td>112590.241756</td>\n",
       "      <td>112277.624597</td>\n",
       "      <td>-0.605674</td>\n",
       "      <td>11.789000</td>\n",
       "      <td>1.275047</td>\n",
       "      <td>0.090761</td>\n",
       "      <td>0.090761</td>\n",
       "      <td>0.022375</td>\n",
       "      <td>91632.625627</td>\n",
       "      <td>2019.200000</td>\n",
       "      <td>2.331863</td>\n",
       "    </tr>\n",
       "    <tr>\n",
       "      <th>std</th>\n",
       "      <td>64745.112261</td>\n",
       "      <td>64934.327732</td>\n",
       "      <td>1.364103</td>\n",
       "      <td>1.379958</td>\n",
       "      <td>0.540407</td>\n",
       "      <td>0.110037</td>\n",
       "      <td>0.110037</td>\n",
       "      <td>0.147902</td>\n",
       "      <td>77313.842312</td>\n",
       "      <td>2.223064</td>\n",
       "      <td>1.061276</td>\n",
       "    </tr>\n",
       "    <tr>\n",
       "      <th>min</th>\n",
       "      <td>5.000000</td>\n",
       "      <td>1.000000</td>\n",
       "      <td>-3.951404</td>\n",
       "      <td>8.699735</td>\n",
       "      <td>1.000000</td>\n",
       "      <td>0.000000</td>\n",
       "      <td>0.000000</td>\n",
       "      <td>0.000000</td>\n",
       "      <td>1.000000</td>\n",
       "      <td>2016.000000</td>\n",
       "      <td>1.000000</td>\n",
       "    </tr>\n",
       "    <tr>\n",
       "      <th>25%</th>\n",
       "      <td>56616.250000</td>\n",
       "      <td>56131.250000</td>\n",
       "      <td>-1.631947</td>\n",
       "      <td>10.696994</td>\n",
       "      <td>1.000000</td>\n",
       "      <td>0.025333</td>\n",
       "      <td>0.025333</td>\n",
       "      <td>0.000000</td>\n",
       "      <td>12548.000000</td>\n",
       "      <td>2017.000000</td>\n",
       "      <td>2.000000</td>\n",
       "    </tr>\n",
       "    <tr>\n",
       "      <th>50%</th>\n",
       "      <td>112471.500000</td>\n",
       "      <td>112169.500000</td>\n",
       "      <td>-0.657397</td>\n",
       "      <td>11.745932</td>\n",
       "      <td>1.000000</td>\n",
       "      <td>0.058667</td>\n",
       "      <td>0.058667</td>\n",
       "      <td>0.000000</td>\n",
       "      <td>80555.000000</td>\n",
       "      <td>2020.000000</td>\n",
       "      <td>2.000000</td>\n",
       "    </tr>\n",
       "    <tr>\n",
       "      <th>75%</th>\n",
       "      <td>168541.750000</td>\n",
       "      <td>168391.750000</td>\n",
       "      <td>0.473475</td>\n",
       "      <td>12.918008</td>\n",
       "      <td>1.000000</td>\n",
       "      <td>0.106000</td>\n",
       "      <td>0.106000</td>\n",
       "      <td>0.000000</td>\n",
       "      <td>160456.500000</td>\n",
       "      <td>2021.000000</td>\n",
       "      <td>2.000000</td>\n",
       "    </tr>\n",
       "    <tr>\n",
       "      <th>max</th>\n",
       "      <td>225179.000000</td>\n",
       "      <td>225179.000000</td>\n",
       "      <td>2.315793</td>\n",
       "      <td>14.524399</td>\n",
       "      <td>3.000000</td>\n",
       "      <td>0.963333</td>\n",
       "      <td>0.963333</td>\n",
       "      <td>1.000000</td>\n",
       "      <td>225179.000000</td>\n",
       "      <td>2022.000000</td>\n",
       "      <td>5.000000</td>\n",
       "    </tr>\n",
       "  </tbody>\n",
       "</table>\n",
       "</div>"
      ],
      "text/plain": [
       "            point_id         plotid            lat            lon  \\\n",
       "count  222878.000000  222878.000000  222878.000000  222878.000000   \n",
       "mean   112590.241756  112277.624597      -0.605674      11.789000   \n",
       "std     64745.112261   64934.327732       1.364103       1.379958   \n",
       "min         5.000000       1.000000      -3.951404       8.699735   \n",
       "25%     56616.250000   56131.250000      -1.631947      10.696994   \n",
       "50%    112471.500000  112169.500000      -0.657397      11.745932   \n",
       "75%    168541.750000  168391.750000       0.473475      12.918008   \n",
       "max    225179.000000  225179.000000       2.315793      14.524399   \n",
       "\n",
       "             stratum       chg_prob  simple_combined    interpreted  \\\n",
       "count  222878.000000  222878.000000    222878.000000  222878.000000   \n",
       "mean        1.275047       0.090761         0.090761       0.022375   \n",
       "std         0.540407       0.110037         0.110037       0.147902   \n",
       "min         1.000000       0.000000         0.000000       0.000000   \n",
       "25%         1.000000       0.025333         0.025333       0.000000   \n",
       "50%         1.000000       0.058667         0.058667       0.000000   \n",
       "75%         1.000000       0.106000         0.106000       0.000000   \n",
       "max         3.000000       0.963333         0.963333       1.000000   \n",
       "\n",
       "            sampleid  Année de Changement   collection  \n",
       "count    4987.000000           170.000000  4987.000000  \n",
       "mean    91632.625627          2019.200000     2.331863  \n",
       "std     77313.842312             2.223064     1.061276  \n",
       "min         1.000000          2016.000000     1.000000  \n",
       "25%     12548.000000          2017.000000     2.000000  \n",
       "50%     80555.000000          2020.000000     2.000000  \n",
       "75%    160456.500000          2021.000000     2.000000  \n",
       "max    225179.000000          2022.000000     5.000000  "
      ]
     },
     "execution_count": 36,
     "metadata": {},
     "output_type": "execute_result"
    }
   ],
   "source": [
    "esbae_ceo.describe()"
   ]
  },
  {
   "cell_type": "code",
   "execution_count": 37,
   "id": "14fcaa3e-1f21-43b1-a4ec-671a1950134c",
   "metadata": {
    "tags": []
   },
   "outputs": [
    {
     "name": "stdout",
     "output_type": "stream",
     "text": [
      "point_id                                          int64\n",
      "plotid                                            int64\n",
      "lat                                             float64\n",
      "lon                                             float64\n",
      "stratum                                           int64\n",
      "chg_prob                                        float64\n",
      "simple_combined                                 float64\n",
      "interpreted                                       int64\n",
      "sampleid                                        float64\n",
      "email                                            object\n",
      "flagged                                          object\n",
      "collection_time                                  object\n",
      "analysis_duration                                object\n",
      "sample_geom                                      object\n",
      "forêt ou non-forêt en 2015?                      object\n",
      "Y'a t'il de la régéneration                      object\n",
      "Changement entre 2015-2022                       object\n",
      "Type de Changement (2015-2022)                   object\n",
      "Exploitation forestière artisanale (<5ha)        object\n",
      "Activité minière artisanale                      object\n",
      "Infrastructure routière                          object\n",
      "Infrastructure d’urbanisation ou habitations     object\n",
      "Exploitation forestière industrielle (>5ha)      object\n",
      "Autre moteur                                     object\n",
      "Descriptif autre moteur                          object\n",
      "Activité minière industrielle                    object\n",
      "Agriculture industrielle                         object\n",
      "Agriculture paysanne                             object\n",
      "Année de Changement                             float64\n",
      "Type de non-forêt en 2015                        object\n",
      "Type de forêt en 2015                            object\n",
      "Commentaires                                     object\n",
      "collection                                      float64\n",
      "ChangeType                                       object\n",
      "ChangeYear                                       object\n",
      "dtype: object\n"
     ]
    }
   ],
   "source": [
    "print(esbae_ceo.dtypes)"
   ]
  },
  {
   "cell_type": "code",
   "execution_count": 38,
   "id": "f5f26d73-d81c-40d0-b35c-def9c5047345",
   "metadata": {
    "tags": []
   },
   "outputs": [],
   "source": [
    "esbae_ceo_columns = ['point_id' 'plotid' 'lat' 'lon' 'stratum' 'chg_prob' 'simple_combined'\n",
    " 'NOM' 'interpreted' 'sampleid' 'email' 'flagged' 'collection_time'\n",
    " 'analysis_duration' 'sample_geom' 'forêt ou non-forêt en 2015?'\n",
    " \"Y'a t'il de la régéneration\" 'Changement entre 2015-2022'\n",
    " 'Type de Changement (2015-2022)'\n",
    " 'Exploitation forestière artisanale (<5ha)' 'Activité minière artisanale'\n",
    " 'Infrastructure routière' 'Infrastructure d’urbanisation ou habitations'\n",
    " 'Exploitation forestière industrielle (>5ha)' 'Autre moteur'\n",
    " 'Descriptif autre moteur' 'Activité minière industrielle'\n",
    " 'Agriculture industrielle' 'Agriculture paysanne' 'Année de Changement'\n",
    " 'Type de non-forêt en 2015' 'Type de forêt en 2015' 'Commentaires'\n",
    " 'collection' 'ChangeType' 'ChangeYear']"
   ]
  },
  {
   "cell_type": "code",
   "execution_count": 39,
   "id": "28b828d0-3250-44bc-a5ff-924ef3ac3e29",
   "metadata": {
    "tags": []
   },
   "outputs": [
    {
     "data": {
      "text/plain": [
       "222878"
      ]
     },
     "execution_count": 39,
     "metadata": {},
     "output_type": "execute_result"
    }
   ],
   "source": [
    "len(esbae_ceo)"
   ]
  },
  {
   "cell_type": "markdown",
   "id": "60bd0119-9d19-461b-854a-7d1345b01984",
   "metadata": {},
   "source": [
    "##### export merged esbae and ceo data to one csv file for next step"
   ]
  },
  {
   "cell_type": "code",
   "execution_count": 40,
   "id": "a3199a69-7b32-4d91-9e59-f2daa370a714",
   "metadata": {
    "tags": []
   },
   "outputs": [],
   "source": [
    "data_out =  '/home/sepal-user/module_results/esbae/GAB/GAB_esbae_ceo_merge.csv'\n",
    "esbae_ceo.to_csv(data_out,index=True)"
   ]
  },
  {
   "cell_type": "markdown",
   "id": "6930c9dc-3ca9-40f8-a2d0-e8d46edbe4dc",
   "metadata": {},
   "source": [
    "#### now move on to calculation of areas - script 6b"
   ]
  }
 ],
 "metadata": {
  "kernelspec": {
   "display_name": "Python 3",
   "language": "python",
   "name": "python3"
  },
  "language_info": {
   "codemirror_mode": {
    "name": "ipython",
    "version": 3
   },
   "file_extension": ".py",
   "mimetype": "text/x-python",
   "name": "python",
   "nbconvert_exporter": "python",
   "pygments_lexer": "ipython3",
   "version": "3.8.10"
  }
 },
 "nbformat": 4,
 "nbformat_minor": 5
}
