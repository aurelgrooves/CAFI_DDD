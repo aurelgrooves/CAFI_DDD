{
 "cells": [
  {
   "cell_type": "markdown",
   "id": "d0b45b24-6cc1-44b4-ba38-dd9b053e49dc",
   "metadata": {
    "tags": []
   },
   "source": [
    "# V - Merging esbae with CEO data \n",
    "### This script serves to merge validated data from CEO with eSBAE points for quick estimation of areas\n",
    "#### This script requires an m16 instance and select the python 3 kernel\n",
    "###### For more information contact aurelie.shapiro@fao.org or remi.dannunzio@fao.org"
   ]
  },
  {
   "cell_type": "code",
   "execution_count": 1,
   "id": "7899a542-decb-4052-8f0d-44d83d23ba6d",
   "metadata": {
    "tags": []
   },
   "outputs": [],
   "source": [
    "import pandas as pd\n",
    "import numpy as np\n",
    "import matplotlib.pyplot as plt\n",
    "pd.set_option('display.max_columns', None)\n",
    "pd.set_option('display.max_rows', None)"
   ]
  },
  {
   "cell_type": "markdown",
   "id": "b5b5e710-f28e-4862-ac7f-f072e4672886",
   "metadata": {},
   "source": [
    "#### combine all CEO sample files\n",
    "##### download your CEO sample files from collect.earth and upload to SEPAL using FileZilla.\n",
    "##### add as many files as you have projects"
   ]
  },
  {
   "cell_type": "code",
   "execution_count": 2,
   "id": "dbf603c5-ed47-4e36-b271-26e6200a3737",
   "metadata": {
    "tags": []
   },
   "outputs": [],
   "source": [
    "#DRC\n",
    "#ceo1 = pd.read_csv('/home/sepal-user/module_results/esbae/DRC/ceo-CAFI-DDD-RDC-eSBAE-validation-1-sample-data_prov.csv')\n",
    "#ceo2 = pd.read_csv('/home/sepal-user/module_results/esbae/DRC/ceo-CAFI-DDD-RDC-eSBAE-validation-2-sample-data.csv')\n",
    "#ceo3 = pd.read_csv('/home/sepal-user/module_results/esbae/DRC/ceo-CAFI-DDD-RDC-eSBAE-validation-3-sample-data.csv')\n",
    "#GAB\n",
    "ceo1 = pd.read_csv('/home/sepal-user/module_results/esbae/GAB/ceo-CAFI-DDD-Gabon-eSBAE-validation-1-sample-data.csv')\n",
    "ceo2 = pd.read_csv('/home/sepal-user/module_results/esbae/GAB/ceo-CAFI-DDD-Gabon-eSBAE-validation-2-sample-data.csv')\n",
    "ceo3 = pd.read_csv('/home/sepal-user/module_results/esbae/GAB/ceo-CAFI-DDD-Gabon-eSBAE-validation-3-sample-data.csv')\n",
    "ceo4 = pd.read_csv('/home/sepal-user/module_results/esbae/GAB/ceo-CAFI-DDD-Gabon-eSBAE-validation-4-sample-data.csv')\n",
    "ceo5 = pd.read_csv('/home/sepal-user/module_results/esbae/GAB/ceo-CAFI-DDD-Gabon-eSBAE-validation-5-sample-data.csv')"
   ]
  },
  {
   "cell_type": "markdown",
   "id": "6f1635a7-2e97-4128-be10-901c426e72e8",
   "metadata": {},
   "source": [
    "##### drop duplicates from ceo collections\n",
    "###### keep first duplicate by date"
   ]
  },
  {
   "cell_type": "code",
   "execution_count": 3,
   "id": "aa3ab8ff-9649-44f5-99c4-90089d9a6f51",
   "metadata": {
    "tags": []
   },
   "outputs": [
    {
     "name": "stdout",
     "output_type": "stream",
     "text": [
      "['plotid', 'sampleid', 'lon', 'lat', 'email', 'flagged', 'collection_time', 'analysis_duration', 'imagery_title', 'imagery_attributions', 'sample_geom', 'pl_aspect', 'pl_brightness_max', 'pl_red_mean', 'pl_greenness_max', 'pl_cusum_confidence', 'pl_cusum_change_date', 'pl_nir_max', 'pl_red_min', 'pl_bfast_means', 'pl_elevation', 'pl_red_sd', 'pl_cnc_1520', 'pl_swir1_sd', 'pl_index', 'pl_tmf_sub', 'pl_dw_tree_prob__min', 'pl_bs_slope_max', 'pl_red_max', 'pl_images', 'pl_dist', 'pl_bfast_magnitude', 'pl_ccdc_magnitude', 'pl_simple_combined', 'pl_tmf_defyear', 'pl_greenness_mean', 'pl_tmf_2019', 'pl_swir2_sd', 'pl_nir_sd', 'pl_gfc_tc00', 'pl_greenness_min', 'pl_tmf_degyear', 'pl_tmf_2020', 'pl_tmf_2017', 'pl_bs_slope_min', 'pl_lang_tree_height', 'pl_bs_slope_sd', 'pl_dw_class_mode', 'pl_swir1_mean', 'pl_wetness_sd', 'pl_bs_slope_mean', 'pl_ccdc_change_date', 'pl_dw_tree_prob_mean', 'pl_nir_mean', 'pl_dw_tree_prob__stddev', 'pl_tmf_2016', 'pl_nir_min', 'pl_esri_lc17', 'pl_wetness_mean', 'pl_ndfi_min', 'pl_wetness_min', 'pl_point_id', 'pl_kmeans', 'pl_swir2_mean', 'pl_esri_lc19', 'pl_slope', 'pl_cusum_magnitude', 'pl_esri_lc18', 'pl_gfc_loss', 'pl_esri_lc20', 'pl_swir1_max', 'pl_swir1_min', 'pl_mon_images', 'pl_esa_lc20', 'pl_brightness_min', 'pl_brightness_mean', 'pl_potapov_tree_height', 'pl_gfc_lossyear', 'pl_wetness_max', 'pl_swir2_max', 'pl_bfast_change_date', 'pl_gfc_gain', 'pl_brightness_sd', 'pl_tmf_2018', 'pl_dw_tree_prob__max', 'pl_strata', 'pl_ndfi_max', 'pl_esri_lc21', 'pl_swir2_min', 'pl_esa_lc21', 'pl_ndfi_sd', 'pl_tmf_main', 'pl_greenness_sd', 'pl_chg_prob', 'pl_ndfi_mean', 'forêt ou non-forêt en 2015?', \"Y'a t'il de la régéneration\", 'Changement entre 2015-2022', 'Type de Changement (2015-2022)', 'Exploitation forestière artisanale (<5ha)', 'Activité minière artisanale', 'Infrastructure routière', 'Infrastructure d’urbanisation ou habitations', 'Exploitation forestière industrielle (>5ha)', 'Autre moteur', 'Descriptif autre moteur', 'Activité minière industrielle', 'Agriculture industrielle', 'Agriculture paysanne', 'Année de Changement', 'Type de non-forêt en 2015', 'Type de forêt en 2015', 'Commentaires']\n"
     ]
    }
   ],
   "source": [
    "column_names = ceo1.columns.tolist()\n",
    "# Print the list of column names\n",
    "print(column_names)"
   ]
  },
  {
   "cell_type": "markdown",
   "id": "86bae5e0-8169-40be-98ff-f7cc8fa3b044",
   "metadata": {},
   "source": [
    "##### merge all ceo files"
   ]
  },
  {
   "cell_type": "code",
   "execution_count": 4,
   "id": "30ee1ce6-6324-44b3-a48e-a1d86ff37808",
   "metadata": {
    "tags": []
   },
   "outputs": [],
   "source": [
    "#make a list of the ceo files first\n",
    "ceo_files = [ceo1, ceo2, ceo3,ceo4,ceo5]"
   ]
  },
  {
   "cell_type": "markdown",
   "id": "e405fab6-a8a0-4461-96e4-091177c712f3",
   "metadata": {},
   "source": [
    "##### add a column named \"interpreted\" which = 1 when the point has been validated in CEO, otherwise 0\n",
    "##### count the number of validated points per ceo file\n",
    "##### replace forest and non-forest types with codes"
   ]
  },
  {
   "cell_type": "code",
   "execution_count": 5,
   "id": "d9c12ded-8591-4487-9494-68b2081e3987",
   "metadata": {
    "tags": []
   },
   "outputs": [
    {
     "name": "stdout",
     "output_type": "stream",
     "text": [
      "ceo 1 # of validated points: 499, # of not validated points: 0\n",
      "ceo 2 # of validated points: 3524, # of not validated points: 0\n",
      "ceo 3 # of validated points: 367, # of not validated points: 4260\n",
      "ceo 4 # of validated points: 49, # of not validated points: 4211\n",
      "ceo 5 # of validated points: 1726, # of not validated points: 2485\n"
     ]
    }
   ],
   "source": [
    "# List to store the modified DataFrames\n",
    "modified_ceo_files = []\n",
    "\n",
    "# Initialize collection counter\n",
    "collection_counter = 1\n",
    "\n",
    "for i, ceo in enumerate(ceo_files):\n",
    "       \n",
    "    # Sort the DataFrame by 'date' in descending order\n",
    "    ceo.sort_values(by='collection_time', ascending=True, inplace=True)\n",
    "\n",
    "    # Remove duplicates keeping the last occurrence (the most recent date)\n",
    "    ceo.drop_duplicates(subset='pl_point_id', keep='first', inplace=True)\n",
    "\n",
    "    # Reset the index\n",
    "    ceo.reset_index(drop=True, inplace=True)\n",
    "    \n",
    "    # Add 'collection' column with an increasing number\n",
    "    ceo['collection'] = collection_counter\n",
    "    \n",
    "    # Add 'interpreted' column with 1 when 'email' is not null, otherwise 0\n",
    "    ceo['interpreted'] = np.where(ceo['email'].notna(), 1, 0)\n",
    "    \n",
    "    # Calculate total count for each 'interpreted' value\n",
    "    interpreted_counts = ceo['interpreted'].value_counts().to_dict()\n",
    "    \n",
    "    # Append the modified DataFrame to the list\n",
    "    modified_ceo_files.append(ceo)\n",
    "    \n",
    "    # Print count for the current DataFrame\n",
    "    print(f\"ceo {i + 1} # of validated points: {interpreted_counts.get(1, 0)}, # of not validated points: {interpreted_counts.get(0, 0)}\")\n",
    "    \n",
    "    # Increment the collection counter\n",
    "    collection_counter += 1\n",
    "\n",
    "# Concatenate the modified DataFrames into one merged DataFrame\n",
    "merged_ceo = pd.concat(modified_ceo_files, ignore_index=True)\n",
    "\n",
    "\n",
    "# Specify the columns you want to keep in the merged DataFrame\n",
    "columns_to_keep = ['plotid', 'sampleid', 'lon', 'lat', 'email', 'flagged', 'collection_time', 'analysis_duration', \n",
    "                    'sample_geom', 'pl_point_id', 'pl_chg_prob', 'pl_simple_combined', 'pl_strata', 'forêt ou non-forêt en 2015?', \"Y'a t'il de la régéneration\", \n",
    "                    'Changement entre 2015-2022', 'Type de Changement (2015-2022)', 'Exploitation forestière artisanale (<5ha)', \n",
    "                    'Activité minière artisanale', 'Infrastructure routière', 'Infrastructure d’urbanisation ou habitations', \n",
    "                    'Exploitation forestière industrielle (>5ha)', 'Autre moteur', 'Descriptif autre moteur', 'Activité minière industrielle', \n",
    "                    'Agriculture industrielle', 'Agriculture paysanne', 'Année de Changement', 'Type de non-forêt en 2015', 'Type de forêt en 2015', 'Commentaires', 'collection', 'interpreted']\n",
    "\n",
    "# Select only the specified columns\n",
    "merged_ceo = merged_ceo[columns_to_keep]\n",
    "\n",
    "# Create a dictionary to map old column names to new column names\n",
    "column_mapping = {\n",
    "    'pl_point_id': 'point_id',\n",
    "    'pl_chg_prob': 'chg_prob', \n",
    "    'pl_simple_combined': 'simple_combined', \n",
    "    'pl_strata': 'stratum',\n",
    "    'forêt ou non-forêt en 2015?': 'Ref_FNF_2015', \n",
    "    \"Y'a t'il de la régéneration\": 'Ref_regeneration',\n",
    "    'Changement entre 2015-2022': 'Ref_Change_1522', \n",
    "    'Type de Changement (2015-2022)': 'Ref_Change_Type_1522', \n",
    "    'Exploitation forestière artisanale (<5ha)': 'ArtFor',\n",
    "    'Activité minière artisanale': 'ArtMine',\n",
    "    'Infrastructure routière': 'InfraR', \n",
    "    'Infrastructure d’urbanisation ou habitations': 'Urb',\n",
    "    'Exploitation forestière industrielle (>5ha)':'IndFor', \n",
    "    'Autre moteur': 'Other', \n",
    "    'Descriptif autre moteur': 'Other_Desc', \n",
    "    'Activité minière industrielle': 'IndMine', \n",
    "    'Agriculture industrielle': 'IndAg', \n",
    "    'Agriculture paysanne': 'ArtFor', \n",
    "    'Année de Changement': 'Ref_Year', \n",
    "    'Type de non-forêt en 2015':'Ref_NFType', \n",
    "    'Type de forêt en 2015':'Ref_FType'\n",
    "}\n",
    "\n",
    "# Use the rename() method to rename the columns\n",
    "merged_ceo = merged_ceo.rename(columns=column_mapping)\n",
    "\n",
    "# Define the replacements as a dictionary\n",
    "replace_dict = {\n",
    "    'Ref_FNF_2015': {'non-forêt': '0', 'forêt': '1'},\n",
    "    'Ref_FType': {'1 - forêt dense': '1', '2 - forêt dense sèche': '2', '3 - forêt secondaire': '3','4 - forêt claire sèche': '4','7 - forêt mangrove': '7',\n",
    "                 '8 - forêt marécageuse': '8', '9 - forêt galérie': '9','10 - plantation forestière': '10', '11- savane arborée': '11'},\n",
    "    'Ref_NFType': {'12 - savane arbustive': '12', '13 - savane herbacée': '13', '14 - prairie aquatique': '14', '15 - sol nu végétation éparse': '15',\n",
    "                  '16 - terres cultivées': '16', '17 - zone baties': '17', '18 - eau': '18'},\n",
    "    'Ref_Change_1522': {'oui':'1','non':'0'},\n",
    "    'ArtFor':{'oui':'1','non':'0'},\n",
    "    'IndFor':{'oui':'1','non':'0'},\n",
    "    'ArtAg':{'oui':'1','non':'0'},\n",
    "    'IndAg':{'oui':'1','non':'0'},\n",
    "    'ArtMine':{'oui':'1','non':'0'},\n",
    "    'IndMine':{'oui':'1','non':'0'},\n",
    "    'Urb':{'oui':'1','non':'0'},\n",
    "    'InfraR':{'oui':'1','non':'0'},\n",
    "    'Other':{'oui':'1','non':'0'}\n",
    "}\n",
    "\n",
    "# Use the replace() method to replace strings in specified columns\n",
    "merged_ceo.replace(replace_dict, inplace=True)"
   ]
  },
  {
   "cell_type": "code",
   "execution_count": null,
   "id": "f69be9dc-43c2-4070-b63e-8d05f720209e",
   "metadata": {
    "tags": []
   },
   "outputs": [],
   "source": [
    "merged_ceo_interpreted = merged_ceo[merged_ceo['interpreted'] == 1]\n",
    "merged_ceo_interpreted = merged_ceo[merged_ceo['interpreted'].astype(int)"
   ]
  },
  {
   "cell_type": "code",
   "execution_count": null,
   "id": "0e2c49c5-65ce-48fe-8983-6e4163dc038f",
   "metadata": {
    "tags": []
   },
   "outputs": [],
   "source": [
    "ceo_column_names = merged_ceo_interpreted.columns.tolist()\n",
    "# Print the list of column names\n",
    "print(ceo_column_names)"
   ]
  },
  {
   "cell_type": "code",
   "execution_count": null,
   "id": "6bdb8226-1032-4724-92f7-f092444b46a4",
   "metadata": {
    "tags": []
   },
   "outputs": [],
   "source": [
    "merged_ceo_interpreted.head()"
   ]
  },
  {
   "cell_type": "code",
   "execution_count": null,
   "id": "4ff26c6c-3975-49b6-a148-9ec7c4559731",
   "metadata": {
    "tags": []
   },
   "outputs": [],
   "source": [
    "merged_ceo_interpreted = merged_ceo_interpreted.sort_values(by='collection', ascending=True)\n",
    "\n",
    "# Remove duplicates keeping the last occurrence (the most recent date)\n",
    "merged_ceo_nodup = merged_ceo_interpreted.drop_duplicates(subset='point_id', keep='first')\n",
    "\n",
    "# Reset the index\n",
    "merged_ceo_nodup = merged_ceo_nodup.reset_index(drop=True)"
   ]
  },
  {
   "cell_type": "code",
   "execution_count": null,
   "id": "2d96fd19-6809-413a-9696-c3991d50efbc",
   "metadata": {
    "tags": []
   },
   "outputs": [],
   "source": [
    "merged_ceo_nodup['Ref_FNF_2015'].value_counts()"
   ]
  },
  {
   "cell_type": "code",
   "execution_count": null,
   "id": "c29d4ef8-380e-40d1-8348-7dba22f200e2",
   "metadata": {
    "tags": []
   },
   "outputs": [],
   "source": [
    "merged_ceo_nodup['Ref_Change_1522'].value_counts()"
   ]
  },
  {
   "cell_type": "code",
   "execution_count": null,
   "id": "0097c4de-9bca-4a73-bcf5-1c9afc87f88b",
   "metadata": {
    "tags": []
   },
   "outputs": [],
   "source": [
    "merged_ceo_nodup['Ref_Change_Type_1522'].value_counts()"
   ]
  },
  {
   "cell_type": "code",
   "execution_count": null,
   "id": "a37a3028-90b5-4dd1-a25e-efe01d0a5ad8",
   "metadata": {
    "tags": []
   },
   "outputs": [],
   "source": [
    "merged_ceo_nodup['interpreted'].value_counts()"
   ]
  },
  {
   "cell_type": "code",
   "execution_count": null,
   "id": "67e302cd-0a1b-4995-96df-0c912cf70bff",
   "metadata": {
    "tags": []
   },
   "outputs": [],
   "source": [
    "merged_ceo_nodup['collection'].value_counts()"
   ]
  },
  {
   "cell_type": "code",
   "execution_count": null,
   "id": "b7f73dd8-ef16-412a-b637-bce5a0b6c5b4",
   "metadata": {
    "tags": []
   },
   "outputs": [],
   "source": [
    "merged_ceo_nodup['stratum'].value_counts()"
   ]
  },
  {
   "cell_type": "markdown",
   "id": "0e453b46-551d-4204-be40-4803c4d25e60",
   "metadata": {},
   "source": [
    "##### Check if values in 'pointid' are unique"
   ]
  },
  {
   "cell_type": "code",
   "execution_count": null,
   "id": "eb09c9af-db98-4eee-92e5-d205a1016f3e",
   "metadata": {
    "tags": []
   },
   "outputs": [],
   "source": [
    "# this might take some time\n",
    "unique_check = merged_ceo_nodup['point_id'].nunique() == len(merged_ceo_nodup['point_id'])\n",
    "\n",
    "# Print the result\n",
    "if unique_check:\n",
    "    print(\"All values are unique!\")\n",
    "else:\n",
    "    print(\"F$%§!\")"
   ]
  },
  {
   "cell_type": "markdown",
   "id": "47d21c47-12fb-4d92-b151-5f1d1c140461",
   "metadata": {},
   "source": [
    "##### if there are duplicates determine which points and which project (collection)"
   ]
  },
  {
   "cell_type": "code",
   "execution_count": null,
   "id": "8d3c9161-5a6b-4e9c-963d-3e4964f0329d",
   "metadata": {
    "tags": []
   },
   "outputs": [],
   "source": [
    "# Find duplicate values in the 'ID' column\n",
    "#duplicate_ids = merged_ceo_nodup[merged_ceo_nodup.duplicated(subset='point_id', keep='first')]\n",
    "\n",
    "# If you want to print specific columns along with duplicates, you can do:\n",
    "# For example, print only 'ID' and 'Name' columns\n",
    "#print(\"\\nDuplicate Rows with 'ID' and 'Name':\")\n",
    "#print(duplicate_ids[['point_id', 'collection']])\n",
    "#len(duplicate_ids)"
   ]
  },
  {
   "cell_type": "code",
   "execution_count": null,
   "id": "540971c0-b71a-4555-b2ab-69e75c8c250a",
   "metadata": {
    "tags": []
   },
   "outputs": [],
   "source": [
    "#merged_ceo_nodup.head()"
   ]
  },
  {
   "cell_type": "markdown",
   "id": "aef10186-78cf-4634-83fd-7073f85cf3b0",
   "metadata": {},
   "source": [
    "## add new columns for change and year"
   ]
  },
  {
   "cell_type": "markdown",
   "id": "4a06d1d2-744d-4e25-a2fc-6a5f64b0467d",
   "metadata": {},
   "source": [
    "#### clean up columns and replace values"
   ]
  },
  {
   "cell_type": "code",
   "execution_count": null,
   "id": "57263f3a-6939-435c-ac66-b9ebe93f5875",
   "metadata": {
    "tags": []
   },
   "outputs": [],
   "source": [
    "def f(x):\n",
    "  if x['Ref_FNF_2015'] == '0' : return 'NF'\n",
    "  elif x['Ref_Change_Type_1522'] == 'déforestation': return 'Def'\n",
    "  elif x['Ref_Change_Type_1522'] == 'dégradation' : return 'Deg'\n",
    "  else: return 'Stable'\n",
    "\n",
    "merged_ceo_nodup['Ref_Change_Type_1522'] = merged_ceo_nodup.apply(f, axis=1)\n",
    "merged_ceo_nodup['Ref_Change_Type_1522'].value_counts()"
   ]
  },
  {
   "cell_type": "code",
   "execution_count": null,
   "id": "d31939f7-ce73-4b77-abe5-17b99aa943c4",
   "metadata": {
    "tags": []
   },
   "outputs": [],
   "source": [
    "def y(x):\n",
    "  if x['Ref_Change_Type_1522'] == 'Def' and x['Ref_Year'] == 2016: return 'Def2016'\n",
    "  elif x['Ref_Change_Type_1522'] == 'Def' and x['Ref_Year'] == 2017: return 'Def2017'\n",
    "  elif x['Ref_Change_Type_1522'] == 'Def' and x['Ref_Year'] == 2018: return 'Def2018'\n",
    "  elif x['Ref_Change_Type_1522'] == 'Def' and x['Ref_Year'] == 2019: return 'Def2019'\n",
    "  elif x['Ref_Change_Type_1522'] == 'Def' and x['Ref_Year'] == 2020: return 'Def2020'\n",
    "  elif x['Ref_Change_Type_1522'] == 'Def' and x['Ref_Year'] == 2021: return 'Def2021'\n",
    "  elif x['Ref_Change_Type_1522'] == 'Def' and x['Ref_Year'] == 2022: return 'Def2022'\n",
    "  elif x['Ref_Change_Type_1522'] == 'Deg' and x['Ref_Year'] == 2016: return 'Deg2016'\n",
    "  elif x['Ref_Change_Type_1522'] == 'Deg' and x['Ref_Year'] == 2017: return 'Deg2017'\n",
    "  elif x['Ref_Change_Type_1522'] == 'Deg' and x['Ref_Year'] == 2018: return 'Deg2018'\n",
    "  elif x['Ref_Change_Type_1522'] == 'Deg' and x['Ref_Year'] == 2019: return 'Deg2019'\n",
    "  elif x['Ref_Change_Type_1522'] == 'Deg' and x['Ref_Year'] == 2020: return 'Deg2020'\n",
    "  elif x['Ref_Change_Type_1522'] == 'Deg' and x['Ref_Year'] == 2021: return 'Deg2021'\n",
    "  elif x['Ref_Change_Type_1522'] == 'Deg' and x['Ref_Year'] == 2022: return 'Deg2022'\n",
    "  elif x['Ref_Change_Type_1522'] == 'NF' : return 'NF'\n",
    "  elif x['Ref_Change_Type_1522'] == 'Stable' : return 'Stable'\n",
    "  else: return ''\n",
    "\n",
    "merged_ceo_nodup['Ref_ChangeYear_1522'] = merged_ceo_nodup.apply(y, axis=1)\n",
    "\n",
    "annual_counts = merged_ceo_nodup['Ref_ChangeYear_1522'].value_counts()\n",
    "annual_counts = annual_counts.sort_index()\n",
    "print(annual_counts)"
   ]
  },
  {
   "cell_type": "code",
   "execution_count": null,
   "id": "a2951865-3ca2-42c9-a68c-9ce45fd46fef",
   "metadata": {
    "tags": []
   },
   "outputs": [],
   "source": [
    "annual_counts.sum()"
   ]
  },
  {
   "cell_type": "code",
   "execution_count": null,
   "id": "3dced9a5-9eb6-4f06-bc1a-19375d9ae2e5",
   "metadata": {
    "tags": []
   },
   "outputs": [],
   "source": [
    "#export cleaned CEO data\n",
    "ceo_out = '/home/sepal-user/module_results/esbae/GAB/GAB_esbae_all_ceo_clean.csv'\n",
    "merged_ceo_nodup.to_csv(ceo_out,index=True)"
   ]
  },
  {
   "cell_type": "markdown",
   "id": "3b5493dd-37d0-486e-8daf-29b413318e0e",
   "metadata": {},
   "source": [
    "#### read all esbae points with augmented data (output from script 5a)"
   ]
  },
  {
   "cell_type": "code",
   "execution_count": null,
   "id": "994e19b2-3bd9-400d-9919-b9373beca822",
   "metadata": {
    "tags": []
   },
   "outputs": [],
   "source": [
    "# Read the CSV files\n",
    "#DRC\n",
    "#esbae = pd.read_csv('/home/sepal-user/module_results/esbae/DRC/DRC_esbae_2015_2022_model.csv')\n",
    "#GAB\n",
    "esbae = pd.read_csv('/home/sepal-user/module_results/esbae/GAB/GAB_esbae_2015_2022_model.csv')\n",
    "len(esbae)"
   ]
  },
  {
   "cell_type": "code",
   "execution_count": null,
   "id": "8cbe9160-d221-405e-82f3-032d80ac5ac3",
   "metadata": {
    "tags": []
   },
   "outputs": [],
   "source": [
    "#save this for eSBAE calculations\n",
    "esbae['stratum'].value_counts()"
   ]
  },
  {
   "cell_type": "markdown",
   "id": "1b817a5b-862a-4db6-95a0-f77aa062d75d",
   "metadata": {},
   "source": [
    "##### Rename columns to be same as ceo file "
   ]
  },
  {
   "cell_type": "code",
   "execution_count": null,
   "id": "0f35df58-6413-4d11-b9ff-7c2f652da0a6",
   "metadata": {
    "tags": []
   },
   "outputs": [],
   "source": [
    "esbae = esbae.rename(columns={'PLOTID': 'plotid'})\n",
    "esbae = esbae.rename(columns={'LAT': 'lat'})\n",
    "esbae = esbae.rename(columns={'LON': 'lon'})"
   ]
  },
  {
   "cell_type": "code",
   "execution_count": null,
   "id": "f0ad0f19-b552-4019-915d-a02890b6183b",
   "metadata": {
    "tags": []
   },
   "outputs": [],
   "source": [
    "print(esbae.dtypes)"
   ]
  },
  {
   "cell_type": "code",
   "execution_count": null,
   "id": "449f951d-7aaf-452f-80cf-ad8305b7daaa",
   "metadata": {
    "tags": []
   },
   "outputs": [],
   "source": [
    "len(esbae)"
   ]
  },
  {
   "cell_type": "code",
   "execution_count": null,
   "id": "80f1e8b3-709f-4a87-8b2d-5445afc35bab",
   "metadata": {
    "tags": []
   },
   "outputs": [],
   "source": [
    "eSBAE_cols = esbae.columns\n",
    "eSBAE_cols"
   ]
  },
  {
   "cell_type": "markdown",
   "id": "3d699564-4605-445b-b157-8100ee053f03",
   "metadata": {},
   "source": [
    "### Merge ceo and sbae tables\n",
    "#### replace validated points in esbae points"
   ]
  },
  {
   "cell_type": "code",
   "execution_count": null,
   "id": "dc76170a-f34e-4ff7-bbce-aaddc01d8054",
   "metadata": {},
   "outputs": [],
   "source": [
    "#make list of point_ids of validated points\n",
    "validated_id_list = merged_ceo_nodup['point_id'].tolist()\n",
    "len(validated_id_list)"
   ]
  },
  {
   "cell_type": "code",
   "execution_count": null,
   "id": "c2d4c3d0-a285-4d4d-8d9e-b7235e043a14",
   "metadata": {
    "tags": []
   },
   "outputs": [],
   "source": [
    "# Merge ceo and sbae on \"pointid\" with an outer join\n",
    "esbae_ceo = pd.merge(esbae, merged_ceo_nodup, on='point_id', how='outer')"
   ]
  },
  {
   "cell_type": "code",
   "execution_count": null,
   "id": "186fce90-2a65-4d4b-a8ec-6d64709168b5",
   "metadata": {
    "tags": []
   },
   "outputs": [],
   "source": [
    "len(esbae_ceo) "
   ]
  },
  {
   "cell_type": "code",
   "execution_count": null,
   "id": "2706fbbf-4744-41c5-bd58-03c4b5a4bff2",
   "metadata": {
    "tags": []
   },
   "outputs": [],
   "source": [
    "esbae_ceo.head()"
   ]
  },
  {
   "cell_type": "markdown",
   "id": "27fdc0d6-d2ff-482b-93e5-736ea6acfd14",
   "metadata": {},
   "source": [
    "#### rename _x and _y columns"
   ]
  },
  {
   "cell_type": "code",
   "execution_count": null,
   "id": "615ac4df-3bae-4fcc-9d65-d6b094d5f043",
   "metadata": {
    "tags": []
   },
   "outputs": [],
   "source": [
    "#rename columns\n",
    "esbae_ceo.columns = esbae_ceo.columns.str.replace('_x', '')\n",
    "esbae_ceo.columns = esbae_ceo.columns.str.replace('_y', '')\n",
    "esbae_ceo.head()"
   ]
  },
  {
   "cell_type": "code",
   "execution_count": null,
   "id": "2ea74501-e56d-440c-9713-d4a3d134b2da",
   "metadata": {
    "tags": []
   },
   "outputs": [],
   "source": [
    "merged_columns = esbae_ceo.columns.tolist()\n",
    "print(merged_columns)"
   ]
  },
  {
   "cell_type": "code",
   "execution_count": null,
   "id": "471cef4f-647e-4ebf-adbd-443c7a7c3630",
   "metadata": {
    "tags": []
   },
   "outputs": [],
   "source": [
    "esbae_ceo['interpreted'].value_counts(dropna=False)"
   ]
  },
  {
   "cell_type": "code",
   "execution_count": null,
   "id": "ef5a019b-fce8-474e-a75c-4d442a303f69",
   "metadata": {
    "tags": []
   },
   "outputs": [],
   "source": [
    "esbae_ceo['interpreted'] = esbae_ceo['interpreted'].fillna(0)\n",
    "esbae_ceo['interpreted'] = esbae_ceo['interpreted'].astype(int)"
   ]
  },
  {
   "cell_type": "code",
   "execution_count": null,
   "id": "727458f1-b0da-4401-bd4f-f0fddddd3192",
   "metadata": {
    "tags": []
   },
   "outputs": [],
   "source": [
    "esbae_ceo['interpreted'].value_counts(dropna=False)"
   ]
  },
  {
   "cell_type": "code",
   "execution_count": null,
   "id": "dbc6a9bd-8fd3-49e9-8d56-e1420024ecc7",
   "metadata": {
    "tags": []
   },
   "outputs": [],
   "source": [
    "esbae_ceo['Ref_ChangeYear_1522'].value_counts(dropna=False)"
   ]
  },
  {
   "cell_type": "code",
   "execution_count": null,
   "id": "3cf0d99c-da70-40d3-8a5a-1a18bbbff28d",
   "metadata": {
    "tags": []
   },
   "outputs": [],
   "source": [
    "esbae_ceo_columns = ['images', 'mon_images', 'bfast_change_date', \n",
    "                     'bfast_magnitude', 'bfast_means', 'cusum_change_date', \n",
    "                     'cusum_confidence', 'cusum_magnitude', 'red_mean', 'red_sd', \n",
    "                     'red_min', 'red_max', 'nir_mean', 'nir_sd', 'nir_min', 'nir_max', \n",
    "                     'swir1_mean', 'swir1_sd', 'swir1_min', 'swir1_max', 'swir2_mean', \n",
    "                     'swir2_sd', 'swir2_min', 'swir2_max', 'ndfi_mean', 'ndfi_sd', 'ndfi_min',\n",
    "                     'ndfi_max', 'brightness_mean', 'brightness_sd', 'brightness_min', \n",
    "                     'brightness_max', 'greenness_mean', 'greenness_sd', 'greenness_min', \n",
    "                     'greenness_max', 'wetness_mean', 'wetness_sd', 'wetness_min', 'wetness_max', \n",
    "                     'bs_slope_mean', 'bs_slope_sd', 'bs_slope_max', 'bs_slope_min', 'ccdc_change_date', \n",
    "                     'ccdc_magnitude', 'aspect', 'dw_class_mode', 'dw_tree_prob__max', 'dw_tree_prob__min', \n",
    "                     'dw_tree_prob__stdDev', 'dw_tree_prob_mean', 'elevation', 'esa_lc20', 'esa_lc21', \n",
    "                     'esri_lc17', 'esri_lc18', 'esri_lc19', 'esri_lc20', 'esri_lc21', 'gfc_gain', 'gfc_loss', \n",
    "                     'gfc_lossyear', 'gfc_tc00', 'lang_tree_height', 'potapov_tree_height', 'slope', 'tmf_2016', \n",
    "                     'tmf_2017', 'tmf_2018', 'tmf_2019', 'tmf_2020', 'tmf_defyear', 'tmf_degyear', 'tmf_main', \n",
    "                     'tmf_sub', 'geometry', 'point_id', 'cnc_1520', 'chg_prob', 'simple_combined', 'stratum', \n",
    "                     'kmeans', 'plotid_x', 'lon', 'lat', 'sampleid', 'email', 'flagged', \n",
    "                     'collection_time', 'analysis_duration', 'sample_geom', 'Ref_FNF_2015', 'Ref_regeneration', \n",
    "                     'Ref_Change_1522', 'Ref_Change_Type_1522', 'ArtFor', 'ArtMine', 'InfraR', 'Urb', 'IndFor', \n",
    "                     'Other', 'Other_Desc', 'IndMine', 'IndAg', 'ArtFor', 'Ref_Year', 'Ref_NFType', 'Ref_FType', \n",
    "                     'Commentaires', 'collection', 'interpreted', 'Ref_ChangeYear_1522']"
   ]
  },
  {
   "cell_type": "code",
   "execution_count": null,
   "id": "a12dbf8a-baa2-472d-ad75-bc528465ec2f",
   "metadata": {
    "tags": []
   },
   "outputs": [],
   "source": [
    "# Initialize a dictionary to store the counts by column\n",
    "missing_counts = {}\n",
    "\n",
    "# Count missing values and sum the counts by column\n",
    "for column in merged_columns:\n",
    "    missing_counts[column] = esbae_ceo[column].isna().sum()\n",
    "\n",
    "# Print the counts\n",
    "print(missing_counts)"
   ]
  },
  {
   "cell_type": "markdown",
   "id": "a6cf541d-ffb9-4489-b03a-ba2bcb7b5878",
   "metadata": {},
   "source": [
    "##### plot deforestation points by year"
   ]
  },
  {
   "cell_type": "code",
   "execution_count": null,
   "id": "f1c32086-c2e8-41ca-b034-fc54d94edeeb",
   "metadata": {
    "tags": []
   },
   "outputs": [],
   "source": [
    "#select the values you want to plot\n",
    "values_to_plot = ['Def2016','Def2017','Def2018','Def2019','Def2020','Def2021','Def2022']\n",
    "\n",
    "# Filter the DataFrame to include only the selected values\n",
    "filtered_df = esbae_ceo[esbae_ceo['Ref_ChangeYear_1522'].isin(values_to_plot)]\n",
    "\n",
    "# Get the value counts and sort by index (alphabetically)\n",
    "defvalue_counts = filtered_df['Ref_ChangeYear_1522'].value_counts().sort_index()\n",
    "\n",
    "# Plot the value counts as a bar graph\n",
    "plt.figure(figsize=(8, 6))  # Optional: Set the figure size\n",
    "defvalue_counts.plot(kind='bar', color='skyblue')\n",
    "\n",
    "\n",
    "# Set plot labels and title\n",
    "plt.xlabel('Category')\n",
    "plt.ylabel('Count')\n",
    "plt.title('# of def points per year')\n",
    "\n",
    "# Show the plot\n",
    "plt.show()"
   ]
  },
  {
   "cell_type": "markdown",
   "id": "b3c7b947-6152-49cb-90cd-a54b7f7d0e3c",
   "metadata": {},
   "source": [
    "##### plot degradation points by year"
   ]
  },
  {
   "cell_type": "code",
   "execution_count": null,
   "id": "a0bd70ef-914e-4c48-a377-4ee31526a640",
   "metadata": {
    "tags": []
   },
   "outputs": [],
   "source": [
    "#plot DEG \n",
    "#select the values you want to plot\n",
    "values_to_plot = ['Deg2016','Deg2017','Deg2018','Deg2019','Deg2020','Deg2021','Deg2022']\n",
    "\n",
    "# Filter the DataFrame to include only the selected values\n",
    "filtered_df = esbae_ceo[esbae_ceo['Ref_ChangeYear_1522'].isin(values_to_plot)]\n",
    "\n",
    "# Get the value counts and sort by index (alphabetically)\n",
    "degvalue_counts = filtered_df['Ref_ChangeYear_1522'].value_counts().sort_index()\n",
    "\n",
    "# Plot the value counts as a bar graph\n",
    "plt.figure(figsize=(8, 6))  # Optional: Set the figure size\n",
    "degvalue_counts.plot(kind='bar', color='skyblue')\n",
    "\n",
    "\n",
    "# Set plot labels and title\n",
    "plt.xlabel('Category')\n",
    "plt.ylabel('Count')\n",
    "plt.title('# of deg points per year')\n",
    "\n",
    "# Show the plot\n",
    "plt.show()"
   ]
  },
  {
   "cell_type": "code",
   "execution_count": null,
   "id": "60b15ae2-0dc1-4edc-896d-028c731faff6",
   "metadata": {
    "tags": []
   },
   "outputs": [],
   "source": [
    "print(esbae_ceo.columns.values)"
   ]
  },
  {
   "cell_type": "code",
   "execution_count": null,
   "id": "b11d713f-fc8b-4fb3-92b8-d8070726fde3",
   "metadata": {
    "tags": []
   },
   "outputs": [],
   "source": [
    "merged_annual_counts = esbae_ceo['Ref_ChangeYear_1522'].value_counts()\n",
    "merged_annual_counts = merged_annual_counts.sort_index()\n",
    "merged_annual_counts"
   ]
  },
  {
   "cell_type": "code",
   "execution_count": null,
   "id": "28ba55f8-c672-43c9-bff1-667f09029210",
   "metadata": {},
   "outputs": [],
   "source": [
    "esbae_ceo.describe()"
   ]
  },
  {
   "cell_type": "code",
   "execution_count": null,
   "id": "14fcaa3e-1f21-43b1-a4ec-671a1950134c",
   "metadata": {
    "tags": []
   },
   "outputs": [],
   "source": [
    "print(esbae_ceo.dtypes)"
   ]
  },
  {
   "cell_type": "markdown",
   "id": "60bd0119-9d19-461b-854a-7d1345b01984",
   "metadata": {},
   "source": [
    "##### export merged esbae and ceo data to one csv file for next step"
   ]
  },
  {
   "cell_type": "code",
   "execution_count": null,
   "id": "44453121-cc91-406e-9f6b-e4d78bb40ef8",
   "metadata": {},
   "outputs": [],
   "source": [
    "# if you want to remove all the eSBAE variables\n",
    "#DRC\n",
    "#esbae = esbae[['point_id', 'PLOTID', 'LAT','LON','stratum', 'chg_prob', 'simple_combined','NOM']]\n",
    "#GAB\n",
    "#esbae = esbae[['point_id', 'PLOTID', 'LAT','LON','stratum', 'chg_prob', 'simple_combined']]"
   ]
  },
  {
   "cell_type": "code",
   "execution_count": null,
   "id": "a3199a69-7b32-4d91-9e59-f2daa370a714",
   "metadata": {
    "tags": []
   },
   "outputs": [],
   "source": [
    "esbae_ceo_data_out =  '/home/sepal-user/module_results/esbae/GAB/GAB_esbae_ceo_merge.csv'\n",
    "esbae_ceo.to_csv(esbae_ceo_data_out,index=False)\n",
    "#OR\n",
    "#esbae_ceo[esbae_ceo_columns].to_csv(data_out,index=True)"
   ]
  },
  {
   "cell_type": "markdown",
   "id": "6930c9dc-3ca9-40f8-a2d0-e8d46edbe4dc",
   "metadata": {},
   "source": [
    "#### now move on to calculation of areas - script 6b"
   ]
  },
  {
   "cell_type": "code",
   "execution_count": null,
   "id": "718daa5d-6ea8-45eb-a6a9-37f29bc08f03",
   "metadata": {},
   "outputs": [],
   "source": []
  }
 ],
 "metadata": {
  "kernelspec": {
   "display_name": "Python 3",
   "language": "python",
   "name": "python3"
  },
  "language_info": {
   "codemirror_mode": {
    "name": "ipython",
    "version": 3
   },
   "file_extension": ".py",
   "mimetype": "text/x-python",
   "name": "python",
   "nbconvert_exporter": "python",
   "pygments_lexer": "ipython3",
   "version": "3.8.10"
  }
 },
 "nbformat": 4,
 "nbformat_minor": 5
}
