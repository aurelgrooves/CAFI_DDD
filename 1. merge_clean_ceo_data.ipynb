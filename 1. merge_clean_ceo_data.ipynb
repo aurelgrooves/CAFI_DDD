{
 "cells": [
  {
   "cell_type": "markdown",
   "id": "d0b45b24-6cc1-44b4-ba38-dd9b053e49dc",
   "metadata": {
    "tags": []
   },
   "source": [
    "![title](images/header.png)\n",
    "\n",
    "Merging CEO data phase II (2015-2022)\n",
    "-------\n",
    "This notebook merges validated data from different CEO projects for from phase II (2015-2022)\n",
    "###### For more information contact aurelie.shapiro@fao.org or remi.dannunzio@fao.org"
   ]
  },
  {
   "cell_type": "code",
   "execution_count": 41,
   "id": "7899a542-decb-4052-8f0d-44d83d23ba6d",
   "metadata": {
    "tags": []
   },
   "outputs": [],
   "source": [
    "import pandas as pd\n",
    "import numpy as np\n",
    "import matplotlib.pyplot as plt\n",
    "pd.set_option('display.max_columns', None)\n",
    "pd.set_option('display.max_rows', None)\n",
    "# Set the display option to a large value to prevent text wrapping\n",
    "pd.set_option('display.max_colwidth', None)"
   ]
  },
  {
   "cell_type": "markdown",
   "id": "a927a489-00d9-4326-858f-bdd4b5edd657",
   "metadata": {},
   "source": [
    "## Enter parameters"
   ]
  },
  {
   "cell_type": "code",
   "execution_count": 42,
   "id": "af7f5292-a88f-47d8-909e-078c742360c2",
   "metadata": {},
   "outputs": [],
   "source": [
    "#identifier for country \n",
    "# COD COG CMR GAB EQG CAF\n",
    "iso = 'CAR'"
   ]
  },
  {
   "cell_type": "markdown",
   "id": "b5b5e710-f28e-4862-ac7f-f072e4672886",
   "metadata": {},
   "source": [
    "### 1. Read all CEO sample files\n",
    "download your CEO sample files from collect.earth and upload to SEPAL using FileZilla.\n",
    "add as many files as you have projects"
   ]
  },
  {
   "cell_type": "code",
   "execution_count": 43,
   "id": "dbf603c5-ed47-4e36-b271-26e6200a3737",
   "metadata": {
    "tags": []
   },
   "outputs": [],
   "source": [
    "#DRC\n",
    "#ceo1 = pd.read_csv('/home/sepal-user/module_results/esbae/DRC/ceo-CAFI-DDD-RDC-eSBAE-validation-1-sample-data.csv')\n",
    "#ceo2 = pd.read_csv('/home/sepal-user/module_results/esbae/DRC/ceo-CAFI-DDD-RDC-eSBAE-validation-2-sample-data.csv')\n",
    "#ceo'3 = pd.read_csv('/home/sepal-user/module_results/esbae/DRC/ceo-CAFI-DDD-RDC-eSBAE-validation-3-sample-data.csv')\n",
    "#GAB\n",
    "#ceo1 = pd.read_csv('/home/sepal-user/module_results/esbae/GAB/ceo-CAFI-DDD-Gabon-eSBAE-validation-1-sample-data.csv')\n",
    "#ceo2 = pd.read_csv('/home/sepal-user/module_results/esbae/GAB/ceo-CAFI-DDD-Gabon-eSBAE-validation-2-sample-data.csv')\n",
    "#ceo3 = pd.read_csv('/home/sepal-user/module_results/esbae/GAB/ceo-CAFI-DDD-Gabon-eSBAE-validation-3-sample-data.csv')\n",
    "#ceo4 = pd.read_csv('/home/sepal-user/module_results/esbae/GAB/ceo-CAFI-DDD-Gabon-eSBAE-validation-4-sample-data.csv')\n",
    "#ceo5 = pd.read_csv('/home/sepal-user/module_results/esbae/GAB/ceo-CAFI-DDD-Gabon-eSBAE-validation-5-sample-data.csv')\n",
    "#EQG\n",
    "#ceo1 = pd.read_csv('/home/sepal-user/module_results/esbae/EQG/ceo-CAFI-DDD-Equatorial-Guinea-eSBAE-validation-1-sample-data.csv')\n",
    "#ceo2 = pd.read_csv('/home/sepal-user/module_results/esbae/EQG/ceo-CAFI-DDD-Equatorial-Guinea-eSBAE-validation-2-sample-data.csv')\n",
    "#COG\n",
    "#ceo1 = pd.read_csv('/home/sepal-user/module_results/esbae/COG/ceo-CAFI-DDD-République-Congo-eSBAE-validation-1-sample-data.csv')\n",
    "#CMR\n",
    "#ceo1 = pd.read_csv('/home/sepal-user/module_results/esbae/CMR/ceo-CAFI-DDD-Cameroun-eSBAE-validation-1-sample-data.csv')\n",
    "#ceo2 = pd.read_csv('/home/sepal-user/module_results/esbae/CMR/ceo-CAFI-DDD-Cameroun-eSBAE-validation-2-sample-data.csv')\n",
    "#CAR\n",
    "ceo1 = pd.read_csv('/home/sepal-user/module_results/esbae/CAR/ceo-CAFI-DDD-RCA-eSBAE-validation-1-sample-data.csv')\n",
    "ceo2 = pd.read_csv('/home/sepal-user/module_results/esbae/CAR/ceo-CAFI-DDD-RCA-eSBAE-validation-2-sample-data.csv')"
   ]
  },
  {
   "cell_type": "markdown",
   "id": "08ab5a47-050b-420b-a731-144ccdf915f6",
   "metadata": {},
   "source": [
    "make a list of the ceo files for processing"
   ]
  },
  {
   "cell_type": "code",
   "execution_count": 44,
   "id": "15b7a88f-3314-4a30-b41e-0a9bb38e5baa",
   "metadata": {},
   "outputs": [],
   "source": [
    "#depends on how many files you have\n",
    "# if you have 5 files\n",
    "#ceo_files = [ceo1, ceo2, ceo3, ceo4, ceo5]\n",
    "# if you have 3 files\n",
    "#ceo_files = [ceo1, ceo2, ceo3]\n",
    "# if you have 2 files\n",
    "ceo_files = [ceo1,ceo2]\n",
    "# if you have 1 file\n",
    "#ceo_files = [ceo1]"
   ]
  },
  {
   "cell_type": "code",
   "execution_count": 45,
   "id": "a6f7352f-95a8-4821-a499-618062fda269",
   "metadata": {},
   "outputs": [],
   "source": [
    "# output file  CEO validated data file with select columns\n",
    "ceo_data_out =  '/home/sepal-user/module_results/esbae/CAR/CAR_all_ceo_1522_clean.csv'"
   ]
  },
  {
   "cell_type": "markdown",
   "id": "5f183313-e35a-4cde-afc2-879b4ba7508a",
   "metadata": {},
   "source": [
    "### end of parameters"
   ]
  },
  {
   "cell_type": "code",
   "execution_count": 46,
   "id": "aa3ab8ff-9649-44f5-99c4-90089d9a6f51",
   "metadata": {
    "tags": []
   },
   "outputs": [
    {
     "name": "stdout",
     "output_type": "stream",
     "text": [
      "['plotid', 'sampleid', 'lon', 'lat', 'email', 'flagged', 'collection_time', 'analysis_duration', 'imagery_title', 'imagery_attributions', 'sample_geom', 'pl_aspect', 'pl_brightness_max', 'pl_red_mean', 'pl_greenness_max', 'pl_cusum_confidence', 'pl_cusum_change_date', 'pl_nir_max', 'pl_red_min', 'pl_bfast_means', 'pl_elevation', 'pl_red_sd', 'pl_cnc_1520', 'pl_swir1_sd', 'pl_index', 'pl_tmf_sub', 'pl_dw_tree_prob__min', 'pl_bs_slope_max', 'pl_red_max', 'pl_images', 'pl_dist', 'pl_bfast_magnitude', 'pl_ccdc_magnitude', 'pl_simple_combined', 'pl_tmf_defyear', 'pl_greenness_mean', 'pl_tmf_2019', 'pl_swir2_sd', 'pl_nir_sd', 'pl_gfc_tc00', 'pl_greenness_min', 'pl_tmf_degyear', 'pl_tmf_2020', 'pl_tmf_2017', 'pl_bs_slope_min', 'pl_lang_tree_height', 'pl_bs_slope_sd', 'pl_dw_class_mode', 'pl_swir1_mean', 'pl_wetness_sd', 'pl_bs_slope_mean', 'pl_ccdc_change_date', 'pl_dw_tree_prob_mean', 'pl_nir_mean', 'pl_dw_tree_prob__stddev', 'pl_tmf_2016', 'pl_nir_min', 'pl_esri_lc17', 'pl_wetness_mean', 'pl_ndfi_min', 'pl_wetness_min', 'pl_point_id', 'pl_kmeans', 'pl_swir2_mean', 'pl_esri_lc19', 'pl_slope', 'pl_cusum_magnitude', 'pl_esri_lc18', 'pl_gfc_loss', 'pl_esri_lc20', 'pl_swir1_max', 'pl_swir1_min', 'pl_mon_images', 'pl_esa_lc20', 'pl_brightness_min', 'pl_brightness_mean', 'pl_potapov_tree_height', 'pl_gfc_lossyear', 'pl_wetness_max', 'pl_swir2_max', 'pl_bfast_change_date', 'pl_gfc_gain', 'pl_brightness_sd', 'pl_tmf_2018', 'pl_dw_tree_prob__max', 'pl_strata', 'pl_ndfi_max', 'pl_esri_lc21', 'pl_swir2_min', 'pl_esa_lc21', 'pl_ndfi_sd', 'pl_tmf_main', 'pl_greenness_sd', 'pl_chg_prob', 'pl_ndfi_mean', 'forêt ou non-forêt en 2015?', \"Y'a t'il de la régéneration\", 'Changement entre 2015-2022', 'Type de Changement (2015-2022)', 'Exploitation forestière artisanale (<5ha)', 'Activité minière artisanale', 'Infrastructure routière', 'Infrastructure d’urbanisation ou habitations', 'Exploitation forestière industrielle (>5ha)', 'Autre moteur', 'Descriptif autre moteur', 'Activité minière industrielle', 'Agriculture industrielle', 'Agriculture paysanne', 'Année de Changement', 'Type de non-forêt en 2015', 'Type de forêt en 2015']\n"
     ]
    }
   ],
   "source": [
    "column_names = ceo1.columns.tolist()\n",
    "# Print the list of column names\n",
    "print(column_names)"
   ]
  },
  {
   "cell_type": "markdown",
   "id": "e405fab6-a8a0-4461-96e4-091177c712f3",
   "metadata": {},
   "source": [
    "##### add a column named \"interpreted\" which = 1 when the point has been validated in CEO, otherwise 0\n",
    "count the number of validated points per ceo file\n",
    "replace forest and non-forest types with codes"
   ]
  },
  {
   "cell_type": "code",
   "execution_count": 47,
   "id": "d9c12ded-8591-4487-9494-68b2081e3987",
   "metadata": {
    "tags": []
   },
   "outputs": [
    {
     "name": "stdout",
     "output_type": "stream",
     "text": [
      "ceo 1 # of validated points: 499, # of not validated points: 0\n",
      "ceo 2 # of validated points: 3878, # of not validated points: 0\n"
     ]
    }
   ],
   "source": [
    "# List to store the modified DataFrames\n",
    "modified_ceo_files = []\n",
    "\n",
    "# Initialize collection counter\n",
    "collection_counter = 1\n",
    "\n",
    "for i, ceo in enumerate(ceo_files):\n",
    "       \n",
    "    # Sort the DataFrame by 'date' in descending order\n",
    "    ceo.sort_values(by='collection_time', ascending=True, inplace=True)\n",
    "\n",
    "    # Remove duplicates keeping the last occurrence (the most recent date)\n",
    "    ceo.drop_duplicates(subset='pl_point_id', keep='first', inplace=True)\n",
    "\n",
    "    # Reset the index\n",
    "    ceo.reset_index(drop=True, inplace=True)\n",
    "    \n",
    "    # Add 'collection' column with an increasing number\n",
    "    ceo['collection'] = collection_counter\n",
    "    \n",
    "    # Add 'interpreted' column with 1 when 'email' is not null, otherwise 0\n",
    "    ceo['interpreted'] = np.where(ceo['email'].notna(), 1, 0)\n",
    "    \n",
    "    # Calculate total count for each 'interpreted' value\n",
    "    interpreted_counts = ceo['interpreted'].value_counts().to_dict()\n",
    "    \n",
    "    # Append the modified DataFrame to the list\n",
    "    modified_ceo_files.append(ceo)\n",
    "    \n",
    "    # Print count for the current DataFrame\n",
    "    print(f\"ceo {i + 1} # of validated points: {interpreted_counts.get(1, 0)}, # of not validated points: {interpreted_counts.get(0, 0)}\")\n",
    "    \n",
    "    # Increment the collection counter\n",
    "    collection_counter += 1\n",
    "\n",
    "# Concatenate the modified DataFrames into one merged DataFrame\n",
    "merged_ceo = pd.concat(modified_ceo_files, ignore_index=True)\n",
    "\n",
    "\n",
    "# Specify the columns you want to keep in the merged DataFrame\n",
    "columns_to_keep = ['plotid', 'sampleid', 'lon', 'lat', \n",
    "                    'sample_geom', 'pl_point_id', 'forêt ou non-forêt en 2015?', \"Y'a t'il de la régéneration\", \n",
    "                    'Changement entre 2015-2022', 'Type de Changement (2015-2022)', 'Exploitation forestière artisanale (<5ha)', \n",
    "                    'Activité minière artisanale', 'Infrastructure routière', 'Infrastructure d’urbanisation ou habitations', \n",
    "                    'Exploitation forestière industrielle (>5ha)', 'Autre moteur', 'Descriptif autre moteur', 'Activité minière industrielle', \n",
    "                    'Agriculture industrielle', 'Agriculture paysanne', 'Année de Changement', 'Type de non-forêt en 2015', 'Type de forêt en 2015', 'collection', 'interpreted']\n",
    "\n",
    "# Select only the specified columns\n",
    "merged_ceo = merged_ceo[columns_to_keep]\n",
    "\n",
    "# Create a dictionary to map old column names to new column names\n",
    "column_mapping = {\n",
    "    'pl_point_id': 'point_id',\n",
    "    'forêt ou non-forêt en 2015?': 'Ref_FNF_2015', \n",
    "    \"Y'a t'il de la régéneration\": 'Ref_Regeneration',\n",
    "    'Changement entre 2015-2022': 'Ref_Change_1522', \n",
    "    'Type de Changement (2015-2022)': 'Ref_Change_Type_1522', \n",
    "    'Exploitation forestière artisanale (<5ha)': 'ArtFor',\n",
    "    'Activité minière artisanale': 'ArtMine',\n",
    "    'Infrastructure routière': 'InfraR', \n",
    "    'Infrastructure d’urbanisation ou habitations': 'Urb',\n",
    "    'Exploitation forestière industrielle (>5ha)':'IndFor', \n",
    "    'Autre moteur': 'Other', \n",
    "    'Descriptif autre moteur': 'Other_Desc', \n",
    "    'Activité minière industrielle': 'IndMine', \n",
    "    'Agriculture industrielle': 'IndAg', \n",
    "    'Agriculture paysanne': 'ArtAg', \n",
    "    'Année de Changement': 'Ref_Year', \n",
    "    'Type de non-forêt en 2015':'Ref_NFtype', \n",
    "    'Type de forêt en 2015':'Ref_Ftype'\n",
    "    #add other columns as needed\n",
    "    #,'NOM': 'Province' # DRC province\n",
    "}\n",
    "\n",
    "# Use the rename() method to rename the columns\n",
    "merged_ceo = merged_ceo.rename(columns=column_mapping)\n",
    "\n",
    "# Define the replacements as a dictionary\n",
    "replace_dict = {\n",
    "    'Ref_FNF_2015': {'non-forêt': '0', 'forêt': '1'},\n",
    "    'Ref_Ftype': {'1 - forêt dense': '1', '2 - forêt dense sèche': '2', '3 - forêt secondaire': '3','4 - forêt claire sèche': '4','7 - forêt mangrove': '7',\n",
    "                 '8 - forêt marécageuse': '8', '9 - forêt galérie': '9','10 - plantation forestière': '10', '11- savane arborée': '11'},\n",
    "    'Ref_NFtype': {'12 - savane arbustive': '12', '13 - savane herbacée': '13', '14 - prairie aquatique': '14', '15 - sol nu végétation éparse': '15',\n",
    "                  '16 - terres cultivées': '16', '17 - zone baties': '17', '18 - eau': '18'},\n",
    "    'Ref_Change_1522': {'oui':'1','non':'0','':'0'},\n",
    "    'ArtFor':{'oui':'1','non':'0','':'0'},\n",
    "    'IndFor':{'oui':'1','non':'0','':'0'},\n",
    "    'ArtAg':{'oui':'1','non':'0','':'0'},\n",
    "    'IndAg':{'oui':'1','non':'0','':'0'},\n",
    "    'ArtMine':{'oui':'1','non':'0','':'0'},\n",
    "    'IndMine':{'oui':'1','non':'0','':'0'},\n",
    "    'Urb':{'oui':'1','non':'0','':'0'},\n",
    "    'InfraR':{'oui':'1','non':'0','':'0'},\n",
    "    'Other':{'oui':'1','non':'0','':'0'}\n",
    "}\n",
    "\n",
    "# Use the replace() method to replace strings in specified columns\n",
    "merged_ceo.replace(replace_dict, inplace=True)\n",
    "\n",
    "\n",
    "columns_to_fill = ['Ref_Change_1522','ArtFor','IndFor','IndAg','ArtMine','IndMine','Urb','InfraR','Other']\n",
    "# Set NaN values in the selected columns to 0\n",
    "merged_ceo[columns_to_fill] = merged_ceo[columns_to_fill].fillna('0')"
   ]
  },
  {
   "cell_type": "markdown",
   "id": "6382ae9d",
   "metadata": {},
   "source": [
    "remove non validated points and remove duplicates"
   ]
  },
  {
   "cell_type": "code",
   "execution_count": 48,
   "id": "f69be9dc-43c2-4070-b63e-8d05f720209e",
   "metadata": {
    "tags": []
   },
   "outputs": [],
   "source": [
    "merged_ceo_interpreted = merged_ceo[merged_ceo['interpreted'] == 1]"
   ]
  },
  {
   "cell_type": "code",
   "execution_count": 49,
   "id": "0e2c49c5-65ce-48fe-8983-6e4163dc038f",
   "metadata": {
    "tags": []
   },
   "outputs": [
    {
     "name": "stdout",
     "output_type": "stream",
     "text": [
      "['plotid', 'sampleid', 'lon', 'lat', 'sample_geom', 'point_id', 'Ref_FNF_2015', 'Ref_Regeneration', 'Ref_Change_1522', 'Ref_Change_Type_1522', 'ArtFor', 'ArtMine', 'InfraR', 'Urb', 'IndFor', 'Other', 'Other_Desc', 'IndMine', 'IndAg', 'ArtAg', 'Ref_Year', 'Ref_NFtype', 'Ref_Ftype', 'collection', 'interpreted']\n"
     ]
    }
   ],
   "source": [
    "ceo_column_names = merged_ceo_interpreted.columns.tolist()\n",
    "# Print the list of column names\n",
    "print(ceo_column_names)"
   ]
  },
  {
   "cell_type": "code",
   "execution_count": 50,
   "id": "6bdb8226-1032-4724-92f7-f092444b46a4",
   "metadata": {
    "tags": []
   },
   "outputs": [
    {
     "data": {
      "text/html": [
       "<div>\n",
       "<style scoped>\n",
       "    .dataframe tbody tr th:only-of-type {\n",
       "        vertical-align: middle;\n",
       "    }\n",
       "\n",
       "    .dataframe tbody tr th {\n",
       "        vertical-align: top;\n",
       "    }\n",
       "\n",
       "    .dataframe thead th {\n",
       "        text-align: right;\n",
       "    }\n",
       "</style>\n",
       "<table border=\"1\" class=\"dataframe\">\n",
       "  <thead>\n",
       "    <tr style=\"text-align: right;\">\n",
       "      <th></th>\n",
       "      <th>plotid</th>\n",
       "      <th>sampleid</th>\n",
       "      <th>lon</th>\n",
       "      <th>lat</th>\n",
       "      <th>sample_geom</th>\n",
       "      <th>point_id</th>\n",
       "      <th>Ref_FNF_2015</th>\n",
       "      <th>Ref_Regeneration</th>\n",
       "      <th>Ref_Change_1522</th>\n",
       "      <th>Ref_Change_Type_1522</th>\n",
       "      <th>ArtFor</th>\n",
       "      <th>ArtMine</th>\n",
       "      <th>InfraR</th>\n",
       "      <th>Urb</th>\n",
       "      <th>IndFor</th>\n",
       "      <th>Other</th>\n",
       "      <th>Other_Desc</th>\n",
       "      <th>IndMine</th>\n",
       "      <th>IndAg</th>\n",
       "      <th>ArtAg</th>\n",
       "      <th>Ref_Year</th>\n",
       "      <th>Ref_NFtype</th>\n",
       "      <th>Ref_Ftype</th>\n",
       "      <th>collection</th>\n",
       "      <th>interpreted</th>\n",
       "    </tr>\n",
       "  </thead>\n",
       "  <tbody>\n",
       "    <tr>\n",
       "      <th>0</th>\n",
       "      <td>63681</td>\n",
       "      <td>63681</td>\n",
       "      <td>16.819339</td>\n",
       "      <td>6.393071</td>\n",
       "      <td>POINT(16.819339 6.393071)</td>\n",
       "      <td>63681</td>\n",
       "      <td>1</td>\n",
       "      <td>NaN</td>\n",
       "      <td>0</td>\n",
       "      <td>NaN</td>\n",
       "      <td>0</td>\n",
       "      <td>0</td>\n",
       "      <td>0</td>\n",
       "      <td>0</td>\n",
       "      <td>0</td>\n",
       "      <td>0</td>\n",
       "      <td>NaN</td>\n",
       "      <td>0</td>\n",
       "      <td>0</td>\n",
       "      <td>NaN</td>\n",
       "      <td>NaN</td>\n",
       "      <td>NaN</td>\n",
       "      <td>11</td>\n",
       "      <td>1</td>\n",
       "      <td>1</td>\n",
       "    </tr>\n",
       "    <tr>\n",
       "      <th>1</th>\n",
       "      <td>67460</td>\n",
       "      <td>67460</td>\n",
       "      <td>17.576227</td>\n",
       "      <td>7.664482</td>\n",
       "      <td>POINT(17.576227 7.664482)</td>\n",
       "      <td>67460</td>\n",
       "      <td>0</td>\n",
       "      <td>non</td>\n",
       "      <td>0</td>\n",
       "      <td>NaN</td>\n",
       "      <td>0</td>\n",
       "      <td>0</td>\n",
       "      <td>0</td>\n",
       "      <td>0</td>\n",
       "      <td>0</td>\n",
       "      <td>0</td>\n",
       "      <td>NaN</td>\n",
       "      <td>0</td>\n",
       "      <td>0</td>\n",
       "      <td>NaN</td>\n",
       "      <td>NaN</td>\n",
       "      <td>12</td>\n",
       "      <td>NaN</td>\n",
       "      <td>1</td>\n",
       "      <td>1</td>\n",
       "    </tr>\n",
       "    <tr>\n",
       "      <th>2</th>\n",
       "      <td>67187</td>\n",
       "      <td>67187</td>\n",
       "      <td>16.170404</td>\n",
       "      <td>5.020706</td>\n",
       "      <td>POINT(16.170404 5.020706)</td>\n",
       "      <td>67187</td>\n",
       "      <td>0</td>\n",
       "      <td>non</td>\n",
       "      <td>0</td>\n",
       "      <td>NaN</td>\n",
       "      <td>0</td>\n",
       "      <td>0</td>\n",
       "      <td>0</td>\n",
       "      <td>0</td>\n",
       "      <td>0</td>\n",
       "      <td>0</td>\n",
       "      <td>NaN</td>\n",
       "      <td>0</td>\n",
       "      <td>0</td>\n",
       "      <td>NaN</td>\n",
       "      <td>NaN</td>\n",
       "      <td>12</td>\n",
       "      <td>NaN</td>\n",
       "      <td>1</td>\n",
       "      <td>1</td>\n",
       "    </tr>\n",
       "    <tr>\n",
       "      <th>3</th>\n",
       "      <td>68986</td>\n",
       "      <td>68986</td>\n",
       "      <td>16.005941</td>\n",
       "      <td>4.634601</td>\n",
       "      <td>POINT(16.005941 4.634601)</td>\n",
       "      <td>68986</td>\n",
       "      <td>1</td>\n",
       "      <td>NaN</td>\n",
       "      <td>0</td>\n",
       "      <td>NaN</td>\n",
       "      <td>0</td>\n",
       "      <td>0</td>\n",
       "      <td>0</td>\n",
       "      <td>0</td>\n",
       "      <td>0</td>\n",
       "      <td>0</td>\n",
       "      <td>NaN</td>\n",
       "      <td>0</td>\n",
       "      <td>0</td>\n",
       "      <td>NaN</td>\n",
       "      <td>NaN</td>\n",
       "      <td>NaN</td>\n",
       "      <td>1</td>\n",
       "      <td>1</td>\n",
       "      <td>1</td>\n",
       "    </tr>\n",
       "    <tr>\n",
       "      <th>4</th>\n",
       "      <td>69762</td>\n",
       "      <td>69762</td>\n",
       "      <td>17.636659</td>\n",
       "      <td>7.684572</td>\n",
       "      <td>POINT(17.636659 7.684572)</td>\n",
       "      <td>69762</td>\n",
       "      <td>0</td>\n",
       "      <td>non</td>\n",
       "      <td>0</td>\n",
       "      <td>NaN</td>\n",
       "      <td>0</td>\n",
       "      <td>0</td>\n",
       "      <td>0</td>\n",
       "      <td>0</td>\n",
       "      <td>0</td>\n",
       "      <td>0</td>\n",
       "      <td>NaN</td>\n",
       "      <td>0</td>\n",
       "      <td>0</td>\n",
       "      <td>NaN</td>\n",
       "      <td>NaN</td>\n",
       "      <td>12</td>\n",
       "      <td>NaN</td>\n",
       "      <td>1</td>\n",
       "      <td>1</td>\n",
       "    </tr>\n",
       "  </tbody>\n",
       "</table>\n",
       "</div>"
      ],
      "text/plain": [
       "   plotid  sampleid        lon       lat                sample_geom  point_id  \\\n",
       "0   63681     63681  16.819339  6.393071  POINT(16.819339 6.393071)     63681   \n",
       "1   67460     67460  17.576227  7.664482  POINT(17.576227 7.664482)     67460   \n",
       "2   67187     67187  16.170404  5.020706  POINT(16.170404 5.020706)     67187   \n",
       "3   68986     68986  16.005941  4.634601  POINT(16.005941 4.634601)     68986   \n",
       "4   69762     69762  17.636659  7.684572  POINT(17.636659 7.684572)     69762   \n",
       "\n",
       "  Ref_FNF_2015 Ref_Regeneration Ref_Change_1522 Ref_Change_Type_1522 ArtFor  \\\n",
       "0            1              NaN               0                  NaN      0   \n",
       "1            0              non               0                  NaN      0   \n",
       "2            0              non               0                  NaN      0   \n",
       "3            1              NaN               0                  NaN      0   \n",
       "4            0              non               0                  NaN      0   \n",
       "\n",
       "  ArtMine InfraR Urb IndFor Other Other_Desc IndMine IndAg ArtAg  Ref_Year  \\\n",
       "0       0      0   0      0     0        NaN       0     0   NaN       NaN   \n",
       "1       0      0   0      0     0        NaN       0     0   NaN       NaN   \n",
       "2       0      0   0      0     0        NaN       0     0   NaN       NaN   \n",
       "3       0      0   0      0     0        NaN       0     0   NaN       NaN   \n",
       "4       0      0   0      0     0        NaN       0     0   NaN       NaN   \n",
       "\n",
       "  Ref_NFtype Ref_Ftype  collection  interpreted  \n",
       "0        NaN        11           1            1  \n",
       "1         12       NaN           1            1  \n",
       "2         12       NaN           1            1  \n",
       "3        NaN         1           1            1  \n",
       "4         12       NaN           1            1  "
      ]
     },
     "execution_count": 50,
     "metadata": {},
     "output_type": "execute_result"
    }
   ],
   "source": [
    "merged_ceo_interpreted.head()"
   ]
  },
  {
   "cell_type": "code",
   "execution_count": 51,
   "id": "4ff26c6c-3975-49b6-a148-9ec7c4559731",
   "metadata": {
    "tags": []
   },
   "outputs": [],
   "source": [
    "merged_ceo_interpreted = merged_ceo_interpreted.sort_values(by='collection', ascending=True)\n",
    "\n",
    "# Remove duplicates keeping the last occurrence (the most recent date)\n",
    "merged_ceo_nodup = merged_ceo_interpreted.drop_duplicates(subset='point_id', keep='first')\n",
    "\n",
    "# Reset the index\n",
    "merged_ceo_nodup = merged_ceo_nodup.reset_index(drop=True)"
   ]
  },
  {
   "cell_type": "markdown",
   "id": "28fc9de4",
   "metadata": {},
   "source": [
    "##### count points in different categories"
   ]
  },
  {
   "cell_type": "code",
   "execution_count": 52,
   "id": "a37a3028-90b5-4dd1-a25e-efe01d0a5ad8",
   "metadata": {
    "tags": []
   },
   "outputs": [
    {
     "data": {
      "text/plain": [
       "interpreted\n",
       "1    4377\n",
       "Name: count, dtype: int64"
      ]
     },
     "execution_count": 52,
     "metadata": {},
     "output_type": "execute_result"
    }
   ],
   "source": [
    "merged_ceo_nodup['interpreted'].value_counts(dropna=False)"
   ]
  },
  {
   "cell_type": "code",
   "execution_count": 53,
   "id": "b29e4459",
   "metadata": {
    "tags": []
   },
   "outputs": [
    {
     "data": {
      "text/html": [
       "<div>\n",
       "<style scoped>\n",
       "    .dataframe tbody tr th:only-of-type {\n",
       "        vertical-align: middle;\n",
       "    }\n",
       "\n",
       "    .dataframe tbody tr th {\n",
       "        vertical-align: top;\n",
       "    }\n",
       "\n",
       "    .dataframe thead th {\n",
       "        text-align: right;\n",
       "    }\n",
       "</style>\n",
       "<table border=\"1\" class=\"dataframe\">\n",
       "  <thead>\n",
       "    <tr style=\"text-align: right;\">\n",
       "      <th>interpreted</th>\n",
       "      <th>1</th>\n",
       "    </tr>\n",
       "    <tr>\n",
       "      <th>Ref_Change_1522</th>\n",
       "      <th></th>\n",
       "    </tr>\n",
       "  </thead>\n",
       "  <tbody>\n",
       "    <tr>\n",
       "      <th>0</th>\n",
       "      <td>4299</td>\n",
       "    </tr>\n",
       "    <tr>\n",
       "      <th>1</th>\n",
       "      <td>78</td>\n",
       "    </tr>\n",
       "  </tbody>\n",
       "</table>\n",
       "</div>"
      ],
      "text/plain": [
       "interpreted         1\n",
       "Ref_Change_1522      \n",
       "0                4299\n",
       "1                  78"
      ]
     },
     "execution_count": 53,
     "metadata": {},
     "output_type": "execute_result"
    }
   ],
   "source": [
    "pd.pivot_table(merged_ceo_nodup,values='point_id',index=['Ref_Change_1522'],columns=['interpreted'],aggfunc=\"count\")"
   ]
  },
  {
   "cell_type": "code",
   "execution_count": 54,
   "id": "2d96fd19-6809-413a-9696-c3991d50efbc",
   "metadata": {
    "tags": []
   },
   "outputs": [
    {
     "data": {
      "text/plain": [
       "Ref_FNF_2015\n",
       "0    2693\n",
       "1    1684\n",
       "Name: count, dtype: int64"
      ]
     },
     "execution_count": 54,
     "metadata": {},
     "output_type": "execute_result"
    }
   ],
   "source": [
    "merged_ceo_nodup['Ref_FNF_2015'].value_counts(dropna=False)"
   ]
  },
  {
   "cell_type": "code",
   "execution_count": 55,
   "id": "0097c4de-9bca-4a73-bcf5-1c9afc87f88b",
   "metadata": {
    "tags": []
   },
   "outputs": [
    {
     "data": {
      "text/plain": [
       "Ref_Change_Type_1522\n",
       "NaN              4299\n",
       "dégradation        41\n",
       "déforestation      37\n",
       "Name: count, dtype: int64"
      ]
     },
     "execution_count": 55,
     "metadata": {},
     "output_type": "execute_result"
    }
   ],
   "source": [
    "merged_ceo_nodup['Ref_Change_Type_1522'].value_counts(dropna=False)"
   ]
  },
  {
   "cell_type": "code",
   "execution_count": 56,
   "id": "67e302cd-0a1b-4995-96df-0c912cf70bff",
   "metadata": {
    "tags": []
   },
   "outputs": [
    {
     "data": {
      "text/plain": [
       "collection\n",
       "2    3878\n",
       "1     499\n",
       "Name: count, dtype: int64"
      ]
     },
     "execution_count": 56,
     "metadata": {},
     "output_type": "execute_result"
    }
   ],
   "source": [
    "merged_ceo_nodup['collection'].value_counts(dropna=False)"
   ]
  },
  {
   "cell_type": "markdown",
   "id": "ae9075b7",
   "metadata": {},
   "source": [
    "##### create a LC type column"
   ]
  },
  {
   "cell_type": "code",
   "execution_count": 57,
   "id": "408a665f-6c17-4e65-8d19-76fad0574ebb",
   "metadata": {},
   "outputs": [
    {
     "data": {
      "text/plain": [
       "Ref_LCover\n",
       "12    1282\n",
       "15     794\n",
       "11     729\n",
       "13     568\n",
       "1      510\n",
       "9      163\n",
       "2      126\n",
       "4      103\n",
       "3       45\n",
       "16      40\n",
       "8        8\n",
       "14       6\n",
       "17       3\n",
       "Name: count, dtype: int64"
      ]
     },
     "execution_count": 57,
     "metadata": {},
     "output_type": "execute_result"
    }
   ],
   "source": [
    "merged_ceo_nodup['Ref_LCover'] = merged_ceo_nodup['Ref_Ftype'].fillna(merged_ceo_nodup['Ref_NFtype'])\n",
    "merged_ceo_nodup['Ref_LCover'].value_counts(dropna=False)"
   ]
  },
  {
   "cell_type": "markdown",
   "id": "0e453b46-551d-4204-be40-4803c4d25e60",
   "metadata": {},
   "source": [
    "##### Check if values in 'pointid' are unique"
   ]
  },
  {
   "cell_type": "code",
   "execution_count": 58,
   "id": "eb09c9af-db98-4eee-92e5-d205a1016f3e",
   "metadata": {
    "tags": []
   },
   "outputs": [
    {
     "name": "stdout",
     "output_type": "stream",
     "text": [
      "All values are unique!\n"
     ]
    }
   ],
   "source": [
    "# this might take some time\n",
    "unique_check = merged_ceo_nodup['point_id'].nunique() == len(merged_ceo_nodup['point_id'])\n",
    "\n",
    "# Print the result\n",
    "if unique_check:\n",
    "    print(\"All values are unique!\")\n",
    "else:\n",
    "    print(\"F$%§!\")"
   ]
  },
  {
   "cell_type": "markdown",
   "id": "47d21c47-12fb-4d92-b151-5f1d1c140461",
   "metadata": {},
   "source": [
    "##### if there are duplicates determine which points and which project (collection) and fix these in CEO: find the point id and enter the same correct interpretation for both users"
   ]
  },
  {
   "cell_type": "code",
   "execution_count": 59,
   "id": "8d3c9161-5a6b-4e9c-963d-3e4964f0329d",
   "metadata": {
    "tags": []
   },
   "outputs": [],
   "source": [
    "# Find duplicate values in the 'ID' column\n",
    "#duplicate_ids = merged_ceo_nodup[merged_ceo_nodup.duplicated(subset='point_id', keep='first')]\n",
    "\n",
    "# If you want to print specific columns along with duplicates, you can do:\n",
    "# For example, print only 'ID' and 'Name' columns\n",
    "#print(\"\\nDuplicate Rows with 'ID' and 'Name':\")\n",
    "#print(duplicate_ids[['point_id', 'collection']])\n",
    "#len(duplicate_ids)"
   ]
  },
  {
   "cell_type": "code",
   "execution_count": 60,
   "id": "540971c0-b71a-4555-b2ab-69e75c8c250a",
   "metadata": {
    "tags": []
   },
   "outputs": [],
   "source": [
    "#merged_ceo_nodup.head()"
   ]
  },
  {
   "cell_type": "markdown",
   "id": "aef10186-78cf-4634-83fd-7073f85cf3b0",
   "metadata": {},
   "source": [
    "### 2. add new columns for change and year"
   ]
  },
  {
   "cell_type": "markdown",
   "id": "4a06d1d2-744d-4e25-a2fc-6a5f64b0467d",
   "metadata": {},
   "source": [
    "clean up columns and replace values"
   ]
  },
  {
   "cell_type": "code",
   "execution_count": 61,
   "id": "57263f3a-6939-435c-ac66-b9ebe93f5875",
   "metadata": {
    "tags": []
   },
   "outputs": [
    {
     "data": {
      "text/plain": [
       "Ref_Change_Type_1522\n",
       "NF        2693\n",
       "Stable    1606\n",
       "Deg         41\n",
       "Def         37\n",
       "Name: count, dtype: int64"
      ]
     },
     "execution_count": 61,
     "metadata": {},
     "output_type": "execute_result"
    }
   ],
   "source": [
    "def f(x):\n",
    "  if x['Ref_FNF_2015'] == '0' : return 'NF'\n",
    "  elif x['Ref_Change_Type_1522'] == 'déforestation': return 'Def'\n",
    "  elif x['Ref_Change_Type_1522'] == 'dégradation' : return 'Deg'\n",
    "  else: return 'Stable'\n",
    "\n",
    "merged_ceo_nodup['Ref_Change_Type_1522'] = merged_ceo_nodup.apply(f, axis=1)\n",
    "merged_ceo_nodup['Ref_Change_Type_1522'].value_counts()"
   ]
  },
  {
   "cell_type": "code",
   "execution_count": 62,
   "id": "d31939f7-ce73-4b77-abe5-17b99aa943c4",
   "metadata": {
    "tags": []
   },
   "outputs": [
    {
     "name": "stdout",
     "output_type": "stream",
     "text": [
      "Ref_Change_Year_1522\n",
      "Def2016       5\n",
      "Def2017       7\n",
      "Def2018       7\n",
      "Def2019       3\n",
      "Def2020       1\n",
      "Def2021      10\n",
      "Def2022       4\n",
      "Deg2017       1\n",
      "Deg2018       6\n",
      "Deg2019       7\n",
      "Deg2020       4\n",
      "Deg2021       5\n",
      "Deg2022      18\n",
      "NF         2693\n",
      "Stable     1606\n",
      "Name: count, dtype: int64\n"
     ]
    }
   ],
   "source": [
    "def y(x):\n",
    "  if x['Ref_Change_Type_1522'] == 'Def' and x['Ref_Year'] == 2016: return 'Def2016'\n",
    "  elif x['Ref_Change_Type_1522'] == 'Def' and x['Ref_Year'] == 2017: return 'Def2017'\n",
    "  elif x['Ref_Change_Type_1522'] == 'Def' and x['Ref_Year'] == 2018: return 'Def2018'\n",
    "  elif x['Ref_Change_Type_1522'] == 'Def' and x['Ref_Year'] == 2019: return 'Def2019'\n",
    "  elif x['Ref_Change_Type_1522'] == 'Def' and x['Ref_Year'] == 2020: return 'Def2020'\n",
    "  elif x['Ref_Change_Type_1522'] == 'Def' and x['Ref_Year'] == 2021: return 'Def2021'\n",
    "  elif x['Ref_Change_Type_1522'] == 'Def' and x['Ref_Year'] == 2022: return 'Def2022'\n",
    "  elif x['Ref_Change_Type_1522'] == 'Deg' and x['Ref_Year'] == 2016: return 'Deg2016'\n",
    "  elif x['Ref_Change_Type_1522'] == 'Deg' and x['Ref_Year'] == 2017: return 'Deg2017'\n",
    "  elif x['Ref_Change_Type_1522'] == 'Deg' and x['Ref_Year'] == 2018: return 'Deg2018'\n",
    "  elif x['Ref_Change_Type_1522'] == 'Deg' and x['Ref_Year'] == 2019: return 'Deg2019'\n",
    "  elif x['Ref_Change_Type_1522'] == 'Deg' and x['Ref_Year'] == 2020: return 'Deg2020'\n",
    "  elif x['Ref_Change_Type_1522'] == 'Deg' and x['Ref_Year'] == 2021: return 'Deg2021'\n",
    "  elif x['Ref_Change_Type_1522'] == 'Deg' and x['Ref_Year'] == 2022: return 'Deg2022'\n",
    "  elif x['Ref_Change_Type_1522'] == 'NF' : return 'NF'\n",
    "  elif x['Ref_Change_Type_1522'] == 'Stable' : return 'Stable'\n",
    "  else: return ''\n",
    "\n",
    "merged_ceo_nodup['Ref_Change_Year_1522'] = merged_ceo_nodup.apply(y, axis=1)\n",
    "\n",
    "annual_counts = merged_ceo_nodup['Ref_Change_Year_1522'].value_counts()\n",
    "annual_counts = annual_counts.sort_index()\n",
    "print(annual_counts)"
   ]
  },
  {
   "cell_type": "code",
   "execution_count": 63,
   "id": "a2951865-3ca2-42c9-a68c-9ce45fd46fef",
   "metadata": {
    "tags": []
   },
   "outputs": [
    {
     "data": {
      "text/plain": [
       "4377"
      ]
     },
     "execution_count": 63,
     "metadata": {},
     "output_type": "execute_result"
    }
   ],
   "source": [
    "annual_counts.sum()"
   ]
  },
  {
   "cell_type": "code",
   "execution_count": 64,
   "id": "dc84fd61-3be7-4c55-9f93-7d246f49be0e",
   "metadata": {},
   "outputs": [
    {
     "data": {
      "text/html": [
       "<div>\n",
       "<style scoped>\n",
       "    .dataframe tbody tr th:only-of-type {\n",
       "        vertical-align: middle;\n",
       "    }\n",
       "\n",
       "    .dataframe tbody tr th {\n",
       "        vertical-align: top;\n",
       "    }\n",
       "\n",
       "    .dataframe thead th {\n",
       "        text-align: right;\n",
       "    }\n",
       "</style>\n",
       "<table border=\"1\" class=\"dataframe\">\n",
       "  <thead>\n",
       "    <tr style=\"text-align: right;\">\n",
       "      <th>interpreted</th>\n",
       "      <th>1</th>\n",
       "      <th>Total</th>\n",
       "    </tr>\n",
       "    <tr>\n",
       "      <th>Ref_Change_Year_1522</th>\n",
       "      <th></th>\n",
       "      <th></th>\n",
       "    </tr>\n",
       "  </thead>\n",
       "  <tbody>\n",
       "    <tr>\n",
       "      <th>Def2016</th>\n",
       "      <td>5</td>\n",
       "      <td>5</td>\n",
       "    </tr>\n",
       "    <tr>\n",
       "      <th>Def2017</th>\n",
       "      <td>7</td>\n",
       "      <td>7</td>\n",
       "    </tr>\n",
       "    <tr>\n",
       "      <th>Def2018</th>\n",
       "      <td>7</td>\n",
       "      <td>7</td>\n",
       "    </tr>\n",
       "    <tr>\n",
       "      <th>Def2019</th>\n",
       "      <td>3</td>\n",
       "      <td>3</td>\n",
       "    </tr>\n",
       "    <tr>\n",
       "      <th>Def2020</th>\n",
       "      <td>1</td>\n",
       "      <td>1</td>\n",
       "    </tr>\n",
       "    <tr>\n",
       "      <th>Def2021</th>\n",
       "      <td>10</td>\n",
       "      <td>10</td>\n",
       "    </tr>\n",
       "    <tr>\n",
       "      <th>Def2022</th>\n",
       "      <td>4</td>\n",
       "      <td>4</td>\n",
       "    </tr>\n",
       "    <tr>\n",
       "      <th>Deg2017</th>\n",
       "      <td>1</td>\n",
       "      <td>1</td>\n",
       "    </tr>\n",
       "    <tr>\n",
       "      <th>Deg2018</th>\n",
       "      <td>6</td>\n",
       "      <td>6</td>\n",
       "    </tr>\n",
       "    <tr>\n",
       "      <th>Deg2019</th>\n",
       "      <td>7</td>\n",
       "      <td>7</td>\n",
       "    </tr>\n",
       "    <tr>\n",
       "      <th>Deg2020</th>\n",
       "      <td>4</td>\n",
       "      <td>4</td>\n",
       "    </tr>\n",
       "    <tr>\n",
       "      <th>Deg2021</th>\n",
       "      <td>5</td>\n",
       "      <td>5</td>\n",
       "    </tr>\n",
       "    <tr>\n",
       "      <th>Deg2022</th>\n",
       "      <td>18</td>\n",
       "      <td>18</td>\n",
       "    </tr>\n",
       "    <tr>\n",
       "      <th>NF</th>\n",
       "      <td>2693</td>\n",
       "      <td>2693</td>\n",
       "    </tr>\n",
       "    <tr>\n",
       "      <th>Stable</th>\n",
       "      <td>1606</td>\n",
       "      <td>1606</td>\n",
       "    </tr>\n",
       "    <tr>\n",
       "      <th>Total</th>\n",
       "      <td>4377</td>\n",
       "      <td>4377</td>\n",
       "    </tr>\n",
       "  </tbody>\n",
       "</table>\n",
       "</div>"
      ],
      "text/plain": [
       "interpreted              1  Total\n",
       "Ref_Change_Year_1522             \n",
       "Def2016                  5      5\n",
       "Def2017                  7      7\n",
       "Def2018                  7      7\n",
       "Def2019                  3      3\n",
       "Def2020                  1      1\n",
       "Def2021                 10     10\n",
       "Def2022                  4      4\n",
       "Deg2017                  1      1\n",
       "Deg2018                  6      6\n",
       "Deg2019                  7      7\n",
       "Deg2020                  4      4\n",
       "Deg2021                  5      5\n",
       "Deg2022                 18     18\n",
       "NF                    2693   2693\n",
       "Stable                1606   1606\n",
       "Total                 4377   4377"
      ]
     },
     "execution_count": 64,
     "metadata": {},
     "output_type": "execute_result"
    }
   ],
   "source": [
    "pd.pivot_table(merged_ceo_nodup,values='point_id',index=['Ref_Change_Year_1522'],columns=['interpreted'],aggfunc=\"count\",margins=True,\n",
    "                             margins_name='Total')"
   ]
  },
  {
   "cell_type": "code",
   "execution_count": 65,
   "id": "e77784b5-35f6-4659-a0d5-1339fed0f7e9",
   "metadata": {},
   "outputs": [
    {
     "data": {
      "text/html": [
       "<div>\n",
       "<style scoped>\n",
       "    .dataframe tbody tr th:only-of-type {\n",
       "        vertical-align: middle;\n",
       "    }\n",
       "\n",
       "    .dataframe tbody tr th {\n",
       "        vertical-align: top;\n",
       "    }\n",
       "\n",
       "    .dataframe thead th {\n",
       "        text-align: right;\n",
       "    }\n",
       "</style>\n",
       "<table border=\"1\" class=\"dataframe\">\n",
       "  <thead>\n",
       "    <tr style=\"text-align: right;\">\n",
       "      <th>interpreted</th>\n",
       "      <th>1</th>\n",
       "      <th>Total</th>\n",
       "    </tr>\n",
       "    <tr>\n",
       "      <th>Ref_Change_Type_1522</th>\n",
       "      <th></th>\n",
       "      <th></th>\n",
       "    </tr>\n",
       "  </thead>\n",
       "  <tbody>\n",
       "    <tr>\n",
       "      <th>Def</th>\n",
       "      <td>37</td>\n",
       "      <td>37</td>\n",
       "    </tr>\n",
       "    <tr>\n",
       "      <th>Deg</th>\n",
       "      <td>41</td>\n",
       "      <td>41</td>\n",
       "    </tr>\n",
       "    <tr>\n",
       "      <th>NF</th>\n",
       "      <td>2693</td>\n",
       "      <td>2693</td>\n",
       "    </tr>\n",
       "    <tr>\n",
       "      <th>Stable</th>\n",
       "      <td>1606</td>\n",
       "      <td>1606</td>\n",
       "    </tr>\n",
       "    <tr>\n",
       "      <th>Total</th>\n",
       "      <td>4377</td>\n",
       "      <td>4377</td>\n",
       "    </tr>\n",
       "  </tbody>\n",
       "</table>\n",
       "</div>"
      ],
      "text/plain": [
       "interpreted              1  Total\n",
       "Ref_Change_Type_1522             \n",
       "Def                     37     37\n",
       "Deg                     41     41\n",
       "NF                    2693   2693\n",
       "Stable                1606   1606\n",
       "Total                 4377   4377"
      ]
     },
     "execution_count": 65,
     "metadata": {},
     "output_type": "execute_result"
    }
   ],
   "source": [
    "pd.pivot_table(merged_ceo_nodup,values='point_id',index=['Ref_Change_Type_1522'],columns=['interpreted'],aggfunc=\"count\",margins=True,\n",
    "                             margins_name='Total')"
   ]
  },
  {
   "cell_type": "code",
   "execution_count": 66,
   "id": "eec38754-782c-4810-afab-b66aa9697456",
   "metadata": {
    "tags": []
   },
   "outputs": [],
   "source": [
    "merged_ceo_nodup['Def2016'] = np.where(merged_ceo_nodup['Ref_Change_Year_1522'] == 'Def2016', 1, 0)\n",
    "merged_ceo_nodup['Def2017'] = np.where(merged_ceo_nodup['Ref_Change_Year_1522'] == 'Def2017', 1, 0)\n",
    "merged_ceo_nodup['Def2018'] = np.where(merged_ceo_nodup['Ref_Change_Year_1522'] == 'Def2018', 1, 0)\n",
    "merged_ceo_nodup['Def2019'] = np.where(merged_ceo_nodup['Ref_Change_Year_1522'] == 'Def2019', 1, 0)\n",
    "merged_ceo_nodup['Def2020'] = np.where(merged_ceo_nodup['Ref_Change_Year_1522'] == 'Def2020', 1, 0)\n",
    "merged_ceo_nodup['Def2021'] = np.where(merged_ceo_nodup['Ref_Change_Year_1522'] == 'Def2021', 1, 0)\n",
    "merged_ceo_nodup['Def2022'] = np.where(merged_ceo_nodup['Ref_Change_Year_1522'] == 'Def2022', 1, 0)"
   ]
  },
  {
   "cell_type": "code",
   "execution_count": 67,
   "id": "d6b46afa-fa39-4678-bb0a-98f222e9d4dd",
   "metadata": {
    "tags": []
   },
   "outputs": [],
   "source": [
    "merged_ceo_nodup['Deg2016'] = np.where(merged_ceo_nodup['Ref_Change_Year_1522'] == 'Deg2016', 1, 0)\n",
    "merged_ceo_nodup['Deg2017'] = np.where(merged_ceo_nodup['Ref_Change_Year_1522'] == 'Deg2017', 1, 0)\n",
    "merged_ceo_nodup['Deg2018'] = np.where(merged_ceo_nodup['Ref_Change_Year_1522'] == 'Deg2018', 1, 0)\n",
    "merged_ceo_nodup['Deg2019'] = np.where(merged_ceo_nodup['Ref_Change_Year_1522'] == 'Deg2019', 1, 0)\n",
    "merged_ceo_nodup['Deg2020'] = np.where(merged_ceo_nodup['Ref_Change_Year_1522'] == 'Deg2020', 1, 0)\n",
    "merged_ceo_nodup['Deg2021'] = np.where(merged_ceo_nodup['Ref_Change_Year_1522'] == 'Deg2021', 1, 0)\n",
    "merged_ceo_nodup['Deg2022'] = np.where(merged_ceo_nodup['Ref_Change_Year_1522'] == 'Deg2022', 1, 0)"
   ]
  },
  {
   "cell_type": "code",
   "execution_count": 68,
   "id": "7d71783a-2664-41d0-947c-45572341cc31",
   "metadata": {
    "tags": []
   },
   "outputs": [],
   "source": [
    "merged_ceo_nodup['Defall'] = np.where(merged_ceo_nodup['Ref_Change_Type_1522'] == 'Def', 1, 0)\n",
    "merged_ceo_nodup['Degall'] = np.where(merged_ceo_nodup['Ref_Change_Type_1522'] == 'Deg', 1, 0)"
   ]
  },
  {
   "cell_type": "code",
   "execution_count": 69,
   "id": "0926ff1a-84a1-400b-bc07-7c72cfcbbdae",
   "metadata": {
    "tags": []
   },
   "outputs": [],
   "source": [
    "merged_ceo_nodup['Stable'] = np.where(merged_ceo_nodup['Ref_Change_Year_1522'] == 'Stable', 1, 0)\n",
    "merged_ceo_nodup['NF'] = np.where(merged_ceo_nodup['Ref_Change_Year_1522'] == 'NF', 1, 0)"
   ]
  },
  {
   "cell_type": "code",
   "execution_count": 70,
   "id": "98edf798-d5d1-4c0c-8265-d16e6ab29d23",
   "metadata": {
    "tags": []
   },
   "outputs": [
    {
     "name": "stdout",
     "output_type": "stream",
     "text": [
      "['plotid', 'sampleid', 'lon', 'lat', 'sample_geom', 'point_id', 'Ref_FNF_2015', 'Ref_Regeneration', 'Ref_Change_1522', 'Ref_Change_Type_1522', 'ArtFor', 'ArtMine', 'InfraR', 'Urb', 'IndFor', 'Other', 'Other_Desc', 'IndMine', 'IndAg', 'ArtAg', 'Ref_Year', 'Ref_NFtype', 'Ref_Ftype', 'collection', 'interpreted', 'Ref_LCover', 'Ref_Change_Year_1522', 'Def2016', 'Def2017', 'Def2018', 'Def2019', 'Def2020', 'Def2021', 'Def2022', 'Deg2016', 'Deg2017', 'Deg2018', 'Deg2019', 'Deg2020', 'Deg2021', 'Deg2022', 'Defall', 'Degall', 'Stable', 'NF']\n"
     ]
    }
   ],
   "source": [
    "merged_ceo_column_names = merged_ceo_nodup.columns.tolist()\n",
    "# Print the list of column names\n",
    "print(merged_ceo_column_names)"
   ]
  },
  {
   "cell_type": "code",
   "execution_count": 71,
   "id": "2706fbbf-4744-41c5-bd58-03c4b5a4bff2",
   "metadata": {
    "tags": []
   },
   "outputs": [
    {
     "data": {
      "text/html": [
       "<div>\n",
       "<style scoped>\n",
       "    .dataframe tbody tr th:only-of-type {\n",
       "        vertical-align: middle;\n",
       "    }\n",
       "\n",
       "    .dataframe tbody tr th {\n",
       "        vertical-align: top;\n",
       "    }\n",
       "\n",
       "    .dataframe thead th {\n",
       "        text-align: right;\n",
       "    }\n",
       "</style>\n",
       "<table border=\"1\" class=\"dataframe\">\n",
       "  <thead>\n",
       "    <tr style=\"text-align: right;\">\n",
       "      <th></th>\n",
       "      <th>plotid</th>\n",
       "      <th>sampleid</th>\n",
       "      <th>lon</th>\n",
       "      <th>lat</th>\n",
       "      <th>sample_geom</th>\n",
       "      <th>point_id</th>\n",
       "      <th>Ref_FNF_2015</th>\n",
       "      <th>Ref_Regeneration</th>\n",
       "      <th>Ref_Change_1522</th>\n",
       "      <th>Ref_Change_Type_1522</th>\n",
       "      <th>ArtFor</th>\n",
       "      <th>ArtMine</th>\n",
       "      <th>InfraR</th>\n",
       "      <th>Urb</th>\n",
       "      <th>IndFor</th>\n",
       "      <th>Other</th>\n",
       "      <th>Other_Desc</th>\n",
       "      <th>IndMine</th>\n",
       "      <th>IndAg</th>\n",
       "      <th>ArtAg</th>\n",
       "      <th>Ref_Year</th>\n",
       "      <th>Ref_NFtype</th>\n",
       "      <th>Ref_Ftype</th>\n",
       "      <th>collection</th>\n",
       "      <th>interpreted</th>\n",
       "      <th>Ref_LCover</th>\n",
       "      <th>Ref_Change_Year_1522</th>\n",
       "      <th>Def2016</th>\n",
       "      <th>Def2017</th>\n",
       "      <th>Def2018</th>\n",
       "      <th>Def2019</th>\n",
       "      <th>Def2020</th>\n",
       "      <th>Def2021</th>\n",
       "      <th>Def2022</th>\n",
       "      <th>Deg2016</th>\n",
       "      <th>Deg2017</th>\n",
       "      <th>Deg2018</th>\n",
       "      <th>Deg2019</th>\n",
       "      <th>Deg2020</th>\n",
       "      <th>Deg2021</th>\n",
       "      <th>Deg2022</th>\n",
       "      <th>Defall</th>\n",
       "      <th>Degall</th>\n",
       "      <th>Stable</th>\n",
       "      <th>NF</th>\n",
       "    </tr>\n",
       "  </thead>\n",
       "  <tbody>\n",
       "    <tr>\n",
       "      <th>0</th>\n",
       "      <td>63681</td>\n",
       "      <td>63681</td>\n",
       "      <td>16.819339</td>\n",
       "      <td>6.393071</td>\n",
       "      <td>POINT(16.819339 6.393071)</td>\n",
       "      <td>63681</td>\n",
       "      <td>1</td>\n",
       "      <td>NaN</td>\n",
       "      <td>0</td>\n",
       "      <td>Stable</td>\n",
       "      <td>0</td>\n",
       "      <td>0</td>\n",
       "      <td>0</td>\n",
       "      <td>0</td>\n",
       "      <td>0</td>\n",
       "      <td>0</td>\n",
       "      <td>NaN</td>\n",
       "      <td>0</td>\n",
       "      <td>0</td>\n",
       "      <td>NaN</td>\n",
       "      <td>NaN</td>\n",
       "      <td>NaN</td>\n",
       "      <td>11</td>\n",
       "      <td>1</td>\n",
       "      <td>1</td>\n",
       "      <td>11</td>\n",
       "      <td>Stable</td>\n",
       "      <td>0</td>\n",
       "      <td>0</td>\n",
       "      <td>0</td>\n",
       "      <td>0</td>\n",
       "      <td>0</td>\n",
       "      <td>0</td>\n",
       "      <td>0</td>\n",
       "      <td>0</td>\n",
       "      <td>0</td>\n",
       "      <td>0</td>\n",
       "      <td>0</td>\n",
       "      <td>0</td>\n",
       "      <td>0</td>\n",
       "      <td>0</td>\n",
       "      <td>0</td>\n",
       "      <td>0</td>\n",
       "      <td>1</td>\n",
       "      <td>0</td>\n",
       "    </tr>\n",
       "    <tr>\n",
       "      <th>1</th>\n",
       "      <td>437190</td>\n",
       "      <td>437190</td>\n",
       "      <td>23.734723</td>\n",
       "      <td>6.962044</td>\n",
       "      <td>POINT(23.734723 6.962044)</td>\n",
       "      <td>437190</td>\n",
       "      <td>1</td>\n",
       "      <td>NaN</td>\n",
       "      <td>0</td>\n",
       "      <td>Stable</td>\n",
       "      <td>0</td>\n",
       "      <td>0</td>\n",
       "      <td>0</td>\n",
       "      <td>0</td>\n",
       "      <td>0</td>\n",
       "      <td>0</td>\n",
       "      <td>NaN</td>\n",
       "      <td>0</td>\n",
       "      <td>0</td>\n",
       "      <td>NaN</td>\n",
       "      <td>NaN</td>\n",
       "      <td>NaN</td>\n",
       "      <td>11</td>\n",
       "      <td>1</td>\n",
       "      <td>1</td>\n",
       "      <td>11</td>\n",
       "      <td>Stable</td>\n",
       "      <td>0</td>\n",
       "      <td>0</td>\n",
       "      <td>0</td>\n",
       "      <td>0</td>\n",
       "      <td>0</td>\n",
       "      <td>0</td>\n",
       "      <td>0</td>\n",
       "      <td>0</td>\n",
       "      <td>0</td>\n",
       "      <td>0</td>\n",
       "      <td>0</td>\n",
       "      <td>0</td>\n",
       "      <td>0</td>\n",
       "      <td>0</td>\n",
       "      <td>0</td>\n",
       "      <td>0</td>\n",
       "      <td>1</td>\n",
       "      <td>0</td>\n",
       "    </tr>\n",
       "    <tr>\n",
       "      <th>2</th>\n",
       "      <td>437177</td>\n",
       "      <td>437177</td>\n",
       "      <td>23.668753</td>\n",
       "      <td>6.832323</td>\n",
       "      <td>POINT(23.668753 6.832323)</td>\n",
       "      <td>437177</td>\n",
       "      <td>0</td>\n",
       "      <td>non</td>\n",
       "      <td>0</td>\n",
       "      <td>NF</td>\n",
       "      <td>0</td>\n",
       "      <td>0</td>\n",
       "      <td>0</td>\n",
       "      <td>0</td>\n",
       "      <td>0</td>\n",
       "      <td>0</td>\n",
       "      <td>NaN</td>\n",
       "      <td>0</td>\n",
       "      <td>0</td>\n",
       "      <td>NaN</td>\n",
       "      <td>NaN</td>\n",
       "      <td>12</td>\n",
       "      <td>NaN</td>\n",
       "      <td>1</td>\n",
       "      <td>1</td>\n",
       "      <td>12</td>\n",
       "      <td>NF</td>\n",
       "      <td>0</td>\n",
       "      <td>0</td>\n",
       "      <td>0</td>\n",
       "      <td>0</td>\n",
       "      <td>0</td>\n",
       "      <td>0</td>\n",
       "      <td>0</td>\n",
       "      <td>0</td>\n",
       "      <td>0</td>\n",
       "      <td>0</td>\n",
       "      <td>0</td>\n",
       "      <td>0</td>\n",
       "      <td>0</td>\n",
       "      <td>0</td>\n",
       "      <td>0</td>\n",
       "      <td>0</td>\n",
       "      <td>0</td>\n",
       "      <td>1</td>\n",
       "    </tr>\n",
       "    <tr>\n",
       "      <th>3</th>\n",
       "      <td>436868</td>\n",
       "      <td>436868</td>\n",
       "      <td>24.209607</td>\n",
       "      <td>7.924760</td>\n",
       "      <td>POINT(24.209607 7.92476)</td>\n",
       "      <td>436868</td>\n",
       "      <td>0</td>\n",
       "      <td>oui</td>\n",
       "      <td>0</td>\n",
       "      <td>NF</td>\n",
       "      <td>0</td>\n",
       "      <td>0</td>\n",
       "      <td>0</td>\n",
       "      <td>0</td>\n",
       "      <td>0</td>\n",
       "      <td>0</td>\n",
       "      <td>NaN</td>\n",
       "      <td>0</td>\n",
       "      <td>0</td>\n",
       "      <td>NaN</td>\n",
       "      <td>NaN</td>\n",
       "      <td>15</td>\n",
       "      <td>NaN</td>\n",
       "      <td>1</td>\n",
       "      <td>1</td>\n",
       "      <td>15</td>\n",
       "      <td>NF</td>\n",
       "      <td>0</td>\n",
       "      <td>0</td>\n",
       "      <td>0</td>\n",
       "      <td>0</td>\n",
       "      <td>0</td>\n",
       "      <td>0</td>\n",
       "      <td>0</td>\n",
       "      <td>0</td>\n",
       "      <td>0</td>\n",
       "      <td>0</td>\n",
       "      <td>0</td>\n",
       "      <td>0</td>\n",
       "      <td>0</td>\n",
       "      <td>0</td>\n",
       "      <td>0</td>\n",
       "      <td>0</td>\n",
       "      <td>0</td>\n",
       "      <td>1</td>\n",
       "    </tr>\n",
       "    <tr>\n",
       "      <th>4</th>\n",
       "      <td>436305</td>\n",
       "      <td>436305</td>\n",
       "      <td>23.461073</td>\n",
       "      <td>6.463532</td>\n",
       "      <td>POINT(23.461073 6.463532)</td>\n",
       "      <td>436305</td>\n",
       "      <td>1</td>\n",
       "      <td>NaN</td>\n",
       "      <td>0</td>\n",
       "      <td>Stable</td>\n",
       "      <td>0</td>\n",
       "      <td>0</td>\n",
       "      <td>0</td>\n",
       "      <td>0</td>\n",
       "      <td>0</td>\n",
       "      <td>0</td>\n",
       "      <td>NaN</td>\n",
       "      <td>0</td>\n",
       "      <td>0</td>\n",
       "      <td>NaN</td>\n",
       "      <td>NaN</td>\n",
       "      <td>NaN</td>\n",
       "      <td>11</td>\n",
       "      <td>1</td>\n",
       "      <td>1</td>\n",
       "      <td>11</td>\n",
       "      <td>Stable</td>\n",
       "      <td>0</td>\n",
       "      <td>0</td>\n",
       "      <td>0</td>\n",
       "      <td>0</td>\n",
       "      <td>0</td>\n",
       "      <td>0</td>\n",
       "      <td>0</td>\n",
       "      <td>0</td>\n",
       "      <td>0</td>\n",
       "      <td>0</td>\n",
       "      <td>0</td>\n",
       "      <td>0</td>\n",
       "      <td>0</td>\n",
       "      <td>0</td>\n",
       "      <td>0</td>\n",
       "      <td>0</td>\n",
       "      <td>1</td>\n",
       "      <td>0</td>\n",
       "    </tr>\n",
       "  </tbody>\n",
       "</table>\n",
       "</div>"
      ],
      "text/plain": [
       "   plotid  sampleid        lon       lat                sample_geom  point_id  \\\n",
       "0   63681     63681  16.819339  6.393071  POINT(16.819339 6.393071)     63681   \n",
       "1  437190    437190  23.734723  6.962044  POINT(23.734723 6.962044)    437190   \n",
       "2  437177    437177  23.668753  6.832323  POINT(23.668753 6.832323)    437177   \n",
       "3  436868    436868  24.209607  7.924760   POINT(24.209607 7.92476)    436868   \n",
       "4  436305    436305  23.461073  6.463532  POINT(23.461073 6.463532)    436305   \n",
       "\n",
       "  Ref_FNF_2015 Ref_Regeneration Ref_Change_1522 Ref_Change_Type_1522 ArtFor  \\\n",
       "0            1              NaN               0               Stable      0   \n",
       "1            1              NaN               0               Stable      0   \n",
       "2            0              non               0                   NF      0   \n",
       "3            0              oui               0                   NF      0   \n",
       "4            1              NaN               0               Stable      0   \n",
       "\n",
       "  ArtMine InfraR Urb IndFor Other Other_Desc IndMine IndAg ArtAg  Ref_Year  \\\n",
       "0       0      0   0      0     0        NaN       0     0   NaN       NaN   \n",
       "1       0      0   0      0     0        NaN       0     0   NaN       NaN   \n",
       "2       0      0   0      0     0        NaN       0     0   NaN       NaN   \n",
       "3       0      0   0      0     0        NaN       0     0   NaN       NaN   \n",
       "4       0      0   0      0     0        NaN       0     0   NaN       NaN   \n",
       "\n",
       "  Ref_NFtype Ref_Ftype  collection  interpreted Ref_LCover  \\\n",
       "0        NaN        11           1            1         11   \n",
       "1        NaN        11           1            1         11   \n",
       "2         12       NaN           1            1         12   \n",
       "3         15       NaN           1            1         15   \n",
       "4        NaN        11           1            1         11   \n",
       "\n",
       "  Ref_Change_Year_1522  Def2016  Def2017  Def2018  Def2019  Def2020  Def2021  \\\n",
       "0               Stable        0        0        0        0        0        0   \n",
       "1               Stable        0        0        0        0        0        0   \n",
       "2                   NF        0        0        0        0        0        0   \n",
       "3                   NF        0        0        0        0        0        0   \n",
       "4               Stable        0        0        0        0        0        0   \n",
       "\n",
       "   Def2022  Deg2016  Deg2017  Deg2018  Deg2019  Deg2020  Deg2021  Deg2022  \\\n",
       "0        0        0        0        0        0        0        0        0   \n",
       "1        0        0        0        0        0        0        0        0   \n",
       "2        0        0        0        0        0        0        0        0   \n",
       "3        0        0        0        0        0        0        0        0   \n",
       "4        0        0        0        0        0        0        0        0   \n",
       "\n",
       "   Defall  Degall  Stable  NF  \n",
       "0       0       0       1   0  \n",
       "1       0       0       1   0  \n",
       "2       0       0       0   1  \n",
       "3       0       0       0   1  \n",
       "4       0       0       1   0  "
      ]
     },
     "execution_count": 71,
     "metadata": {},
     "output_type": "execute_result"
    }
   ],
   "source": [
    "merged_ceo_nodup.head()"
   ]
  },
  {
   "cell_type": "code",
   "execution_count": 72,
   "id": "a413d7d4-c52b-4e7b-a830-9d5f2019a41b",
   "metadata": {
    "tags": []
   },
   "outputs": [
    {
     "name": "stdout",
     "output_type": "stream",
     "text": [
      "['plotid' 'sampleid' 'lon' 'lat' 'sample_geom' 'point_id' 'Ref_FNF_2015'\n",
      " 'Ref_Regeneration' 'Ref_Change_1522' 'Ref_Change_Type_1522' 'ArtFor'\n",
      " 'ArtMine' 'InfraR' 'Urb' 'IndFor' 'Other' 'Other_Desc' 'IndMine' 'IndAg'\n",
      " 'ArtAg' 'Ref_Year' 'Ref_NFtype' 'Ref_Ftype' 'collection' 'interpreted'\n",
      " 'Ref_LCover' 'Ref_Change_Year_1522' 'Def2016' 'Def2017' 'Def2018'\n",
      " 'Def2019' 'Def2020' 'Def2021' 'Def2022' 'Deg2016' 'Deg2017' 'Deg2018'\n",
      " 'Deg2019' 'Deg2020' 'Deg2021' 'Deg2022' 'Defall' 'Degall' 'Stable' 'NF']\n"
     ]
    }
   ],
   "source": [
    "print(merged_ceo_nodup.columns.values)"
   ]
  },
  {
   "cell_type": "code",
   "execution_count": 73,
   "id": "dbc6a9bd-8fd3-49e9-8d56-e1420024ecc7",
   "metadata": {
    "tags": []
   },
   "outputs": [
    {
     "data": {
      "text/plain": [
       "Ref_Change_Year_1522\n",
       "NF         2693\n",
       "Stable     1606\n",
       "Deg2022      18\n",
       "Def2021      10\n",
       "Deg2019       7\n",
       "Def2017       7\n",
       "Def2018       7\n",
       "Deg2018       6\n",
       "Def2016       5\n",
       "Deg2021       5\n",
       "Deg2020       4\n",
       "Def2022       4\n",
       "Def2019       3\n",
       "Deg2017       1\n",
       "Def2020       1\n",
       "Name: count, dtype: int64"
      ]
     },
     "execution_count": 73,
     "metadata": {},
     "output_type": "execute_result"
    }
   ],
   "source": [
    "merged_ceo_nodup['Ref_Change_Year_1522'].value_counts(dropna=False)"
   ]
  },
  {
   "cell_type": "code",
   "execution_count": 74,
   "id": "7f40e2a6-b05f-430d-ab5f-e7a7719e38be",
   "metadata": {},
   "outputs": [
    {
     "data": {
      "text/html": [
       "<div>\n",
       "<style scoped>\n",
       "    .dataframe tbody tr th:only-of-type {\n",
       "        vertical-align: middle;\n",
       "    }\n",
       "\n",
       "    .dataframe tbody tr th {\n",
       "        vertical-align: top;\n",
       "    }\n",
       "\n",
       "    .dataframe thead th {\n",
       "        text-align: right;\n",
       "    }\n",
       "</style>\n",
       "<table border=\"1\" class=\"dataframe\">\n",
       "  <thead>\n",
       "    <tr style=\"text-align: right;\">\n",
       "      <th></th>\n",
       "      <th>plotid</th>\n",
       "      <th>sampleid</th>\n",
       "      <th>lon</th>\n",
       "      <th>lat</th>\n",
       "      <th>sample_geom</th>\n",
       "      <th>point_id</th>\n",
       "      <th>Ref_FNF_2015</th>\n",
       "      <th>Ref_Regeneration</th>\n",
       "      <th>Ref_Change_1522</th>\n",
       "      <th>Ref_Change_Type_1522</th>\n",
       "      <th>ArtFor</th>\n",
       "      <th>ArtMine</th>\n",
       "      <th>InfraR</th>\n",
       "      <th>Urb</th>\n",
       "      <th>IndFor</th>\n",
       "      <th>Other</th>\n",
       "      <th>Other_Desc</th>\n",
       "      <th>IndMine</th>\n",
       "      <th>IndAg</th>\n",
       "      <th>ArtAg</th>\n",
       "      <th>Ref_Year</th>\n",
       "      <th>Ref_NFtype</th>\n",
       "      <th>Ref_Ftype</th>\n",
       "      <th>collection</th>\n",
       "      <th>interpreted</th>\n",
       "      <th>Ref_LCover</th>\n",
       "      <th>Ref_Change_Year_1522</th>\n",
       "      <th>Def2016</th>\n",
       "      <th>Def2017</th>\n",
       "      <th>Def2018</th>\n",
       "      <th>Def2019</th>\n",
       "      <th>Def2020</th>\n",
       "      <th>Def2021</th>\n",
       "      <th>Def2022</th>\n",
       "      <th>Deg2016</th>\n",
       "      <th>Deg2017</th>\n",
       "      <th>Deg2018</th>\n",
       "      <th>Deg2019</th>\n",
       "      <th>Deg2020</th>\n",
       "      <th>Deg2021</th>\n",
       "      <th>Deg2022</th>\n",
       "      <th>Defall</th>\n",
       "      <th>Degall</th>\n",
       "      <th>Stable</th>\n",
       "      <th>NF</th>\n",
       "    </tr>\n",
       "  </thead>\n",
       "  <tbody>\n",
       "    <tr>\n",
       "      <th>0</th>\n",
       "      <td>63681</td>\n",
       "      <td>63681</td>\n",
       "      <td>16.819339</td>\n",
       "      <td>6.393071</td>\n",
       "      <td>POINT(16.819339 6.393071)</td>\n",
       "      <td>63681</td>\n",
       "      <td>1</td>\n",
       "      <td>NaN</td>\n",
       "      <td>0</td>\n",
       "      <td>Stable</td>\n",
       "      <td>0</td>\n",
       "      <td>0</td>\n",
       "      <td>0</td>\n",
       "      <td>0</td>\n",
       "      <td>0</td>\n",
       "      <td>0</td>\n",
       "      <td>NaN</td>\n",
       "      <td>0</td>\n",
       "      <td>0</td>\n",
       "      <td>NaN</td>\n",
       "      <td>NaN</td>\n",
       "      <td>NaN</td>\n",
       "      <td>11</td>\n",
       "      <td>1</td>\n",
       "      <td>1</td>\n",
       "      <td>11</td>\n",
       "      <td>Stable</td>\n",
       "      <td>0</td>\n",
       "      <td>0</td>\n",
       "      <td>0</td>\n",
       "      <td>0</td>\n",
       "      <td>0</td>\n",
       "      <td>0</td>\n",
       "      <td>0</td>\n",
       "      <td>0</td>\n",
       "      <td>0</td>\n",
       "      <td>0</td>\n",
       "      <td>0</td>\n",
       "      <td>0</td>\n",
       "      <td>0</td>\n",
       "      <td>0</td>\n",
       "      <td>0</td>\n",
       "      <td>0</td>\n",
       "      <td>1</td>\n",
       "      <td>0</td>\n",
       "    </tr>\n",
       "    <tr>\n",
       "      <th>1</th>\n",
       "      <td>437190</td>\n",
       "      <td>437190</td>\n",
       "      <td>23.734723</td>\n",
       "      <td>6.962044</td>\n",
       "      <td>POINT(23.734723 6.962044)</td>\n",
       "      <td>437190</td>\n",
       "      <td>1</td>\n",
       "      <td>NaN</td>\n",
       "      <td>0</td>\n",
       "      <td>Stable</td>\n",
       "      <td>0</td>\n",
       "      <td>0</td>\n",
       "      <td>0</td>\n",
       "      <td>0</td>\n",
       "      <td>0</td>\n",
       "      <td>0</td>\n",
       "      <td>NaN</td>\n",
       "      <td>0</td>\n",
       "      <td>0</td>\n",
       "      <td>NaN</td>\n",
       "      <td>NaN</td>\n",
       "      <td>NaN</td>\n",
       "      <td>11</td>\n",
       "      <td>1</td>\n",
       "      <td>1</td>\n",
       "      <td>11</td>\n",
       "      <td>Stable</td>\n",
       "      <td>0</td>\n",
       "      <td>0</td>\n",
       "      <td>0</td>\n",
       "      <td>0</td>\n",
       "      <td>0</td>\n",
       "      <td>0</td>\n",
       "      <td>0</td>\n",
       "      <td>0</td>\n",
       "      <td>0</td>\n",
       "      <td>0</td>\n",
       "      <td>0</td>\n",
       "      <td>0</td>\n",
       "      <td>0</td>\n",
       "      <td>0</td>\n",
       "      <td>0</td>\n",
       "      <td>0</td>\n",
       "      <td>1</td>\n",
       "      <td>0</td>\n",
       "    </tr>\n",
       "    <tr>\n",
       "      <th>2</th>\n",
       "      <td>437177</td>\n",
       "      <td>437177</td>\n",
       "      <td>23.668753</td>\n",
       "      <td>6.832323</td>\n",
       "      <td>POINT(23.668753 6.832323)</td>\n",
       "      <td>437177</td>\n",
       "      <td>0</td>\n",
       "      <td>non</td>\n",
       "      <td>0</td>\n",
       "      <td>NF</td>\n",
       "      <td>0</td>\n",
       "      <td>0</td>\n",
       "      <td>0</td>\n",
       "      <td>0</td>\n",
       "      <td>0</td>\n",
       "      <td>0</td>\n",
       "      <td>NaN</td>\n",
       "      <td>0</td>\n",
       "      <td>0</td>\n",
       "      <td>NaN</td>\n",
       "      <td>NaN</td>\n",
       "      <td>12</td>\n",
       "      <td>NaN</td>\n",
       "      <td>1</td>\n",
       "      <td>1</td>\n",
       "      <td>12</td>\n",
       "      <td>NF</td>\n",
       "      <td>0</td>\n",
       "      <td>0</td>\n",
       "      <td>0</td>\n",
       "      <td>0</td>\n",
       "      <td>0</td>\n",
       "      <td>0</td>\n",
       "      <td>0</td>\n",
       "      <td>0</td>\n",
       "      <td>0</td>\n",
       "      <td>0</td>\n",
       "      <td>0</td>\n",
       "      <td>0</td>\n",
       "      <td>0</td>\n",
       "      <td>0</td>\n",
       "      <td>0</td>\n",
       "      <td>0</td>\n",
       "      <td>0</td>\n",
       "      <td>1</td>\n",
       "    </tr>\n",
       "    <tr>\n",
       "      <th>3</th>\n",
       "      <td>436868</td>\n",
       "      <td>436868</td>\n",
       "      <td>24.209607</td>\n",
       "      <td>7.924760</td>\n",
       "      <td>POINT(24.209607 7.92476)</td>\n",
       "      <td>436868</td>\n",
       "      <td>0</td>\n",
       "      <td>oui</td>\n",
       "      <td>0</td>\n",
       "      <td>NF</td>\n",
       "      <td>0</td>\n",
       "      <td>0</td>\n",
       "      <td>0</td>\n",
       "      <td>0</td>\n",
       "      <td>0</td>\n",
       "      <td>0</td>\n",
       "      <td>NaN</td>\n",
       "      <td>0</td>\n",
       "      <td>0</td>\n",
       "      <td>NaN</td>\n",
       "      <td>NaN</td>\n",
       "      <td>15</td>\n",
       "      <td>NaN</td>\n",
       "      <td>1</td>\n",
       "      <td>1</td>\n",
       "      <td>15</td>\n",
       "      <td>NF</td>\n",
       "      <td>0</td>\n",
       "      <td>0</td>\n",
       "      <td>0</td>\n",
       "      <td>0</td>\n",
       "      <td>0</td>\n",
       "      <td>0</td>\n",
       "      <td>0</td>\n",
       "      <td>0</td>\n",
       "      <td>0</td>\n",
       "      <td>0</td>\n",
       "      <td>0</td>\n",
       "      <td>0</td>\n",
       "      <td>0</td>\n",
       "      <td>0</td>\n",
       "      <td>0</td>\n",
       "      <td>0</td>\n",
       "      <td>0</td>\n",
       "      <td>1</td>\n",
       "    </tr>\n",
       "    <tr>\n",
       "      <th>4</th>\n",
       "      <td>436305</td>\n",
       "      <td>436305</td>\n",
       "      <td>23.461073</td>\n",
       "      <td>6.463532</td>\n",
       "      <td>POINT(23.461073 6.463532)</td>\n",
       "      <td>436305</td>\n",
       "      <td>1</td>\n",
       "      <td>NaN</td>\n",
       "      <td>0</td>\n",
       "      <td>Stable</td>\n",
       "      <td>0</td>\n",
       "      <td>0</td>\n",
       "      <td>0</td>\n",
       "      <td>0</td>\n",
       "      <td>0</td>\n",
       "      <td>0</td>\n",
       "      <td>NaN</td>\n",
       "      <td>0</td>\n",
       "      <td>0</td>\n",
       "      <td>NaN</td>\n",
       "      <td>NaN</td>\n",
       "      <td>NaN</td>\n",
       "      <td>11</td>\n",
       "      <td>1</td>\n",
       "      <td>1</td>\n",
       "      <td>11</td>\n",
       "      <td>Stable</td>\n",
       "      <td>0</td>\n",
       "      <td>0</td>\n",
       "      <td>0</td>\n",
       "      <td>0</td>\n",
       "      <td>0</td>\n",
       "      <td>0</td>\n",
       "      <td>0</td>\n",
       "      <td>0</td>\n",
       "      <td>0</td>\n",
       "      <td>0</td>\n",
       "      <td>0</td>\n",
       "      <td>0</td>\n",
       "      <td>0</td>\n",
       "      <td>0</td>\n",
       "      <td>0</td>\n",
       "      <td>0</td>\n",
       "      <td>1</td>\n",
       "      <td>0</td>\n",
       "    </tr>\n",
       "  </tbody>\n",
       "</table>\n",
       "</div>"
      ],
      "text/plain": [
       "   plotid  sampleid        lon       lat                sample_geom  point_id  \\\n",
       "0   63681     63681  16.819339  6.393071  POINT(16.819339 6.393071)     63681   \n",
       "1  437190    437190  23.734723  6.962044  POINT(23.734723 6.962044)    437190   \n",
       "2  437177    437177  23.668753  6.832323  POINT(23.668753 6.832323)    437177   \n",
       "3  436868    436868  24.209607  7.924760   POINT(24.209607 7.92476)    436868   \n",
       "4  436305    436305  23.461073  6.463532  POINT(23.461073 6.463532)    436305   \n",
       "\n",
       "  Ref_FNF_2015 Ref_Regeneration Ref_Change_1522 Ref_Change_Type_1522 ArtFor  \\\n",
       "0            1              NaN               0               Stable      0   \n",
       "1            1              NaN               0               Stable      0   \n",
       "2            0              non               0                   NF      0   \n",
       "3            0              oui               0                   NF      0   \n",
       "4            1              NaN               0               Stable      0   \n",
       "\n",
       "  ArtMine InfraR Urb IndFor Other Other_Desc IndMine IndAg ArtAg  Ref_Year  \\\n",
       "0       0      0   0      0     0        NaN       0     0   NaN       NaN   \n",
       "1       0      0   0      0     0        NaN       0     0   NaN       NaN   \n",
       "2       0      0   0      0     0        NaN       0     0   NaN       NaN   \n",
       "3       0      0   0      0     0        NaN       0     0   NaN       NaN   \n",
       "4       0      0   0      0     0        NaN       0     0   NaN       NaN   \n",
       "\n",
       "  Ref_NFtype Ref_Ftype  collection  interpreted Ref_LCover  \\\n",
       "0        NaN        11           1            1         11   \n",
       "1        NaN        11           1            1         11   \n",
       "2         12       NaN           1            1         12   \n",
       "3         15       NaN           1            1         15   \n",
       "4        NaN        11           1            1         11   \n",
       "\n",
       "  Ref_Change_Year_1522  Def2016  Def2017  Def2018  Def2019  Def2020  Def2021  \\\n",
       "0               Stable        0        0        0        0        0        0   \n",
       "1               Stable        0        0        0        0        0        0   \n",
       "2                   NF        0        0        0        0        0        0   \n",
       "3                   NF        0        0        0        0        0        0   \n",
       "4               Stable        0        0        0        0        0        0   \n",
       "\n",
       "   Def2022  Deg2016  Deg2017  Deg2018  Deg2019  Deg2020  Deg2021  Deg2022  \\\n",
       "0        0        0        0        0        0        0        0        0   \n",
       "1        0        0        0        0        0        0        0        0   \n",
       "2        0        0        0        0        0        0        0        0   \n",
       "3        0        0        0        0        0        0        0        0   \n",
       "4        0        0        0        0        0        0        0        0   \n",
       "\n",
       "   Defall  Degall  Stable  NF  \n",
       "0       0       0       1   0  \n",
       "1       0       0       1   0  \n",
       "2       0       0       0   1  \n",
       "3       0       0       0   1  \n",
       "4       0       0       1   0  "
      ]
     },
     "execution_count": 74,
     "metadata": {},
     "output_type": "execute_result"
    }
   ],
   "source": [
    "merged_ceo_nodup.head()"
   ]
  },
  {
   "cell_type": "code",
   "execution_count": 75,
   "id": "0f5b06d0-89d2-4190-aed7-b3b20806496c",
   "metadata": {},
   "outputs": [],
   "source": [
    "merged_ceo_nodup['ISO'] = iso"
   ]
  },
  {
   "cell_type": "markdown",
   "id": "a6cf541d-ffb9-4489-b03a-ba2bcb7b5878",
   "metadata": {},
   "source": [
    "### 3. plot change points by year"
   ]
  },
  {
   "cell_type": "code",
   "execution_count": 76,
   "id": "f1c32086-c2e8-41ca-b034-fc54d94edeeb",
   "metadata": {
    "tags": []
   },
   "outputs": [
    {
     "data": {
      "image/png": "[encoded data removed]",
      "text/plain": [
       "<Figure size 800x600 with 1 Axes>"
      ]
     },
     "metadata": {},
     "output_type": "display_data"
    }
   ],
   "source": [
    "#select the values you want to plot\n",
    "values_to_plot = ['Def2016','Def2017','Def2018','Def2019','Def2020','Def2021','Def2022']\n",
    "\n",
    "# Filter the DataFrame to include only the selected values\n",
    "filtered_df = merged_ceo_nodup[merged_ceo_nodup['Ref_Change_Year_1522'].isin(values_to_plot)]\n",
    "\n",
    "# Get the value counts and sort by index (alphabetically)\n",
    "defvalue_counts = filtered_df['Ref_Change_Year_1522'].value_counts().sort_index()\n",
    "\n",
    "# Plot the value counts as a bar graph\n",
    "plt.figure(figsize=(8, 6))  # Optional: Set the figure size\n",
    "defvalue_counts.plot(kind='bar', color='skyblue')\n",
    "\n",
    "\n",
    "# Set plot labels and title\n",
    "plt.xlabel('Category')\n",
    "plt.ylabel('Count')\n",
    "plt.title('# of def points per year')\n",
    "\n",
    "# Show the plot\n",
    "plt.show()"
   ]
  },
  {
   "cell_type": "markdown",
   "id": "b3c7b947-6152-49cb-90cd-a54b7f7d0e3c",
   "metadata": {},
   "source": [
    "##### plot degradation points by year"
   ]
  },
  {
   "cell_type": "code",
   "execution_count": 77,
   "id": "a0bd70ef-914e-4c48-a377-4ee31526a640",
   "metadata": {
    "tags": []
   },
   "outputs": [
    {
     "data": {
      "image/png": "[encoded data removed]",
      "text/plain": [
       "<Figure size 800x600 with 1 Axes>"
      ]
     },
     "metadata": {},
     "output_type": "display_data"
    }
   ],
   "source": [
    "#plot DEG \n",
    "#select the values you want to plot\n",
    "values_to_plot = ['Deg2016','Deg2017','Deg2018','Deg2019','Deg2020','Deg2021','Deg2022']\n",
    "\n",
    "# Filter the DataFrame to include only the selected values\n",
    "filtered_df = merged_ceo_nodup[merged_ceo_nodup['Ref_Change_Year_1522'].isin(values_to_plot)]\n",
    "\n",
    "# Get the value counts and sort by index (alphabetically)\n",
    "degvalue_counts = filtered_df['Ref_Change_Year_1522'].value_counts().sort_index()\n",
    "\n",
    "# Plot the value counts as a bar graph\n",
    "plt.figure(figsize=(8, 6))  # Optional: Set the figure size\n",
    "degvalue_counts.plot(kind='bar', color='skyblue')\n",
    "\n",
    "\n",
    "# Set plot labels and title\n",
    "plt.xlabel('Category')\n",
    "plt.ylabel('Count')\n",
    "plt.title('# of deg points per year')\n",
    "\n",
    "# Show the plot\n",
    "plt.show()"
   ]
  },
  {
   "cell_type": "code",
   "execution_count": 78,
   "id": "14fcaa3e-1f21-43b1-a4ec-671a1950134c",
   "metadata": {
    "tags": []
   },
   "outputs": [
    {
     "name": "stdout",
     "output_type": "stream",
     "text": [
      "plotid                    int64\n",
      "sampleid                  int64\n",
      "lon                     float64\n",
      "lat                     float64\n",
      "sample_geom              object\n",
      "point_id                  int64\n",
      "Ref_FNF_2015             object\n",
      "Ref_Regeneration         object\n",
      "Ref_Change_1522          object\n",
      "Ref_Change_Type_1522     object\n",
      "ArtFor                   object\n",
      "ArtMine                  object\n",
      "InfraR                   object\n",
      "Urb                      object\n",
      "IndFor                   object\n",
      "Other                    object\n",
      "Other_Desc               object\n",
      "IndMine                  object\n",
      "IndAg                    object\n",
      "ArtAg                    object\n",
      "Ref_Year                float64\n",
      "Ref_NFtype               object\n",
      "Ref_Ftype                object\n",
      "collection                int64\n",
      "interpreted               int64\n",
      "Ref_LCover               object\n",
      "Ref_Change_Year_1522     object\n",
      "Def2016                   int64\n",
      "Def2017                   int64\n",
      "Def2018                   int64\n",
      "Def2019                   int64\n",
      "Def2020                   int64\n",
      "Def2021                   int64\n",
      "Def2022                   int64\n",
      "Deg2016                   int64\n",
      "Deg2017                   int64\n",
      "Deg2018                   int64\n",
      "Deg2019                   int64\n",
      "Deg2020                   int64\n",
      "Deg2021                   int64\n",
      "Deg2022                   int64\n",
      "Defall                    int64\n",
      "Degall                    int64\n",
      "Stable                    int64\n",
      "NF                        int64\n",
      "ISO                      object\n",
      "dtype: object\n"
     ]
    }
   ],
   "source": [
    "print(merged_ceo_nodup.dtypes)"
   ]
  },
  {
   "cell_type": "code",
   "execution_count": 79,
   "id": "bdde389b",
   "metadata": {},
   "outputs": [],
   "source": [
    "columns_to_convert = ['Def2016','Def2017','Def2018','Def2019','Def2020','Def2021','Def2022','Deg2016','Deg2017','Deg2018','Deg2019','Deg2020','Deg2021','Deg2022','NF']\n",
    "merged_ceo_nodup[columns_to_convert] = merged_ceo_nodup[columns_to_convert].fillna(0)\n",
    "merged_ceo_nodup[columns_to_convert] = merged_ceo_nodup[columns_to_convert].astype(int)"
   ]
  },
  {
   "cell_type": "markdown",
   "id": "60bd0119-9d19-461b-854a-7d1345b01984",
   "metadata": {},
   "source": [
    "### 4. export ceo data to one csv file"
   ]
  },
  {
   "cell_type": "code",
   "execution_count": 80,
   "id": "a3199a69-7b32-4d91-9e59-f2daa370a714",
   "metadata": {
    "tags": []
   },
   "outputs": [],
   "source": [
    "merged_ceo_nodup.to_csv(ceo_data_out,index_label='ID')"
   ]
  },
  {
   "cell_type": "code",
   "execution_count": null,
   "id": "c134d3ca-782e-4838-abe0-3efd822a7183",
   "metadata": {},
   "outputs": [],
   "source": []
  }
 ],
 "metadata": {
  "kernelspec": {
   "display_name": "Python 3",
   "language": "python",
   "name": "python3"
  },
  "language_info": {
   "codemirror_mode": {
    "name": "ipython",
    "version": 3
   },
   "file_extension": ".py",
   "mimetype": "text/x-python",
   "name": "python",
   "nbconvert_exporter": "python",
   "pygments_lexer": "ipython3",
   "version": "3.10.12"
  }
 },
 "nbformat": 4,
 "nbformat_minor": 5
}
